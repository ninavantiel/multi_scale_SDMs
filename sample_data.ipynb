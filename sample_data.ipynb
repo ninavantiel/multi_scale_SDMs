{
 "cells": [
  {
   "cell_type": "code",
   "execution_count": 1,
   "metadata": {},
   "outputs": [],
   "source": [
    "from data.GLC23PatchesProviders import MultipleRasterPatchProvider, RasterPatchProvider, JpegPatchProvider\n",
    "from data.GLC23Datasets import PatchesDataset, PatchesDatasetMultiLabel"
   ]
  },
  {
   "cell_type": "code",
   "execution_count": 1,
   "metadata": {},
   "outputs": [
    {
     "ename": "NameError",
     "evalue": "name 'JpegPatchProvider' is not defined",
     "output_type": "error",
     "traceback": [
      "\u001b[0;31m---------------------------------------------------------------------------\u001b[0m",
      "\u001b[0;31mNameError\u001b[0m                                 Traceback (most recent call last)",
      "Cell \u001b[0;32mIn[1], line 4\u001b[0m\n\u001b[1;32m      1\u001b[0m data_path \u001b[39m=\u001b[39m \u001b[39m'\u001b[39m\u001b[39mdata/sample_data/\u001b[39m\u001b[39m'\u001b[39m \u001b[39m# root path of the data\u001b[39;00m\n\u001b[1;32m      3\u001b[0m \u001b[39m# configure providers\u001b[39;00m\n\u001b[0;32m----> 4\u001b[0m p_rgb \u001b[39m=\u001b[39m JpegPatchProvider(data_path\u001b[39m+\u001b[39m\u001b[39m'\u001b[39m\u001b[39mSatelliteImages/\u001b[39m\u001b[39m'\u001b[39m, dataset_stats\u001b[39m=\u001b[39m\u001b[39m'\u001b[39m\u001b[39mjpeg_patches_sample_stats.csv\u001b[39m\u001b[39m'\u001b[39m) \u001b[39m# take all sentinel imagery layer (4: r,g,b,nir)\u001b[39;00m\n\u001b[1;32m      5\u001b[0m p_bioclim \u001b[39m=\u001b[39m MultipleRasterPatchProvider(data_path\u001b[39m+\u001b[39m\u001b[39m'\u001b[39m\u001b[39mEnvironmentalRasters/Climate/BioClimatic_Average_1981-2010/\u001b[39m\u001b[39m'\u001b[39m) \u001b[39m# take all bioclimatic rasters (3: bio1, 2, 11)\u001b[39;00m\n\u001b[1;32m      6\u001b[0m \u001b[39m#p_soil = MultipleRasterPatchProvider(data_path+'')\u001b[39;00m\n\u001b[1;32m      7\u001b[0m \u001b[39m#p_elevation =\u001b[39;00m\n",
      "\u001b[0;31mNameError\u001b[0m: name 'JpegPatchProvider' is not defined"
     ]
    }
   ],
   "source": [
    "data_path = 'data/sample_data/' # root path of the data\n",
    "\n",
    "# configure providers\n",
    "p_rgb = JpegPatchProvider(data_path+'SatelliteImages/', dataset_stats='jpeg_patches_sample_stats.csv') # take all sentinel imagery layer (4: r,g,b,nir)\n",
    "p_bioclim = MultipleRasterPatchProvider(data_path+'EnvironmentalRasters/Climate/BioClimatic_Average_1981-2010/') # take all bioclimatic rasters (3: bio1, 2, 11)\n",
    "#p_soil = MultipleRasterPatchProvider(data_path+'')\n",
    "#p_elevation =\n",
    "p_hfp_d = MultipleRasterPatchProvider(data_path+'EnvironmentalRasters/HumanFootprint/detailed/') # take all rasters from human footprint detailed (2: built2009, lights2009)\n",
    "p_hfp_s = RasterPatchProvider(data_path+'EnvironmentalRasters/HumanFootprint/summarized/HFP2009_WGS84.tif') # take the human footprint 2009 summurized raster"
   ]
  }
 ],
 "metadata": {
  "kernelspec": {
   "display_name": "glc23",
   "language": "python",
   "name": "python3"
  },
  "language_info": {
   "codemirror_mode": {
    "name": "ipython",
    "version": 3
   },
   "file_extension": ".py",
   "mimetype": "text/x-python",
   "name": "python",
   "nbconvert_exporter": "python",
   "pygments_lexer": "ipython3",
   "version": "3.9.16"
  },
  "orig_nbformat": 4
 },
 "nbformat": 4,
 "nbformat_minor": 2
}
