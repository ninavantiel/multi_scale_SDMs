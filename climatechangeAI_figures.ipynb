{
 "cells": [
  {
   "cell_type": "code",
   "execution_count": 36,
   "metadata": {},
   "outputs": [],
   "source": [
    "# import wandb\n",
    "import torch\n",
    "import numpy as np\n",
    "import pandas as pd\n",
    "from tqdm import tqdm\n",
    "import seaborn as sns\n",
    "import matplotlib.pyplot as plt\n",
    "\n",
    "from sklearn.metrics import roc_auc_score\n",
    "# from sklearn.preprocessing import binarize\n",
    "\n",
    "\n",
    "from models import MLP\n",
    "from losses import an_full_loss, full_weighted_loss\n",
    "from data.Datasets import PatchesDatasetCooccurrences\n",
    "from data.PatchesProviders import MultipleRasterPatchProvider, RasterPatchProvider"
   ]
  },
  {
   "cell_type": "code",
   "execution_count": 2,
   "metadata": {},
   "outputs": [
    {
     "name": "stdout",
     "output_type": "stream",
     "text": [
      "DEVICE: cuda\n",
      "\n"
     ]
    }
   ],
   "source": [
    "dev = torch.device(\"cuda\" if torch.cuda.is_available() else \"cpu\")\n",
    "print(f\"DEVICE: {dev}\\n\")"
   ]
  },
  {
   "cell_type": "code",
   "execution_count": 3,
   "metadata": {},
   "outputs": [],
   "source": [
    "patch_size = 1\n",
    "flatten = True\n",
    "learning_rate = 1e-3\n",
    "n_layers = 5\n",
    "width = 1000\n",
    "n_max_low_occ = 50\n",
    "batch_size = 256\n",
    "learning_rate = 1e-3"
   ]
  },
  {
   "cell_type": "code",
   "execution_count": 4,
   "metadata": {},
   "outputs": [],
   "source": [
    "datadir = 'data/full_data/'\n",
    "po_path = datadir+'Presence_only_occurrences/Presences_only_train_sampled_100_percent_min_1_occurrences.csv' \n",
    "bg_path = datadir+'Presence_only_occurrences/Pseudoabsence_locations_bioclim_soil.csv'\n",
    "pa_path = datadir+'Presence_Absence_surveys/Presences_Absences_train.csv'\n",
    "\n",
    "bioclim_dir = datadir+'EnvironmentalRasters/Climate/BioClimatic_Average_1981-2010/'\n",
    "soil_dir = datadir+'EnvironmentalRasters/Soilgrids/'\n",
    "landcover_dir = datadir+'EnvironmentalRasters/LandCover/LandCover_MODIS_Terra-Aqua_500m.tif'"
   ]
  },
  {
   "cell_type": "code",
   "execution_count": 6,
   "metadata": {},
   "outputs": [],
   "source": [
    "p_bioclim = MultipleRasterPatchProvider(bioclim_dir, size=patch_size, flatten=flatten) \n",
    "p_soil = MultipleRasterPatchProvider(soil_dir, size=patch_size, flatten=flatten) \n",
    "p_landcover = RasterPatchProvider(landcover_dir, size=patch_size, flatten=flatten)"
   ]
  },
  {
   "cell_type": "code",
   "execution_count": 7,
   "metadata": {},
   "outputs": [
    {
     "name": "stdout",
     "output_type": "stream",
     "text": [
      "nb items = 2856818\n",
      "nb species = 2174\n",
      "nb pseudoabsences = 2856818\n",
      "\n",
      "TRAINING DATA: n_items=2856818, n_species=2174\n",
      "nb of features = 41\n",
      "nb of species with less than 50 occurrences = 468\n",
      "nb items = 7438\n",
      "nb species = 2174\n",
      "\n",
      "VALIDATION DATA: n_items=7438, n_species=2174\n"
     ]
    }
   ],
   "source": [
    "train_data = PatchesDatasetCooccurrences(occurrences=po_path, providers=(p_bioclim, p_soil, p_landcover), pseudoabsences=bg_path)\n",
    "print(f\"\\nTRAINING DATA: n_items={len(train_data)}, n_species={len(train_data.species)}\")\n",
    "\n",
    "n_features = train_data[0][0].shape[0]\n",
    "n_species = len(train_data.species)\n",
    "print(f\"nb of features = {n_features}\")\n",
    "\n",
    "low_occ_species = train_data.species_counts[train_data.species_counts <= n_max_low_occ].index\n",
    "low_occ_species_idx = np.where(np.isin(train_data.species, low_occ_species))[0]\n",
    "print(f\"nb of species with less than {n_max_low_occ} occurrences = {len(low_occ_species_idx)}\")\n",
    "\n",
    "val_data = PatchesDatasetCooccurrences(occurrences=pa_path, providers=(p_bioclim, p_soil, p_landcover), species=train_data.species)\n",
    "print(f\"\\nVALIDATION DATA: n_items={len(val_data)}, n_species={len(val_data.species)}\")"
   ]
  },
  {
   "cell_type": "code",
   "execution_count": 9,
   "metadata": {},
   "outputs": [],
   "source": [
    "species_counts = list(train_data.species_counts)"
   ]
  },
  {
   "cell_type": "code",
   "execution_count": 12,
   "metadata": {},
   "outputs": [
    {
     "data": {
      "image/png": "[encoded data removed]",
      "text/plain": [
       "<Figure size 550x250 with 1 Axes>"
      ]
     },
     "metadata": {},
     "output_type": "display_data"
    }
   ],
   "source": [
    "plt.figure(figsize=(5.5,2.5))\n",
    "sns.histplot(species_counts, bins=25, color='#6497B1')\n",
    "plt.ylabel(\"species count\")\n",
    "plt.xlabel(\"#presences\")\n",
    "plt.title(\"GeoLifeCLEF training data\")\n",
    "plt.savefig(\"figures/species_counts_geolifeclef.pdf\", bbox_inches='tight')\n",
    "plt.show()"
   ]
  },
  {
   "cell_type": "code",
   "execution_count": 31,
   "metadata": {},
   "outputs": [],
   "source": [
    "def get_results(run_name, val_data, checkpoint_to_load='last'):\n",
    "    val_loader = torch.utils.data.DataLoader(val_data, shuffle=False, batch_size=batch_size, num_workers=4)\n",
    "    model = MLP(n_features, n_species, n_layers, width).to(dev)\n",
    "    optimizer = torch.optim.SGD(model.parameters(), lr=learning_rate)\n",
    "    print('\\nLoading model checkpoint...')\n",
    "    checkpoint = torch.load(f\"models/{run_name}/{checkpoint_to_load}.pth\")\n",
    "    model.load_state_dict(checkpoint['state_dict'])\n",
    "    optimizer.load_state_dict(checkpoint['optimizer_state_dict'])\n",
    "\n",
    "    print('\\nEvaluating validation data...')\n",
    "    model.eval()\n",
    "    labels_list, y_pred_list = [], []\n",
    "    for inputs, labels in tqdm(val_loader):\n",
    "        inputs = inputs.to(torch.float32).to(dev)\n",
    "        labels = labels.to(torch.float32).to(dev)\n",
    "        labels_list.append(labels.cpu().detach().numpy())\n",
    "        y_pred = model(inputs)\n",
    "        y_pred_sigmoid = torch.sigmoid(y_pred)\n",
    "        y_pred_list.append(y_pred_sigmoid.cpu().detach().numpy())\n",
    "\n",
    "    labels = np.concatenate(labels_list)\n",
    "    y_pred = np.concatenate(y_pred_list)\n",
    "    auc_list = [roc_auc_score(labels[:,i], y_pred[:,i]) for i in range(labels.shape[1])]\n",
    "\n",
    "    return auc_list"
   ]
  },
  {
   "cell_type": "code",
   "execution_count": 33,
   "metadata": {},
   "outputs": [
    {
     "name": "stdout",
     "output_type": "stream",
     "text": [
      "\n",
      "Loading model checkpoint...\n",
      "\n",
      "Evaluating validation data...\n"
     ]
    },
    {
     "name": "stderr",
     "output_type": "stream",
     "text": [
      "100%|██████████| 30/30 [00:01<00:00, 28.17it/s]\n"
     ]
    },
    {
     "name": "stdout",
     "output_type": "stream",
     "text": [
      "\n",
      "Loading model checkpoint...\n",
      "\n",
      "Evaluating validation data...\n"
     ]
    },
    {
     "name": "stderr",
     "output_type": "stream",
     "text": [
      "100%|██████████| 30/30 [00:01<00:00, 28.23it/s]\n"
     ]
    },
    {
     "name": "stdout",
     "output_type": "stream",
     "text": [
      "\n",
      "Loading model checkpoint...\n",
      "\n",
      "Evaluating validation data...\n"
     ]
    },
    {
     "name": "stderr",
     "output_type": "stream",
     "text": [
      "100%|██████████| 30/30 [00:01<00:00, 27.06it/s]\n"
     ]
    }
   ],
   "source": [
    "results = {}\n",
    "runs = {'BCE_loss': '0201_MLP_env_1x1_bce_loss_all_PA_species',\n",
    "        'full_loss': '0201_MLP_env_1x1_an_full_loss_all_PA_species_with_pseudoabsences',\n",
    "        'weighted_loss': '0201_MLP_env_1x1_weighted_loss_05_all_PA_species_with_pseudoabsences'\n",
    "}\n",
    "for name, run_name in runs.items():\n",
    "    results[name] = get_results(run_name, val_data)"
   ]
  },
  {
   "cell_type": "code",
   "execution_count": 119,
   "metadata": {},
   "outputs": [
    {
     "data": {
      "text/html": [
       "<div>\n",
       "<style scoped>\n",
       "    .dataframe tbody tr th:only-of-type {\n",
       "        vertical-align: middle;\n",
       "    }\n",
       "\n",
       "    .dataframe tbody tr th {\n",
       "        vertical-align: top;\n",
       "    }\n",
       "\n",
       "    .dataframe thead th {\n",
       "        text-align: right;\n",
       "    }\n",
       "</style>\n",
       "<table border=\"1\" class=\"dataframe\">\n",
       "  <thead>\n",
       "    <tr style=\"text-align: right;\">\n",
       "      <th></th>\n",
       "      <th>BCE_loss</th>\n",
       "      <th>full_loss</th>\n",
       "      <th>weighted_loss</th>\n",
       "      <th>num_presences</th>\n",
       "    </tr>\n",
       "  </thead>\n",
       "  <tbody>\n",
       "    <tr>\n",
       "      <th>0</th>\n",
       "      <td>0.325510</td>\n",
       "      <td>0.942233</td>\n",
       "      <td>0.958821</td>\n",
       "      <td>2261</td>\n",
       "    </tr>\n",
       "    <tr>\n",
       "      <th>1</th>\n",
       "      <td>0.321852</td>\n",
       "      <td>0.641626</td>\n",
       "      <td>0.687385</td>\n",
       "      <td>4529</td>\n",
       "    </tr>\n",
       "    <tr>\n",
       "      <th>2</th>\n",
       "      <td>0.370981</td>\n",
       "      <td>0.938100</td>\n",
       "      <td>0.940468</td>\n",
       "      <td>2162</td>\n",
       "    </tr>\n",
       "    <tr>\n",
       "      <th>3</th>\n",
       "      <td>0.534086</td>\n",
       "      <td>0.668044</td>\n",
       "      <td>0.666231</td>\n",
       "      <td>4508</td>\n",
       "    </tr>\n",
       "    <tr>\n",
       "      <th>4</th>\n",
       "      <td>0.434349</td>\n",
       "      <td>0.808725</td>\n",
       "      <td>0.829301</td>\n",
       "      <td>4539</td>\n",
       "    </tr>\n",
       "    <tr>\n",
       "      <th>...</th>\n",
       "      <td>...</td>\n",
       "      <td>...</td>\n",
       "      <td>...</td>\n",
       "      <td>...</td>\n",
       "    </tr>\n",
       "    <tr>\n",
       "      <th>2169</th>\n",
       "      <td>0.167003</td>\n",
       "      <td>0.913114</td>\n",
       "      <td>0.935665</td>\n",
       "      <td>204</td>\n",
       "    </tr>\n",
       "    <tr>\n",
       "      <th>2170</th>\n",
       "      <td>0.701761</td>\n",
       "      <td>0.799381</td>\n",
       "      <td>0.062122</td>\n",
       "      <td>20</td>\n",
       "    </tr>\n",
       "    <tr>\n",
       "      <th>2171</th>\n",
       "      <td>0.458283</td>\n",
       "      <td>0.467925</td>\n",
       "      <td>0.537498</td>\n",
       "      <td>110</td>\n",
       "    </tr>\n",
       "    <tr>\n",
       "      <th>2172</th>\n",
       "      <td>0.749361</td>\n",
       "      <td>0.944332</td>\n",
       "      <td>0.989781</td>\n",
       "      <td>10</td>\n",
       "    </tr>\n",
       "    <tr>\n",
       "      <th>2173</th>\n",
       "      <td>0.406062</td>\n",
       "      <td>0.762794</td>\n",
       "      <td>0.728770</td>\n",
       "      <td>2944</td>\n",
       "    </tr>\n",
       "  </tbody>\n",
       "</table>\n",
       "<p>2174 rows × 4 columns</p>\n",
       "</div>"
      ],
      "text/plain": [
       "      BCE_loss  full_loss  weighted_loss  num_presences\n",
       "0     0.325510   0.942233       0.958821           2261\n",
       "1     0.321852   0.641626       0.687385           4529\n",
       "2     0.370981   0.938100       0.940468           2162\n",
       "3     0.534086   0.668044       0.666231           4508\n",
       "4     0.434349   0.808725       0.829301           4539\n",
       "...        ...        ...            ...            ...\n",
       "2169  0.167003   0.913114       0.935665            204\n",
       "2170  0.701761   0.799381       0.062122             20\n",
       "2171  0.458283   0.467925       0.537498            110\n",
       "2172  0.749361   0.944332       0.989781             10\n",
       "2173  0.406062   0.762794       0.728770           2944\n",
       "\n",
       "[2174 rows x 4 columns]"
      ]
     },
     "execution_count": 119,
     "metadata": {},
     "output_type": "execute_result"
    }
   ],
   "source": [
    "results_geolifeclef = pd.DataFrame(results)\n",
    "results_geolifeclef['num_presences'] = train_data.species_counts.values\n",
    "results_geolifeclef"
   ]
  },
  {
   "cell_type": "code",
   "execution_count": 122,
   "metadata": {},
   "outputs": [],
   "source": [
    "results_geolifeclef.to_csv('figures/geolifeclef_auc_results.csv',index=False)"
   ]
  },
  {
   "cell_type": "code",
   "execution_count": 107,
   "metadata": {},
   "outputs": [
    {
     "name": "stdout",
     "output_type": "stream",
     "text": [
      "num_presences_cat\n",
      "(1, 50]         422\n",
      "(50, 500]       536\n",
      "(500, 3000]     569\n",
      "(3000, 4600]    601\n",
      "Name: BCE_loss, dtype: int64\n"
     ]
    },
    {
     "data": {
      "text/html": [
       "<div>\n",
       "<style scoped>\n",
       "    .dataframe tbody tr th:only-of-type {\n",
       "        vertical-align: middle;\n",
       "    }\n",
       "\n",
       "    .dataframe tbody tr th {\n",
       "        vertical-align: top;\n",
       "    }\n",
       "\n",
       "    .dataframe thead th {\n",
       "        text-align: right;\n",
       "    }\n",
       "</style>\n",
       "<table border=\"1\" class=\"dataframe\">\n",
       "  <thead>\n",
       "    <tr style=\"text-align: right;\">\n",
       "      <th></th>\n",
       "      <th>num_presences</th>\n",
       "      <th>num_presences_cat</th>\n",
       "      <th>loss</th>\n",
       "      <th>AUC</th>\n",
       "    </tr>\n",
       "  </thead>\n",
       "  <tbody>\n",
       "    <tr>\n",
       "      <th>0</th>\n",
       "      <td>2261</td>\n",
       "      <td>(500, 3000]</td>\n",
       "      <td>BCE_loss</td>\n",
       "      <td>0.325510</td>\n",
       "    </tr>\n",
       "    <tr>\n",
       "      <th>1</th>\n",
       "      <td>4529</td>\n",
       "      <td>(3000, 4600]</td>\n",
       "      <td>BCE_loss</td>\n",
       "      <td>0.321852</td>\n",
       "    </tr>\n",
       "    <tr>\n",
       "      <th>2</th>\n",
       "      <td>2162</td>\n",
       "      <td>(500, 3000]</td>\n",
       "      <td>BCE_loss</td>\n",
       "      <td>0.370981</td>\n",
       "    </tr>\n",
       "    <tr>\n",
       "      <th>3</th>\n",
       "      <td>4508</td>\n",
       "      <td>(3000, 4600]</td>\n",
       "      <td>BCE_loss</td>\n",
       "      <td>0.534086</td>\n",
       "    </tr>\n",
       "    <tr>\n",
       "      <th>4</th>\n",
       "      <td>4539</td>\n",
       "      <td>(3000, 4600]</td>\n",
       "      <td>BCE_loss</td>\n",
       "      <td>0.434349</td>\n",
       "    </tr>\n",
       "    <tr>\n",
       "      <th>...</th>\n",
       "      <td>...</td>\n",
       "      <td>...</td>\n",
       "      <td>...</td>\n",
       "      <td>...</td>\n",
       "    </tr>\n",
       "    <tr>\n",
       "      <th>6517</th>\n",
       "      <td>204</td>\n",
       "      <td>(50, 500]</td>\n",
       "      <td>weighted_loss</td>\n",
       "      <td>0.935665</td>\n",
       "    </tr>\n",
       "    <tr>\n",
       "      <th>6518</th>\n",
       "      <td>20</td>\n",
       "      <td>(1, 50]</td>\n",
       "      <td>weighted_loss</td>\n",
       "      <td>0.062122</td>\n",
       "    </tr>\n",
       "    <tr>\n",
       "      <th>6519</th>\n",
       "      <td>110</td>\n",
       "      <td>(50, 500]</td>\n",
       "      <td>weighted_loss</td>\n",
       "      <td>0.537498</td>\n",
       "    </tr>\n",
       "    <tr>\n",
       "      <th>6520</th>\n",
       "      <td>10</td>\n",
       "      <td>(1, 50]</td>\n",
       "      <td>weighted_loss</td>\n",
       "      <td>0.989781</td>\n",
       "    </tr>\n",
       "    <tr>\n",
       "      <th>6521</th>\n",
       "      <td>2944</td>\n",
       "      <td>(500, 3000]</td>\n",
       "      <td>weighted_loss</td>\n",
       "      <td>0.728770</td>\n",
       "    </tr>\n",
       "  </tbody>\n",
       "</table>\n",
       "<p>6522 rows × 4 columns</p>\n",
       "</div>"
      ],
      "text/plain": [
       "      num_presences num_presences_cat           loss       AUC\n",
       "0              2261       (500, 3000]       BCE_loss  0.325510\n",
       "1              4529      (3000, 4600]       BCE_loss  0.321852\n",
       "2              2162       (500, 3000]       BCE_loss  0.370981\n",
       "3              4508      (3000, 4600]       BCE_loss  0.534086\n",
       "4              4539      (3000, 4600]       BCE_loss  0.434349\n",
       "...             ...               ...            ...       ...\n",
       "6517            204         (50, 500]  weighted_loss  0.935665\n",
       "6518             20           (1, 50]  weighted_loss  0.062122\n",
       "6519            110         (50, 500]  weighted_loss  0.537498\n",
       "6520             10           (1, 50]  weighted_loss  0.989781\n",
       "6521           2944       (500, 3000]  weighted_loss  0.728770\n",
       "\n",
       "[6522 rows x 4 columns]"
      ]
     },
     "execution_count": 107,
     "metadata": {},
     "output_type": "execute_result"
    }
   ],
   "source": [
    "results_geolifeclef['num_presences_cat'] = pd.cut(results_geolifeclef['num_presences'], [1, 50, 500, 3000, 4600]) \n",
    "print(results_geolifeclef.groupby('num_presences_cat').count().BCE_loss)\n",
    "results_geolifeclef = pd.melt(results_geolifeclef, value_vars=[\"BCE_loss\", \"full_loss\", \"weighted_loss\"], id_vars=[\"num_presences\", \"num_presences_cat\"], var_name='loss', value_name='AUC')\n",
    "results_geolifeclef"
   ]
  },
  {
   "cell_type": "code",
   "execution_count": 117,
   "metadata": {},
   "outputs": [
    {
     "data": {
      "image/png": "[encoded data removed]",
      "text/plain": [
       "<Figure size 600x350 with 1 Axes>"
      ]
     },
     "metadata": {},
     "output_type": "display_data"
    }
   ],
   "source": [
    "sns.set_style('whitegrid')\n",
    "figure, axis = plt.subplots(1, 1, figsize=(6,3.5))\n",
    "sns.boxplot(data=results_geolifeclef, x=\"num_presences_cat\", y=\"AUC\", hue=\"loss\", ax=axis, palette=[sns.color_palette(\"Set3\")[2], sns.color_palette(\"Set3\")[10], sns.color_palette(\"Set3\")[4]])\n",
    "axis.get_legend().set_visible(False)\n",
    "axis.set_ylabel(\"AUC\")\n",
    "axis.set_xlabel(\"#presences\")\n",
    "medians = [1, 1, 1, 1]\n",
    "nobs = results_geolifeclef.groupby('num_presences_cat').count().loss/3\n",
    "nobs = [str(int(x)) for x in nobs.tolist()]\n",
    "nobs = nobs = [i + \" species\" for i in nobs]#[\"#species: \" + i for i in nobs]\n",
    " \n",
    "pos = range(len(nobs))\n",
    "for tick,label in zip(pos,axis.get_xticklabels()):\n",
    "    axis.text(pos[tick],\n",
    "            medians[tick] + 0.006,\n",
    "            nobs[tick],\n",
    "            horizontalalignment='center',\n",
    "            size='small', weight='semibold')\n",
    "plt.title(\"GeoLifeCLEF\")\n",
    "plt.savefig(\"figures/results_geolifeclef.pdf\", bbox_inches=\"tight\")\n",
    "plt.show()\n",
    "sns.set_style('white')"
   ]
  }
 ],
 "metadata": {
  "kernelspec": {
   "display_name": "glc23",
   "language": "python",
   "name": "python3"
  },
  "language_info": {
   "codemirror_mode": {
    "name": "ipython",
    "version": 3
   },
   "file_extension": ".py",
   "mimetype": "text/x-python",
   "name": "python",
   "nbconvert_exporter": "python",
   "pygments_lexer": "ipython3",
   "version": "3.9.16"
  }
 },
 "nbformat": 4,
 "nbformat_minor": 2
}
