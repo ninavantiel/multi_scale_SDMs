{
 "cells": [
  {
   "cell_type": "code",
   "execution_count": 25,
   "metadata": {},
   "outputs": [],
   "source": [
    "import wandb\n",
    "import torch\n",
    "# import numpy as np\n",
    "# import pandas as pd\n",
    "# from tqdm import tqdm\n",
    "# import seaborn as sns\n",
    "# import matplotlib.pyplot as plt\n",
    "# import wandb\n",
    "\n",
    "# from sklearn.metrics import roc_auc_score, confusion_matrix\n",
    "# from sklearn.preprocessing import binarize\n",
    "\n",
    "\n",
    "# from models import MLP\n",
    "from data.Datasets import PatchesDatasetCooccurrences\n",
    "from data.PatchesProviders import MultipleRasterPatchProvider, RasterPatchProvider"
   ]
  },
  {
   "cell_type": "code",
   "execution_count": 22,
   "metadata": {},
   "outputs": [
    {
     "name": "stdout",
     "output_type": "stream",
     "text": [
      "DEVICE: cuda\n",
      "\n"
     ]
    }
   ],
   "source": [
    "dev = torch.device(\"cuda\" if torch.cuda.is_available() else \"cpu\")\n",
    "print(f\"DEVICE: {dev}\\n\")"
   ]
  },
  {
   "cell_type": "code",
   "execution_count": 33,
   "metadata": {},
   "outputs": [],
   "source": [
    "wandb_entity='deephsm'\n",
    "wandb_project='spatial_extent_glc23_v2'\n",
    "wandb_id='kwkglhrl'\n",
    "wandb_config = wandb.api.run_config(entity=wandb_entity, project=wandb_project, run=wandb_id)[1]\n",
    "\n",
    "run_name = '0129_MLP_env_1x1_an_full_loss'"
   ]
  },
  {
   "cell_type": "code",
   "execution_count": 19,
   "metadata": {},
   "outputs": [],
   "source": [
    "# patch_size = wandb_config['env_patch_size']['value']\n",
    "# flatten = True\n",
    "# learning_rate = wandb_config['lr']['value']\n",
    "# n_layers = wandb_config['n_layers']['value']\n",
    "# width = wandb_config['width']['value']\n",
    "patch_size = 1\n",
    "flatten = True\n",
    "learning_rate = 1e-3\n",
    "n_layers = 5\n",
    "width = 1000"
   ]
  },
  {
   "cell_type": "code",
   "execution_count": 23,
   "metadata": {},
   "outputs": [],
   "source": [
    "datadir = 'data/full_data/'\n",
    "bioclim_dir = datadir+'EnvironmentalRasters/Climate/BioClimatic_Average_1981-2010/'\n",
    "soil_dir = datadir+'EnvironmentalRasters/Soilgrids/'\n",
    "landcover_dir = datadir+'EnvironmentalRasters/LandCover/LandCover_MODIS_Terra-Aqua_500m.tif'\n",
    "po_path = datadir+'Presence_only_occurrences/Presences_only_train_sampled_10_percent_min_100_occurrences.csv' #Presences_only_train_sampled_25_percent_min_10_occurrences.csv'\n",
    "pa_path = datadir+'Presence_Absence_surveys/Presences_Absences_train.csv'"
   ]
  },
  {
   "cell_type": "code",
   "execution_count": 27,
   "metadata": {},
   "outputs": [],
   "source": [
    "p_bioclim = MultipleRasterPatchProvider(bioclim_dir, size=patch_size, flatten=flatten) \n",
    "p_soil = MultipleRasterPatchProvider(soil_dir, size=patch_size, flatten=flatten) \n",
    "p_landcover = RasterPatchProvider(landcover_dir, size=patch_size, flatten=flatten)"
   ]
  },
  {
   "cell_type": "code",
   "execution_count": 28,
   "metadata": {},
   "outputs": [
    {
     "name": "stdout",
     "output_type": "stream",
     "text": [
      "\n",
      "TRAINING DATA: n_items=311172, n_species=970\n",
      "nb of features = 41\n",
      "\n",
      "VALIDATION DATA: n_items=7438, n_species=970\n"
     ]
    }
   ],
   "source": [
    "train_data = PatchesDatasetCooccurrences(occurrences=po_path, providers=(p_bioclim, p_soil, p_landcover))\n",
    "print(f\"\\nTRAINING DATA: n_items={len(train_data)}, n_species={len(train_data.species)}\")\n",
    "\n",
    "n_features = train_data[0][0].shape[0]\n",
    "n_species = len(train_data.species)\n",
    "print(f\"nb of features = {n_features}\")\n",
    "\n",
    "val_data = PatchesDatasetCooccurrences(occurrences=pa_path, providers=(p_bioclim, p_soil, p_landcover), species=train_data.species)\n",
    "print(f\"\\nVALIDATION DATA: n_items={len(val_data)}, n_species={len(val_data.species)}\")"
   ]
  },
  {
   "cell_type": "code",
   "execution_count": 34,
   "metadata": {},
   "outputs": [
    {
     "data": {
      "text/plain": [
       "63"
      ]
     },
     "execution_count": 34,
     "metadata": {},
     "output_type": "execute_result"
    }
   ],
   "source": [
    "checkpoint = torch.load(f\"models/{run_name}/best_val_loss.pth\")\n",
    "best_val_loss_epoch = checkpoint['epoch']\n",
    "best_val_loss_epoch"
   ]
  },
  {
   "cell_type": "code",
   "execution_count": 8,
   "metadata": {},
   "outputs": [],
   "source": [
    "model = MLP(n_features, n_species, n_layers, width).to(dev)\n",
    "model.load_state_dict(checkpoint['state_dict'])\n",
    "optimizer = torch.optim.SGD(model.parameters(), lr=learning_rate)\n",
    "optimizer.load_state_dict(checkpoint['optimizer_state_dict'])"
   ]
  },
  {
   "cell_type": "code",
   "execution_count": 9,
   "metadata": {},
   "outputs": [
    {
     "name": "stderr",
     "output_type": "stream",
     "text": [
      "100%|██████████| 69/69 [00:54<00:00,  1.26it/s]\n"
     ]
    }
   ],
   "source": [
    "model.eval()\n",
    "val_loader = torch.utils.data.DataLoader(val_data, shuffle=False, batch_size=1024, num_workers=8)\n",
    "labels_list, y_pred_list = [], []\n",
    "\n",
    "for inputs, labels in tqdm(val_loader):\n",
    "    inputs = inputs.to(torch.float32).to(dev)\n",
    "    labels = labels.to(torch.float32).to(dev)\n",
    "    labels_list.append(labels.cpu().detach().numpy())\n",
    "\n",
    "    y_pred = model(inputs)\n",
    "    y_pred_sigmoid = torch.sigmoid(y_pred)\n",
    "    y_pred_list.append(y_pred_sigmoid.cpu().detach().numpy())\n",
    "\n",
    "labels = np.concatenate(labels_list)\n",
    "y_pred = np.concatenate(y_pred_list)"
   ]
  },
  {
   "cell_type": "code",
   "execution_count": 37,
   "metadata": {},
   "outputs": [
    {
     "name": "stderr",
     "output_type": "stream",
     "text": [
      "  0%|          | 0/69 [00:15<?, ?it/s]\n"
     ]
    }
   ],
   "source": [
    "for inputs, labels in tqdm(val_loader):\n",
    "    inputs = inputs.to(torch.float32).to(dev)\n",
    "    labels = labels.to(torch.float32).to(dev)\n",
    "    labels_list.append(labels.cpu().detach().numpy())\n",
    "\n",
    "    y_pred = model(inputs)\n",
    "    break"
   ]
  },
  {
   "cell_type": "code",
   "execution_count": 43,
   "metadata": {},
   "outputs": [
    {
     "data": {
      "text/plain": [
       "tensor(0.1052, device='cuda:0',\n",
       "       grad_fn=<BinaryCrossEntropyWithLogitsBackward0>)"
      ]
     },
     "execution_count": 43,
     "metadata": {},
     "output_type": "execute_result"
    }
   ],
   "source": [
    "loss_fn = torch.nn.BCEWithLogitsLoss()\n",
    "loss_fn(y_pred, labels)"
   ]
  },
  {
   "cell_type": "code",
   "execution_count": 44,
   "metadata": {},
   "outputs": [],
   "source": [
    "def log_loss(pred):\n",
    "    return -torch.log(pred + 1e-5)"
   ]
  },
  {
   "cell_type": "code",
   "execution_count": 82,
   "metadata": {},
   "outputs": [
    {
     "data": {
      "text/plain": [
       "1024"
      ]
     },
     "execution_count": 82,
     "metadata": {},
     "output_type": "execute_result"
    }
   ],
   "source": [
    "y_pred_sigmoid.size(0)"
   ]
  },
  {
   "cell_type": "code",
   "execution_count": 78,
   "metadata": {},
   "outputs": [
    {
     "name": "stdout",
     "output_type": "stream",
     "text": [
      "tensor(83.4760, device='cuda:0', grad_fn=<MeanBackward0>)\n",
      "tensor(0.0152, device='cuda:0', grad_fn=<MeanBackward0>)\n",
      "tensor(83.4912, device='cuda:0', grad_fn=<AddBackward0>)\n"
     ]
    }
   ],
   "source": [
    "y_pred_sigmoid = torch.sigmoid(y_pred)\n",
    "batch_size = 1024\n",
    "\n",
    "\n",
    "\n",
    "loss_dl_pos = (log_loss(y_pred_sigmoid) * labels * species_weights.repeat((batch_size, 1))).mean()\n",
    "loss_dl_neg = (log_loss(1 - y_pred_sigmoid) * (1 - labels) * (species_weights/(species_weights - 1)).repeat((batch_size, 1))).mean() \n",
    "print(loss_dl_pos)\n",
    "print(loss_dl_neg)\n",
    "print(loss_dl_neg+loss_dl_pos)\n",
    "    "
   ]
  },
  {
   "cell_type": "code",
   "execution_count": 10,
   "metadata": {},
   "outputs": [
    {
     "data": {
      "text/plain": [
       "(70594, 970)"
      ]
     },
     "execution_count": 10,
     "metadata": {},
     "output_type": "execute_result"
    }
   ],
   "source": [
    "labels.shape"
   ]
  },
  {
   "cell_type": "code",
   "execution_count": 11,
   "metadata": {},
   "outputs": [
    {
     "data": {
      "text/plain": [
       "(70594, 970)"
      ]
     },
     "execution_count": 11,
     "metadata": {},
     "output_type": "execute_result"
    }
   ],
   "source": [
    "y_pred.shape"
   ]
  },
  {
   "cell_type": "code",
   "execution_count": 15,
   "metadata": {},
   "outputs": [
    {
     "data": {
      "text/plain": [
       "1166710.0"
      ]
     },
     "execution_count": 15,
     "metadata": {},
     "output_type": "execute_result"
    }
   ],
   "source": [
    "np.sum(labels)"
   ]
  },
  {
   "cell_type": "code",
   "execution_count": 36,
   "metadata": {},
   "outputs": [
    {
     "name": "stdout",
     "output_type": "stream",
     "text": [
      "0.01\n",
      ".... f1 =  0.03514620632302868\n",
      "0.03\n",
      ".... f1 =  0.002722488766607361\n",
      "0.07\n",
      ".... f1 =  0.0014414951872067973\n"
     ]
    }
   ],
   "source": [
    "f1_list = []\n",
    "for thresh in [0.01, 0.03, 0.07]:\n",
    "    print(thresh)\n",
    "    y_pred_bin = binarize(y_pred, threshold=thresh)\n",
    "    f1_sum = 0\n",
    "    for i in range(labels.shape[0]):\n",
    "        tn, fp, fn, tp = confusion_matrix(labels[i,:], y_pred_bin[i,:]).ravel()\n",
    "        f1 = tp / (tp + ((fp+fn)/2))\n",
    "        f1_sum += f1\n",
    "    f1_mean = f1_sum / labels.shape[0]\n",
    "    print('.... f1 = ', f1_mean)\n",
    "    f1_list.append(f1_mean)\n",
    "\n",
    "# 0.01 .... f1 =  0.03514620632302868\n",
    "# 0.03 .... f1 =  0.002722488766607361\n",
    "# 0.05 .... f1 =  0.0017644476450584833\n",
    "# 0.07 .... f1 =  0.0014414951872067973\n",
    "# 0.1  .... f1 =  0.0010351030798469321"
   ]
  },
  {
   "cell_type": "code",
   "execution_count": 19,
   "metadata": {},
   "outputs": [],
   "source": [
    "y_pred_bin = binarize(y_pred, threshold=0.1)"
   ]
  },
  {
   "cell_type": "code",
   "execution_count": 31,
   "metadata": {},
   "outputs": [
    {
     "name": "stdout",
     "output_type": "stream",
     "text": [
      "0.0010351030798469321\n"
     ]
    }
   ],
   "source": [
    "f1_sum = 0\n",
    "for i in range(labels.shape[0]):\n",
    "    tn, fp, fn, tp = confusion_matrix(labels[i,:], y_pred_bin[i,:]).ravel()\n",
    "    f1 = tp / (tp + ((fp+fn)/2))\n",
    "    f1_sum += f1\n",
    "f1_mean = f1_sum / labels.shape[0]\n",
    "print(f1_mean)"
   ]
  },
  {
   "cell_type": "code",
   "execution_count": 113,
   "metadata": {},
   "outputs": [],
   "source": [
    "auc_list = []\n",
    "for i in range(labels.shape[1]):\n",
    "    auc_list.append(roc_auc_score(labels[:,i], y_pred[:,i]))"
   ]
  },
  {
   "cell_type": "code",
   "execution_count": 114,
   "metadata": {},
   "outputs": [
    {
     "data": {
      "text/plain": [
       "(array([ 11.,  15.,  12.,  12.,  19.,  23.,  49.,  68.,  88., 106., 107.,\n",
       "         91.,  86.,  74.,  62.,  53.,  40.,  19.,  21.,  14.]),\n",
       " array([0.00592261, 0.05519899, 0.10447537, 0.15375175, 0.20302813,\n",
       "        0.25230451, 0.30158089, 0.35085727, 0.40013365, 0.44941003,\n",
       "        0.49868641, 0.54796279, 0.59723917, 0.64651555, 0.69579193,\n",
       "        0.74506831, 0.79434469, 0.84362106, 0.89289744, 0.94217382,\n",
       "        0.9914502 ]),\n",
       " <BarContainer object of 20 artists>)"
      ]
     },
     "execution_count": 114,
     "metadata": {},
     "output_type": "execute_result"
    },
    {
     "data": {
      "image/png": "[encoded data removed]",
      "text/plain": [
       "<Figure size 640x480 with 1 Axes>"
      ]
     },
     "metadata": {},
     "output_type": "display_data"
    }
   ],
   "source": [
    "plt.hist(auc_list, bins=20)"
   ]
  },
  {
   "cell_type": "code",
   "execution_count": 115,
   "metadata": {},
   "outputs": [],
   "source": [
    "po_data = pd.read_csv(po_path, sep=\";\", header='infer', low_memory=False)"
   ]
  },
  {
   "cell_type": "code",
   "execution_count": 116,
   "metadata": {},
   "outputs": [
    {
     "data": {
      "text/plain": [
       "array([237, 425, 224, 437, 500, 141, 415, 439, 441, 102, 110, 185, 444,\n",
       "       112, 276, 454, 100, 156, 466, 444, 456, 436, 319, 213, 117, 151,\n",
       "       492, 298, 479, 348, 431, 148, 101, 129, 437, 143, 458, 276, 448,\n",
       "       315, 445, 488, 458, 173, 115, 436, 130, 493, 452, 425, 241, 292,\n",
       "       226, 456, 440, 439, 455, 458, 464, 442, 187, 451, 111, 446, 437,\n",
       "       104, 156, 430, 235, 472, 429, 416, 444, 455, 467, 450, 470, 464,\n",
       "       461, 441, 450, 325, 481, 298, 146, 426, 467, 108, 115, 118, 129,\n",
       "       483, 451, 481, 462, 443, 418, 458, 190, 461, 406, 464, 467, 161,\n",
       "       463, 460, 445, 423, 434, 124, 445, 444, 240, 435, 406, 173, 161,\n",
       "       408, 446, 284, 444, 147, 273, 465, 127, 382, 317, 124, 189, 471,\n",
       "       424, 475, 130, 232, 109, 323, 126, 404, 377, 260, 412, 423, 463,\n",
       "       248, 128, 436, 422, 380, 452, 127, 335, 437, 419, 195, 437, 472,\n",
       "       428, 429, 150, 450, 458, 428, 157, 252, 426, 439, 129, 438, 444,\n",
       "       145, 446, 445, 359, 301, 140, 310, 461, 116, 221, 467, 141, 215,\n",
       "       242, 195, 473, 450, 410, 173, 442, 307, 429, 103, 441, 343, 427,\n",
       "       431, 458, 116, 134, 454, 252, 150, 471, 174, 235, 157, 455, 446,\n",
       "       129, 391, 468, 466, 219, 448, 366, 251, 128, 160, 510, 461, 471,\n",
       "       461, 147, 427, 480, 451, 442, 290, 434, 442, 306, 429, 270, 154,\n",
       "       467, 179, 439, 453, 436, 206, 458, 142, 152, 185, 470, 154, 235,\n",
       "       178, 295, 126, 480, 243, 459, 467, 268, 358, 440, 119, 486, 269,\n",
       "       459, 463, 428, 242, 307, 446, 484, 419, 428, 422, 437, 463, 155,\n",
       "       448, 213, 109, 437, 445, 324, 445, 445, 327, 438, 416, 185, 433,\n",
       "       447, 424, 470, 286, 442, 458, 461, 222, 456, 462, 429, 478, 196,\n",
       "       407, 439, 100, 182, 196, 240, 313, 429, 484, 324, 464, 166, 460,\n",
       "       442, 212, 193, 444, 346, 263, 446, 430, 420, 467, 229, 418, 117,\n",
       "       369, 439, 106, 449, 448, 116, 128, 146, 297, 119, 440, 145, 448,\n",
       "       147, 196, 304, 150, 473, 322, 452, 140, 415, 422, 253, 472, 437,\n",
       "       325, 446, 420, 120, 287, 376, 418, 277, 120, 190, 110, 422, 404,\n",
       "       364, 259, 171, 435, 461, 470, 442, 428, 168, 471, 339, 453, 178,\n",
       "       489, 271, 443, 130, 179, 318, 278, 426, 154, 492, 302, 433, 473,\n",
       "       488, 133, 198, 457, 466, 472, 427, 466, 472, 340, 289, 456, 502,\n",
       "       414, 207, 375, 164, 470, 225, 156, 470, 141, 124, 189, 386, 466,\n",
       "       235, 433, 491, 465, 438, 484, 429, 109, 204, 288, 256, 301, 215,\n",
       "       248, 374, 152, 438, 274, 258, 455, 440, 472, 483, 474, 120, 399,\n",
       "       452, 116, 306, 194, 466, 108, 195, 429, 484, 175, 462, 450, 426,\n",
       "       175, 439, 241, 477, 479, 434, 458, 122, 435, 390, 125, 132, 459,\n",
       "       139, 473, 429, 320, 403, 437, 159, 438, 158, 401, 449, 265, 454,\n",
       "       234, 299, 159, 445, 467, 467, 423, 446, 402, 134, 428, 406, 389,\n",
       "       197, 271, 246, 332, 449, 120, 440, 189, 384, 477, 203, 239, 467,\n",
       "       418, 208, 184, 486, 493, 418, 399, 101, 440, 425, 329, 374, 463,\n",
       "       430, 213, 110, 212, 229, 263, 232, 440, 157, 481, 471, 443, 121,\n",
       "       476, 104, 123, 442, 265, 442, 497, 477, 408, 245, 263, 451, 483,\n",
       "       376, 469, 423, 444, 467, 453, 194, 434, 255, 434, 204, 455, 306,\n",
       "       180, 260, 284, 170, 442, 447, 245, 129, 449, 111, 452, 114, 350,\n",
       "       216, 468, 358, 224, 463, 462, 309, 183, 474, 475, 447, 160, 439,\n",
       "       410, 459, 137, 332, 369, 463, 479, 383, 452, 105, 479, 363, 445,\n",
       "       268, 496, 455, 450, 189, 226, 229, 462, 252, 404, 116, 114, 262,\n",
       "       500, 272, 107, 465, 464, 127, 410, 222, 447, 154, 463, 459, 247,\n",
       "       472, 219, 182, 437, 315, 474, 433, 363, 264, 161, 447, 432, 114,\n",
       "       445, 296, 430, 296, 118, 133, 336, 274, 439, 438, 375, 388, 460,\n",
       "       308, 158, 450, 192, 467, 111, 485, 444, 410, 437, 111, 479, 427,\n",
       "       438, 465, 268, 348, 295, 452, 444, 240, 454, 481, 298, 250, 457,\n",
       "       446, 438, 425, 465, 263, 126, 134, 457, 229, 197, 455, 204, 299,\n",
       "       327, 132, 440, 138, 304, 452, 370, 407, 123, 448, 461, 446, 104,\n",
       "       192, 459, 449, 137, 459, 123, 449, 243, 147, 346, 454, 105, 102,\n",
       "       248, 461, 431, 376, 342, 121, 143, 465, 154, 473, 431, 370, 128,\n",
       "       225, 284, 115, 197, 475, 224, 468, 456, 258, 163, 133, 420, 397,\n",
       "       399, 473, 479, 108, 460, 465, 444, 103, 250, 507, 184, 469, 426,\n",
       "       468, 118, 318, 444, 276, 253, 405, 455, 270, 276, 436, 321, 145,\n",
       "       453, 460, 319, 371, 275, 436, 184, 402, 251, 439, 450, 119, 447,\n",
       "       471, 309, 496, 464, 115, 455, 358, 246, 271, 430, 138, 424, 287,\n",
       "       372, 455, 133, 356, 460, 391, 432, 140, 502, 232, 447, 419, 466,\n",
       "       189, 483, 471, 477, 185, 246, 487, 144, 129, 373, 449, 355, 428,\n",
       "       118, 457, 419, 449, 229, 107, 481, 435, 482, 140, 202, 112, 278,\n",
       "       380, 377, 144, 487, 228, 338, 273, 300, 411, 447, 454, 452, 471,\n",
       "       473, 454, 414, 444, 154, 194, 435, 415, 465, 438, 397, 446, 445,\n",
       "       450, 475, 320, 268, 444, 156, 423, 455, 429, 465, 328, 193, 465,\n",
       "       213, 424, 480, 451, 480, 262, 393, 273, 464, 353, 449, 114, 204,\n",
       "       249, 460, 133, 471, 359, 387, 461, 308, 103, 352, 226, 432, 422,\n",
       "       364, 497, 147, 494, 159, 468, 102, 220, 328, 464, 269, 468, 464,\n",
       "       462, 414, 131, 457, 242, 413, 486, 189, 109, 461, 344, 460, 206,\n",
       "       480, 132, 198, 130, 452, 285, 119, 441, 426, 435, 468, 486, 440,\n",
       "       287, 485, 102, 351, 209, 453, 298, 415, 140, 426, 402, 490, 108,\n",
       "       355, 273, 463, 432, 473, 426, 319, 441, 454, 435, 438, 318, 312,\n",
       "       174, 360, 426, 184, 436, 440, 408, 260])"
      ]
     },
     "execution_count": 116,
     "metadata": {},
     "output_type": "execute_result"
    }
   ],
   "source": [
    "species_counts = po_data.drop_duplicates(['speciesId','lat','lon','patchID','dayOfYear']).groupby('speciesId')[['glcID']].nunique()['glcID'].values\n",
    "species_counts"
   ]
  },
  {
   "cell_type": "code",
   "execution_count": 117,
   "metadata": {},
   "outputs": [
    {
     "data": {
      "text/plain": [
       "<matplotlib.collections.PathCollection at 0x7fdd6e328d30>"
      ]
     },
     "execution_count": 117,
     "metadata": {},
     "output_type": "execute_result"
    },
    {
     "data": {
      "image/png": "[encoded data removed]",
      "text/plain": [
       "<Figure size 640x480 with 1 Axes>"
      ]
     },
     "metadata": {},
     "output_type": "display_data"
    }
   ],
   "source": [
    "plt.scatter(species_counts, auc_list, s=5)\n",
    "# plt.hist2d(species_counts, auc_list, bins=20, cmap='Blues')"
   ]
  },
  {
   "cell_type": "code",
   "execution_count": null,
   "metadata": {},
   "outputs": [],
   "source": []
  }
 ],
 "metadata": {
  "kernelspec": {
   "display_name": "glc23",
   "language": "python",
   "name": "python3"
  },
  "language_info": {
   "codemirror_mode": {
    "name": "ipython",
    "version": 3
   },
   "file_extension": ".py",
   "mimetype": "text/x-python",
   "name": "python",
   "nbconvert_exporter": "python",
   "pygments_lexer": "ipython3",
   "version": "3.9.16"
  }
 },
 "nbformat": 4,
 "nbformat_minor": 2
}
