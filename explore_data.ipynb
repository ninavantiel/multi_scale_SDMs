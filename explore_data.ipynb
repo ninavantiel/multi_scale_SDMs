{
 "cells": [
  {
   "cell_type": "code",
   "execution_count": 1,
   "metadata": {},
   "outputs": [],
   "source": [
    "from GLC23PatchesProviders import MultipleRasterPatchProvider, RasterPatchProvider\n",
    "from GLC23Datasets import PatchesDataset, PatchesDatasetMultiLabel\n",
    "from models import cnn"
   ]
  },
  {
   "cell_type": "code",
   "execution_count": 2,
   "metadata": {},
   "outputs": [],
   "source": [
    "import torch\n",
    "# from pathlib import Path\n",
    "# import os\n",
    "# import rasterio\n",
    "import pandas as pd\n",
    "import numpy as np\n",
    "from sklearn.model_selection import train_test_split\n",
    "from sklearn.metrics import roc_auc_score, f1_score"
   ]
  },
  {
   "cell_type": "code",
   "execution_count": 3,
   "metadata": {},
   "outputs": [],
   "source": [
    "seed = 42\n",
    "\n",
    "np.random.seed(seed) # Numpy seed also uses by Scikit Learn\n",
    "torch.manual_seed(seed)\n",
    "torch.cuda.manual_seed(seed)\n",
    "torch.cuda.manual_seed_all(seed)"
   ]
  },
  {
   "cell_type": "code",
   "execution_count": 4,
   "metadata": {},
   "outputs": [],
   "source": [
    "data_path = 'data/full_data/'\n",
    "presence_only_path = data_path+'Presence_only_occurrences/Presences_only_train_sampled.csv'\n",
    "presence_absence_path = data_path+'Presence_Absence_surveys/Presences_Absences_train.csv'"
   ]
  },
  {
   "cell_type": "code",
   "execution_count": 8,
   "metadata": {},
   "outputs": [],
   "source": [
    "p_bioclim = MultipleRasterPatchProvider(\n",
    "    data_path+'EnvironmentalRasters/Climate/BioClimatic_Average_1981-2010/'\n",
    ") #19\n",
    "p_hfp_d = MultipleRasterPatchProvider(data_path+'EnvironmentalRasters/HumanFootprint/detailed/') #14\n",
    "p_hfp_s = RasterPatchProvider(data_path+'EnvironmentalRasters/HumanFootprint/summarized/HFP2009_WGS84.tif') #1"
   ]
  },
  {
   "cell_type": "code",
   "execution_count": 70,
   "metadata": {},
   "outputs": [
    {
     "name": "stdout",
     "output_type": "stream",
     "text": [
      "\n",
      "TRAINING DATA: n=2131709\n",
      "Number of covariates = 34\n",
      "Number of species = 9659\n",
      "VALIDATION DATA: n=532928\n"
     ]
    }
   ],
   "source": [
    "# PRESENCE ONLY DATA\n",
    "presence_only_df = pd.read_csv(presence_only_path, sep=\";\", header='infer', low_memory=False)\n",
    "# split presence only dataset into train and validation sets\n",
    "train_df, val_df = train_test_split(presence_only_df, test_size=0.2)\n",
    "\n",
    "# train dataset\n",
    "train_data = PatchesDatasetMultiLabel(\n",
    "    occurrences=train_df.reset_index(), \n",
    "    providers=(p_bioclim, p_hfp_d, p_hfp_s)\n",
    ")\n",
    "print(f\"\\nTRAINING DATA: n={len(train_data)}\")\n",
    "\n",
    "# get number of features and number of species in train dataset\n",
    "n_features = train_data[0][0].cpu().detach().shape[0]\n",
    "print(f\"Number of covariates = {n_features}\")\n",
    "n_species = len(train_data.unique_sorted_targets)\n",
    "print(f\"Number of species = {n_species}\")\n",
    "\n",
    "# validation dataset\n",
    "val_data = PatchesDatasetMultiLabel(\n",
    "    occurrences=val_df.reset_index(), \n",
    "    providers=(p_bioclim, p_hfp_d, p_hfp_s),\n",
    "    ref_targets=train_data.unique_sorted_targets\n",
    ")\n",
    "print(f\"VALIDATION DATA: n={len(val_data)}\")"
   ]
  },
  {
   "cell_type": "code",
   "execution_count": 10,
   "metadata": {},
   "outputs": [
    {
     "name": "stdout",
     "output_type": "stream",
     "text": [
      "TEST DATA: n=85325\n"
     ]
    }
   ],
   "source": [
    "# PRESENCE ABSENCE DATA \n",
    "presence_absence_df = pd.read_csv(presence_absence_path, sep=\";\", header='infer', low_memory=False)\n",
    "test_data = PatchesDatasetMultiLabel(\n",
    "    occurrences=presence_absence_df, \n",
    "    providers=(p_bioclim, p_hfp_d, p_hfp_s),\n",
    "    ref_targets=train_data.unique_sorted_targets\n",
    ")\n",
    "print(f\"TEST DATA: n={len(test_data)}\")"
   ]
  },
  {
   "cell_type": "code",
   "execution_count": 34,
   "metadata": {},
   "outputs": [
    {
     "data": {
      "text/plain": [
       "cnn(\n",
       "  (conv1): Conv2d(34, 32, kernel_size=(3, 3), stride=(1, 1))\n",
       "  (act1): ReLU()\n",
       "  (pool1): MaxPool2d(kernel_size=3, stride=3, padding=0, dilation=1, ceil_mode=False)\n",
       "  (drop1): Dropout(p=0.3, inplace=False)\n",
       "  (conv2): Conv2d(32, 8, kernel_size=(3, 3), stride=(1, 1))\n",
       "  (act2): ReLU()\n",
       "  (pool2): MaxPool2d(kernel_size=2, stride=2, padding=0, dilation=1, ceil_mode=False)\n",
       "  (flat): Flatten(start_dim=1, end_dim=-1)\n",
       "  (fc4): Linear(in_features=3200, out_features=9659, bias=True)\n",
       "  (act4): ReLU()\n",
       ")"
      ]
     },
     "execution_count": 34,
     "metadata": {},
     "output_type": "execute_result"
    }
   ],
   "source": [
    "model = cnn(n_features, n_species)\n",
    "optimizer = torch.optim.SGD(model.parameters(), lr=0.001, momentum=0.9)\n",
    "\n",
    "checkpoint = torch.load(\"models/2504_1700_full_data_sampled/best.pth\")\n",
    "model.load_state_dict(checkpoint['state_dict'])\n",
    "optimizer.load_state_dict(checkpoint['optimizer_state_dict'])\n",
    "loss = checkpoint['loss']\n",
    "model"
   ]
  },
  {
   "cell_type": "code",
   "execution_count": 15,
   "metadata": {},
   "outputs": [],
   "source": [
    "batch_size = 100\n",
    "val_loader = torch.utils.data.DataLoader(val_data, shuffle=False, batch_size=batch_size, num_workers=4)"
   ]
  },
  {
   "cell_type": "code",
   "execution_count": 65,
   "metadata": {},
   "outputs": [
    {
     "name": "stdout",
     "output_type": "stream",
     "text": [
      "torch.Size([100, 9660])\n"
     ]
    }
   ],
   "source": [
    "for inputs, labels in val_loader:\n",
    "    print(labels.shape)\n",
    "    break"
   ]
  },
  {
   "cell_type": "code",
   "execution_count": 66,
   "metadata": {},
   "outputs": [],
   "source": [
    "y_pred = model(inputs)"
   ]
  },
  {
   "cell_type": "code",
   "execution_count": 67,
   "metadata": {},
   "outputs": [
    {
     "data": {
      "text/plain": [
       "torch.Size([100, 9659])"
      ]
     },
     "execution_count": 67,
     "metadata": {},
     "output_type": "execute_result"
    }
   ],
   "source": [
    "y_pred.shape"
   ]
  },
  {
   "cell_type": "code",
   "execution_count": 43,
   "metadata": {},
   "outputs": [
    {
     "data": {
      "text/plain": [
       "110"
      ]
     },
     "execution_count": 43,
     "metadata": {},
     "output_type": "execute_result"
    }
   ],
   "source": [
    "y_pred = y_pred.detach().numpy()\n",
    "y_true = labels#.().numpy()\n",
    "species_idx = np.where(y_true.sum(axis=0) != 0)[0]\n",
    "len(species_idx)"
   ]
  },
  {
   "cell_type": "code",
   "execution_count": 64,
   "metadata": {},
   "outputs": [
    {
     "ename": "ValueError",
     "evalue": "Found input variables with inconsistent numbers of samples: [9660, 9659]",
     "output_type": "error",
     "traceback": [
      "\u001b[0;31m---------------------------------------------------------------------------\u001b[0m",
      "\u001b[0;31mValueError\u001b[0m                                Traceback (most recent call last)",
      "Cell \u001b[0;32mIn[64], line 2\u001b[0m\n\u001b[1;32m      1\u001b[0m \u001b[39mfor\u001b[39;00m i \u001b[39min\u001b[39;00m \u001b[39mrange\u001b[39m(y_pred\u001b[39m.\u001b[39mshape[\u001b[39m0\u001b[39m]):\n\u001b[0;32m----> 2\u001b[0m     \u001b[39mprint\u001b[39m(i, f1_score(y_true[i, :], y_pred[i, :]))\n\u001b[1;32m      3\u001b[0m     \u001b[39mbreak\u001b[39;00m\n",
      "File \u001b[0;32m~/miniconda3/envs/glc23/lib/python3.9/site-packages/sklearn/metrics/_classification.py:1146\u001b[0m, in \u001b[0;36mf1_score\u001b[0;34m(y_true, y_pred, labels, pos_label, average, sample_weight, zero_division)\u001b[0m\n\u001b[1;32m   1011\u001b[0m \u001b[39mdef\u001b[39;00m \u001b[39mf1_score\u001b[39m(\n\u001b[1;32m   1012\u001b[0m     y_true,\n\u001b[1;32m   1013\u001b[0m     y_pred,\n\u001b[0;32m   (...)\u001b[0m\n\u001b[1;32m   1019\u001b[0m     zero_division\u001b[39m=\u001b[39m\u001b[39m\"\u001b[39m\u001b[39mwarn\u001b[39m\u001b[39m\"\u001b[39m,\n\u001b[1;32m   1020\u001b[0m ):\n\u001b[1;32m   1021\u001b[0m     \u001b[39m\"\"\"Compute the F1 score, also known as balanced F-score or F-measure.\u001b[39;00m\n\u001b[1;32m   1022\u001b[0m \n\u001b[1;32m   1023\u001b[0m \u001b[39m    The F1 score can be interpreted as a harmonic mean of the precision and\u001b[39;00m\n\u001b[0;32m   (...)\u001b[0m\n\u001b[1;32m   1144\u001b[0m \u001b[39m    array([0.66666667, 1.        , 0.66666667])\u001b[39;00m\n\u001b[1;32m   1145\u001b[0m \u001b[39m    \"\"\"\u001b[39;00m\n\u001b[0;32m-> 1146\u001b[0m     \u001b[39mreturn\u001b[39;00m fbeta_score(\n\u001b[1;32m   1147\u001b[0m         y_true,\n\u001b[1;32m   1148\u001b[0m         y_pred,\n\u001b[1;32m   1149\u001b[0m         beta\u001b[39m=\u001b[39;49m\u001b[39m1\u001b[39;49m,\n\u001b[1;32m   1150\u001b[0m         labels\u001b[39m=\u001b[39;49mlabels,\n\u001b[1;32m   1151\u001b[0m         pos_label\u001b[39m=\u001b[39;49mpos_label,\n\u001b[1;32m   1152\u001b[0m         average\u001b[39m=\u001b[39;49maverage,\n\u001b[1;32m   1153\u001b[0m         sample_weight\u001b[39m=\u001b[39;49msample_weight,\n\u001b[1;32m   1154\u001b[0m         zero_division\u001b[39m=\u001b[39;49mzero_division,\n\u001b[1;32m   1155\u001b[0m     )\n",
      "File \u001b[0;32m~/miniconda3/envs/glc23/lib/python3.9/site-packages/sklearn/metrics/_classification.py:1287\u001b[0m, in \u001b[0;36mfbeta_score\u001b[0;34m(y_true, y_pred, beta, labels, pos_label, average, sample_weight, zero_division)\u001b[0m\n\u001b[1;32m   1158\u001b[0m \u001b[39mdef\u001b[39;00m \u001b[39mfbeta_score\u001b[39m(\n\u001b[1;32m   1159\u001b[0m     y_true,\n\u001b[1;32m   1160\u001b[0m     y_pred,\n\u001b[0;32m   (...)\u001b[0m\n\u001b[1;32m   1167\u001b[0m     zero_division\u001b[39m=\u001b[39m\u001b[39m\"\u001b[39m\u001b[39mwarn\u001b[39m\u001b[39m\"\u001b[39m,\n\u001b[1;32m   1168\u001b[0m ):\n\u001b[1;32m   1169\u001b[0m     \u001b[39m\"\"\"Compute the F-beta score.\u001b[39;00m\n\u001b[1;32m   1170\u001b[0m \n\u001b[1;32m   1171\u001b[0m \u001b[39m    The F-beta score is the weighted harmonic mean of precision and recall,\u001b[39;00m\n\u001b[0;32m   (...)\u001b[0m\n\u001b[1;32m   1284\u001b[0m \u001b[39m    array([0.71..., 0.        , 0.        ])\u001b[39;00m\n\u001b[1;32m   1285\u001b[0m \u001b[39m    \"\"\"\u001b[39;00m\n\u001b[0;32m-> 1287\u001b[0m     _, _, f, _ \u001b[39m=\u001b[39m precision_recall_fscore_support(\n\u001b[1;32m   1288\u001b[0m         y_true,\n\u001b[1;32m   1289\u001b[0m         y_pred,\n\u001b[1;32m   1290\u001b[0m         beta\u001b[39m=\u001b[39;49mbeta,\n\u001b[1;32m   1291\u001b[0m         labels\u001b[39m=\u001b[39;49mlabels,\n\u001b[1;32m   1292\u001b[0m         pos_label\u001b[39m=\u001b[39;49mpos_label,\n\u001b[1;32m   1293\u001b[0m         average\u001b[39m=\u001b[39;49maverage,\n\u001b[1;32m   1294\u001b[0m         warn_for\u001b[39m=\u001b[39;49m(\u001b[39m\"\u001b[39;49m\u001b[39mf-score\u001b[39;49m\u001b[39m\"\u001b[39;49m,),\n\u001b[1;32m   1295\u001b[0m         sample_weight\u001b[39m=\u001b[39;49msample_weight,\n\u001b[1;32m   1296\u001b[0m         zero_division\u001b[39m=\u001b[39;49mzero_division,\n\u001b[1;32m   1297\u001b[0m     )\n\u001b[1;32m   1298\u001b[0m     \u001b[39mreturn\u001b[39;00m f\n",
      "File \u001b[0;32m~/miniconda3/envs/glc23/lib/python3.9/site-packages/sklearn/metrics/_classification.py:1573\u001b[0m, in \u001b[0;36mprecision_recall_fscore_support\u001b[0;34m(y_true, y_pred, beta, labels, pos_label, average, warn_for, sample_weight, zero_division)\u001b[0m\n\u001b[1;32m   1571\u001b[0m \u001b[39mif\u001b[39;00m beta \u001b[39m<\u001b[39m \u001b[39m0\u001b[39m:\n\u001b[1;32m   1572\u001b[0m     \u001b[39mraise\u001b[39;00m \u001b[39mValueError\u001b[39;00m(\u001b[39m\"\u001b[39m\u001b[39mbeta should be >=0 in the F-beta score\u001b[39m\u001b[39m\"\u001b[39m)\n\u001b[0;32m-> 1573\u001b[0m labels \u001b[39m=\u001b[39m _check_set_wise_labels(y_true, y_pred, average, labels, pos_label)\n\u001b[1;32m   1575\u001b[0m \u001b[39m# Calculate tp_sum, pred_sum, true_sum ###\u001b[39;00m\n\u001b[1;32m   1576\u001b[0m samplewise \u001b[39m=\u001b[39m average \u001b[39m==\u001b[39m \u001b[39m\"\u001b[39m\u001b[39msamples\u001b[39m\u001b[39m\"\u001b[39m\n",
      "File \u001b[0;32m~/miniconda3/envs/glc23/lib/python3.9/site-packages/sklearn/metrics/_classification.py:1374\u001b[0m, in \u001b[0;36m_check_set_wise_labels\u001b[0;34m(y_true, y_pred, average, labels, pos_label)\u001b[0m\n\u001b[1;32m   1371\u001b[0m \u001b[39mif\u001b[39;00m average \u001b[39mnot\u001b[39;00m \u001b[39min\u001b[39;00m average_options \u001b[39mand\u001b[39;00m average \u001b[39m!=\u001b[39m \u001b[39m\"\u001b[39m\u001b[39mbinary\u001b[39m\u001b[39m\"\u001b[39m:\n\u001b[1;32m   1372\u001b[0m     \u001b[39mraise\u001b[39;00m \u001b[39mValueError\u001b[39;00m(\u001b[39m\"\u001b[39m\u001b[39maverage has to be one of \u001b[39m\u001b[39m\"\u001b[39m \u001b[39m+\u001b[39m \u001b[39mstr\u001b[39m(average_options))\n\u001b[0;32m-> 1374\u001b[0m y_type, y_true, y_pred \u001b[39m=\u001b[39m _check_targets(y_true, y_pred)\n\u001b[1;32m   1375\u001b[0m \u001b[39m# Convert to Python primitive type to avoid NumPy type / Python str\u001b[39;00m\n\u001b[1;32m   1376\u001b[0m \u001b[39m# comparison. See https://github.com/numpy/numpy/issues/6784\u001b[39;00m\n\u001b[1;32m   1377\u001b[0m present_labels \u001b[39m=\u001b[39m unique_labels(y_true, y_pred)\u001b[39m.\u001b[39mtolist()\n",
      "File \u001b[0;32m~/miniconda3/envs/glc23/lib/python3.9/site-packages/sklearn/metrics/_classification.py:86\u001b[0m, in \u001b[0;36m_check_targets\u001b[0;34m(y_true, y_pred)\u001b[0m\n\u001b[1;32m     59\u001b[0m \u001b[39mdef\u001b[39;00m \u001b[39m_check_targets\u001b[39m(y_true, y_pred):\n\u001b[1;32m     60\u001b[0m     \u001b[39m\"\"\"Check that y_true and y_pred belong to the same classification task.\u001b[39;00m\n\u001b[1;32m     61\u001b[0m \n\u001b[1;32m     62\u001b[0m \u001b[39m    This converts multiclass or binary types to a common shape, and raises a\u001b[39;00m\n\u001b[0;32m   (...)\u001b[0m\n\u001b[1;32m     84\u001b[0m \u001b[39m    y_pred : array or indicator matrix\u001b[39;00m\n\u001b[1;32m     85\u001b[0m \u001b[39m    \"\"\"\u001b[39;00m\n\u001b[0;32m---> 86\u001b[0m     check_consistent_length(y_true, y_pred)\n\u001b[1;32m     87\u001b[0m     type_true \u001b[39m=\u001b[39m type_of_target(y_true, input_name\u001b[39m=\u001b[39m\u001b[39m\"\u001b[39m\u001b[39my_true\u001b[39m\u001b[39m\"\u001b[39m)\n\u001b[1;32m     88\u001b[0m     type_pred \u001b[39m=\u001b[39m type_of_target(y_pred, input_name\u001b[39m=\u001b[39m\u001b[39m\"\u001b[39m\u001b[39my_pred\u001b[39m\u001b[39m\"\u001b[39m)\n",
      "File \u001b[0;32m~/miniconda3/envs/glc23/lib/python3.9/site-packages/sklearn/utils/validation.py:397\u001b[0m, in \u001b[0;36mcheck_consistent_length\u001b[0;34m(*arrays)\u001b[0m\n\u001b[1;32m    395\u001b[0m uniques \u001b[39m=\u001b[39m np\u001b[39m.\u001b[39munique(lengths)\n\u001b[1;32m    396\u001b[0m \u001b[39mif\u001b[39;00m \u001b[39mlen\u001b[39m(uniques) \u001b[39m>\u001b[39m \u001b[39m1\u001b[39m:\n\u001b[0;32m--> 397\u001b[0m     \u001b[39mraise\u001b[39;00m \u001b[39mValueError\u001b[39;00m(\n\u001b[1;32m    398\u001b[0m         \u001b[39m\"\u001b[39m\u001b[39mFound input variables with inconsistent numbers of samples: \u001b[39m\u001b[39m%r\u001b[39;00m\u001b[39m\"\u001b[39m\n\u001b[1;32m    399\u001b[0m         \u001b[39m%\u001b[39m [\u001b[39mint\u001b[39m(l) \u001b[39mfor\u001b[39;00m l \u001b[39min\u001b[39;00m lengths]\n\u001b[1;32m    400\u001b[0m     )\n",
      "\u001b[0;31mValueError\u001b[0m: Found input variables with inconsistent numbers of samples: [9660, 9659]"
     ]
    }
   ],
   "source": [
    "for i in range(y_pred.shape[0]):\n",
    "    print(i, f1_score(y_true[i, :], y_pred[i, :]))\n",
    "    break"
   ]
  },
  {
   "cell_type": "code",
   "execution_count": 62,
   "metadata": {},
   "outputs": [
    {
     "ename": "ValueError",
     "evalue": "Classification metrics can't handle a mix of multilabel-indicator and continuous-multioutput targets",
     "output_type": "error",
     "traceback": [
      "\u001b[0;31m---------------------------------------------------------------------------\u001b[0m",
      "\u001b[0;31mValueError\u001b[0m                                Traceback (most recent call last)",
      "Cell \u001b[0;32mIn[62], line 1\u001b[0m\n\u001b[0;32m----> 1\u001b[0m auc_rocs \u001b[39m=\u001b[39m f1_score(y_true[:,species_idx], y_pred[:,species_idx], average\u001b[39m=\u001b[39;49m\u001b[39mNone\u001b[39;49;00m)\n\u001b[1;32m      2\u001b[0m auc_rocs\n",
      "File \u001b[0;32m~/miniconda3/envs/glc23/lib/python3.9/site-packages/sklearn/metrics/_classification.py:1146\u001b[0m, in \u001b[0;36mf1_score\u001b[0;34m(y_true, y_pred, labels, pos_label, average, sample_weight, zero_division)\u001b[0m\n\u001b[1;32m   1011\u001b[0m \u001b[39mdef\u001b[39;00m \u001b[39mf1_score\u001b[39m(\n\u001b[1;32m   1012\u001b[0m     y_true,\n\u001b[1;32m   1013\u001b[0m     y_pred,\n\u001b[0;32m   (...)\u001b[0m\n\u001b[1;32m   1019\u001b[0m     zero_division\u001b[39m=\u001b[39m\u001b[39m\"\u001b[39m\u001b[39mwarn\u001b[39m\u001b[39m\"\u001b[39m,\n\u001b[1;32m   1020\u001b[0m ):\n\u001b[1;32m   1021\u001b[0m     \u001b[39m\"\"\"Compute the F1 score, also known as balanced F-score or F-measure.\u001b[39;00m\n\u001b[1;32m   1022\u001b[0m \n\u001b[1;32m   1023\u001b[0m \u001b[39m    The F1 score can be interpreted as a harmonic mean of the precision and\u001b[39;00m\n\u001b[0;32m   (...)\u001b[0m\n\u001b[1;32m   1144\u001b[0m \u001b[39m    array([0.66666667, 1.        , 0.66666667])\u001b[39;00m\n\u001b[1;32m   1145\u001b[0m \u001b[39m    \"\"\"\u001b[39;00m\n\u001b[0;32m-> 1146\u001b[0m     \u001b[39mreturn\u001b[39;00m fbeta_score(\n\u001b[1;32m   1147\u001b[0m         y_true,\n\u001b[1;32m   1148\u001b[0m         y_pred,\n\u001b[1;32m   1149\u001b[0m         beta\u001b[39m=\u001b[39;49m\u001b[39m1\u001b[39;49m,\n\u001b[1;32m   1150\u001b[0m         labels\u001b[39m=\u001b[39;49mlabels,\n\u001b[1;32m   1151\u001b[0m         pos_label\u001b[39m=\u001b[39;49mpos_label,\n\u001b[1;32m   1152\u001b[0m         average\u001b[39m=\u001b[39;49maverage,\n\u001b[1;32m   1153\u001b[0m         sample_weight\u001b[39m=\u001b[39;49msample_weight,\n\u001b[1;32m   1154\u001b[0m         zero_division\u001b[39m=\u001b[39;49mzero_division,\n\u001b[1;32m   1155\u001b[0m     )\n",
      "File \u001b[0;32m~/miniconda3/envs/glc23/lib/python3.9/site-packages/sklearn/metrics/_classification.py:1287\u001b[0m, in \u001b[0;36mfbeta_score\u001b[0;34m(y_true, y_pred, beta, labels, pos_label, average, sample_weight, zero_division)\u001b[0m\n\u001b[1;32m   1158\u001b[0m \u001b[39mdef\u001b[39;00m \u001b[39mfbeta_score\u001b[39m(\n\u001b[1;32m   1159\u001b[0m     y_true,\n\u001b[1;32m   1160\u001b[0m     y_pred,\n\u001b[0;32m   (...)\u001b[0m\n\u001b[1;32m   1167\u001b[0m     zero_division\u001b[39m=\u001b[39m\u001b[39m\"\u001b[39m\u001b[39mwarn\u001b[39m\u001b[39m\"\u001b[39m,\n\u001b[1;32m   1168\u001b[0m ):\n\u001b[1;32m   1169\u001b[0m     \u001b[39m\"\"\"Compute the F-beta score.\u001b[39;00m\n\u001b[1;32m   1170\u001b[0m \n\u001b[1;32m   1171\u001b[0m \u001b[39m    The F-beta score is the weighted harmonic mean of precision and recall,\u001b[39;00m\n\u001b[0;32m   (...)\u001b[0m\n\u001b[1;32m   1284\u001b[0m \u001b[39m    array([0.71..., 0.        , 0.        ])\u001b[39;00m\n\u001b[1;32m   1285\u001b[0m \u001b[39m    \"\"\"\u001b[39;00m\n\u001b[0;32m-> 1287\u001b[0m     _, _, f, _ \u001b[39m=\u001b[39m precision_recall_fscore_support(\n\u001b[1;32m   1288\u001b[0m         y_true,\n\u001b[1;32m   1289\u001b[0m         y_pred,\n\u001b[1;32m   1290\u001b[0m         beta\u001b[39m=\u001b[39;49mbeta,\n\u001b[1;32m   1291\u001b[0m         labels\u001b[39m=\u001b[39;49mlabels,\n\u001b[1;32m   1292\u001b[0m         pos_label\u001b[39m=\u001b[39;49mpos_label,\n\u001b[1;32m   1293\u001b[0m         average\u001b[39m=\u001b[39;49maverage,\n\u001b[1;32m   1294\u001b[0m         warn_for\u001b[39m=\u001b[39;49m(\u001b[39m\"\u001b[39;49m\u001b[39mf-score\u001b[39;49m\u001b[39m\"\u001b[39;49m,),\n\u001b[1;32m   1295\u001b[0m         sample_weight\u001b[39m=\u001b[39;49msample_weight,\n\u001b[1;32m   1296\u001b[0m         zero_division\u001b[39m=\u001b[39;49mzero_division,\n\u001b[1;32m   1297\u001b[0m     )\n\u001b[1;32m   1298\u001b[0m     \u001b[39mreturn\u001b[39;00m f\n",
      "File \u001b[0;32m~/miniconda3/envs/glc23/lib/python3.9/site-packages/sklearn/metrics/_classification.py:1573\u001b[0m, in \u001b[0;36mprecision_recall_fscore_support\u001b[0;34m(y_true, y_pred, beta, labels, pos_label, average, warn_for, sample_weight, zero_division)\u001b[0m\n\u001b[1;32m   1571\u001b[0m \u001b[39mif\u001b[39;00m beta \u001b[39m<\u001b[39m \u001b[39m0\u001b[39m:\n\u001b[1;32m   1572\u001b[0m     \u001b[39mraise\u001b[39;00m \u001b[39mValueError\u001b[39;00m(\u001b[39m\"\u001b[39m\u001b[39mbeta should be >=0 in the F-beta score\u001b[39m\u001b[39m\"\u001b[39m)\n\u001b[0;32m-> 1573\u001b[0m labels \u001b[39m=\u001b[39m _check_set_wise_labels(y_true, y_pred, average, labels, pos_label)\n\u001b[1;32m   1575\u001b[0m \u001b[39m# Calculate tp_sum, pred_sum, true_sum ###\u001b[39;00m\n\u001b[1;32m   1576\u001b[0m samplewise \u001b[39m=\u001b[39m average \u001b[39m==\u001b[39m \u001b[39m\"\u001b[39m\u001b[39msamples\u001b[39m\u001b[39m\"\u001b[39m\n",
      "File \u001b[0;32m~/miniconda3/envs/glc23/lib/python3.9/site-packages/sklearn/metrics/_classification.py:1374\u001b[0m, in \u001b[0;36m_check_set_wise_labels\u001b[0;34m(y_true, y_pred, average, labels, pos_label)\u001b[0m\n\u001b[1;32m   1371\u001b[0m \u001b[39mif\u001b[39;00m average \u001b[39mnot\u001b[39;00m \u001b[39min\u001b[39;00m average_options \u001b[39mand\u001b[39;00m average \u001b[39m!=\u001b[39m \u001b[39m\"\u001b[39m\u001b[39mbinary\u001b[39m\u001b[39m\"\u001b[39m:\n\u001b[1;32m   1372\u001b[0m     \u001b[39mraise\u001b[39;00m \u001b[39mValueError\u001b[39;00m(\u001b[39m\"\u001b[39m\u001b[39maverage has to be one of \u001b[39m\u001b[39m\"\u001b[39m \u001b[39m+\u001b[39m \u001b[39mstr\u001b[39m(average_options))\n\u001b[0;32m-> 1374\u001b[0m y_type, y_true, y_pred \u001b[39m=\u001b[39m _check_targets(y_true, y_pred)\n\u001b[1;32m   1375\u001b[0m \u001b[39m# Convert to Python primitive type to avoid NumPy type / Python str\u001b[39;00m\n\u001b[1;32m   1376\u001b[0m \u001b[39m# comparison. See https://github.com/numpy/numpy/issues/6784\u001b[39;00m\n\u001b[1;32m   1377\u001b[0m present_labels \u001b[39m=\u001b[39m unique_labels(y_true, y_pred)\u001b[39m.\u001b[39mtolist()\n",
      "File \u001b[0;32m~/miniconda3/envs/glc23/lib/python3.9/site-packages/sklearn/metrics/_classification.py:95\u001b[0m, in \u001b[0;36m_check_targets\u001b[0;34m(y_true, y_pred)\u001b[0m\n\u001b[1;32m     92\u001b[0m     y_type \u001b[39m=\u001b[39m {\u001b[39m\"\u001b[39m\u001b[39mmulticlass\u001b[39m\u001b[39m\"\u001b[39m}\n\u001b[1;32m     94\u001b[0m \u001b[39mif\u001b[39;00m \u001b[39mlen\u001b[39m(y_type) \u001b[39m>\u001b[39m \u001b[39m1\u001b[39m:\n\u001b[0;32m---> 95\u001b[0m     \u001b[39mraise\u001b[39;00m \u001b[39mValueError\u001b[39;00m(\n\u001b[1;32m     96\u001b[0m         \u001b[39m\"\u001b[39m\u001b[39mClassification metrics can\u001b[39m\u001b[39m'\u001b[39m\u001b[39mt handle a mix of \u001b[39m\u001b[39m{0}\u001b[39;00m\u001b[39m and \u001b[39m\u001b[39m{1}\u001b[39;00m\u001b[39m targets\u001b[39m\u001b[39m\"\u001b[39m\u001b[39m.\u001b[39mformat(\n\u001b[1;32m     97\u001b[0m             type_true, type_pred\n\u001b[1;32m     98\u001b[0m         )\n\u001b[1;32m     99\u001b[0m     )\n\u001b[1;32m    101\u001b[0m \u001b[39m# We can't have more than one value on y_type => The set is no more needed\u001b[39;00m\n\u001b[1;32m    102\u001b[0m y_type \u001b[39m=\u001b[39m y_type\u001b[39m.\u001b[39mpop()\n",
      "\u001b[0;31mValueError\u001b[0m: Classification metrics can't handle a mix of multilabel-indicator and continuous-multioutput targets"
     ]
    }
   ],
   "source": [
    "auc_rocs = f1_score(y_true[:,species_idx], y_pred[:,species_idx], average=None)\n",
    "auc_rocs"
   ]
  },
  {
   "cell_type": "code",
   "execution_count": 59,
   "metadata": {},
   "outputs": [
    {
     "data": {
      "text/plain": [
       "tensor([0., 0., 0., 0., 0., 0., 0., 0., 0., 0., 0., 0., 0., 0., 0., 0., 0., 0.,\n",
       "        0., 0., 0., 0., 0., 0., 0., 0., 0., 0., 0., 0., 0., 0., 0., 0., 0., 0.,\n",
       "        0., 0., 0., 0., 0., 0., 0., 0., 0., 0., 0., 0., 0., 0., 0., 0., 0., 1.,\n",
       "        0., 0., 0., 0., 0., 0., 0., 0., 0., 0., 0., 0., 0., 0., 0., 0., 0., 0.,\n",
       "        0., 0., 0., 0., 0., 0., 0., 0., 0., 0., 0., 0., 0., 0., 0., 0., 0., 0.,\n",
       "        0., 0., 0., 0., 0., 0., 0., 0., 0., 0., 0., 0., 0., 0., 0., 0., 0., 0.,\n",
       "        0., 0.], dtype=torch.float64)"
      ]
     },
     "execution_count": 59,
     "metadata": {},
     "output_type": "execute_result"
    }
   ],
   "source": [
    "y_true[0,species_idx]"
   ]
  },
  {
   "cell_type": "code",
   "execution_count": 60,
   "metadata": {},
   "outputs": [
    {
     "data": {
      "text/plain": [
       "array([0., 0., 0., 0., 0., 0., 0., 0., 0., 0., 0., 0., 0., 0., 0., 0., 0.,\n",
       "       0., 0., 0., 0., 0., 0., 0., 0., 0., 0., 0., 0., 0., 0., 0., 0., 0.,\n",
       "       0., 0., 0., 0., 0., 0., 0., 0., 0., 0., 0., 0., 0., 0., 0., 0., 0.,\n",
       "       0., 0., 0., 0., 0., 0., 0., 0., 0., 0., 0., 0., 0., 0., 0., 0., 0.,\n",
       "       0., 0., 0., 0., 0., 0., 0., 0., 0., 0., 0., 0., 0., 0., 0., 0., 0.,\n",
       "       0., 0., 0., 0., 0., 0., 0., 0., 0., 0., 0., 0., 0., 0., 0., 0., 0.,\n",
       "       0., 0., 0., 0., 0., 0., 0., 0.], dtype=float32)"
      ]
     },
     "execution_count": 60,
     "metadata": {},
     "output_type": "execute_result"
    }
   ],
   "source": [
    "y_pred[0,species_idx]"
   ]
  },
  {
   "cell_type": "code",
   "execution_count": null,
   "metadata": {},
   "outputs": [],
   "source": [
    "model.eval()\n",
    "        avg_aucs = []\n",
    "        for inputs, labels in val_loader:\n",
    "            inputs = inputs.to(dev)\n",
    "            labels = labels.to(dev)\n",
    "            y_pred = model(inputs)\n",
    "            # validation loss\n",
    "            val_loss = loss_fn(y_pred, labels).cpu().detach()\n",
    "            # validation AUC\n",
    "            y_pred = y_pred.cpu().detach().numpy()\n",
    "            y_true = labels.cpu().detach().numpy()\n",
    "            species_idx = np.where(y_true.sum(axis=0) != 0)[0]\n",
    "            auc_rocs = roc_auc_score(y_true[:,species_idx], y_pred[:,species_idx], average=None)\n",
    "            avg_aucs.append(auc_rocs.mean())\n",
    "        # average AUC \n",
    "        avg_auc = np.array(avg_aucs).mean() # this is not great\n",
    "        print(f\"{epoch}) AVG_AUC={avg_auc} (for {len(species_idx)} species)\")\n",
    "\n",
    "        # log train and val metrics for epoch\n",
    "        wandb.log({\"train_loss\": train_loss, \"val_loss\": val_loss, \"val_avg_auc\": avg_auc})\n",
    "        if epoch == 0: wandb.config['n_species_val'] = len(species_idx)\n",
    "    \n",
    "    model.eval()\n",
    "    avg_aucs = []\n",
    "    for inputs, labels in test_loader:\n",
    "        inputs = inputs.to(dev)\n",
    "        labels = labels.to(dev)\n",
    "        y_pred = model(inputs)\n",
    "        # test loss\n",
    "        test_loss = loss_fn(y_pred, labels).cpu().detach()\n",
    "        # test AUC\n",
    "        y_pred = y_pred.cpu().detach().numpy()\n",
    "        y_true = labels.cpu().detach().numpy()\n",
    "        species_idx = np.where(y_true.sum(axis=0) != 0)[0]\n",
    "        auc_rocs = roc_auc_score(y_true[:,species_idx], y_pred[:,species_idx], average=None)\n",
    "        avg_aucs.append(auc_rocs.mean())\n",
    "\n",
    "    avg_auc = np.array(avg_aucs).mean()\n",
    "    print(f\"TEST SET: AVG_AUC={avg_auc} (for {len(species_idx)} species)\")\n",
    "\n",
    "    wandb.log({\"test_loss\": test_loss, \"test_avg_auc\": avg_auc})\n",
    "    wandb.config[\"n_species_test\"] = len(species_idx)\n",
    "        "
   ]
  },
  {
   "cell_type": "code",
   "execution_count": 5,
   "metadata": {},
   "outputs": [
    {
     "data": {
      "text/html": [
       "<div>\n",
       "<style scoped>\n",
       "    .dataframe tbody tr th:only-of-type {\n",
       "        vertical-align: middle;\n",
       "    }\n",
       "\n",
       "    .dataframe tbody tr th {\n",
       "        vertical-align: top;\n",
       "    }\n",
       "\n",
       "    .dataframe thead th {\n",
       "        text-align: right;\n",
       "    }\n",
       "</style>\n",
       "<table border=\"1\" class=\"dataframe\">\n",
       "  <thead>\n",
       "    <tr style=\"text-align: right;\">\n",
       "      <th></th>\n",
       "      <th>glcID</th>\n",
       "      <th>gbifID</th>\n",
       "      <th>observer</th>\n",
       "      <th>datasetName</th>\n",
       "      <th>date</th>\n",
       "      <th>dayOfYear</th>\n",
       "      <th>year</th>\n",
       "      <th>lon</th>\n",
       "      <th>lat</th>\n",
       "      <th>x_EPSG3035</th>\n",
       "      <th>y_EPSG3035</th>\n",
       "      <th>geoUncertaintyInM</th>\n",
       "      <th>speciesId</th>\n",
       "      <th>patchID</th>\n",
       "      <th>timeSerieID</th>\n",
       "    </tr>\n",
       "  </thead>\n",
       "  <tbody>\n",
       "    <tr>\n",
       "      <th>6</th>\n",
       "      <td>4678868</td>\n",
       "      <td>3.957154e+09</td>\n",
       "      <td>NaN</td>\n",
       "      <td>Pl@ntNet automatic</td>\n",
       "      <td>2021-07-27</td>\n",
       "      <td>208</td>\n",
       "      <td>2021</td>\n",
       "      <td>-10.467350</td>\n",
       "      <td>52.13646</td>\n",
       "      <td>2940930.0</td>\n",
       "      <td>3421109.0</td>\n",
       "      <td>8.00</td>\n",
       "      <td>5020</td>\n",
       "      <td>3018875</td>\n",
       "      <td>1006</td>\n",
       "    </tr>\n",
       "    <tr>\n",
       "      <th>7</th>\n",
       "      <td>1797028</td>\n",
       "      <td>3.952319e+09</td>\n",
       "      <td>NaN</td>\n",
       "      <td>Pl@ntNet automatic</td>\n",
       "      <td>2019-07-29</td>\n",
       "      <td>210</td>\n",
       "      <td>2019</td>\n",
       "      <td>-10.466490</td>\n",
       "      <td>52.14950</td>\n",
       "      <td>2941391.0</td>\n",
       "      <td>3422495.0</td>\n",
       "      <td>24.00</td>\n",
       "      <td>5020</td>\n",
       "      <td>3018876</td>\n",
       "      <td>1007</td>\n",
       "    </tr>\n",
       "    <tr>\n",
       "      <th>9</th>\n",
       "      <td>1768174</td>\n",
       "      <td>3.955862e+09</td>\n",
       "      <td>NaN</td>\n",
       "      <td>Pl@ntNet automatic</td>\n",
       "      <td>2021-08-27</td>\n",
       "      <td>239</td>\n",
       "      <td>2021</td>\n",
       "      <td>-10.466180</td>\n",
       "      <td>52.14698</td>\n",
       "      <td>2941333.0</td>\n",
       "      <td>3422218.0</td>\n",
       "      <td>21.00</td>\n",
       "      <td>5020</td>\n",
       "      <td>3018878</td>\n",
       "      <td>1009</td>\n",
       "    </tr>\n",
       "    <tr>\n",
       "      <th>34</th>\n",
       "      <td>304112</td>\n",
       "      <td>3.953985e+09</td>\n",
       "      <td>NaN</td>\n",
       "      <td>Pl@ntNet automatic</td>\n",
       "      <td>2019-07-28</td>\n",
       "      <td>209</td>\n",
       "      <td>2019</td>\n",
       "      <td>-10.404300</td>\n",
       "      <td>51.89073</td>\n",
       "      <td>2937454.0</td>\n",
       "      <td>3393477.0</td>\n",
       "      <td>24.00</td>\n",
       "      <td>5020</td>\n",
       "      <td>3018903</td>\n",
       "      <td>1034</td>\n",
       "    </tr>\n",
       "    <tr>\n",
       "      <th>42</th>\n",
       "      <td>1751578</td>\n",
       "      <td>3.951651e+09</td>\n",
       "      <td>NaN</td>\n",
       "      <td>Pl@ntNet automatic</td>\n",
       "      <td>2019-06-17</td>\n",
       "      <td>168</td>\n",
       "      <td>2019</td>\n",
       "      <td>-10.372510</td>\n",
       "      <td>52.12839</td>\n",
       "      <td>2946879.0</td>\n",
       "      <td>3418438.0</td>\n",
       "      <td>13.94</td>\n",
       "      <td>8455</td>\n",
       "      <td>3018911</td>\n",
       "      <td>1042</td>\n",
       "    </tr>\n",
       "    <tr>\n",
       "      <th>...</th>\n",
       "      <td>...</td>\n",
       "      <td>...</td>\n",
       "      <td>...</td>\n",
       "      <td>...</td>\n",
       "      <td>...</td>\n",
       "      <td>...</td>\n",
       "      <td>...</td>\n",
       "      <td>...</td>\n",
       "      <td>...</td>\n",
       "      <td>...</td>\n",
       "      <td>...</td>\n",
       "      <td>...</td>\n",
       "      <td>...</td>\n",
       "      <td>...</td>\n",
       "      <td>...</td>\n",
       "    </tr>\n",
       "    <tr>\n",
       "      <th>1702364</th>\n",
       "      <td>2768427</td>\n",
       "      <td>3.949402e+09</td>\n",
       "      <td>NaN</td>\n",
       "      <td>Pl@ntNet observations</td>\n",
       "      <td>2020-10-25</td>\n",
       "      <td>299</td>\n",
       "      <td>2020</td>\n",
       "      <td>5.545360</td>\n",
       "      <td>43.54632</td>\n",
       "      <td>3960316.0</td>\n",
       "      <td>2281554.0</td>\n",
       "      <td>35.87</td>\n",
       "      <td>10039</td>\n",
       "      <td>4650279</td>\n",
       "      <td>1627732</td>\n",
       "    </tr>\n",
       "    <tr>\n",
       "      <th>1359237</th>\n",
       "      <td>394413</td>\n",
       "      <td>2.235343e+09</td>\n",
       "      <td>NaN</td>\n",
       "      <td>Waarnemingen.be</td>\n",
       "      <td>2017-11-06</td>\n",
       "      <td>310</td>\n",
       "      <td>2017</td>\n",
       "      <td>4.305540</td>\n",
       "      <td>51.33708</td>\n",
       "      <td>3924628.0</td>\n",
       "      <td>3151702.0</td>\n",
       "      <td>10.00</td>\n",
       "      <td>10039</td>\n",
       "      <td>4323620</td>\n",
       "      <td>1301909</td>\n",
       "    </tr>\n",
       "    <tr>\n",
       "      <th>2578717</th>\n",
       "      <td>3731130</td>\n",
       "      <td>3.330533e+09</td>\n",
       "      <td>Pedro Hafermann</td>\n",
       "      <td>iNaturalist RG</td>\n",
       "      <td>2021-06-11</td>\n",
       "      <td>162</td>\n",
       "      <td>2021</td>\n",
       "      <td>8.686638</td>\n",
       "      <td>50.59022</td>\n",
       "      <td>4227997.0</td>\n",
       "      <td>3053992.0</td>\n",
       "      <td>81.00</td>\n",
       "      <td>10039</td>\n",
       "      <td>5387693</td>\n",
       "      <td>2363180</td>\n",
       "    </tr>\n",
       "    <tr>\n",
       "      <th>414913</th>\n",
       "      <td>3957489</td>\n",
       "      <td>3.113401e+09</td>\n",
       "      <td>lindae2</td>\n",
       "      <td>iNaturalist RG</td>\n",
       "      <td>2021-05-10</td>\n",
       "      <td>130</td>\n",
       "      <td>2021</td>\n",
       "      <td>-2.101907</td>\n",
       "      <td>53.32616</td>\n",
       "      <td>3518906.0</td>\n",
       "      <td>3424704.0</td>\n",
       "      <td>10.00</td>\n",
       "      <td>10039</td>\n",
       "      <td>3410382</td>\n",
       "      <td>392774</td>\n",
       "    </tr>\n",
       "    <tr>\n",
       "      <th>2554796</th>\n",
       "      <td>4704804</td>\n",
       "      <td>2.850548e+09</td>\n",
       "      <td>maike_o</td>\n",
       "      <td>iNaturalist RG</td>\n",
       "      <td>2020-06-30</td>\n",
       "      <td>182</td>\n",
       "      <td>2020</td>\n",
       "      <td>8.627560</td>\n",
       "      <td>50.17530</td>\n",
       "      <td>4222958.0</td>\n",
       "      <td>3007925.0</td>\n",
       "      <td>23.00</td>\n",
       "      <td>10039</td>\n",
       "      <td>5370147</td>\n",
       "      <td>2345609</td>\n",
       "    </tr>\n",
       "  </tbody>\n",
       "</table>\n",
       "<p>2664637 rows × 15 columns</p>\n",
       "</div>"
      ],
      "text/plain": [
       "           glcID        gbifID         observer            datasetName  \\\n",
       "6        4678868  3.957154e+09              NaN     Pl@ntNet automatic   \n",
       "7        1797028  3.952319e+09              NaN     Pl@ntNet automatic   \n",
       "9        1768174  3.955862e+09              NaN     Pl@ntNet automatic   \n",
       "34        304112  3.953985e+09              NaN     Pl@ntNet automatic   \n",
       "42       1751578  3.951651e+09              NaN     Pl@ntNet automatic   \n",
       "...          ...           ...              ...                    ...   \n",
       "1702364  2768427  3.949402e+09              NaN  Pl@ntNet observations   \n",
       "1359237   394413  2.235343e+09              NaN        Waarnemingen.be   \n",
       "2578717  3731130  3.330533e+09  Pedro Hafermann         iNaturalist RG   \n",
       "414913   3957489  3.113401e+09          lindae2         iNaturalist RG   \n",
       "2554796  4704804  2.850548e+09          maike_o         iNaturalist RG   \n",
       "\n",
       "               date  dayOfYear  year        lon       lat  x_EPSG3035  \\\n",
       "6        2021-07-27        208  2021 -10.467350  52.13646   2940930.0   \n",
       "7        2019-07-29        210  2019 -10.466490  52.14950   2941391.0   \n",
       "9        2021-08-27        239  2021 -10.466180  52.14698   2941333.0   \n",
       "34       2019-07-28        209  2019 -10.404300  51.89073   2937454.0   \n",
       "42       2019-06-17        168  2019 -10.372510  52.12839   2946879.0   \n",
       "...             ...        ...   ...        ...       ...         ...   \n",
       "1702364  2020-10-25        299  2020   5.545360  43.54632   3960316.0   \n",
       "1359237  2017-11-06        310  2017   4.305540  51.33708   3924628.0   \n",
       "2578717  2021-06-11        162  2021   8.686638  50.59022   4227997.0   \n",
       "414913   2021-05-10        130  2021  -2.101907  53.32616   3518906.0   \n",
       "2554796  2020-06-30        182  2020   8.627560  50.17530   4222958.0   \n",
       "\n",
       "         y_EPSG3035  geoUncertaintyInM  speciesId  patchID  timeSerieID  \n",
       "6         3421109.0               8.00       5020  3018875         1006  \n",
       "7         3422495.0              24.00       5020  3018876         1007  \n",
       "9         3422218.0              21.00       5020  3018878         1009  \n",
       "34        3393477.0              24.00       5020  3018903         1034  \n",
       "42        3418438.0              13.94       8455  3018911         1042  \n",
       "...             ...                ...        ...      ...          ...  \n",
       "1702364   2281554.0              35.87      10039  4650279      1627732  \n",
       "1359237   3151702.0              10.00      10039  4323620      1301909  \n",
       "2578717   3053992.0              81.00      10039  5387693      2363180  \n",
       "414913    3424704.0              10.00      10039  3410382       392774  \n",
       "2554796   3007925.0              23.00      10039  5370147      2345609  \n",
       "\n",
       "[2664637 rows x 15 columns]"
      ]
     },
     "execution_count": 5,
     "metadata": {},
     "output_type": "execute_result"
    }
   ],
   "source": [
    "df = pd.read_csv(presence_only_path, sep=';', index_col=0)\n",
    "df"
   ]
  },
  {
   "cell_type": "code",
   "execution_count": 71,
   "metadata": {},
   "outputs": [],
   "source": [
    "from sklearn.model_selection import train_test_split\n",
    "train_data, val_data = train_test_split(df, test_size=0.2)"
   ]
  },
  {
   "cell_type": "code",
   "execution_count": 66,
   "metadata": {},
   "outputs": [
    {
     "data": {
      "text/plain": [
       "0.08533995437277198"
      ]
     },
     "execution_count": 66,
     "metadata": {},
     "output_type": "execute_result"
    }
   ],
   "source": [
    "df[df.speciesId == 4933].shape[0] / df.shape[0] * 100"
   ]
  },
  {
   "cell_type": "code",
   "execution_count": 65,
   "metadata": {},
   "outputs": [
    {
     "data": {
      "text/plain": [
       "0.08753540000065675"
      ]
     },
     "execution_count": 65,
     "metadata": {},
     "output_type": "execute_result"
    }
   ],
   "source": [
    "train_data[train_data.speciesId == 4933].shape[0] / train_data.shape[0] * 100"
   ]
  },
  {
   "cell_type": "code",
   "execution_count": 64,
   "metadata": {},
   "outputs": [
    {
     "data": {
      "text/plain": [
       "0.07655818422000721"
      ]
     },
     "execution_count": 64,
     "metadata": {},
     "output_type": "execute_result"
    }
   ],
   "source": [
    "val_data[val_data.speciesId == 4933].shape[0] / val_data.shape[0] * 100"
   ]
  },
  {
   "cell_type": "code",
   "execution_count": 54,
   "metadata": {},
   "outputs": [
    {
     "data": {
      "text/html": [
       "<div>\n",
       "<style scoped>\n",
       "    .dataframe tbody tr th:only-of-type {\n",
       "        vertical-align: middle;\n",
       "    }\n",
       "\n",
       "    .dataframe tbody tr th {\n",
       "        vertical-align: top;\n",
       "    }\n",
       "\n",
       "    .dataframe thead th {\n",
       "        text-align: right;\n",
       "    }\n",
       "</style>\n",
       "<table border=\"1\" class=\"dataframe\">\n",
       "  <thead>\n",
       "    <tr style=\"text-align: right;\">\n",
       "      <th></th>\n",
       "      <th>glcID</th>\n",
       "      <th>gbifID</th>\n",
       "      <th>observer</th>\n",
       "      <th>datasetName</th>\n",
       "      <th>date</th>\n",
       "      <th>dayOfYear</th>\n",
       "      <th>year</th>\n",
       "      <th>lon</th>\n",
       "      <th>lat</th>\n",
       "      <th>x_EPSG3035</th>\n",
       "      <th>y_EPSG3035</th>\n",
       "      <th>geoUncertaintyInM</th>\n",
       "      <th>speciesId</th>\n",
       "      <th>patchID</th>\n",
       "      <th>timeSerieID</th>\n",
       "    </tr>\n",
       "  </thead>\n",
       "  <tbody>\n",
       "    <tr>\n",
       "      <th>717044</th>\n",
       "      <td>4007066</td>\n",
       "      <td>2.645766e+09</td>\n",
       "      <td>NaN</td>\n",
       "      <td>Pl@ntNet automatic</td>\n",
       "      <td>2019-06-25</td>\n",
       "      <td>176</td>\n",
       "      <td>2019</td>\n",
       "      <td>-0.046204</td>\n",
       "      <td>45.80299</td>\n",
       "      <td>3541687.0</td>\n",
       "      <td>2573834.0</td>\n",
       "      <td>48.0</td>\n",
       "      <td>6060</td>\n",
       "      <td>3694919</td>\n",
       "      <td>677092</td>\n",
       "    </tr>\n",
       "    <tr>\n",
       "      <th>3861688</th>\n",
       "      <td>3863996</td>\n",
       "      <td>2.896479e+09</td>\n",
       "      <td>Odsherred Kommune</td>\n",
       "      <td>DEN Environmental Portal</td>\n",
       "      <td>2019-06-05</td>\n",
       "      <td>156</td>\n",
       "      <td>2019</td>\n",
       "      <td>11.585070</td>\n",
       "      <td>55.89640</td>\n",
       "      <td>4420217.0</td>\n",
       "      <td>3644678.0</td>\n",
       "      <td>3.0</td>\n",
       "      <td>4933</td>\n",
       "      <td>6171791</td>\n",
       "      <td>3149335</td>\n",
       "    </tr>\n",
       "    <tr>\n",
       "      <th>2716925</th>\n",
       "      <td>567866</td>\n",
       "      <td>3.383967e+09</td>\n",
       "      <td>jam63</td>\n",
       "      <td>iNaturalist RG</td>\n",
       "      <td>2021-09-03</td>\n",
       "      <td>246</td>\n",
       "      <td>2021</td>\n",
       "      <td>9.022240</td>\n",
       "      <td>50.13429</td>\n",
       "      <td>4251090.0</td>\n",
       "      <td>3002912.0</td>\n",
       "      <td>4.0</td>\n",
       "      <td>6572</td>\n",
       "      <td>5476141</td>\n",
       "      <td>2451820</td>\n",
       "    </tr>\n",
       "    <tr>\n",
       "      <th>2106944</th>\n",
       "      <td>3218638</td>\n",
       "      <td>3.949017e+09</td>\n",
       "      <td>NaN</td>\n",
       "      <td>Pl@ntNet observations</td>\n",
       "      <td>2020-06-30</td>\n",
       "      <td>182</td>\n",
       "      <td>2020</td>\n",
       "      <td>6.988320</td>\n",
       "      <td>51.38851</td>\n",
       "      <td>4111426.0</td>\n",
       "      <td>3146286.0</td>\n",
       "      <td>58.1</td>\n",
       "      <td>9785</td>\n",
       "      <td>5022227</td>\n",
       "      <td>1997945</td>\n",
       "    </tr>\n",
       "    <tr>\n",
       "      <th>4713689</th>\n",
       "      <td>3207370</td>\n",
       "      <td>2.977045e+09</td>\n",
       "      <td>NaN</td>\n",
       "      <td>Pl@ntNet automatic</td>\n",
       "      <td>2020-05-02</td>\n",
       "      <td>123</td>\n",
       "      <td>2020</td>\n",
       "      <td>18.031350</td>\n",
       "      <td>48.65135</td>\n",
       "      <td>4911631.0</td>\n",
       "      <td>2869769.0</td>\n",
       "      <td>5.0</td>\n",
       "      <td>6700</td>\n",
       "      <td>6828098</td>\n",
       "      <td>3807592</td>\n",
       "    </tr>\n",
       "    <tr>\n",
       "      <th>...</th>\n",
       "      <td>...</td>\n",
       "      <td>...</td>\n",
       "      <td>...</td>\n",
       "      <td>...</td>\n",
       "      <td>...</td>\n",
       "      <td>...</td>\n",
       "      <td>...</td>\n",
       "      <td>...</td>\n",
       "      <td>...</td>\n",
       "      <td>...</td>\n",
       "      <td>...</td>\n",
       "      <td>...</td>\n",
       "      <td>...</td>\n",
       "      <td>...</td>\n",
       "      <td>...</td>\n",
       "    </tr>\n",
       "    <tr>\n",
       "      <th>2545784</th>\n",
       "      <td>2762096</td>\n",
       "      <td>2.848818e+09</td>\n",
       "      <td>Sverre Lundemo</td>\n",
       "      <td>NOR Species Observation</td>\n",
       "      <td>2020-08-15</td>\n",
       "      <td>228</td>\n",
       "      <td>2020</td>\n",
       "      <td>8.603651</td>\n",
       "      <td>61.48437</td>\n",
       "      <td>4246337.0</td>\n",
       "      <td>4265562.0</td>\n",
       "      <td>10.0</td>\n",
       "      <td>6498</td>\n",
       "      <td>5363807</td>\n",
       "      <td>2339262</td>\n",
       "    </tr>\n",
       "    <tr>\n",
       "      <th>4540985</th>\n",
       "      <td>3981383</td>\n",
       "      <td>3.949191e+09</td>\n",
       "      <td>NaN</td>\n",
       "      <td>Pl@ntNet observations</td>\n",
       "      <td>2021-06-05</td>\n",
       "      <td>156</td>\n",
       "      <td>2021</td>\n",
       "      <td>15.787500</td>\n",
       "      <td>50.02424</td>\n",
       "      <td>4735282.0</td>\n",
       "      <td>3006555.0</td>\n",
       "      <td>19.0</td>\n",
       "      <td>3204</td>\n",
       "      <td>6688898</td>\n",
       "      <td>3667918</td>\n",
       "    </tr>\n",
       "    <tr>\n",
       "      <th>2026546</th>\n",
       "      <td>2982709</td>\n",
       "      <td>3.952768e+09</td>\n",
       "      <td>NaN</td>\n",
       "      <td>Pl@ntNet automatic</td>\n",
       "      <td>2021-08-05</td>\n",
       "      <td>217</td>\n",
       "      <td>2021</td>\n",
       "      <td>6.712116</td>\n",
       "      <td>45.49092</td>\n",
       "      <td>4063696.0</td>\n",
       "      <td>2492179.0</td>\n",
       "      <td>24.0</td>\n",
       "      <td>9224</td>\n",
       "      <td>4948285</td>\n",
       "      <td>1924500</td>\n",
       "    </tr>\n",
       "    <tr>\n",
       "      <th>3140779</th>\n",
       "      <td>2128452</td>\n",
       "      <td>2.410691e+09</td>\n",
       "      <td>Kåre Arnstein Lye</td>\n",
       "      <td>NOR Species Observation</td>\n",
       "      <td>2017-05-13</td>\n",
       "      <td>133</td>\n",
       "      <td>2017</td>\n",
       "      <td>9.910771</td>\n",
       "      <td>59.06790</td>\n",
       "      <td>4315871.0</td>\n",
       "      <td>3996341.0</td>\n",
       "      <td>20.0</td>\n",
       "      <td>7896</td>\n",
       "      <td>5699296</td>\n",
       "      <td>2675408</td>\n",
       "    </tr>\n",
       "    <tr>\n",
       "      <th>816787</th>\n",
       "      <td>1842725</td>\n",
       "      <td>3.952211e+09</td>\n",
       "      <td>NaN</td>\n",
       "      <td>Pl@ntNet automatic</td>\n",
       "      <td>2020-06-03</td>\n",
       "      <td>155</td>\n",
       "      <td>2020</td>\n",
       "      <td>0.910839</td>\n",
       "      <td>48.16526</td>\n",
       "      <td>3646516.0</td>\n",
       "      <td>2825108.0</td>\n",
       "      <td>65.0</td>\n",
       "      <td>2627</td>\n",
       "      <td>3791089</td>\n",
       "      <td>772973</td>\n",
       "    </tr>\n",
       "  </tbody>\n",
       "</table>\n",
       "<p>2131709 rows × 15 columns</p>\n",
       "</div>"
      ],
      "text/plain": [
       "           glcID        gbifID           observer               datasetName  \\\n",
       "717044   4007066  2.645766e+09                NaN        Pl@ntNet automatic   \n",
       "3861688  3863996  2.896479e+09  Odsherred Kommune  DEN Environmental Portal   \n",
       "2716925   567866  3.383967e+09              jam63            iNaturalist RG   \n",
       "2106944  3218638  3.949017e+09                NaN     Pl@ntNet observations   \n",
       "4713689  3207370  2.977045e+09                NaN        Pl@ntNet automatic   \n",
       "...          ...           ...                ...                       ...   \n",
       "2545784  2762096  2.848818e+09     Sverre Lundemo   NOR Species Observation   \n",
       "4540985  3981383  3.949191e+09                NaN     Pl@ntNet observations   \n",
       "2026546  2982709  3.952768e+09                NaN        Pl@ntNet automatic   \n",
       "3140779  2128452  2.410691e+09  Kåre Arnstein Lye   NOR Species Observation   \n",
       "816787   1842725  3.952211e+09                NaN        Pl@ntNet automatic   \n",
       "\n",
       "               date  dayOfYear  year        lon       lat  x_EPSG3035  \\\n",
       "717044   2019-06-25        176  2019  -0.046204  45.80299   3541687.0   \n",
       "3861688  2019-06-05        156  2019  11.585070  55.89640   4420217.0   \n",
       "2716925  2021-09-03        246  2021   9.022240  50.13429   4251090.0   \n",
       "2106944  2020-06-30        182  2020   6.988320  51.38851   4111426.0   \n",
       "4713689  2020-05-02        123  2020  18.031350  48.65135   4911631.0   \n",
       "...             ...        ...   ...        ...       ...         ...   \n",
       "2545784  2020-08-15        228  2020   8.603651  61.48437   4246337.0   \n",
       "4540985  2021-06-05        156  2021  15.787500  50.02424   4735282.0   \n",
       "2026546  2021-08-05        217  2021   6.712116  45.49092   4063696.0   \n",
       "3140779  2017-05-13        133  2017   9.910771  59.06790   4315871.0   \n",
       "816787   2020-06-03        155  2020   0.910839  48.16526   3646516.0   \n",
       "\n",
       "         y_EPSG3035  geoUncertaintyInM  speciesId  patchID  timeSerieID  \n",
       "717044    2573834.0               48.0       6060  3694919       677092  \n",
       "3861688   3644678.0                3.0       4933  6171791      3149335  \n",
       "2716925   3002912.0                4.0       6572  5476141      2451820  \n",
       "2106944   3146286.0               58.1       9785  5022227      1997945  \n",
       "4713689   2869769.0                5.0       6700  6828098      3807592  \n",
       "...             ...                ...        ...      ...          ...  \n",
       "2545784   4265562.0               10.0       6498  5363807      2339262  \n",
       "4540985   3006555.0               19.0       3204  6688898      3667918  \n",
       "2026546   2492179.0               24.0       9224  4948285      1924500  \n",
       "3140779   3996341.0               20.0       7896  5699296      2675408  \n",
       "816787    2825108.0               65.0       2627  3791089       772973  \n",
       "\n",
       "[2131709 rows x 15 columns]"
      ]
     },
     "execution_count": 54,
     "metadata": {},
     "output_type": "execute_result"
    }
   ],
   "source": [
    "train_data"
   ]
  },
  {
   "cell_type": "code",
   "execution_count": 55,
   "metadata": {},
   "outputs": [
    {
     "data": {
      "text/html": [
       "<div>\n",
       "<style scoped>\n",
       "    .dataframe tbody tr th:only-of-type {\n",
       "        vertical-align: middle;\n",
       "    }\n",
       "\n",
       "    .dataframe tbody tr th {\n",
       "        vertical-align: top;\n",
       "    }\n",
       "\n",
       "    .dataframe thead th {\n",
       "        text-align: right;\n",
       "    }\n",
       "</style>\n",
       "<table border=\"1\" class=\"dataframe\">\n",
       "  <thead>\n",
       "    <tr style=\"text-align: right;\">\n",
       "      <th></th>\n",
       "      <th>glcID</th>\n",
       "      <th>gbifID</th>\n",
       "      <th>observer</th>\n",
       "      <th>datasetName</th>\n",
       "      <th>date</th>\n",
       "      <th>dayOfYear</th>\n",
       "      <th>year</th>\n",
       "      <th>lon</th>\n",
       "      <th>lat</th>\n",
       "      <th>x_EPSG3035</th>\n",
       "      <th>y_EPSG3035</th>\n",
       "      <th>geoUncertaintyInM</th>\n",
       "      <th>speciesId</th>\n",
       "      <th>patchID</th>\n",
       "      <th>timeSerieID</th>\n",
       "    </tr>\n",
       "  </thead>\n",
       "  <tbody>\n",
       "    <tr>\n",
       "      <th>1805820</th>\n",
       "      <td>2525253</td>\n",
       "      <td>3.953278e+09</td>\n",
       "      <td>NaN</td>\n",
       "      <td>Pl@ntNet automatic</td>\n",
       "      <td>2018-10-22</td>\n",
       "      <td>295</td>\n",
       "      <td>2018</td>\n",
       "      <td>5.918048</td>\n",
       "      <td>43.07270</td>\n",
       "      <td>3987778.0</td>\n",
       "      <td>2227420.0</td>\n",
       "      <td>3.49</td>\n",
       "      <td>7760</td>\n",
       "      <td>4744170</td>\n",
       "      <td>1721040</td>\n",
       "    </tr>\n",
       "    <tr>\n",
       "      <th>2230817</th>\n",
       "      <td>1619320</td>\n",
       "      <td>3.958882e+09</td>\n",
       "      <td>NaN</td>\n",
       "      <td>Pl@ntNet automatic</td>\n",
       "      <td>2021-06-01</td>\n",
       "      <td>152</td>\n",
       "      <td>2021</td>\n",
       "      <td>7.459309</td>\n",
       "      <td>48.45155</td>\n",
       "      <td>4133026.0</td>\n",
       "      <td>2818580.0</td>\n",
       "      <td>65.00</td>\n",
       "      <td>3007</td>\n",
       "      <td>5133600</td>\n",
       "      <td>2108632</td>\n",
       "    </tr>\n",
       "    <tr>\n",
       "      <th>1256722</th>\n",
       "      <td>474598</td>\n",
       "      <td>3.955544e+09</td>\n",
       "      <td>NaN</td>\n",
       "      <td>Pl@ntNet automatic</td>\n",
       "      <td>2021-05-18</td>\n",
       "      <td>138</td>\n",
       "      <td>2021</td>\n",
       "      <td>3.750968</td>\n",
       "      <td>47.46593</td>\n",
       "      <td>3850184.0</td>\n",
       "      <td>2725700.0</td>\n",
       "      <td>12.00</td>\n",
       "      <td>2132</td>\n",
       "      <td>4221848</td>\n",
       "      <td>1201432</td>\n",
       "    </tr>\n",
       "    <tr>\n",
       "      <th>3601085</th>\n",
       "      <td>2406287</td>\n",
       "      <td>1.882959e+09</td>\n",
       "      <td>Bjørn Petter Løfall</td>\n",
       "      <td>NOR Species Observation</td>\n",
       "      <td>2018-05-16</td>\n",
       "      <td>136</td>\n",
       "      <td>2018</td>\n",
       "      <td>10.933670</td>\n",
       "      <td>59.05363</td>\n",
       "      <td>4374687.0</td>\n",
       "      <td>3995103.0</td>\n",
       "      <td>10.00</td>\n",
       "      <td>988</td>\n",
       "      <td>5974684</td>\n",
       "      <td>2951967</td>\n",
       "    </tr>\n",
       "    <tr>\n",
       "      <th>4813758</th>\n",
       "      <td>2048151</td>\n",
       "      <td>3.325788e+09</td>\n",
       "      <td>laippo</td>\n",
       "      <td>iNaturalist RG</td>\n",
       "      <td>2021-07-05</td>\n",
       "      <td>186</td>\n",
       "      <td>2021</td>\n",
       "      <td>22.301160</td>\n",
       "      <td>60.45409</td>\n",
       "      <td>4995920.0</td>\n",
       "      <td>4209221.0</td>\n",
       "      <td>5.00</td>\n",
       "      <td>1573</td>\n",
       "      <td>6914594</td>\n",
       "      <td>3894323</td>\n",
       "    </tr>\n",
       "    <tr>\n",
       "      <th>...</th>\n",
       "      <td>...</td>\n",
       "      <td>...</td>\n",
       "      <td>...</td>\n",
       "      <td>...</td>\n",
       "      <td>...</td>\n",
       "      <td>...</td>\n",
       "      <td>...</td>\n",
       "      <td>...</td>\n",
       "      <td>...</td>\n",
       "      <td>...</td>\n",
       "      <td>...</td>\n",
       "      <td>...</td>\n",
       "      <td>...</td>\n",
       "      <td>...</td>\n",
       "      <td>...</td>\n",
       "    </tr>\n",
       "    <tr>\n",
       "      <th>3073673</th>\n",
       "      <td>2062579</td>\n",
       "      <td>2.991547e+09</td>\n",
       "      <td>Favrskov Kommune</td>\n",
       "      <td>DEN Environmental Portal</td>\n",
       "      <td>2020-08-21</td>\n",
       "      <td>234</td>\n",
       "      <td>2020</td>\n",
       "      <td>9.797880</td>\n",
       "      <td>56.37459</td>\n",
       "      <td>4308501.0</td>\n",
       "      <td>3696808.0</td>\n",
       "      <td>3.00</td>\n",
       "      <td>7054</td>\n",
       "      <td>5667350</td>\n",
       "      <td>2643385</td>\n",
       "    </tr>\n",
       "    <tr>\n",
       "      <th>2968239</th>\n",
       "      <td>2144555</td>\n",
       "      <td>3.414282e+09</td>\n",
       "      <td>Silkeborg Kommune</td>\n",
       "      <td>DEN Environmental Portal</td>\n",
       "      <td>2021-07-02</td>\n",
       "      <td>183</td>\n",
       "      <td>2021</td>\n",
       "      <td>9.608002</td>\n",
       "      <td>56.17557</td>\n",
       "      <td>4296635.0</td>\n",
       "      <td>3674713.0</td>\n",
       "      <td>27.84</td>\n",
       "      <td>7378</td>\n",
       "      <td>5613781</td>\n",
       "      <td>2589724</td>\n",
       "    </tr>\n",
       "    <tr>\n",
       "      <th>1138971</th>\n",
       "      <td>3279099</td>\n",
       "      <td>3.951615e+09</td>\n",
       "      <td>NaN</td>\n",
       "      <td>Pl@ntNet automatic</td>\n",
       "      <td>2018-06-24</td>\n",
       "      <td>175</td>\n",
       "      <td>2018</td>\n",
       "      <td>3.044954</td>\n",
       "      <td>44.65896</td>\n",
       "      <td>3769224.0</td>\n",
       "      <td>2419894.0</td>\n",
       "      <td>10.00</td>\n",
       "      <td>6912</td>\n",
       "      <td>4106280</td>\n",
       "      <td>1087251</td>\n",
       "    </tr>\n",
       "    <tr>\n",
       "      <th>3774144</th>\n",
       "      <td>1283725</td>\n",
       "      <td>3.303425e+09</td>\n",
       "      <td>Bjørn Petter Løfall</td>\n",
       "      <td>NOR Species Observation</td>\n",
       "      <td>2021-05-15</td>\n",
       "      <td>135</td>\n",
       "      <td>2021</td>\n",
       "      <td>11.369500</td>\n",
       "      <td>59.16099</td>\n",
       "      <td>4399503.0</td>\n",
       "      <td>4007442.0</td>\n",
       "      <td>4.00</td>\n",
       "      <td>2225</td>\n",
       "      <td>6103857</td>\n",
       "      <td>3081330</td>\n",
       "    </tr>\n",
       "    <tr>\n",
       "      <th>4421789</th>\n",
       "      <td>3948173</td>\n",
       "      <td>2.895666e+09</td>\n",
       "      <td>Miljøstyrelsen</td>\n",
       "      <td>DEN Environmental Portal</td>\n",
       "      <td>2018-07-04</td>\n",
       "      <td>185</td>\n",
       "      <td>2018</td>\n",
       "      <td>14.892610</td>\n",
       "      <td>55.10499</td>\n",
       "      <td>4633135.0</td>\n",
       "      <td>3566115.0</td>\n",
       "      <td>3.00</td>\n",
       "      <td>6226</td>\n",
       "      <td>6613486</td>\n",
       "      <td>3591793</td>\n",
       "    </tr>\n",
       "  </tbody>\n",
       "</table>\n",
       "<p>532928 rows × 15 columns</p>\n",
       "</div>"
      ],
      "text/plain": [
       "           glcID        gbifID             observer               datasetName  \\\n",
       "1805820  2525253  3.953278e+09                  NaN        Pl@ntNet automatic   \n",
       "2230817  1619320  3.958882e+09                  NaN        Pl@ntNet automatic   \n",
       "1256722   474598  3.955544e+09                  NaN        Pl@ntNet automatic   \n",
       "3601085  2406287  1.882959e+09  Bjørn Petter Løfall   NOR Species Observation   \n",
       "4813758  2048151  3.325788e+09               laippo            iNaturalist RG   \n",
       "...          ...           ...                  ...                       ...   \n",
       "3073673  2062579  2.991547e+09     Favrskov Kommune  DEN Environmental Portal   \n",
       "2968239  2144555  3.414282e+09    Silkeborg Kommune  DEN Environmental Portal   \n",
       "1138971  3279099  3.951615e+09                  NaN        Pl@ntNet automatic   \n",
       "3774144  1283725  3.303425e+09  Bjørn Petter Løfall   NOR Species Observation   \n",
       "4421789  3948173  2.895666e+09       Miljøstyrelsen  DEN Environmental Portal   \n",
       "\n",
       "               date  dayOfYear  year        lon       lat  x_EPSG3035  \\\n",
       "1805820  2018-10-22        295  2018   5.918048  43.07270   3987778.0   \n",
       "2230817  2021-06-01        152  2021   7.459309  48.45155   4133026.0   \n",
       "1256722  2021-05-18        138  2021   3.750968  47.46593   3850184.0   \n",
       "3601085  2018-05-16        136  2018  10.933670  59.05363   4374687.0   \n",
       "4813758  2021-07-05        186  2021  22.301160  60.45409   4995920.0   \n",
       "...             ...        ...   ...        ...       ...         ...   \n",
       "3073673  2020-08-21        234  2020   9.797880  56.37459   4308501.0   \n",
       "2968239  2021-07-02        183  2021   9.608002  56.17557   4296635.0   \n",
       "1138971  2018-06-24        175  2018   3.044954  44.65896   3769224.0   \n",
       "3774144  2021-05-15        135  2021  11.369500  59.16099   4399503.0   \n",
       "4421789  2018-07-04        185  2018  14.892610  55.10499   4633135.0   \n",
       "\n",
       "         y_EPSG3035  geoUncertaintyInM  speciesId  patchID  timeSerieID  \n",
       "1805820   2227420.0               3.49       7760  4744170      1721040  \n",
       "2230817   2818580.0              65.00       3007  5133600      2108632  \n",
       "1256722   2725700.0              12.00       2132  4221848      1201432  \n",
       "3601085   3995103.0              10.00        988  5974684      2951967  \n",
       "4813758   4209221.0               5.00       1573  6914594      3894323  \n",
       "...             ...                ...        ...      ...          ...  \n",
       "3073673   3696808.0               3.00       7054  5667350      2643385  \n",
       "2968239   3674713.0              27.84       7378  5613781      2589724  \n",
       "1138971   2419894.0              10.00       6912  4106280      1087251  \n",
       "3774144   4007442.0               4.00       2225  6103857      3081330  \n",
       "4421789   3566115.0               3.00       6226  6613486      3591793  \n",
       "\n",
       "[532928 rows x 15 columns]"
      ]
     },
     "execution_count": 55,
     "metadata": {},
     "output_type": "execute_result"
    }
   ],
   "source": [
    "val_data"
   ]
  },
  {
   "cell_type": "code",
   "execution_count": 31,
   "metadata": {},
   "outputs": [
    {
     "data": {
      "text/plain": [
       "<AxesSubplot: >"
      ]
     },
     "execution_count": 31,
     "metadata": {},
     "output_type": "execute_result"
    },
    {
     "data": {
      "image/png": "[encoded data removed]",
      "text/plain": [
       "<Figure size 640x480 with 1 Axes>"
      ]
     },
     "metadata": {},
     "output_type": "display_data"
    }
   ],
   "source": [
    "species_counts = df.groupby('speciesId').glcID.count().sort_values()\n",
    "species_counts.hist(bins=20)"
   ]
  },
  {
   "cell_type": "code",
   "execution_count": 39,
   "metadata": {},
   "outputs": [
    {
     "data": {
      "text/html": [
       "<div>\n",
       "<style scoped>\n",
       "    .dataframe tbody tr th:only-of-type {\n",
       "        vertical-align: middle;\n",
       "    }\n",
       "\n",
       "    .dataframe tbody tr th {\n",
       "        vertical-align: top;\n",
       "    }\n",
       "\n",
       "    .dataframe thead th {\n",
       "        text-align: right;\n",
       "    }\n",
       "</style>\n",
       "<table border=\"1\" class=\"dataframe\">\n",
       "  <thead>\n",
       "    <tr style=\"text-align: right;\">\n",
       "      <th></th>\n",
       "      <th>glcID</th>\n",
       "      <th>gbifID</th>\n",
       "      <th>observer</th>\n",
       "      <th>datasetName</th>\n",
       "      <th>date</th>\n",
       "      <th>dayOfYear</th>\n",
       "      <th>year</th>\n",
       "      <th>lon</th>\n",
       "      <th>lat</th>\n",
       "      <th>x_EPSG3035</th>\n",
       "      <th>y_EPSG3035</th>\n",
       "      <th>geoUncertaintyInM</th>\n",
       "      <th>speciesId</th>\n",
       "      <th>patchID</th>\n",
       "      <th>timeSerieID</th>\n",
       "    </tr>\n",
       "  </thead>\n",
       "  <tbody>\n",
       "    <tr>\n",
       "      <th>612411</th>\n",
       "      <td>267186</td>\n",
       "      <td>3.959115e+09</td>\n",
       "      <td>NaN</td>\n",
       "      <td>Pl@ntNet automatic</td>\n",
       "      <td>2021-08-11</td>\n",
       "      <td>223</td>\n",
       "      <td>2021</td>\n",
       "      <td>-0.705068</td>\n",
       "      <td>48.05901</td>\n",
       "      <td>3525832.0</td>\n",
       "      <td>2829481.0</td>\n",
       "      <td>9.21</td>\n",
       "      <td>1</td>\n",
       "      <td>3596421</td>\n",
       "      <td>578766</td>\n",
       "    </tr>\n",
       "    <tr>\n",
       "      <th>201916</th>\n",
       "      <td>3594188</td>\n",
       "      <td>3.952660e+09</td>\n",
       "      <td>NaN</td>\n",
       "      <td>Pl@ntNet automatic</td>\n",
       "      <td>2021-02-28</td>\n",
       "      <td>59</td>\n",
       "      <td>2021</td>\n",
       "      <td>-3.776326</td>\n",
       "      <td>40.22430</td>\n",
       "      <td>3149788.0</td>\n",
       "      <td>2009946.0</td>\n",
       "      <td>65.00</td>\n",
       "      <td>1</td>\n",
       "      <td>3214820</td>\n",
       "      <td>197064</td>\n",
       "    </tr>\n",
       "    <tr>\n",
       "      <th>2128125</th>\n",
       "      <td>3220719</td>\n",
       "      <td>3.959983e+09</td>\n",
       "      <td>NaN</td>\n",
       "      <td>Pl@ntNet automatic</td>\n",
       "      <td>2021-05-12</td>\n",
       "      <td>132</td>\n",
       "      <td>2021</td>\n",
       "      <td>7.052574</td>\n",
       "      <td>52.46008</td>\n",
       "      <td>4120718.0</td>\n",
       "      <td>3265250.0</td>\n",
       "      <td>16.00</td>\n",
       "      <td>1</td>\n",
       "      <td>5041355</td>\n",
       "      <td>2016945</td>\n",
       "    </tr>\n",
       "    <tr>\n",
       "      <th>3710831</th>\n",
       "      <td>3288959</td>\n",
       "      <td>3.949441e+09</td>\n",
       "      <td>NaN</td>\n",
       "      <td>Pl@ntNet observations</td>\n",
       "      <td>2021-03-26</td>\n",
       "      <td>85</td>\n",
       "      <td>2021</td>\n",
       "      <td>11.208920</td>\n",
       "      <td>48.18080</td>\n",
       "      <td>4410939.0</td>\n",
       "      <td>2785987.0</td>\n",
       "      <td>3.86</td>\n",
       "      <td>1</td>\n",
       "      <td>6057115</td>\n",
       "      <td>3034512</td>\n",
       "    </tr>\n",
       "    <tr>\n",
       "      <th>282214</th>\n",
       "      <td>456664</td>\n",
       "      <td>3.902650e+09</td>\n",
       "      <td>Steven Cross</td>\n",
       "      <td>iNaturalist RG</td>\n",
       "      <td>2021-05-01</td>\n",
       "      <td>121</td>\n",
       "      <td>2021</td>\n",
       "      <td>-3.017264</td>\n",
       "      <td>53.47863</td>\n",
       "      <td>3462037.0</td>\n",
       "      <td>3451954.0</td>\n",
       "      <td>5.00</td>\n",
       "      <td>1</td>\n",
       "      <td>3290593</td>\n",
       "      <td>272797</td>\n",
       "    </tr>\n",
       "    <tr>\n",
       "      <th>...</th>\n",
       "      <td>...</td>\n",
       "      <td>...</td>\n",
       "      <td>...</td>\n",
       "      <td>...</td>\n",
       "      <td>...</td>\n",
       "      <td>...</td>\n",
       "      <td>...</td>\n",
       "      <td>...</td>\n",
       "      <td>...</td>\n",
       "      <td>...</td>\n",
       "      <td>...</td>\n",
       "      <td>...</td>\n",
       "      <td>...</td>\n",
       "      <td>...</td>\n",
       "      <td>...</td>\n",
       "    </tr>\n",
       "    <tr>\n",
       "      <th>3043593</th>\n",
       "      <td>1825529</td>\n",
       "      <td>3.097104e+09</td>\n",
       "      <td>Giovanni Perico</td>\n",
       "      <td>iNaturalist RG</td>\n",
       "      <td>2021-04-20</td>\n",
       "      <td>110</td>\n",
       "      <td>2021</td>\n",
       "      <td>9.742413</td>\n",
       "      <td>45.62340</td>\n",
       "      <td>4300883.0</td>\n",
       "      <td>2501242.0</td>\n",
       "      <td>31.00</td>\n",
       "      <td>10039</td>\n",
       "      <td>5652210</td>\n",
       "      <td>2628219</td>\n",
       "    </tr>\n",
       "    <tr>\n",
       "      <th>1159125</th>\n",
       "      <td>488467</td>\n",
       "      <td>2.235343e+09</td>\n",
       "      <td>NaN</td>\n",
       "      <td>Waarnemingen.be</td>\n",
       "      <td>2017-09-16</td>\n",
       "      <td>259</td>\n",
       "      <td>2017</td>\n",
       "      <td>3.133670</td>\n",
       "      <td>51.02888</td>\n",
       "      <td>3840107.0</td>\n",
       "      <td>3124556.0</td>\n",
       "      <td>10.00</td>\n",
       "      <td>10039</td>\n",
       "      <td>4126600</td>\n",
       "      <td>1106964</td>\n",
       "    </tr>\n",
       "    <tr>\n",
       "      <th>2289183</th>\n",
       "      <td>2947424</td>\n",
       "      <td>3.953960e+09</td>\n",
       "      <td>NaN</td>\n",
       "      <td>Pl@ntNet automatic</td>\n",
       "      <td>2020-12-15</td>\n",
       "      <td>350</td>\n",
       "      <td>2020</td>\n",
       "      <td>7.691809</td>\n",
       "      <td>45.65934</td>\n",
       "      <td>4140885.0</td>\n",
       "      <td>2507986.0</td>\n",
       "      <td>64.00</td>\n",
       "      <td>10039</td>\n",
       "      <td>5186826</td>\n",
       "      <td>2161922</td>\n",
       "    </tr>\n",
       "    <tr>\n",
       "      <th>3994728</th>\n",
       "      <td>1982971</td>\n",
       "      <td>2.974516e+09</td>\n",
       "      <td>NaN</td>\n",
       "      <td>Pl@ntNet observations</td>\n",
       "      <td>2020-05-03</td>\n",
       "      <td>124</td>\n",
       "      <td>2020</td>\n",
       "      <td>12.036100</td>\n",
       "      <td>44.20674</td>\n",
       "      <td>4484070.0</td>\n",
       "      <td>2346271.0</td>\n",
       "      <td>9.00</td>\n",
       "      <td>10039</td>\n",
       "      <td>6261160</td>\n",
       "      <td>3238796</td>\n",
       "    </tr>\n",
       "    <tr>\n",
       "      <th>1321115</th>\n",
       "      <td>1879698</td>\n",
       "      <td>3.953045e+09</td>\n",
       "      <td>NaN</td>\n",
       "      <td>Pl@ntNet automatic</td>\n",
       "      <td>2020-04-30</td>\n",
       "      <td>121</td>\n",
       "      <td>2020</td>\n",
       "      <td>4.152443</td>\n",
       "      <td>43.55696</td>\n",
       "      <td>3847849.0</td>\n",
       "      <td>2290471.0</td>\n",
       "      <td>4.70</td>\n",
       "      <td>10039</td>\n",
       "      <td>4286095</td>\n",
       "      <td>1264376</td>\n",
       "    </tr>\n",
       "  </tbody>\n",
       "</table>\n",
       "<p>1472356 rows × 15 columns</p>\n",
       "</div>"
      ],
      "text/plain": [
       "           glcID        gbifID         observer            datasetName  \\\n",
       "612411    267186  3.959115e+09              NaN     Pl@ntNet automatic   \n",
       "201916   3594188  3.952660e+09              NaN     Pl@ntNet automatic   \n",
       "2128125  3220719  3.959983e+09              NaN     Pl@ntNet automatic   \n",
       "3710831  3288959  3.949441e+09              NaN  Pl@ntNet observations   \n",
       "282214    456664  3.902650e+09     Steven Cross         iNaturalist RG   \n",
       "...          ...           ...              ...                    ...   \n",
       "3043593  1825529  3.097104e+09  Giovanni Perico         iNaturalist RG   \n",
       "1159125   488467  2.235343e+09              NaN        Waarnemingen.be   \n",
       "2289183  2947424  3.953960e+09              NaN     Pl@ntNet automatic   \n",
       "3994728  1982971  2.974516e+09              NaN  Pl@ntNet observations   \n",
       "1321115  1879698  3.953045e+09              NaN     Pl@ntNet automatic   \n",
       "\n",
       "               date  dayOfYear  year        lon       lat  x_EPSG3035  \\\n",
       "612411   2021-08-11        223  2021  -0.705068  48.05901   3525832.0   \n",
       "201916   2021-02-28         59  2021  -3.776326  40.22430   3149788.0   \n",
       "2128125  2021-05-12        132  2021   7.052574  52.46008   4120718.0   \n",
       "3710831  2021-03-26         85  2021  11.208920  48.18080   4410939.0   \n",
       "282214   2021-05-01        121  2021  -3.017264  53.47863   3462037.0   \n",
       "...             ...        ...   ...        ...       ...         ...   \n",
       "3043593  2021-04-20        110  2021   9.742413  45.62340   4300883.0   \n",
       "1159125  2017-09-16        259  2017   3.133670  51.02888   3840107.0   \n",
       "2289183  2020-12-15        350  2020   7.691809  45.65934   4140885.0   \n",
       "3994728  2020-05-03        124  2020  12.036100  44.20674   4484070.0   \n",
       "1321115  2020-04-30        121  2020   4.152443  43.55696   3847849.0   \n",
       "\n",
       "         y_EPSG3035  geoUncertaintyInM  speciesId  patchID  timeSerieID  \n",
       "612411    2829481.0               9.21          1  3596421       578766  \n",
       "201916    2009946.0              65.00          1  3214820       197064  \n",
       "2128125   3265250.0              16.00          1  5041355      2016945  \n",
       "3710831   2785987.0               3.86          1  6057115      3034512  \n",
       "282214    3451954.0               5.00          1  3290593       272797  \n",
       "...             ...                ...        ...      ...          ...  \n",
       "3043593   2501242.0              31.00      10039  5652210      2628219  \n",
       "1159125   3124556.0              10.00      10039  4126600      1106964  \n",
       "2289183   2507986.0              64.00      10039  5186826      2161922  \n",
       "3994728   2346271.0               9.00      10039  6261160      3238796  \n",
       "1321115   2290471.0               4.70      10039  4286095      1264376  \n",
       "\n",
       "[1472356 rows x 15 columns]"
      ]
     },
     "execution_count": 39,
     "metadata": {},
     "output_type": "execute_result"
    }
   ],
   "source": [
    "df_sample = df.groupby('speciesId', group_keys=False).apply(lambda x: x.sample(frac=0.3))\n",
    "df_sample"
   ]
  },
  {
   "cell_type": "code",
   "execution_count": 41,
   "metadata": {},
   "outputs": [],
   "source": [
    "from sklearn.model_selection import train_test_split\n",
    "train_data, val_data = train_test_split(df_sample, test_size=0.2)"
   ]
  },
  {
   "cell_type": "code",
   "execution_count": 42,
   "metadata": {},
   "outputs": [
    {
     "data": {
      "text/plain": [
       "(1177884, 15)"
      ]
     },
     "execution_count": 42,
     "metadata": {},
     "output_type": "execute_result"
    }
   ],
   "source": [
    "train_data.shape"
   ]
  },
  {
   "cell_type": "code",
   "execution_count": 44,
   "metadata": {},
   "outputs": [
    {
     "data": {
      "text/html": [
       "<div>\n",
       "<style scoped>\n",
       "    .dataframe tbody tr th:only-of-type {\n",
       "        vertical-align: middle;\n",
       "    }\n",
       "\n",
       "    .dataframe tbody tr th {\n",
       "        vertical-align: top;\n",
       "    }\n",
       "\n",
       "    .dataframe thead th {\n",
       "        text-align: right;\n",
       "    }\n",
       "</style>\n",
       "<table border=\"1\" class=\"dataframe\">\n",
       "  <thead>\n",
       "    <tr style=\"text-align: right;\">\n",
       "      <th></th>\n",
       "      <th>glcID</th>\n",
       "      <th>gbifID</th>\n",
       "      <th>observer</th>\n",
       "      <th>datasetName</th>\n",
       "      <th>date</th>\n",
       "      <th>dayOfYear</th>\n",
       "      <th>year</th>\n",
       "      <th>lon</th>\n",
       "      <th>lat</th>\n",
       "      <th>x_EPSG3035</th>\n",
       "      <th>y_EPSG3035</th>\n",
       "      <th>geoUncertaintyInM</th>\n",
       "      <th>speciesId</th>\n",
       "      <th>patchID</th>\n",
       "      <th>timeSerieID</th>\n",
       "    </tr>\n",
       "  </thead>\n",
       "  <tbody>\n",
       "    <tr>\n",
       "      <th>1501153</th>\n",
       "      <td>1859929</td>\n",
       "      <td>3.955971e+09</td>\n",
       "      <td>NaN</td>\n",
       "      <td>Pl@ntNet automatic</td>\n",
       "      <td>2019-06-13</td>\n",
       "      <td>164</td>\n",
       "      <td>2019</td>\n",
       "      <td>4.787549</td>\n",
       "      <td>52.65130</td>\n",
       "      <td>3968577.0</td>\n",
       "      <td>3295109.0</td>\n",
       "      <td>24.0</td>\n",
       "      <td>3465</td>\n",
       "      <td>4462951</td>\n",
       "      <td>1441286</td>\n",
       "    </tr>\n",
       "    <tr>\n",
       "      <th>3532769</th>\n",
       "      <td>3675503</td>\n",
       "      <td>2.237249e+09</td>\n",
       "      <td>Odd Egil Stabbetorp</td>\n",
       "      <td>NOR Species Observation</td>\n",
       "      <td>2019-04-17</td>\n",
       "      <td>107</td>\n",
       "      <td>2019</td>\n",
       "      <td>10.773720</td>\n",
       "      <td>59.39463</td>\n",
       "      <td>4365057.0</td>\n",
       "      <td>4032897.0</td>\n",
       "      <td>6.0</td>\n",
       "      <td>8183</td>\n",
       "      <td>5924528</td>\n",
       "      <td>2901723</td>\n",
       "    </tr>\n",
       "    <tr>\n",
       "      <th>4904248</th>\n",
       "      <td>312285</td>\n",
       "      <td>1.822742e+09</td>\n",
       "      <td>Geir Arne Evje;Asle Bruserud;Bård Haugsrud;Øys...</td>\n",
       "      <td>NOR Species Observation</td>\n",
       "      <td>2017-07-15</td>\n",
       "      <td>196</td>\n",
       "      <td>2017</td>\n",
       "      <td>29.624340</td>\n",
       "      <td>69.97092</td>\n",
       "      <td>5068614.0</td>\n",
       "      <td>5311805.0</td>\n",
       "      <td>25.0</td>\n",
       "      <td>9802</td>\n",
       "      <td>6997481</td>\n",
       "      <td>3977275</td>\n",
       "    </tr>\n",
       "    <tr>\n",
       "      <th>2921814</th>\n",
       "      <td>2442943</td>\n",
       "      <td>2.896007e+09</td>\n",
       "      <td>Miljøstyrelsen</td>\n",
       "      <td>DEN Environmental Portal</td>\n",
       "      <td>2018-08-07</td>\n",
       "      <td>219</td>\n",
       "      <td>2018</td>\n",
       "      <td>9.510967</td>\n",
       "      <td>57.18834</td>\n",
       "      <td>4291398.0</td>\n",
       "      <td>3787419.0</td>\n",
       "      <td>3.0</td>\n",
       "      <td>2226</td>\n",
       "      <td>5590231</td>\n",
       "      <td>2566130</td>\n",
       "    </tr>\n",
       "    <tr>\n",
       "      <th>1766895</th>\n",
       "      <td>3727593</td>\n",
       "      <td>2.397448e+09</td>\n",
       "      <td>NaN</td>\n",
       "      <td>Waarnemingen.be</td>\n",
       "      <td>2019-08-08</td>\n",
       "      <td>220</td>\n",
       "      <td>2019</td>\n",
       "      <td>5.767520</td>\n",
       "      <td>51.01377</td>\n",
       "      <td>4024163.0</td>\n",
       "      <td>3108867.0</td>\n",
       "      <td>25.0</td>\n",
       "      <td>3412</td>\n",
       "      <td>4707099</td>\n",
       "      <td>1683985</td>\n",
       "    </tr>\n",
       "    <tr>\n",
       "      <th>...</th>\n",
       "      <td>...</td>\n",
       "      <td>...</td>\n",
       "      <td>...</td>\n",
       "      <td>...</td>\n",
       "      <td>...</td>\n",
       "      <td>...</td>\n",
       "      <td>...</td>\n",
       "      <td>...</td>\n",
       "      <td>...</td>\n",
       "      <td>...</td>\n",
       "      <td>...</td>\n",
       "      <td>...</td>\n",
       "      <td>...</td>\n",
       "      <td>...</td>\n",
       "      <td>...</td>\n",
       "    </tr>\n",
       "    <tr>\n",
       "      <th>3212501</th>\n",
       "      <td>3385</td>\n",
       "      <td>2.978721e+09</td>\n",
       "      <td>Odder Kommune</td>\n",
       "      <td>DEN Environmental Portal</td>\n",
       "      <td>2020-06-16</td>\n",
       "      <td>168</td>\n",
       "      <td>2020</td>\n",
       "      <td>10.039960</td>\n",
       "      <td>55.85253</td>\n",
       "      <td>4323504.0</td>\n",
       "      <td>3638704.0</td>\n",
       "      <td>3.0</td>\n",
       "      <td>8424</td>\n",
       "      <td>5734518</td>\n",
       "      <td>2710678</td>\n",
       "    </tr>\n",
       "    <tr>\n",
       "      <th>4440452</th>\n",
       "      <td>1902677</td>\n",
       "      <td>3.954973e+09</td>\n",
       "      <td>NaN</td>\n",
       "      <td>Pl@ntNet automatic</td>\n",
       "      <td>2021-04-06</td>\n",
       "      <td>96</td>\n",
       "      <td>2021</td>\n",
       "      <td>15.041410</td>\n",
       "      <td>40.19806</td>\n",
       "      <td>4752090.0</td>\n",
       "      <td>1914658.0</td>\n",
       "      <td>8.0</td>\n",
       "      <td>1038</td>\n",
       "      <td>6623657</td>\n",
       "      <td>3602050</td>\n",
       "    </tr>\n",
       "    <tr>\n",
       "      <th>481465</th>\n",
       "      <td>182148</td>\n",
       "      <td>3.352685e+09</td>\n",
       "      <td>Eaton, M. Mark</td>\n",
       "      <td>iRecord verified</td>\n",
       "      <td>2019-07-01</td>\n",
       "      <td>182</td>\n",
       "      <td>2019</td>\n",
       "      <td>-1.632443</td>\n",
       "      <td>55.43216</td>\n",
       "      <td>3587962.0</td>\n",
       "      <td>3651310.0</td>\n",
       "      <td>5.0</td>\n",
       "      <td>3116</td>\n",
       "      <td>3472666</td>\n",
       "      <td>455046</td>\n",
       "    </tr>\n",
       "    <tr>\n",
       "      <th>3192582</th>\n",
       "      <td>4529499</td>\n",
       "      <td>3.957809e+09</td>\n",
       "      <td>NaN</td>\n",
       "      <td>Pl@ntNet automatic</td>\n",
       "      <td>2020-07-12</td>\n",
       "      <td>194</td>\n",
       "      <td>2020</td>\n",
       "      <td>10.001200</td>\n",
       "      <td>50.94106</td>\n",
       "      <td>4321084.0</td>\n",
       "      <td>3092186.0</td>\n",
       "      <td>9.5</td>\n",
       "      <td>8820</td>\n",
       "      <td>5723901</td>\n",
       "      <td>2700044</td>\n",
       "    </tr>\n",
       "    <tr>\n",
       "      <th>2946230</th>\n",
       "      <td>1528300</td>\n",
       "      <td>2.897928e+09</td>\n",
       "      <td>Sara Margrete Gilberg Nyjordet</td>\n",
       "      <td>NOR Species Observation</td>\n",
       "      <td>2020-08-06</td>\n",
       "      <td>219</td>\n",
       "      <td>2020</td>\n",
       "      <td>9.560231</td>\n",
       "      <td>62.79351</td>\n",
       "      <td>4298454.0</td>\n",
       "      <td>4410195.0</td>\n",
       "      <td>10.0</td>\n",
       "      <td>4497</td>\n",
       "      <td>5602223</td>\n",
       "      <td>2578145</td>\n",
       "    </tr>\n",
       "  </tbody>\n",
       "</table>\n",
       "<p>294472 rows × 15 columns</p>\n",
       "</div>"
      ],
      "text/plain": [
       "           glcID        gbifID  \\\n",
       "1501153  1859929  3.955971e+09   \n",
       "3532769  3675503  2.237249e+09   \n",
       "4904248   312285  1.822742e+09   \n",
       "2921814  2442943  2.896007e+09   \n",
       "1766895  3727593  2.397448e+09   \n",
       "...          ...           ...   \n",
       "3212501     3385  2.978721e+09   \n",
       "4440452  1902677  3.954973e+09   \n",
       "481465    182148  3.352685e+09   \n",
       "3192582  4529499  3.957809e+09   \n",
       "2946230  1528300  2.897928e+09   \n",
       "\n",
       "                                                  observer  \\\n",
       "1501153                                                NaN   \n",
       "3532769                                Odd Egil Stabbetorp   \n",
       "4904248  Geir Arne Evje;Asle Bruserud;Bård Haugsrud;Øys...   \n",
       "2921814                                     Miljøstyrelsen   \n",
       "1766895                                                NaN   \n",
       "...                                                    ...   \n",
       "3212501                                      Odder Kommune   \n",
       "4440452                                                NaN   \n",
       "481465                                      Eaton, M. Mark   \n",
       "3192582                                                NaN   \n",
       "2946230                     Sara Margrete Gilberg Nyjordet   \n",
       "\n",
       "                      datasetName        date  dayOfYear  year        lon  \\\n",
       "1501153        Pl@ntNet automatic  2019-06-13        164  2019   4.787549   \n",
       "3532769   NOR Species Observation  2019-04-17        107  2019  10.773720   \n",
       "4904248   NOR Species Observation  2017-07-15        196  2017  29.624340   \n",
       "2921814  DEN Environmental Portal  2018-08-07        219  2018   9.510967   \n",
       "1766895           Waarnemingen.be  2019-08-08        220  2019   5.767520   \n",
       "...                           ...         ...        ...   ...        ...   \n",
       "3212501  DEN Environmental Portal  2020-06-16        168  2020  10.039960   \n",
       "4440452        Pl@ntNet automatic  2021-04-06         96  2021  15.041410   \n",
       "481465           iRecord verified  2019-07-01        182  2019  -1.632443   \n",
       "3192582        Pl@ntNet automatic  2020-07-12        194  2020  10.001200   \n",
       "2946230   NOR Species Observation  2020-08-06        219  2020   9.560231   \n",
       "\n",
       "              lat  x_EPSG3035  y_EPSG3035  geoUncertaintyInM  speciesId  \\\n",
       "1501153  52.65130   3968577.0   3295109.0               24.0       3465   \n",
       "3532769  59.39463   4365057.0   4032897.0                6.0       8183   \n",
       "4904248  69.97092   5068614.0   5311805.0               25.0       9802   \n",
       "2921814  57.18834   4291398.0   3787419.0                3.0       2226   \n",
       "1766895  51.01377   4024163.0   3108867.0               25.0       3412   \n",
       "...           ...         ...         ...                ...        ...   \n",
       "3212501  55.85253   4323504.0   3638704.0                3.0       8424   \n",
       "4440452  40.19806   4752090.0   1914658.0                8.0       1038   \n",
       "481465   55.43216   3587962.0   3651310.0                5.0       3116   \n",
       "3192582  50.94106   4321084.0   3092186.0                9.5       8820   \n",
       "2946230  62.79351   4298454.0   4410195.0               10.0       4497   \n",
       "\n",
       "         patchID  timeSerieID  \n",
       "1501153  4462951      1441286  \n",
       "3532769  5924528      2901723  \n",
       "4904248  6997481      3977275  \n",
       "2921814  5590231      2566130  \n",
       "1766895  4707099      1683985  \n",
       "...          ...          ...  \n",
       "3212501  5734518      2710678  \n",
       "4440452  6623657      3602050  \n",
       "481465   3472666       455046  \n",
       "3192582  5723901      2700044  \n",
       "2946230  5602223      2578145  \n",
       "\n",
       "[294472 rows x 15 columns]"
      ]
     },
     "execution_count": 44,
     "metadata": {},
     "output_type": "execute_result"
    }
   ],
   "source": [
    "val_data"
   ]
  },
  {
   "cell_type": "code",
   "execution_count": 40,
   "metadata": {},
   "outputs": [
    {
     "data": {
      "text/plain": [
       "<AxesSubplot: >"
      ]
     },
     "execution_count": 40,
     "metadata": {},
     "output_type": "execute_result"
    },
    {
     "data": {
      "image/png": "[encoded data removed]",
      "text/plain": [
       "<Figure size 640x480 with 1 Axes>"
      ]
     },
     "metadata": {},
     "output_type": "display_data"
    }
   ],
   "source": [
    "df_sample.groupby('speciesId').glcID.count().sort_values().hist(bins=20)"
   ]
  },
  {
   "cell_type": "code",
   "execution_count": 7,
   "metadata": {},
   "outputs": [
    {
     "ename": "ValueError",
     "evalue": "Cannot take a larger sample than population when 'replace=False'",
     "output_type": "error",
     "traceback": [
      "\u001b[0;31m---------------------------------------------------------------------------\u001b[0m",
      "\u001b[0;31mValueError\u001b[0m                                Traceback (most recent call last)",
      "Cell \u001b[0;32mIn[7], line 1\u001b[0m\n\u001b[0;32m----> 1\u001b[0m df\u001b[39m.\u001b[39;49mgroupby(\u001b[39m'\u001b[39;49m\u001b[39mspeciesId\u001b[39;49m\u001b[39m'\u001b[39;49m, group_keys\u001b[39m=\u001b[39;49m\u001b[39mFalse\u001b[39;49;00m)\u001b[39m.\u001b[39;49mapply(\u001b[39mlambda\u001b[39;49;00m x: x\u001b[39m.\u001b[39;49msample(\u001b[39m100\u001b[39;49m))\n",
      "File \u001b[0;32m~/miniconda3/envs/glc23/lib/python3.9/site-packages/pandas/core/groupby/groupby.py:1549\u001b[0m, in \u001b[0;36mGroupBy.apply\u001b[0;34m(self, func, *args, **kwargs)\u001b[0m\n\u001b[1;32m   1547\u001b[0m \u001b[39mwith\u001b[39;00m option_context(\u001b[39m\"\u001b[39m\u001b[39mmode.chained_assignment\u001b[39m\u001b[39m\"\u001b[39m, \u001b[39mNone\u001b[39;00m):\n\u001b[1;32m   1548\u001b[0m     \u001b[39mtry\u001b[39;00m:\n\u001b[0;32m-> 1549\u001b[0m         result \u001b[39m=\u001b[39m \u001b[39mself\u001b[39;49m\u001b[39m.\u001b[39;49m_python_apply_general(f, \u001b[39mself\u001b[39;49m\u001b[39m.\u001b[39;49m_selected_obj)\n\u001b[1;32m   1550\u001b[0m     \u001b[39mexcept\u001b[39;00m \u001b[39mTypeError\u001b[39;00m:\n\u001b[1;32m   1551\u001b[0m         \u001b[39m# gh-20949\u001b[39;00m\n\u001b[1;32m   1552\u001b[0m         \u001b[39m# try again, with .apply acting as a filtering\u001b[39;00m\n\u001b[0;32m   (...)\u001b[0m\n\u001b[1;32m   1556\u001b[0m         \u001b[39m# fails on *some* columns, e.g. a numeric operation\u001b[39;00m\n\u001b[1;32m   1557\u001b[0m         \u001b[39m# on a string grouper column\u001b[39;00m\n\u001b[1;32m   1559\u001b[0m         \u001b[39mwith\u001b[39;00m \u001b[39mself\u001b[39m\u001b[39m.\u001b[39m_group_selection_context():\n",
      "File \u001b[0;32m~/miniconda3/envs/glc23/lib/python3.9/site-packages/pandas/core/groupby/groupby.py:1601\u001b[0m, in \u001b[0;36mGroupBy._python_apply_general\u001b[0;34m(self, f, data, not_indexed_same, is_transform, is_agg)\u001b[0m\n\u001b[1;32m   1564\u001b[0m \u001b[39m@final\u001b[39m\n\u001b[1;32m   1565\u001b[0m \u001b[39mdef\u001b[39;00m \u001b[39m_python_apply_general\u001b[39m(\n\u001b[1;32m   1566\u001b[0m     \u001b[39mself\u001b[39m,\n\u001b[0;32m   (...)\u001b[0m\n\u001b[1;32m   1571\u001b[0m     is_agg: \u001b[39mbool\u001b[39m \u001b[39m=\u001b[39m \u001b[39mFalse\u001b[39;00m,\n\u001b[1;32m   1572\u001b[0m ) \u001b[39m-\u001b[39m\u001b[39m>\u001b[39m NDFrameT:\n\u001b[1;32m   1573\u001b[0m     \u001b[39m\"\"\"\u001b[39;00m\n\u001b[1;32m   1574\u001b[0m \u001b[39m    Apply function f in python space\u001b[39;00m\n\u001b[1;32m   1575\u001b[0m \n\u001b[0;32m   (...)\u001b[0m\n\u001b[1;32m   1599\u001b[0m \u001b[39m        data after applying f\u001b[39;00m\n\u001b[1;32m   1600\u001b[0m \u001b[39m    \"\"\"\u001b[39;00m\n\u001b[0;32m-> 1601\u001b[0m     values, mutated \u001b[39m=\u001b[39m \u001b[39mself\u001b[39;49m\u001b[39m.\u001b[39;49mgrouper\u001b[39m.\u001b[39;49mapply(f, data, \u001b[39mself\u001b[39;49m\u001b[39m.\u001b[39;49maxis)\n\u001b[1;32m   1602\u001b[0m     \u001b[39mif\u001b[39;00m not_indexed_same \u001b[39mis\u001b[39;00m \u001b[39mNone\u001b[39;00m:\n\u001b[1;32m   1603\u001b[0m         not_indexed_same \u001b[39m=\u001b[39m mutated \u001b[39mor\u001b[39;00m \u001b[39mself\u001b[39m\u001b[39m.\u001b[39mmutated\n",
      "File \u001b[0;32m~/miniconda3/envs/glc23/lib/python3.9/site-packages/pandas/core/groupby/ops.py:839\u001b[0m, in \u001b[0;36mBaseGrouper.apply\u001b[0;34m(self, f, data, axis)\u001b[0m\n\u001b[1;32m    837\u001b[0m \u001b[39m# group might be modified\u001b[39;00m\n\u001b[1;32m    838\u001b[0m group_axes \u001b[39m=\u001b[39m group\u001b[39m.\u001b[39maxes\n\u001b[0;32m--> 839\u001b[0m res \u001b[39m=\u001b[39m f(group)\n\u001b[1;32m    840\u001b[0m \u001b[39mif\u001b[39;00m \u001b[39mnot\u001b[39;00m mutated \u001b[39mand\u001b[39;00m \u001b[39mnot\u001b[39;00m _is_indexed_like(res, group_axes, axis):\n\u001b[1;32m    841\u001b[0m     mutated \u001b[39m=\u001b[39m \u001b[39mTrue\u001b[39;00m\n",
      "Cell \u001b[0;32mIn[7], line 1\u001b[0m, in \u001b[0;36m<lambda>\u001b[0;34m(x)\u001b[0m\n\u001b[0;32m----> 1\u001b[0m df\u001b[39m.\u001b[39mgroupby(\u001b[39m'\u001b[39m\u001b[39mspeciesId\u001b[39m\u001b[39m'\u001b[39m, group_keys\u001b[39m=\u001b[39m\u001b[39mFalse\u001b[39;00m)\u001b[39m.\u001b[39mapply(\u001b[39mlambda\u001b[39;00m x: x\u001b[39m.\u001b[39;49msample(\u001b[39m100\u001b[39;49m))\n",
      "File \u001b[0;32m~/miniconda3/envs/glc23/lib/python3.9/site-packages/pandas/core/generic.py:5773\u001b[0m, in \u001b[0;36mNDFrame.sample\u001b[0;34m(self, n, frac, replace, weights, random_state, axis, ignore_index)\u001b[0m\n\u001b[1;32m   5770\u001b[0m \u001b[39mif\u001b[39;00m weights \u001b[39mis\u001b[39;00m \u001b[39mnot\u001b[39;00m \u001b[39mNone\u001b[39;00m:\n\u001b[1;32m   5771\u001b[0m     weights \u001b[39m=\u001b[39m sample\u001b[39m.\u001b[39mpreprocess_weights(\u001b[39mself\u001b[39m, weights, axis)\n\u001b[0;32m-> 5773\u001b[0m sampled_indices \u001b[39m=\u001b[39m sample\u001b[39m.\u001b[39;49msample(obj_len, size, replace, weights, rs)\n\u001b[1;32m   5774\u001b[0m result \u001b[39m=\u001b[39m \u001b[39mself\u001b[39m\u001b[39m.\u001b[39mtake(sampled_indices, axis\u001b[39m=\u001b[39maxis)\n\u001b[1;32m   5776\u001b[0m \u001b[39mif\u001b[39;00m ignore_index:\n",
      "File \u001b[0;32m~/miniconda3/envs/glc23/lib/python3.9/site-packages/pandas/core/sample.py:150\u001b[0m, in \u001b[0;36msample\u001b[0;34m(obj_len, size, replace, weights, random_state)\u001b[0m\n\u001b[1;32m    147\u001b[0m     \u001b[39melse\u001b[39;00m:\n\u001b[1;32m    148\u001b[0m         \u001b[39mraise\u001b[39;00m \u001b[39mValueError\u001b[39;00m(\u001b[39m\"\u001b[39m\u001b[39mInvalid weights: weights sum to zero\u001b[39m\u001b[39m\"\u001b[39m)\n\u001b[0;32m--> 150\u001b[0m \u001b[39mreturn\u001b[39;00m random_state\u001b[39m.\u001b[39;49mchoice(obj_len, size\u001b[39m=\u001b[39;49msize, replace\u001b[39m=\u001b[39;49mreplace, p\u001b[39m=\u001b[39;49mweights)\u001b[39m.\u001b[39mastype(\n\u001b[1;32m    151\u001b[0m     np\u001b[39m.\u001b[39mintp, copy\u001b[39m=\u001b[39m\u001b[39mFalse\u001b[39;00m\n\u001b[1;32m    152\u001b[0m )\n",
      "File \u001b[0;32mmtrand.pyx:965\u001b[0m, in \u001b[0;36mnumpy.random.mtrand.RandomState.choice\u001b[0;34m()\u001b[0m\n",
      "\u001b[0;31mValueError\u001b[0m: Cannot take a larger sample than population when 'replace=False'"
     ]
    }
   ],
   "source": [
    "df.groupby('speciesId', group_keys=False).apply(lambda x: x.sample(100))"
   ]
  },
  {
   "cell_type": "code",
   "execution_count": 35,
   "metadata": {},
   "outputs": [
    {
     "data": {
      "text/plain": [
       "(2821747, 15)"
      ]
     },
     "execution_count": 35,
     "metadata": {},
     "output_type": "execute_result"
    }
   ],
   "source": [
    "thresh = 500\n",
    "frac = 0.5\n",
    "df_no_sample = df[df['speciesId'].isin(species_counts[species_counts <= thresh].index)]\n",
    "df_sample = df[df['speciesId'].isin(species_counts[species_counts > thresh].index)].groupby(\n",
    "    'speciesId', group_keys=False).apply(lambda x: x.sample(frac=frac))\n",
    "df_sampled = pd.concat([df_no_sample, df_sample])\n",
    "df_sampled.shape"
   ]
  },
  {
   "cell_type": "code",
   "execution_count": 36,
   "metadata": {},
   "outputs": [
    {
     "data": {
      "text/plain": [
       "<AxesSubplot: >"
      ]
     },
     "execution_count": 36,
     "metadata": {},
     "output_type": "execute_result"
    },
    {
     "data": {
      "image/png": "[encoded data removed]",
      "text/plain": [
       "<Figure size 640x480 with 1 Axes>"
      ]
     },
     "metadata": {},
     "output_type": "display_data"
    }
   ],
   "source": [
    "species_counts = df_sampled.groupby('speciesId').glcID.count().sort_values()\n",
    "species_counts.hist(bins=20)"
   ]
  },
  {
   "cell_type": "code",
   "execution_count": 37,
   "metadata": {},
   "outputs": [],
   "source": [
    "df_sampled.to_csv(data_path+'Presence_only_occurrences/Presences_only_train_sampled.csv', sep=';')"
   ]
  },
  {
   "cell_type": "code",
   "execution_count": 25,
   "metadata": {},
   "outputs": [
    {
     "data": {
      "text/plain": [
       "(4804620, 15)"
      ]
     },
     "execution_count": 25,
     "metadata": {},
     "output_type": "execute_result"
    }
   ],
   "source": [
    "keep_100 = \n",
    "#keep_100\n",
    "df_keep_100 = \n",
    "df_keep_100.shape"
   ]
  },
  {
   "cell_type": "code",
   "execution_count": 30,
   "metadata": {},
   "outputs": [
    {
     "data": {
      "text/plain": [
       "(2402328, 15)"
      ]
     },
     "execution_count": 30,
     "metadata": {},
     "output_type": "execute_result"
    }
   ],
   "source": [
    "df_sampled = \n",
    "df_sampled.shape"
   ]
  },
  {
   "cell_type": "code",
   "execution_count": 29,
   "metadata": {},
   "outputs": [
    {
     "data": {
      "text/plain": [
       "speciesId\n",
       "1        100\n",
       "5        100\n",
       "10       100\n",
       "11       100\n",
       "12       100\n",
       "        ... \n",
       "10025    100\n",
       "10028    100\n",
       "10034    100\n",
       "10035    100\n",
       "10039    100\n",
       "Name: glcID, Length: 3072, dtype: int64"
      ]
     },
     "execution_count": 29,
     "metadata": {},
     "output_type": "execute_result"
    }
   ],
   "source": [
    "df_sampled.groupby('speciesId').glcID.count().sort_values()"
   ]
  },
  {
   "cell_type": "code",
   "execution_count": null,
   "metadata": {},
   "outputs": [],
   "source": [
    "\n",
    "p_hfp_s = RasterPatchProvider(data_path+'EnvironmentalRasters/HumanFootprint/summarized/HFP2009_WGS84.tif') \n",
    "p_bioclim = MultipleRasterPatchProvider(data_path+'EnvironmentalRasters/Climate/BioClimatic_Average_1981-2010/')"
   ]
  },
  {
   "cell_type": "code",
   "execution_count": 4,
   "metadata": {},
   "outputs": [],
   "source": [
    "presence_only = PatchesDatasetMultiLabel(\n",
    "    occurrences=presence_only_path,\n",
    "    providers=(p_bioclim, p_hfp_s)\n",
    ")"
   ]
  },
  {
   "cell_type": "code",
   "execution_count": 8,
   "metadata": {},
   "outputs": [
    {
     "data": {
      "text/plain": [
       "10038"
      ]
     },
     "execution_count": 8,
     "metadata": {},
     "output_type": "execute_result"
    }
   ],
   "source": [
    "len(presence_only.unique_sorted_targets)"
   ]
  },
  {
   "cell_type": "code",
   "execution_count": 6,
   "metadata": {},
   "outputs": [],
   "source": [
    "presence_absence = PatchesDatasetMultiLabel(\n",
    "        occurrences=presence_absence_path, \n",
    "        providers=(p_bioclim, p_hfp_s),\n",
    "        ref_targets=presence_only.unique_sorted_targets\n",
    ")"
   ]
  },
  {
   "cell_type": "code",
   "execution_count": 32,
   "metadata": {},
   "outputs": [
    {
     "data": {
      "text/plain": [
       "array([9041, 9042, 9043, 9044, 9045, 9046, 9048, 9049, 9050, 9051])"
      ]
     },
     "execution_count": 32,
     "metadata": {},
     "output_type": "execute_result"
    }
   ],
   "source": [
    "presence_absence.unique_sorted_targets[9040:9050]"
   ]
  },
  {
   "cell_type": "code",
   "execution_count": 16,
   "metadata": {},
   "outputs": [],
   "source": [
    "df = pd.read_csv(presence_absence_path, sep=';')"
   ]
  },
  {
   "cell_type": "code",
   "execution_count": 17,
   "metadata": {},
   "outputs": [
    {
     "data": {
      "text/plain": [
       "glcID                                 5140269\n",
       "gbifID                           3473384501.0\n",
       "observer                                (IGN)\n",
       "datasetName          Inventaire forestier IGN\n",
       "date                               2018-01-31\n",
       "dayOfYear                                  31\n",
       "year                                     2018\n",
       "lon                                   7.30079\n",
       "lat                                  48.29273\n",
       "x_EPSG3035                          4120673.0\n",
       "y_EPSG3035                          2801353.0\n",
       "geoUncertaintyInM                         1.0\n",
       "speciesId                                6574\n",
       "patchID                               3018575\n",
       "timeSerieID                           3980325\n",
       "Name: 0, dtype: object"
      ]
     },
     "execution_count": 17,
     "metadata": {},
     "output_type": "execute_result"
    }
   ],
   "source": [
    "df.iloc[0]"
   ]
  },
  {
   "cell_type": "code",
   "execution_count": 18,
   "metadata": {},
   "outputs": [
    {
     "data": {
      "text/plain": [
       "(array([1282, 5313, 6573, 6945, 8078, 8986, 9010, 9328]),)"
      ]
     },
     "execution_count": 18,
     "metadata": {},
     "output_type": "execute_result"
    }
   ],
   "source": [
    "np.where(presence_absence[0][1] == 1)"
   ]
  },
  {
   "cell_type": "code",
   "execution_count": 20,
   "metadata": {},
   "outputs": [
    {
     "data": {
      "text/plain": [
       "array([1283, 5314, 6574, 6946, 8079, 8987, 9011, 9330])"
      ]
     },
     "execution_count": 20,
     "metadata": {},
     "output_type": "execute_result"
    }
   ],
   "source": [
    "presence_absence.unique_sorted_targets[np.where(presence_absence[0][1] == 1)]"
   ]
  },
  {
   "cell_type": "code",
   "execution_count": null,
   "metadata": {},
   "outputs": [],
   "source": [
    "presence"
   ]
  },
  {
   "cell_type": "code",
   "execution_count": 16,
   "metadata": {},
   "outputs": [],
   "source": [
    "occurrences = Path(presence_only_path)\n",
    "providers = (p_hfp_s, p_bioclim) \n",
    "transform=None\n",
    "target_transform=None\n",
    "id_name=\"glcID\"\n",
    "label_name=\"speciesId\"\n",
    "item_columns=['lat', 'lon', 'patchID']\n",
    "device=\"cpu\"\n",
    "provider = MetaPatchProvider(providers, transform)"
   ]
  },
  {
   "cell_type": "code",
   "execution_count": 17,
   "metadata": {},
   "outputs": [],
   "source": [
    "df = pd.read_csv(occurrences, sep=\";\", header='infer', low_memory=False)\n",
    "observation_ids = df[id_name].values\n",
    "items = df[item_columns]\n",
    "targets = df[label_name].values #speciesId\n",
    "\n",
    "unique_items = items.drop_duplicates()\n",
    "unique_sorted_targets = np.unique(np.sort(targets))"
   ]
  },
  {
   "cell_type": "code",
   "execution_count": 19,
   "metadata": {},
   "outputs": [
    {
     "name": "stdout",
     "output_type": "stream",
     "text": [
      "(100,) (96,)\n",
      "(100, 3) (100, 3)\n"
     ]
    }
   ],
   "source": [
    "print(targets.shape, unique_sorted_targets.shape)\n",
    "print(items.shape, unique_items.shape)"
   ]
  },
  {
   "cell_type": "code",
   "execution_count": 29,
   "metadata": {},
   "outputs": [
    {
     "data": {
      "text/plain": [
       "glcID                                       2522017\n",
       "gbifID                                 1882956579.0\n",
       "observer                        Bjørn Petter Løfall\n",
       "datasetName                 NOR Species Observation\n",
       "date                                     2018-06-17\n",
       "dayOfYear                                       168\n",
       "year                                           2018\n",
       "year_ecodatacube_quarter                        2.0\n",
       "lon                                        10.95154\n",
       "lat                                         59.2511\n",
       "x_EPSG3035                                4375406.0\n",
       "y_EPSG3035                                4017067.0\n",
       "geoUncertaintyInM                              10.0\n",
       "speciesId                                      9343\n",
       "patchID                                     5982155\n",
       "timeSerieID                                 2959445\n",
       "Name: 0, dtype: object"
      ]
     },
     "execution_count": 29,
     "metadata": {},
     "output_type": "execute_result"
    }
   ],
   "source": [
    "df.iloc[0]"
   ]
  },
  {
   "cell_type": "code",
   "execution_count": 30,
   "metadata": {},
   "outputs": [
    {
     "data": {
      "text/plain": [
       "{'lat': 59.2511, 'lon': 10.95154, 'patchID': 5982155.0}"
      ]
     },
     "execution_count": 30,
     "metadata": {},
     "output_type": "execute_result"
    }
   ],
   "source": [
    "#print(f\"PatchesDatasetMultiLabel __getitem__ index={index}\")\n",
    "index = 0\n",
    "item = items.iloc[index].to_dict()\n",
    "item"
   ]
  },
  {
   "cell_type": "code",
   "execution_count": 32,
   "metadata": {},
   "outputs": [
    {
     "data": {
      "text/plain": [
       "Int64Index([0], dtype='int64')"
      ]
     },
     "execution_count": 32,
     "metadata": {},
     "output_type": "execute_result"
    }
   ],
   "source": [
    "patchid_rows_i = items[items['patchID']==item['patchID']].index\n",
    "patchid_rows_i"
   ]
  },
  {
   "cell_type": "code",
   "execution_count": 34,
   "metadata": {},
   "outputs": [
    {
     "data": {
      "text/plain": [
       "(4, 128, 128)"
      ]
     },
     "execution_count": 34,
     "metadata": {},
     "output_type": "execute_result"
    }
   ],
   "source": [
    "patch = provider[item]\n",
    "patch.shape"
   ]
  },
  {
   "cell_type": "code",
   "execution_count": 35,
   "metadata": {},
   "outputs": [
    {
     "name": "stdout",
     "output_type": "stream",
     "text": [
      "9343\n"
     ]
    },
    {
     "data": {
      "text/plain": [
       "array([0., 0., 0., 0., 0., 0., 0., 0., 0., 0., 0., 0., 0., 0., 0., 0., 0.,\n",
       "       0., 0., 0., 0., 0., 0., 0., 0., 0., 0., 0., 0., 0., 0., 0., 0., 0.,\n",
       "       0., 0., 0., 0., 0., 0., 0., 0., 0., 0., 0., 0., 0., 0., 0., 0., 0.,\n",
       "       0., 0., 0., 0., 0., 0., 0., 0., 0., 0., 0., 0., 0., 0., 0., 0., 0.,\n",
       "       0., 0., 0., 0., 0., 0., 0., 0., 0., 0., 0., 0., 0., 0., 0., 0., 0.,\n",
       "       1., 0., 0., 0., 0., 0., 0., 0., 0., 0., 0.])"
      ]
     },
     "execution_count": 35,
     "metadata": {},
     "output_type": "execute_result"
    }
   ],
   "source": [
    "item_targets = np.zeros(len(unique_sorted_targets))\n",
    "for idx in patchid_rows_i:\n",
    "    target = targets[idx]\n",
    "    if target_transform:\n",
    "        target = target_transform(target)\n",
    "    print(target)\n",
    "    item_targets[np.where(unique_sorted_targets==target)] = 1\n",
    "item_targets"
   ]
  },
  {
   "cell_type": "code",
   "execution_count": 37,
   "metadata": {},
   "outputs": [
    {
     "data": {
      "text/plain": [
       "array([9343])"
      ]
     },
     "execution_count": 37,
     "metadata": {},
     "output_type": "execute_result"
    }
   ],
   "source": [
    "unique_sorted_targets[item_targets == 1]"
   ]
  },
  {
   "cell_type": "code",
   "execution_count": 21,
   "metadata": {},
   "outputs": [
    {
     "data": {
      "text/plain": [
       "Int64Index([0], dtype='int64')"
      ]
     },
     "execution_count": 21,
     "metadata": {},
     "output_type": "execute_result"
    }
   ],
   "source": [
    "\n",
    "        \n",
    "        item_targets = np.zeros(len(self.unique_sorted_targets))\n",
    "        for idx in patchid_rows_i:\n",
    "            target = self.targets[idx]\n",
    "            if self.target_transform:\n",
    "                target = self.target_transform(target)\n",
    "            item_targets[np.where(self.unique_sorted_targets==target)] = 1\n",
    "\n",
    "        print(index, len(item_targets), item_targets.sum(), item_targets[np.where(item_targets!=0)])\n",
    "        item_targets = torch.from_numpy(item_targets).to(self.device)\n",
    "\n",
    "        return torch.from_numpy(patch).float().to(self.device), item_targets"
   ]
  },
  {
   "cell_type": "code",
   "execution_count": 22,
   "metadata": {},
   "outputs": [
    {
     "data": {
      "text/plain": [
       "array([  24,  216,  232,  254,  285,  435,  518,  644,  784,  801,  830,\n",
       "       1108, 1131, 1503, 1576, 1580, 1706, 1729, 1894, 1954, 2165, 2730,\n",
       "       2752, 2828, 2963, 2989, 3271, 3349, 3384, 3659, 3674, 3704, 3852,\n",
       "       3892, 3911, 3943, 4013, 4051, 4102, 4143, 4318, 4634, 4835, 4866,\n",
       "       5000, 5072, 5154, 5233, 5448, 5767, 5773, 5776, 5868, 6026, 6249,\n",
       "       6461, 6523, 6705, 6826, 7021, 7193, 7246, 7287, 7449, 7583, 7722,\n",
       "       7740, 7746, 7747, 7826, 7858, 7904, 8058, 8106, 8126, 8144, 8308,\n",
       "       8367, 8395, 8456, 8487, 8504, 8820, 8987, 9120, 9343, 9509, 9540,\n",
       "       9558, 9607, 9669, 9675, 9739, 9753, 9785, 9826])"
      ]
     },
     "execution_count": 22,
     "metadata": {},
     "output_type": "execute_result"
    }
   ],
   "source": [
    "unique_sorted_targets"
   ]
  },
  {
   "cell_type": "code",
   "execution_count": 23,
   "metadata": {},
   "outputs": [
    {
     "data": {
      "text/plain": [
       "(4, 128, 128)"
      ]
     },
     "execution_count": 23,
     "metadata": {},
     "output_type": "execute_result"
    }
   ],
   "source": [
    "patch = provider[item]\n",
    "patch.shape"
   ]
  },
  {
   "cell_type": "code",
   "execution_count": 25,
   "metadata": {},
   "outputs": [
    {
     "data": {
      "text/plain": [
       "0.0"
      ]
     },
     "execution_count": 25,
     "metadata": {},
     "output_type": "execute_result"
    }
   ],
   "source": [
    "item_targets = np.zeros(len(unique_sorted_targets))\n",
    "item_targets.sum()"
   ]
  },
  {
   "cell_type": "code",
   "execution_count": 27,
   "metadata": {},
   "outputs": [
    {
     "name": "stdout",
     "output_type": "stream",
     "text": [
      "0 9343\n",
      "[0. 0. 0. 0. 0. 0. 0. 0. 0. 0. 0. 0. 0. 0. 0. 0. 0. 0. 0. 0. 0. 0. 0. 0.\n",
      " 0. 0. 0. 0. 0. 0. 0. 0. 0. 0. 0. 0. 0. 0. 0. 0. 0. 0. 0. 0. 0. 0. 0. 0.\n",
      " 0. 0. 0. 0. 0. 0. 0. 0. 0. 0. 0. 0. 0. 0. 0. 0. 0. 0. 0. 0. 0. 0. 0. 0.\n",
      " 0. 0. 0. 0. 0. 0. 0. 0. 0. 0. 0. 0. 0. 1. 0. 0. 0. 0. 0. 0. 0. 0. 0. 0.]\n"
     ]
    }
   ],
   "source": [
    "for idx in patchid_rows_i:\n",
    "    target = targets[idx]\n",
    "    print(idx, target)\n",
    "    item_targets[np.where(unique_sorted_targets==target)] = 1\n",
    "\n",
    "print(item_targets)"
   ]
  },
  {
   "cell_type": "code",
   "execution_count": null,
   "metadata": {},
   "outputs": [],
   "source": [
    "\n",
    "        for idx in patchid_rows_i:\n",
    "            target = self.targets[idx]\n",
    "            if self.target_transform:\n",
    "                target = self.target_transform(target)\n",
    "            targets[np.where(self.targets_sorted==target)] = 1\n",
    "\n",
    "        print(index, len(targets), targets.sum(), targets[np.where(targets!=0)])\n",
    "        targets = torch.from_numpy(targets).to(self.device)\n",
    "\n",
    "        return torch.from_numpy(patch).float().to(self.device), targets"
   ]
  },
  {
   "cell_type": "code",
   "execution_count": 37,
   "metadata": {},
   "outputs": [
    {
     "name": "stdout",
     "output_type": "stream",
     "text": [
      "MetaPatchProvider __getitem__ item={'lat': 59.2511, 'lon': 10.95154, 'patchID': 5982155.0}\n",
      "RasterPatchProvider __getitem__ item={'lat': 59.2511, 'lon': 10.95154, 'patchID': 5982155.0}\n",
      "RasterPatchProvider __getitem__ item={'lat': 59.2511, 'lon': 10.95154, 'patchID': 5982155.0}\n",
      "RasterPatchProvider __getitem__ item={'lat': 59.2511, 'lon': 10.95154, 'patchID': 5982155.0}\n",
      "RasterPatchProvider __getitem__ item={'lat': 59.2511, 'lon': 10.95154, 'patchID': 5982155.0}\n"
     ]
    },
    {
     "data": {
      "text/plain": [
       "(4, 128, 128)"
      ]
     },
     "execution_count": 37,
     "metadata": {},
     "output_type": "execute_result"
    }
   ],
   "source": [
    "patch = provider[item]\n",
    "patch.shape"
   ]
  },
  {
   "cell_type": "code",
   "execution_count": 48,
   "metadata": {},
   "outputs": [
    {
     "data": {
      "text/plain": [
       "array([0., 0., 0., 0., 0., 0., 0., 0., 0., 0., 0., 0., 0., 0., 0., 0., 0.,\n",
       "       0., 0., 0., 0., 0., 0., 0., 0., 0., 0., 0., 0., 0., 0., 0., 0., 0.,\n",
       "       0., 0., 0., 0., 0., 0., 0., 0., 0., 0., 0., 0., 0., 0., 0., 0., 0.,\n",
       "       0., 0., 0., 0., 0., 0., 0., 0., 0., 0., 0., 0., 0., 0., 0., 0., 0.,\n",
       "       0., 0., 0., 0., 0., 0., 0., 0., 0., 0., 0., 0., 0., 0., 0., 0., 0.,\n",
       "       0., 0., 0., 0., 0., 0., 0., 0., 0., 0., 0., 0., 0., 0., 0.])"
      ]
     },
     "execution_count": 48,
     "metadata": {},
     "output_type": "execute_result"
    }
   ],
   "source": [
    "targets_vec = np.zeros(len(targets))\n",
    "targets_vec"
   ]
  },
  {
   "cell_type": "code",
   "execution_count": 51,
   "metadata": {},
   "outputs": [
    {
     "data": {
      "text/plain": [
       "array([1.])"
      ]
     },
     "execution_count": 51,
     "metadata": {},
     "output_type": "execute_result"
    }
   ],
   "source": [
    "targets_vec[np.where(targets_vec!=0)]"
   ]
  },
  {
   "cell_type": "code",
   "execution_count": 49,
   "metadata": {},
   "outputs": [
    {
     "data": {
      "text/plain": [
       "9343"
      ]
     },
     "execution_count": 49,
     "metadata": {},
     "output_type": "execute_result"
    }
   ],
   "source": [
    "idx=0\n",
    "target = targets[idx]\n",
    "target"
   ]
  },
  {
   "cell_type": "code",
   "execution_count": 50,
   "metadata": {},
   "outputs": [
    {
     "data": {
      "text/plain": [
       "array([0., 0., 0., 0., 0., 0., 0., 0., 0., 0., 0., 0., 0., 0., 0., 0., 0.,\n",
       "       0., 0., 0., 0., 0., 0., 0., 0., 0., 0., 0., 0., 0., 0., 0., 0., 0.,\n",
       "       0., 0., 0., 0., 0., 0., 0., 0., 0., 0., 0., 0., 0., 0., 0., 0., 0.,\n",
       "       0., 0., 0., 0., 0., 0., 0., 0., 0., 0., 0., 0., 0., 0., 0., 0., 0.,\n",
       "       0., 0., 0., 0., 0., 0., 0., 0., 0., 0., 0., 0., 0., 0., 0., 0., 0.,\n",
       "       0., 0., 0., 1., 0., 0., 0., 0., 0., 0., 0., 0., 0., 0., 0.])"
      ]
     },
     "execution_count": 50,
     "metadata": {},
     "output_type": "execute_result"
    }
   ],
   "source": [
    "targets_vec[np.where(targets_sorted==target)] = 1\n",
    "targets_vec"
   ]
  },
  {
   "cell_type": "code",
   "execution_count": null,
   "metadata": {},
   "outputs": [],
   "source": [
    "\n",
    "        \n",
    "        for idx in patchid_rows_i:\n",
    "            target = self.targets[idx]\n",
    "            if self.target_transform:\n",
    "                target = self.target_transform(target)\n",
    "            \n",
    "        targets = torch.from_numpy(targets).to(self.device)"
   ]
  },
  {
   "cell_type": "code",
   "execution_count": null,
   "metadata": {},
   "outputs": [],
   "source": [
    "\n",
    "class PatchesDataset(Dataset):\n",
    "    def __init__(\n",
    "        self,\n",
    "        occurrences,\n",
    "        providers,\n",
    "        transform=None,\n",
    "        target_transform=None,\n",
    "        id_name=\"glcID\",\n",
    "        label_name=\"speciesId\",\n",
    "        item_columns=['lat', 'lon', 'patchID'],\n",
    "        device=\"cpu\"\n",
    "    ):\n",
    "        #print(\"PatchesDataset __init__\")\n",
    "        self.occurences = Path(occurrences)\n",
    "        self.base_providers = providers\n",
    "        self.transform = transform\n",
    "        self.target_transform = target_transform\n",
    "        self.provider = MetaPatchProvider(self.base_providers, self.transform)\n",
    "        self.device = device\n",
    "\n",
    "        df = pd.read_csv(self.occurences, sep=\";\", header='infer', low_memory=False)\n",
    "\n",
    "        self.observation_ids = df[id_name].values\n",
    "        self.items = df[item_columns]\n",
    "        self.targets = df[label_name].values\n",
    "\n",
    "    def __len__(self):\n",
    "        #print(\"PatchesDataset __init__\")\n",
    "        return len(self.observation_ids)\n",
    "\n",
    "    def __getitem__(self, index):\n",
    "        #print(f\"PatchesDataset __getitem__ index={index}\")\n",
    "\n",
    "        item = self.items.iloc[index].to_dict()\n",
    "        patch = self.provider[item]\n",
    "        target = self.targets[index]\n",
    "\n",
    "        if self.target_transform:\n",
    "            target = self.target_transform(target)\n",
    "\n",
    "        return torch.from_numpy(patch).float().to(self.device), target\n",
    "    \n",
    "    def plot_patch(self, index):\n",
    "        item = self.items.iloc[index].to_dict()\n",
    "        self.provider.plot_patch(item)\n",
    "\n",
    "\n",
    "class PatchesDatasetMultiLabel(PatchesDataset):\n",
    "    def __init__(self,\n",
    "        occurrences,\n",
    "        providers,\n",
    "        transform=None,\n",
    "        target_transform=None,\n",
    "        id_name=\"glcID\",\n",
    "        label_name=\"speciesId\",\n",
    "        item_columns=['lat', 'lon', 'patchID'],\n",
    "        device=\"cpu\"\n",
    "    ):\n",
    "        #print(\"PatchesDatasetMultiLabel __init__\")\n",
    "        super().__init__(occurrences, providers, transform, target_transform, id_name, label_name, item_columns, device)\n",
    "        \n",
    "    def __getitem__(self, index):\n",
    "        #print(f\"PatchesDatasetMultiLabel __getitem__ index={index}\")\n",
    "        item = self.items.iloc[index].to_dict()\n",
    "        patchid_rows_i = self.items[self.items['patchID']==item['patchID']].index\n",
    "        self.targets_sorted = np.sort(self.targets)\n",
    "\n",
    "        patch = self.provider[item]\n",
    "        targets = np.zeros(len(self.targets))\n",
    "        for idx in patchid_rows_i:\n",
    "            target = self.targets[idx]\n",
    "            if self.target_transform:\n",
    "                target = self.target_transform(target)\n",
    "            targets[np.where(self.targets_sorted==target)] = 1\n",
    "        targets = torch.from_numpy(targets).to(self.device)\n",
    "\n",
    "        return torch.from_numpy(patch).float().to(self.device), targets"
   ]
  },
  {
   "cell_type": "code",
   "execution_count": 3,
   "metadata": {},
   "outputs": [
    {
     "name": "stdout",
     "output_type": "stream",
     "text": [
      "cuda:0\n"
     ]
    }
   ],
   "source": [
    "dev = torch.device(\"cuda:0\" if torch.cuda.is_available() else \"cpu\")\n",
    "print(dev)"
   ]
  },
  {
   "cell_type": "code",
   "execution_count": 35,
   "metadata": {},
   "outputs": [
    {
     "name": "stdout",
     "output_type": "stream",
     "text": [
      "---- RasterPatchProvider __init__\n"
     ]
    }
   ],
   "source": [
    "data_path = 'data/full_data/'\n",
    "presence_only_path = data_path+'Presence_only_occurrences/Presences_only_train.csv'\n",
    "p_hfp_s = RasterPatchProvider(data_path+'EnvironmentalRasters/HumanFootprint/summarized/HFP2009_WGS84.tif') # take the human footprint 2009 summurized raster\n",
    "#presence_only = PatchesDatasetMultiLabel(occurrences=presence_only_path, providers=(p_hfp_s), device=dev)\n"
   ]
  },
  {
   "cell_type": "code",
   "execution_count": 36,
   "metadata": {},
   "outputs": [
    {
     "data": {
      "text/html": [
       "<div>\n",
       "<style scoped>\n",
       "    .dataframe tbody tr th:only-of-type {\n",
       "        vertical-align: middle;\n",
       "    }\n",
       "\n",
       "    .dataframe tbody tr th {\n",
       "        vertical-align: top;\n",
       "    }\n",
       "\n",
       "    .dataframe thead th {\n",
       "        text-align: right;\n",
       "    }\n",
       "</style>\n",
       "<table border=\"1\" class=\"dataframe\">\n",
       "  <thead>\n",
       "    <tr style=\"text-align: right;\">\n",
       "      <th></th>\n",
       "      <th>glcID</th>\n",
       "      <th>gbifID</th>\n",
       "      <th>observer</th>\n",
       "      <th>datasetName</th>\n",
       "      <th>date</th>\n",
       "      <th>dayOfYear</th>\n",
       "      <th>year</th>\n",
       "      <th>lon</th>\n",
       "      <th>lat</th>\n",
       "      <th>x_EPSG3035</th>\n",
       "      <th>y_EPSG3035</th>\n",
       "      <th>geoUncertaintyInM</th>\n",
       "      <th>speciesId</th>\n",
       "      <th>patchID</th>\n",
       "      <th>timeSerieID</th>\n",
       "    </tr>\n",
       "  </thead>\n",
       "  <tbody>\n",
       "    <tr>\n",
       "      <th>0</th>\n",
       "      <td>2774863</td>\n",
       "      <td>1.978418e+09</td>\n",
       "      <td>Jim Kingdon</td>\n",
       "      <td>iNaturalist RG</td>\n",
       "      <td>2018-09-29</td>\n",
       "      <td>272</td>\n",
       "      <td>2018</td>\n",
       "      <td>-10.53904</td>\n",
       "      <td>51.77186</td>\n",
       "      <td>2924908.0</td>\n",
       "      <td>3383275.0</td>\n",
       "      <td>4.0</td>\n",
       "      <td>8075</td>\n",
       "      <td>3018869</td>\n",
       "      <td>1000</td>\n",
       "    </tr>\n",
       "    <tr>\n",
       "      <th>1</th>\n",
       "      <td>1043549</td>\n",
       "      <td>2.397517e+09</td>\n",
       "      <td>Julie Hall</td>\n",
       "      <td>iNaturalist RG</td>\n",
       "      <td>2019-08-22</td>\n",
       "      <td>234</td>\n",
       "      <td>2019</td>\n",
       "      <td>-10.53875</td>\n",
       "      <td>51.77226</td>\n",
       "      <td>2924939.0</td>\n",
       "      <td>3383313.0</td>\n",
       "      <td>5.0</td>\n",
       "      <td>8075</td>\n",
       "      <td>3018870</td>\n",
       "      <td>1001</td>\n",
       "    </tr>\n",
       "    <tr>\n",
       "      <th>2</th>\n",
       "      <td>3104839</td>\n",
       "      <td>3.953467e+09</td>\n",
       "      <td>NaN</td>\n",
       "      <td>Pl@ntNet automatic</td>\n",
       "      <td>2019-07-10</td>\n",
       "      <td>191</td>\n",
       "      <td>2019</td>\n",
       "      <td>-10.47597</td>\n",
       "      <td>52.11013</td>\n",
       "      <td>2939549.0</td>\n",
       "      <td>3418442.0</td>\n",
       "      <td>5.0</td>\n",
       "      <td>6477</td>\n",
       "      <td>3018871</td>\n",
       "      <td>1002</td>\n",
       "    </tr>\n",
       "    <tr>\n",
       "      <th>3</th>\n",
       "      <td>1800638</td>\n",
       "      <td>2.294436e+09</td>\n",
       "      <td>gsauce</td>\n",
       "      <td>iNaturalist RG</td>\n",
       "      <td>2019-07-02</td>\n",
       "      <td>183</td>\n",
       "      <td>2019</td>\n",
       "      <td>-10.47555</td>\n",
       "      <td>52.15074</td>\n",
       "      <td>2940838.0</td>\n",
       "      <td>3422801.0</td>\n",
       "      <td>6.0</td>\n",
       "      <td>5783</td>\n",
       "      <td>3018872</td>\n",
       "      <td>1003</td>\n",
       "    </tr>\n",
       "    <tr>\n",
       "      <th>4</th>\n",
       "      <td>4873519</td>\n",
       "      <td>2.265857e+09</td>\n",
       "      <td>guillaumevigneault</td>\n",
       "      <td>iNaturalist RG</td>\n",
       "      <td>2019-06-07</td>\n",
       "      <td>158</td>\n",
       "      <td>2019</td>\n",
       "      <td>-10.47497</td>\n",
       "      <td>52.10978</td>\n",
       "      <td>2939604.0</td>\n",
       "      <td>3418385.0</td>\n",
       "      <td>30.0</td>\n",
       "      <td>9011</td>\n",
       "      <td>3018873</td>\n",
       "      <td>1004</td>\n",
       "    </tr>\n",
       "    <tr>\n",
       "      <th>...</th>\n",
       "      <td>...</td>\n",
       "      <td>...</td>\n",
       "      <td>...</td>\n",
       "      <td>...</td>\n",
       "      <td>...</td>\n",
       "      <td>...</td>\n",
       "      <td>...</td>\n",
       "      <td>...</td>\n",
       "      <td>...</td>\n",
       "      <td>...</td>\n",
       "      <td>...</td>\n",
       "      <td>...</td>\n",
       "      <td>...</td>\n",
       "      <td>...</td>\n",
       "      <td>...</td>\n",
       "    </tr>\n",
       "    <tr>\n",
       "      <th>4908314</th>\n",
       "      <td>2889852</td>\n",
       "      <td>3.892391e+09</td>\n",
       "      <td>Alenka Mihoric</td>\n",
       "      <td>iNaturalist RG</td>\n",
       "      <td>2018-05-09</td>\n",
       "      <td>129</td>\n",
       "      <td>2018</td>\n",
       "      <td>34.54567</td>\n",
       "      <td>35.64241</td>\n",
       "      <td>6523828.0</td>\n",
       "      <td>1753690.0</td>\n",
       "      <td>21.0</td>\n",
       "      <td>148</td>\n",
       "      <td>7000525</td>\n",
       "      <td>3980319</td>\n",
       "    </tr>\n",
       "    <tr>\n",
       "      <th>4908315</th>\n",
       "      <td>1261849</td>\n",
       "      <td>3.355773e+09</td>\n",
       "      <td>Alenka Mihoric</td>\n",
       "      <td>iNaturalist RG</td>\n",
       "      <td>2018-05-09</td>\n",
       "      <td>129</td>\n",
       "      <td>2018</td>\n",
       "      <td>34.54568</td>\n",
       "      <td>35.64243</td>\n",
       "      <td>6523828.0</td>\n",
       "      <td>1753692.0</td>\n",
       "      <td>38.0</td>\n",
       "      <td>625</td>\n",
       "      <td>7000526</td>\n",
       "      <td>3980320</td>\n",
       "    </tr>\n",
       "    <tr>\n",
       "      <th>4908316</th>\n",
       "      <td>844504</td>\n",
       "      <td>2.841228e+09</td>\n",
       "      <td>NaN</td>\n",
       "      <td>Observation.org</td>\n",
       "      <td>2019-01-24</td>\n",
       "      <td>24</td>\n",
       "      <td>2019</td>\n",
       "      <td>34.55360</td>\n",
       "      <td>35.64514</td>\n",
       "      <td>6524428.0</td>\n",
       "      <td>1754209.0</td>\n",
       "      <td>10.0</td>\n",
       "      <td>1088</td>\n",
       "      <td>7000527</td>\n",
       "      <td>3980321</td>\n",
       "    </tr>\n",
       "    <tr>\n",
       "      <th>4908317</th>\n",
       "      <td>346527</td>\n",
       "      <td>2.842044e+09</td>\n",
       "      <td>NaN</td>\n",
       "      <td>Observation.org</td>\n",
       "      <td>2019-01-24</td>\n",
       "      <td>24</td>\n",
       "      <td>2019</td>\n",
       "      <td>34.55388</td>\n",
       "      <td>35.64499</td>\n",
       "      <td>6524457.0</td>\n",
       "      <td>1754201.0</td>\n",
       "      <td>10.0</td>\n",
       "      <td>982</td>\n",
       "      <td>7000528</td>\n",
       "      <td>3980322</td>\n",
       "    </tr>\n",
       "    <tr>\n",
       "      <th>4908318</th>\n",
       "      <td>713628</td>\n",
       "      <td>3.355790e+09</td>\n",
       "      <td>Alenka Mihoric</td>\n",
       "      <td>iNaturalist RG</td>\n",
       "      <td>2018-05-09</td>\n",
       "      <td>129</td>\n",
       "      <td>2018</td>\n",
       "      <td>34.55792</td>\n",
       "      <td>35.64384</td>\n",
       "      <td>6524841.0</td>\n",
       "      <td>1754195.0</td>\n",
       "      <td>8.0</td>\n",
       "      <td>9395</td>\n",
       "      <td>7000529</td>\n",
       "      <td>3980323</td>\n",
       "    </tr>\n",
       "  </tbody>\n",
       "</table>\n",
       "<p>4908319 rows × 15 columns</p>\n",
       "</div>"
      ],
      "text/plain": [
       "           glcID        gbifID            observer         datasetName  \\\n",
       "0        2774863  1.978418e+09         Jim Kingdon      iNaturalist RG   \n",
       "1        1043549  2.397517e+09          Julie Hall      iNaturalist RG   \n",
       "2        3104839  3.953467e+09                 NaN  Pl@ntNet automatic   \n",
       "3        1800638  2.294436e+09              gsauce      iNaturalist RG   \n",
       "4        4873519  2.265857e+09  guillaumevigneault      iNaturalist RG   \n",
       "...          ...           ...                 ...                 ...   \n",
       "4908314  2889852  3.892391e+09      Alenka Mihoric      iNaturalist RG   \n",
       "4908315  1261849  3.355773e+09      Alenka Mihoric      iNaturalist RG   \n",
       "4908316   844504  2.841228e+09                 NaN     Observation.org   \n",
       "4908317   346527  2.842044e+09                 NaN     Observation.org   \n",
       "4908318   713628  3.355790e+09      Alenka Mihoric      iNaturalist RG   \n",
       "\n",
       "               date  dayOfYear  year       lon       lat  x_EPSG3035  \\\n",
       "0        2018-09-29        272  2018 -10.53904  51.77186   2924908.0   \n",
       "1        2019-08-22        234  2019 -10.53875  51.77226   2924939.0   \n",
       "2        2019-07-10        191  2019 -10.47597  52.11013   2939549.0   \n",
       "3        2019-07-02        183  2019 -10.47555  52.15074   2940838.0   \n",
       "4        2019-06-07        158  2019 -10.47497  52.10978   2939604.0   \n",
       "...             ...        ...   ...       ...       ...         ...   \n",
       "4908314  2018-05-09        129  2018  34.54567  35.64241   6523828.0   \n",
       "4908315  2018-05-09        129  2018  34.54568  35.64243   6523828.0   \n",
       "4908316  2019-01-24         24  2019  34.55360  35.64514   6524428.0   \n",
       "4908317  2019-01-24         24  2019  34.55388  35.64499   6524457.0   \n",
       "4908318  2018-05-09        129  2018  34.55792  35.64384   6524841.0   \n",
       "\n",
       "         y_EPSG3035  geoUncertaintyInM  speciesId  patchID  timeSerieID  \n",
       "0         3383275.0                4.0       8075  3018869         1000  \n",
       "1         3383313.0                5.0       8075  3018870         1001  \n",
       "2         3418442.0                5.0       6477  3018871         1002  \n",
       "3         3422801.0                6.0       5783  3018872         1003  \n",
       "4         3418385.0               30.0       9011  3018873         1004  \n",
       "...             ...                ...        ...      ...          ...  \n",
       "4908314   1753690.0               21.0        148  7000525      3980319  \n",
       "4908315   1753692.0               38.0        625  7000526      3980320  \n",
       "4908316   1754209.0               10.0       1088  7000527      3980321  \n",
       "4908317   1754201.0               10.0        982  7000528      3980322  \n",
       "4908318   1754195.0                8.0       9395  7000529      3980323  \n",
       "\n",
       "[4908319 rows x 15 columns]"
      ]
     },
     "execution_count": 36,
     "metadata": {},
     "output_type": "execute_result"
    }
   ],
   "source": [
    "#PatchesDatasetMultiLabel __init__\n",
    "occurrences = presence_only_path\n",
    "occurrences = Path(occurrences)\n",
    "providers = (p_hfp_s)\n",
    "device = dev\n",
    "transform=None\n",
    "target_transform=None,\n",
    "id_name=\"glcID\",\n",
    "label_name=\"speciesId\"\n",
    "item_columns=['lat', 'lon', 'patchID']\n",
    "#PatchesDataset __init__\n",
    "#self.provider = MetaPatchProvider(self.base_providers, self.transform)\n",
    "df = pd.read_csv(occurrences, sep=\";\", header='infer', low_memory=False)\n",
    "df"
   ]
  },
  {
   "cell_type": "code",
   "execution_count": 37,
   "metadata": {},
   "outputs": [],
   "source": [
    "observation_ids = df.loc[:,id_name].values\n",
    "items = df[item_columns]\n",
    "targets = df[label_name].values"
   ]
  },
  {
   "cell_type": "code",
   "execution_count": 42,
   "metadata": {},
   "outputs": [
    {
     "name": "stdout",
     "output_type": "stream",
     "text": [
      "---- RasterPatchProvider __getitem__ 0\n",
      "> \u001b[0;32m/home/nina/Documents/GeoLifeCLEF/GLC23PatchesProviders.py\u001b[0m(158)\u001b[0;36m__getitem__\u001b[0;34m()\u001b[0m\n",
      "\u001b[0;32m    156 \u001b[0;31m        \u001b[0mself\u001b[0m\u001b[0;34m.\u001b[0m\u001b[0mepsg\u001b[0m \u001b[0;34m=\u001b[0m \u001b[0mself\u001b[0m\u001b[0;34m.\u001b[0m\u001b[0mcrs\u001b[0m\u001b[0;34m.\u001b[0m\u001b[0mto_epsg\u001b[0m\u001b[0;34m(\u001b[0m\u001b[0;34m)\u001b[0m\u001b[0;34m\u001b[0m\u001b[0;34m\u001b[0m\u001b[0m\n",
      "\u001b[0m\u001b[0;32m    157 \u001b[0;31m        \u001b[0;32mif\u001b[0m \u001b[0mself\u001b[0m\u001b[0;34m.\u001b[0m\u001b[0mepsg\u001b[0m \u001b[0;34m!=\u001b[0m \u001b[0;36m4326\u001b[0m\u001b[0;34m:\u001b[0m\u001b[0;34m\u001b[0m\u001b[0;34m\u001b[0m\u001b[0m\n",
      "\u001b[0m\u001b[0;32m--> 158 \u001b[0;31m            \u001b[0;31m# create a pyproj transformer object to convert lat, lon to EPSG:32738\u001b[0m\u001b[0;34m\u001b[0m\u001b[0;34m\u001b[0m\u001b[0m\n",
      "\u001b[0m\u001b[0;32m    159 \u001b[0;31m            \u001b[0mself\u001b[0m\u001b[0;34m.\u001b[0m\u001b[0mtransformer\u001b[0m \u001b[0;34m=\u001b[0m \u001b[0mpyproj\u001b[0m\u001b[0;34m.\u001b[0m\u001b[0mTransformer\u001b[0m\u001b[0;34m.\u001b[0m\u001b[0mfrom_crs\u001b[0m\u001b[0;34m(\u001b[0m\u001b[0;34m\"epsg:4326\"\u001b[0m\u001b[0;34m,\u001b[0m \u001b[0mself\u001b[0m\u001b[0;34m.\u001b[0m\u001b[0mepsg\u001b[0m\u001b[0;34m,\u001b[0m \u001b[0malways_xy\u001b[0m\u001b[0;34m=\u001b[0m\u001b[0;32mTrue\u001b[0m\u001b[0;34m)\u001b[0m\u001b[0;34m\u001b[0m\u001b[0;34m\u001b[0m\u001b[0m\n",
      "\u001b[0m\u001b[0;32m    160 \u001b[0;31m\u001b[0;34m\u001b[0m\u001b[0m\n",
      "\u001b[0m\n"
     ]
    }
   ],
   "source": [
    "#self.nb_layers = sum([len(provider) for provider in self.providers])\n",
    "provider = providers[0]\n",
    "provider"
   ]
  },
  {
   "cell_type": "code",
   "execution_count": 39,
   "metadata": {},
   "outputs": [
    {
     "name": "stdout",
     "output_type": "stream",
     "text": [
      "---- RasterPatchProvider __getitem__ 0\n",
      "> \u001b[0;32m/home/nina/Documents/GeoLifeCLEF/GLC23PatchesProviders.py\u001b[0m(158)\u001b[0;36m__getitem__\u001b[0;34m()\u001b[0m\n",
      "\u001b[0;32m    156 \u001b[0;31m        \u001b[0mself\u001b[0m\u001b[0;34m.\u001b[0m\u001b[0mepsg\u001b[0m \u001b[0;34m=\u001b[0m \u001b[0mself\u001b[0m\u001b[0;34m.\u001b[0m\u001b[0mcrs\u001b[0m\u001b[0;34m.\u001b[0m\u001b[0mto_epsg\u001b[0m\u001b[0;34m(\u001b[0m\u001b[0;34m)\u001b[0m\u001b[0;34m\u001b[0m\u001b[0;34m\u001b[0m\u001b[0m\n",
      "\u001b[0m\u001b[0;32m    157 \u001b[0;31m        \u001b[0;32mif\u001b[0m \u001b[0mself\u001b[0m\u001b[0;34m.\u001b[0m\u001b[0mepsg\u001b[0m \u001b[0;34m!=\u001b[0m \u001b[0;36m4326\u001b[0m\u001b[0;34m:\u001b[0m\u001b[0;34m\u001b[0m\u001b[0;34m\u001b[0m\u001b[0m\n",
      "\u001b[0m\u001b[0;32m--> 158 \u001b[0;31m            \u001b[0;31m# create a pyproj transformer object to convert lat, lon to EPSG:32738\u001b[0m\u001b[0;34m\u001b[0m\u001b[0;34m\u001b[0m\u001b[0m\n",
      "\u001b[0m\u001b[0;32m    159 \u001b[0;31m            \u001b[0mself\u001b[0m\u001b[0;34m.\u001b[0m\u001b[0mtransformer\u001b[0m \u001b[0;34m=\u001b[0m \u001b[0mpyproj\u001b[0m\u001b[0;34m.\u001b[0m\u001b[0mTransformer\u001b[0m\u001b[0;34m.\u001b[0m\u001b[0mfrom_crs\u001b[0m\u001b[0;34m(\u001b[0m\u001b[0;34m\"epsg:4326\"\u001b[0m\u001b[0;34m,\u001b[0m \u001b[0mself\u001b[0m\u001b[0;34m.\u001b[0m\u001b[0mepsg\u001b[0m\u001b[0;34m,\u001b[0m \u001b[0malways_xy\u001b[0m\u001b[0;34m=\u001b[0m\u001b[0;32mTrue\u001b[0m\u001b[0;34m)\u001b[0m\u001b[0;34m\u001b[0m\u001b[0;34m\u001b[0m\u001b[0m\n",
      "\u001b[0m\u001b[0;32m    160 \u001b[0;31m\u001b[0;34m\u001b[0m\u001b[0m\n",
      "\u001b[0m\n",
      "--KeyboardInterrupt--\n",
      "\n",
      "KeyboardInterrupt: Interrupted by user\n"
     ]
    },
    {
     "ename": "TypeError",
     "evalue": "'int' object is not subscriptable",
     "output_type": "error",
     "traceback": [
      "\u001b[0;31m---------------------------------------------------------------------------\u001b[0m",
      "\u001b[0;31mTypeError\u001b[0m                                 Traceback (most recent call last)",
      "Cell \u001b[0;32mIn[39], line 1\u001b[0m\n\u001b[0;32m----> 1\u001b[0m providers[\u001b[39m0\u001b[39;49m]\n",
      "File \u001b[0;32m~/Documents/GeoLifeCLEF/GLC23PatchesProviders.py:158\u001b[0m, in \u001b[0;36mRasterPatchProvider.__getitem__\u001b[0;34m(self, item)\u001b[0m\n\u001b[1;32m    153\u001b[0m \u001b[39m\"\"\"\u001b[39;00m\n\u001b[1;32m    154\u001b[0m \u001b[39m:param item: dictionary that needs to contains at least the keys latitude and longitude ({'lat': lat, 'lon':lon})\u001b[39;00m\n\u001b[1;32m    155\u001b[0m \u001b[39m:return: return the environmental tensor or vector (size>1 or size=1)\u001b[39;00m\n\u001b[1;32m    156\u001b[0m \u001b[39m\"\"\"\u001b[39;00m\n\u001b[1;32m    157\u001b[0m \u001b[39m# convert the lat, lon coordinates to EPSG:32738\u001b[39;00m\n\u001b[0;32m--> 158\u001b[0m \u001b[39mif\u001b[39;00m \u001b[39mself\u001b[39m\u001b[39m.\u001b[39mtransformer:\n\u001b[1;32m    159\u001b[0m     lon, lat \u001b[39m=\u001b[39m \u001b[39mself\u001b[39m\u001b[39m.\u001b[39mtransformer\u001b[39m.\u001b[39mtransform(item[\u001b[39m'\u001b[39m\u001b[39mlon\u001b[39m\u001b[39m'\u001b[39m], item[\u001b[39m'\u001b[39m\u001b[39mlat\u001b[39m\u001b[39m'\u001b[39m])\n\u001b[1;32m    160\u001b[0m \u001b[39melse\u001b[39;00m:\n",
      "\u001b[0;31mTypeError\u001b[0m: 'int' object is not subscriptable"
     ]
    }
   ],
   "source": [
    "providers[0]"
   ]
  },
  {
   "cell_type": "code",
   "execution_count": null,
   "metadata": {},
   "outputs": [],
   "source": [
    "#MetaPatchProvider __init__\n",
    "#nb_layers = sum([len(provider) for provider in providers])\n",
    "#---- RasterPatchProvider __getitem__ 0\n",
    "\n",
    "\n",
    "\n"
   ]
  },
  {
   "cell_type": "code",
   "execution_count": null,
   "metadata": {},
   "outputs": [],
   "source": [
    "def __getitem__(self, item):\n",
    "        print(f\"RasterPatchProvider __getitem__ item={item}\")\n",
    "        import pdb; pdb.set_trace()\n",
    "\n",
    "        \"\"\"\n",
    "        :param item: dictionary that needs to contains at least the keys latitude and longitude ({'lat': lat, 'lon':lon})\n",
    "        :return: return the environmental tensor or vector (size>1 or size=1)\n",
    "        \"\"\"\n",
    "        # convert the lat, lon coordinates to EPSG:32738\n",
    "        if self.transformer:\n",
    "            lon, lat = self.transformer.transform(item['lon'], item['lat'])\n",
    "        else:\n",
    "            lon, lat = (item['lon'], item['lat'])\n",
    "\n",
    "        # add noise as data augmentation\n",
    "        if self.spatial_noise > 0:\n",
    "            lon = lon + ((random()*2*self.spatial_noise)-self.spatial_noise)\n",
    "            lat = lat + ((random()*2*self.spatial_noise)-self.spatial_noise)\n",
    "\n",
    "        # calculate the x, y coordinate of the point of interest\n",
    "        x = int(self.n_rows - (lat - self.y_min) / self.y_resolution)\n",
    "        y = int((lon - self.x_min) / self.x_resolution)\n",
    "\n",
    "        # read the data of the patch from all layers\n",
    "        if self.patch_size == 1:\n",
    "            patch_data = [self.data[i, x, y] for i in range(self.nb_layers)]\n",
    "        else:\n",
    "            patch_data = [self.data[i, x - (self.patch_size // 2): x + (self.patch_size // 2), y - (self.patch_size // 2): y + (self.patch_size // 2)] for i in range(self.nb_layers)]\n",
    "        \n",
    "        tensor = np.concatenate([patch[np.newaxis] for patch in patch_data])\n",
    "        if self.fill_zero_if_error and tensor.shape != (self.nb_layers, self.patch_size, self.patch_size):\n",
    "            tensor = np.zeros((self.nb_layers, self.patch_size, self.patch_size))\n",
    "        return tensor\n",
    "    \n",
    "    def __str__(self):\n",
    "        print(\"RasterPatchProvider __str__\")\n",
    "\n",
    "        result = '-' * 50 + '\\n'\n",
    "        result += 'n_layers: ' + str(self.nb_layers) + '\\n'\n",
    "        result += 'x_min: ' + str(self.x_min) + '\\n'\n",
    "        result += 'y_min: ' + str(self.y_min) + '\\n'\n",
    "        result += 'x_resolution: ' + str(self.x_resolution) + '\\n'\n",
    "        result += 'y_resolution: ' + str(self.y_resolution) + '\\n'\n",
    "        result += 'n_rows: ' + str(self.n_rows) + '\\n'\n",
    "        result += 'n_cols: ' + str(self.n_cols) + '\\n'\n",
    "        result += '-' * 50\n",
    "        return result"
   ]
  },
  {
   "cell_type": "code",
   "execution_count": 7,
   "metadata": {},
   "outputs": [
    {
     "data": {
      "text/plain": [
       "--------------------------------------------------\n",
       "n_layers: 1\n",
       "x_min: -32.27179464817084\n",
       "y_min: 26.633585651839944\n",
       "x_resolution: 0.009892734568157884\n",
       "y_resolution: 0.009892734568157884\n",
       "n_rows: 4605\n",
       "n_cols: 6860\n",
       "--------------------------------------------------"
      ]
     },
     "execution_count": 7,
     "metadata": {},
     "output_type": "execute_result"
    }
   ],
   "source": [
    "        self.bands_names = list(itertools.chain.from_iterable([provider.bands_names for provider in self.providers]))\n",
    "        self.transform = transform"
   ]
  },
  {
   "cell_type": "code",
   "execution_count": 9,
   "metadata": {},
   "outputs": [
    {
     "data": {
      "text/plain": [
       "1"
      ]
     },
     "execution_count": 9,
     "metadata": {},
     "output_type": "execute_result"
    }
   ],
   "source": [
    "len(providers)"
   ]
  },
  {
   "cell_type": "code",
   "execution_count": null,
   "metadata": {},
   "outputs": [],
   "source": []
  },
  {
   "cell_type": "code",
   "execution_count": 13,
   "metadata": {},
   "outputs": [],
   "source": [
    "raster_path = data_path+'EnvironmentalRasters/HumanFootprint/summarized/HFP2009_WGS84.tif'\n",
    "#RasterPatchProvider\n",
    "# init ->  PatchProvider      \n",
    "patch_size = 128\n",
    "normalize = True\n",
    "nb_layers = 0\n",
    "# init -> RasterPatchProvider\n",
    "spatial_noise=0\n",
    "fill_zero_if_error=False\n",
    "transformer = None\n",
    "name = os.path.basename(os.path.splitext(raster_path)[0])\n",
    "normalize=True"
   ]
  },
  {
   "cell_type": "code",
   "execution_count": 16,
   "metadata": {},
   "outputs": [],
   "source": [
    "with rasterio.open(raster_path) as src:\n",
    "    meta = src.meta\n",
    "    meta.update(count=src.count) # update the count of the meta to match the number of layers\n",
    "    data = src.read()"
   ]
  },
  {
   "cell_type": "code",
   "execution_count": null,
   "metadata": {},
   "outputs": [],
   "source": [
    "    def __init__(self, raster_path, size=128, spatial_noise=0, normalize=True, fill_zero_if_error=False, nan_value=0):\n",
    "\n",
    "\n",
    "        # open the tif file with rasterio\n",
    "        with rasterio.open(raster_path) as src:\n",
    "            # read the metadata of the file\n",
    "            meta = src.meta\n",
    "            meta.update(count=src.count) # update the count of the meta to match the number of layers\n",
    "\n",
    "            # read the data from the raster\n",
    "            self.data = src.read()\n",
    "\n",
    "            # get the NoData value from the raster\n",
    "            self.nodata_value = src.nodatavals\n",
    "\n",
    "            # iterate through all the layers\n",
    "            for i in range(src.count):\n",
    "                # replace the NoData values with np.nan\n",
    "                self.data = self.data.astype(np.float)\n",
    "                self.data[i] = np.where(self.data[i] == self.nodata_value[i], np.nan, self.data[i])\n",
    "                if self.normalize:\n",
    "                    self.data[i] = (self.data[i] - np.nanmean(self.data[i]))/np.nanstd(self.data[i])\n",
    "                self.data[i] = np.where(np.isnan(self.data[i]), nan_value, self.data[i])\n",
    "            \n",
    "            self.nb_layers = src.count\n",
    "\n",
    "            self.x_min = src.bounds.left\n",
    "            self.y_min = src.bounds.bottom\n",
    "            self.x_resolution = src.res[0]\n",
    "            self.y_resolution = src.res[1]\n",
    "            self.n_rows = src.height\n",
    "            self.n_cols = src.width\n",
    "            self.crs = src.crs\n",
    "        if self.nb_layers > 1:\n",
    "            self.bands_names = [self.name+'_'+str(i+1) for i in range(self.nb_layers)]\n",
    "        else:\n",
    "            self.bands_names = [self.name]\n",
    "        \n",
    "        self.epsg = self.crs.to_epsg()\n",
    "        if self.epsg != 4326:\n",
    "            # create a pyproj transformer object to convert lat, lon to EPSG:32738\n",
    "            self.transformer = pyproj.Transformer.from_crs(\"epsg:4326\", self.epsg, always_xy=True)\n"
   ]
  },
  {
   "cell_type": "code",
   "execution_count": null,
   "metadata": {},
   "outputs": [],
   "source": [
    "#provider = MetaPatchProvider(base_providers, transform)\n",
    "nb_layers = sum([len(provider) for provider in providers])\n"
   ]
  },
  {
   "cell_type": "code",
   "execution_count": null,
   "metadata": {},
   "outputs": [],
   "source": [
    "self.providers = providers\n",
    "        self.\n",
    "        self.bands_names = list(itertools.chain.from_iterable([provider.bands_names for provider in self.providers]))\n",
    "        self.transform = transform"
   ]
  },
  {
   "cell_type": "code",
   "execution_count": null,
   "metadata": {},
   "outputs": [],
   "source": [
    "nb_layers = sum([len(provider) for provider in providers])"
   ]
  },
  {
   "cell_type": "code",
   "execution_count": null,
   "metadata": {},
   "outputs": [],
   "source": [
    "\n",
    "        self.provider = MetaPatchProvider(self.base_providers, self.transform)\n",
    "        self.device = device\n",
    "\n",
    "        df = pd.read_csv(self.occurences, sep=\";\", header='infer', low_memory=False)\n",
    "\n",
    "        self.observation_ids = df[id_name].values\n",
    "        self.items = df[item_columns]\n",
    "        self.targets = df[label_name].values"
   ]
  },
  {
   "cell_type": "code",
   "execution_count": null,
   "metadata": {},
   "outputs": [],
   "source": [
    "class PatchesDatasetMultiLabel(PatchesDataset):\n",
    "    def __init__(self,\n",
    "        occurrences,\n",
    "        providers,\n",
    "        transform=None,\n",
    "        target_transform=None,\n",
    "        id_name=\"glcID\",\n",
    "        label_name=\"speciesId\",\n",
    "        item_columns=['lat', 'lon', 'patchID'],\n",
    "        device=\"cpu\"\n",
    "    ):\n",
    "        super().__init__(occurrences, providers, transform, target_transform, id_name, label_name, item_columns, device)\n",
    "        \n",
    "    def __getitem__(self, index):\n",
    "        print(f\" ---> PatchesDatasetMultiLabel __get__item {index}\")\n",
    "        import pdb; pdb.set_trace()\n",
    "        item = self.items.iloc[index].to_dict()\n",
    "        patchid_rows_i = self.items[self.items['patchID']==item['patchID']].index\n",
    "        self.targets_sorted = np.sort(self.targets)\n",
    "\n",
    "        print(f\"item {item}\")\n",
    "        patch = self.provider[item]\n",
    "\n",
    "        targets = np.zeros(len(self.targets))\n",
    "        for idx in patchid_rows_i:\n",
    "            target = self.targets[idx]\n",
    "            if self.target_transform:\n",
    "                target = self.target_transform(target)\n",
    "            targets[np.where(self.targets_sorted==target)] = 1\n",
    "        targets = torch.from_numpy(targets).to(self.device)\n",
    "\n",
    "        return torch.from_numpy(patch).float().to(self.device), targets"
   ]
  },
  {
   "cell_type": "code",
   "execution_count": 38,
   "metadata": {},
   "outputs": [],
   "source": [
    "from GLC23PatchesProviders import MultipleRasterPatchProvider, RasterPatchProvider, JpegPatchProvider\n",
    "from GLC23Datasets import PatchesDataset, PatchesDatasetMultiLabel"
   ]
  },
  {
   "cell_type": "code",
   "execution_count": 15,
   "metadata": {},
   "outputs": [],
   "source": [
    "import torch"
   ]
  },
  {
   "cell_type": "code",
   "execution_count": 16,
   "metadata": {},
   "outputs": [],
   "source": [
    "device = \"cuda:0\" if torch.cuda.is_available() else \"cpu\""
   ]
  },
  {
   "cell_type": "code",
   "execution_count": 17,
   "metadata": {},
   "outputs": [
    {
     "data": {
      "text/plain": [
       "'cuda:0'"
      ]
     },
     "execution_count": 17,
     "metadata": {},
     "output_type": "execute_result"
    }
   ],
   "source": [
    "device"
   ]
  },
  {
   "cell_type": "code",
   "execution_count": 36,
   "metadata": {},
   "outputs": [],
   "source": [
    "data_path = 'data/full_data/'\n",
    "presence_only_path = data_path+'Presence_only_occurrences/Presences_only_train.csv'\n",
    "\n",
    "# configure providers\n",
    "# p_hfp_d = MultipleRasterPatchProvider(data_path+'EnvironmentalRasters/HumanFootprint/detailed/') # take all rasters from human footprint detailed (2 rasters here)\n",
    "# p_bioclim = MultipleRasterPatchProvider(data_path+'EnvironmentalRasters/Climate/BioClimatic_Average_1981-2010/', select=['bio1', 'bio2']) # take only bio1 and bio2 from bioclimatic rasters (2 rasters from the 3 in the folder)\n",
    "# p_hfp_s = RasterPatchProvider(data_path+'EnvironmentalRasters/HumanFootprint/summarized/HFP2009_WGS84.tif') # take the human footprint 2009 summurized raster (a single raster)\n",
    "p_rgb = JpegPatchProvider(data_path+'SatelliteImages/') # take all sentinel imagery layers (r,g,b,nir = 4 layers)"
   ]
  },
  {
   "cell_type": "code",
   "execution_count": 37,
   "metadata": {},
   "outputs": [
    {
     "ename": "Exception",
     "evalue": "An error has occured when trying to load a patch patchID.Check that the input argument is a dict containing the \"patchID\" key.",
     "output_type": "error",
     "traceback": [
      "\u001b[0;31m---------------------------------------------------------------------------\u001b[0m",
      "\u001b[0;31mTypeError\u001b[0m                                 Traceback (most recent call last)",
      "File \u001b[0;32m~/Documents/GeoLifeCLEF/GLC23PatchesProviders.py:275\u001b[0m, in \u001b[0;36mJpegPatchProvider.__getitem__\u001b[0;34m(self, item)\u001b[0m\n\u001b[1;32m    274\u001b[0m \u001b[39mtry\u001b[39;00m:\n\u001b[0;32m--> 275\u001b[0m     id_ \u001b[39m=\u001b[39m \u001b[39mstr\u001b[39m(\u001b[39mint\u001b[39m(item[\u001b[39m'\u001b[39;49m\u001b[39mpatchID\u001b[39;49m\u001b[39m'\u001b[39;49m]))\n\u001b[1;32m    276\u001b[0m \u001b[39mexcept\u001b[39;00m \u001b[39mKeyError\u001b[39;00m \u001b[39mas\u001b[39;00m e:\n",
      "\u001b[0;31mTypeError\u001b[0m: 'int' object is not subscriptable",
      "\nDuring handling of the above exception, another exception occurred:\n",
      "\u001b[0;31mException\u001b[0m                                 Traceback (most recent call last)",
      "Cell \u001b[0;32mIn[37], line 2\u001b[0m\n\u001b[1;32m      1\u001b[0m \u001b[39m# create dataset\u001b[39;00m\n\u001b[0;32m----> 2\u001b[0m multi_dataset \u001b[39m=\u001b[39m PatchesDatasetMultiLabel(\n\u001b[1;32m      3\u001b[0m     occurrences\u001b[39m=\u001b[39;49mpresence_only_path,\n\u001b[1;32m      4\u001b[0m     providers\u001b[39m=\u001b[39;49m(p_rgb), device\u001b[39m=\u001b[39;49mdevice)\n",
      "File \u001b[0;32m~/Documents/GeoLifeCLEF/GLC23Datasets.py:73\u001b[0m, in \u001b[0;36mPatchesDatasetMultiLabel.__init__\u001b[0;34m(self, occurrences, providers, transform, target_transform, id_name, label_name, item_columns, device)\u001b[0m\n\u001b[1;32m     63\u001b[0m \u001b[39mdef\u001b[39;00m \u001b[39m__init__\u001b[39m(\u001b[39mself\u001b[39m,\n\u001b[1;32m     64\u001b[0m     occurrences,\n\u001b[1;32m     65\u001b[0m     providers,\n\u001b[0;32m   (...)\u001b[0m\n\u001b[1;32m     71\u001b[0m     device\u001b[39m=\u001b[39m\u001b[39m\"\u001b[39m\u001b[39mcpu\u001b[39m\u001b[39m\"\u001b[39m\n\u001b[1;32m     72\u001b[0m ):\n\u001b[0;32m---> 73\u001b[0m     \u001b[39msuper\u001b[39;49m()\u001b[39m.\u001b[39;49m\u001b[39m__init__\u001b[39;49m(occurrences, providers, transform, target_transform, id_name, label_name, item_columns, device)\n",
      "File \u001b[0;32m~/Documents/GeoLifeCLEF/GLC23Datasets.py:33\u001b[0m, in \u001b[0;36mPatchesDataset.__init__\u001b[0;34m(self, occurrences, providers, transform, target_transform, id_name, label_name, item_columns, device)\u001b[0m\n\u001b[1;32m     31\u001b[0m \u001b[39mself\u001b[39m\u001b[39m.\u001b[39mtransform \u001b[39m=\u001b[39m transform\n\u001b[1;32m     32\u001b[0m \u001b[39mself\u001b[39m\u001b[39m.\u001b[39mtarget_transform \u001b[39m=\u001b[39m target_transform\n\u001b[0;32m---> 33\u001b[0m \u001b[39mself\u001b[39m\u001b[39m.\u001b[39mprovider \u001b[39m=\u001b[39m MetaPatchProvider(\u001b[39mself\u001b[39;49m\u001b[39m.\u001b[39;49mbase_providers, \u001b[39mself\u001b[39;49m\u001b[39m.\u001b[39;49mtransform)\n\u001b[1;32m     34\u001b[0m \u001b[39mself\u001b[39m\u001b[39m.\u001b[39mdevice \u001b[39m=\u001b[39m device\n\u001b[1;32m     36\u001b[0m df \u001b[39m=\u001b[39m pd\u001b[39m.\u001b[39mread_csv(\u001b[39mself\u001b[39m\u001b[39m.\u001b[39moccurences, sep\u001b[39m=\u001b[39m\u001b[39m\"\u001b[39m\u001b[39m;\u001b[39m\u001b[39m\"\u001b[39m, header\u001b[39m=\u001b[39m\u001b[39m'\u001b[39m\u001b[39minfer\u001b[39m\u001b[39m'\u001b[39m, low_memory\u001b[39m=\u001b[39m\u001b[39mFalse\u001b[39;00m)\n",
      "File \u001b[0;32m~/Documents/GeoLifeCLEF/data/GLC23PatchesProviders.py:82\u001b[0m, in \u001b[0;36mMetaPatchProvider.__init__\u001b[0;34m(self, providers, transform)\u001b[0m\n\u001b[1;32m     80\u001b[0m \u001b[39mdef\u001b[39;00m \u001b[39m__init__\u001b[39m(\u001b[39mself\u001b[39m, providers, transform\u001b[39m=\u001b[39m\u001b[39mNone\u001b[39;00m):\n\u001b[1;32m     81\u001b[0m     \u001b[39mself\u001b[39m\u001b[39m.\u001b[39mproviders \u001b[39m=\u001b[39m providers\n\u001b[0;32m---> 82\u001b[0m     \u001b[39mself\u001b[39m\u001b[39m.\u001b[39mnb_layers \u001b[39m=\u001b[39m \u001b[39msum\u001b[39m([\u001b[39mlen\u001b[39m(provider) \u001b[39mfor\u001b[39;00m provider \u001b[39min\u001b[39;00m \u001b[39mself\u001b[39m\u001b[39m.\u001b[39mproviders])\n\u001b[1;32m     83\u001b[0m     \u001b[39mself\u001b[39m\u001b[39m.\u001b[39mbands_names \u001b[39m=\u001b[39m \u001b[39mlist\u001b[39m(itertools\u001b[39m.\u001b[39mchain\u001b[39m.\u001b[39mfrom_iterable([provider\u001b[39m.\u001b[39mbands_names \u001b[39mfor\u001b[39;00m provider \u001b[39min\u001b[39;00m \u001b[39mself\u001b[39m\u001b[39m.\u001b[39mproviders]))\n\u001b[1;32m     84\u001b[0m     \u001b[39mself\u001b[39m\u001b[39m.\u001b[39mtransform \u001b[39m=\u001b[39m transform\n",
      "File \u001b[0;32m~/Documents/GeoLifeCLEF/data/GLC23PatchesProviders.py:82\u001b[0m, in \u001b[0;36m<listcomp>\u001b[0;34m(.0)\u001b[0m\n\u001b[1;32m     80\u001b[0m \u001b[39mdef\u001b[39;00m \u001b[39m__init__\u001b[39m(\u001b[39mself\u001b[39m, providers, transform\u001b[39m=\u001b[39m\u001b[39mNone\u001b[39;00m):\n\u001b[1;32m     81\u001b[0m     \u001b[39mself\u001b[39m\u001b[39m.\u001b[39mproviders \u001b[39m=\u001b[39m providers\n\u001b[0;32m---> 82\u001b[0m     \u001b[39mself\u001b[39m\u001b[39m.\u001b[39mnb_layers \u001b[39m=\u001b[39m \u001b[39msum\u001b[39m([\u001b[39mlen\u001b[39m(provider) \u001b[39mfor\u001b[39;00m provider \u001b[39min\u001b[39;00m \u001b[39mself\u001b[39m\u001b[39m.\u001b[39mproviders])\n\u001b[1;32m     83\u001b[0m     \u001b[39mself\u001b[39m\u001b[39m.\u001b[39mbands_names \u001b[39m=\u001b[39m \u001b[39mlist\u001b[39m(itertools\u001b[39m.\u001b[39mchain\u001b[39m.\u001b[39mfrom_iterable([provider\u001b[39m.\u001b[39mbands_names \u001b[39mfor\u001b[39;00m provider \u001b[39min\u001b[39;00m \u001b[39mself\u001b[39m\u001b[39m.\u001b[39mproviders]))\n\u001b[1;32m     84\u001b[0m     \u001b[39mself\u001b[39m\u001b[39m.\u001b[39mtransform \u001b[39m=\u001b[39m transform\n",
      "File \u001b[0;32m~/Documents/GeoLifeCLEF/GLC23PatchesProviders.py:279\u001b[0m, in \u001b[0;36mJpegPatchProvider.__getitem__\u001b[0;34m(self, item)\u001b[0m\n\u001b[1;32m    277\u001b[0m     \u001b[39mraise\u001b[39;00m \u001b[39mKeyError\u001b[39;00m(\u001b[39m'\u001b[39m\u001b[39mThe patchID key does not exists.\u001b[39m\u001b[39m'\u001b[39m)\n\u001b[1;32m    278\u001b[0m \u001b[39mexcept\u001b[39;00m \u001b[39mException\u001b[39;00m \u001b[39mas\u001b[39;00m e:\n\u001b[0;32m--> 279\u001b[0m     \u001b[39mraise\u001b[39;00m \u001b[39mException\u001b[39;00m(\u001b[39m'\u001b[39m\u001b[39mAn error has occured when trying to load a patch patchID.\u001b[39m\u001b[39m'\u001b[39m\n\u001b[1;32m    280\u001b[0m                     \u001b[39m'\u001b[39m\u001b[39mCheck that the input argument is a dict containing the \u001b[39m\u001b[39m\"\u001b[39m\u001b[39mpatchID\u001b[39m\u001b[39m\"\u001b[39m\u001b[39m key.\u001b[39m\u001b[39m'\u001b[39m)\n\u001b[1;32m    282\u001b[0m \u001b[39m# folders that contain patches\u001b[39;00m\n\u001b[1;32m    283\u001b[0m sub_folder_1 \u001b[39m=\u001b[39m id_[\u001b[39m-\u001b[39m\u001b[39m2\u001b[39m:]\n",
      "\u001b[0;31mException\u001b[0m: An error has occured when trying to load a patch patchID.Check that the input argument is a dict containing the \"patchID\" key."
     ]
    }
   ],
   "source": [
    "# create dataset\n",
    "multi_dataset = PatchesDatasetMultiLabel(\n",
    "    occurrences=presence_only_path,\n",
    "    providers=(p_rgb), device=device) #p_hfp_d, p_bioclim, p_hfp_s, "
   ]
  },
  {
   "cell_type": "code",
   "execution_count": 22,
   "metadata": {},
   "outputs": [
    {
     "data": {
      "text/plain": [
       "tensor([[[-0.2597, -0.2597, -0.2597,  ...,  3.8510,  3.8510, -0.2597],\n",
       "         [-0.2597, -0.2597, -0.2597,  ...,  3.8510,  3.8510,  3.8510],\n",
       "         [-0.2597, -0.2597, -0.2597,  ...,  3.8510,  3.8510,  3.8510],\n",
       "         ...,\n",
       "         [ 0.0000,  0.0000,  0.0000,  ..., -0.2597, -0.2597, -0.2597],\n",
       "         [ 0.0000,  0.0000,  0.0000,  ..., -0.2597, -0.2597, -0.2597],\n",
       "         [ 0.0000,  0.0000,  0.0000,  ..., -0.2597, -0.2597, -0.2597]],\n",
       "\n",
       "        [[ 1.8088,  1.4273,  1.8088,  ...,  2.5719,  2.5719,  2.1904],\n",
       "         [ 2.1904,  2.1904,  1.8088,  ...,  2.9534,  2.5719,  2.5719],\n",
       "         [ 2.1904,  2.1904,  2.1904,  ...,  2.9534,  2.9534,  2.9534],\n",
       "         ...,\n",
       "         [ 0.0000,  0.0000,  0.0000,  ..., -0.4803, -0.4803, -0.4803],\n",
       "         [ 0.0000,  0.0000,  0.0000,  ..., -0.4803, -0.4803, -0.4803],\n",
       "         [ 0.0000,  0.0000,  0.0000,  ..., -0.4803, -0.4803, -0.4803]],\n",
       "\n",
       "        [[-0.5647, -0.5229, -0.5020,  ..., -0.4915, -0.5020, -0.4915],\n",
       "         [-0.5229, -0.5229, -0.5124,  ..., -0.5020, -0.5020, -0.5020],\n",
       "         [-0.5124, -0.5333, -0.5124,  ..., -0.5020, -0.4915, -0.5020],\n",
       "         ...,\n",
       "         [-0.2512, -0.2512, -0.2512,  ..., -0.4184, -0.4184, -0.4079],\n",
       "         [-0.2512, -0.2512, -0.2512,  ..., -0.4184, -0.4184, -0.4079],\n",
       "         [-0.2512, -0.2512, -0.2512,  ..., -0.4079, -0.4079, -0.4079]],\n",
       "\n",
       "        ...,\n",
       "\n",
       "        [[-0.5958, -0.5958, -0.6449,  ..., -0.6940, -0.6695, -0.6449],\n",
       "         [-0.6449, -0.6940, -0.7677,  ..., -0.6940, -0.6695, -0.6695],\n",
       "         [-0.6940, -0.8168, -0.8905,  ..., -0.6695, -0.6695, -0.6695],\n",
       "         ...,\n",
       "         [ 0.2394, -0.3010, -0.5466,  ..., -0.9151, -0.8905, -0.8168],\n",
       "         [ 0.2885, -0.1045, -0.4729,  ..., -0.9151, -0.8414, -0.7677],\n",
       "         [ 0.3377,  0.0183, -0.3993,  ..., -0.8905, -0.8414, -0.7923]],\n",
       "\n",
       "        [[-0.9888, -0.9888, -1.0379,  ..., -0.9642, -0.9397, -0.9151],\n",
       "         [-1.0379, -1.0870, -1.1607,  ..., -0.9642, -0.9397, -0.9397],\n",
       "         [-1.0870, -1.1853, -1.2590,  ..., -0.9397, -0.9397, -0.9397],\n",
       "         ...,\n",
       "         [-0.0799, -0.6203, -0.8168,  ..., -1.1853, -1.1607, -1.0870],\n",
       "         [-0.0308, -0.4238, -0.7431,  ..., -1.1607, -1.0870, -1.0134],\n",
       "         [ 0.0183, -0.3010, -0.6695,  ..., -1.1362, -1.0870, -1.0379]],\n",
       "\n",
       "        [[ 0.8781,  1.1237,  1.3202,  ...,  1.1974,  1.1483,  1.0009],\n",
       "         [ 0.9272,  1.0500,  1.1237,  ...,  1.1729,  1.1483,  1.0746],\n",
       "         [ 0.9272,  0.8781,  0.8044,  ...,  1.1483,  1.1729,  1.1483],\n",
       "         ...,\n",
       "         [ 1.0746,  1.1483,  1.0992,  ...,  0.7307,  0.8781,  1.0009],\n",
       "         [ 1.0746,  1.1974,  1.0500,  ...,  0.7798,  0.8044,  0.8044],\n",
       "         [ 1.0746,  1.2465,  1.0500,  ...,  0.7798,  0.8044,  1.0255]]],\n",
       "       device='cuda:0')"
      ]
     },
     "execution_count": 22,
     "metadata": {},
     "output_type": "execute_result"
    }
   ],
   "source": [
    "multi_dataset[0][0]"
   ]
  },
  {
   "cell_type": "code",
   "execution_count": 23,
   "metadata": {},
   "outputs": [],
   "source": [
    "train_loader = torch.utils.data.DataLoader(multi_dataset, shuffle=True, batch_size=12)"
   ]
  },
  {
   "cell_type": "code",
   "execution_count": 33,
   "metadata": {},
   "outputs": [
    {
     "name": "stdout",
     "output_type": "stream",
     "text": [
      "tensor([[[[-0.2597, -0.2597, -0.2597,  ..., -0.2597, -0.2597, -0.2597],\n",
      "          [-0.2597, -0.2597, -0.2597,  ..., -0.2597, -0.2597, -0.2597],\n",
      "          [-0.2597, -0.2597, -0.2597,  ..., -0.2597, -0.2597, -0.2597],\n",
      "          ...,\n",
      "          [ 0.0000,  0.0000,  0.0000,  ..., -0.2597, -0.2597, -0.2597],\n",
      "          [ 0.0000,  0.0000,  0.0000,  ..., -0.2597, -0.2597, -0.2597],\n",
      "          [ 0.0000,  0.0000,  0.0000,  ..., -0.2597, -0.2597, -0.2597]],\n",
      "\n",
      "         [[-0.4803, -0.4803, -0.4803,  ..., -0.4803, -0.4803, -0.4803],\n",
      "          [-0.0988, -0.4803, -0.4803,  ..., -0.4803, -0.4803, -0.4803],\n",
      "          [-0.4803, -0.4803, -0.4803,  ..., -0.4803, -0.4803, -0.4803],\n",
      "          ...,\n",
      "          [ 0.0000,  0.0000,  0.0000,  ..., -0.4803, -0.4803, -0.4803],\n",
      "          [ 0.0000,  0.0000,  0.0000,  ..., -0.4803, -0.4803, -0.4803],\n",
      "          [ 0.0000,  0.0000,  0.0000,  ..., -0.4803, -0.4803, -0.4803]],\n",
      "\n",
      "         [[-0.7318, -0.7423, -0.7214,  ..., -0.5855, -0.5960, -0.5960],\n",
      "          [-0.7109, -0.7109, -0.7318,  ..., -0.6273, -0.6378, -0.6378],\n",
      "          [-0.6482, -0.6587, -0.7005,  ..., -0.6378, -0.6482, -0.6482],\n",
      "          ...,\n",
      "          [-0.2930, -0.2930, -0.2930,  ..., -0.4811, -0.4811, -0.4811],\n",
      "          [-0.2930, -0.2930, -0.2930,  ..., -0.4811, -0.4706, -0.4706],\n",
      "          [-0.2930, -0.2930, -0.2930,  ..., -0.4811, -0.4706, -0.4706]],\n",
      "\n",
      "         ...,\n",
      "\n",
      "         [[-0.7431, -0.7677, -0.7677,  ..., -0.3010, -0.5958, -0.7923],\n",
      "          [-0.3256, -0.5466, -0.7677,  ..., -0.3501, -0.6203, -0.8660],\n",
      "          [-0.0308, -0.2273, -0.3993,  ..., -0.3010, -0.5221, -0.7923],\n",
      "          ...,\n",
      "          [-0.5712, -0.5466, -0.5221,  ..., -0.5712, -0.6940, -0.7677],\n",
      "          [-0.4975, -0.4975, -0.5466,  ..., -0.4484, -0.5958, -0.7186],\n",
      "          [-0.3993, -0.4729, -0.5712,  ..., -0.4729, -0.5466, -0.5958]],\n",
      "\n",
      "         [[-1.1853, -1.2099, -1.2099,  ..., -0.5466, -0.8168, -1.0134],\n",
      "          [-0.7431, -0.9888, -1.2099,  ..., -0.5958, -0.8414, -1.0870],\n",
      "          [-0.4484, -0.6449, -0.8168,  ..., -0.5712, -0.7677, -1.0379],\n",
      "          ...,\n",
      "          [-0.8660, -0.8414, -0.8168,  ..., -0.9151, -1.0379, -1.1116],\n",
      "          [-0.7923, -0.7923, -0.8414,  ..., -0.7923, -0.9397, -1.0625],\n",
      "          [-0.6940, -0.7677, -0.8660,  ..., -0.8168, -0.8905, -0.9397]],\n",
      "\n",
      "         [[ 1.4185,  1.1974,  1.2465,  ...,  0.8044,  0.6570,  0.4605],\n",
      "          [ 1.5167,  1.3694,  1.4431,  ...,  0.8535,  0.6816,  0.5096],\n",
      "          [ 1.6887,  1.6150,  1.7133,  ...,  0.8781,  0.8044,  0.7307],\n",
      "          ...,\n",
      "          [ 1.0255,  0.9763,  0.9763,  ...,  1.3202,  1.4922,  1.4185],\n",
      "          [ 1.0500,  1.0500,  1.0255,  ...,  1.2957,  1.4185,  1.2711],\n",
      "          [ 1.0500,  1.0992,  1.0500,  ...,  1.0500,  1.1974,  1.0992]]],\n",
      "\n",
      "\n",
      "        [[[ 0.0000,  0.0000,  0.0000,  ..., -0.2597, -0.2597, -0.2597],\n",
      "          [ 0.0000,  0.0000,  0.0000,  ..., -0.2597, -0.2597, -0.2597],\n",
      "          [ 0.0000,  0.0000,  0.0000,  ...,  0.0000, -0.2597, -0.2597],\n",
      "          ...,\n",
      "          [ 0.0000,  0.0000,  0.0000,  ...,  3.8510,  3.8510, -0.2597],\n",
      "          [ 0.0000,  0.0000,  0.0000,  ...,  3.8510,  3.8510, -0.2597],\n",
      "          [ 0.0000,  0.0000,  0.0000,  ..., -0.2597, -0.2597, -0.2597]],\n",
      "\n",
      "         [[ 0.0000,  0.0000,  0.0000,  ..., -0.4803, -0.4803, -0.4803],\n",
      "          [ 0.0000,  0.0000,  0.0000,  ..., -0.4803, -0.4803, -0.4803],\n",
      "          [ 0.0000,  0.0000,  0.0000,  ...,  0.0000, -0.4803, -0.4803],\n",
      "          ...,\n",
      "          [ 0.0000,  0.0000,  0.0000,  ...,  2.5719,  2.5719,  1.4273],\n",
      "          [ 0.0000,  0.0000,  0.0000,  ...,  2.5719,  2.5719,  2.1904],\n",
      "          [ 0.0000,  0.0000,  0.0000,  ...,  1.4273,  1.4273,  0.6643]],\n",
      "\n",
      "         [[-0.1781, -0.1781, -0.1781,  ..., -0.2512, -0.2512, -0.2617],\n",
      "          [-0.1781, -0.1781, -0.1781,  ..., -0.2617, -0.2617, -0.2617],\n",
      "          [-0.1781, -0.1781, -0.1781,  ..., -0.2721, -0.2721, -0.2721],\n",
      "          ...,\n",
      "          [-0.1676, -0.1676, -0.1676,  ..., -0.2303, -0.2303, -0.2303],\n",
      "          [-0.1676, -0.1676, -0.1676,  ..., -0.2303, -0.2303, -0.2303],\n",
      "          [-0.1676, -0.1676, -0.1676,  ..., -0.2199, -0.2303, -0.2303]],\n",
      "\n",
      "         ...,\n",
      "\n",
      "         [[ 1.5904,  1.5413,  1.4431,  ..., -0.0308, -0.0308, -0.0799],\n",
      "          [ 1.5659,  1.5659,  1.4431,  ..., -0.0308, -0.0308, -0.0308],\n",
      "          [ 1.5659,  1.6150,  1.5167,  ..., -0.0308, -0.0308, -0.0308],\n",
      "          ...,\n",
      "          [ 0.0183,  0.0675,  0.3131,  ..., -0.1536, -0.0799, -0.3010],\n",
      "          [ 0.0183,  0.0429,  0.3131,  ..., -0.2273, -0.1045, -0.2273],\n",
      "          [-0.0062, -0.0062,  0.2885,  ..., -0.3010, -0.1536, -0.2027]],\n",
      "\n",
      "         [[ 1.3202,  1.2711,  1.1729,  ..., -0.4729, -0.4729, -0.4975],\n",
      "          [ 1.2957,  1.2957,  1.1729,  ..., -0.4238, -0.4729, -0.4729],\n",
      "          [ 1.2957,  1.3448,  1.2465,  ..., -0.4238, -0.4729, -0.4729],\n",
      "          ...,\n",
      "          [-0.1045, -0.0554,  0.1412,  ..., -0.3501, -0.2764, -0.4975],\n",
      "          [-0.1045, -0.0799,  0.1412,  ..., -0.4484, -0.3010, -0.4238],\n",
      "          [-0.1536, -0.1290,  0.1166,  ..., -0.5221, -0.3501, -0.3993]],\n",
      "\n",
      "         [[ 2.0817,  2.0326,  1.9343,  ...,  1.9589,  1.9098,  1.8606],\n",
      "          [ 2.0080,  2.0080,  1.9589,  ...,  1.9589,  1.9098,  1.8852],\n",
      "          [ 2.0326,  2.0572,  2.0326,  ...,  1.9343,  1.9098,  1.8852],\n",
      "          ...,\n",
      "          [-0.5958, -0.7186, -0.2764,  ...,  1.5659,  1.5413,  1.4431],\n",
      "          [-0.6940, -0.7431, -0.3501,  ...,  1.5413,  1.3202,  1.4922],\n",
      "          [-0.7677, -0.7677, -0.3747,  ...,  1.4185,  0.9518,  0.7798]]],\n",
      "\n",
      "\n",
      "        [[[ 0.0000,  0.0000,  0.0000,  ..., -0.2597, -0.2597, -0.2597],\n",
      "          [ 0.0000,  0.0000,  0.0000,  ..., -0.2597, -0.2597, -0.2597],\n",
      "          [ 0.0000,  0.0000,  0.0000,  ..., -0.2597, -0.2597, -0.2597],\n",
      "          ...,\n",
      "          [-0.2597, -0.2597, -0.2597,  ...,  3.8510,  3.8510,  3.8510],\n",
      "          [-0.2597, -0.2597, -0.2597,  ...,  3.8510,  3.8510,  3.8510],\n",
      "          [-0.2597, -0.2597, -0.2597,  ...,  3.8510,  3.8510,  3.8510]],\n",
      "\n",
      "         [[ 0.0000,  0.0000,  0.0000,  ..., -0.4803, -0.4803, -0.4803],\n",
      "          [ 0.0000,  0.0000,  0.0000,  ..., -0.4803, -0.4803, -0.4803],\n",
      "          [ 0.0000,  0.0000,  0.0000,  ..., -0.4803, -0.4803, -0.4803],\n",
      "          ...,\n",
      "          [-0.4803, -0.4803, -0.4803,  ...,  2.5719,  2.9534,  2.9534],\n",
      "          [-0.4803, -0.4803, -0.4803,  ...,  2.9534,  2.9534,  2.9534],\n",
      "          [ 0.2827,  0.2827,  0.2827,  ...,  2.9534,  2.9534,  2.9534]],\n",
      "\n",
      "         [[-0.0423, -0.0527, -0.0527,  ..., -0.0632, -0.0632, -0.0632],\n",
      "          [-0.0423, -0.0527, -0.0527,  ..., -0.0736, -0.0736, -0.0736],\n",
      "          [-0.0423, -0.0527, -0.0527,  ..., -0.0736, -0.0736, -0.0736],\n",
      "          ...,\n",
      "          [-0.0527, -0.0527, -0.0527,  ..., -0.0736, -0.0736, -0.0736],\n",
      "          [-0.0527, -0.0527, -0.0527,  ..., -0.0736, -0.0736, -0.0736],\n",
      "          [-0.0527, -0.0527, -0.0527,  ..., -0.0736, -0.0736, -0.0736]],\n",
      "\n",
      "         ...,\n",
      "\n",
      "         [[ 0.1166,  0.2149,  0.0920,  ..., -0.6695, -0.5712, -0.4484],\n",
      "          [ 0.2149,  0.2394,  0.1657,  ..., -0.5712, -0.5466, -0.4729],\n",
      "          [ 0.0675,  0.0183,  0.0183,  ..., -0.5221, -0.5221, -0.4975],\n",
      "          ...,\n",
      "          [ 0.0183, -0.3747, -0.5712,  ..., -0.2027, -0.2764, -0.2027],\n",
      "          [ 0.0920, -0.1536, -0.4238,  ..., -0.1290, -0.1536, -0.0062],\n",
      "          [-0.1782, -0.1290, -0.3010,  ..., -0.1536, -0.1782,  0.0183]],\n",
      "\n",
      "         [[-0.3256, -0.2273, -0.3010,  ..., -0.8905, -0.7923, -0.6449],\n",
      "          [-0.2273, -0.1536, -0.2273,  ..., -0.7923, -0.7677, -0.6695],\n",
      "          [-0.3256, -0.3747, -0.3256,  ..., -0.7431, -0.7431, -0.6940],\n",
      "          ...,\n",
      "          [-0.1782, -0.5958, -0.7923,  ..., -0.5712, -0.6940, -0.6203],\n",
      "          [-0.1782, -0.4238, -0.7186,  ..., -0.5221, -0.5958, -0.4729],\n",
      "          [-0.4484, -0.3993, -0.5958,  ..., -0.5466, -0.6203, -0.4484]],\n",
      "\n",
      "         [[ 1.2957,  1.7378,  1.9589,  ...,  1.7624,  1.5659,  1.9343],\n",
      "          [ 1.3939,  1.7378,  1.9343,  ...,  1.7870,  1.7378,  1.8852],\n",
      "          [ 1.4922,  1.7870,  1.9835,  ...,  1.7870,  1.8361,  1.7624],\n",
      "          ...,\n",
      "          [ 0.6570,  0.9763,  1.1483,  ...,  1.8115,  1.4676,  0.9518],\n",
      "          [ 0.9763,  0.8781,  1.2220,  ...,  1.9343,  1.5659,  1.1974],\n",
      "          [ 0.9518,  0.9026,  0.9272,  ...,  2.4011,  2.0817,  1.7624]]],\n",
      "\n",
      "\n",
      "        ...,\n",
      "\n",
      "\n",
      "        [[[-0.2597, -0.2597, -0.2597,  ...,  3.8510,  3.8510, -0.2597],\n",
      "          [-0.2597, -0.2597, -0.2597,  ...,  3.8510,  3.8510,  3.8510],\n",
      "          [-0.2597, -0.2597, -0.2597,  ...,  3.8510,  3.8510,  3.8510],\n",
      "          ...,\n",
      "          [ 0.0000,  0.0000,  0.0000,  ..., -0.2597, -0.2597, -0.2597],\n",
      "          [ 0.0000,  0.0000,  0.0000,  ..., -0.2597, -0.2597, -0.2597],\n",
      "          [ 0.0000,  0.0000,  0.0000,  ..., -0.2597, -0.2597, -0.2597]],\n",
      "\n",
      "         [[ 1.8088,  1.4273,  1.8088,  ...,  2.5719,  2.5719,  2.1904],\n",
      "          [ 2.1904,  2.1904,  1.8088,  ...,  2.9534,  2.5719,  2.5719],\n",
      "          [ 2.1904,  2.1904,  2.1904,  ...,  2.9534,  2.9534,  2.9534],\n",
      "          ...,\n",
      "          [ 0.0000,  0.0000,  0.0000,  ..., -0.4803, -0.4803, -0.4803],\n",
      "          [ 0.0000,  0.0000,  0.0000,  ..., -0.4803, -0.4803, -0.4803],\n",
      "          [ 0.0000,  0.0000,  0.0000,  ..., -0.4803, -0.4803, -0.4803]],\n",
      "\n",
      "         [[-0.5647, -0.5229, -0.5020,  ..., -0.4915, -0.5020, -0.4915],\n",
      "          [-0.5229, -0.5229, -0.5124,  ..., -0.5020, -0.5020, -0.5020],\n",
      "          [-0.5124, -0.5333, -0.5124,  ..., -0.5020, -0.4915, -0.5020],\n",
      "          ...,\n",
      "          [-0.2512, -0.2512, -0.2512,  ..., -0.4184, -0.4184, -0.4079],\n",
      "          [-0.2512, -0.2512, -0.2512,  ..., -0.4184, -0.4184, -0.4079],\n",
      "          [-0.2512, -0.2512, -0.2512,  ..., -0.4079, -0.4079, -0.4079]],\n",
      "\n",
      "         ...,\n",
      "\n",
      "         [[-0.5958, -0.5958, -0.6449,  ..., -0.6940, -0.6695, -0.6449],\n",
      "          [-0.6449, -0.6940, -0.7677,  ..., -0.6940, -0.6695, -0.6695],\n",
      "          [-0.6940, -0.8168, -0.8905,  ..., -0.6695, -0.6695, -0.6695],\n",
      "          ...,\n",
      "          [ 0.2394, -0.3010, -0.5466,  ..., -0.9151, -0.8905, -0.8168],\n",
      "          [ 0.2885, -0.1045, -0.4729,  ..., -0.9151, -0.8414, -0.7677],\n",
      "          [ 0.3377,  0.0183, -0.3993,  ..., -0.8905, -0.8414, -0.7923]],\n",
      "\n",
      "         [[-0.9888, -0.9888, -1.0379,  ..., -0.9642, -0.9397, -0.9151],\n",
      "          [-1.0379, -1.0870, -1.1607,  ..., -0.9642, -0.9397, -0.9397],\n",
      "          [-1.0870, -1.1853, -1.2590,  ..., -0.9397, -0.9397, -0.9397],\n",
      "          ...,\n",
      "          [-0.0799, -0.6203, -0.8168,  ..., -1.1853, -1.1607, -1.0870],\n",
      "          [-0.0308, -0.4238, -0.7431,  ..., -1.1607, -1.0870, -1.0134],\n",
      "          [ 0.0183, -0.3010, -0.6695,  ..., -1.1362, -1.0870, -1.0379]],\n",
      "\n",
      "         [[ 0.8781,  1.1237,  1.3202,  ...,  1.1974,  1.1483,  1.0009],\n",
      "          [ 0.9272,  1.0500,  1.1237,  ...,  1.1729,  1.1483,  1.0746],\n",
      "          [ 0.9272,  0.8781,  0.8044,  ...,  1.1483,  1.1729,  1.1483],\n",
      "          ...,\n",
      "          [ 1.0746,  1.1483,  1.0992,  ...,  0.7307,  0.8781,  1.0009],\n",
      "          [ 1.0746,  1.1974,  1.0500,  ...,  0.7798,  0.8044,  0.8044],\n",
      "          [ 1.0746,  1.2465,  1.0500,  ...,  0.7798,  0.8044,  1.0255]]],\n",
      "\n",
      "\n",
      "        [[[ 3.8510,  3.8510,  3.8510,  ..., -0.2597, -0.2597, -0.2597],\n",
      "          [ 3.8510,  3.8510,  3.8510,  ..., -0.2597, -0.2597, -0.2597],\n",
      "          [ 3.8510,  3.8510,  3.8510,  ..., -0.2597, -0.2597, -0.2597],\n",
      "          ...,\n",
      "          [-0.2597, -0.2597, -0.2597,  ...,  3.8510,  3.8510,  3.8510],\n",
      "          [-0.2597, -0.2597, -0.2597,  ...,  3.8510,  3.8510,  3.8510],\n",
      "          [-0.2597, -0.2597, -0.2597,  ...,  3.8510,  3.8510,  3.8510]],\n",
      "\n",
      "         [[ 3.3350,  3.3350,  3.3350,  ...,  1.0458,  1.0458,  1.4273],\n",
      "          [ 3.3350,  3.3350,  3.3350,  ...,  1.4273,  1.4273,  1.8088],\n",
      "          [ 3.3350,  3.3350,  3.3350,  ...,  1.8088,  1.8088,  2.1904],\n",
      "          ...,\n",
      "          [-0.0988, -0.0988, -0.0988,  ...,  3.3350,  3.3350,  3.3350],\n",
      "          [-0.0988, -0.0988, -0.0988,  ...,  3.3350,  3.3350,  2.9534],\n",
      "          [-0.0988, -0.0988,  0.2827,  ...,  2.9534,  2.9534,  2.9534]],\n",
      "\n",
      "         [[-0.1258, -0.1258, -0.1154,  ..., -0.0736, -0.0840, -0.0840],\n",
      "          [-0.1154, -0.1154, -0.1154,  ..., -0.0736, -0.0736, -0.0840],\n",
      "          [-0.1049, -0.1049, -0.1049,  ..., -0.0840, -0.0736, -0.0736],\n",
      "          ...,\n",
      "          [-0.0632, -0.0736, -0.0527,  ..., -0.0632, -0.0632, -0.0632],\n",
      "          [-0.0632, -0.0527, -0.0527,  ..., -0.0632, -0.0632, -0.0527],\n",
      "          [-0.0423, -0.0527, -0.0632,  ..., -0.0527, -0.0527, -0.0632]],\n",
      "\n",
      "         ...,\n",
      "\n",
      "         [[ 0.0920,  0.0429, -0.0062,  ...,  0.2640,  0.3131,  0.3377],\n",
      "          [ 0.0920,  0.0429, -0.0062,  ...,  0.2149,  0.2394,  0.2640],\n",
      "          [ 0.0675,  0.0429,  0.0429,  ...,  0.1903,  0.1903,  0.1903],\n",
      "          ...,\n",
      "          [-0.3993, -0.4484, -0.3747,  ..., -0.3501, -0.3993, -0.4484],\n",
      "          [-0.4729, -0.4484, -0.3256,  ..., -0.3993, -0.3501, -0.3501],\n",
      "          [-0.4729, -0.4238, -0.3010,  ..., -0.3501, -0.3501, -0.3010]],\n",
      "\n",
      "         [[-0.2764, -0.3256, -0.3256,  ..., -0.0554, -0.0062,  0.0183],\n",
      "          [-0.2764, -0.3256, -0.3256,  ..., -0.0799, -0.0799, -0.0554],\n",
      "          [-0.3010, -0.3256, -0.3010,  ..., -0.1045, -0.1290, -0.1290],\n",
      "          ...,\n",
      "          [-0.6449, -0.6940, -0.6203,  ..., -0.5958, -0.5712, -0.6449],\n",
      "          [-0.7186, -0.6940, -0.5712,  ..., -0.5958, -0.5466, -0.5466],\n",
      "          [-0.7186, -0.6695, -0.5466,  ..., -0.5466, -0.5466, -0.4484]],\n",
      "\n",
      "         [[ 1.9343,  1.9835,  2.0572,  ...,  2.0326,  1.9589,  1.9098],\n",
      "          [ 1.9098,  1.9589,  2.0080,  ...,  1.9589,  1.9098,  1.8852],\n",
      "          [ 1.8852,  1.9098,  1.9589,  ...,  1.9343,  1.9098,  1.9098],\n",
      "          ...,\n",
      "          [ 1.8361,  1.9098,  1.9343,  ...,  1.7378,  1.9343,  1.5167],\n",
      "          [ 1.6887,  1.8115,  1.9589,  ...,  1.5904,  1.7624,  1.7133],\n",
      "          [ 1.5904,  1.7378,  1.9098,  ...,  1.8115,  1.5904,  1.7624]]],\n",
      "\n",
      "\n",
      "        [[[-0.2597, -0.2597, -0.2597,  ...,  3.8510,  3.8510,  3.8510],\n",
      "          [-0.2597, -0.2597, -0.2597,  ...,  3.8510,  3.8510,  3.8510],\n",
      "          [-0.2597, -0.2597, -0.2597,  ..., -0.2597, -0.2597, -0.2597],\n",
      "          ...,\n",
      "          [-0.2597, -0.2597, -0.2597,  ..., -0.2597, -0.2597, -0.2597],\n",
      "          [ 3.8510,  3.8510,  3.8510,  ..., -0.2597, -0.2597, -0.2597],\n",
      "          [ 3.8510,  3.8510,  3.8510,  ..., -0.2597, -0.2597, -0.2597]],\n",
      "\n",
      "         [[-0.0988, -0.0988, -0.4803,  ...,  2.9534,  2.9534,  2.9534],\n",
      "          [-0.0988, -0.0988,  0.2827,  ...,  2.9534,  2.9534,  2.5719],\n",
      "          [ 1.4273,  1.4273,  1.4273,  ...,  2.1904,  2.1904,  2.1904],\n",
      "          ...,\n",
      "          [ 2.1904,  2.1904,  1.4273,  ..., -0.4803, -0.4803, -0.4803],\n",
      "          [ 2.9534,  2.5719,  2.5719,  ..., -0.4803, -0.4803, -0.4803],\n",
      "          [ 2.9534,  2.9534,  2.9534,  ..., -0.4803, -0.4803, -0.4803]],\n",
      "\n",
      "         [[ 0.2503,  0.2503,  0.2503,  ...,  0.1772,  0.1772,  0.1667],\n",
      "          [ 0.2503,  0.2503,  0.2503,  ...,  0.1876,  0.1876,  0.1772],\n",
      "          [ 0.2607,  0.2503,  0.2503,  ...,  0.1876,  0.1876,  0.1772],\n",
      "          ...,\n",
      "          [ 0.3130,  0.3130,  0.3025,  ...,  0.2503,  0.2607,  0.2607],\n",
      "          [ 0.3025,  0.3025,  0.3025,  ...,  0.2503,  0.2607,  0.2712],\n",
      "          [ 0.3130,  0.3025,  0.3025,  ...,  0.2503,  0.2712,  0.2712]],\n",
      "\n",
      "         ...,\n",
      "\n",
      "         [[-0.0062,  0.1903, -0.0799,  ..., -0.2764, -0.3501, -0.2027],\n",
      "          [-0.1045,  0.0183, -0.1045,  ..., -0.0062, -0.0308, -0.0554],\n",
      "          [-0.1290, -0.1536, -0.1536,  ...,  0.1657,  0.2149,  0.1412],\n",
      "          ...,\n",
      "          [ 0.3868,  0.1412, -0.1782,  ...,  0.0183,  0.0429,  0.0183],\n",
      "          [ 0.1166,  0.0429, -0.1782,  ..., -0.0799, -0.0308, -0.0062],\n",
      "          [ 0.2149,  0.1657, -0.1045,  ..., -0.2027, -0.1782, -0.0799]],\n",
      "\n",
      "         [[-0.2027, -0.0308, -0.3010,  ..., -0.6695, -0.7431, -0.5958],\n",
      "          [-0.3256, -0.2027, -0.3256,  ..., -0.3993, -0.4238, -0.4484],\n",
      "          [-0.3501, -0.3747, -0.4484,  ..., -0.2273, -0.1782, -0.2273],\n",
      "          ...,\n",
      "          [-0.0062, -0.2273, -0.5221,  ..., -0.3993, -0.3747, -0.3993],\n",
      "          [-0.2519, -0.3256, -0.5221,  ..., -0.4975, -0.4484, -0.4238],\n",
      "          [-0.1536, -0.1782, -0.4484,  ..., -0.6449, -0.5958, -0.4975]],\n",
      "\n",
      "         [[ 1.5167,  1.4431,  1.4431,  ...,  1.7870,  1.8606,  1.8361],\n",
      "          [ 1.2957,  1.2465,  1.2957,  ...,  1.7378,  1.7133,  1.7133],\n",
      "          [ 0.9763,  1.0009,  1.1483,  ...,  1.7378,  1.5904,  1.5659],\n",
      "          ...,\n",
      "          [ 1.8115,  1.7624,  1.6641,  ...,  1.6150,  1.5659,  1.4676],\n",
      "          [ 1.7870,  1.8115,  1.7378,  ...,  1.7624,  1.6887,  1.5659],\n",
      "          [ 1.8115,  1.8852,  1.8606,  ...,  1.9098,  1.8115,  1.6641]]]],\n",
      "       device='cuda:0') tensor([[0., 0., 0.,  ..., 0., 0., 0.],\n",
      "        [0., 0., 0.,  ..., 0., 0., 0.],\n",
      "        [0., 0., 0.,  ..., 0., 0., 0.],\n",
      "        ...,\n",
      "        [0., 0., 0.,  ..., 0., 0., 0.],\n",
      "        [0., 0., 0.,  ..., 0., 0., 0.],\n",
      "        [0., 0., 0.,  ..., 0., 1., 1.]], device='cuda:0', dtype=torch.float64)\n"
     ]
    }
   ],
   "source": [
    "for i, l in train_loader:\n",
    "    print(i,l)\n",
    "    break"
   ]
  },
  {
   "cell_type": "code",
   "execution_count": 34,
   "metadata": {},
   "outputs": [
    {
     "data": {
      "text/plain": [
       "torch.Size([12, 100])"
      ]
     },
     "execution_count": 34,
     "metadata": {},
     "output_type": "execute_result"
    }
   ],
   "source": [
    "l.shape"
   ]
  },
  {
   "cell_type": "code",
   "execution_count": 1,
   "metadata": {},
   "outputs": [],
   "source": [
    "import pandas as pd\n",
    "import numpy as np\n",
    "import os\n",
    "import rasterio\n",
    "import pyproj\n",
    "import torch"
   ]
  },
  {
   "cell_type": "code",
   "execution_count": 2,
   "metadata": {},
   "outputs": [],
   "source": [
    "from Datasets import RasterPatchProvider, MultipleRasterPatchProvider"
   ]
  },
  {
   "cell_type": "code",
   "execution_count": 16,
   "metadata": {},
   "outputs": [
    {
     "name": "stdout",
     "output_type": "stream",
     "text": [
      "Rasters in folder: 19\n",
      "['bio9', 'bio8', 'bio7', 'bio6', 'bio5', 'bio4', 'bio3', 'bio2', 'bio19', 'bio18', 'bio17', 'bio16', 'bio15', 'bio14', 'bio13', 'bio12', 'bio11', 'bio10', 'bio1']\n",
      "\n"
     ]
    }
   ],
   "source": [
    "raster_folder = 'data/full_data/EnvironmentalRasters/Climate/BioClimatic_Average_1981-2010/'\n",
    "p = MultipleRasterPatchProvider(raster_folder)\n",
    "print(p)"
   ]
  },
  {
   "cell_type": "code",
   "execution_count": 8,
   "metadata": {},
   "outputs": [
    {
     "data": {
      "text/html": [
       "<div>\n",
       "<style scoped>\n",
       "    .dataframe tbody tr th:only-of-type {\n",
       "        vertical-align: middle;\n",
       "    }\n",
       "\n",
       "    .dataframe tbody tr th {\n",
       "        vertical-align: top;\n",
       "    }\n",
       "\n",
       "    .dataframe thead th {\n",
       "        text-align: right;\n",
       "    }\n",
       "</style>\n",
       "<table border=\"1\" class=\"dataframe\">\n",
       "  <thead>\n",
       "    <tr style=\"text-align: right;\">\n",
       "      <th></th>\n",
       "      <th>glcID</th>\n",
       "      <th>gbifID</th>\n",
       "      <th>observer</th>\n",
       "      <th>datasetName</th>\n",
       "      <th>date</th>\n",
       "      <th>dayOfYear</th>\n",
       "      <th>year</th>\n",
       "      <th>lon</th>\n",
       "      <th>lat</th>\n",
       "      <th>x_EPSG3035</th>\n",
       "      <th>y_EPSG3035</th>\n",
       "      <th>geoUncertaintyInM</th>\n",
       "      <th>speciesId</th>\n",
       "      <th>patchID</th>\n",
       "      <th>timeSerieID</th>\n",
       "    </tr>\n",
       "  </thead>\n",
       "  <tbody>\n",
       "    <tr>\n",
       "      <th>0</th>\n",
       "      <td>2774863</td>\n",
       "      <td>1.978418e+09</td>\n",
       "      <td>Jim Kingdon</td>\n",
       "      <td>iNaturalist RG</td>\n",
       "      <td>2018-09-29</td>\n",
       "      <td>272</td>\n",
       "      <td>2018</td>\n",
       "      <td>-10.53904</td>\n",
       "      <td>51.77186</td>\n",
       "      <td>2924908.0</td>\n",
       "      <td>3383275.0</td>\n",
       "      <td>4.0</td>\n",
       "      <td>8075</td>\n",
       "      <td>3018869</td>\n",
       "      <td>1000</td>\n",
       "    </tr>\n",
       "    <tr>\n",
       "      <th>1</th>\n",
       "      <td>1043549</td>\n",
       "      <td>2.397517e+09</td>\n",
       "      <td>Julie Hall</td>\n",
       "      <td>iNaturalist RG</td>\n",
       "      <td>2019-08-22</td>\n",
       "      <td>234</td>\n",
       "      <td>2019</td>\n",
       "      <td>-10.53875</td>\n",
       "      <td>51.77226</td>\n",
       "      <td>2924939.0</td>\n",
       "      <td>3383313.0</td>\n",
       "      <td>5.0</td>\n",
       "      <td>8075</td>\n",
       "      <td>3018870</td>\n",
       "      <td>1001</td>\n",
       "    </tr>\n",
       "    <tr>\n",
       "      <th>2</th>\n",
       "      <td>3104839</td>\n",
       "      <td>3.953467e+09</td>\n",
       "      <td>NaN</td>\n",
       "      <td>Pl@ntNet automatic</td>\n",
       "      <td>2019-07-10</td>\n",
       "      <td>191</td>\n",
       "      <td>2019</td>\n",
       "      <td>-10.47597</td>\n",
       "      <td>52.11013</td>\n",
       "      <td>2939549.0</td>\n",
       "      <td>3418442.0</td>\n",
       "      <td>5.0</td>\n",
       "      <td>6477</td>\n",
       "      <td>3018871</td>\n",
       "      <td>1002</td>\n",
       "    </tr>\n",
       "    <tr>\n",
       "      <th>3</th>\n",
       "      <td>1800638</td>\n",
       "      <td>2.294436e+09</td>\n",
       "      <td>gsauce</td>\n",
       "      <td>iNaturalist RG</td>\n",
       "      <td>2019-07-02</td>\n",
       "      <td>183</td>\n",
       "      <td>2019</td>\n",
       "      <td>-10.47555</td>\n",
       "      <td>52.15074</td>\n",
       "      <td>2940838.0</td>\n",
       "      <td>3422801.0</td>\n",
       "      <td>6.0</td>\n",
       "      <td>5783</td>\n",
       "      <td>3018872</td>\n",
       "      <td>1003</td>\n",
       "    </tr>\n",
       "    <tr>\n",
       "      <th>4</th>\n",
       "      <td>4873519</td>\n",
       "      <td>2.265857e+09</td>\n",
       "      <td>guillaumevigneault</td>\n",
       "      <td>iNaturalist RG</td>\n",
       "      <td>2019-06-07</td>\n",
       "      <td>158</td>\n",
       "      <td>2019</td>\n",
       "      <td>-10.47497</td>\n",
       "      <td>52.10978</td>\n",
       "      <td>2939604.0</td>\n",
       "      <td>3418385.0</td>\n",
       "      <td>30.0</td>\n",
       "      <td>9011</td>\n",
       "      <td>3018873</td>\n",
       "      <td>1004</td>\n",
       "    </tr>\n",
       "    <tr>\n",
       "      <th>...</th>\n",
       "      <td>...</td>\n",
       "      <td>...</td>\n",
       "      <td>...</td>\n",
       "      <td>...</td>\n",
       "      <td>...</td>\n",
       "      <td>...</td>\n",
       "      <td>...</td>\n",
       "      <td>...</td>\n",
       "      <td>...</td>\n",
       "      <td>...</td>\n",
       "      <td>...</td>\n",
       "      <td>...</td>\n",
       "      <td>...</td>\n",
       "      <td>...</td>\n",
       "      <td>...</td>\n",
       "    </tr>\n",
       "    <tr>\n",
       "      <th>4908314</th>\n",
       "      <td>2889852</td>\n",
       "      <td>3.892391e+09</td>\n",
       "      <td>Alenka Mihoric</td>\n",
       "      <td>iNaturalist RG</td>\n",
       "      <td>2018-05-09</td>\n",
       "      <td>129</td>\n",
       "      <td>2018</td>\n",
       "      <td>34.54567</td>\n",
       "      <td>35.64241</td>\n",
       "      <td>6523828.0</td>\n",
       "      <td>1753690.0</td>\n",
       "      <td>21.0</td>\n",
       "      <td>148</td>\n",
       "      <td>7000525</td>\n",
       "      <td>3980319</td>\n",
       "    </tr>\n",
       "    <tr>\n",
       "      <th>4908315</th>\n",
       "      <td>1261849</td>\n",
       "      <td>3.355773e+09</td>\n",
       "      <td>Alenka Mihoric</td>\n",
       "      <td>iNaturalist RG</td>\n",
       "      <td>2018-05-09</td>\n",
       "      <td>129</td>\n",
       "      <td>2018</td>\n",
       "      <td>34.54568</td>\n",
       "      <td>35.64243</td>\n",
       "      <td>6523828.0</td>\n",
       "      <td>1753692.0</td>\n",
       "      <td>38.0</td>\n",
       "      <td>625</td>\n",
       "      <td>7000526</td>\n",
       "      <td>3980320</td>\n",
       "    </tr>\n",
       "    <tr>\n",
       "      <th>4908316</th>\n",
       "      <td>844504</td>\n",
       "      <td>2.841228e+09</td>\n",
       "      <td>NaN</td>\n",
       "      <td>Observation.org</td>\n",
       "      <td>2019-01-24</td>\n",
       "      <td>24</td>\n",
       "      <td>2019</td>\n",
       "      <td>34.55360</td>\n",
       "      <td>35.64514</td>\n",
       "      <td>6524428.0</td>\n",
       "      <td>1754209.0</td>\n",
       "      <td>10.0</td>\n",
       "      <td>1088</td>\n",
       "      <td>7000527</td>\n",
       "      <td>3980321</td>\n",
       "    </tr>\n",
       "    <tr>\n",
       "      <th>4908317</th>\n",
       "      <td>346527</td>\n",
       "      <td>2.842044e+09</td>\n",
       "      <td>NaN</td>\n",
       "      <td>Observation.org</td>\n",
       "      <td>2019-01-24</td>\n",
       "      <td>24</td>\n",
       "      <td>2019</td>\n",
       "      <td>34.55388</td>\n",
       "      <td>35.64499</td>\n",
       "      <td>6524457.0</td>\n",
       "      <td>1754201.0</td>\n",
       "      <td>10.0</td>\n",
       "      <td>982</td>\n",
       "      <td>7000528</td>\n",
       "      <td>3980322</td>\n",
       "    </tr>\n",
       "    <tr>\n",
       "      <th>4908318</th>\n",
       "      <td>713628</td>\n",
       "      <td>3.355790e+09</td>\n",
       "      <td>Alenka Mihoric</td>\n",
       "      <td>iNaturalist RG</td>\n",
       "      <td>2018-05-09</td>\n",
       "      <td>129</td>\n",
       "      <td>2018</td>\n",
       "      <td>34.55792</td>\n",
       "      <td>35.64384</td>\n",
       "      <td>6524841.0</td>\n",
       "      <td>1754195.0</td>\n",
       "      <td>8.0</td>\n",
       "      <td>9395</td>\n",
       "      <td>7000529</td>\n",
       "      <td>3980323</td>\n",
       "    </tr>\n",
       "  </tbody>\n",
       "</table>\n",
       "<p>4908319 rows × 15 columns</p>\n",
       "</div>"
      ],
      "text/plain": [
       "           glcID        gbifID            observer         datasetName  \\\n",
       "0        2774863  1.978418e+09         Jim Kingdon      iNaturalist RG   \n",
       "1        1043549  2.397517e+09          Julie Hall      iNaturalist RG   \n",
       "2        3104839  3.953467e+09                 NaN  Pl@ntNet automatic   \n",
       "3        1800638  2.294436e+09              gsauce      iNaturalist RG   \n",
       "4        4873519  2.265857e+09  guillaumevigneault      iNaturalist RG   \n",
       "...          ...           ...                 ...                 ...   \n",
       "4908314  2889852  3.892391e+09      Alenka Mihoric      iNaturalist RG   \n",
       "4908315  1261849  3.355773e+09      Alenka Mihoric      iNaturalist RG   \n",
       "4908316   844504  2.841228e+09                 NaN     Observation.org   \n",
       "4908317   346527  2.842044e+09                 NaN     Observation.org   \n",
       "4908318   713628  3.355790e+09      Alenka Mihoric      iNaturalist RG   \n",
       "\n",
       "               date  dayOfYear  year       lon       lat  x_EPSG3035  \\\n",
       "0        2018-09-29        272  2018 -10.53904  51.77186   2924908.0   \n",
       "1        2019-08-22        234  2019 -10.53875  51.77226   2924939.0   \n",
       "2        2019-07-10        191  2019 -10.47597  52.11013   2939549.0   \n",
       "3        2019-07-02        183  2019 -10.47555  52.15074   2940838.0   \n",
       "4        2019-06-07        158  2019 -10.47497  52.10978   2939604.0   \n",
       "...             ...        ...   ...       ...       ...         ...   \n",
       "4908314  2018-05-09        129  2018  34.54567  35.64241   6523828.0   \n",
       "4908315  2018-05-09        129  2018  34.54568  35.64243   6523828.0   \n",
       "4908316  2019-01-24         24  2019  34.55360  35.64514   6524428.0   \n",
       "4908317  2019-01-24         24  2019  34.55388  35.64499   6524457.0   \n",
       "4908318  2018-05-09        129  2018  34.55792  35.64384   6524841.0   \n",
       "\n",
       "         y_EPSG3035  geoUncertaintyInM  speciesId  patchID  timeSerieID  \n",
       "0         3383275.0                4.0       8075  3018869         1000  \n",
       "1         3383313.0                5.0       8075  3018870         1001  \n",
       "2         3418442.0                5.0       6477  3018871         1002  \n",
       "3         3422801.0                6.0       5783  3018872         1003  \n",
       "4         3418385.0               30.0       9011  3018873         1004  \n",
       "...             ...                ...        ...      ...          ...  \n",
       "4908314   1753690.0               21.0        148  7000525      3980319  \n",
       "4908315   1753692.0               38.0        625  7000526      3980320  \n",
       "4908316   1754209.0               10.0       1088  7000527      3980321  \n",
       "4908317   1754201.0               10.0        982  7000528      3980322  \n",
       "4908318   1754195.0                8.0       9395  7000529      3980323  \n",
       "\n",
       "[4908319 rows x 15 columns]"
      ]
     },
     "execution_count": 8,
     "metadata": {},
     "output_type": "execute_result"
    }
   ],
   "source": [
    "occurrences_path = 'data/full_data/Presence_only_occurrences/Presences_only_train.csv'\n",
    "occurrences = pd.read_csv(occurrences_path, sep=';', header='infer', low_memory=False)\n",
    "occurrences"
   ]
  },
  {
   "cell_type": "code",
   "execution_count": 9,
   "metadata": {},
   "outputs": [
    {
     "data": {
      "text/plain": [
       "array([2774863, 1043549, 3104839, ...,  844504,  346527,  713628])"
      ]
     },
     "execution_count": 9,
     "metadata": {},
     "output_type": "execute_result"
    }
   ],
   "source": [
    "observation_ids = occurrences['glcID'].values\n",
    "observation_ids"
   ]
  },
  {
   "cell_type": "code",
   "execution_count": 10,
   "metadata": {},
   "outputs": [
    {
     "data": {
      "text/html": [
       "<div>\n",
       "<style scoped>\n",
       "    .dataframe tbody tr th:only-of-type {\n",
       "        vertical-align: middle;\n",
       "    }\n",
       "\n",
       "    .dataframe tbody tr th {\n",
       "        vertical-align: top;\n",
       "    }\n",
       "\n",
       "    .dataframe thead th {\n",
       "        text-align: right;\n",
       "    }\n",
       "</style>\n",
       "<table border=\"1\" class=\"dataframe\">\n",
       "  <thead>\n",
       "    <tr style=\"text-align: right;\">\n",
       "      <th></th>\n",
       "      <th>lat</th>\n",
       "      <th>lon</th>\n",
       "      <th>patchID</th>\n",
       "    </tr>\n",
       "  </thead>\n",
       "  <tbody>\n",
       "    <tr>\n",
       "      <th>0</th>\n",
       "      <td>51.77186</td>\n",
       "      <td>-10.53904</td>\n",
       "      <td>3018869</td>\n",
       "    </tr>\n",
       "    <tr>\n",
       "      <th>1</th>\n",
       "      <td>51.77226</td>\n",
       "      <td>-10.53875</td>\n",
       "      <td>3018870</td>\n",
       "    </tr>\n",
       "    <tr>\n",
       "      <th>2</th>\n",
       "      <td>52.11013</td>\n",
       "      <td>-10.47597</td>\n",
       "      <td>3018871</td>\n",
       "    </tr>\n",
       "    <tr>\n",
       "      <th>3</th>\n",
       "      <td>52.15074</td>\n",
       "      <td>-10.47555</td>\n",
       "      <td>3018872</td>\n",
       "    </tr>\n",
       "    <tr>\n",
       "      <th>4</th>\n",
       "      <td>52.10978</td>\n",
       "      <td>-10.47497</td>\n",
       "      <td>3018873</td>\n",
       "    </tr>\n",
       "    <tr>\n",
       "      <th>...</th>\n",
       "      <td>...</td>\n",
       "      <td>...</td>\n",
       "      <td>...</td>\n",
       "    </tr>\n",
       "    <tr>\n",
       "      <th>4908314</th>\n",
       "      <td>35.64241</td>\n",
       "      <td>34.54567</td>\n",
       "      <td>7000525</td>\n",
       "    </tr>\n",
       "    <tr>\n",
       "      <th>4908315</th>\n",
       "      <td>35.64243</td>\n",
       "      <td>34.54568</td>\n",
       "      <td>7000526</td>\n",
       "    </tr>\n",
       "    <tr>\n",
       "      <th>4908316</th>\n",
       "      <td>35.64514</td>\n",
       "      <td>34.55360</td>\n",
       "      <td>7000527</td>\n",
       "    </tr>\n",
       "    <tr>\n",
       "      <th>4908317</th>\n",
       "      <td>35.64499</td>\n",
       "      <td>34.55388</td>\n",
       "      <td>7000528</td>\n",
       "    </tr>\n",
       "    <tr>\n",
       "      <th>4908318</th>\n",
       "      <td>35.64384</td>\n",
       "      <td>34.55792</td>\n",
       "      <td>7000529</td>\n",
       "    </tr>\n",
       "  </tbody>\n",
       "</table>\n",
       "<p>4908319 rows × 3 columns</p>\n",
       "</div>"
      ],
      "text/plain": [
       "              lat       lon  patchID\n",
       "0        51.77186 -10.53904  3018869\n",
       "1        51.77226 -10.53875  3018870\n",
       "2        52.11013 -10.47597  3018871\n",
       "3        52.15074 -10.47555  3018872\n",
       "4        52.10978 -10.47497  3018873\n",
       "...           ...       ...      ...\n",
       "4908314  35.64241  34.54567  7000525\n",
       "4908315  35.64243  34.54568  7000526\n",
       "4908316  35.64514  34.55360  7000527\n",
       "4908317  35.64499  34.55388  7000528\n",
       "4908318  35.64384  34.55792  7000529\n",
       "\n",
       "[4908319 rows x 3 columns]"
      ]
     },
     "execution_count": 10,
     "metadata": {},
     "output_type": "execute_result"
    }
   ],
   "source": [
    "items = occurrences[['lat', 'lon', 'patchID']]\n",
    "items"
   ]
  },
  {
   "cell_type": "code",
   "execution_count": 11,
   "metadata": {},
   "outputs": [
    {
     "data": {
      "text/plain": [
       "array([8075, 8075, 6477, ..., 1088,  982, 9395])"
      ]
     },
     "execution_count": 11,
     "metadata": {},
     "output_type": "execute_result"
    }
   ],
   "source": [
    "targets = occurrences['speciesId'].values\n",
    "targets"
   ]
  },
  {
   "cell_type": "code",
   "execution_count": 13,
   "metadata": {},
   "outputs": [
    {
     "data": {
      "text/plain": [
       "{'lat': 51.77186, 'lon': -10.53904, 'patchID': 3018869.0}"
      ]
     },
     "execution_count": 13,
     "metadata": {},
     "output_type": "execute_result"
    }
   ],
   "source": [
    "index = 0\n",
    "item = items.iloc[index].to_dict()\n",
    "item"
   ]
  },
  {
   "cell_type": "code",
   "execution_count": 14,
   "metadata": {},
   "outputs": [
    {
     "data": {
      "text/plain": [
       "Int64Index([0], dtype='int64')"
      ]
     },
     "execution_count": 14,
     "metadata": {},
     "output_type": "execute_result"
    }
   ],
   "source": [
    "items[items['patchID']==item['patchID']].index"
   ]
  },
  {
   "cell_type": "code",
   "execution_count": 15,
   "metadata": {},
   "outputs": [
    {
     "data": {
      "text/plain": [
       "array([    1,     1,     1, ..., 10039, 10039, 10039])"
      ]
     },
     "execution_count": 15,
     "metadata": {},
     "output_type": "execute_result"
    }
   ],
   "source": [
    "np.sort(targets)"
   ]
  },
  {
   "cell_type": "code",
   "execution_count": null,
   "metadata": {},
   "outputs": [],
   "source": [
    "provider[item]"
   ]
  },
  {
   "cell_type": "code",
   "execution_count": 18,
   "metadata": {},
   "outputs": [
    {
     "ename": "TypeError",
     "evalue": "'MultipleRasterPatchProvider' object is not subscriptable",
     "output_type": "error",
     "traceback": [
      "\u001b[0;31m---------------------------------------------------------------------------\u001b[0m",
      "\u001b[0;31mTypeError\u001b[0m                                 Traceback (most recent call last)",
      "Cell \u001b[0;32mIn[18], line 1\u001b[0m\n\u001b[0;32m----> 1\u001b[0m p[\u001b[39m0\u001b[39;49m]\n",
      "\u001b[0;31mTypeError\u001b[0m: 'MultipleRasterPatchProvider' object is not subscriptable"
     ]
    }
   ],
   "source": [
    "p[0]"
   ]
  },
  {
   "cell_type": "code",
   "execution_count": null,
   "metadata": {},
   "outputs": [],
   "source": [
    "    def __getitem__(self, item):\n",
    "        return np.concatenate([raster[item] for raster in self.rasters_providers])"
   ]
  },
  {
   "cell_type": "code",
   "execution_count": null,
   "metadata": {},
   "outputs": [],
   "source": []
  },
  {
   "cell_type": "code",
   "execution_count": 3,
   "metadata": {},
   "outputs": [],
   "source": [
    "#raster_path = 'data/sample_data/EnvironmentalRasters/Climate/BioClimatic_Average_1981-2010/bio1.tif'\n",
    "raster_path = 'data/full_data/EnvironmentalRasters/HumanFootprint/detailed/Lights1994_WGS84.tif'\n",
    "d = RasterPatchProvider(raster_path)"
   ]
  },
  {
   "cell_type": "code",
   "execution_count": 5,
   "metadata": {},
   "outputs": [],
   "source": [
    "d.transformer"
   ]
  },
  {
   "cell_type": "code",
   "execution_count": 14,
   "metadata": {},
   "outputs": [
    {
     "data": {
      "text/plain": [
       "{'lat': 51.77186, 'lon': -10.53904, 'patchID': 3018869.0}"
      ]
     },
     "execution_count": 14,
     "metadata": {},
     "output_type": "execute_result"
    }
   ],
   "source": [
    "item"
   ]
  },
  {
   "cell_type": "code",
   "execution_count": 15,
   "metadata": {},
   "outputs": [
    {
     "name": "stdout",
     "output_type": "stream",
     "text": [
      "-10.53904 51.77186\n"
     ]
    }
   ],
   "source": [
    "if d.transformer:\n",
    "    lon, lat = d.transformer.transform(item['lon'], item['lat'])\n",
    "else:\n",
    "    lon, lat = (item['lon'], item['lat'])\n",
    "print(lon ,lat)\n"
   ]
  },
  {
   "cell_type": "code",
   "execution_count": 16,
   "metadata": {},
   "outputs": [
    {
     "name": "stdout",
     "output_type": "stream",
     "text": [
      "2063 2196\n"
     ]
    }
   ],
   "source": [
    "# calculate the x, y coordinate of the point of interest\n",
    "x = int(d.n_rows - (lat - d.y_min) / d.y_resolution)\n",
    "y = int((lon - d.x_min) / d.x_resolution)\n",
    "print(x,y)"
   ]
  },
  {
   "cell_type": "code",
   "execution_count": 18,
   "metadata": {},
   "outputs": [
    {
     "data": {
      "text/plain": [
       "(1, 4605, 6860)"
      ]
     },
     "execution_count": 18,
     "metadata": {},
     "output_type": "execute_result"
    }
   ],
   "source": [
    "d.data.shape"
   ]
  },
  {
   "cell_type": "code",
   "execution_count": 19,
   "metadata": {},
   "outputs": [
    {
     "data": {
      "text/plain": [
       "[0.0]"
      ]
     },
     "execution_count": 19,
     "metadata": {},
     "output_type": "execute_result"
    }
   ],
   "source": [
    "patch_size = 1\n",
    "if patch_size == 1:\n",
    "    patch_data = [d.data[i, x, y] for i in range(d.nb_layers)]\n",
    "else:\n",
    "    patch_data = [self.data[i, x - (self.patch_size // 2): x + (self.patch_size // 2), y - (self.patch_size // 2): y + (self.patch_size // 2)] for i in range(self.nb_layers)]\n",
    "patch_data"
   ]
  },
  {
   "cell_type": "code",
   "execution_count": null,
   "metadata": {},
   "outputs": [],
   "source": [
    "# read the data of the patch from all layers\n",
    "        if self.patch_size == 1:\n",
    "            patch_data = [self.data[i, x, y] for i in range(self.nb_layers)]\n",
    "        else:\n",
    "            patch_data = [self.data[i, x - (self.patch_size // 2): x + (self.patch_size // 2), y - (self.patch_size // 2): y + (self.patch_size // 2)] for i in range(self.nb_layers)]"
   ]
  },
  {
   "cell_type": "code",
   "execution_count": null,
   "metadata": {},
   "outputs": [],
   "source": [
    "\n",
    "        \n",
    "        tensor = np.concatenate([patch[np.newaxis] for patch in patch_data])\n",
    "        if self.fill_zero_if_error and tensor.shape != (self.nb_layers, self.patch_size, self.patch_size):\n",
    "            tensor = np.zeros((self.nb_layers, self.patch_size, self.patch_size))\n",
    "        return tensor"
   ]
  },
  {
   "cell_type": "code",
   "execution_count": 5,
   "metadata": {},
   "outputs": [
    {
     "name": "stdout",
     "output_type": "stream",
     "text": [
      "Rasters in folder: 19\n",
      "['bio9', 'bio8', 'bio7', 'bio6', 'bio5', 'bio4', 'bio3', 'bio2', 'bio19', 'bio18', 'bio17', 'bio16', 'bio15', 'bio14', 'bio13', 'bio12', 'bio11', 'bio10', 'bio1']\n",
      "\n"
     ]
    }
   ],
   "source": [
    "\n",
    "    def __getitem__(self, item):\n",
    "        \"\"\"\n",
    "        :param item: dictionary that needs to contains at least the keys latitude and longitude ({'lat': lat, 'lon':lon})\n",
    "        :return: return the environmental tensor or vector (size>1 or size=1)\n",
    "        \"\"\"\n",
    "        \n",
    "        # convert the lat, lon coordinates to EPSG:32738\n",
    "        if self.transformer:\n",
    "            lon, lat = self.transformer.transform(item['lon'], item['lat'])\n",
    "        else:\n",
    "            lon, lat = (item['lon'], item['lat'])\n",
    "\n",
    "        # add noise as data augmentation\n",
    "        if self.spatial_noise > 0:\n",
    "            lon = lon + ((random()*2*self.spatial_noise)-self.spatial_noise)\n",
    "            lat = lat + ((random()*2*self.spatial_noise)-self.spatial_noise)\n",
    "\n",
    "        # calculate the x, y coordinate of the point of interest\n",
    "        x = int(self.n_rows - (lat - self.y_min) / self.y_resolution)\n",
    "        y = int((lon - self.x_min) / self.x_resolution)\n",
    "\n",
    "        # read the data of the patch from all layers\n",
    "        if self.patch_size == 1:\n",
    "            patch_data = [self.data[i, x, y] for i in range(self.nb_layers)]\n",
    "        else:\n",
    "            patch_data = [self.data[i, x - (self.patch_size // 2): x + (self.patch_size // 2), y - (self.patch_size // 2): y + (self.patch_size // 2)] for i in range(self.nb_layers)]\n",
    "        \n",
    "        tensor = np.concatenate([patch[np.newaxis] for patch in patch_data])\n",
    "        if self.fill_zero_if_error and tensor.shape != (self.nb_layers, self.patch_size, self.patch_size):\n",
    "            tensor = np.zeros((self.nb_layers, self.patch_size, self.patch_size))\n",
    "        return tensor"
   ]
  },
  {
   "cell_type": "code",
   "execution_count": 19,
   "metadata": {},
   "outputs": [
    {
     "data": {
      "text/plain": [
       "['data/full_data/EnvironmentalRasters/Climate/BioClimatic_Average_1981-2010/bio9.tif',\n",
       " 'data/full_data/EnvironmentalRasters/Climate/BioClimatic_Average_1981-2010/bio8.tif',\n",
       " 'data/full_data/EnvironmentalRasters/Climate/BioClimatic_Average_1981-2010/bio7.tif',\n",
       " 'data/full_data/EnvironmentalRasters/Climate/BioClimatic_Average_1981-2010/bio6.tif',\n",
       " 'data/full_data/EnvironmentalRasters/Climate/BioClimatic_Average_1981-2010/bio5.tif',\n",
       " 'data/full_data/EnvironmentalRasters/Climate/BioClimatic_Average_1981-2010/bio4.tif',\n",
       " 'data/full_data/EnvironmentalRasters/Climate/BioClimatic_Average_1981-2010/bio3.tif',\n",
       " 'data/full_data/EnvironmentalRasters/Climate/BioClimatic_Average_1981-2010/bio2.tif',\n",
       " 'data/full_data/EnvironmentalRasters/Climate/BioClimatic_Average_1981-2010/bio19.tif',\n",
       " 'data/full_data/EnvironmentalRasters/Climate/BioClimatic_Average_1981-2010/bio18.tif',\n",
       " 'data/full_data/EnvironmentalRasters/Climate/BioClimatic_Average_1981-2010/bio17.tif',\n",
       " 'data/full_data/EnvironmentalRasters/Climate/BioClimatic_Average_1981-2010/bio16.tif',\n",
       " 'data/full_data/EnvironmentalRasters/Climate/BioClimatic_Average_1981-2010/bio15.tif',\n",
       " 'data/full_data/EnvironmentalRasters/Climate/BioClimatic_Average_1981-2010/bio14.tif',\n",
       " 'data/full_data/EnvironmentalRasters/Climate/BioClimatic_Average_1981-2010/bio13.tif',\n",
       " 'data/full_data/EnvironmentalRasters/Climate/BioClimatic_Average_1981-2010/bio12.tif',\n",
       " 'data/full_data/EnvironmentalRasters/Climate/BioClimatic_Average_1981-2010/bio11.tif',\n",
       " 'data/full_data/EnvironmentalRasters/Climate/BioClimatic_Average_1981-2010/bio10.tif',\n",
       " 'data/full_data/EnvironmentalRasters/Climate/BioClimatic_Average_1981-2010/bio1.tif']"
      ]
     },
     "execution_count": 19,
     "metadata": {},
     "output_type": "execute_result"
    }
   ],
   "source": [
    "\n",
    "files = os.listdir(raster_folder)\n",
    "files = [raster_folder + f for f in files if f.endswith('.tif')]\n",
    "files"
   ]
  },
  {
   "cell_type": "code",
   "execution_count": 4,
   "metadata": {},
   "outputs": [],
   "source": [
    "raster_providers = [RasterPatchProvider(f, normalize=True) for f in files]"
   ]
  },
  {
   "cell_type": "code",
   "execution_count": 5,
   "metadata": {},
   "outputs": [
    {
     "data": {
      "text/plain": [
       "[1, 1, 1, 1, 1, 1, 1, 1, 1, 1, 1, 1, 1, 1, 1, 1, 1, 1, 1]"
      ]
     },
     "execution_count": 5,
     "metadata": {},
     "output_type": "execute_result"
    }
   ],
   "source": [
    "[len(raster) for raster in raster_providers]"
   ]
  },
  {
   "cell_type": "code",
   "execution_count": 6,
   "metadata": {},
   "outputs": [
    {
     "data": {
      "text/plain": [
       "19"
      ]
     },
     "execution_count": 6,
     "metadata": {},
     "output_type": "execute_result"
    }
   ],
   "source": [
    "sum([len(raster) for raster in raster_providers])"
   ]
  },
  {
   "cell_type": "code",
   "execution_count": 10,
   "metadata": {},
   "outputs": [],
   "source": [
    "import itertools"
   ]
  },
  {
   "cell_type": "code",
   "execution_count": 14,
   "metadata": {},
   "outputs": [
    {
     "data": {
      "text/plain": [
       "['bio9',\n",
       " 'bio8',\n",
       " 'bio7',\n",
       " 'bio6',\n",
       " 'bio5',\n",
       " 'bio4',\n",
       " 'bio3',\n",
       " 'bio2',\n",
       " 'bio19',\n",
       " 'bio18',\n",
       " 'bio17',\n",
       " 'bio16',\n",
       " 'bio15',\n",
       " 'bio14',\n",
       " 'bio13',\n",
       " 'bio12',\n",
       " 'bio11',\n",
       " 'bio10',\n",
       " 'bio1']"
      ]
     },
     "execution_count": 14,
     "metadata": {},
     "output_type": "execute_result"
    }
   ],
   "source": [
    "list(itertools.chain.from_iterable([raster.band_names for raster in raster_providers]))"
   ]
  },
  {
   "cell_type": "code",
   "execution_count": 36,
   "metadata": {},
   "outputs": [
    {
     "data": {
      "text/plain": [
       "array([[[ 0.        ,  0.        ,  0.        , ...,  0.        ,\n",
       "          0.        ,  0.        ],\n",
       "        [ 0.        , -0.42757125, -0.42757125, ...,  0.        ,\n",
       "          0.        ,  0.        ],\n",
       "        [ 0.        , -0.42757125, -0.42757125, ...,  0.        ,\n",
       "          0.        ,  0.        ],\n",
       "        ...,\n",
       "        [ 0.        ,  0.        ,  0.        , ...,  0.        ,\n",
       "          0.        ,  0.        ],\n",
       "        [ 0.        ,  0.        ,  0.        , ...,  0.        ,\n",
       "          0.        ,  0.        ],\n",
       "        [ 0.        ,  0.        ,  0.        , ...,  0.        ,\n",
       "          0.        ,  0.        ]]])"
      ]
     },
     "execution_count": 36,
     "metadata": {},
     "output_type": "execute_result"
    }
   ],
   "source": [
    " self.rasters_providers = [RasterPatchProvider(rasters_folder+path, size=size, spatial_noise=spatial_noise, normalize=normalize, fill_zero_if_error=fill_zero_if_error) for path in rasters_paths]\n",
    "        self.nb_layers = sum([len(raster) for raster in self.rasters_providers])\n",
    "        self.bands_names = list(itertools.chain.from_iterable([raster.bands_names for raster in self.rasters_providers]))\n",
    "    "
   ]
  },
  {
   "cell_type": "code",
   "execution_count": 31,
   "metadata": {},
   "outputs": [
    {
     "data": {
      "text/plain": [
       "2.503515679188726"
      ]
     },
     "execution_count": 31,
     "metadata": {},
     "output_type": "execute_result"
    }
   ],
   "source": [
    "np.nanstd(data[i])"
   ]
  },
  {
   "cell_type": "code",
   "execution_count": 32,
   "metadata": {},
   "outputs": [
    {
     "data": {
      "text/plain": [
       "array([[        nan,         nan,         nan, ...,         nan,\n",
       "                nan,         nan],\n",
       "       [        nan, -0.42757125, -0.42757125, ...,         nan,\n",
       "                nan,         nan],\n",
       "       [        nan, -0.42757125, -0.42757125, ...,         nan,\n",
       "                nan,         nan],\n",
       "       ...,\n",
       "       [        nan,         nan,         nan, ...,         nan,\n",
       "                nan,         nan],\n",
       "       [        nan,         nan,         nan, ...,         nan,\n",
       "                nan,         nan],\n",
       "       [        nan,         nan,         nan, ...,         nan,\n",
       "                nan,         nan]])"
      ]
     },
     "execution_count": 32,
     "metadata": {},
     "output_type": "execute_result"
    }
   ],
   "source": [
    "i=0\n",
    "(data[i] - np.nanmean(data[i]))/np.nanstd(data[i])\n",
    "#self.data[i] = np.where(np.isnan(self.data[i]), nan_value, self.data[i])"
   ]
  },
  {
   "cell_type": "code",
   "execution_count": 27,
   "metadata": {},
   "outputs": [
    {
     "data": {
      "text/plain": [
       "array([[[0, 0, 0, ..., 0, 0, 0],\n",
       "        [0, 0, 0, ..., 0, 0, 0],\n",
       "        [0, 0, 0, ..., 0, 0, 0],\n",
       "        ...,\n",
       "        [0, 0, 0, ..., 0, 0, 0],\n",
       "        [0, 0, 0, ..., 0, 0, 0],\n",
       "        [0, 0, 0, ..., 0, 0, 0]]], dtype=uint8)"
      ]
     },
     "execution_count": 27,
     "metadata": {},
     "output_type": "execute_result"
    }
   ],
   "source": [
    "data"
   ]
  },
  {
   "cell_type": "code",
   "execution_count": 22,
   "metadata": {},
   "outputs": [
    {
     "data": {
      "text/plain": [
       "array([[127, 127, 127, ..., 127, 127, 127],\n",
       "       [127,   0,   0, ..., 127, 127, 127],\n",
       "       [127,   0,   0, ..., 127, 127, 127],\n",
       "       ...,\n",
       "       [127, 127, 127, ..., 127, 127, 127],\n",
       "       [127, 127, 127, ..., 127, 127, 127],\n",
       "       [127, 127, 127, ..., 127, 127, 127]], dtype=uint8)"
      ]
     },
     "execution_count": 22,
     "metadata": {},
     "output_type": "execute_result"
    }
   ],
   "source": [
    "data[0]"
   ]
  },
  {
   "cell_type": "code",
   "execution_count": null,
   "metadata": {},
   "outputs": [],
   "source": [
    "with rasterio.open(raster_path) as src:\n",
    "    meta = src.meta\n",
    "            self.meta.update(count=src.count)\n",
    "            self.data = src.read()\n",
    "            self.nodata_value = src.nodatavals\n",
    "\n",
    "            # iterate through all the layers\n",
    "            for i in range(src.count):\n",
    "                # replace the NoData values with np.nan\n",
    "                self.data = self.data.astype(np.float)\n",
    "                self.data[i] = np.where(self.data[i] == self.nodata_value[i], np.nan, self.data[i])\n",
    "                if normalize:\n",
    "                    self.data[i] = (self.data[i] - np.nanmean(self.data[i]))/np.nanstd(self.data[i])\n",
    "                self.data[i] = np.where(np.isnan(self.data[i]), nan_value, self.data[i])"
   ]
  },
  {
   "cell_type": "code",
   "execution_count": null,
   "metadata": {},
   "outputs": [],
   "source": [
    "with rasterio.open(raster_path) as src:\n",
    "            self.meta = src.meta\n",
    "            self.meta.update(count=src.count)\n",
    "            self.data = src.read()\n",
    "            self.nodata_value = src.nodatavals\n",
    "\n",
    "            # iterate through all the layers\n",
    "            for i in range(src.count):\n",
    "                # replace the NoData values with np.nan\n",
    "                self.data = self.data.astype(np.float)\n",
    "                self.data[i] = np.where(self.data[i] == self.nodata_value[i], np.nan, self.data[i])\n",
    "                if normalize:\n",
    "                    self.data[i] = (self.data[i] - np.nanmean(self.data[i]))/np.nanstd(self.data[i])\n",
    "                self.data[i] = np.where(np.isnan(self.data[i]), nan_value, self.data[i])\n",
    "\n",
    "        self.nb_layers = src.count\n",
    "        self.x_min = src.bounds.left\n",
    "        self.y_min = src.bounds.bottom\n",
    "        self.x_resolution = src.res[0]\n",
    "        self.y_resolution = src.res[1]\n",
    "        self.n_rows = src.height\n",
    "        self.n_cols = src.width\n",
    "        self.crs = src.crs\n",
    "        if self.nb_layers > 1:\n",
    "            self.bands_names = [self.name+'_'+str(i+1) for i in range(self.nb_layers)]\n",
    "        else:\n",
    "            self.bands_names = [self.name]\n",
    "        \n",
    "        self.epsg = self.crs.to_epsg()\n",
    "        if self.epsg != 4326:\n",
    "            # create a pyproj transformer object to convert lat, lon to EPSG:32738\n",
    "            self.transformer = pyproj.Transformer.from_crs(\"epsg:4326\", self.epsg, always_xy=True)\n",
    "\n"
   ]
  },
  {
   "cell_type": "code",
   "execution_count": 65,
   "metadata": {},
   "outputs": [],
   "source": [
    "from GLC23PatchesProviders import MultipleRasterPatchProvider, RasterPatchProvider, JpegPatchProvider"
   ]
  },
  {
   "cell_type": "code",
   "execution_count": 2,
   "metadata": {},
   "outputs": [
    {
     "data": {
      "text/plain": [
       "(4908319, 15)"
      ]
     },
     "execution_count": 2,
     "metadata": {},
     "output_type": "execute_result"
    }
   ],
   "source": [
    "po = pd.read_csv('data/full_data/Presence_only_occurrences/Presences_only_train.csv', sep=';')\n",
    "po.shape"
   ]
  },
  {
   "cell_type": "code",
   "execution_count": 10,
   "metadata": {},
   "outputs": [
    {
     "data": {
      "text/plain": [
       "array([2774863, 1043549, 3104839, ...,  844504,  346527,  713628])"
      ]
     },
     "execution_count": 10,
     "metadata": {},
     "output_type": "execute_result"
    }
   ],
   "source": [
    "observation_ids = po['glcID'].values\n",
    "observation_ids"
   ]
  },
  {
   "cell_type": "code",
   "execution_count": 11,
   "metadata": {},
   "outputs": [
    {
     "data": {
      "text/html": [
       "<div>\n",
       "<style scoped>\n",
       "    .dataframe tbody tr th:only-of-type {\n",
       "        vertical-align: middle;\n",
       "    }\n",
       "\n",
       "    .dataframe tbody tr th {\n",
       "        vertical-align: top;\n",
       "    }\n",
       "\n",
       "    .dataframe thead th {\n",
       "        text-align: right;\n",
       "    }\n",
       "</style>\n",
       "<table border=\"1\" class=\"dataframe\">\n",
       "  <thead>\n",
       "    <tr style=\"text-align: right;\">\n",
       "      <th></th>\n",
       "      <th>lat</th>\n",
       "      <th>lon</th>\n",
       "      <th>patchID</th>\n",
       "    </tr>\n",
       "  </thead>\n",
       "  <tbody>\n",
       "    <tr>\n",
       "      <th>0</th>\n",
       "      <td>51.77186</td>\n",
       "      <td>-10.53904</td>\n",
       "      <td>3018869</td>\n",
       "    </tr>\n",
       "    <tr>\n",
       "      <th>1</th>\n",
       "      <td>51.77226</td>\n",
       "      <td>-10.53875</td>\n",
       "      <td>3018870</td>\n",
       "    </tr>\n",
       "    <tr>\n",
       "      <th>2</th>\n",
       "      <td>52.11013</td>\n",
       "      <td>-10.47597</td>\n",
       "      <td>3018871</td>\n",
       "    </tr>\n",
       "    <tr>\n",
       "      <th>3</th>\n",
       "      <td>52.15074</td>\n",
       "      <td>-10.47555</td>\n",
       "      <td>3018872</td>\n",
       "    </tr>\n",
       "    <tr>\n",
       "      <th>4</th>\n",
       "      <td>52.10978</td>\n",
       "      <td>-10.47497</td>\n",
       "      <td>3018873</td>\n",
       "    </tr>\n",
       "    <tr>\n",
       "      <th>...</th>\n",
       "      <td>...</td>\n",
       "      <td>...</td>\n",
       "      <td>...</td>\n",
       "    </tr>\n",
       "    <tr>\n",
       "      <th>4908314</th>\n",
       "      <td>35.64241</td>\n",
       "      <td>34.54567</td>\n",
       "      <td>7000525</td>\n",
       "    </tr>\n",
       "    <tr>\n",
       "      <th>4908315</th>\n",
       "      <td>35.64243</td>\n",
       "      <td>34.54568</td>\n",
       "      <td>7000526</td>\n",
       "    </tr>\n",
       "    <tr>\n",
       "      <th>4908316</th>\n",
       "      <td>35.64514</td>\n",
       "      <td>34.55360</td>\n",
       "      <td>7000527</td>\n",
       "    </tr>\n",
       "    <tr>\n",
       "      <th>4908317</th>\n",
       "      <td>35.64499</td>\n",
       "      <td>34.55388</td>\n",
       "      <td>7000528</td>\n",
       "    </tr>\n",
       "    <tr>\n",
       "      <th>4908318</th>\n",
       "      <td>35.64384</td>\n",
       "      <td>34.55792</td>\n",
       "      <td>7000529</td>\n",
       "    </tr>\n",
       "  </tbody>\n",
       "</table>\n",
       "<p>4908319 rows × 3 columns</p>\n",
       "</div>"
      ],
      "text/plain": [
       "              lat       lon  patchID\n",
       "0        51.77186 -10.53904  3018869\n",
       "1        51.77226 -10.53875  3018870\n",
       "2        52.11013 -10.47597  3018871\n",
       "3        52.15074 -10.47555  3018872\n",
       "4        52.10978 -10.47497  3018873\n",
       "...           ...       ...      ...\n",
       "4908314  35.64241  34.54567  7000525\n",
       "4908315  35.64243  34.54568  7000526\n",
       "4908316  35.64514  34.55360  7000527\n",
       "4908317  35.64499  34.55388  7000528\n",
       "4908318  35.64384  34.55792  7000529\n",
       "\n",
       "[4908319 rows x 3 columns]"
      ]
     },
     "execution_count": 11,
     "metadata": {},
     "output_type": "execute_result"
    }
   ],
   "source": [
    "items = po[['lat', 'lon', 'patchID']]\n",
    "items"
   ]
  },
  {
   "cell_type": "code",
   "execution_count": 12,
   "metadata": {},
   "outputs": [
    {
     "data": {
      "text/plain": [
       "array([8075, 8075, 6477, ..., 1088,  982, 9395])"
      ]
     },
     "execution_count": 12,
     "metadata": {},
     "output_type": "execute_result"
    }
   ],
   "source": [
    "targets = po['speciesId'].values\n",
    "targets"
   ]
  },
  {
   "cell_type": "code",
   "execution_count": 64,
   "metadata": {},
   "outputs": [],
   "source": [
    "data_path = 'data/sample_data/'\n",
    "patch_rasters_folder_paths = [\n",
    "    data_path+'EnvironmentalRasters/Climate/BioClimatic_Average_1981-2010/',\n",
    "    data_path+'EnvironmentalRasters/HumanFootprint/detailed/'\n",
    "]"
   ]
  },
  {
   "cell_type": "code",
   "execution_count": null,
   "metadata": {},
   "outputs": [],
   "source": [
    "def get_rasters_data(rasters_folder):\n",
    "    files = os.listdir(rasters_folder)\n",
    "    rasters_paths = [rasters_folder + f for f in files if f.endswith('.tif')]\n",
    "    data = [get_raster_data(p) for p in rasters_paths]"
   ]
  },
  {
   "cell_type": "code",
   "execution_count": null,
   "metadata": {},
   "outputs": [],
   "source": [
    "def get_raster_data(raster_path, normalize = True, nan_value=0):\n",
    "    name = os.path.basename(os.path.splitext(raster_path)[0])\n"
   ]
  },
  {
   "cell_type": "code",
   "execution_count": 51,
   "metadata": {},
   "outputs": [
    {
     "name": "stderr",
     "output_type": "stream",
     "text": [
      "/tmp/ipykernel_479196/399059852.py:13: DeprecationWarning: `np.float` is a deprecated alias for the builtin `float`. To silence this warning, use `float` by itself. Doing this will not modify any behavior and is safe. If you specifically wanted the numpy scalar type, use `np.float64` here.\n",
      "Deprecated in NumPy 1.20; for more details and guidance: https://numpy.org/devdocs/release/1.20.0-notes.html#deprecations\n",
      "  data = data.astype(np.float)\n"
     ]
    }
   ],
   "source": [
    "\n",
    "\n",
    "with rasterio.open(raster_path) as src:\n",
    "    meta = src.meta\n",
    "    meta.update(count=src.count)\n",
    "    data = src.read()\n",
    "    nodata_value = src.nodatavals\n",
    "\n",
    "    # iterate through all the layers\n",
    "    for i in range(src.count):\n",
    "        # replace the NoData values with np.nan\n",
    "            data = data.astype(np.float)\n",
    "            data[i] = np.where(data[i] == nodata_value[i], np.nan, data[i])\n",
    "            if normalize:\n",
    "                data[i] = (data[i] - np.nanmean(data[i]))/np.nanstd(data[i])\n",
    "            data[i] = np.where(np.isnan(data[i]), nan_value, data[i])\n",
    "\n",
    "    nb_layers = src.count\n",
    "\n",
    "    x_min = src.bounds.left\n",
    "    y_min = src.bounds.bottom\n",
    "    x_resolution = src.res[0]\n",
    "    y_resolution = src.res[1]\n",
    "    n_rows = src.height\n",
    "    n_cols = src.width\n",
    "    crs = src.crs\n",
    "    if nb_layers > 1:\n",
    "        bands_names = [name+'_'+str(i+1) for i in range(nb_layers)]\n",
    "    else:\n",
    "        bands_names = [name]\n",
    "        \n",
    "    epsg = crs.to_epsg()\n",
    "    if epsg != 4326:\n",
    "        # create a pyproj transformer object to convert lat, lon to EPSG:32738\n",
    "        transformer = pyproj.Transformer.from_crs(\"epsg:4326\", epsg, always_xy=True)\n",
    "\n"
   ]
  },
  {
   "cell_type": "code",
   "execution_count": 59,
   "metadata": {},
   "outputs": [
    {
     "data": {
      "text/plain": [
       "tensor([[[-29.6831, -29.6831, -29.6831,  ..., -29.6831, -29.6831, -29.6831],\n",
       "         [ -3.7617,  -3.7617,  -3.7617,  ...,  -0.9826,  -0.9826, -29.6831],\n",
       "         [ -3.7617,  -3.7617,  -3.7617,  ...,  -0.9826,  -0.9826, -29.6831],\n",
       "         ...,\n",
       "         [  1.1593,   1.1593,   1.1593,  ...,   1.4936,   1.4936, -29.6831],\n",
       "         [  1.1593,   1.1593,   1.1593,  ...,   1.4936,   1.4936, -29.6831],\n",
       "         [-29.6831, -29.6831, -29.6831,  ..., -29.6831, -29.6831, -29.6831]]])"
      ]
     },
     "execution_count": 59,
     "metadata": {},
     "output_type": "execute_result"
    }
   ],
   "source": [
    "torch.tensor(data, dtype=torch.float32)\n"
   ]
  },
  {
   "cell_type": "code",
   "execution_count": 36,
   "metadata": {},
   "outputs": [
    {
     "data": {
      "text/plain": [
       "(1, 5467, 8143)"
      ]
     },
     "execution_count": 36,
     "metadata": {},
     "output_type": "execute_result"
    }
   ],
   "source": []
  },
  {
   "cell_type": "code",
   "execution_count": null,
   "metadata": {},
   "outputs": [],
   "source": [
    "class RasterPatchProvider(PatchProvider):\n",
    "    def __init__(self, raster_path, size=128, spatial_noise=0, normalize=True, fill_zero_if_error=False, nan_value=0):\n",
    "        super().__init__(size, normalize)\n",
    "        self.spatial_noise = spatial_noise\n",
    "        self.fill_zero_if_error = fill_zero_if_error\n",
    "        self.transformer = None\n",
    "        self.name = os.path.basename(os.path.splitext(raster_path)[0])\n",
    "        self.normalize = normalize\n",
    "\n",
    "        # open the tif file with rasterio\n",
    "        with rasterio.open(raster_path) as src:\n",
    "            # read the metadata of the file\n",
    "            meta = src.meta\n",
    "            meta.update(count=src.count) # update the count of the meta to match the number of layers\n",
    "\n",
    "            # read the data from the raster\n",
    "            self.data = src.read()\n",
    "\n",
    "            # get the NoData value from the raster\n",
    "            self.nodata_value = src.nodatavals\n",
    "\n",
    "            # iterate through all the layers\n",
    "            for i in range(src.count):\n",
    "                # replace the NoData values with np.nan\n",
    "                self.data = self.data.astype(np.float)\n",
    "                self.data[i] = np.where(self.data[i] == self.nodata_value[i], np.nan, self.data[i])\n",
    "                if self.normalize:\n",
    "                    self.data[i] = (self.data[i] - np.nanmean(self.data[i]))/np.nanstd(self.data[i])\n",
    "                self.data[i] = np.where(np.isnan(self.data[i]), nan_value, self.data[i])\n",
    "            \n",
    "            self.nb_layers = src.count\n",
    "\n",
    "            self.x_min = src.bounds.left\n",
    "            self.y_min = src.bounds.bottom\n",
    "            self.x_resolution = src.res[0]\n",
    "            self.y_resolution = src.res[1]\n",
    "            self.n_rows = src.height\n",
    "            self.n_cols = src.width\n",
    "            self.crs = src.crs\n",
    "        if self.nb_layers > 1:\n",
    "            self.bands_names = [self.name+'_'+str(i+1) for i in range(self.nb_layers)]\n",
    "        else:\n",
    "            self.bands_names = [self.name]\n",
    "        \n",
    "        self.epsg = self.crs.to_epsg()\n",
    "        if self.epsg != 4326:\n",
    "            # create a pyproj transformer object to convert lat, lon to EPSG:32738\n",
    "            self.transformer = pyproj.Transformer.from_crs(\"epsg:4326\", self.epsg, always_xy=True)\n",
    "\n"
   ]
  },
  {
   "cell_type": "code",
   "execution_count": null,
   "metadata": {},
   "outputs": [],
   "source": [
    "self.rasters_providers = [RasterPatchProvider(rasters_folder+path, size=size, spatial_noise=spatial_noise, normalize=normalize, fill_zero_if_error=fill_zero_if_error) for path in rasters_paths]"
   ]
  },
  {
   "cell_type": "code",
   "execution_count": null,
   "metadata": {},
   "outputs": [],
   "source": [
    "p_bioclim = MultipleRasterPatchProvider(data_path+'EnvironmentalRasters/Climate/BioClimatic_Average_1981-2010/') # take all bioclimatic rasters (3: bio1, 2, 11)\n",
    "\n",
    "\n",
    "class MultipleRasterPatchProvider(PatchProvider):\n",
    "    def __init__(self, rasters_folder, select=None, size=128, spatial_noise=0, normalize=True, fill_zero_if_error=False):\n",
    "        files = os.listdir(rasters_folder)\n",
    "        # Filter files to include only those with .tif extension\n",
    "        #rasters_paths = [f for f in files if f.endswith('.tif')]\n",
    "        #if select:\n",
    "        #    select = [r+'.tif' for r in select]\n",
    "        #    rasters_paths = [r for r in rasters_paths if r in select]\n",
    "        if select:\n",
    "            rasters_paths = [r+'.tif' for r in select]\n",
    "        else:\n",
    "            rasters_paths = [f for f in files if f.endswith('.tif')]\n",
    "        self.rasters_providers = [RasterPatchProvider(rasters_folder+path, size=size, spatial_noise=spatial_noise, normalize=normalize, fill_zero_if_error=fill_zero_if_error) for path in rasters_paths]\n",
    "        self.nb_layers = sum([len(raster) for raster in self.rasters_providers])\n",
    "        self.bands_names = list(itertools.chain.from_iterable([raster.bands_names for raster in self.rasters_providers]))\n",
    "    \n",
    "    def __getitem__(self, item):\n",
    "        return np.concatenate([raster[item] for raster in self.rasters_providers])\n",
    "    \n",
    "    def __str__(self):\n",
    "        result = 'Rasters in folder:\\n'\n",
    "        for raster in self.rasters_providers:\n",
    "            result += str(raster)\n",
    "            result += '\\n'\n",
    "        return result"
   ]
  },
  {
   "cell_type": "code",
   "execution_count": null,
   "metadata": {},
   "outputs": [],
   "source": [
    "p_rgb = JpegPatchProvider(data_path+'SatelliteImages/')#, dataset_stats='jpeg_patches_sample_stats.csv') # take all sentinel imagery layer (4: r,g,b,nir)"
   ]
  },
  {
   "cell_type": "code",
   "execution_count": 20,
   "metadata": {},
   "outputs": [
    {
     "data": {
      "text/plain": [
       "{'lat': 51.77186, 'lon': -10.53904, 'patchID': 3018869.0}"
      ]
     },
     "execution_count": 20,
     "metadata": {},
     "output_type": "execute_result"
    }
   ],
   "source": [
    "index = 0\n",
    "item = items.iloc[index].to_dict()\n",
    "item"
   ]
  },
  {
   "cell_type": "code",
   "execution_count": null,
   "metadata": {},
   "outputs": [],
   "source": [
    "patch ="
   ]
  },
  {
   "cell_type": "code",
   "execution_count": null,
   "metadata": {},
   "outputs": [],
   "source": [
    "item = self.items.iloc[index].to_dict()\n",
    "\n",
    "        patch = self.provider[item]\n",
    "\n",
    "        target = self.targets[index]\n",
    "\n",
    "        if self.target_transform:\n",
    "            target = self.target_transform(target)\n",
    "\n",
    "        return torch.from_numpy(patch).float().to(device), target"
   ]
  },
  {
   "cell_type": "code",
   "execution_count": 4,
   "metadata": {},
   "outputs": [
    {
     "data": {
      "text/plain": [
       "(85325, 15)"
      ]
     },
     "execution_count": 4,
     "metadata": {},
     "output_type": "execute_result"
    }
   ],
   "source": [
    "pa = pd.read_csv('data/full_data/Presence_Absence_surveys/Presences_Absences_train.csv', sep=';')\n",
    "pa.shape"
   ]
  },
  {
   "cell_type": "code",
   "execution_count": 5,
   "metadata": {},
   "outputs": [],
   "source": [
    "from data.GLC23PatchesProviders import MultipleRasterPatchProvider, RasterPatchProvider, JpegPatchProvider\n",
    "from data.GLC23Datasets import PatchesDataset, PatchesDatasetMultiLabel"
   ]
  },
  {
   "cell_type": "code",
   "execution_count": 6,
   "metadata": {},
   "outputs": [],
   "source": [
    "data_path = 'data/full_data/' # root path of the data\n",
    "# configure providers\n",
    "p_hfp_d = MultipleRasterPatchProvider(data_path+'EnvironmentalRasters/HumanFootprint/detailed/') # take all rasters from human footprint detailed (2 rasters here)\n",
    "p_bioclim = MultipleRasterPatchProvider(data_path+'EnvironmentalRasters/Climate/BioClimatic_Average_1981-2010/', select=['bio1', 'bio2']) # take only bio1 and bio2 from bioclimatic rasters (2 rasters from the 3 in the folder)\n",
    "p_hfp_s = RasterPatchProvider(data_path+'EnvironmentalRasters/HumanFootprint/summarized/HFP2009_WGS84.tif') # take the human footprint 2009 summurized raster (a single raster)\n",
    "p_rgb = JpegPatchProvider(data_path+'SatelliteImages/') # take all sentinel imagery layers (r,g,b,nir = 4 layers)"
   ]
  },
  {
   "cell_type": "code",
   "execution_count": 7,
   "metadata": {},
   "outputs": [],
   "source": [
    "# create dataset\n",
    "dataset = PatchesDataset(\n",
    "    occurrences=data_path+'Presence_only_occurrences/Presences_only_train.csv',\n",
    "    providers=(p_hfp_d, p_bioclim, p_hfp_s, p_rgb))"
   ]
  },
  {
   "cell_type": "code",
   "execution_count": 8,
   "metadata": {},
   "outputs": [
    {
     "data": {
      "text/plain": [
       "4908319"
      ]
     },
     "execution_count": 8,
     "metadata": {},
     "output_type": "execute_result"
    }
   ],
   "source": [
    "len(dataset)"
   ]
  }
 ],
 "metadata": {
  "kernelspec": {
   "display_name": "glc23",
   "language": "python",
   "name": "python3"
  },
  "language_info": {
   "codemirror_mode": {
    "name": "ipython",
    "version": 3
   },
   "file_extension": ".py",
   "mimetype": "text/x-python",
   "name": "python",
   "nbconvert_exporter": "python",
   "pygments_lexer": "ipython3",
   "version": "3.9.16"
  },
  "orig_nbformat": 4
 },
 "nbformat": 4,
 "nbformat_minor": 2
}
