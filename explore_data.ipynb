{
 "cells": [
  {
   "cell_type": "code",
   "execution_count": 1,
   "metadata": {},
   "outputs": [],
   "source": [
    "from GLC23PatchesProviders import MultipleRasterPatchProvider, RasterPatchProvider, JpegPatchProvider, MetaPatchProvider\n",
    "from GLC23Datasets import PatchesDataset, PatchesDatasetMultiLabel"
   ]
  },
  {
   "cell_type": "code",
   "execution_count": 32,
   "metadata": {},
   "outputs": [],
   "source": [
    "import torch\n",
    "from pathlib import Path\n",
    "import os\n",
    "import rasterio\n",
    "import pandas as pd\n",
    "import numpy as np"
   ]
  },
  {
   "cell_type": "code",
   "execution_count": 13,
   "metadata": {},
   "outputs": [
    {
     "name": "stdout",
     "output_type": "stream",
     "text": [
      "RasterPatchProvider __init__\n",
      "RasterPatchProvider __init__\n",
      "RasterPatchProvider __init__\n",
      "RasterPatchProvider __init__\n"
     ]
    }
   ],
   "source": [
    "data_path = 'data/sample_data/' \n",
    "presence_only_path = data_path+'Presence_only_occurrences/Presences_only_train_sample.csv'\n",
    "# presence_absence_path = data_path+'Presence_Absences_occurrences/Presences_Absences_train_sample.csv'\n",
    "p_hfp_s = RasterPatchProvider(data_path+'EnvironmentalRasters/HumanFootprint/summarized/HFP2009_WGS84.tif') \n",
    "p_bioclim = MultipleRasterPatchProvider(data_path+'EnvironmentalRasters/Climate/BioClimatic_Average_1981-2010/')"
   ]
  },
  {
   "cell_type": "code",
   "execution_count": 22,
   "metadata": {},
   "outputs": [
    {
     "name": "stdout",
     "output_type": "stream",
     "text": [
      "MetaPatchProvider __init__\n"
     ]
    }
   ],
   "source": [
    "occurrences = Path(presence_only_path)\n",
    "providers = (p_hfp_s, p_bioclim) \n",
    "transform=None\n",
    "target_transform=None\n",
    "id_name=\"glcID\"\n",
    "label_name=\"speciesId\"\n",
    "item_columns=['lat', 'lon', 'patchID']\n",
    "device=\"cpu\"\n",
    "provider = MetaPatchProvider(providers, transform)"
   ]
  },
  {
   "cell_type": "code",
   "execution_count": 46,
   "metadata": {},
   "outputs": [],
   "source": [
    "df = pd.read_csv(occurrences, sep=\";\", header='infer', low_memory=False)\n",
    "observation_ids = df[id_name].values\n",
    "items = df[item_columns]\n",
    "targets = df[label_name].values #speciesId"
   ]
  },
  {
   "cell_type": "code",
   "execution_count": 24,
   "metadata": {},
   "outputs": [
    {
     "data": {
      "text/plain": [
       "{'lat': 59.2511, 'lon': 10.95154, 'patchID': 5982155.0}"
      ]
     },
     "execution_count": 24,
     "metadata": {},
     "output_type": "execute_result"
    }
   ],
   "source": [
    "#print(f\"PatchesDatasetMultiLabel __getitem__ index={index}\")\n",
    "index = 0\n",
    "item = items.iloc[index].to_dict()\n",
    "item"
   ]
  },
  {
   "cell_type": "code",
   "execution_count": 25,
   "metadata": {},
   "outputs": [
    {
     "data": {
      "text/plain": [
       "Int64Index([0], dtype='int64')"
      ]
     },
     "execution_count": 25,
     "metadata": {},
     "output_type": "execute_result"
    }
   ],
   "source": [
    "patchid_rows_i = items[items['patchID']==item['patchID']].index\n",
    "patchid_rows_i"
   ]
  },
  {
   "cell_type": "code",
   "execution_count": 33,
   "metadata": {},
   "outputs": [
    {
     "data": {
      "text/plain": [
       "array([  24,  216,  232,  254,  285,  435,  518,  644,  784,  801,  830,\n",
       "       1108, 1131, 1503, 1576, 1580, 1706, 1729, 1894, 1954, 2165, 2730,\n",
       "       2752, 2828, 2963, 2989, 3271, 3271, 3349, 3384, 3659, 3674, 3704,\n",
       "       3852, 3892, 3911, 3943, 4013, 4051, 4102, 4143, 4318, 4634, 4835,\n",
       "       4866, 5000, 5072, 5154, 5233, 5448, 5767, 5773, 5776, 5868, 6026,\n",
       "       6249, 6249, 6461, 6523, 6705, 6826, 7021, 7193, 7246, 7287, 7449,\n",
       "       7583, 7722, 7740, 7746, 7747, 7826, 7858, 7904, 8058, 8058, 8106,\n",
       "       8126, 8144, 8308, 8367, 8395, 8456, 8487, 8504, 8820, 8987, 9120,\n",
       "       9343, 9509, 9540, 9558, 9607, 9669, 9675, 9739, 9753, 9785, 9826,\n",
       "       9826])"
      ]
     },
     "execution_count": 33,
     "metadata": {},
     "output_type": "execute_result"
    }
   ],
   "source": [
    "targets_sorted = np.sort(targets)\n",
    "targets_sorted"
   ]
  },
  {
   "cell_type": "code",
   "execution_count": 37,
   "metadata": {},
   "outputs": [
    {
     "name": "stdout",
     "output_type": "stream",
     "text": [
      "MetaPatchProvider __getitem__ item={'lat': 59.2511, 'lon': 10.95154, 'patchID': 5982155.0}\n",
      "RasterPatchProvider __getitem__ item={'lat': 59.2511, 'lon': 10.95154, 'patchID': 5982155.0}\n",
      "RasterPatchProvider __getitem__ item={'lat': 59.2511, 'lon': 10.95154, 'patchID': 5982155.0}\n",
      "RasterPatchProvider __getitem__ item={'lat': 59.2511, 'lon': 10.95154, 'patchID': 5982155.0}\n",
      "RasterPatchProvider __getitem__ item={'lat': 59.2511, 'lon': 10.95154, 'patchID': 5982155.0}\n"
     ]
    },
    {
     "data": {
      "text/plain": [
       "(4, 128, 128)"
      ]
     },
     "execution_count": 37,
     "metadata": {},
     "output_type": "execute_result"
    }
   ],
   "source": [
    "patch = provider[item]\n",
    "patch.shape"
   ]
  },
  {
   "cell_type": "code",
   "execution_count": 48,
   "metadata": {},
   "outputs": [
    {
     "data": {
      "text/plain": [
       "array([0., 0., 0., 0., 0., 0., 0., 0., 0., 0., 0., 0., 0., 0., 0., 0., 0.,\n",
       "       0., 0., 0., 0., 0., 0., 0., 0., 0., 0., 0., 0., 0., 0., 0., 0., 0.,\n",
       "       0., 0., 0., 0., 0., 0., 0., 0., 0., 0., 0., 0., 0., 0., 0., 0., 0.,\n",
       "       0., 0., 0., 0., 0., 0., 0., 0., 0., 0., 0., 0., 0., 0., 0., 0., 0.,\n",
       "       0., 0., 0., 0., 0., 0., 0., 0., 0., 0., 0., 0., 0., 0., 0., 0., 0.,\n",
       "       0., 0., 0., 0., 0., 0., 0., 0., 0., 0., 0., 0., 0., 0., 0.])"
      ]
     },
     "execution_count": 48,
     "metadata": {},
     "output_type": "execute_result"
    }
   ],
   "source": [
    "targets_vec = np.zeros(len(targets))\n",
    "targets_vec"
   ]
  },
  {
   "cell_type": "code",
   "execution_count": 51,
   "metadata": {},
   "outputs": [
    {
     "data": {
      "text/plain": [
       "array([1.])"
      ]
     },
     "execution_count": 51,
     "metadata": {},
     "output_type": "execute_result"
    }
   ],
   "source": [
    "targets_vec[np.where(targets_vec!=0)]"
   ]
  },
  {
   "cell_type": "code",
   "execution_count": 49,
   "metadata": {},
   "outputs": [
    {
     "data": {
      "text/plain": [
       "9343"
      ]
     },
     "execution_count": 49,
     "metadata": {},
     "output_type": "execute_result"
    }
   ],
   "source": [
    "idx=0\n",
    "target = targets[idx]\n",
    "target"
   ]
  },
  {
   "cell_type": "code",
   "execution_count": 50,
   "metadata": {},
   "outputs": [
    {
     "data": {
      "text/plain": [
       "array([0., 0., 0., 0., 0., 0., 0., 0., 0., 0., 0., 0., 0., 0., 0., 0., 0.,\n",
       "       0., 0., 0., 0., 0., 0., 0., 0., 0., 0., 0., 0., 0., 0., 0., 0., 0.,\n",
       "       0., 0., 0., 0., 0., 0., 0., 0., 0., 0., 0., 0., 0., 0., 0., 0., 0.,\n",
       "       0., 0., 0., 0., 0., 0., 0., 0., 0., 0., 0., 0., 0., 0., 0., 0., 0.,\n",
       "       0., 0., 0., 0., 0., 0., 0., 0., 0., 0., 0., 0., 0., 0., 0., 0., 0.,\n",
       "       0., 0., 0., 1., 0., 0., 0., 0., 0., 0., 0., 0., 0., 0., 0.])"
      ]
     },
     "execution_count": 50,
     "metadata": {},
     "output_type": "execute_result"
    }
   ],
   "source": [
    "targets_vec[np.where(targets_sorted==target)] = 1\n",
    "targets_vec"
   ]
  },
  {
   "cell_type": "code",
   "execution_count": null,
   "metadata": {},
   "outputs": [],
   "source": [
    "\n",
    "        \n",
    "        for idx in patchid_rows_i:\n",
    "            target = self.targets[idx]\n",
    "            if self.target_transform:\n",
    "                target = self.target_transform(target)\n",
    "            \n",
    "        targets = torch.from_numpy(targets).to(self.device)"
   ]
  },
  {
   "cell_type": "code",
   "execution_count": null,
   "metadata": {},
   "outputs": [],
   "source": [
    "\n",
    "class PatchesDataset(Dataset):\n",
    "    def __init__(\n",
    "        self,\n",
    "        occurrences,\n",
    "        providers,\n",
    "        transform=None,\n",
    "        target_transform=None,\n",
    "        id_name=\"glcID\",\n",
    "        label_name=\"speciesId\",\n",
    "        item_columns=['lat', 'lon', 'patchID'],\n",
    "        device=\"cpu\"\n",
    "    ):\n",
    "        #print(\"PatchesDataset __init__\")\n",
    "        self.occurences = Path(occurrences)\n",
    "        self.base_providers = providers\n",
    "        self.transform = transform\n",
    "        self.target_transform = target_transform\n",
    "        self.provider = MetaPatchProvider(self.base_providers, self.transform)\n",
    "        self.device = device\n",
    "\n",
    "        df = pd.read_csv(self.occurences, sep=\";\", header='infer', low_memory=False)\n",
    "\n",
    "        self.observation_ids = df[id_name].values\n",
    "        self.items = df[item_columns]\n",
    "        self.targets = df[label_name].values\n",
    "\n",
    "    def __len__(self):\n",
    "        #print(\"PatchesDataset __init__\")\n",
    "        return len(self.observation_ids)\n",
    "\n",
    "    def __getitem__(self, index):\n",
    "        #print(f\"PatchesDataset __getitem__ index={index}\")\n",
    "\n",
    "        item = self.items.iloc[index].to_dict()\n",
    "        patch = self.provider[item]\n",
    "        target = self.targets[index]\n",
    "\n",
    "        if self.target_transform:\n",
    "            target = self.target_transform(target)\n",
    "\n",
    "        return torch.from_numpy(patch).float().to(self.device), target\n",
    "    \n",
    "    def plot_patch(self, index):\n",
    "        item = self.items.iloc[index].to_dict()\n",
    "        self.provider.plot_patch(item)\n",
    "\n",
    "\n",
    "class PatchesDatasetMultiLabel(PatchesDataset):\n",
    "    def __init__(self,\n",
    "        occurrences,\n",
    "        providers,\n",
    "        transform=None,\n",
    "        target_transform=None,\n",
    "        id_name=\"glcID\",\n",
    "        label_name=\"speciesId\",\n",
    "        item_columns=['lat', 'lon', 'patchID'],\n",
    "        device=\"cpu\"\n",
    "    ):\n",
    "        #print(\"PatchesDatasetMultiLabel __init__\")\n",
    "        super().__init__(occurrences, providers, transform, target_transform, id_name, label_name, item_columns, device)\n",
    "        \n",
    "    def __getitem__(self, index):\n",
    "        #print(f\"PatchesDatasetMultiLabel __getitem__ index={index}\")\n",
    "        item = self.items.iloc[index].to_dict()\n",
    "        patchid_rows_i = self.items[self.items['patchID']==item['patchID']].index\n",
    "        self.targets_sorted = np.sort(self.targets)\n",
    "\n",
    "        patch = self.provider[item]\n",
    "        targets = np.zeros(len(self.targets))\n",
    "        for idx in patchid_rows_i:\n",
    "            target = self.targets[idx]\n",
    "            if self.target_transform:\n",
    "                target = self.target_transform(target)\n",
    "            targets[np.where(self.targets_sorted==target)] = 1\n",
    "        targets = torch.from_numpy(targets).to(self.device)\n",
    "\n",
    "        return torch.from_numpy(patch).float().to(self.device), targets"
   ]
  },
  {
   "cell_type": "code",
   "execution_count": 3,
   "metadata": {},
   "outputs": [
    {
     "name": "stdout",
     "output_type": "stream",
     "text": [
      "cuda:0\n"
     ]
    }
   ],
   "source": [
    "dev = torch.device(\"cuda:0\" if torch.cuda.is_available() else \"cpu\")\n",
    "print(dev)"
   ]
  },
  {
   "cell_type": "code",
   "execution_count": 35,
   "metadata": {},
   "outputs": [
    {
     "name": "stdout",
     "output_type": "stream",
     "text": [
      "---- RasterPatchProvider __init__\n"
     ]
    }
   ],
   "source": [
    "data_path = 'data/full_data/'\n",
    "presence_only_path = data_path+'Presence_only_occurrences/Presences_only_train.csv'\n",
    "p_hfp_s = RasterPatchProvider(data_path+'EnvironmentalRasters/HumanFootprint/summarized/HFP2009_WGS84.tif') # take the human footprint 2009 summurized raster\n",
    "#presence_only = PatchesDatasetMultiLabel(occurrences=presence_only_path, providers=(p_hfp_s), device=dev)\n"
   ]
  },
  {
   "cell_type": "code",
   "execution_count": 36,
   "metadata": {},
   "outputs": [
    {
     "data": {
      "text/html": [
       "<div>\n",
       "<style scoped>\n",
       "    .dataframe tbody tr th:only-of-type {\n",
       "        vertical-align: middle;\n",
       "    }\n",
       "\n",
       "    .dataframe tbody tr th {\n",
       "        vertical-align: top;\n",
       "    }\n",
       "\n",
       "    .dataframe thead th {\n",
       "        text-align: right;\n",
       "    }\n",
       "</style>\n",
       "<table border=\"1\" class=\"dataframe\">\n",
       "  <thead>\n",
       "    <tr style=\"text-align: right;\">\n",
       "      <th></th>\n",
       "      <th>glcID</th>\n",
       "      <th>gbifID</th>\n",
       "      <th>observer</th>\n",
       "      <th>datasetName</th>\n",
       "      <th>date</th>\n",
       "      <th>dayOfYear</th>\n",
       "      <th>year</th>\n",
       "      <th>lon</th>\n",
       "      <th>lat</th>\n",
       "      <th>x_EPSG3035</th>\n",
       "      <th>y_EPSG3035</th>\n",
       "      <th>geoUncertaintyInM</th>\n",
       "      <th>speciesId</th>\n",
       "      <th>patchID</th>\n",
       "      <th>timeSerieID</th>\n",
       "    </tr>\n",
       "  </thead>\n",
       "  <tbody>\n",
       "    <tr>\n",
       "      <th>0</th>\n",
       "      <td>2774863</td>\n",
       "      <td>1.978418e+09</td>\n",
       "      <td>Jim Kingdon</td>\n",
       "      <td>iNaturalist RG</td>\n",
       "      <td>2018-09-29</td>\n",
       "      <td>272</td>\n",
       "      <td>2018</td>\n",
       "      <td>-10.53904</td>\n",
       "      <td>51.77186</td>\n",
       "      <td>2924908.0</td>\n",
       "      <td>3383275.0</td>\n",
       "      <td>4.0</td>\n",
       "      <td>8075</td>\n",
       "      <td>3018869</td>\n",
       "      <td>1000</td>\n",
       "    </tr>\n",
       "    <tr>\n",
       "      <th>1</th>\n",
       "      <td>1043549</td>\n",
       "      <td>2.397517e+09</td>\n",
       "      <td>Julie Hall</td>\n",
       "      <td>iNaturalist RG</td>\n",
       "      <td>2019-08-22</td>\n",
       "      <td>234</td>\n",
       "      <td>2019</td>\n",
       "      <td>-10.53875</td>\n",
       "      <td>51.77226</td>\n",
       "      <td>2924939.0</td>\n",
       "      <td>3383313.0</td>\n",
       "      <td>5.0</td>\n",
       "      <td>8075</td>\n",
       "      <td>3018870</td>\n",
       "      <td>1001</td>\n",
       "    </tr>\n",
       "    <tr>\n",
       "      <th>2</th>\n",
       "      <td>3104839</td>\n",
       "      <td>3.953467e+09</td>\n",
       "      <td>NaN</td>\n",
       "      <td>Pl@ntNet automatic</td>\n",
       "      <td>2019-07-10</td>\n",
       "      <td>191</td>\n",
       "      <td>2019</td>\n",
       "      <td>-10.47597</td>\n",
       "      <td>52.11013</td>\n",
       "      <td>2939549.0</td>\n",
       "      <td>3418442.0</td>\n",
       "      <td>5.0</td>\n",
       "      <td>6477</td>\n",
       "      <td>3018871</td>\n",
       "      <td>1002</td>\n",
       "    </tr>\n",
       "    <tr>\n",
       "      <th>3</th>\n",
       "      <td>1800638</td>\n",
       "      <td>2.294436e+09</td>\n",
       "      <td>gsauce</td>\n",
       "      <td>iNaturalist RG</td>\n",
       "      <td>2019-07-02</td>\n",
       "      <td>183</td>\n",
       "      <td>2019</td>\n",
       "      <td>-10.47555</td>\n",
       "      <td>52.15074</td>\n",
       "      <td>2940838.0</td>\n",
       "      <td>3422801.0</td>\n",
       "      <td>6.0</td>\n",
       "      <td>5783</td>\n",
       "      <td>3018872</td>\n",
       "      <td>1003</td>\n",
       "    </tr>\n",
       "    <tr>\n",
       "      <th>4</th>\n",
       "      <td>4873519</td>\n",
       "      <td>2.265857e+09</td>\n",
       "      <td>guillaumevigneault</td>\n",
       "      <td>iNaturalist RG</td>\n",
       "      <td>2019-06-07</td>\n",
       "      <td>158</td>\n",
       "      <td>2019</td>\n",
       "      <td>-10.47497</td>\n",
       "      <td>52.10978</td>\n",
       "      <td>2939604.0</td>\n",
       "      <td>3418385.0</td>\n",
       "      <td>30.0</td>\n",
       "      <td>9011</td>\n",
       "      <td>3018873</td>\n",
       "      <td>1004</td>\n",
       "    </tr>\n",
       "    <tr>\n",
       "      <th>...</th>\n",
       "      <td>...</td>\n",
       "      <td>...</td>\n",
       "      <td>...</td>\n",
       "      <td>...</td>\n",
       "      <td>...</td>\n",
       "      <td>...</td>\n",
       "      <td>...</td>\n",
       "      <td>...</td>\n",
       "      <td>...</td>\n",
       "      <td>...</td>\n",
       "      <td>...</td>\n",
       "      <td>...</td>\n",
       "      <td>...</td>\n",
       "      <td>...</td>\n",
       "      <td>...</td>\n",
       "    </tr>\n",
       "    <tr>\n",
       "      <th>4908314</th>\n",
       "      <td>2889852</td>\n",
       "      <td>3.892391e+09</td>\n",
       "      <td>Alenka Mihoric</td>\n",
       "      <td>iNaturalist RG</td>\n",
       "      <td>2018-05-09</td>\n",
       "      <td>129</td>\n",
       "      <td>2018</td>\n",
       "      <td>34.54567</td>\n",
       "      <td>35.64241</td>\n",
       "      <td>6523828.0</td>\n",
       "      <td>1753690.0</td>\n",
       "      <td>21.0</td>\n",
       "      <td>148</td>\n",
       "      <td>7000525</td>\n",
       "      <td>3980319</td>\n",
       "    </tr>\n",
       "    <tr>\n",
       "      <th>4908315</th>\n",
       "      <td>1261849</td>\n",
       "      <td>3.355773e+09</td>\n",
       "      <td>Alenka Mihoric</td>\n",
       "      <td>iNaturalist RG</td>\n",
       "      <td>2018-05-09</td>\n",
       "      <td>129</td>\n",
       "      <td>2018</td>\n",
       "      <td>34.54568</td>\n",
       "      <td>35.64243</td>\n",
       "      <td>6523828.0</td>\n",
       "      <td>1753692.0</td>\n",
       "      <td>38.0</td>\n",
       "      <td>625</td>\n",
       "      <td>7000526</td>\n",
       "      <td>3980320</td>\n",
       "    </tr>\n",
       "    <tr>\n",
       "      <th>4908316</th>\n",
       "      <td>844504</td>\n",
       "      <td>2.841228e+09</td>\n",
       "      <td>NaN</td>\n",
       "      <td>Observation.org</td>\n",
       "      <td>2019-01-24</td>\n",
       "      <td>24</td>\n",
       "      <td>2019</td>\n",
       "      <td>34.55360</td>\n",
       "      <td>35.64514</td>\n",
       "      <td>6524428.0</td>\n",
       "      <td>1754209.0</td>\n",
       "      <td>10.0</td>\n",
       "      <td>1088</td>\n",
       "      <td>7000527</td>\n",
       "      <td>3980321</td>\n",
       "    </tr>\n",
       "    <tr>\n",
       "      <th>4908317</th>\n",
       "      <td>346527</td>\n",
       "      <td>2.842044e+09</td>\n",
       "      <td>NaN</td>\n",
       "      <td>Observation.org</td>\n",
       "      <td>2019-01-24</td>\n",
       "      <td>24</td>\n",
       "      <td>2019</td>\n",
       "      <td>34.55388</td>\n",
       "      <td>35.64499</td>\n",
       "      <td>6524457.0</td>\n",
       "      <td>1754201.0</td>\n",
       "      <td>10.0</td>\n",
       "      <td>982</td>\n",
       "      <td>7000528</td>\n",
       "      <td>3980322</td>\n",
       "    </tr>\n",
       "    <tr>\n",
       "      <th>4908318</th>\n",
       "      <td>713628</td>\n",
       "      <td>3.355790e+09</td>\n",
       "      <td>Alenka Mihoric</td>\n",
       "      <td>iNaturalist RG</td>\n",
       "      <td>2018-05-09</td>\n",
       "      <td>129</td>\n",
       "      <td>2018</td>\n",
       "      <td>34.55792</td>\n",
       "      <td>35.64384</td>\n",
       "      <td>6524841.0</td>\n",
       "      <td>1754195.0</td>\n",
       "      <td>8.0</td>\n",
       "      <td>9395</td>\n",
       "      <td>7000529</td>\n",
       "      <td>3980323</td>\n",
       "    </tr>\n",
       "  </tbody>\n",
       "</table>\n",
       "<p>4908319 rows × 15 columns</p>\n",
       "</div>"
      ],
      "text/plain": [
       "           glcID        gbifID            observer         datasetName  \\\n",
       "0        2774863  1.978418e+09         Jim Kingdon      iNaturalist RG   \n",
       "1        1043549  2.397517e+09          Julie Hall      iNaturalist RG   \n",
       "2        3104839  3.953467e+09                 NaN  Pl@ntNet automatic   \n",
       "3        1800638  2.294436e+09              gsauce      iNaturalist RG   \n",
       "4        4873519  2.265857e+09  guillaumevigneault      iNaturalist RG   \n",
       "...          ...           ...                 ...                 ...   \n",
       "4908314  2889852  3.892391e+09      Alenka Mihoric      iNaturalist RG   \n",
       "4908315  1261849  3.355773e+09      Alenka Mihoric      iNaturalist RG   \n",
       "4908316   844504  2.841228e+09                 NaN     Observation.org   \n",
       "4908317   346527  2.842044e+09                 NaN     Observation.org   \n",
       "4908318   713628  3.355790e+09      Alenka Mihoric      iNaturalist RG   \n",
       "\n",
       "               date  dayOfYear  year       lon       lat  x_EPSG3035  \\\n",
       "0        2018-09-29        272  2018 -10.53904  51.77186   2924908.0   \n",
       "1        2019-08-22        234  2019 -10.53875  51.77226   2924939.0   \n",
       "2        2019-07-10        191  2019 -10.47597  52.11013   2939549.0   \n",
       "3        2019-07-02        183  2019 -10.47555  52.15074   2940838.0   \n",
       "4        2019-06-07        158  2019 -10.47497  52.10978   2939604.0   \n",
       "...             ...        ...   ...       ...       ...         ...   \n",
       "4908314  2018-05-09        129  2018  34.54567  35.64241   6523828.0   \n",
       "4908315  2018-05-09        129  2018  34.54568  35.64243   6523828.0   \n",
       "4908316  2019-01-24         24  2019  34.55360  35.64514   6524428.0   \n",
       "4908317  2019-01-24         24  2019  34.55388  35.64499   6524457.0   \n",
       "4908318  2018-05-09        129  2018  34.55792  35.64384   6524841.0   \n",
       "\n",
       "         y_EPSG3035  geoUncertaintyInM  speciesId  patchID  timeSerieID  \n",
       "0         3383275.0                4.0       8075  3018869         1000  \n",
       "1         3383313.0                5.0       8075  3018870         1001  \n",
       "2         3418442.0                5.0       6477  3018871         1002  \n",
       "3         3422801.0                6.0       5783  3018872         1003  \n",
       "4         3418385.0               30.0       9011  3018873         1004  \n",
       "...             ...                ...        ...      ...          ...  \n",
       "4908314   1753690.0               21.0        148  7000525      3980319  \n",
       "4908315   1753692.0               38.0        625  7000526      3980320  \n",
       "4908316   1754209.0               10.0       1088  7000527      3980321  \n",
       "4908317   1754201.0               10.0        982  7000528      3980322  \n",
       "4908318   1754195.0                8.0       9395  7000529      3980323  \n",
       "\n",
       "[4908319 rows x 15 columns]"
      ]
     },
     "execution_count": 36,
     "metadata": {},
     "output_type": "execute_result"
    }
   ],
   "source": [
    "#PatchesDatasetMultiLabel __init__\n",
    "occurrences = presence_only_path\n",
    "occurrences = Path(occurrences)\n",
    "providers = (p_hfp_s)\n",
    "device = dev\n",
    "transform=None\n",
    "target_transform=None,\n",
    "id_name=\"glcID\",\n",
    "label_name=\"speciesId\"\n",
    "item_columns=['lat', 'lon', 'patchID']\n",
    "#PatchesDataset __init__\n",
    "#self.provider = MetaPatchProvider(self.base_providers, self.transform)\n",
    "df = pd.read_csv(occurrences, sep=\";\", header='infer', low_memory=False)\n",
    "df"
   ]
  },
  {
   "cell_type": "code",
   "execution_count": 37,
   "metadata": {},
   "outputs": [],
   "source": [
    "observation_ids = df.loc[:,id_name].values\n",
    "items = df[item_columns]\n",
    "targets = df[label_name].values"
   ]
  },
  {
   "cell_type": "code",
   "execution_count": 42,
   "metadata": {},
   "outputs": [
    {
     "name": "stdout",
     "output_type": "stream",
     "text": [
      "---- RasterPatchProvider __getitem__ 0\n",
      "> \u001b[0;32m/home/nina/Documents/GeoLifeCLEF/GLC23PatchesProviders.py\u001b[0m(158)\u001b[0;36m__getitem__\u001b[0;34m()\u001b[0m\n",
      "\u001b[0;32m    156 \u001b[0;31m        \u001b[0mself\u001b[0m\u001b[0;34m.\u001b[0m\u001b[0mepsg\u001b[0m \u001b[0;34m=\u001b[0m \u001b[0mself\u001b[0m\u001b[0;34m.\u001b[0m\u001b[0mcrs\u001b[0m\u001b[0;34m.\u001b[0m\u001b[0mto_epsg\u001b[0m\u001b[0;34m(\u001b[0m\u001b[0;34m)\u001b[0m\u001b[0;34m\u001b[0m\u001b[0;34m\u001b[0m\u001b[0m\n",
      "\u001b[0m\u001b[0;32m    157 \u001b[0;31m        \u001b[0;32mif\u001b[0m \u001b[0mself\u001b[0m\u001b[0;34m.\u001b[0m\u001b[0mepsg\u001b[0m \u001b[0;34m!=\u001b[0m \u001b[0;36m4326\u001b[0m\u001b[0;34m:\u001b[0m\u001b[0;34m\u001b[0m\u001b[0;34m\u001b[0m\u001b[0m\n",
      "\u001b[0m\u001b[0;32m--> 158 \u001b[0;31m            \u001b[0;31m# create a pyproj transformer object to convert lat, lon to EPSG:32738\u001b[0m\u001b[0;34m\u001b[0m\u001b[0;34m\u001b[0m\u001b[0m\n",
      "\u001b[0m\u001b[0;32m    159 \u001b[0;31m            \u001b[0mself\u001b[0m\u001b[0;34m.\u001b[0m\u001b[0mtransformer\u001b[0m \u001b[0;34m=\u001b[0m \u001b[0mpyproj\u001b[0m\u001b[0;34m.\u001b[0m\u001b[0mTransformer\u001b[0m\u001b[0;34m.\u001b[0m\u001b[0mfrom_crs\u001b[0m\u001b[0;34m(\u001b[0m\u001b[0;34m\"epsg:4326\"\u001b[0m\u001b[0;34m,\u001b[0m \u001b[0mself\u001b[0m\u001b[0;34m.\u001b[0m\u001b[0mepsg\u001b[0m\u001b[0;34m,\u001b[0m \u001b[0malways_xy\u001b[0m\u001b[0;34m=\u001b[0m\u001b[0;32mTrue\u001b[0m\u001b[0;34m)\u001b[0m\u001b[0;34m\u001b[0m\u001b[0;34m\u001b[0m\u001b[0m\n",
      "\u001b[0m\u001b[0;32m    160 \u001b[0;31m\u001b[0;34m\u001b[0m\u001b[0m\n",
      "\u001b[0m\n"
     ]
    }
   ],
   "source": [
    "#self.nb_layers = sum([len(provider) for provider in self.providers])\n",
    "provider = providers[0]\n",
    "provider"
   ]
  },
  {
   "cell_type": "code",
   "execution_count": 39,
   "metadata": {},
   "outputs": [
    {
     "name": "stdout",
     "output_type": "stream",
     "text": [
      "---- RasterPatchProvider __getitem__ 0\n",
      "> \u001b[0;32m/home/nina/Documents/GeoLifeCLEF/GLC23PatchesProviders.py\u001b[0m(158)\u001b[0;36m__getitem__\u001b[0;34m()\u001b[0m\n",
      "\u001b[0;32m    156 \u001b[0;31m        \u001b[0mself\u001b[0m\u001b[0;34m.\u001b[0m\u001b[0mepsg\u001b[0m \u001b[0;34m=\u001b[0m \u001b[0mself\u001b[0m\u001b[0;34m.\u001b[0m\u001b[0mcrs\u001b[0m\u001b[0;34m.\u001b[0m\u001b[0mto_epsg\u001b[0m\u001b[0;34m(\u001b[0m\u001b[0;34m)\u001b[0m\u001b[0;34m\u001b[0m\u001b[0;34m\u001b[0m\u001b[0m\n",
      "\u001b[0m\u001b[0;32m    157 \u001b[0;31m        \u001b[0;32mif\u001b[0m \u001b[0mself\u001b[0m\u001b[0;34m.\u001b[0m\u001b[0mepsg\u001b[0m \u001b[0;34m!=\u001b[0m \u001b[0;36m4326\u001b[0m\u001b[0;34m:\u001b[0m\u001b[0;34m\u001b[0m\u001b[0;34m\u001b[0m\u001b[0m\n",
      "\u001b[0m\u001b[0;32m--> 158 \u001b[0;31m            \u001b[0;31m# create a pyproj transformer object to convert lat, lon to EPSG:32738\u001b[0m\u001b[0;34m\u001b[0m\u001b[0;34m\u001b[0m\u001b[0m\n",
      "\u001b[0m\u001b[0;32m    159 \u001b[0;31m            \u001b[0mself\u001b[0m\u001b[0;34m.\u001b[0m\u001b[0mtransformer\u001b[0m \u001b[0;34m=\u001b[0m \u001b[0mpyproj\u001b[0m\u001b[0;34m.\u001b[0m\u001b[0mTransformer\u001b[0m\u001b[0;34m.\u001b[0m\u001b[0mfrom_crs\u001b[0m\u001b[0;34m(\u001b[0m\u001b[0;34m\"epsg:4326\"\u001b[0m\u001b[0;34m,\u001b[0m \u001b[0mself\u001b[0m\u001b[0;34m.\u001b[0m\u001b[0mepsg\u001b[0m\u001b[0;34m,\u001b[0m \u001b[0malways_xy\u001b[0m\u001b[0;34m=\u001b[0m\u001b[0;32mTrue\u001b[0m\u001b[0;34m)\u001b[0m\u001b[0;34m\u001b[0m\u001b[0;34m\u001b[0m\u001b[0m\n",
      "\u001b[0m\u001b[0;32m    160 \u001b[0;31m\u001b[0;34m\u001b[0m\u001b[0m\n",
      "\u001b[0m\n",
      "--KeyboardInterrupt--\n",
      "\n",
      "KeyboardInterrupt: Interrupted by user\n"
     ]
    },
    {
     "ename": "TypeError",
     "evalue": "'int' object is not subscriptable",
     "output_type": "error",
     "traceback": [
      "\u001b[0;31m---------------------------------------------------------------------------\u001b[0m",
      "\u001b[0;31mTypeError\u001b[0m                                 Traceback (most recent call last)",
      "Cell \u001b[0;32mIn[39], line 1\u001b[0m\n\u001b[0;32m----> 1\u001b[0m providers[\u001b[39m0\u001b[39;49m]\n",
      "File \u001b[0;32m~/Documents/GeoLifeCLEF/GLC23PatchesProviders.py:158\u001b[0m, in \u001b[0;36mRasterPatchProvider.__getitem__\u001b[0;34m(self, item)\u001b[0m\n\u001b[1;32m    153\u001b[0m \u001b[39m\"\"\"\u001b[39;00m\n\u001b[1;32m    154\u001b[0m \u001b[39m:param item: dictionary that needs to contains at least the keys latitude and longitude ({'lat': lat, 'lon':lon})\u001b[39;00m\n\u001b[1;32m    155\u001b[0m \u001b[39m:return: return the environmental tensor or vector (size>1 or size=1)\u001b[39;00m\n\u001b[1;32m    156\u001b[0m \u001b[39m\"\"\"\u001b[39;00m\n\u001b[1;32m    157\u001b[0m \u001b[39m# convert the lat, lon coordinates to EPSG:32738\u001b[39;00m\n\u001b[0;32m--> 158\u001b[0m \u001b[39mif\u001b[39;00m \u001b[39mself\u001b[39m\u001b[39m.\u001b[39mtransformer:\n\u001b[1;32m    159\u001b[0m     lon, lat \u001b[39m=\u001b[39m \u001b[39mself\u001b[39m\u001b[39m.\u001b[39mtransformer\u001b[39m.\u001b[39mtransform(item[\u001b[39m'\u001b[39m\u001b[39mlon\u001b[39m\u001b[39m'\u001b[39m], item[\u001b[39m'\u001b[39m\u001b[39mlat\u001b[39m\u001b[39m'\u001b[39m])\n\u001b[1;32m    160\u001b[0m \u001b[39melse\u001b[39;00m:\n",
      "\u001b[0;31mTypeError\u001b[0m: 'int' object is not subscriptable"
     ]
    }
   ],
   "source": [
    "providers[0]"
   ]
  },
  {
   "cell_type": "code",
   "execution_count": null,
   "metadata": {},
   "outputs": [],
   "source": [
    "#MetaPatchProvider __init__\n",
    "#nb_layers = sum([len(provider) for provider in providers])\n",
    "#---- RasterPatchProvider __getitem__ 0\n",
    "\n",
    "\n",
    "\n"
   ]
  },
  {
   "cell_type": "code",
   "execution_count": null,
   "metadata": {},
   "outputs": [],
   "source": [
    "def __getitem__(self, item):\n",
    "        print(f\"RasterPatchProvider __getitem__ item={item}\")\n",
    "        import pdb; pdb.set_trace()\n",
    "\n",
    "        \"\"\"\n",
    "        :param item: dictionary that needs to contains at least the keys latitude and longitude ({'lat': lat, 'lon':lon})\n",
    "        :return: return the environmental tensor or vector (size>1 or size=1)\n",
    "        \"\"\"\n",
    "        # convert the lat, lon coordinates to EPSG:32738\n",
    "        if self.transformer:\n",
    "            lon, lat = self.transformer.transform(item['lon'], item['lat'])\n",
    "        else:\n",
    "            lon, lat = (item['lon'], item['lat'])\n",
    "\n",
    "        # add noise as data augmentation\n",
    "        if self.spatial_noise > 0:\n",
    "            lon = lon + ((random()*2*self.spatial_noise)-self.spatial_noise)\n",
    "            lat = lat + ((random()*2*self.spatial_noise)-self.spatial_noise)\n",
    "\n",
    "        # calculate the x, y coordinate of the point of interest\n",
    "        x = int(self.n_rows - (lat - self.y_min) / self.y_resolution)\n",
    "        y = int((lon - self.x_min) / self.x_resolution)\n",
    "\n",
    "        # read the data of the patch from all layers\n",
    "        if self.patch_size == 1:\n",
    "            patch_data = [self.data[i, x, y] for i in range(self.nb_layers)]\n",
    "        else:\n",
    "            patch_data = [self.data[i, x - (self.patch_size // 2): x + (self.patch_size // 2), y - (self.patch_size // 2): y + (self.patch_size // 2)] for i in range(self.nb_layers)]\n",
    "        \n",
    "        tensor = np.concatenate([patch[np.newaxis] for patch in patch_data])\n",
    "        if self.fill_zero_if_error and tensor.shape != (self.nb_layers, self.patch_size, self.patch_size):\n",
    "            tensor = np.zeros((self.nb_layers, self.patch_size, self.patch_size))\n",
    "        return tensor\n",
    "    \n",
    "    def __str__(self):\n",
    "        print(\"RasterPatchProvider __str__\")\n",
    "\n",
    "        result = '-' * 50 + '\\n'\n",
    "        result += 'n_layers: ' + str(self.nb_layers) + '\\n'\n",
    "        result += 'x_min: ' + str(self.x_min) + '\\n'\n",
    "        result += 'y_min: ' + str(self.y_min) + '\\n'\n",
    "        result += 'x_resolution: ' + str(self.x_resolution) + '\\n'\n",
    "        result += 'y_resolution: ' + str(self.y_resolution) + '\\n'\n",
    "        result += 'n_rows: ' + str(self.n_rows) + '\\n'\n",
    "        result += 'n_cols: ' + str(self.n_cols) + '\\n'\n",
    "        result += '-' * 50\n",
    "        return result"
   ]
  },
  {
   "cell_type": "code",
   "execution_count": 7,
   "metadata": {},
   "outputs": [
    {
     "data": {
      "text/plain": [
       "--------------------------------------------------\n",
       "n_layers: 1\n",
       "x_min: -32.27179464817084\n",
       "y_min: 26.633585651839944\n",
       "x_resolution: 0.009892734568157884\n",
       "y_resolution: 0.009892734568157884\n",
       "n_rows: 4605\n",
       "n_cols: 6860\n",
       "--------------------------------------------------"
      ]
     },
     "execution_count": 7,
     "metadata": {},
     "output_type": "execute_result"
    }
   ],
   "source": [
    "        self.bands_names = list(itertools.chain.from_iterable([provider.bands_names for provider in self.providers]))\n",
    "        self.transform = transform"
   ]
  },
  {
   "cell_type": "code",
   "execution_count": 9,
   "metadata": {},
   "outputs": [
    {
     "data": {
      "text/plain": [
       "1"
      ]
     },
     "execution_count": 9,
     "metadata": {},
     "output_type": "execute_result"
    }
   ],
   "source": [
    "len(providers)"
   ]
  },
  {
   "cell_type": "code",
   "execution_count": null,
   "metadata": {},
   "outputs": [],
   "source": []
  },
  {
   "cell_type": "code",
   "execution_count": 13,
   "metadata": {},
   "outputs": [],
   "source": [
    "raster_path = data_path+'EnvironmentalRasters/HumanFootprint/summarized/HFP2009_WGS84.tif'\n",
    "#RasterPatchProvider\n",
    "# init ->  PatchProvider      \n",
    "patch_size = 128\n",
    "normalize = True\n",
    "nb_layers = 0\n",
    "# init -> RasterPatchProvider\n",
    "spatial_noise=0\n",
    "fill_zero_if_error=False\n",
    "transformer = None\n",
    "name = os.path.basename(os.path.splitext(raster_path)[0])\n",
    "normalize=True"
   ]
  },
  {
   "cell_type": "code",
   "execution_count": 16,
   "metadata": {},
   "outputs": [],
   "source": [
    "with rasterio.open(raster_path) as src:\n",
    "    meta = src.meta\n",
    "    meta.update(count=src.count) # update the count of the meta to match the number of layers\n",
    "    data = src.read()"
   ]
  },
  {
   "cell_type": "code",
   "execution_count": null,
   "metadata": {},
   "outputs": [],
   "source": [
    "    def __init__(self, raster_path, size=128, spatial_noise=0, normalize=True, fill_zero_if_error=False, nan_value=0):\n",
    "\n",
    "\n",
    "        # open the tif file with rasterio\n",
    "        with rasterio.open(raster_path) as src:\n",
    "            # read the metadata of the file\n",
    "            meta = src.meta\n",
    "            meta.update(count=src.count) # update the count of the meta to match the number of layers\n",
    "\n",
    "            # read the data from the raster\n",
    "            self.data = src.read()\n",
    "\n",
    "            # get the NoData value from the raster\n",
    "            self.nodata_value = src.nodatavals\n",
    "\n",
    "            # iterate through all the layers\n",
    "            for i in range(src.count):\n",
    "                # replace the NoData values with np.nan\n",
    "                self.data = self.data.astype(np.float)\n",
    "                self.data[i] = np.where(self.data[i] == self.nodata_value[i], np.nan, self.data[i])\n",
    "                if self.normalize:\n",
    "                    self.data[i] = (self.data[i] - np.nanmean(self.data[i]))/np.nanstd(self.data[i])\n",
    "                self.data[i] = np.where(np.isnan(self.data[i]), nan_value, self.data[i])\n",
    "            \n",
    "            self.nb_layers = src.count\n",
    "\n",
    "            self.x_min = src.bounds.left\n",
    "            self.y_min = src.bounds.bottom\n",
    "            self.x_resolution = src.res[0]\n",
    "            self.y_resolution = src.res[1]\n",
    "            self.n_rows = src.height\n",
    "            self.n_cols = src.width\n",
    "            self.crs = src.crs\n",
    "        if self.nb_layers > 1:\n",
    "            self.bands_names = [self.name+'_'+str(i+1) for i in range(self.nb_layers)]\n",
    "        else:\n",
    "            self.bands_names = [self.name]\n",
    "        \n",
    "        self.epsg = self.crs.to_epsg()\n",
    "        if self.epsg != 4326:\n",
    "            # create a pyproj transformer object to convert lat, lon to EPSG:32738\n",
    "            self.transformer = pyproj.Transformer.from_crs(\"epsg:4326\", self.epsg, always_xy=True)\n"
   ]
  },
  {
   "cell_type": "code",
   "execution_count": null,
   "metadata": {},
   "outputs": [],
   "source": [
    "#provider = MetaPatchProvider(base_providers, transform)\n",
    "nb_layers = sum([len(provider) for provider in providers])\n"
   ]
  },
  {
   "cell_type": "code",
   "execution_count": null,
   "metadata": {},
   "outputs": [],
   "source": [
    "self.providers = providers\n",
    "        self.\n",
    "        self.bands_names = list(itertools.chain.from_iterable([provider.bands_names for provider in self.providers]))\n",
    "        self.transform = transform"
   ]
  },
  {
   "cell_type": "code",
   "execution_count": null,
   "metadata": {},
   "outputs": [],
   "source": [
    "nb_layers = sum([len(provider) for provider in providers])"
   ]
  },
  {
   "cell_type": "code",
   "execution_count": null,
   "metadata": {},
   "outputs": [],
   "source": [
    "\n",
    "        self.provider = MetaPatchProvider(self.base_providers, self.transform)\n",
    "        self.device = device\n",
    "\n",
    "        df = pd.read_csv(self.occurences, sep=\";\", header='infer', low_memory=False)\n",
    "\n",
    "        self.observation_ids = df[id_name].values\n",
    "        self.items = df[item_columns]\n",
    "        self.targets = df[label_name].values"
   ]
  },
  {
   "cell_type": "code",
   "execution_count": null,
   "metadata": {},
   "outputs": [],
   "source": [
    "class PatchesDatasetMultiLabel(PatchesDataset):\n",
    "    def __init__(self,\n",
    "        occurrences,\n",
    "        providers,\n",
    "        transform=None,\n",
    "        target_transform=None,\n",
    "        id_name=\"glcID\",\n",
    "        label_name=\"speciesId\",\n",
    "        item_columns=['lat', 'lon', 'patchID'],\n",
    "        device=\"cpu\"\n",
    "    ):\n",
    "        super().__init__(occurrences, providers, transform, target_transform, id_name, label_name, item_columns, device)\n",
    "        \n",
    "    def __getitem__(self, index):\n",
    "        print(f\" ---> PatchesDatasetMultiLabel __get__item {index}\")\n",
    "        import pdb; pdb.set_trace()\n",
    "        item = self.items.iloc[index].to_dict()\n",
    "        patchid_rows_i = self.items[self.items['patchID']==item['patchID']].index\n",
    "        self.targets_sorted = np.sort(self.targets)\n",
    "\n",
    "        print(f\"item {item}\")\n",
    "        patch = self.provider[item]\n",
    "\n",
    "        targets = np.zeros(len(self.targets))\n",
    "        for idx in patchid_rows_i:\n",
    "            target = self.targets[idx]\n",
    "            if self.target_transform:\n",
    "                target = self.target_transform(target)\n",
    "            targets[np.where(self.targets_sorted==target)] = 1\n",
    "        targets = torch.from_numpy(targets).to(self.device)\n",
    "\n",
    "        return torch.from_numpy(patch).float().to(self.device), targets"
   ]
  },
  {
   "cell_type": "code",
   "execution_count": 38,
   "metadata": {},
   "outputs": [],
   "source": [
    "from GLC23PatchesProviders import MultipleRasterPatchProvider, RasterPatchProvider, JpegPatchProvider\n",
    "from GLC23Datasets import PatchesDataset, PatchesDatasetMultiLabel"
   ]
  },
  {
   "cell_type": "code",
   "execution_count": 15,
   "metadata": {},
   "outputs": [],
   "source": [
    "import torch"
   ]
  },
  {
   "cell_type": "code",
   "execution_count": 16,
   "metadata": {},
   "outputs": [],
   "source": [
    "device = \"cuda:0\" if torch.cuda.is_available() else \"cpu\""
   ]
  },
  {
   "cell_type": "code",
   "execution_count": 17,
   "metadata": {},
   "outputs": [
    {
     "data": {
      "text/plain": [
       "'cuda:0'"
      ]
     },
     "execution_count": 17,
     "metadata": {},
     "output_type": "execute_result"
    }
   ],
   "source": [
    "device"
   ]
  },
  {
   "cell_type": "code",
   "execution_count": 36,
   "metadata": {},
   "outputs": [],
   "source": [
    "data_path = 'data/full_data/'\n",
    "presence_only_path = data_path+'Presence_only_occurrences/Presences_only_train.csv'\n",
    "\n",
    "# configure providers\n",
    "# p_hfp_d = MultipleRasterPatchProvider(data_path+'EnvironmentalRasters/HumanFootprint/detailed/') # take all rasters from human footprint detailed (2 rasters here)\n",
    "# p_bioclim = MultipleRasterPatchProvider(data_path+'EnvironmentalRasters/Climate/BioClimatic_Average_1981-2010/', select=['bio1', 'bio2']) # take only bio1 and bio2 from bioclimatic rasters (2 rasters from the 3 in the folder)\n",
    "# p_hfp_s = RasterPatchProvider(data_path+'EnvironmentalRasters/HumanFootprint/summarized/HFP2009_WGS84.tif') # take the human footprint 2009 summurized raster (a single raster)\n",
    "p_rgb = JpegPatchProvider(data_path+'SatelliteImages/') # take all sentinel imagery layers (r,g,b,nir = 4 layers)"
   ]
  },
  {
   "cell_type": "code",
   "execution_count": 37,
   "metadata": {},
   "outputs": [
    {
     "ename": "Exception",
     "evalue": "An error has occured when trying to load a patch patchID.Check that the input argument is a dict containing the \"patchID\" key.",
     "output_type": "error",
     "traceback": [
      "\u001b[0;31m---------------------------------------------------------------------------\u001b[0m",
      "\u001b[0;31mTypeError\u001b[0m                                 Traceback (most recent call last)",
      "File \u001b[0;32m~/Documents/GeoLifeCLEF/GLC23PatchesProviders.py:275\u001b[0m, in \u001b[0;36mJpegPatchProvider.__getitem__\u001b[0;34m(self, item)\u001b[0m\n\u001b[1;32m    274\u001b[0m \u001b[39mtry\u001b[39;00m:\n\u001b[0;32m--> 275\u001b[0m     id_ \u001b[39m=\u001b[39m \u001b[39mstr\u001b[39m(\u001b[39mint\u001b[39m(item[\u001b[39m'\u001b[39;49m\u001b[39mpatchID\u001b[39;49m\u001b[39m'\u001b[39;49m]))\n\u001b[1;32m    276\u001b[0m \u001b[39mexcept\u001b[39;00m \u001b[39mKeyError\u001b[39;00m \u001b[39mas\u001b[39;00m e:\n",
      "\u001b[0;31mTypeError\u001b[0m: 'int' object is not subscriptable",
      "\nDuring handling of the above exception, another exception occurred:\n",
      "\u001b[0;31mException\u001b[0m                                 Traceback (most recent call last)",
      "Cell \u001b[0;32mIn[37], line 2\u001b[0m\n\u001b[1;32m      1\u001b[0m \u001b[39m# create dataset\u001b[39;00m\n\u001b[0;32m----> 2\u001b[0m multi_dataset \u001b[39m=\u001b[39m PatchesDatasetMultiLabel(\n\u001b[1;32m      3\u001b[0m     occurrences\u001b[39m=\u001b[39;49mpresence_only_path,\n\u001b[1;32m      4\u001b[0m     providers\u001b[39m=\u001b[39;49m(p_rgb), device\u001b[39m=\u001b[39;49mdevice)\n",
      "File \u001b[0;32m~/Documents/GeoLifeCLEF/GLC23Datasets.py:73\u001b[0m, in \u001b[0;36mPatchesDatasetMultiLabel.__init__\u001b[0;34m(self, occurrences, providers, transform, target_transform, id_name, label_name, item_columns, device)\u001b[0m\n\u001b[1;32m     63\u001b[0m \u001b[39mdef\u001b[39;00m \u001b[39m__init__\u001b[39m(\u001b[39mself\u001b[39m,\n\u001b[1;32m     64\u001b[0m     occurrences,\n\u001b[1;32m     65\u001b[0m     providers,\n\u001b[0;32m   (...)\u001b[0m\n\u001b[1;32m     71\u001b[0m     device\u001b[39m=\u001b[39m\u001b[39m\"\u001b[39m\u001b[39mcpu\u001b[39m\u001b[39m\"\u001b[39m\n\u001b[1;32m     72\u001b[0m ):\n\u001b[0;32m---> 73\u001b[0m     \u001b[39msuper\u001b[39;49m()\u001b[39m.\u001b[39;49m\u001b[39m__init__\u001b[39;49m(occurrences, providers, transform, target_transform, id_name, label_name, item_columns, device)\n",
      "File \u001b[0;32m~/Documents/GeoLifeCLEF/GLC23Datasets.py:33\u001b[0m, in \u001b[0;36mPatchesDataset.__init__\u001b[0;34m(self, occurrences, providers, transform, target_transform, id_name, label_name, item_columns, device)\u001b[0m\n\u001b[1;32m     31\u001b[0m \u001b[39mself\u001b[39m\u001b[39m.\u001b[39mtransform \u001b[39m=\u001b[39m transform\n\u001b[1;32m     32\u001b[0m \u001b[39mself\u001b[39m\u001b[39m.\u001b[39mtarget_transform \u001b[39m=\u001b[39m target_transform\n\u001b[0;32m---> 33\u001b[0m \u001b[39mself\u001b[39m\u001b[39m.\u001b[39mprovider \u001b[39m=\u001b[39m MetaPatchProvider(\u001b[39mself\u001b[39;49m\u001b[39m.\u001b[39;49mbase_providers, \u001b[39mself\u001b[39;49m\u001b[39m.\u001b[39;49mtransform)\n\u001b[1;32m     34\u001b[0m \u001b[39mself\u001b[39m\u001b[39m.\u001b[39mdevice \u001b[39m=\u001b[39m device\n\u001b[1;32m     36\u001b[0m df \u001b[39m=\u001b[39m pd\u001b[39m.\u001b[39mread_csv(\u001b[39mself\u001b[39m\u001b[39m.\u001b[39moccurences, sep\u001b[39m=\u001b[39m\u001b[39m\"\u001b[39m\u001b[39m;\u001b[39m\u001b[39m\"\u001b[39m, header\u001b[39m=\u001b[39m\u001b[39m'\u001b[39m\u001b[39minfer\u001b[39m\u001b[39m'\u001b[39m, low_memory\u001b[39m=\u001b[39m\u001b[39mFalse\u001b[39;00m)\n",
      "File \u001b[0;32m~/Documents/GeoLifeCLEF/data/GLC23PatchesProviders.py:82\u001b[0m, in \u001b[0;36mMetaPatchProvider.__init__\u001b[0;34m(self, providers, transform)\u001b[0m\n\u001b[1;32m     80\u001b[0m \u001b[39mdef\u001b[39;00m \u001b[39m__init__\u001b[39m(\u001b[39mself\u001b[39m, providers, transform\u001b[39m=\u001b[39m\u001b[39mNone\u001b[39;00m):\n\u001b[1;32m     81\u001b[0m     \u001b[39mself\u001b[39m\u001b[39m.\u001b[39mproviders \u001b[39m=\u001b[39m providers\n\u001b[0;32m---> 82\u001b[0m     \u001b[39mself\u001b[39m\u001b[39m.\u001b[39mnb_layers \u001b[39m=\u001b[39m \u001b[39msum\u001b[39m([\u001b[39mlen\u001b[39m(provider) \u001b[39mfor\u001b[39;00m provider \u001b[39min\u001b[39;00m \u001b[39mself\u001b[39m\u001b[39m.\u001b[39mproviders])\n\u001b[1;32m     83\u001b[0m     \u001b[39mself\u001b[39m\u001b[39m.\u001b[39mbands_names \u001b[39m=\u001b[39m \u001b[39mlist\u001b[39m(itertools\u001b[39m.\u001b[39mchain\u001b[39m.\u001b[39mfrom_iterable([provider\u001b[39m.\u001b[39mbands_names \u001b[39mfor\u001b[39;00m provider \u001b[39min\u001b[39;00m \u001b[39mself\u001b[39m\u001b[39m.\u001b[39mproviders]))\n\u001b[1;32m     84\u001b[0m     \u001b[39mself\u001b[39m\u001b[39m.\u001b[39mtransform \u001b[39m=\u001b[39m transform\n",
      "File \u001b[0;32m~/Documents/GeoLifeCLEF/data/GLC23PatchesProviders.py:82\u001b[0m, in \u001b[0;36m<listcomp>\u001b[0;34m(.0)\u001b[0m\n\u001b[1;32m     80\u001b[0m \u001b[39mdef\u001b[39;00m \u001b[39m__init__\u001b[39m(\u001b[39mself\u001b[39m, providers, transform\u001b[39m=\u001b[39m\u001b[39mNone\u001b[39;00m):\n\u001b[1;32m     81\u001b[0m     \u001b[39mself\u001b[39m\u001b[39m.\u001b[39mproviders \u001b[39m=\u001b[39m providers\n\u001b[0;32m---> 82\u001b[0m     \u001b[39mself\u001b[39m\u001b[39m.\u001b[39mnb_layers \u001b[39m=\u001b[39m \u001b[39msum\u001b[39m([\u001b[39mlen\u001b[39m(provider) \u001b[39mfor\u001b[39;00m provider \u001b[39min\u001b[39;00m \u001b[39mself\u001b[39m\u001b[39m.\u001b[39mproviders])\n\u001b[1;32m     83\u001b[0m     \u001b[39mself\u001b[39m\u001b[39m.\u001b[39mbands_names \u001b[39m=\u001b[39m \u001b[39mlist\u001b[39m(itertools\u001b[39m.\u001b[39mchain\u001b[39m.\u001b[39mfrom_iterable([provider\u001b[39m.\u001b[39mbands_names \u001b[39mfor\u001b[39;00m provider \u001b[39min\u001b[39;00m \u001b[39mself\u001b[39m\u001b[39m.\u001b[39mproviders]))\n\u001b[1;32m     84\u001b[0m     \u001b[39mself\u001b[39m\u001b[39m.\u001b[39mtransform \u001b[39m=\u001b[39m transform\n",
      "File \u001b[0;32m~/Documents/GeoLifeCLEF/GLC23PatchesProviders.py:279\u001b[0m, in \u001b[0;36mJpegPatchProvider.__getitem__\u001b[0;34m(self, item)\u001b[0m\n\u001b[1;32m    277\u001b[0m     \u001b[39mraise\u001b[39;00m \u001b[39mKeyError\u001b[39;00m(\u001b[39m'\u001b[39m\u001b[39mThe patchID key does not exists.\u001b[39m\u001b[39m'\u001b[39m)\n\u001b[1;32m    278\u001b[0m \u001b[39mexcept\u001b[39;00m \u001b[39mException\u001b[39;00m \u001b[39mas\u001b[39;00m e:\n\u001b[0;32m--> 279\u001b[0m     \u001b[39mraise\u001b[39;00m \u001b[39mException\u001b[39;00m(\u001b[39m'\u001b[39m\u001b[39mAn error has occured when trying to load a patch patchID.\u001b[39m\u001b[39m'\u001b[39m\n\u001b[1;32m    280\u001b[0m                     \u001b[39m'\u001b[39m\u001b[39mCheck that the input argument is a dict containing the \u001b[39m\u001b[39m\"\u001b[39m\u001b[39mpatchID\u001b[39m\u001b[39m\"\u001b[39m\u001b[39m key.\u001b[39m\u001b[39m'\u001b[39m)\n\u001b[1;32m    282\u001b[0m \u001b[39m# folders that contain patches\u001b[39;00m\n\u001b[1;32m    283\u001b[0m sub_folder_1 \u001b[39m=\u001b[39m id_[\u001b[39m-\u001b[39m\u001b[39m2\u001b[39m:]\n",
      "\u001b[0;31mException\u001b[0m: An error has occured when trying to load a patch patchID.Check that the input argument is a dict containing the \"patchID\" key."
     ]
    }
   ],
   "source": [
    "# create dataset\n",
    "multi_dataset = PatchesDatasetMultiLabel(\n",
    "    occurrences=presence_only_path,\n",
    "    providers=(p_rgb), device=device) #p_hfp_d, p_bioclim, p_hfp_s, "
   ]
  },
  {
   "cell_type": "code",
   "execution_count": 22,
   "metadata": {},
   "outputs": [
    {
     "data": {
      "text/plain": [
       "tensor([[[-0.2597, -0.2597, -0.2597,  ...,  3.8510,  3.8510, -0.2597],\n",
       "         [-0.2597, -0.2597, -0.2597,  ...,  3.8510,  3.8510,  3.8510],\n",
       "         [-0.2597, -0.2597, -0.2597,  ...,  3.8510,  3.8510,  3.8510],\n",
       "         ...,\n",
       "         [ 0.0000,  0.0000,  0.0000,  ..., -0.2597, -0.2597, -0.2597],\n",
       "         [ 0.0000,  0.0000,  0.0000,  ..., -0.2597, -0.2597, -0.2597],\n",
       "         [ 0.0000,  0.0000,  0.0000,  ..., -0.2597, -0.2597, -0.2597]],\n",
       "\n",
       "        [[ 1.8088,  1.4273,  1.8088,  ...,  2.5719,  2.5719,  2.1904],\n",
       "         [ 2.1904,  2.1904,  1.8088,  ...,  2.9534,  2.5719,  2.5719],\n",
       "         [ 2.1904,  2.1904,  2.1904,  ...,  2.9534,  2.9534,  2.9534],\n",
       "         ...,\n",
       "         [ 0.0000,  0.0000,  0.0000,  ..., -0.4803, -0.4803, -0.4803],\n",
       "         [ 0.0000,  0.0000,  0.0000,  ..., -0.4803, -0.4803, -0.4803],\n",
       "         [ 0.0000,  0.0000,  0.0000,  ..., -0.4803, -0.4803, -0.4803]],\n",
       "\n",
       "        [[-0.5647, -0.5229, -0.5020,  ..., -0.4915, -0.5020, -0.4915],\n",
       "         [-0.5229, -0.5229, -0.5124,  ..., -0.5020, -0.5020, -0.5020],\n",
       "         [-0.5124, -0.5333, -0.5124,  ..., -0.5020, -0.4915, -0.5020],\n",
       "         ...,\n",
       "         [-0.2512, -0.2512, -0.2512,  ..., -0.4184, -0.4184, -0.4079],\n",
       "         [-0.2512, -0.2512, -0.2512,  ..., -0.4184, -0.4184, -0.4079],\n",
       "         [-0.2512, -0.2512, -0.2512,  ..., -0.4079, -0.4079, -0.4079]],\n",
       "\n",
       "        ...,\n",
       "\n",
       "        [[-0.5958, -0.5958, -0.6449,  ..., -0.6940, -0.6695, -0.6449],\n",
       "         [-0.6449, -0.6940, -0.7677,  ..., -0.6940, -0.6695, -0.6695],\n",
       "         [-0.6940, -0.8168, -0.8905,  ..., -0.6695, -0.6695, -0.6695],\n",
       "         ...,\n",
       "         [ 0.2394, -0.3010, -0.5466,  ..., -0.9151, -0.8905, -0.8168],\n",
       "         [ 0.2885, -0.1045, -0.4729,  ..., -0.9151, -0.8414, -0.7677],\n",
       "         [ 0.3377,  0.0183, -0.3993,  ..., -0.8905, -0.8414, -0.7923]],\n",
       "\n",
       "        [[-0.9888, -0.9888, -1.0379,  ..., -0.9642, -0.9397, -0.9151],\n",
       "         [-1.0379, -1.0870, -1.1607,  ..., -0.9642, -0.9397, -0.9397],\n",
       "         [-1.0870, -1.1853, -1.2590,  ..., -0.9397, -0.9397, -0.9397],\n",
       "         ...,\n",
       "         [-0.0799, -0.6203, -0.8168,  ..., -1.1853, -1.1607, -1.0870],\n",
       "         [-0.0308, -0.4238, -0.7431,  ..., -1.1607, -1.0870, -1.0134],\n",
       "         [ 0.0183, -0.3010, -0.6695,  ..., -1.1362, -1.0870, -1.0379]],\n",
       "\n",
       "        [[ 0.8781,  1.1237,  1.3202,  ...,  1.1974,  1.1483,  1.0009],\n",
       "         [ 0.9272,  1.0500,  1.1237,  ...,  1.1729,  1.1483,  1.0746],\n",
       "         [ 0.9272,  0.8781,  0.8044,  ...,  1.1483,  1.1729,  1.1483],\n",
       "         ...,\n",
       "         [ 1.0746,  1.1483,  1.0992,  ...,  0.7307,  0.8781,  1.0009],\n",
       "         [ 1.0746,  1.1974,  1.0500,  ...,  0.7798,  0.8044,  0.8044],\n",
       "         [ 1.0746,  1.2465,  1.0500,  ...,  0.7798,  0.8044,  1.0255]]],\n",
       "       device='cuda:0')"
      ]
     },
     "execution_count": 22,
     "metadata": {},
     "output_type": "execute_result"
    }
   ],
   "source": [
    "multi_dataset[0][0]"
   ]
  },
  {
   "cell_type": "code",
   "execution_count": 23,
   "metadata": {},
   "outputs": [],
   "source": [
    "train_loader = torch.utils.data.DataLoader(multi_dataset, shuffle=True, batch_size=12)"
   ]
  },
  {
   "cell_type": "code",
   "execution_count": 33,
   "metadata": {},
   "outputs": [
    {
     "name": "stdout",
     "output_type": "stream",
     "text": [
      "tensor([[[[-0.2597, -0.2597, -0.2597,  ..., -0.2597, -0.2597, -0.2597],\n",
      "          [-0.2597, -0.2597, -0.2597,  ..., -0.2597, -0.2597, -0.2597],\n",
      "          [-0.2597, -0.2597, -0.2597,  ..., -0.2597, -0.2597, -0.2597],\n",
      "          ...,\n",
      "          [ 0.0000,  0.0000,  0.0000,  ..., -0.2597, -0.2597, -0.2597],\n",
      "          [ 0.0000,  0.0000,  0.0000,  ..., -0.2597, -0.2597, -0.2597],\n",
      "          [ 0.0000,  0.0000,  0.0000,  ..., -0.2597, -0.2597, -0.2597]],\n",
      "\n",
      "         [[-0.4803, -0.4803, -0.4803,  ..., -0.4803, -0.4803, -0.4803],\n",
      "          [-0.0988, -0.4803, -0.4803,  ..., -0.4803, -0.4803, -0.4803],\n",
      "          [-0.4803, -0.4803, -0.4803,  ..., -0.4803, -0.4803, -0.4803],\n",
      "          ...,\n",
      "          [ 0.0000,  0.0000,  0.0000,  ..., -0.4803, -0.4803, -0.4803],\n",
      "          [ 0.0000,  0.0000,  0.0000,  ..., -0.4803, -0.4803, -0.4803],\n",
      "          [ 0.0000,  0.0000,  0.0000,  ..., -0.4803, -0.4803, -0.4803]],\n",
      "\n",
      "         [[-0.7318, -0.7423, -0.7214,  ..., -0.5855, -0.5960, -0.5960],\n",
      "          [-0.7109, -0.7109, -0.7318,  ..., -0.6273, -0.6378, -0.6378],\n",
      "          [-0.6482, -0.6587, -0.7005,  ..., -0.6378, -0.6482, -0.6482],\n",
      "          ...,\n",
      "          [-0.2930, -0.2930, -0.2930,  ..., -0.4811, -0.4811, -0.4811],\n",
      "          [-0.2930, -0.2930, -0.2930,  ..., -0.4811, -0.4706, -0.4706],\n",
      "          [-0.2930, -0.2930, -0.2930,  ..., -0.4811, -0.4706, -0.4706]],\n",
      "\n",
      "         ...,\n",
      "\n",
      "         [[-0.7431, -0.7677, -0.7677,  ..., -0.3010, -0.5958, -0.7923],\n",
      "          [-0.3256, -0.5466, -0.7677,  ..., -0.3501, -0.6203, -0.8660],\n",
      "          [-0.0308, -0.2273, -0.3993,  ..., -0.3010, -0.5221, -0.7923],\n",
      "          ...,\n",
      "          [-0.5712, -0.5466, -0.5221,  ..., -0.5712, -0.6940, -0.7677],\n",
      "          [-0.4975, -0.4975, -0.5466,  ..., -0.4484, -0.5958, -0.7186],\n",
      "          [-0.3993, -0.4729, -0.5712,  ..., -0.4729, -0.5466, -0.5958]],\n",
      "\n",
      "         [[-1.1853, -1.2099, -1.2099,  ..., -0.5466, -0.8168, -1.0134],\n",
      "          [-0.7431, -0.9888, -1.2099,  ..., -0.5958, -0.8414, -1.0870],\n",
      "          [-0.4484, -0.6449, -0.8168,  ..., -0.5712, -0.7677, -1.0379],\n",
      "          ...,\n",
      "          [-0.8660, -0.8414, -0.8168,  ..., -0.9151, -1.0379, -1.1116],\n",
      "          [-0.7923, -0.7923, -0.8414,  ..., -0.7923, -0.9397, -1.0625],\n",
      "          [-0.6940, -0.7677, -0.8660,  ..., -0.8168, -0.8905, -0.9397]],\n",
      "\n",
      "         [[ 1.4185,  1.1974,  1.2465,  ...,  0.8044,  0.6570,  0.4605],\n",
      "          [ 1.5167,  1.3694,  1.4431,  ...,  0.8535,  0.6816,  0.5096],\n",
      "          [ 1.6887,  1.6150,  1.7133,  ...,  0.8781,  0.8044,  0.7307],\n",
      "          ...,\n",
      "          [ 1.0255,  0.9763,  0.9763,  ...,  1.3202,  1.4922,  1.4185],\n",
      "          [ 1.0500,  1.0500,  1.0255,  ...,  1.2957,  1.4185,  1.2711],\n",
      "          [ 1.0500,  1.0992,  1.0500,  ...,  1.0500,  1.1974,  1.0992]]],\n",
      "\n",
      "\n",
      "        [[[ 0.0000,  0.0000,  0.0000,  ..., -0.2597, -0.2597, -0.2597],\n",
      "          [ 0.0000,  0.0000,  0.0000,  ..., -0.2597, -0.2597, -0.2597],\n",
      "          [ 0.0000,  0.0000,  0.0000,  ...,  0.0000, -0.2597, -0.2597],\n",
      "          ...,\n",
      "          [ 0.0000,  0.0000,  0.0000,  ...,  3.8510,  3.8510, -0.2597],\n",
      "          [ 0.0000,  0.0000,  0.0000,  ...,  3.8510,  3.8510, -0.2597],\n",
      "          [ 0.0000,  0.0000,  0.0000,  ..., -0.2597, -0.2597, -0.2597]],\n",
      "\n",
      "         [[ 0.0000,  0.0000,  0.0000,  ..., -0.4803, -0.4803, -0.4803],\n",
      "          [ 0.0000,  0.0000,  0.0000,  ..., -0.4803, -0.4803, -0.4803],\n",
      "          [ 0.0000,  0.0000,  0.0000,  ...,  0.0000, -0.4803, -0.4803],\n",
      "          ...,\n",
      "          [ 0.0000,  0.0000,  0.0000,  ...,  2.5719,  2.5719,  1.4273],\n",
      "          [ 0.0000,  0.0000,  0.0000,  ...,  2.5719,  2.5719,  2.1904],\n",
      "          [ 0.0000,  0.0000,  0.0000,  ...,  1.4273,  1.4273,  0.6643]],\n",
      "\n",
      "         [[-0.1781, -0.1781, -0.1781,  ..., -0.2512, -0.2512, -0.2617],\n",
      "          [-0.1781, -0.1781, -0.1781,  ..., -0.2617, -0.2617, -0.2617],\n",
      "          [-0.1781, -0.1781, -0.1781,  ..., -0.2721, -0.2721, -0.2721],\n",
      "          ...,\n",
      "          [-0.1676, -0.1676, -0.1676,  ..., -0.2303, -0.2303, -0.2303],\n",
      "          [-0.1676, -0.1676, -0.1676,  ..., -0.2303, -0.2303, -0.2303],\n",
      "          [-0.1676, -0.1676, -0.1676,  ..., -0.2199, -0.2303, -0.2303]],\n",
      "\n",
      "         ...,\n",
      "\n",
      "         [[ 1.5904,  1.5413,  1.4431,  ..., -0.0308, -0.0308, -0.0799],\n",
      "          [ 1.5659,  1.5659,  1.4431,  ..., -0.0308, -0.0308, -0.0308],\n",
      "          [ 1.5659,  1.6150,  1.5167,  ..., -0.0308, -0.0308, -0.0308],\n",
      "          ...,\n",
      "          [ 0.0183,  0.0675,  0.3131,  ..., -0.1536, -0.0799, -0.3010],\n",
      "          [ 0.0183,  0.0429,  0.3131,  ..., -0.2273, -0.1045, -0.2273],\n",
      "          [-0.0062, -0.0062,  0.2885,  ..., -0.3010, -0.1536, -0.2027]],\n",
      "\n",
      "         [[ 1.3202,  1.2711,  1.1729,  ..., -0.4729, -0.4729, -0.4975],\n",
      "          [ 1.2957,  1.2957,  1.1729,  ..., -0.4238, -0.4729, -0.4729],\n",
      "          [ 1.2957,  1.3448,  1.2465,  ..., -0.4238, -0.4729, -0.4729],\n",
      "          ...,\n",
      "          [-0.1045, -0.0554,  0.1412,  ..., -0.3501, -0.2764, -0.4975],\n",
      "          [-0.1045, -0.0799,  0.1412,  ..., -0.4484, -0.3010, -0.4238],\n",
      "          [-0.1536, -0.1290,  0.1166,  ..., -0.5221, -0.3501, -0.3993]],\n",
      "\n",
      "         [[ 2.0817,  2.0326,  1.9343,  ...,  1.9589,  1.9098,  1.8606],\n",
      "          [ 2.0080,  2.0080,  1.9589,  ...,  1.9589,  1.9098,  1.8852],\n",
      "          [ 2.0326,  2.0572,  2.0326,  ...,  1.9343,  1.9098,  1.8852],\n",
      "          ...,\n",
      "          [-0.5958, -0.7186, -0.2764,  ...,  1.5659,  1.5413,  1.4431],\n",
      "          [-0.6940, -0.7431, -0.3501,  ...,  1.5413,  1.3202,  1.4922],\n",
      "          [-0.7677, -0.7677, -0.3747,  ...,  1.4185,  0.9518,  0.7798]]],\n",
      "\n",
      "\n",
      "        [[[ 0.0000,  0.0000,  0.0000,  ..., -0.2597, -0.2597, -0.2597],\n",
      "          [ 0.0000,  0.0000,  0.0000,  ..., -0.2597, -0.2597, -0.2597],\n",
      "          [ 0.0000,  0.0000,  0.0000,  ..., -0.2597, -0.2597, -0.2597],\n",
      "          ...,\n",
      "          [-0.2597, -0.2597, -0.2597,  ...,  3.8510,  3.8510,  3.8510],\n",
      "          [-0.2597, -0.2597, -0.2597,  ...,  3.8510,  3.8510,  3.8510],\n",
      "          [-0.2597, -0.2597, -0.2597,  ...,  3.8510,  3.8510,  3.8510]],\n",
      "\n",
      "         [[ 0.0000,  0.0000,  0.0000,  ..., -0.4803, -0.4803, -0.4803],\n",
      "          [ 0.0000,  0.0000,  0.0000,  ..., -0.4803, -0.4803, -0.4803],\n",
      "          [ 0.0000,  0.0000,  0.0000,  ..., -0.4803, -0.4803, -0.4803],\n",
      "          ...,\n",
      "          [-0.4803, -0.4803, -0.4803,  ...,  2.5719,  2.9534,  2.9534],\n",
      "          [-0.4803, -0.4803, -0.4803,  ...,  2.9534,  2.9534,  2.9534],\n",
      "          [ 0.2827,  0.2827,  0.2827,  ...,  2.9534,  2.9534,  2.9534]],\n",
      "\n",
      "         [[-0.0423, -0.0527, -0.0527,  ..., -0.0632, -0.0632, -0.0632],\n",
      "          [-0.0423, -0.0527, -0.0527,  ..., -0.0736, -0.0736, -0.0736],\n",
      "          [-0.0423, -0.0527, -0.0527,  ..., -0.0736, -0.0736, -0.0736],\n",
      "          ...,\n",
      "          [-0.0527, -0.0527, -0.0527,  ..., -0.0736, -0.0736, -0.0736],\n",
      "          [-0.0527, -0.0527, -0.0527,  ..., -0.0736, -0.0736, -0.0736],\n",
      "          [-0.0527, -0.0527, -0.0527,  ..., -0.0736, -0.0736, -0.0736]],\n",
      "\n",
      "         ...,\n",
      "\n",
      "         [[ 0.1166,  0.2149,  0.0920,  ..., -0.6695, -0.5712, -0.4484],\n",
      "          [ 0.2149,  0.2394,  0.1657,  ..., -0.5712, -0.5466, -0.4729],\n",
      "          [ 0.0675,  0.0183,  0.0183,  ..., -0.5221, -0.5221, -0.4975],\n",
      "          ...,\n",
      "          [ 0.0183, -0.3747, -0.5712,  ..., -0.2027, -0.2764, -0.2027],\n",
      "          [ 0.0920, -0.1536, -0.4238,  ..., -0.1290, -0.1536, -0.0062],\n",
      "          [-0.1782, -0.1290, -0.3010,  ..., -0.1536, -0.1782,  0.0183]],\n",
      "\n",
      "         [[-0.3256, -0.2273, -0.3010,  ..., -0.8905, -0.7923, -0.6449],\n",
      "          [-0.2273, -0.1536, -0.2273,  ..., -0.7923, -0.7677, -0.6695],\n",
      "          [-0.3256, -0.3747, -0.3256,  ..., -0.7431, -0.7431, -0.6940],\n",
      "          ...,\n",
      "          [-0.1782, -0.5958, -0.7923,  ..., -0.5712, -0.6940, -0.6203],\n",
      "          [-0.1782, -0.4238, -0.7186,  ..., -0.5221, -0.5958, -0.4729],\n",
      "          [-0.4484, -0.3993, -0.5958,  ..., -0.5466, -0.6203, -0.4484]],\n",
      "\n",
      "         [[ 1.2957,  1.7378,  1.9589,  ...,  1.7624,  1.5659,  1.9343],\n",
      "          [ 1.3939,  1.7378,  1.9343,  ...,  1.7870,  1.7378,  1.8852],\n",
      "          [ 1.4922,  1.7870,  1.9835,  ...,  1.7870,  1.8361,  1.7624],\n",
      "          ...,\n",
      "          [ 0.6570,  0.9763,  1.1483,  ...,  1.8115,  1.4676,  0.9518],\n",
      "          [ 0.9763,  0.8781,  1.2220,  ...,  1.9343,  1.5659,  1.1974],\n",
      "          [ 0.9518,  0.9026,  0.9272,  ...,  2.4011,  2.0817,  1.7624]]],\n",
      "\n",
      "\n",
      "        ...,\n",
      "\n",
      "\n",
      "        [[[-0.2597, -0.2597, -0.2597,  ...,  3.8510,  3.8510, -0.2597],\n",
      "          [-0.2597, -0.2597, -0.2597,  ...,  3.8510,  3.8510,  3.8510],\n",
      "          [-0.2597, -0.2597, -0.2597,  ...,  3.8510,  3.8510,  3.8510],\n",
      "          ...,\n",
      "          [ 0.0000,  0.0000,  0.0000,  ..., -0.2597, -0.2597, -0.2597],\n",
      "          [ 0.0000,  0.0000,  0.0000,  ..., -0.2597, -0.2597, -0.2597],\n",
      "          [ 0.0000,  0.0000,  0.0000,  ..., -0.2597, -0.2597, -0.2597]],\n",
      "\n",
      "         [[ 1.8088,  1.4273,  1.8088,  ...,  2.5719,  2.5719,  2.1904],\n",
      "          [ 2.1904,  2.1904,  1.8088,  ...,  2.9534,  2.5719,  2.5719],\n",
      "          [ 2.1904,  2.1904,  2.1904,  ...,  2.9534,  2.9534,  2.9534],\n",
      "          ...,\n",
      "          [ 0.0000,  0.0000,  0.0000,  ..., -0.4803, -0.4803, -0.4803],\n",
      "          [ 0.0000,  0.0000,  0.0000,  ..., -0.4803, -0.4803, -0.4803],\n",
      "          [ 0.0000,  0.0000,  0.0000,  ..., -0.4803, -0.4803, -0.4803]],\n",
      "\n",
      "         [[-0.5647, -0.5229, -0.5020,  ..., -0.4915, -0.5020, -0.4915],\n",
      "          [-0.5229, -0.5229, -0.5124,  ..., -0.5020, -0.5020, -0.5020],\n",
      "          [-0.5124, -0.5333, -0.5124,  ..., -0.5020, -0.4915, -0.5020],\n",
      "          ...,\n",
      "          [-0.2512, -0.2512, -0.2512,  ..., -0.4184, -0.4184, -0.4079],\n",
      "          [-0.2512, -0.2512, -0.2512,  ..., -0.4184, -0.4184, -0.4079],\n",
      "          [-0.2512, -0.2512, -0.2512,  ..., -0.4079, -0.4079, -0.4079]],\n",
      "\n",
      "         ...,\n",
      "\n",
      "         [[-0.5958, -0.5958, -0.6449,  ..., -0.6940, -0.6695, -0.6449],\n",
      "          [-0.6449, -0.6940, -0.7677,  ..., -0.6940, -0.6695, -0.6695],\n",
      "          [-0.6940, -0.8168, -0.8905,  ..., -0.6695, -0.6695, -0.6695],\n",
      "          ...,\n",
      "          [ 0.2394, -0.3010, -0.5466,  ..., -0.9151, -0.8905, -0.8168],\n",
      "          [ 0.2885, -0.1045, -0.4729,  ..., -0.9151, -0.8414, -0.7677],\n",
      "          [ 0.3377,  0.0183, -0.3993,  ..., -0.8905, -0.8414, -0.7923]],\n",
      "\n",
      "         [[-0.9888, -0.9888, -1.0379,  ..., -0.9642, -0.9397, -0.9151],\n",
      "          [-1.0379, -1.0870, -1.1607,  ..., -0.9642, -0.9397, -0.9397],\n",
      "          [-1.0870, -1.1853, -1.2590,  ..., -0.9397, -0.9397, -0.9397],\n",
      "          ...,\n",
      "          [-0.0799, -0.6203, -0.8168,  ..., -1.1853, -1.1607, -1.0870],\n",
      "          [-0.0308, -0.4238, -0.7431,  ..., -1.1607, -1.0870, -1.0134],\n",
      "          [ 0.0183, -0.3010, -0.6695,  ..., -1.1362, -1.0870, -1.0379]],\n",
      "\n",
      "         [[ 0.8781,  1.1237,  1.3202,  ...,  1.1974,  1.1483,  1.0009],\n",
      "          [ 0.9272,  1.0500,  1.1237,  ...,  1.1729,  1.1483,  1.0746],\n",
      "          [ 0.9272,  0.8781,  0.8044,  ...,  1.1483,  1.1729,  1.1483],\n",
      "          ...,\n",
      "          [ 1.0746,  1.1483,  1.0992,  ...,  0.7307,  0.8781,  1.0009],\n",
      "          [ 1.0746,  1.1974,  1.0500,  ...,  0.7798,  0.8044,  0.8044],\n",
      "          [ 1.0746,  1.2465,  1.0500,  ...,  0.7798,  0.8044,  1.0255]]],\n",
      "\n",
      "\n",
      "        [[[ 3.8510,  3.8510,  3.8510,  ..., -0.2597, -0.2597, -0.2597],\n",
      "          [ 3.8510,  3.8510,  3.8510,  ..., -0.2597, -0.2597, -0.2597],\n",
      "          [ 3.8510,  3.8510,  3.8510,  ..., -0.2597, -0.2597, -0.2597],\n",
      "          ...,\n",
      "          [-0.2597, -0.2597, -0.2597,  ...,  3.8510,  3.8510,  3.8510],\n",
      "          [-0.2597, -0.2597, -0.2597,  ...,  3.8510,  3.8510,  3.8510],\n",
      "          [-0.2597, -0.2597, -0.2597,  ...,  3.8510,  3.8510,  3.8510]],\n",
      "\n",
      "         [[ 3.3350,  3.3350,  3.3350,  ...,  1.0458,  1.0458,  1.4273],\n",
      "          [ 3.3350,  3.3350,  3.3350,  ...,  1.4273,  1.4273,  1.8088],\n",
      "          [ 3.3350,  3.3350,  3.3350,  ...,  1.8088,  1.8088,  2.1904],\n",
      "          ...,\n",
      "          [-0.0988, -0.0988, -0.0988,  ...,  3.3350,  3.3350,  3.3350],\n",
      "          [-0.0988, -0.0988, -0.0988,  ...,  3.3350,  3.3350,  2.9534],\n",
      "          [-0.0988, -0.0988,  0.2827,  ...,  2.9534,  2.9534,  2.9534]],\n",
      "\n",
      "         [[-0.1258, -0.1258, -0.1154,  ..., -0.0736, -0.0840, -0.0840],\n",
      "          [-0.1154, -0.1154, -0.1154,  ..., -0.0736, -0.0736, -0.0840],\n",
      "          [-0.1049, -0.1049, -0.1049,  ..., -0.0840, -0.0736, -0.0736],\n",
      "          ...,\n",
      "          [-0.0632, -0.0736, -0.0527,  ..., -0.0632, -0.0632, -0.0632],\n",
      "          [-0.0632, -0.0527, -0.0527,  ..., -0.0632, -0.0632, -0.0527],\n",
      "          [-0.0423, -0.0527, -0.0632,  ..., -0.0527, -0.0527, -0.0632]],\n",
      "\n",
      "         ...,\n",
      "\n",
      "         [[ 0.0920,  0.0429, -0.0062,  ...,  0.2640,  0.3131,  0.3377],\n",
      "          [ 0.0920,  0.0429, -0.0062,  ...,  0.2149,  0.2394,  0.2640],\n",
      "          [ 0.0675,  0.0429,  0.0429,  ...,  0.1903,  0.1903,  0.1903],\n",
      "          ...,\n",
      "          [-0.3993, -0.4484, -0.3747,  ..., -0.3501, -0.3993, -0.4484],\n",
      "          [-0.4729, -0.4484, -0.3256,  ..., -0.3993, -0.3501, -0.3501],\n",
      "          [-0.4729, -0.4238, -0.3010,  ..., -0.3501, -0.3501, -0.3010]],\n",
      "\n",
      "         [[-0.2764, -0.3256, -0.3256,  ..., -0.0554, -0.0062,  0.0183],\n",
      "          [-0.2764, -0.3256, -0.3256,  ..., -0.0799, -0.0799, -0.0554],\n",
      "          [-0.3010, -0.3256, -0.3010,  ..., -0.1045, -0.1290, -0.1290],\n",
      "          ...,\n",
      "          [-0.6449, -0.6940, -0.6203,  ..., -0.5958, -0.5712, -0.6449],\n",
      "          [-0.7186, -0.6940, -0.5712,  ..., -0.5958, -0.5466, -0.5466],\n",
      "          [-0.7186, -0.6695, -0.5466,  ..., -0.5466, -0.5466, -0.4484]],\n",
      "\n",
      "         [[ 1.9343,  1.9835,  2.0572,  ...,  2.0326,  1.9589,  1.9098],\n",
      "          [ 1.9098,  1.9589,  2.0080,  ...,  1.9589,  1.9098,  1.8852],\n",
      "          [ 1.8852,  1.9098,  1.9589,  ...,  1.9343,  1.9098,  1.9098],\n",
      "          ...,\n",
      "          [ 1.8361,  1.9098,  1.9343,  ...,  1.7378,  1.9343,  1.5167],\n",
      "          [ 1.6887,  1.8115,  1.9589,  ...,  1.5904,  1.7624,  1.7133],\n",
      "          [ 1.5904,  1.7378,  1.9098,  ...,  1.8115,  1.5904,  1.7624]]],\n",
      "\n",
      "\n",
      "        [[[-0.2597, -0.2597, -0.2597,  ...,  3.8510,  3.8510,  3.8510],\n",
      "          [-0.2597, -0.2597, -0.2597,  ...,  3.8510,  3.8510,  3.8510],\n",
      "          [-0.2597, -0.2597, -0.2597,  ..., -0.2597, -0.2597, -0.2597],\n",
      "          ...,\n",
      "          [-0.2597, -0.2597, -0.2597,  ..., -0.2597, -0.2597, -0.2597],\n",
      "          [ 3.8510,  3.8510,  3.8510,  ..., -0.2597, -0.2597, -0.2597],\n",
      "          [ 3.8510,  3.8510,  3.8510,  ..., -0.2597, -0.2597, -0.2597]],\n",
      "\n",
      "         [[-0.0988, -0.0988, -0.4803,  ...,  2.9534,  2.9534,  2.9534],\n",
      "          [-0.0988, -0.0988,  0.2827,  ...,  2.9534,  2.9534,  2.5719],\n",
      "          [ 1.4273,  1.4273,  1.4273,  ...,  2.1904,  2.1904,  2.1904],\n",
      "          ...,\n",
      "          [ 2.1904,  2.1904,  1.4273,  ..., -0.4803, -0.4803, -0.4803],\n",
      "          [ 2.9534,  2.5719,  2.5719,  ..., -0.4803, -0.4803, -0.4803],\n",
      "          [ 2.9534,  2.9534,  2.9534,  ..., -0.4803, -0.4803, -0.4803]],\n",
      "\n",
      "         [[ 0.2503,  0.2503,  0.2503,  ...,  0.1772,  0.1772,  0.1667],\n",
      "          [ 0.2503,  0.2503,  0.2503,  ...,  0.1876,  0.1876,  0.1772],\n",
      "          [ 0.2607,  0.2503,  0.2503,  ...,  0.1876,  0.1876,  0.1772],\n",
      "          ...,\n",
      "          [ 0.3130,  0.3130,  0.3025,  ...,  0.2503,  0.2607,  0.2607],\n",
      "          [ 0.3025,  0.3025,  0.3025,  ...,  0.2503,  0.2607,  0.2712],\n",
      "          [ 0.3130,  0.3025,  0.3025,  ...,  0.2503,  0.2712,  0.2712]],\n",
      "\n",
      "         ...,\n",
      "\n",
      "         [[-0.0062,  0.1903, -0.0799,  ..., -0.2764, -0.3501, -0.2027],\n",
      "          [-0.1045,  0.0183, -0.1045,  ..., -0.0062, -0.0308, -0.0554],\n",
      "          [-0.1290, -0.1536, -0.1536,  ...,  0.1657,  0.2149,  0.1412],\n",
      "          ...,\n",
      "          [ 0.3868,  0.1412, -0.1782,  ...,  0.0183,  0.0429,  0.0183],\n",
      "          [ 0.1166,  0.0429, -0.1782,  ..., -0.0799, -0.0308, -0.0062],\n",
      "          [ 0.2149,  0.1657, -0.1045,  ..., -0.2027, -0.1782, -0.0799]],\n",
      "\n",
      "         [[-0.2027, -0.0308, -0.3010,  ..., -0.6695, -0.7431, -0.5958],\n",
      "          [-0.3256, -0.2027, -0.3256,  ..., -0.3993, -0.4238, -0.4484],\n",
      "          [-0.3501, -0.3747, -0.4484,  ..., -0.2273, -0.1782, -0.2273],\n",
      "          ...,\n",
      "          [-0.0062, -0.2273, -0.5221,  ..., -0.3993, -0.3747, -0.3993],\n",
      "          [-0.2519, -0.3256, -0.5221,  ..., -0.4975, -0.4484, -0.4238],\n",
      "          [-0.1536, -0.1782, -0.4484,  ..., -0.6449, -0.5958, -0.4975]],\n",
      "\n",
      "         [[ 1.5167,  1.4431,  1.4431,  ...,  1.7870,  1.8606,  1.8361],\n",
      "          [ 1.2957,  1.2465,  1.2957,  ...,  1.7378,  1.7133,  1.7133],\n",
      "          [ 0.9763,  1.0009,  1.1483,  ...,  1.7378,  1.5904,  1.5659],\n",
      "          ...,\n",
      "          [ 1.8115,  1.7624,  1.6641,  ...,  1.6150,  1.5659,  1.4676],\n",
      "          [ 1.7870,  1.8115,  1.7378,  ...,  1.7624,  1.6887,  1.5659],\n",
      "          [ 1.8115,  1.8852,  1.8606,  ...,  1.9098,  1.8115,  1.6641]]]],\n",
      "       device='cuda:0') tensor([[0., 0., 0.,  ..., 0., 0., 0.],\n",
      "        [0., 0., 0.,  ..., 0., 0., 0.],\n",
      "        [0., 0., 0.,  ..., 0., 0., 0.],\n",
      "        ...,\n",
      "        [0., 0., 0.,  ..., 0., 0., 0.],\n",
      "        [0., 0., 0.,  ..., 0., 0., 0.],\n",
      "        [0., 0., 0.,  ..., 0., 1., 1.]], device='cuda:0', dtype=torch.float64)\n"
     ]
    }
   ],
   "source": [
    "for i, l in train_loader:\n",
    "    print(i,l)\n",
    "    break"
   ]
  },
  {
   "cell_type": "code",
   "execution_count": 34,
   "metadata": {},
   "outputs": [
    {
     "data": {
      "text/plain": [
       "torch.Size([12, 100])"
      ]
     },
     "execution_count": 34,
     "metadata": {},
     "output_type": "execute_result"
    }
   ],
   "source": [
    "l.shape"
   ]
  },
  {
   "cell_type": "code",
   "execution_count": 1,
   "metadata": {},
   "outputs": [],
   "source": [
    "import pandas as pd\n",
    "import numpy as np\n",
    "import os\n",
    "import rasterio\n",
    "import pyproj\n",
    "import torch"
   ]
  },
  {
   "cell_type": "code",
   "execution_count": 2,
   "metadata": {},
   "outputs": [],
   "source": [
    "from Datasets import RasterPatchProvider, MultipleRasterPatchProvider"
   ]
  },
  {
   "cell_type": "code",
   "execution_count": 16,
   "metadata": {},
   "outputs": [
    {
     "name": "stdout",
     "output_type": "stream",
     "text": [
      "Rasters in folder: 19\n",
      "['bio9', 'bio8', 'bio7', 'bio6', 'bio5', 'bio4', 'bio3', 'bio2', 'bio19', 'bio18', 'bio17', 'bio16', 'bio15', 'bio14', 'bio13', 'bio12', 'bio11', 'bio10', 'bio1']\n",
      "\n"
     ]
    }
   ],
   "source": [
    "raster_folder = 'data/full_data/EnvironmentalRasters/Climate/BioClimatic_Average_1981-2010/'\n",
    "p = MultipleRasterPatchProvider(raster_folder)\n",
    "print(p)"
   ]
  },
  {
   "cell_type": "code",
   "execution_count": 8,
   "metadata": {},
   "outputs": [
    {
     "data": {
      "text/html": [
       "<div>\n",
       "<style scoped>\n",
       "    .dataframe tbody tr th:only-of-type {\n",
       "        vertical-align: middle;\n",
       "    }\n",
       "\n",
       "    .dataframe tbody tr th {\n",
       "        vertical-align: top;\n",
       "    }\n",
       "\n",
       "    .dataframe thead th {\n",
       "        text-align: right;\n",
       "    }\n",
       "</style>\n",
       "<table border=\"1\" class=\"dataframe\">\n",
       "  <thead>\n",
       "    <tr style=\"text-align: right;\">\n",
       "      <th></th>\n",
       "      <th>glcID</th>\n",
       "      <th>gbifID</th>\n",
       "      <th>observer</th>\n",
       "      <th>datasetName</th>\n",
       "      <th>date</th>\n",
       "      <th>dayOfYear</th>\n",
       "      <th>year</th>\n",
       "      <th>lon</th>\n",
       "      <th>lat</th>\n",
       "      <th>x_EPSG3035</th>\n",
       "      <th>y_EPSG3035</th>\n",
       "      <th>geoUncertaintyInM</th>\n",
       "      <th>speciesId</th>\n",
       "      <th>patchID</th>\n",
       "      <th>timeSerieID</th>\n",
       "    </tr>\n",
       "  </thead>\n",
       "  <tbody>\n",
       "    <tr>\n",
       "      <th>0</th>\n",
       "      <td>2774863</td>\n",
       "      <td>1.978418e+09</td>\n",
       "      <td>Jim Kingdon</td>\n",
       "      <td>iNaturalist RG</td>\n",
       "      <td>2018-09-29</td>\n",
       "      <td>272</td>\n",
       "      <td>2018</td>\n",
       "      <td>-10.53904</td>\n",
       "      <td>51.77186</td>\n",
       "      <td>2924908.0</td>\n",
       "      <td>3383275.0</td>\n",
       "      <td>4.0</td>\n",
       "      <td>8075</td>\n",
       "      <td>3018869</td>\n",
       "      <td>1000</td>\n",
       "    </tr>\n",
       "    <tr>\n",
       "      <th>1</th>\n",
       "      <td>1043549</td>\n",
       "      <td>2.397517e+09</td>\n",
       "      <td>Julie Hall</td>\n",
       "      <td>iNaturalist RG</td>\n",
       "      <td>2019-08-22</td>\n",
       "      <td>234</td>\n",
       "      <td>2019</td>\n",
       "      <td>-10.53875</td>\n",
       "      <td>51.77226</td>\n",
       "      <td>2924939.0</td>\n",
       "      <td>3383313.0</td>\n",
       "      <td>5.0</td>\n",
       "      <td>8075</td>\n",
       "      <td>3018870</td>\n",
       "      <td>1001</td>\n",
       "    </tr>\n",
       "    <tr>\n",
       "      <th>2</th>\n",
       "      <td>3104839</td>\n",
       "      <td>3.953467e+09</td>\n",
       "      <td>NaN</td>\n",
       "      <td>Pl@ntNet automatic</td>\n",
       "      <td>2019-07-10</td>\n",
       "      <td>191</td>\n",
       "      <td>2019</td>\n",
       "      <td>-10.47597</td>\n",
       "      <td>52.11013</td>\n",
       "      <td>2939549.0</td>\n",
       "      <td>3418442.0</td>\n",
       "      <td>5.0</td>\n",
       "      <td>6477</td>\n",
       "      <td>3018871</td>\n",
       "      <td>1002</td>\n",
       "    </tr>\n",
       "    <tr>\n",
       "      <th>3</th>\n",
       "      <td>1800638</td>\n",
       "      <td>2.294436e+09</td>\n",
       "      <td>gsauce</td>\n",
       "      <td>iNaturalist RG</td>\n",
       "      <td>2019-07-02</td>\n",
       "      <td>183</td>\n",
       "      <td>2019</td>\n",
       "      <td>-10.47555</td>\n",
       "      <td>52.15074</td>\n",
       "      <td>2940838.0</td>\n",
       "      <td>3422801.0</td>\n",
       "      <td>6.0</td>\n",
       "      <td>5783</td>\n",
       "      <td>3018872</td>\n",
       "      <td>1003</td>\n",
       "    </tr>\n",
       "    <tr>\n",
       "      <th>4</th>\n",
       "      <td>4873519</td>\n",
       "      <td>2.265857e+09</td>\n",
       "      <td>guillaumevigneault</td>\n",
       "      <td>iNaturalist RG</td>\n",
       "      <td>2019-06-07</td>\n",
       "      <td>158</td>\n",
       "      <td>2019</td>\n",
       "      <td>-10.47497</td>\n",
       "      <td>52.10978</td>\n",
       "      <td>2939604.0</td>\n",
       "      <td>3418385.0</td>\n",
       "      <td>30.0</td>\n",
       "      <td>9011</td>\n",
       "      <td>3018873</td>\n",
       "      <td>1004</td>\n",
       "    </tr>\n",
       "    <tr>\n",
       "      <th>...</th>\n",
       "      <td>...</td>\n",
       "      <td>...</td>\n",
       "      <td>...</td>\n",
       "      <td>...</td>\n",
       "      <td>...</td>\n",
       "      <td>...</td>\n",
       "      <td>...</td>\n",
       "      <td>...</td>\n",
       "      <td>...</td>\n",
       "      <td>...</td>\n",
       "      <td>...</td>\n",
       "      <td>...</td>\n",
       "      <td>...</td>\n",
       "      <td>...</td>\n",
       "      <td>...</td>\n",
       "    </tr>\n",
       "    <tr>\n",
       "      <th>4908314</th>\n",
       "      <td>2889852</td>\n",
       "      <td>3.892391e+09</td>\n",
       "      <td>Alenka Mihoric</td>\n",
       "      <td>iNaturalist RG</td>\n",
       "      <td>2018-05-09</td>\n",
       "      <td>129</td>\n",
       "      <td>2018</td>\n",
       "      <td>34.54567</td>\n",
       "      <td>35.64241</td>\n",
       "      <td>6523828.0</td>\n",
       "      <td>1753690.0</td>\n",
       "      <td>21.0</td>\n",
       "      <td>148</td>\n",
       "      <td>7000525</td>\n",
       "      <td>3980319</td>\n",
       "    </tr>\n",
       "    <tr>\n",
       "      <th>4908315</th>\n",
       "      <td>1261849</td>\n",
       "      <td>3.355773e+09</td>\n",
       "      <td>Alenka Mihoric</td>\n",
       "      <td>iNaturalist RG</td>\n",
       "      <td>2018-05-09</td>\n",
       "      <td>129</td>\n",
       "      <td>2018</td>\n",
       "      <td>34.54568</td>\n",
       "      <td>35.64243</td>\n",
       "      <td>6523828.0</td>\n",
       "      <td>1753692.0</td>\n",
       "      <td>38.0</td>\n",
       "      <td>625</td>\n",
       "      <td>7000526</td>\n",
       "      <td>3980320</td>\n",
       "    </tr>\n",
       "    <tr>\n",
       "      <th>4908316</th>\n",
       "      <td>844504</td>\n",
       "      <td>2.841228e+09</td>\n",
       "      <td>NaN</td>\n",
       "      <td>Observation.org</td>\n",
       "      <td>2019-01-24</td>\n",
       "      <td>24</td>\n",
       "      <td>2019</td>\n",
       "      <td>34.55360</td>\n",
       "      <td>35.64514</td>\n",
       "      <td>6524428.0</td>\n",
       "      <td>1754209.0</td>\n",
       "      <td>10.0</td>\n",
       "      <td>1088</td>\n",
       "      <td>7000527</td>\n",
       "      <td>3980321</td>\n",
       "    </tr>\n",
       "    <tr>\n",
       "      <th>4908317</th>\n",
       "      <td>346527</td>\n",
       "      <td>2.842044e+09</td>\n",
       "      <td>NaN</td>\n",
       "      <td>Observation.org</td>\n",
       "      <td>2019-01-24</td>\n",
       "      <td>24</td>\n",
       "      <td>2019</td>\n",
       "      <td>34.55388</td>\n",
       "      <td>35.64499</td>\n",
       "      <td>6524457.0</td>\n",
       "      <td>1754201.0</td>\n",
       "      <td>10.0</td>\n",
       "      <td>982</td>\n",
       "      <td>7000528</td>\n",
       "      <td>3980322</td>\n",
       "    </tr>\n",
       "    <tr>\n",
       "      <th>4908318</th>\n",
       "      <td>713628</td>\n",
       "      <td>3.355790e+09</td>\n",
       "      <td>Alenka Mihoric</td>\n",
       "      <td>iNaturalist RG</td>\n",
       "      <td>2018-05-09</td>\n",
       "      <td>129</td>\n",
       "      <td>2018</td>\n",
       "      <td>34.55792</td>\n",
       "      <td>35.64384</td>\n",
       "      <td>6524841.0</td>\n",
       "      <td>1754195.0</td>\n",
       "      <td>8.0</td>\n",
       "      <td>9395</td>\n",
       "      <td>7000529</td>\n",
       "      <td>3980323</td>\n",
       "    </tr>\n",
       "  </tbody>\n",
       "</table>\n",
       "<p>4908319 rows × 15 columns</p>\n",
       "</div>"
      ],
      "text/plain": [
       "           glcID        gbifID            observer         datasetName  \\\n",
       "0        2774863  1.978418e+09         Jim Kingdon      iNaturalist RG   \n",
       "1        1043549  2.397517e+09          Julie Hall      iNaturalist RG   \n",
       "2        3104839  3.953467e+09                 NaN  Pl@ntNet automatic   \n",
       "3        1800638  2.294436e+09              gsauce      iNaturalist RG   \n",
       "4        4873519  2.265857e+09  guillaumevigneault      iNaturalist RG   \n",
       "...          ...           ...                 ...                 ...   \n",
       "4908314  2889852  3.892391e+09      Alenka Mihoric      iNaturalist RG   \n",
       "4908315  1261849  3.355773e+09      Alenka Mihoric      iNaturalist RG   \n",
       "4908316   844504  2.841228e+09                 NaN     Observation.org   \n",
       "4908317   346527  2.842044e+09                 NaN     Observation.org   \n",
       "4908318   713628  3.355790e+09      Alenka Mihoric      iNaturalist RG   \n",
       "\n",
       "               date  dayOfYear  year       lon       lat  x_EPSG3035  \\\n",
       "0        2018-09-29        272  2018 -10.53904  51.77186   2924908.0   \n",
       "1        2019-08-22        234  2019 -10.53875  51.77226   2924939.0   \n",
       "2        2019-07-10        191  2019 -10.47597  52.11013   2939549.0   \n",
       "3        2019-07-02        183  2019 -10.47555  52.15074   2940838.0   \n",
       "4        2019-06-07        158  2019 -10.47497  52.10978   2939604.0   \n",
       "...             ...        ...   ...       ...       ...         ...   \n",
       "4908314  2018-05-09        129  2018  34.54567  35.64241   6523828.0   \n",
       "4908315  2018-05-09        129  2018  34.54568  35.64243   6523828.0   \n",
       "4908316  2019-01-24         24  2019  34.55360  35.64514   6524428.0   \n",
       "4908317  2019-01-24         24  2019  34.55388  35.64499   6524457.0   \n",
       "4908318  2018-05-09        129  2018  34.55792  35.64384   6524841.0   \n",
       "\n",
       "         y_EPSG3035  geoUncertaintyInM  speciesId  patchID  timeSerieID  \n",
       "0         3383275.0                4.0       8075  3018869         1000  \n",
       "1         3383313.0                5.0       8075  3018870         1001  \n",
       "2         3418442.0                5.0       6477  3018871         1002  \n",
       "3         3422801.0                6.0       5783  3018872         1003  \n",
       "4         3418385.0               30.0       9011  3018873         1004  \n",
       "...             ...                ...        ...      ...          ...  \n",
       "4908314   1753690.0               21.0        148  7000525      3980319  \n",
       "4908315   1753692.0               38.0        625  7000526      3980320  \n",
       "4908316   1754209.0               10.0       1088  7000527      3980321  \n",
       "4908317   1754201.0               10.0        982  7000528      3980322  \n",
       "4908318   1754195.0                8.0       9395  7000529      3980323  \n",
       "\n",
       "[4908319 rows x 15 columns]"
      ]
     },
     "execution_count": 8,
     "metadata": {},
     "output_type": "execute_result"
    }
   ],
   "source": [
    "occurrences_path = 'data/full_data/Presence_only_occurrences/Presences_only_train.csv'\n",
    "occurrences = pd.read_csv(occurrences_path, sep=';', header='infer', low_memory=False)\n",
    "occurrences"
   ]
  },
  {
   "cell_type": "code",
   "execution_count": 9,
   "metadata": {},
   "outputs": [
    {
     "data": {
      "text/plain": [
       "array([2774863, 1043549, 3104839, ...,  844504,  346527,  713628])"
      ]
     },
     "execution_count": 9,
     "metadata": {},
     "output_type": "execute_result"
    }
   ],
   "source": [
    "observation_ids = occurrences['glcID'].values\n",
    "observation_ids"
   ]
  },
  {
   "cell_type": "code",
   "execution_count": 10,
   "metadata": {},
   "outputs": [
    {
     "data": {
      "text/html": [
       "<div>\n",
       "<style scoped>\n",
       "    .dataframe tbody tr th:only-of-type {\n",
       "        vertical-align: middle;\n",
       "    }\n",
       "\n",
       "    .dataframe tbody tr th {\n",
       "        vertical-align: top;\n",
       "    }\n",
       "\n",
       "    .dataframe thead th {\n",
       "        text-align: right;\n",
       "    }\n",
       "</style>\n",
       "<table border=\"1\" class=\"dataframe\">\n",
       "  <thead>\n",
       "    <tr style=\"text-align: right;\">\n",
       "      <th></th>\n",
       "      <th>lat</th>\n",
       "      <th>lon</th>\n",
       "      <th>patchID</th>\n",
       "    </tr>\n",
       "  </thead>\n",
       "  <tbody>\n",
       "    <tr>\n",
       "      <th>0</th>\n",
       "      <td>51.77186</td>\n",
       "      <td>-10.53904</td>\n",
       "      <td>3018869</td>\n",
       "    </tr>\n",
       "    <tr>\n",
       "      <th>1</th>\n",
       "      <td>51.77226</td>\n",
       "      <td>-10.53875</td>\n",
       "      <td>3018870</td>\n",
       "    </tr>\n",
       "    <tr>\n",
       "      <th>2</th>\n",
       "      <td>52.11013</td>\n",
       "      <td>-10.47597</td>\n",
       "      <td>3018871</td>\n",
       "    </tr>\n",
       "    <tr>\n",
       "      <th>3</th>\n",
       "      <td>52.15074</td>\n",
       "      <td>-10.47555</td>\n",
       "      <td>3018872</td>\n",
       "    </tr>\n",
       "    <tr>\n",
       "      <th>4</th>\n",
       "      <td>52.10978</td>\n",
       "      <td>-10.47497</td>\n",
       "      <td>3018873</td>\n",
       "    </tr>\n",
       "    <tr>\n",
       "      <th>...</th>\n",
       "      <td>...</td>\n",
       "      <td>...</td>\n",
       "      <td>...</td>\n",
       "    </tr>\n",
       "    <tr>\n",
       "      <th>4908314</th>\n",
       "      <td>35.64241</td>\n",
       "      <td>34.54567</td>\n",
       "      <td>7000525</td>\n",
       "    </tr>\n",
       "    <tr>\n",
       "      <th>4908315</th>\n",
       "      <td>35.64243</td>\n",
       "      <td>34.54568</td>\n",
       "      <td>7000526</td>\n",
       "    </tr>\n",
       "    <tr>\n",
       "      <th>4908316</th>\n",
       "      <td>35.64514</td>\n",
       "      <td>34.55360</td>\n",
       "      <td>7000527</td>\n",
       "    </tr>\n",
       "    <tr>\n",
       "      <th>4908317</th>\n",
       "      <td>35.64499</td>\n",
       "      <td>34.55388</td>\n",
       "      <td>7000528</td>\n",
       "    </tr>\n",
       "    <tr>\n",
       "      <th>4908318</th>\n",
       "      <td>35.64384</td>\n",
       "      <td>34.55792</td>\n",
       "      <td>7000529</td>\n",
       "    </tr>\n",
       "  </tbody>\n",
       "</table>\n",
       "<p>4908319 rows × 3 columns</p>\n",
       "</div>"
      ],
      "text/plain": [
       "              lat       lon  patchID\n",
       "0        51.77186 -10.53904  3018869\n",
       "1        51.77226 -10.53875  3018870\n",
       "2        52.11013 -10.47597  3018871\n",
       "3        52.15074 -10.47555  3018872\n",
       "4        52.10978 -10.47497  3018873\n",
       "...           ...       ...      ...\n",
       "4908314  35.64241  34.54567  7000525\n",
       "4908315  35.64243  34.54568  7000526\n",
       "4908316  35.64514  34.55360  7000527\n",
       "4908317  35.64499  34.55388  7000528\n",
       "4908318  35.64384  34.55792  7000529\n",
       "\n",
       "[4908319 rows x 3 columns]"
      ]
     },
     "execution_count": 10,
     "metadata": {},
     "output_type": "execute_result"
    }
   ],
   "source": [
    "items = occurrences[['lat', 'lon', 'patchID']]\n",
    "items"
   ]
  },
  {
   "cell_type": "code",
   "execution_count": 11,
   "metadata": {},
   "outputs": [
    {
     "data": {
      "text/plain": [
       "array([8075, 8075, 6477, ..., 1088,  982, 9395])"
      ]
     },
     "execution_count": 11,
     "metadata": {},
     "output_type": "execute_result"
    }
   ],
   "source": [
    "targets = occurrences['speciesId'].values\n",
    "targets"
   ]
  },
  {
   "cell_type": "code",
   "execution_count": 13,
   "metadata": {},
   "outputs": [
    {
     "data": {
      "text/plain": [
       "{'lat': 51.77186, 'lon': -10.53904, 'patchID': 3018869.0}"
      ]
     },
     "execution_count": 13,
     "metadata": {},
     "output_type": "execute_result"
    }
   ],
   "source": [
    "index = 0\n",
    "item = items.iloc[index].to_dict()\n",
    "item"
   ]
  },
  {
   "cell_type": "code",
   "execution_count": 14,
   "metadata": {},
   "outputs": [
    {
     "data": {
      "text/plain": [
       "Int64Index([0], dtype='int64')"
      ]
     },
     "execution_count": 14,
     "metadata": {},
     "output_type": "execute_result"
    }
   ],
   "source": [
    "items[items['patchID']==item['patchID']].index"
   ]
  },
  {
   "cell_type": "code",
   "execution_count": 15,
   "metadata": {},
   "outputs": [
    {
     "data": {
      "text/plain": [
       "array([    1,     1,     1, ..., 10039, 10039, 10039])"
      ]
     },
     "execution_count": 15,
     "metadata": {},
     "output_type": "execute_result"
    }
   ],
   "source": [
    "np.sort(targets)"
   ]
  },
  {
   "cell_type": "code",
   "execution_count": null,
   "metadata": {},
   "outputs": [],
   "source": [
    "provider[item]"
   ]
  },
  {
   "cell_type": "code",
   "execution_count": 18,
   "metadata": {},
   "outputs": [
    {
     "ename": "TypeError",
     "evalue": "'MultipleRasterPatchProvider' object is not subscriptable",
     "output_type": "error",
     "traceback": [
      "\u001b[0;31m---------------------------------------------------------------------------\u001b[0m",
      "\u001b[0;31mTypeError\u001b[0m                                 Traceback (most recent call last)",
      "Cell \u001b[0;32mIn[18], line 1\u001b[0m\n\u001b[0;32m----> 1\u001b[0m p[\u001b[39m0\u001b[39;49m]\n",
      "\u001b[0;31mTypeError\u001b[0m: 'MultipleRasterPatchProvider' object is not subscriptable"
     ]
    }
   ],
   "source": [
    "p[0]"
   ]
  },
  {
   "cell_type": "code",
   "execution_count": null,
   "metadata": {},
   "outputs": [],
   "source": [
    "    def __getitem__(self, item):\n",
    "        return np.concatenate([raster[item] for raster in self.rasters_providers])"
   ]
  },
  {
   "cell_type": "code",
   "execution_count": null,
   "metadata": {},
   "outputs": [],
   "source": []
  },
  {
   "cell_type": "code",
   "execution_count": 3,
   "metadata": {},
   "outputs": [],
   "source": [
    "#raster_path = 'data/sample_data/EnvironmentalRasters/Climate/BioClimatic_Average_1981-2010/bio1.tif'\n",
    "raster_path = 'data/full_data/EnvironmentalRasters/HumanFootprint/detailed/Lights1994_WGS84.tif'\n",
    "d = RasterPatchProvider(raster_path)"
   ]
  },
  {
   "cell_type": "code",
   "execution_count": 5,
   "metadata": {},
   "outputs": [],
   "source": [
    "d.transformer"
   ]
  },
  {
   "cell_type": "code",
   "execution_count": 14,
   "metadata": {},
   "outputs": [
    {
     "data": {
      "text/plain": [
       "{'lat': 51.77186, 'lon': -10.53904, 'patchID': 3018869.0}"
      ]
     },
     "execution_count": 14,
     "metadata": {},
     "output_type": "execute_result"
    }
   ],
   "source": [
    "item"
   ]
  },
  {
   "cell_type": "code",
   "execution_count": 15,
   "metadata": {},
   "outputs": [
    {
     "name": "stdout",
     "output_type": "stream",
     "text": [
      "-10.53904 51.77186\n"
     ]
    }
   ],
   "source": [
    "if d.transformer:\n",
    "    lon, lat = d.transformer.transform(item['lon'], item['lat'])\n",
    "else:\n",
    "    lon, lat = (item['lon'], item['lat'])\n",
    "print(lon ,lat)\n"
   ]
  },
  {
   "cell_type": "code",
   "execution_count": 16,
   "metadata": {},
   "outputs": [
    {
     "name": "stdout",
     "output_type": "stream",
     "text": [
      "2063 2196\n"
     ]
    }
   ],
   "source": [
    "# calculate the x, y coordinate of the point of interest\n",
    "x = int(d.n_rows - (lat - d.y_min) / d.y_resolution)\n",
    "y = int((lon - d.x_min) / d.x_resolution)\n",
    "print(x,y)"
   ]
  },
  {
   "cell_type": "code",
   "execution_count": 18,
   "metadata": {},
   "outputs": [
    {
     "data": {
      "text/plain": [
       "(1, 4605, 6860)"
      ]
     },
     "execution_count": 18,
     "metadata": {},
     "output_type": "execute_result"
    }
   ],
   "source": [
    "d.data.shape"
   ]
  },
  {
   "cell_type": "code",
   "execution_count": 19,
   "metadata": {},
   "outputs": [
    {
     "data": {
      "text/plain": [
       "[0.0]"
      ]
     },
     "execution_count": 19,
     "metadata": {},
     "output_type": "execute_result"
    }
   ],
   "source": [
    "patch_size = 1\n",
    "if patch_size == 1:\n",
    "    patch_data = [d.data[i, x, y] for i in range(d.nb_layers)]\n",
    "else:\n",
    "    patch_data = [self.data[i, x - (self.patch_size // 2): x + (self.patch_size // 2), y - (self.patch_size // 2): y + (self.patch_size // 2)] for i in range(self.nb_layers)]\n",
    "patch_data"
   ]
  },
  {
   "cell_type": "code",
   "execution_count": null,
   "metadata": {},
   "outputs": [],
   "source": [
    "# read the data of the patch from all layers\n",
    "        if self.patch_size == 1:\n",
    "            patch_data = [self.data[i, x, y] for i in range(self.nb_layers)]\n",
    "        else:\n",
    "            patch_data = [self.data[i, x - (self.patch_size // 2): x + (self.patch_size // 2), y - (self.patch_size // 2): y + (self.patch_size // 2)] for i in range(self.nb_layers)]"
   ]
  },
  {
   "cell_type": "code",
   "execution_count": null,
   "metadata": {},
   "outputs": [],
   "source": [
    "\n",
    "        \n",
    "        tensor = np.concatenate([patch[np.newaxis] for patch in patch_data])\n",
    "        if self.fill_zero_if_error and tensor.shape != (self.nb_layers, self.patch_size, self.patch_size):\n",
    "            tensor = np.zeros((self.nb_layers, self.patch_size, self.patch_size))\n",
    "        return tensor"
   ]
  },
  {
   "cell_type": "code",
   "execution_count": 5,
   "metadata": {},
   "outputs": [
    {
     "name": "stdout",
     "output_type": "stream",
     "text": [
      "Rasters in folder: 19\n",
      "['bio9', 'bio8', 'bio7', 'bio6', 'bio5', 'bio4', 'bio3', 'bio2', 'bio19', 'bio18', 'bio17', 'bio16', 'bio15', 'bio14', 'bio13', 'bio12', 'bio11', 'bio10', 'bio1']\n",
      "\n"
     ]
    }
   ],
   "source": [
    "\n",
    "    def __getitem__(self, item):\n",
    "        \"\"\"\n",
    "        :param item: dictionary that needs to contains at least the keys latitude and longitude ({'lat': lat, 'lon':lon})\n",
    "        :return: return the environmental tensor or vector (size>1 or size=1)\n",
    "        \"\"\"\n",
    "        \n",
    "        # convert the lat, lon coordinates to EPSG:32738\n",
    "        if self.transformer:\n",
    "            lon, lat = self.transformer.transform(item['lon'], item['lat'])\n",
    "        else:\n",
    "            lon, lat = (item['lon'], item['lat'])\n",
    "\n",
    "        # add noise as data augmentation\n",
    "        if self.spatial_noise > 0:\n",
    "            lon = lon + ((random()*2*self.spatial_noise)-self.spatial_noise)\n",
    "            lat = lat + ((random()*2*self.spatial_noise)-self.spatial_noise)\n",
    "\n",
    "        # calculate the x, y coordinate of the point of interest\n",
    "        x = int(self.n_rows - (lat - self.y_min) / self.y_resolution)\n",
    "        y = int((lon - self.x_min) / self.x_resolution)\n",
    "\n",
    "        # read the data of the patch from all layers\n",
    "        if self.patch_size == 1:\n",
    "            patch_data = [self.data[i, x, y] for i in range(self.nb_layers)]\n",
    "        else:\n",
    "            patch_data = [self.data[i, x - (self.patch_size // 2): x + (self.patch_size // 2), y - (self.patch_size // 2): y + (self.patch_size // 2)] for i in range(self.nb_layers)]\n",
    "        \n",
    "        tensor = np.concatenate([patch[np.newaxis] for patch in patch_data])\n",
    "        if self.fill_zero_if_error and tensor.shape != (self.nb_layers, self.patch_size, self.patch_size):\n",
    "            tensor = np.zeros((self.nb_layers, self.patch_size, self.patch_size))\n",
    "        return tensor"
   ]
  },
  {
   "cell_type": "code",
   "execution_count": 19,
   "metadata": {},
   "outputs": [
    {
     "data": {
      "text/plain": [
       "['data/full_data/EnvironmentalRasters/Climate/BioClimatic_Average_1981-2010/bio9.tif',\n",
       " 'data/full_data/EnvironmentalRasters/Climate/BioClimatic_Average_1981-2010/bio8.tif',\n",
       " 'data/full_data/EnvironmentalRasters/Climate/BioClimatic_Average_1981-2010/bio7.tif',\n",
       " 'data/full_data/EnvironmentalRasters/Climate/BioClimatic_Average_1981-2010/bio6.tif',\n",
       " 'data/full_data/EnvironmentalRasters/Climate/BioClimatic_Average_1981-2010/bio5.tif',\n",
       " 'data/full_data/EnvironmentalRasters/Climate/BioClimatic_Average_1981-2010/bio4.tif',\n",
       " 'data/full_data/EnvironmentalRasters/Climate/BioClimatic_Average_1981-2010/bio3.tif',\n",
       " 'data/full_data/EnvironmentalRasters/Climate/BioClimatic_Average_1981-2010/bio2.tif',\n",
       " 'data/full_data/EnvironmentalRasters/Climate/BioClimatic_Average_1981-2010/bio19.tif',\n",
       " 'data/full_data/EnvironmentalRasters/Climate/BioClimatic_Average_1981-2010/bio18.tif',\n",
       " 'data/full_data/EnvironmentalRasters/Climate/BioClimatic_Average_1981-2010/bio17.tif',\n",
       " 'data/full_data/EnvironmentalRasters/Climate/BioClimatic_Average_1981-2010/bio16.tif',\n",
       " 'data/full_data/EnvironmentalRasters/Climate/BioClimatic_Average_1981-2010/bio15.tif',\n",
       " 'data/full_data/EnvironmentalRasters/Climate/BioClimatic_Average_1981-2010/bio14.tif',\n",
       " 'data/full_data/EnvironmentalRasters/Climate/BioClimatic_Average_1981-2010/bio13.tif',\n",
       " 'data/full_data/EnvironmentalRasters/Climate/BioClimatic_Average_1981-2010/bio12.tif',\n",
       " 'data/full_data/EnvironmentalRasters/Climate/BioClimatic_Average_1981-2010/bio11.tif',\n",
       " 'data/full_data/EnvironmentalRasters/Climate/BioClimatic_Average_1981-2010/bio10.tif',\n",
       " 'data/full_data/EnvironmentalRasters/Climate/BioClimatic_Average_1981-2010/bio1.tif']"
      ]
     },
     "execution_count": 19,
     "metadata": {},
     "output_type": "execute_result"
    }
   ],
   "source": [
    "\n",
    "files = os.listdir(raster_folder)\n",
    "files = [raster_folder + f for f in files if f.endswith('.tif')]\n",
    "files"
   ]
  },
  {
   "cell_type": "code",
   "execution_count": 4,
   "metadata": {},
   "outputs": [],
   "source": [
    "raster_providers = [RasterPatchProvider(f, normalize=True) for f in files]"
   ]
  },
  {
   "cell_type": "code",
   "execution_count": 5,
   "metadata": {},
   "outputs": [
    {
     "data": {
      "text/plain": [
       "[1, 1, 1, 1, 1, 1, 1, 1, 1, 1, 1, 1, 1, 1, 1, 1, 1, 1, 1]"
      ]
     },
     "execution_count": 5,
     "metadata": {},
     "output_type": "execute_result"
    }
   ],
   "source": [
    "[len(raster) for raster in raster_providers]"
   ]
  },
  {
   "cell_type": "code",
   "execution_count": 6,
   "metadata": {},
   "outputs": [
    {
     "data": {
      "text/plain": [
       "19"
      ]
     },
     "execution_count": 6,
     "metadata": {},
     "output_type": "execute_result"
    }
   ],
   "source": [
    "sum([len(raster) for raster in raster_providers])"
   ]
  },
  {
   "cell_type": "code",
   "execution_count": 10,
   "metadata": {},
   "outputs": [],
   "source": [
    "import itertools"
   ]
  },
  {
   "cell_type": "code",
   "execution_count": 14,
   "metadata": {},
   "outputs": [
    {
     "data": {
      "text/plain": [
       "['bio9',\n",
       " 'bio8',\n",
       " 'bio7',\n",
       " 'bio6',\n",
       " 'bio5',\n",
       " 'bio4',\n",
       " 'bio3',\n",
       " 'bio2',\n",
       " 'bio19',\n",
       " 'bio18',\n",
       " 'bio17',\n",
       " 'bio16',\n",
       " 'bio15',\n",
       " 'bio14',\n",
       " 'bio13',\n",
       " 'bio12',\n",
       " 'bio11',\n",
       " 'bio10',\n",
       " 'bio1']"
      ]
     },
     "execution_count": 14,
     "metadata": {},
     "output_type": "execute_result"
    }
   ],
   "source": [
    "list(itertools.chain.from_iterable([raster.band_names for raster in raster_providers]))"
   ]
  },
  {
   "cell_type": "code",
   "execution_count": 36,
   "metadata": {},
   "outputs": [
    {
     "data": {
      "text/plain": [
       "array([[[ 0.        ,  0.        ,  0.        , ...,  0.        ,\n",
       "          0.        ,  0.        ],\n",
       "        [ 0.        , -0.42757125, -0.42757125, ...,  0.        ,\n",
       "          0.        ,  0.        ],\n",
       "        [ 0.        , -0.42757125, -0.42757125, ...,  0.        ,\n",
       "          0.        ,  0.        ],\n",
       "        ...,\n",
       "        [ 0.        ,  0.        ,  0.        , ...,  0.        ,\n",
       "          0.        ,  0.        ],\n",
       "        [ 0.        ,  0.        ,  0.        , ...,  0.        ,\n",
       "          0.        ,  0.        ],\n",
       "        [ 0.        ,  0.        ,  0.        , ...,  0.        ,\n",
       "          0.        ,  0.        ]]])"
      ]
     },
     "execution_count": 36,
     "metadata": {},
     "output_type": "execute_result"
    }
   ],
   "source": [
    " self.rasters_providers = [RasterPatchProvider(rasters_folder+path, size=size, spatial_noise=spatial_noise, normalize=normalize, fill_zero_if_error=fill_zero_if_error) for path in rasters_paths]\n",
    "        self.nb_layers = sum([len(raster) for raster in self.rasters_providers])\n",
    "        self.bands_names = list(itertools.chain.from_iterable([raster.bands_names for raster in self.rasters_providers]))\n",
    "    "
   ]
  },
  {
   "cell_type": "code",
   "execution_count": 31,
   "metadata": {},
   "outputs": [
    {
     "data": {
      "text/plain": [
       "2.503515679188726"
      ]
     },
     "execution_count": 31,
     "metadata": {},
     "output_type": "execute_result"
    }
   ],
   "source": [
    "np.nanstd(data[i])"
   ]
  },
  {
   "cell_type": "code",
   "execution_count": 32,
   "metadata": {},
   "outputs": [
    {
     "data": {
      "text/plain": [
       "array([[        nan,         nan,         nan, ...,         nan,\n",
       "                nan,         nan],\n",
       "       [        nan, -0.42757125, -0.42757125, ...,         nan,\n",
       "                nan,         nan],\n",
       "       [        nan, -0.42757125, -0.42757125, ...,         nan,\n",
       "                nan,         nan],\n",
       "       ...,\n",
       "       [        nan,         nan,         nan, ...,         nan,\n",
       "                nan,         nan],\n",
       "       [        nan,         nan,         nan, ...,         nan,\n",
       "                nan,         nan],\n",
       "       [        nan,         nan,         nan, ...,         nan,\n",
       "                nan,         nan]])"
      ]
     },
     "execution_count": 32,
     "metadata": {},
     "output_type": "execute_result"
    }
   ],
   "source": [
    "i=0\n",
    "(data[i] - np.nanmean(data[i]))/np.nanstd(data[i])\n",
    "#self.data[i] = np.where(np.isnan(self.data[i]), nan_value, self.data[i])"
   ]
  },
  {
   "cell_type": "code",
   "execution_count": 27,
   "metadata": {},
   "outputs": [
    {
     "data": {
      "text/plain": [
       "array([[[0, 0, 0, ..., 0, 0, 0],\n",
       "        [0, 0, 0, ..., 0, 0, 0],\n",
       "        [0, 0, 0, ..., 0, 0, 0],\n",
       "        ...,\n",
       "        [0, 0, 0, ..., 0, 0, 0],\n",
       "        [0, 0, 0, ..., 0, 0, 0],\n",
       "        [0, 0, 0, ..., 0, 0, 0]]], dtype=uint8)"
      ]
     },
     "execution_count": 27,
     "metadata": {},
     "output_type": "execute_result"
    }
   ],
   "source": [
    "data"
   ]
  },
  {
   "cell_type": "code",
   "execution_count": 22,
   "metadata": {},
   "outputs": [
    {
     "data": {
      "text/plain": [
       "array([[127, 127, 127, ..., 127, 127, 127],\n",
       "       [127,   0,   0, ..., 127, 127, 127],\n",
       "       [127,   0,   0, ..., 127, 127, 127],\n",
       "       ...,\n",
       "       [127, 127, 127, ..., 127, 127, 127],\n",
       "       [127, 127, 127, ..., 127, 127, 127],\n",
       "       [127, 127, 127, ..., 127, 127, 127]], dtype=uint8)"
      ]
     },
     "execution_count": 22,
     "metadata": {},
     "output_type": "execute_result"
    }
   ],
   "source": [
    "data[0]"
   ]
  },
  {
   "cell_type": "code",
   "execution_count": null,
   "metadata": {},
   "outputs": [],
   "source": [
    "with rasterio.open(raster_path) as src:\n",
    "    meta = src.meta\n",
    "            self.meta.update(count=src.count)\n",
    "            self.data = src.read()\n",
    "            self.nodata_value = src.nodatavals\n",
    "\n",
    "            # iterate through all the layers\n",
    "            for i in range(src.count):\n",
    "                # replace the NoData values with np.nan\n",
    "                self.data = self.data.astype(np.float)\n",
    "                self.data[i] = np.where(self.data[i] == self.nodata_value[i], np.nan, self.data[i])\n",
    "                if normalize:\n",
    "                    self.data[i] = (self.data[i] - np.nanmean(self.data[i]))/np.nanstd(self.data[i])\n",
    "                self.data[i] = np.where(np.isnan(self.data[i]), nan_value, self.data[i])"
   ]
  },
  {
   "cell_type": "code",
   "execution_count": null,
   "metadata": {},
   "outputs": [],
   "source": [
    "with rasterio.open(raster_path) as src:\n",
    "            self.meta = src.meta\n",
    "            self.meta.update(count=src.count)\n",
    "            self.data = src.read()\n",
    "            self.nodata_value = src.nodatavals\n",
    "\n",
    "            # iterate through all the layers\n",
    "            for i in range(src.count):\n",
    "                # replace the NoData values with np.nan\n",
    "                self.data = self.data.astype(np.float)\n",
    "                self.data[i] = np.where(self.data[i] == self.nodata_value[i], np.nan, self.data[i])\n",
    "                if normalize:\n",
    "                    self.data[i] = (self.data[i] - np.nanmean(self.data[i]))/np.nanstd(self.data[i])\n",
    "                self.data[i] = np.where(np.isnan(self.data[i]), nan_value, self.data[i])\n",
    "\n",
    "        self.nb_layers = src.count\n",
    "        self.x_min = src.bounds.left\n",
    "        self.y_min = src.bounds.bottom\n",
    "        self.x_resolution = src.res[0]\n",
    "        self.y_resolution = src.res[1]\n",
    "        self.n_rows = src.height\n",
    "        self.n_cols = src.width\n",
    "        self.crs = src.crs\n",
    "        if self.nb_layers > 1:\n",
    "            self.bands_names = [self.name+'_'+str(i+1) for i in range(self.nb_layers)]\n",
    "        else:\n",
    "            self.bands_names = [self.name]\n",
    "        \n",
    "        self.epsg = self.crs.to_epsg()\n",
    "        if self.epsg != 4326:\n",
    "            # create a pyproj transformer object to convert lat, lon to EPSG:32738\n",
    "            self.transformer = pyproj.Transformer.from_crs(\"epsg:4326\", self.epsg, always_xy=True)\n",
    "\n"
   ]
  },
  {
   "cell_type": "code",
   "execution_count": 65,
   "metadata": {},
   "outputs": [],
   "source": [
    "from GLC23PatchesProviders import MultipleRasterPatchProvider, RasterPatchProvider, JpegPatchProvider"
   ]
  },
  {
   "cell_type": "code",
   "execution_count": 2,
   "metadata": {},
   "outputs": [
    {
     "data": {
      "text/plain": [
       "(4908319, 15)"
      ]
     },
     "execution_count": 2,
     "metadata": {},
     "output_type": "execute_result"
    }
   ],
   "source": [
    "po = pd.read_csv('data/full_data/Presence_only_occurrences/Presences_only_train.csv', sep=';')\n",
    "po.shape"
   ]
  },
  {
   "cell_type": "code",
   "execution_count": 10,
   "metadata": {},
   "outputs": [
    {
     "data": {
      "text/plain": [
       "array([2774863, 1043549, 3104839, ...,  844504,  346527,  713628])"
      ]
     },
     "execution_count": 10,
     "metadata": {},
     "output_type": "execute_result"
    }
   ],
   "source": [
    "observation_ids = po['glcID'].values\n",
    "observation_ids"
   ]
  },
  {
   "cell_type": "code",
   "execution_count": 11,
   "metadata": {},
   "outputs": [
    {
     "data": {
      "text/html": [
       "<div>\n",
       "<style scoped>\n",
       "    .dataframe tbody tr th:only-of-type {\n",
       "        vertical-align: middle;\n",
       "    }\n",
       "\n",
       "    .dataframe tbody tr th {\n",
       "        vertical-align: top;\n",
       "    }\n",
       "\n",
       "    .dataframe thead th {\n",
       "        text-align: right;\n",
       "    }\n",
       "</style>\n",
       "<table border=\"1\" class=\"dataframe\">\n",
       "  <thead>\n",
       "    <tr style=\"text-align: right;\">\n",
       "      <th></th>\n",
       "      <th>lat</th>\n",
       "      <th>lon</th>\n",
       "      <th>patchID</th>\n",
       "    </tr>\n",
       "  </thead>\n",
       "  <tbody>\n",
       "    <tr>\n",
       "      <th>0</th>\n",
       "      <td>51.77186</td>\n",
       "      <td>-10.53904</td>\n",
       "      <td>3018869</td>\n",
       "    </tr>\n",
       "    <tr>\n",
       "      <th>1</th>\n",
       "      <td>51.77226</td>\n",
       "      <td>-10.53875</td>\n",
       "      <td>3018870</td>\n",
       "    </tr>\n",
       "    <tr>\n",
       "      <th>2</th>\n",
       "      <td>52.11013</td>\n",
       "      <td>-10.47597</td>\n",
       "      <td>3018871</td>\n",
       "    </tr>\n",
       "    <tr>\n",
       "      <th>3</th>\n",
       "      <td>52.15074</td>\n",
       "      <td>-10.47555</td>\n",
       "      <td>3018872</td>\n",
       "    </tr>\n",
       "    <tr>\n",
       "      <th>4</th>\n",
       "      <td>52.10978</td>\n",
       "      <td>-10.47497</td>\n",
       "      <td>3018873</td>\n",
       "    </tr>\n",
       "    <tr>\n",
       "      <th>...</th>\n",
       "      <td>...</td>\n",
       "      <td>...</td>\n",
       "      <td>...</td>\n",
       "    </tr>\n",
       "    <tr>\n",
       "      <th>4908314</th>\n",
       "      <td>35.64241</td>\n",
       "      <td>34.54567</td>\n",
       "      <td>7000525</td>\n",
       "    </tr>\n",
       "    <tr>\n",
       "      <th>4908315</th>\n",
       "      <td>35.64243</td>\n",
       "      <td>34.54568</td>\n",
       "      <td>7000526</td>\n",
       "    </tr>\n",
       "    <tr>\n",
       "      <th>4908316</th>\n",
       "      <td>35.64514</td>\n",
       "      <td>34.55360</td>\n",
       "      <td>7000527</td>\n",
       "    </tr>\n",
       "    <tr>\n",
       "      <th>4908317</th>\n",
       "      <td>35.64499</td>\n",
       "      <td>34.55388</td>\n",
       "      <td>7000528</td>\n",
       "    </tr>\n",
       "    <tr>\n",
       "      <th>4908318</th>\n",
       "      <td>35.64384</td>\n",
       "      <td>34.55792</td>\n",
       "      <td>7000529</td>\n",
       "    </tr>\n",
       "  </tbody>\n",
       "</table>\n",
       "<p>4908319 rows × 3 columns</p>\n",
       "</div>"
      ],
      "text/plain": [
       "              lat       lon  patchID\n",
       "0        51.77186 -10.53904  3018869\n",
       "1        51.77226 -10.53875  3018870\n",
       "2        52.11013 -10.47597  3018871\n",
       "3        52.15074 -10.47555  3018872\n",
       "4        52.10978 -10.47497  3018873\n",
       "...           ...       ...      ...\n",
       "4908314  35.64241  34.54567  7000525\n",
       "4908315  35.64243  34.54568  7000526\n",
       "4908316  35.64514  34.55360  7000527\n",
       "4908317  35.64499  34.55388  7000528\n",
       "4908318  35.64384  34.55792  7000529\n",
       "\n",
       "[4908319 rows x 3 columns]"
      ]
     },
     "execution_count": 11,
     "metadata": {},
     "output_type": "execute_result"
    }
   ],
   "source": [
    "items = po[['lat', 'lon', 'patchID']]\n",
    "items"
   ]
  },
  {
   "cell_type": "code",
   "execution_count": 12,
   "metadata": {},
   "outputs": [
    {
     "data": {
      "text/plain": [
       "array([8075, 8075, 6477, ..., 1088,  982, 9395])"
      ]
     },
     "execution_count": 12,
     "metadata": {},
     "output_type": "execute_result"
    }
   ],
   "source": [
    "targets = po['speciesId'].values\n",
    "targets"
   ]
  },
  {
   "cell_type": "code",
   "execution_count": 64,
   "metadata": {},
   "outputs": [],
   "source": [
    "data_path = 'data/sample_data/'\n",
    "patch_rasters_folder_paths = [\n",
    "    data_path+'EnvironmentalRasters/Climate/BioClimatic_Average_1981-2010/',\n",
    "    data_path+'EnvironmentalRasters/HumanFootprint/detailed/'\n",
    "]"
   ]
  },
  {
   "cell_type": "code",
   "execution_count": null,
   "metadata": {},
   "outputs": [],
   "source": [
    "def get_rasters_data(rasters_folder):\n",
    "    files = os.listdir(rasters_folder)\n",
    "    rasters_paths = [rasters_folder + f for f in files if f.endswith('.tif')]\n",
    "    data = [get_raster_data(p) for p in rasters_paths]"
   ]
  },
  {
   "cell_type": "code",
   "execution_count": null,
   "metadata": {},
   "outputs": [],
   "source": [
    "def get_raster_data(raster_path, normalize = True, nan_value=0):\n",
    "    name = os.path.basename(os.path.splitext(raster_path)[0])\n"
   ]
  },
  {
   "cell_type": "code",
   "execution_count": 51,
   "metadata": {},
   "outputs": [
    {
     "name": "stderr",
     "output_type": "stream",
     "text": [
      "/tmp/ipykernel_479196/399059852.py:13: DeprecationWarning: `np.float` is a deprecated alias for the builtin `float`. To silence this warning, use `float` by itself. Doing this will not modify any behavior and is safe. If you specifically wanted the numpy scalar type, use `np.float64` here.\n",
      "Deprecated in NumPy 1.20; for more details and guidance: https://numpy.org/devdocs/release/1.20.0-notes.html#deprecations\n",
      "  data = data.astype(np.float)\n"
     ]
    }
   ],
   "source": [
    "\n",
    "\n",
    "with rasterio.open(raster_path) as src:\n",
    "    meta = src.meta\n",
    "    meta.update(count=src.count)\n",
    "    data = src.read()\n",
    "    nodata_value = src.nodatavals\n",
    "\n",
    "    # iterate through all the layers\n",
    "    for i in range(src.count):\n",
    "        # replace the NoData values with np.nan\n",
    "            data = data.astype(np.float)\n",
    "            data[i] = np.where(data[i] == nodata_value[i], np.nan, data[i])\n",
    "            if normalize:\n",
    "                data[i] = (data[i] - np.nanmean(data[i]))/np.nanstd(data[i])\n",
    "            data[i] = np.where(np.isnan(data[i]), nan_value, data[i])\n",
    "\n",
    "    nb_layers = src.count\n",
    "\n",
    "    x_min = src.bounds.left\n",
    "    y_min = src.bounds.bottom\n",
    "    x_resolution = src.res[0]\n",
    "    y_resolution = src.res[1]\n",
    "    n_rows = src.height\n",
    "    n_cols = src.width\n",
    "    crs = src.crs\n",
    "    if nb_layers > 1:\n",
    "        bands_names = [name+'_'+str(i+1) for i in range(nb_layers)]\n",
    "    else:\n",
    "        bands_names = [name]\n",
    "        \n",
    "    epsg = crs.to_epsg()\n",
    "    if epsg != 4326:\n",
    "        # create a pyproj transformer object to convert lat, lon to EPSG:32738\n",
    "        transformer = pyproj.Transformer.from_crs(\"epsg:4326\", epsg, always_xy=True)\n",
    "\n"
   ]
  },
  {
   "cell_type": "code",
   "execution_count": 59,
   "metadata": {},
   "outputs": [
    {
     "data": {
      "text/plain": [
       "tensor([[[-29.6831, -29.6831, -29.6831,  ..., -29.6831, -29.6831, -29.6831],\n",
       "         [ -3.7617,  -3.7617,  -3.7617,  ...,  -0.9826,  -0.9826, -29.6831],\n",
       "         [ -3.7617,  -3.7617,  -3.7617,  ...,  -0.9826,  -0.9826, -29.6831],\n",
       "         ...,\n",
       "         [  1.1593,   1.1593,   1.1593,  ...,   1.4936,   1.4936, -29.6831],\n",
       "         [  1.1593,   1.1593,   1.1593,  ...,   1.4936,   1.4936, -29.6831],\n",
       "         [-29.6831, -29.6831, -29.6831,  ..., -29.6831, -29.6831, -29.6831]]])"
      ]
     },
     "execution_count": 59,
     "metadata": {},
     "output_type": "execute_result"
    }
   ],
   "source": [
    "torch.tensor(data, dtype=torch.float32)\n"
   ]
  },
  {
   "cell_type": "code",
   "execution_count": 36,
   "metadata": {},
   "outputs": [
    {
     "data": {
      "text/plain": [
       "(1, 5467, 8143)"
      ]
     },
     "execution_count": 36,
     "metadata": {},
     "output_type": "execute_result"
    }
   ],
   "source": []
  },
  {
   "cell_type": "code",
   "execution_count": null,
   "metadata": {},
   "outputs": [],
   "source": [
    "class RasterPatchProvider(PatchProvider):\n",
    "    def __init__(self, raster_path, size=128, spatial_noise=0, normalize=True, fill_zero_if_error=False, nan_value=0):\n",
    "        super().__init__(size, normalize)\n",
    "        self.spatial_noise = spatial_noise\n",
    "        self.fill_zero_if_error = fill_zero_if_error\n",
    "        self.transformer = None\n",
    "        self.name = os.path.basename(os.path.splitext(raster_path)[0])\n",
    "        self.normalize = normalize\n",
    "\n",
    "        # open the tif file with rasterio\n",
    "        with rasterio.open(raster_path) as src:\n",
    "            # read the metadata of the file\n",
    "            meta = src.meta\n",
    "            meta.update(count=src.count) # update the count of the meta to match the number of layers\n",
    "\n",
    "            # read the data from the raster\n",
    "            self.data = src.read()\n",
    "\n",
    "            # get the NoData value from the raster\n",
    "            self.nodata_value = src.nodatavals\n",
    "\n",
    "            # iterate through all the layers\n",
    "            for i in range(src.count):\n",
    "                # replace the NoData values with np.nan\n",
    "                self.data = self.data.astype(np.float)\n",
    "                self.data[i] = np.where(self.data[i] == self.nodata_value[i], np.nan, self.data[i])\n",
    "                if self.normalize:\n",
    "                    self.data[i] = (self.data[i] - np.nanmean(self.data[i]))/np.nanstd(self.data[i])\n",
    "                self.data[i] = np.where(np.isnan(self.data[i]), nan_value, self.data[i])\n",
    "            \n",
    "            self.nb_layers = src.count\n",
    "\n",
    "            self.x_min = src.bounds.left\n",
    "            self.y_min = src.bounds.bottom\n",
    "            self.x_resolution = src.res[0]\n",
    "            self.y_resolution = src.res[1]\n",
    "            self.n_rows = src.height\n",
    "            self.n_cols = src.width\n",
    "            self.crs = src.crs\n",
    "        if self.nb_layers > 1:\n",
    "            self.bands_names = [self.name+'_'+str(i+1) for i in range(self.nb_layers)]\n",
    "        else:\n",
    "            self.bands_names = [self.name]\n",
    "        \n",
    "        self.epsg = self.crs.to_epsg()\n",
    "        if self.epsg != 4326:\n",
    "            # create a pyproj transformer object to convert lat, lon to EPSG:32738\n",
    "            self.transformer = pyproj.Transformer.from_crs(\"epsg:4326\", self.epsg, always_xy=True)\n",
    "\n"
   ]
  },
  {
   "cell_type": "code",
   "execution_count": null,
   "metadata": {},
   "outputs": [],
   "source": [
    "self.rasters_providers = [RasterPatchProvider(rasters_folder+path, size=size, spatial_noise=spatial_noise, normalize=normalize, fill_zero_if_error=fill_zero_if_error) for path in rasters_paths]"
   ]
  },
  {
   "cell_type": "code",
   "execution_count": null,
   "metadata": {},
   "outputs": [],
   "source": [
    "p_bioclim = MultipleRasterPatchProvider(data_path+'EnvironmentalRasters/Climate/BioClimatic_Average_1981-2010/') # take all bioclimatic rasters (3: bio1, 2, 11)\n",
    "\n",
    "\n",
    "class MultipleRasterPatchProvider(PatchProvider):\n",
    "    def __init__(self, rasters_folder, select=None, size=128, spatial_noise=0, normalize=True, fill_zero_if_error=False):\n",
    "        files = os.listdir(rasters_folder)\n",
    "        # Filter files to include only those with .tif extension\n",
    "        #rasters_paths = [f for f in files if f.endswith('.tif')]\n",
    "        #if select:\n",
    "        #    select = [r+'.tif' for r in select]\n",
    "        #    rasters_paths = [r for r in rasters_paths if r in select]\n",
    "        if select:\n",
    "            rasters_paths = [r+'.tif' for r in select]\n",
    "        else:\n",
    "            rasters_paths = [f for f in files if f.endswith('.tif')]\n",
    "        self.rasters_providers = [RasterPatchProvider(rasters_folder+path, size=size, spatial_noise=spatial_noise, normalize=normalize, fill_zero_if_error=fill_zero_if_error) for path in rasters_paths]\n",
    "        self.nb_layers = sum([len(raster) for raster in self.rasters_providers])\n",
    "        self.bands_names = list(itertools.chain.from_iterable([raster.bands_names for raster in self.rasters_providers]))\n",
    "    \n",
    "    def __getitem__(self, item):\n",
    "        return np.concatenate([raster[item] for raster in self.rasters_providers])\n",
    "    \n",
    "    def __str__(self):\n",
    "        result = 'Rasters in folder:\\n'\n",
    "        for raster in self.rasters_providers:\n",
    "            result += str(raster)\n",
    "            result += '\\n'\n",
    "        return result"
   ]
  },
  {
   "cell_type": "code",
   "execution_count": null,
   "metadata": {},
   "outputs": [],
   "source": [
    "p_rgb = JpegPatchProvider(data_path+'SatelliteImages/')#, dataset_stats='jpeg_patches_sample_stats.csv') # take all sentinel imagery layer (4: r,g,b,nir)"
   ]
  },
  {
   "cell_type": "code",
   "execution_count": 20,
   "metadata": {},
   "outputs": [
    {
     "data": {
      "text/plain": [
       "{'lat': 51.77186, 'lon': -10.53904, 'patchID': 3018869.0}"
      ]
     },
     "execution_count": 20,
     "metadata": {},
     "output_type": "execute_result"
    }
   ],
   "source": [
    "index = 0\n",
    "item = items.iloc[index].to_dict()\n",
    "item"
   ]
  },
  {
   "cell_type": "code",
   "execution_count": null,
   "metadata": {},
   "outputs": [],
   "source": [
    "patch ="
   ]
  },
  {
   "cell_type": "code",
   "execution_count": null,
   "metadata": {},
   "outputs": [],
   "source": [
    "item = self.items.iloc[index].to_dict()\n",
    "\n",
    "        patch = self.provider[item]\n",
    "\n",
    "        target = self.targets[index]\n",
    "\n",
    "        if self.target_transform:\n",
    "            target = self.target_transform(target)\n",
    "\n",
    "        return torch.from_numpy(patch).float().to(device), target"
   ]
  },
  {
   "cell_type": "code",
   "execution_count": 4,
   "metadata": {},
   "outputs": [
    {
     "data": {
      "text/plain": [
       "(85325, 15)"
      ]
     },
     "execution_count": 4,
     "metadata": {},
     "output_type": "execute_result"
    }
   ],
   "source": [
    "pa = pd.read_csv('data/full_data/Presence_Absence_surveys/Presences_Absences_train.csv', sep=';')\n",
    "pa.shape"
   ]
  },
  {
   "cell_type": "code",
   "execution_count": 5,
   "metadata": {},
   "outputs": [],
   "source": [
    "from data.GLC23PatchesProviders import MultipleRasterPatchProvider, RasterPatchProvider, JpegPatchProvider\n",
    "from data.GLC23Datasets import PatchesDataset, PatchesDatasetMultiLabel"
   ]
  },
  {
   "cell_type": "code",
   "execution_count": 6,
   "metadata": {},
   "outputs": [],
   "source": [
    "data_path = 'data/full_data/' # root path of the data\n",
    "# configure providers\n",
    "p_hfp_d = MultipleRasterPatchProvider(data_path+'EnvironmentalRasters/HumanFootprint/detailed/') # take all rasters from human footprint detailed (2 rasters here)\n",
    "p_bioclim = MultipleRasterPatchProvider(data_path+'EnvironmentalRasters/Climate/BioClimatic_Average_1981-2010/', select=['bio1', 'bio2']) # take only bio1 and bio2 from bioclimatic rasters (2 rasters from the 3 in the folder)\n",
    "p_hfp_s = RasterPatchProvider(data_path+'EnvironmentalRasters/HumanFootprint/summarized/HFP2009_WGS84.tif') # take the human footprint 2009 summurized raster (a single raster)\n",
    "p_rgb = JpegPatchProvider(data_path+'SatelliteImages/') # take all sentinel imagery layers (r,g,b,nir = 4 layers)"
   ]
  },
  {
   "cell_type": "code",
   "execution_count": 7,
   "metadata": {},
   "outputs": [],
   "source": [
    "# create dataset\n",
    "dataset = PatchesDataset(\n",
    "    occurrences=data_path+'Presence_only_occurrences/Presences_only_train.csv',\n",
    "    providers=(p_hfp_d, p_bioclim, p_hfp_s, p_rgb))"
   ]
  },
  {
   "cell_type": "code",
   "execution_count": 8,
   "metadata": {},
   "outputs": [
    {
     "data": {
      "text/plain": [
       "4908319"
      ]
     },
     "execution_count": 8,
     "metadata": {},
     "output_type": "execute_result"
    }
   ],
   "source": [
    "len(dataset)"
   ]
  }
 ],
 "metadata": {
  "kernelspec": {
   "display_name": "glc23",
   "language": "python",
   "name": "python3"
  },
  "language_info": {
   "codemirror_mode": {
    "name": "ipython",
    "version": 3
   },
   "file_extension": ".py",
   "mimetype": "text/x-python",
   "name": "python",
   "nbconvert_exporter": "python",
   "pygments_lexer": "ipython3",
   "version": "3.9.16"
  },
  "orig_nbformat": 4
 },
 "nbformat": 4,
 "nbformat_minor": 2
}
