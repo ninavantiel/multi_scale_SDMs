{
 "cells": [
  {
   "cell_type": "code",
   "execution_count": 1,
   "metadata": {},
   "outputs": [],
   "source": [
    "from train_model import *"
   ]
  },
  {
   "cell_type": "code",
   "execution_count": 29,
   "metadata": {},
   "outputs": [],
   "source": [
    "from sklearn.metrics import f1_score, roc_auc_score\n",
    "import seaborn as sns\n",
    "import matplotlib.pyplot as plt"
   ]
  },
  {
   "cell_type": "code",
   "execution_count": 3,
   "metadata": {},
   "outputs": [],
   "source": [
    "run_name = '0702_env_1'\n",
    "model_to_load='last'"
   ]
  },
  {
   "cell_type": "code",
   "execution_count": 4,
   "metadata": {},
   "outputs": [],
   "source": [
    "path_to_config = f\"{modeldir}{run_name}/config.json\"\n",
    "with open(path_to_config, \"r\") as f: config = json.load(f)\n",
    "config = {k: v if v != \"\" else None for k,v in config.items()}\n",
    "log_wandb = config['log_wandb']\n",
    "wandb_project = config['wandb_project']\n",
    "wandb_id = config['wandb_id']\n",
    "env_model = config['env_model']\n",
    "sat_model = config['sat_model']\n",
    "dataset = config['dataset']\n",
    "random_bg = config['random_bg']\n",
    "embed_shape = config['embed_shape']\n",
    "loss = config['loss']\n",
    "lambda2 = config['lambda2']\n",
    "n_epochs = config['n_epochs']\n",
    "batch_size = config['batch_size']\n",
    "learning_rate = config['learning_rate']\n",
    "weight_decay = config['weight_decay']\n",
    "num_workers_train = config['num_workers_train']\n",
    "num_workers_val = config['num_workers_val']\n",
    "seed = config['seed']"
   ]
  },
  {
   "cell_type": "code",
   "execution_count": 5,
   "metadata": {},
   "outputs": [
    {
     "name": "stdout",
     "output_type": "stream",
     "text": [
      "DEVICE: cuda\n"
     ]
    }
   ],
   "source": [
    "dev = torch.device(\"cuda\" if torch.cuda.is_available() else \"cpu\")\n",
    "print(f\"DEVICE: {dev}\")"
   ]
  },
  {
   "cell_type": "code",
   "execution_count": 6,
   "metadata": {},
   "outputs": [
    {
     "name": "stdout",
     "output_type": "stream",
     "text": [
      "\n",
      "Making patch providers with size=1x1, flatten=False for covariates:\n",
      "\t - data/GLC23/EnvironmentalRasters/Climate/BioClimatic_Average_1981-2010/\n",
      "\n",
      "Making dataset for training occurrences\n",
      "nb items = 2856818\n",
      "input shape: [(19, 1, 1)]\n",
      "\n",
      "Making dataset for validation occurrences\n",
      "nb items = 7438\n",
      "\n",
      "Making model\n"
     ]
    }
   ],
   "source": [
    "train_data, val_data, model, optimizer, multimodal, autoencoder = setup_model(\n",
    "    env_model=env_model,\n",
    "    sat_model=sat_model,\n",
    "    dataset=dataset,\n",
    "    random_bg=random_bg,\n",
    "    embed_shape=embed_shape, \n",
    "    learning_rate=learning_rate, \n",
    "    weight_decay=weight_decay,\n",
    "    seed=seed) "
   ]
  },
  {
   "cell_type": "code",
   "execution_count": 7,
   "metadata": {},
   "outputs": [
    {
     "data": {
      "text/plain": [
       "<All keys matched successfully>"
      ]
     },
     "execution_count": 7,
     "metadata": {},
     "output_type": "execute_result"
    }
   ],
   "source": [
    "checkpoint = torch.load(f\"{modeldir}{run_name}/best_val_auc.pth\")\n",
    "model = model.to(dev)\n",
    "model.load_state_dict(checkpoint['state_dict'])"
   ]
  },
  {
   "cell_type": "code",
   "execution_count": 8,
   "metadata": {},
   "outputs": [
    {
     "name": "stderr",
     "output_type": "stream",
     "text": [
      "100%|██████████| 30/30 [01:22<00:00,  2.76s/it]\n"
     ]
    }
   ],
   "source": [
    "val_loader = torch.utils.data.DataLoader(val_data, shuffle=False, batch_size=batch_size, num_workers=num_workers_val)\n",
    "model.eval()\n",
    "labels_list, y_pred_list = [], []\n",
    "for inputs, _, labels in tqdm(val_loader):\n",
    "    labels = labels.to(torch.float32).to(dev) \n",
    "    labels_list.append(labels.cpu().detach().numpy())\n",
    "\n",
    "    inputs = inputs[0].to(torch.float32).to(dev)\n",
    "    y_pred = torch.sigmoid(model(inputs))\n",
    "\n",
    "    y_pred_list.append(y_pred.cpu().detach().numpy())\n",
    "\n",
    "labels = np.concatenate(labels_list)\n",
    "y_pred = np.concatenate(y_pred_list)"
   ]
  },
  {
   "cell_type": "code",
   "execution_count": 9,
   "metadata": {},
   "outputs": [],
   "source": [
    "val_threshold = 0.5\n",
    "y_bin = np.where(y_pred > val_threshold, 1, 0)"
   ]
  },
  {
   "cell_type": "code",
   "execution_count": 12,
   "metadata": {},
   "outputs": [
    {
     "data": {
      "text/plain": [
       "(7438, 2174)"
      ]
     },
     "execution_count": 12,
     "metadata": {},
     "output_type": "execute_result"
    }
   ],
   "source": [
    "labels.shape"
   ]
  },
  {
   "cell_type": "code",
   "execution_count": 20,
   "metadata": {},
   "outputs": [],
   "source": [
    "site_f1 = []\n",
    "for i in range(labels.shape[0]):\n",
    "    site_f1.append(f1_score(labels[i,:], y_bin[i,:]))#, average='macro', zero_division=0)"
   ]
  },
  {
   "cell_type": "code",
   "execution_count": 43,
   "metadata": {},
   "outputs": [
    {
     "data": {
      "text/html": [
       "<div>\n",
       "<style scoped>\n",
       "    .dataframe tbody tr th:only-of-type {\n",
       "        vertical-align: middle;\n",
       "    }\n",
       "\n",
       "    .dataframe tbody tr th {\n",
       "        vertical-align: top;\n",
       "    }\n",
       "\n",
       "    .dataframe thead th {\n",
       "        text-align: right;\n",
       "    }\n",
       "</style>\n",
       "<table border=\"1\" class=\"dataframe\">\n",
       "  <thead>\n",
       "    <tr style=\"text-align: right;\">\n",
       "      <th></th>\n",
       "      <th>lat</th>\n",
       "      <th>lon</th>\n",
       "      <th>patchID</th>\n",
       "      <th>dayOfYear</th>\n",
       "      <th>speciesId</th>\n",
       "      <th>n_species</th>\n",
       "      <th>F1</th>\n",
       "    </tr>\n",
       "  </thead>\n",
       "  <tbody>\n",
       "    <tr>\n",
       "      <th>0</th>\n",
       "      <td>41.566910</td>\n",
       "      <td>9.298340</td>\n",
       "      <td>3018847</td>\n",
       "      <td>351</td>\n",
       "      <td>[271, 4062, 644, 6510, 4190, 8994, 5727, 3800,...</td>\n",
       "      <td>19</td>\n",
       "      <td>0.045283</td>\n",
       "    </tr>\n",
       "    <tr>\n",
       "      <th>1</th>\n",
       "      <td>41.641550</td>\n",
       "      <td>9.259160</td>\n",
       "      <td>3018834</td>\n",
       "      <td>351</td>\n",
       "      <td>[271, 2871, 799, 6510, 9509, 8994, 9139, 3384,...</td>\n",
       "      <td>14</td>\n",
       "      <td>0.050817</td>\n",
       "    </tr>\n",
       "    <tr>\n",
       "      <th>2</th>\n",
       "      <td>41.664130</td>\n",
       "      <td>9.189780</td>\n",
       "      <td>3018819</td>\n",
       "      <td>348</td>\n",
       "      <td>[9330, 5959, 9679, 9011, 8994, 8766, 1913, 481...</td>\n",
       "      <td>27</td>\n",
       "      <td>0.046931</td>\n",
       "    </tr>\n",
       "    <tr>\n",
       "      <th>3</th>\n",
       "      <td>41.665690</td>\n",
       "      <td>9.165940</td>\n",
       "      <td>3018812</td>\n",
       "      <td>23</td>\n",
       "      <td>[271, 2749, 615, 5959, 9679, 6354, 8994, 6353,...</td>\n",
       "      <td>16</td>\n",
       "      <td>0.044944</td>\n",
       "    </tr>\n",
       "    <tr>\n",
       "      <th>4</th>\n",
       "      <td>41.670930</td>\n",
       "      <td>9.358710</td>\n",
       "      <td>3018853</td>\n",
       "      <td>346</td>\n",
       "      <td>[271, 4062, 4904, 799, 6510, 4190, 3649, 8994,...</td>\n",
       "      <td>17</td>\n",
       "      <td>0.058932</td>\n",
       "    </tr>\n",
       "    <tr>\n",
       "      <th>...</th>\n",
       "      <td>...</td>\n",
       "      <td>...</td>\n",
       "      <td>...</td>\n",
       "      <td>...</td>\n",
       "      <td>...</td>\n",
       "      <td>...</td>\n",
       "      <td>...</td>\n",
       "    </tr>\n",
       "    <tr>\n",
       "      <th>7433</th>\n",
       "      <td>58.581781</td>\n",
       "      <td>-4.044330</td>\n",
       "      <td>3001017</td>\n",
       "      <td>162</td>\n",
       "      <td>[9737]</td>\n",
       "      <td>1</td>\n",
       "      <td>0.000000</td>\n",
       "    </tr>\n",
       "    <tr>\n",
       "      <th>7434</th>\n",
       "      <td>58.581813</td>\n",
       "      <td>-4.044289</td>\n",
       "      <td>3001018</td>\n",
       "      <td>162</td>\n",
       "      <td>[7904]</td>\n",
       "      <td>1</td>\n",
       "      <td>0.008475</td>\n",
       "    </tr>\n",
       "    <tr>\n",
       "      <th>7435</th>\n",
       "      <td>58.582075</td>\n",
       "      <td>-4.042799</td>\n",
       "      <td>3001019</td>\n",
       "      <td>146</td>\n",
       "      <td>[7717]</td>\n",
       "      <td>1</td>\n",
       "      <td>0.008475</td>\n",
       "    </tr>\n",
       "    <tr>\n",
       "      <th>7436</th>\n",
       "      <td>58.582080</td>\n",
       "      <td>-4.042799</td>\n",
       "      <td>3001019</td>\n",
       "      <td>146</td>\n",
       "      <td>[6216, 8999, 8752, 8390]</td>\n",
       "      <td>4</td>\n",
       "      <td>0.025105</td>\n",
       "    </tr>\n",
       "    <tr>\n",
       "      <th>7437</th>\n",
       "      <td>58.582507</td>\n",
       "      <td>-4.032503</td>\n",
       "      <td>3001051</td>\n",
       "      <td>162</td>\n",
       "      <td>[5783, 8999]</td>\n",
       "      <td>2</td>\n",
       "      <td>0.017778</td>\n",
       "    </tr>\n",
       "  </tbody>\n",
       "</table>\n",
       "<p>7438 rows × 7 columns</p>\n",
       "</div>"
      ],
      "text/plain": [
       "            lat       lon  patchID  dayOfYear  \\\n",
       "0     41.566910  9.298340  3018847        351   \n",
       "1     41.641550  9.259160  3018834        351   \n",
       "2     41.664130  9.189780  3018819        348   \n",
       "3     41.665690  9.165940  3018812         23   \n",
       "4     41.670930  9.358710  3018853        346   \n",
       "...         ...       ...      ...        ...   \n",
       "7433  58.581781 -4.044330  3001017        162   \n",
       "7434  58.581813 -4.044289  3001018        162   \n",
       "7435  58.582075 -4.042799  3001019        146   \n",
       "7436  58.582080 -4.042799  3001019        146   \n",
       "7437  58.582507 -4.032503  3001051        162   \n",
       "\n",
       "                                              speciesId  n_species        F1  \n",
       "0     [271, 4062, 644, 6510, 4190, 8994, 5727, 3800,...         19  0.045283  \n",
       "1     [271, 2871, 799, 6510, 9509, 8994, 9139, 3384,...         14  0.050817  \n",
       "2     [9330, 5959, 9679, 9011, 8994, 8766, 1913, 481...         27  0.046931  \n",
       "3     [271, 2749, 615, 5959, 9679, 6354, 8994, 6353,...         16  0.044944  \n",
       "4     [271, 4062, 4904, 799, 6510, 4190, 3649, 8994,...         17  0.058932  \n",
       "...                                                 ...        ...       ...  \n",
       "7433                                             [9737]          1  0.000000  \n",
       "7434                                             [7904]          1  0.008475  \n",
       "7435                                             [7717]          1  0.008475  \n",
       "7436                           [6216, 8999, 8752, 8390]          4  0.025105  \n",
       "7437                                       [5783, 8999]          2  0.017778  \n",
       "\n",
       "[7438 rows x 7 columns]"
      ]
     },
     "execution_count": 43,
     "metadata": {},
     "output_type": "execute_result"
    }
   ],
   "source": [
    "val_df = val_data.items.copy()\n",
    "val_df['n_species'] = val_df.speciesId.apply(lambda x: len(x))\n",
    "val_df['F1'] = site_f1 \n",
    "val_df"
   ]
  },
  {
   "cell_type": "code",
   "execution_count": 44,
   "metadata": {},
   "outputs": [
    {
     "data": {
      "text/plain": [
       "0       19\n",
       "1       14\n",
       "2       27\n",
       "3       16\n",
       "4       17\n",
       "        ..\n",
       "7433     1\n",
       "7434     1\n",
       "7435     1\n",
       "7436     4\n",
       "7437     2\n",
       "Name: speciesId, Length: 7438, dtype: int64"
      ]
     },
     "execution_count": 44,
     "metadata": {},
     "output_type": "execute_result"
    }
   ],
   "source": [
    "val_df.speciesId.apply(lambda x: len(x))"
   ]
  },
  {
   "cell_type": "code",
   "execution_count": 45,
   "metadata": {},
   "outputs": [
    {
     "data": {
      "text/plain": [
       "<AxesSubplot: xlabel='n_species', ylabel='F1'>"
      ]
     },
     "execution_count": 45,
     "metadata": {},
     "output_type": "execute_result"
    },
    {
     "data": {
      "image/png": "[encoded data removed]",
      "text/plain": [
       "<Figure size 640x480 with 1 Axes>"
      ]
     },
     "metadata": {},
     "output_type": "display_data"
    }
   ],
   "source": [
    "sns.regplot(val_df, x='n_species',y='F1',scatter_kws={'s':3},line_kws={'color':'black'})"
   ]
  },
  {
   "cell_type": "code",
   "execution_count": 46,
   "metadata": {},
   "outputs": [
    {
     "data": {
      "text/plain": [
       "0.05    0.003774\n",
       "0.95    0.074231\n",
       "Name: F1, dtype: float64"
      ]
     },
     "execution_count": 46,
     "metadata": {},
     "output_type": "execute_result"
    }
   ],
   "source": [
    "val_df['F1'].quantile([0.05,0.95])"
   ]
  },
  {
   "cell_type": "code",
   "execution_count": 48,
   "metadata": {},
   "outputs": [
    {
     "data": {
      "text/plain": [
       "<AxesSubplot: xlabel='lon', ylabel='lat'>"
      ]
     },
     "execution_count": 48,
     "metadata": {},
     "output_type": "execute_result"
    },
    {
     "data": {
      "image/png": "[encoded data removed]",
      "text/plain": [
       "<Figure size 640x480 with 1 Axes>"
      ]
     },
     "metadata": {},
     "output_type": "display_data"
    }
   ],
   "source": [
    "sns.scatterplot(val_df, x='lon',y='lat', hue='F1', s=3, hue_norm=(0.01,0.1))"
   ]
  },
  {
   "cell_type": "code",
   "execution_count": 40,
   "metadata": {},
   "outputs": [
    {
     "data": {
      "text/plain": [
       "tensor(0.8169, dtype=torch.float64)"
      ]
     },
     "execution_count": 40,
     "metadata": {},
     "output_type": "execute_result"
    }
   ],
   "source": [
    "y_pred_torch = torch.from_numpy(y_pred.T)\n",
    "labels_torch = torch.from_numpy(labels.T)\n",
    "auc_list = binary_auroc(y_pred_torch, labels_torch, num_tasks=labels_torch.shape[0])\n",
    "auc_list.median()"
   ]
  },
  {
   "cell_type": "code",
   "execution_count": null,
   "metadata": {},
   "outputs": [
    {
     "data": {
      "text/plain": [
       "tensor(0.8363, dtype=torch.float64)"
      ]
     },
     "execution_count": 10,
     "metadata": {},
     "output_type": "execute_result"
    }
   ],
   "source": [
    "y_pred_torch = torch.from_numpy(y_pred)\n",
    "labels_torch = torch.from_numpy(labels)\n",
    "auc_list = binary_auroc(y_pred_torch, labels_torch, num_tasks=labels_torch.shape[0])\n",
    "auc_list.median()"
   ]
  },
  {
   "cell_type": "code",
   "execution_count": 93,
   "metadata": {},
   "outputs": [],
   "source": [
    "from sklearn.metrics import f1_score"
   ]
  },
  {
   "cell_type": "code",
   "execution_count": 111,
   "metadata": {},
   "outputs": [
    {
     "data": {
      "text/plain": [
       "0.03211464173417807"
      ]
     },
     "execution_count": 111,
     "metadata": {},
     "output_type": "execute_result"
    }
   ],
   "source": [
    "y_bin = np.where(y_pred > 0.5, 1, 0)\n",
    "val_f1 = f1_score(labels.T, y_bin.T, average='macro', zero_division=0)\n",
    "val_f1"
   ]
  },
  {
   "cell_type": "code",
   "execution_count": 113,
   "metadata": {},
   "outputs": [
    {
     "data": {
      "text/plain": [
       "tensor(0.8169, dtype=torch.float64)"
      ]
     },
     "execution_count": 113,
     "metadata": {},
     "output_type": "execute_result"
    }
   ],
   "source": []
  },
  {
   "cell_type": "code",
   "execution_count": 114,
   "metadata": {},
   "outputs": [],
   "source": [
    "y_pred_torch = torch.from_numpy(y_pred)\n",
    "labels_torch = torch.from_numpy(labels)\n",
    "auc_list = binary_auroc(y_pred_torch, labels_torch, num_tasks=labels_torch.shape[0])"
   ]
  },
  {
   "cell_type": "code",
   "execution_count": 116,
   "metadata": {},
   "outputs": [
    {
     "data": {
      "text/plain": [
       "tensor(0.8512, dtype=torch.float64)"
      ]
     },
     "execution_count": 116,
     "metadata": {},
     "output_type": "execute_result"
    }
   ],
   "source": [
    "auc_list.median()"
   ]
  },
  {
   "cell_type": "code",
   "execution_count": 41,
   "metadata": {},
   "outputs": [],
   "source": [
    "from sklearn.metrics import roc_auc_score"
   ]
  },
  {
   "cell_type": "code",
   "execution_count": 42,
   "metadata": {},
   "outputs": [
    {
     "data": {
      "text/plain": [
       "0.7661482844347376"
      ]
     },
     "execution_count": 42,
     "metadata": {},
     "output_type": "execute_result"
    }
   ],
   "source": [
    "roc_auc_score(labels, y_pred)"
   ]
  },
  {
   "cell_type": "code",
   "execution_count": 88,
   "metadata": {},
   "outputs": [
    {
     "data": {
      "text/plain": [
       "2174"
      ]
     },
     "execution_count": 88,
     "metadata": {},
     "output_type": "execute_result"
    }
   ],
   "source": [
    "len(auc_list)"
   ]
  },
  {
   "cell_type": "code",
   "execution_count": null,
   "metadata": {},
   "outputs": [],
   "source": []
  },
  {
   "cell_type": "code",
   "execution_count": null,
   "metadata": {},
   "outputs": [],
   "source": [
    "# PA\n",
    "# median lat 46 -> 643 m\n",
    "# min lat 41 -> 699 m\n",
    "# max lat 58 -> 490 m\n",
    "\n",
    "# PO\n",
    "# median lat 50 ->  595 m\n",
    "# min lat 34 -> 767 m\n",
    "# max lat 71 -> 301 m"
   ]
  },
  {
   "cell_type": "code",
   "execution_count": 4,
   "metadata": {},
   "outputs": [],
   "source": [
    "from sklearn.metrics import f1_score"
   ]
  },
  {
   "cell_type": "code",
   "execution_count": 24,
   "metadata": {},
   "outputs": [],
   "source": [
    "run_name = '0701_env_1_5_9_17_sat_25_59_115'\n",
    "path_to_config = f\"{modeldir}{run_name}/config.json\"\n",
    "with open(path_to_config, \"r\") as f: \n",
    "    config = json.load(f)\n",
    "config = {k: v if v != \"\" else None for k,v in config.items()}\n",
    "\n",
    "log_wandb = config['log_wandb']\n",
    "wandb_project = config['wandb_project']\n",
    "wandb_id = config['wandb_id']\n",
    "env_model = config['env_model']\n",
    "sat_model = config['sat_model']\n",
    "dataset = config['dataset']\n",
    "random_bg = config['random_bg']\n",
    "embed_shape = config['embed_shape']\n",
    "loss = config['loss']\n",
    "lambda2 = config['lambda2']\n",
    "n_epochs = config['n_epochs']\n",
    "batch_size = config['batch_size']\n",
    "learning_rate = config['learning_rate']\n",
    "weight_decay = config['weight_decay']\n",
    "num_workers_train = config['num_workers_train']\n",
    "num_workers_val = config['num_workers_val']\n",
    "seed = config['seed']"
   ]
  },
  {
   "cell_type": "code",
   "execution_count": 25,
   "metadata": {},
   "outputs": [
    {
     "name": "stdout",
     "output_type": "stream",
     "text": [
      "\n",
      "Making patch providers with size=1x1, flatten=False for covariates:\n",
      "\t - data/GLC23/EnvironmentalRasters/Climate/BioClimatic_Average_1981-2010/\n",
      "\n",
      "Making patch providers with size=115x115, flatten=False for covariates:\n",
      "\t - data/GLC23/SatelliteImages/\n",
      "\n",
      "Making dataset for training occurrences\n",
      "nb items = 2856818\n",
      "input shape: [(19, 1, 1), (4, 116, 116)]\n",
      "\n",
      "Making dataset for validation occurrences\n",
      "nb items = 7438\n",
      "\n",
      "Making dataset for test set\n",
      "nb items = 22404\n",
      "\n",
      "Making model\n"
     ]
    }
   ],
   "source": [
    "train_data, val_data, test_data, model, optimizer, multimodal, autoencoder = setup_model(\n",
    "        env_model=env_model,\n",
    "        sat_model=sat_model,\n",
    "        dataset=dataset,\n",
    "        random_bg=random_bg,\n",
    "        embed_shape=embed_shape, \n",
    "        learning_rate=learning_rate, \n",
    "        weight_decay=weight_decay,\n",
    "        seed=seed,\n",
    "        test=True) "
   ]
  },
  {
   "cell_type": "code",
   "execution_count": 5,
   "metadata": {},
   "outputs": [
    {
     "name": "stdout",
     "output_type": "stream",
     "text": [
      "22 0.8238537044507194\n"
     ]
    }
   ],
   "source": [
    "dev = torch.device(\"cuda\" if torch.cuda.is_available() else \"cpu\")\n",
    "model = model.to(dev)\n",
    "model_to_load = 'best_val_auc'\n",
    "checkpoint = torch.load(f\"{modeldir}{run_name}/{model_to_load}.pth\")\n",
    "model.load_state_dict(checkpoint['state_dict'])\n",
    "optimizer.load_state_dict(checkpoint['optimizer_state_dict'])\n",
    "epoch = checkpoint['epoch'] + 1\n",
    "val_auc = checkpoint['val_auc']\n",
    "print(epoch, val_auc)"
   ]
  },
  {
   "cell_type": "code",
   "execution_count": 123,
   "metadata": {},
   "outputs": [],
   "source": [
    "run_name = '0619_env_1_5_9_17_25'\n",
    "model_to_load = 'last'"
   ]
  },
  {
   "cell_type": "code",
   "execution_count": 124,
   "metadata": {},
   "outputs": [],
   "source": [
    "y_pred =  np.load(f\"models/{run_name}/y_pred_{model_to_load}.npy\")\n",
    "labels = np.load(f\"models/{run_name}/y_true.npy\")"
   ]
  },
  {
   "cell_type": "code",
   "execution_count": 125,
   "metadata": {},
   "outputs": [
    {
     "data": {
      "text/plain": [
       "0.0299"
      ]
     },
     "execution_count": 125,
     "metadata": {},
     "output_type": "execute_result"
    }
   ],
   "source": [
    "y_bin = np.where(y_pred > 0.5, 1, 0)\n",
    "f1_score(labels.T, y_bin.T, average='micro', zero_division=0).round(4)"
   ]
  },
  {
   "cell_type": "code",
   "execution_count": 126,
   "metadata": {},
   "outputs": [
    {
     "name": "stdout",
     "output_type": "stream",
     "text": [
      "n_species = 30 -> F1 = 0.0181\n"
     ]
    }
   ],
   "source": [
    "for n in [30]:#,50,100,300]:\n",
    "    zeros = np.zeros(y_pred.shape)\n",
    "    for i in range(y_pred.shape[0]):\n",
    "        thresh = y_pred[i,:][np.argsort(y_pred[i,:])[-n]]\n",
    "        zeros[i,:] = y_pred[i,:] >= thresh\n",
    "    print(f\"n_species = {n} -> F1 = {f1_score(labels.T, zeros.T, average='micro', zero_division=0).round(4)}\")"
   ]
  },
  {
   "cell_type": "code",
   "execution_count": null,
   "metadata": {},
   "outputs": [],
   "source": [
    "y_30 = np.apply_along_axis(lambda x: [1 if i in np.argsort(x)[-30:] else 0 for i in range(len(x))], 1, y_pred)"
   ]
  },
  {
   "cell_type": "code",
   "execution_count": 19,
   "metadata": {},
   "outputs": [
    {
     "name": "stderr",
     "output_type": "stream",
     "text": [
      "100%|██████████| 19/19 [00:47<00:00,  2.51s/it]\n"
     ]
    }
   ],
   "source": [
    "f1_scores = []\n",
    "thresholds = np.arange(0.05, 1, 0.05)\n",
    "for thresh in tqdm(thresholds):\n",
    "    y_bin = np.where(y_pred > thresh, 1, 0)\n",
    "    f1_scores.append(f1_score(labels.T, y_bin.T, average='macro', zero_division=0))\n"
   ]
  },
  {
   "cell_type": "code",
   "execution_count": 49,
   "metadata": {},
   "outputs": [
    {
     "ename": "KeyboardInterrupt",
     "evalue": "",
     "output_type": "error",
     "traceback": [
      "\u001b[0;31m---------------------------------------------------------------------------\u001b[0m",
      "\u001b[0;31mKeyboardInterrupt\u001b[0m                         Traceback (most recent call last)",
      "Cell \u001b[0;32mIn[49], line 1\u001b[0m\n\u001b[0;32m----> 1\u001b[0m y_30 \u001b[38;5;241m=\u001b[39m \u001b[43mnp\u001b[49m\u001b[38;5;241;43m.\u001b[39;49m\u001b[43mapply_along_axis\u001b[49m\u001b[43m(\u001b[49m\u001b[38;5;28;43;01mlambda\u001b[39;49;00m\u001b[43m \u001b[49m\u001b[43mx\u001b[49m\u001b[43m:\u001b[49m\u001b[43m \u001b[49m\u001b[43m[\u001b[49m\u001b[38;5;241;43m1\u001b[39;49m\u001b[43m \u001b[49m\u001b[38;5;28;43;01mif\u001b[39;49;00m\u001b[43m \u001b[49m\u001b[43mi\u001b[49m\u001b[43m \u001b[49m\u001b[38;5;129;43;01min\u001b[39;49;00m\u001b[43m \u001b[49m\u001b[43mnp\u001b[49m\u001b[38;5;241;43m.\u001b[39;49m\u001b[43margsort\u001b[49m\u001b[43m(\u001b[49m\u001b[43mx\u001b[49m\u001b[43m)\u001b[49m\u001b[43m[\u001b[49m\u001b[38;5;241;43m-\u001b[39;49m\u001b[38;5;241;43m30\u001b[39;49m\u001b[43m:\u001b[49m\u001b[43m]\u001b[49m\u001b[43m \u001b[49m\u001b[38;5;28;43;01melse\u001b[39;49;00m\u001b[43m \u001b[49m\u001b[38;5;241;43m0\u001b[39;49m\u001b[43m \u001b[49m\u001b[38;5;28;43;01mfor\u001b[39;49;00m\u001b[43m \u001b[49m\u001b[43mi\u001b[49m\u001b[43m \u001b[49m\u001b[38;5;129;43;01min\u001b[39;49;00m\u001b[43m \u001b[49m\u001b[38;5;28;43mrange\u001b[39;49m\u001b[43m(\u001b[49m\u001b[38;5;28;43mlen\u001b[39;49m\u001b[43m(\u001b[49m\u001b[43mx\u001b[49m\u001b[43m)\u001b[49m\u001b[43m)\u001b[49m\u001b[43m]\u001b[49m\u001b[43m,\u001b[49m\u001b[43m \u001b[49m\u001b[38;5;241;43m1\u001b[39;49m\u001b[43m,\u001b[49m\u001b[43m \u001b[49m\u001b[43my_pred\u001b[49m\u001b[43m)\u001b[49m\n",
      "File \u001b[0;32m<__array_function__ internals>:180\u001b[0m, in \u001b[0;36mapply_along_axis\u001b[0;34m(*args, **kwargs)\u001b[0m\n",
      "File \u001b[0;32m~/miniconda3/envs/glc23/lib/python3.9/site-packages/numpy/lib/shape_base.py:402\u001b[0m, in \u001b[0;36mapply_along_axis\u001b[0;34m(func1d, axis, arr, *args, **kwargs)\u001b[0m\n\u001b[1;32m    400\u001b[0m buff[ind0] \u001b[38;5;241m=\u001b[39m res\n\u001b[1;32m    401\u001b[0m \u001b[38;5;28;01mfor\u001b[39;00m ind \u001b[38;5;129;01min\u001b[39;00m inds:\n\u001b[0;32m--> 402\u001b[0m     buff[ind] \u001b[38;5;241m=\u001b[39m asanyarray(\u001b[43mfunc1d\u001b[49m\u001b[43m(\u001b[49m\u001b[43minarr_view\u001b[49m\u001b[43m[\u001b[49m\u001b[43mind\u001b[49m\u001b[43m]\u001b[49m\u001b[43m,\u001b[49m\u001b[43m \u001b[49m\u001b[38;5;241;43m*\u001b[39;49m\u001b[43margs\u001b[49m\u001b[43m,\u001b[49m\u001b[43m \u001b[49m\u001b[38;5;241;43m*\u001b[39;49m\u001b[38;5;241;43m*\u001b[39;49m\u001b[43mkwargs\u001b[49m\u001b[43m)\u001b[49m)\n\u001b[1;32m    404\u001b[0m \u001b[38;5;28;01mif\u001b[39;00m \u001b[38;5;129;01mnot\u001b[39;00m \u001b[38;5;28misinstance\u001b[39m(res, matrix):\n\u001b[1;32m    405\u001b[0m     \u001b[38;5;66;03m# wrap the array, to preserve subclasses\u001b[39;00m\n\u001b[1;32m    406\u001b[0m     buff \u001b[38;5;241m=\u001b[39m res\u001b[38;5;241m.\u001b[39m__array_wrap__(buff)\n",
      "Cell \u001b[0;32mIn[49], line 1\u001b[0m, in \u001b[0;36m<lambda>\u001b[0;34m(x)\u001b[0m\n\u001b[0;32m----> 1\u001b[0m y_30 \u001b[38;5;241m=\u001b[39m np\u001b[38;5;241m.\u001b[39mapply_along_axis(\u001b[38;5;28;01mlambda\u001b[39;00m x: [\u001b[38;5;241m1\u001b[39m \u001b[38;5;28;01mif\u001b[39;00m i \u001b[38;5;129;01min\u001b[39;00m np\u001b[38;5;241m.\u001b[39margsort(x)[\u001b[38;5;241m-\u001b[39m\u001b[38;5;241m30\u001b[39m:] \u001b[38;5;28;01melse\u001b[39;00m \u001b[38;5;241m0\u001b[39m \u001b[38;5;28;01mfor\u001b[39;00m i \u001b[38;5;129;01min\u001b[39;00m \u001b[38;5;28mrange\u001b[39m(\u001b[38;5;28mlen\u001b[39m(x))], \u001b[38;5;241m1\u001b[39m, y_pred)\n",
      "Cell \u001b[0;32mIn[49], line 1\u001b[0m, in \u001b[0;36m<listcomp>\u001b[0;34m(.0)\u001b[0m\n\u001b[0;32m----> 1\u001b[0m y_30 \u001b[38;5;241m=\u001b[39m np\u001b[38;5;241m.\u001b[39mapply_along_axis(\u001b[38;5;28;01mlambda\u001b[39;00m x: [\u001b[38;5;241m1\u001b[39m \u001b[38;5;28;01mif\u001b[39;00m i \u001b[38;5;129;01min\u001b[39;00m \u001b[43mnp\u001b[49m\u001b[38;5;241;43m.\u001b[39;49m\u001b[43margsort\u001b[49m\u001b[43m(\u001b[49m\u001b[43mx\u001b[49m\u001b[43m)\u001b[49m[\u001b[38;5;241m-\u001b[39m\u001b[38;5;241m30\u001b[39m:] \u001b[38;5;28;01melse\u001b[39;00m \u001b[38;5;241m0\u001b[39m \u001b[38;5;28;01mfor\u001b[39;00m i \u001b[38;5;129;01min\u001b[39;00m \u001b[38;5;28mrange\u001b[39m(\u001b[38;5;28mlen\u001b[39m(x))], \u001b[38;5;241m1\u001b[39m, y_pred)\n",
      "File \u001b[0;32m<__array_function__ internals>:180\u001b[0m, in \u001b[0;36margsort\u001b[0;34m(*args, **kwargs)\u001b[0m\n",
      "File \u001b[0;32m~/miniconda3/envs/glc23/lib/python3.9/site-packages/numpy/core/fromnumeric.py:1120\u001b[0m, in \u001b[0;36margsort\u001b[0;34m(a, axis, kind, order)\u001b[0m\n\u001b[1;32m   1012\u001b[0m \u001b[38;5;129m@array_function_dispatch\u001b[39m(_argsort_dispatcher)\n\u001b[1;32m   1013\u001b[0m \u001b[38;5;28;01mdef\u001b[39;00m \u001b[38;5;21margsort\u001b[39m(a, axis\u001b[38;5;241m=\u001b[39m\u001b[38;5;241m-\u001b[39m\u001b[38;5;241m1\u001b[39m, kind\u001b[38;5;241m=\u001b[39m\u001b[38;5;28;01mNone\u001b[39;00m, order\u001b[38;5;241m=\u001b[39m\u001b[38;5;28;01mNone\u001b[39;00m):\n\u001b[1;32m   1014\u001b[0m     \u001b[38;5;124;03m\"\"\"\u001b[39;00m\n\u001b[1;32m   1015\u001b[0m \u001b[38;5;124;03m    Returns the indices that would sort an array.\u001b[39;00m\n\u001b[1;32m   1016\u001b[0m \n\u001b[0;32m   (...)\u001b[0m\n\u001b[1;32m   1118\u001b[0m \n\u001b[1;32m   1119\u001b[0m \u001b[38;5;124;03m    \"\"\"\u001b[39;00m\n\u001b[0;32m-> 1120\u001b[0m     \u001b[38;5;28;01mreturn\u001b[39;00m \u001b[43m_wrapfunc\u001b[49m\u001b[43m(\u001b[49m\u001b[43ma\u001b[49m\u001b[43m,\u001b[49m\u001b[43m \u001b[49m\u001b[38;5;124;43m'\u001b[39;49m\u001b[38;5;124;43margsort\u001b[39;49m\u001b[38;5;124;43m'\u001b[39;49m\u001b[43m,\u001b[49m\u001b[43m \u001b[49m\u001b[43maxis\u001b[49m\u001b[38;5;241;43m=\u001b[39;49m\u001b[43maxis\u001b[49m\u001b[43m,\u001b[49m\u001b[43m \u001b[49m\u001b[43mkind\u001b[49m\u001b[38;5;241;43m=\u001b[39;49m\u001b[43mkind\u001b[49m\u001b[43m,\u001b[49m\u001b[43m \u001b[49m\u001b[43morder\u001b[49m\u001b[38;5;241;43m=\u001b[39;49m\u001b[43morder\u001b[49m\u001b[43m)\u001b[49m\n",
      "File \u001b[0;32m~/miniconda3/envs/glc23/lib/python3.9/site-packages/numpy/core/fromnumeric.py:57\u001b[0m, in \u001b[0;36m_wrapfunc\u001b[0;34m(obj, method, *args, **kwds)\u001b[0m\n\u001b[1;32m     54\u001b[0m     \u001b[38;5;28;01mreturn\u001b[39;00m _wrapit(obj, method, \u001b[38;5;241m*\u001b[39margs, \u001b[38;5;241m*\u001b[39m\u001b[38;5;241m*\u001b[39mkwds)\n\u001b[1;32m     56\u001b[0m \u001b[38;5;28;01mtry\u001b[39;00m:\n\u001b[0;32m---> 57\u001b[0m     \u001b[38;5;28;01mreturn\u001b[39;00m \u001b[43mbound\u001b[49m\u001b[43m(\u001b[49m\u001b[38;5;241;43m*\u001b[39;49m\u001b[43margs\u001b[49m\u001b[43m,\u001b[49m\u001b[43m \u001b[49m\u001b[38;5;241;43m*\u001b[39;49m\u001b[38;5;241;43m*\u001b[39;49m\u001b[43mkwds\u001b[49m\u001b[43m)\u001b[49m\n\u001b[1;32m     58\u001b[0m \u001b[38;5;28;01mexcept\u001b[39;00m \u001b[38;5;167;01mTypeError\u001b[39;00m:\n\u001b[1;32m     59\u001b[0m     \u001b[38;5;66;03m# A TypeError occurs if the object does have such a method in its\u001b[39;00m\n\u001b[1;32m     60\u001b[0m     \u001b[38;5;66;03m# class, but its signature is not identical to that of NumPy's. This\u001b[39;00m\n\u001b[0;32m   (...)\u001b[0m\n\u001b[1;32m     64\u001b[0m     \u001b[38;5;66;03m# Call _wrapit from within the except clause to ensure a potential\u001b[39;00m\n\u001b[1;32m     65\u001b[0m     \u001b[38;5;66;03m# exception has a traceback chain.\u001b[39;00m\n\u001b[1;32m     66\u001b[0m     \u001b[38;5;28;01mreturn\u001b[39;00m _wrapit(obj, method, \u001b[38;5;241m*\u001b[39margs, \u001b[38;5;241m*\u001b[39m\u001b[38;5;241m*\u001b[39mkwds)\n",
      "\u001b[0;31mKeyboardInterrupt\u001b[0m: "
     ]
    }
   ],
   "source": [
    "y_30 = np.apply_along_axis(lambda x: [1 if i in np.argsort(x)[-30:] else 0 for i in range(len(x))], 1, y_pred)"
   ]
  },
  {
   "cell_type": "code",
   "execution_count": 43,
   "metadata": {},
   "outputs": [
    {
     "ename": "IndexError",
     "evalue": "index 2174 is out of bounds for axis 1 with size 2174",
     "output_type": "error",
     "traceback": [
      "\u001b[0;31m---------------------------------------------------------------------------\u001b[0m",
      "\u001b[0;31mIndexError\u001b[0m                                Traceback (most recent call last)",
      "Cell \u001b[0;32mIn[43], line 1\u001b[0m\n\u001b[0;32m----> 1\u001b[0m [[\u001b[38;5;241m1\u001b[39m \u001b[38;5;28;01mif\u001b[39;00m i \u001b[38;5;129;01min\u001b[39;00m np\u001b[38;5;241m.\u001b[39margsort(y_pred[:,i])[\u001b[38;5;241m-\u001b[39m\u001b[38;5;241m30\u001b[39m:] \u001b[38;5;28;01melse\u001b[39;00m \u001b[38;5;241m0\u001b[39m \u001b[38;5;28;01mfor\u001b[39;00m i \u001b[38;5;129;01min\u001b[39;00m \u001b[38;5;28mrange\u001b[39m(\u001b[38;5;28mlen\u001b[39m(y_pred[:,i]))] \u001b[38;5;28;01mfor\u001b[39;00m i \u001b[38;5;129;01min\u001b[39;00m \u001b[38;5;28mrange\u001b[39m(y_pred\u001b[38;5;241m.\u001b[39mshape[\u001b[38;5;241m1\u001b[39m])]\n",
      "Cell \u001b[0;32mIn[43], line 1\u001b[0m, in \u001b[0;36m<listcomp>\u001b[0;34m(.0)\u001b[0m\n\u001b[0;32m----> 1\u001b[0m [[\u001b[38;5;241m1\u001b[39m \u001b[38;5;28;01mif\u001b[39;00m i \u001b[38;5;129;01min\u001b[39;00m np\u001b[38;5;241m.\u001b[39margsort(y_pred[:,i])[\u001b[38;5;241m-\u001b[39m\u001b[38;5;241m30\u001b[39m:] \u001b[38;5;28;01melse\u001b[39;00m \u001b[38;5;241m0\u001b[39m \u001b[38;5;28;01mfor\u001b[39;00m i \u001b[38;5;129;01min\u001b[39;00m \u001b[38;5;28mrange\u001b[39m(\u001b[38;5;28mlen\u001b[39m(y_pred[:,i]))] \u001b[38;5;28;01mfor\u001b[39;00m i \u001b[38;5;129;01min\u001b[39;00m \u001b[38;5;28mrange\u001b[39m(y_pred\u001b[38;5;241m.\u001b[39mshape[\u001b[38;5;241m1\u001b[39m])]\n",
      "Cell \u001b[0;32mIn[43], line 1\u001b[0m, in \u001b[0;36m<listcomp>\u001b[0;34m(.0)\u001b[0m\n\u001b[0;32m----> 1\u001b[0m [[\u001b[38;5;241m1\u001b[39m \u001b[38;5;28;01mif\u001b[39;00m i \u001b[38;5;129;01min\u001b[39;00m np\u001b[38;5;241m.\u001b[39margsort(\u001b[43my_pred\u001b[49m\u001b[43m[\u001b[49m\u001b[43m:\u001b[49m\u001b[43m,\u001b[49m\u001b[43mi\u001b[49m\u001b[43m]\u001b[49m)[\u001b[38;5;241m-\u001b[39m\u001b[38;5;241m30\u001b[39m:] \u001b[38;5;28;01melse\u001b[39;00m \u001b[38;5;241m0\u001b[39m \u001b[38;5;28;01mfor\u001b[39;00m i \u001b[38;5;129;01min\u001b[39;00m \u001b[38;5;28mrange\u001b[39m(\u001b[38;5;28mlen\u001b[39m(y_pred[:,i]))] \u001b[38;5;28;01mfor\u001b[39;00m i \u001b[38;5;129;01min\u001b[39;00m \u001b[38;5;28mrange\u001b[39m(y_pred\u001b[38;5;241m.\u001b[39mshape[\u001b[38;5;241m1\u001b[39m])]\n",
      "\u001b[0;31mIndexError\u001b[0m: index 2174 is out of bounds for axis 1 with size 2174"
     ]
    }
   ],
   "source": [
    "[1 if i in np.argsort(y_pred[:,i])[-30:] else 0 for i in range(len(y_pred[:,i]))]"
   ]
  },
  {
   "cell_type": "code",
   "execution_count": 29,
   "metadata": {},
   "outputs": [],
   "source": [
    "t = y_pred[:,0]"
   ]
  },
  {
   "cell_type": "code",
   "execution_count": 31,
   "metadata": {},
   "outputs": [
    {
     "data": {
      "text/plain": [
       "array([0.0116761 , 0.01479814, 0.01866934, ..., 0.6935823 , 0.725114  ,\n",
       "       0.75911665], dtype=float32)"
      ]
     },
     "execution_count": 31,
     "metadata": {},
     "output_type": "execute_result"
    }
   ],
   "source": [
    "t[np.argsort(t)]"
   ]
  },
  {
   "cell_type": "code",
   "execution_count": 39,
   "metadata": {},
   "outputs": [
    {
     "data": {
      "text/plain": [
       "range(0, 7438)"
      ]
     },
     "execution_count": 39,
     "metadata": {},
     "output_type": "execute_result"
    }
   ],
   "source": [
    "range(len(t))"
   ]
  },
  {
   "cell_type": "code",
   "execution_count": 41,
   "metadata": {},
   "outputs": [],
   "source": [
    "pred_30 = [1 if i in np.argsort(t)[-30:] else 0 for i in range(len(t))]"
   ]
  },
  {
   "cell_type": "code",
   "execution_count": 6,
   "metadata": {},
   "outputs": [
    {
     "data": {
      "text/plain": [
       "Sequential(\n",
       "  (0): BasicBlock(\n",
       "    (conv1): Conv2d(64, 64, kernel_size=(3, 3), stride=(1, 1), padding=(1, 1), bias=False)\n",
       "    (bn1): BatchNorm2d(64, eps=1e-05, momentum=0.1, affine=True, track_running_stats=True)\n",
       "    (relu): ReLU(inplace=True)\n",
       "    (conv2): Conv2d(64, 64, kernel_size=(3, 3), stride=(1, 1), padding=(1, 1), bias=False)\n",
       "    (bn2): BatchNorm2d(64, eps=1e-05, momentum=0.1, affine=True, track_running_stats=True)\n",
       "  )\n",
       "  (1): BasicBlock(\n",
       "    (conv1): Conv2d(64, 64, kernel_size=(3, 3), stride=(1, 1), padding=(1, 1), bias=False)\n",
       "    (bn1): BatchNorm2d(64, eps=1e-05, momentum=0.1, affine=True, track_running_stats=True)\n",
       "    (relu): ReLU(inplace=True)\n",
       "    (conv2): Conv2d(64, 64, kernel_size=(3, 3), stride=(1, 1), padding=(1, 1), bias=False)\n",
       "    (bn2): BatchNorm2d(64, eps=1e-05, momentum=0.1, affine=True, track_running_stats=True)\n",
       "  )\n",
       ")"
      ]
     },
     "execution_count": 6,
     "metadata": {},
     "output_type": "execute_result"
    }
   ],
   "source": [
    "model.layer1"
   ]
  },
  {
   "cell_type": "code",
   "execution_count": 7,
   "metadata": {},
   "outputs": [
    {
     "data": {
      "text/plain": [
       "Sequential(\n",
       "  (0): BasicBlock(\n",
       "    (conv1): Conv2d(64, 128, kernel_size=(3, 3), stride=(2, 2), padding=(1, 1), bias=False)\n",
       "    (bn1): BatchNorm2d(128, eps=1e-05, momentum=0.1, affine=True, track_running_stats=True)\n",
       "    (relu): ReLU(inplace=True)\n",
       "    (conv2): Conv2d(128, 128, kernel_size=(3, 3), stride=(1, 1), padding=(1, 1), bias=False)\n",
       "    (bn2): BatchNorm2d(128, eps=1e-05, momentum=0.1, affine=True, track_running_stats=True)\n",
       "    (downsample): Sequential(\n",
       "      (0): Conv2d(64, 128, kernel_size=(1, 1), stride=(2, 2), bias=False)\n",
       "      (1): BatchNorm2d(128, eps=1e-05, momentum=0.1, affine=True, track_running_stats=True)\n",
       "    )\n",
       "  )\n",
       "  (1): BasicBlock(\n",
       "    (conv1): Conv2d(128, 128, kernel_size=(3, 3), stride=(1, 1), padding=(1, 1), bias=False)\n",
       "    (bn1): BatchNorm2d(128, eps=1e-05, momentum=0.1, affine=True, track_running_stats=True)\n",
       "    (relu): ReLU(inplace=True)\n",
       "    (conv2): Conv2d(128, 128, kernel_size=(3, 3), stride=(1, 1), padding=(1, 1), bias=False)\n",
       "    (bn2): BatchNorm2d(128, eps=1e-05, momentum=0.1, affine=True, track_running_stats=True)\n",
       "  )\n",
       ")"
      ]
     },
     "execution_count": 7,
     "metadata": {},
     "output_type": "execute_result"
    }
   ],
   "source": [
    "model.layer2"
   ]
  },
  {
   "cell_type": "code",
   "execution_count": 2,
   "metadata": {},
   "outputs": [],
   "source": [
    "run_name = '0604_env1_1'\n",
    "path_to_config = f\"{modeldir}{run_name}/config.json\"\n",
    "with open(path_to_config, \"r\") as f: \n",
    "    config = json.load(f)\n",
    "config = {k: v if v != \"\" else None for k,v in config.items()}\n",
    "\n",
    "log_wandb = config['log_wandb']\n",
    "wandb_project = config['wandb_project']\n",
    "wandb_id = config['wandb_id']\n",
    "env_model = config['env_model']\n",
    "sat_model = config['sat_model']\n",
    "dataset = config['dataset']\n",
    "random_bg = config['random_bg']\n",
    "embed_shape = config['embed_shape']\n",
    "loss = config['loss']\n",
    "lambda2 = config['lambda2']\n",
    "n_epochs = config['n_epochs']\n",
    "batch_size = config['batch_size']\n",
    "learning_rate = config['learning_rate']\n",
    "weight_decay = config['weight_decay']\n",
    "num_workers_train = config['num_workers_train']\n",
    "num_workers_val = config['num_workers_val']\n",
    "seed = config['seed']"
   ]
  },
  {
   "cell_type": "code",
   "execution_count": 3,
   "metadata": {},
   "outputs": [
    {
     "name": "stdout",
     "output_type": "stream",
     "text": [
      "\n",
      "Making patch providers with size=1x1, flatten=False for covariates:\n",
      "\t - data/GLC23/EnvironmentalRasters/Climate/BioClimatic_Average_1981-2010/\n",
      "\t - data/GLC23/EnvironmentalRasters/Soilgrids/\n",
      "\t - data/GLC23/EnvironmentalRasters/LandCover/LandCover_MODIS_Terra-Aqua_500m.tif\n",
      "\n",
      "Making dataset for training occurrences\n",
      "nb items = 2832979\n",
      "input shape: [(41, 1, 1)]\n",
      "\n",
      "Making dataset for validation occurrences\n",
      "nb items = 6218\n",
      "\n",
      "Making model\n"
     ]
    }
   ],
   "source": [
    "train_data, val_data, model, optimizer, multimodal, autoencoder = setup_model(\n",
    "    env_model=env_model,\n",
    "    sat_model=sat_model,\n",
    "    dataset=dataset,\n",
    "    random_bg=random_bg,\n",
    "    embed_shape=embed_shape, \n",
    "    learning_rate=learning_rate, \n",
    "    weight_decay=weight_decay,\n",
    "    seed=seed) "
   ]
  },
  {
   "cell_type": "code",
   "execution_count": 4,
   "metadata": {},
   "outputs": [
    {
     "data": {
      "text/html": [
       "<div>\n",
       "<style scoped>\n",
       "    .dataframe tbody tr th:only-of-type {\n",
       "        vertical-align: middle;\n",
       "    }\n",
       "\n",
       "    .dataframe tbody tr th {\n",
       "        vertical-align: top;\n",
       "    }\n",
       "\n",
       "    .dataframe thead th {\n",
       "        text-align: right;\n",
       "    }\n",
       "</style>\n",
       "<table border=\"1\" class=\"dataframe\">\n",
       "  <thead>\n",
       "    <tr style=\"text-align: right;\">\n",
       "      <th></th>\n",
       "      <th>lat</th>\n",
       "      <th>lon</th>\n",
       "      <th>patchID</th>\n",
       "      <th>speciesId</th>\n",
       "    </tr>\n",
       "  </thead>\n",
       "  <tbody>\n",
       "    <tr>\n",
       "      <th>0</th>\n",
       "      <td>41.566910</td>\n",
       "      <td>9.298340</td>\n",
       "      <td>3018847</td>\n",
       "      <td>[271, 4062, 644, 6510, 4190, 8994, 5727, 3800,...</td>\n",
       "    </tr>\n",
       "    <tr>\n",
       "      <th>1</th>\n",
       "      <td>41.641550</td>\n",
       "      <td>9.259160</td>\n",
       "      <td>3018834</td>\n",
       "      <td>[271, 2871, 799, 6510, 9509, 8994, 9139, 3384,...</td>\n",
       "    </tr>\n",
       "    <tr>\n",
       "      <th>2</th>\n",
       "      <td>41.664130</td>\n",
       "      <td>9.189780</td>\n",
       "      <td>3018819</td>\n",
       "      <td>[9330, 5959, 9679, 9011, 8994, 8766, 1913, 481...</td>\n",
       "    </tr>\n",
       "    <tr>\n",
       "      <th>3</th>\n",
       "      <td>41.665690</td>\n",
       "      <td>9.165940</td>\n",
       "      <td>3018812</td>\n",
       "      <td>[271, 2749, 615, 5959, 9679, 6354, 8994, 6353,...</td>\n",
       "    </tr>\n",
       "    <tr>\n",
       "      <th>4</th>\n",
       "      <td>41.670930</td>\n",
       "      <td>9.358710</td>\n",
       "      <td>3018853</td>\n",
       "      <td>[271, 4062, 4904, 799, 6510, 4190, 3649, 8994,...</td>\n",
       "    </tr>\n",
       "    <tr>\n",
       "      <th>...</th>\n",
       "      <td>...</td>\n",
       "      <td>...</td>\n",
       "      <td>...</td>\n",
       "      <td>...</td>\n",
       "    </tr>\n",
       "    <tr>\n",
       "      <th>6213</th>\n",
       "      <td>58.581781</td>\n",
       "      <td>-4.044330</td>\n",
       "      <td>3001017</td>\n",
       "      <td>[9737]</td>\n",
       "    </tr>\n",
       "    <tr>\n",
       "      <th>6214</th>\n",
       "      <td>58.581813</td>\n",
       "      <td>-4.044289</td>\n",
       "      <td>3001018</td>\n",
       "      <td>[7904]</td>\n",
       "    </tr>\n",
       "    <tr>\n",
       "      <th>6215</th>\n",
       "      <td>58.582075</td>\n",
       "      <td>-4.042799</td>\n",
       "      <td>3001019</td>\n",
       "      <td>[7717]</td>\n",
       "    </tr>\n",
       "    <tr>\n",
       "      <th>6216</th>\n",
       "      <td>58.582080</td>\n",
       "      <td>-4.042799</td>\n",
       "      <td>3001019</td>\n",
       "      <td>[6216, 8999, 8752, 8390]</td>\n",
       "    </tr>\n",
       "    <tr>\n",
       "      <th>6217</th>\n",
       "      <td>58.582507</td>\n",
       "      <td>-4.032503</td>\n",
       "      <td>3001051</td>\n",
       "      <td>[5783, 8999]</td>\n",
       "    </tr>\n",
       "  </tbody>\n",
       "</table>\n",
       "<p>6218 rows × 4 columns</p>\n",
       "</div>"
      ],
      "text/plain": [
       "            lat       lon  patchID  \\\n",
       "0     41.566910  9.298340  3018847   \n",
       "1     41.641550  9.259160  3018834   \n",
       "2     41.664130  9.189780  3018819   \n",
       "3     41.665690  9.165940  3018812   \n",
       "4     41.670930  9.358710  3018853   \n",
       "...         ...       ...      ...   \n",
       "6213  58.581781 -4.044330  3001017   \n",
       "6214  58.581813 -4.044289  3001018   \n",
       "6215  58.582075 -4.042799  3001019   \n",
       "6216  58.582080 -4.042799  3001019   \n",
       "6217  58.582507 -4.032503  3001051   \n",
       "\n",
       "                                              speciesId  \n",
       "0     [271, 4062, 644, 6510, 4190, 8994, 5727, 3800,...  \n",
       "1     [271, 2871, 799, 6510, 9509, 8994, 9139, 3384,...  \n",
       "2     [9330, 5959, 9679, 9011, 8994, 8766, 1913, 481...  \n",
       "3     [271, 2749, 615, 5959, 9679, 6354, 8994, 6353,...  \n",
       "4     [271, 4062, 4904, 799, 6510, 4190, 3649, 8994,...  \n",
       "...                                                 ...  \n",
       "6213                                             [9737]  \n",
       "6214                                             [7904]  \n",
       "6215                                             [7717]  \n",
       "6216                           [6216, 8999, 8752, 8390]  \n",
       "6217                                       [5783, 8999]  \n",
       "\n",
       "[6218 rows x 4 columns]"
      ]
     },
     "execution_count": 4,
     "metadata": {},
     "output_type": "execute_result"
    }
   ],
   "source": [
    "val_data.items"
   ]
  },
  {
   "cell_type": "code",
   "execution_count": 5,
   "metadata": {},
   "outputs": [
    {
     "data": {
      "text/plain": [
       "Index(['glcID', 'gbifID', 'observer', 'datasetName', 'date', 'dayOfYear',\n",
       "       'year', 'lon', 'lat', 'x_EPSG3035', 'y_EPSG3035', 'geoUncertaintyInM',\n",
       "       'speciesId', 'patchID', 'timeSerieID'],\n",
       "      dtype='object')"
      ]
     },
     "execution_count": 5,
     "metadata": {},
     "output_type": "execute_result"
    }
   ],
   "source": [
    "po = pd.read_csv('data/GLC23/Presence_only_occurrences/Presences_only_train.csv', sep=';')\n",
    "po.columns"
   ]
  },
  {
   "cell_type": "code",
   "execution_count": 6,
   "metadata": {},
   "outputs": [
    {
     "data": {
      "text/plain": [
       "(4908319, 15)"
      ]
     },
     "execution_count": 6,
     "metadata": {},
     "output_type": "execute_result"
    }
   ],
   "source": [
    "po.shape"
   ]
  },
  {
   "cell_type": "code",
   "execution_count": 7,
   "metadata": {},
   "outputs": [
    {
     "data": {
      "text/plain": [
       "(3970353, 15)"
      ]
     },
     "execution_count": 7,
     "metadata": {},
     "output_type": "execute_result"
    }
   ],
   "source": [
    "po.drop_duplicates(['lon', 'lat','patchID']).shape"
   ]
  },
  {
   "cell_type": "code",
   "execution_count": 6,
   "metadata": {},
   "outputs": [
    {
     "data": {
      "text/html": [
       "<div>\n",
       "<style scoped>\n",
       "    .dataframe tbody tr th:only-of-type {\n",
       "        vertical-align: middle;\n",
       "    }\n",
       "\n",
       "    .dataframe tbody tr th {\n",
       "        vertical-align: top;\n",
       "    }\n",
       "\n",
       "    .dataframe thead th {\n",
       "        text-align: right;\n",
       "    }\n",
       "</style>\n",
       "<table border=\"1\" class=\"dataframe\">\n",
       "  <thead>\n",
       "    <tr style=\"text-align: right;\">\n",
       "      <th></th>\n",
       "      <th>glcID</th>\n",
       "      <th>gbifID</th>\n",
       "      <th>observer</th>\n",
       "      <th>datasetName</th>\n",
       "      <th>date</th>\n",
       "      <th>dayOfYear</th>\n",
       "      <th>year</th>\n",
       "      <th>lon</th>\n",
       "      <th>lat</th>\n",
       "      <th>x_EPSG3035</th>\n",
       "      <th>y_EPSG3035</th>\n",
       "      <th>geoUncertaintyInM</th>\n",
       "      <th>speciesId</th>\n",
       "      <th>patchID</th>\n",
       "      <th>timeSerieID</th>\n",
       "    </tr>\n",
       "  </thead>\n",
       "  <tbody>\n",
       "    <tr>\n",
       "      <th>0</th>\n",
       "      <td>5140269</td>\n",
       "      <td>3.473385e+09</td>\n",
       "      <td>(IGN)</td>\n",
       "      <td>Inventaire forestier IGN</td>\n",
       "      <td>2018-01-31</td>\n",
       "      <td>31</td>\n",
       "      <td>2018</td>\n",
       "      <td>7.300790</td>\n",
       "      <td>48.29273</td>\n",
       "      <td>4.120673e+06</td>\n",
       "      <td>2.801353e+06</td>\n",
       "      <td>1.0</td>\n",
       "      <td>6574</td>\n",
       "      <td>3018575</td>\n",
       "      <td>3980325</td>\n",
       "    </tr>\n",
       "    <tr>\n",
       "      <th>1</th>\n",
       "      <td>5279421</td>\n",
       "      <td>3.474159e+09</td>\n",
       "      <td>(IGN)</td>\n",
       "      <td>Inventaire forestier IGN</td>\n",
       "      <td>2017-07-19</td>\n",
       "      <td>200</td>\n",
       "      <td>2017</td>\n",
       "      <td>1.483390</td>\n",
       "      <td>42.92599</td>\n",
       "      <td>3.625340e+06</td>\n",
       "      <td>2.241565e+06</td>\n",
       "      <td>1.0</td>\n",
       "      <td>6574</td>\n",
       "      <td>3011783</td>\n",
       "      <td>3980331</td>\n",
       "    </tr>\n",
       "    <tr>\n",
       "      <th>2</th>\n",
       "      <td>5058088</td>\n",
       "      <td>3.475680e+09</td>\n",
       "      <td>(IGN)</td>\n",
       "      <td>Inventaire forestier IGN</td>\n",
       "      <td>2017-09-26</td>\n",
       "      <td>269</td>\n",
       "      <td>2017</td>\n",
       "      <td>6.739570</td>\n",
       "      <td>47.39633</td>\n",
       "      <td>4.074778e+06</td>\n",
       "      <td>2.703502e+06</td>\n",
       "      <td>1.0</td>\n",
       "      <td>6574</td>\n",
       "      <td>3018192</td>\n",
       "      <td>3980335</td>\n",
       "    </tr>\n",
       "    <tr>\n",
       "      <th>3</th>\n",
       "      <td>5146840</td>\n",
       "      <td>3.476162e+09</td>\n",
       "      <td>(IGN)</td>\n",
       "      <td>Inventaire forestier IGN</td>\n",
       "      <td>2017-09-20</td>\n",
       "      <td>263</td>\n",
       "      <td>2017</td>\n",
       "      <td>4.587140</td>\n",
       "      <td>45.40615</td>\n",
       "      <td>3.897015e+06</td>\n",
       "      <td>2.492494e+06</td>\n",
       "      <td>1.0</td>\n",
       "      <td>6574</td>\n",
       "      <td>3015541</td>\n",
       "      <td>3980336</td>\n",
       "    </tr>\n",
       "    <tr>\n",
       "      <th>4</th>\n",
       "      <td>5255062</td>\n",
       "      <td>3.475124e+09</td>\n",
       "      <td>(IGN)</td>\n",
       "      <td>Inventaire forestier IGN</td>\n",
       "      <td>2019-09-18</td>\n",
       "      <td>261</td>\n",
       "      <td>2019</td>\n",
       "      <td>6.955830</td>\n",
       "      <td>47.74829</td>\n",
       "      <td>4.092660e+06</td>\n",
       "      <td>2.741886e+06</td>\n",
       "      <td>1.0</td>\n",
       "      <td>6574</td>\n",
       "      <td>3018391</td>\n",
       "      <td>3980351</td>\n",
       "    </tr>\n",
       "    <tr>\n",
       "      <th>...</th>\n",
       "      <td>...</td>\n",
       "      <td>...</td>\n",
       "      <td>...</td>\n",
       "      <td>...</td>\n",
       "      <td>...</td>\n",
       "      <td>...</td>\n",
       "      <td>...</td>\n",
       "      <td>...</td>\n",
       "      <td>...</td>\n",
       "      <td>...</td>\n",
       "      <td>...</td>\n",
       "      <td>...</td>\n",
       "      <td>...</td>\n",
       "      <td>...</td>\n",
       "      <td>...</td>\n",
       "    </tr>\n",
       "    <tr>\n",
       "      <th>85320</th>\n",
       "      <td>5320539</td>\n",
       "      <td>NaN</td>\n",
       "      <td>NaN</td>\n",
       "      <td>CBNMed</td>\n",
       "      <td>1621461600</td>\n",
       "      <td>140</td>\n",
       "      <td>2021</td>\n",
       "      <td>5.094570</td>\n",
       "      <td>44.18660</td>\n",
       "      <td>3.928254e+06</td>\n",
       "      <td>2.354689e+06</td>\n",
       "      <td>10.0</td>\n",
       "      <td>9456</td>\n",
       "      <td>76900</td>\n",
       "      <td>3993145</td>\n",
       "    </tr>\n",
       "    <tr>\n",
       "      <th>85321</th>\n",
       "      <td>5392608</td>\n",
       "      <td>NaN</td>\n",
       "      <td>NaN</td>\n",
       "      <td>CBNMed</td>\n",
       "      <td>1497909600</td>\n",
       "      <td>171</td>\n",
       "      <td>2017</td>\n",
       "      <td>5.781197</td>\n",
       "      <td>43.74345</td>\n",
       "      <td>3.980545e+06</td>\n",
       "      <td>2.302273e+06</td>\n",
       "      <td>10.0</td>\n",
       "      <td>9456</td>\n",
       "      <td>94452</td>\n",
       "      <td>3986894</td>\n",
       "    </tr>\n",
       "    <tr>\n",
       "      <th>85322</th>\n",
       "      <td>5353058</td>\n",
       "      <td>NaN</td>\n",
       "      <td>NaN</td>\n",
       "      <td>CBNMed</td>\n",
       "      <td>1621461600</td>\n",
       "      <td>140</td>\n",
       "      <td>2021</td>\n",
       "      <td>5.094620</td>\n",
       "      <td>44.18680</td>\n",
       "      <td>3.928259e+06</td>\n",
       "      <td>2.354711e+06</td>\n",
       "      <td>10.0</td>\n",
       "      <td>9456</td>\n",
       "      <td>76905</td>\n",
       "      <td>3993923</td>\n",
       "    </tr>\n",
       "    <tr>\n",
       "      <th>85323</th>\n",
       "      <td>5102872</td>\n",
       "      <td>2.907311e+09</td>\n",
       "      <td>Shoesmith, J. Judith</td>\n",
       "      <td>Nat. plant monitoring UK</td>\n",
       "      <td>2017-06-07</td>\n",
       "      <td>158</td>\n",
       "      <td>2017</td>\n",
       "      <td>0.785642</td>\n",
       "      <td>51.70740</td>\n",
       "      <td>3.686016e+06</td>\n",
       "      <td>3.217623e+06</td>\n",
       "      <td>7.1</td>\n",
       "      <td>6081</td>\n",
       "      <td>3010687</td>\n",
       "      <td>3990777</td>\n",
       "    </tr>\n",
       "    <tr>\n",
       "      <th>85324</th>\n",
       "      <td>5116179</td>\n",
       "      <td>2.907245e+09</td>\n",
       "      <td>Shoesmith, J. Judith</td>\n",
       "      <td>Nat. plant monitoring UK</td>\n",
       "      <td>2017-09-06</td>\n",
       "      <td>249</td>\n",
       "      <td>2017</td>\n",
       "      <td>0.785642</td>\n",
       "      <td>51.70740</td>\n",
       "      <td>3.686016e+06</td>\n",
       "      <td>3.217623e+06</td>\n",
       "      <td>7.1</td>\n",
       "      <td>6081</td>\n",
       "      <td>3010687</td>\n",
       "      <td>3990793</td>\n",
       "    </tr>\n",
       "  </tbody>\n",
       "</table>\n",
       "<p>85325 rows × 15 columns</p>\n",
       "</div>"
      ],
      "text/plain": [
       "         glcID        gbifID              observer               datasetName  \\\n",
       "0      5140269  3.473385e+09                 (IGN)  Inventaire forestier IGN   \n",
       "1      5279421  3.474159e+09                 (IGN)  Inventaire forestier IGN   \n",
       "2      5058088  3.475680e+09                 (IGN)  Inventaire forestier IGN   \n",
       "3      5146840  3.476162e+09                 (IGN)  Inventaire forestier IGN   \n",
       "4      5255062  3.475124e+09                 (IGN)  Inventaire forestier IGN   \n",
       "...        ...           ...                   ...                       ...   \n",
       "85320  5320539           NaN                   NaN                    CBNMed   \n",
       "85321  5392608           NaN                   NaN                    CBNMed   \n",
       "85322  5353058           NaN                   NaN                    CBNMed   \n",
       "85323  5102872  2.907311e+09  Shoesmith, J. Judith  Nat. plant monitoring UK   \n",
       "85324  5116179  2.907245e+09  Shoesmith, J. Judith  Nat. plant monitoring UK   \n",
       "\n",
       "             date  dayOfYear  year       lon       lat    x_EPSG3035  \\\n",
       "0      2018-01-31         31  2018  7.300790  48.29273  4.120673e+06   \n",
       "1      2017-07-19        200  2017  1.483390  42.92599  3.625340e+06   \n",
       "2      2017-09-26        269  2017  6.739570  47.39633  4.074778e+06   \n",
       "3      2017-09-20        263  2017  4.587140  45.40615  3.897015e+06   \n",
       "4      2019-09-18        261  2019  6.955830  47.74829  4.092660e+06   \n",
       "...           ...        ...   ...       ...       ...           ...   \n",
       "85320  1621461600        140  2021  5.094570  44.18660  3.928254e+06   \n",
       "85321  1497909600        171  2017  5.781197  43.74345  3.980545e+06   \n",
       "85322  1621461600        140  2021  5.094620  44.18680  3.928259e+06   \n",
       "85323  2017-06-07        158  2017  0.785642  51.70740  3.686016e+06   \n",
       "85324  2017-09-06        249  2017  0.785642  51.70740  3.686016e+06   \n",
       "\n",
       "         y_EPSG3035  geoUncertaintyInM  speciesId  patchID  timeSerieID  \n",
       "0      2.801353e+06                1.0       6574  3018575      3980325  \n",
       "1      2.241565e+06                1.0       6574  3011783      3980331  \n",
       "2      2.703502e+06                1.0       6574  3018192      3980335  \n",
       "3      2.492494e+06                1.0       6574  3015541      3980336  \n",
       "4      2.741886e+06                1.0       6574  3018391      3980351  \n",
       "...             ...                ...        ...      ...          ...  \n",
       "85320  2.354689e+06               10.0       9456    76900      3993145  \n",
       "85321  2.302273e+06               10.0       9456    94452      3986894  \n",
       "85322  2.354711e+06               10.0       9456    76905      3993923  \n",
       "85323  3.217623e+06                7.1       6081  3010687      3990777  \n",
       "85324  3.217623e+06                7.1       6081  3010687      3990793  \n",
       "\n",
       "[85325 rows x 15 columns]"
      ]
     },
     "execution_count": 6,
     "metadata": {},
     "output_type": "execute_result"
    }
   ],
   "source": [
    "pa = pd.read_csv('data/GLC23/Presence_Absence_surveys/Presences_Absences_train.csv', sep=';')\n",
    "pa"
   ]
  },
  {
   "cell_type": "code",
   "execution_count": 15,
   "metadata": {},
   "outputs": [
    {
     "data": {
      "text/plain": [
       "Index(['glcID', 'gbifID', 'observer', 'datasetName', 'date', 'dayOfYear',\n",
       "       'year', 'lon', 'lat', 'x_EPSG3035', 'y_EPSG3035', 'geoUncertaintyInM',\n",
       "       'speciesId', 'patchID', 'timeSerieID'],\n",
       "      dtype='object')"
      ]
     },
     "execution_count": 15,
     "metadata": {},
     "output_type": "execute_result"
    }
   ],
   "source": [
    "pa.columns"
   ]
  },
  {
   "cell_type": "code",
   "execution_count": 24,
   "metadata": {},
   "outputs": [
    {
     "data": {
      "text/html": [
       "<div>\n",
       "<style scoped>\n",
       "    .dataframe tbody tr th:only-of-type {\n",
       "        vertical-align: middle;\n",
       "    }\n",
       "\n",
       "    .dataframe tbody tr th {\n",
       "        vertical-align: top;\n",
       "    }\n",
       "\n",
       "    .dataframe thead th {\n",
       "        text-align: right;\n",
       "    }\n",
       "</style>\n",
       "<table border=\"1\" class=\"dataframe\">\n",
       "  <thead>\n",
       "    <tr style=\"text-align: right;\">\n",
       "      <th></th>\n",
       "      <th>lat</th>\n",
       "      <th>lon</th>\n",
       "      <th>patchID</th>\n",
       "    </tr>\n",
       "  </thead>\n",
       "  <tbody>\n",
       "    <tr>\n",
       "      <th>0</th>\n",
       "      <td>48.292730</td>\n",
       "      <td>7.300790</td>\n",
       "      <td>3018575</td>\n",
       "    </tr>\n",
       "    <tr>\n",
       "      <th>1</th>\n",
       "      <td>42.925990</td>\n",
       "      <td>1.483390</td>\n",
       "      <td>3011783</td>\n",
       "    </tr>\n",
       "    <tr>\n",
       "      <th>2</th>\n",
       "      <td>47.396330</td>\n",
       "      <td>6.739570</td>\n",
       "      <td>3018192</td>\n",
       "    </tr>\n",
       "    <tr>\n",
       "      <th>3</th>\n",
       "      <td>45.406150</td>\n",
       "      <td>4.587140</td>\n",
       "      <td>3015541</td>\n",
       "    </tr>\n",
       "    <tr>\n",
       "      <th>4</th>\n",
       "      <td>47.748290</td>\n",
       "      <td>6.955830</td>\n",
       "      <td>3018391</td>\n",
       "    </tr>\n",
       "    <tr>\n",
       "      <th>...</th>\n",
       "      <td>...</td>\n",
       "      <td>...</td>\n",
       "      <td>...</td>\n",
       "    </tr>\n",
       "    <tr>\n",
       "      <th>85001</th>\n",
       "      <td>51.507310</td>\n",
       "      <td>-1.038342</td>\n",
       "      <td>3007054</td>\n",
       "    </tr>\n",
       "    <tr>\n",
       "      <th>85018</th>\n",
       "      <td>51.507315</td>\n",
       "      <td>-1.038342</td>\n",
       "      <td>3007054</td>\n",
       "    </tr>\n",
       "    <tr>\n",
       "      <th>85024</th>\n",
       "      <td>51.549720</td>\n",
       "      <td>-0.689491</td>\n",
       "      <td>3007937</td>\n",
       "    </tr>\n",
       "    <tr>\n",
       "      <th>85047</th>\n",
       "      <td>52.484330</td>\n",
       "      <td>-2.577664</td>\n",
       "      <td>3003681</td>\n",
       "    </tr>\n",
       "    <tr>\n",
       "      <th>85200</th>\n",
       "      <td>57.506567</td>\n",
       "      <td>-4.254082</td>\n",
       "      <td>3000784</td>\n",
       "    </tr>\n",
       "  </tbody>\n",
       "</table>\n",
       "<p>6218 rows × 3 columns</p>\n",
       "</div>"
      ],
      "text/plain": [
       "             lat       lon  patchID\n",
       "0      48.292730  7.300790  3018575\n",
       "1      42.925990  1.483390  3011783\n",
       "2      47.396330  6.739570  3018192\n",
       "3      45.406150  4.587140  3015541\n",
       "4      47.748290  6.955830  3018391\n",
       "...          ...       ...      ...\n",
       "85001  51.507310 -1.038342  3007054\n",
       "85018  51.507315 -1.038342  3007054\n",
       "85024  51.549720 -0.689491  3007937\n",
       "85047  52.484330 -2.577664  3003681\n",
       "85200  57.506567 -4.254082  3000784\n",
       "\n",
       "[6218 rows x 3 columns]"
      ]
     },
     "execution_count": 24,
     "metadata": {},
     "output_type": "execute_result"
    }
   ],
   "source": [
    "pa[['lat','lon','patchID']].drop_duplicates()"
   ]
  },
  {
   "cell_type": "code",
   "execution_count": 15,
   "metadata": {},
   "outputs": [],
   "source": [
    "pa_random_sample = df[df.surveyId.isin(df.surveyId.drop_duplicates().sample(frac=0.2))]\n",
    "pa_random_sample.to_csv('data/GLC24/PresenceAbsenceSurveys/GLC24-PA-metadata-train-sample-20percent.csv', index=False)"
   ]
  },
  {
   "cell_type": "code",
   "execution_count": 14,
   "metadata": {},
   "outputs": [],
   "source": [
    "df[df.country != 'France'].to_csv('data/GLC24/PresenceAbsenceSurveys/GLC24-PA-metadata-train-notFrance.csv', index=False)"
   ]
  },
  {
   "cell_type": "code",
   "execution_count": 9,
   "metadata": {},
   "outputs": [
    {
     "data": {
      "text/plain": [
       "region\n",
       "BLACK SEA            8\n",
       "STEPPIC             12\n",
       "BOREAL              73\n",
       "PANNONIAN          219\n",
       "ALPINE            1838\n",
       "MEDITERRANEAN     7333\n",
       "ATLANTIC         36357\n",
       "CONTINENTAL      43147\n",
       "Name: surveyId, dtype: int64"
      ]
     },
     "execution_count": 9,
     "metadata": {},
     "output_type": "execute_result"
    }
   ],
   "source": [
    "df.drop_duplicates('surveyId').groupby('region').surveyId.count().sort_values()"
   ]
  },
  {
   "cell_type": "code",
   "execution_count": 4,
   "metadata": {},
   "outputs": [
    {
     "data": {
      "text/plain": [
       "0              212\n",
       "16             222\n",
       "21             243\n",
       "35             324\n",
       "41             333\n",
       "            ...   \n",
       "1483581    3919553\n",
       "1483592    3919592\n",
       "1483596    3919620\n",
       "1483608    3919640\n",
       "1483621    3919655\n",
       "Name: surveyId, Length: 88987, dtype: int64"
      ]
     },
     "execution_count": 4,
     "metadata": {},
     "output_type": "execute_result"
    }
   ],
   "source": [
    "df.surveyId.drop_duplicates()"
   ]
  },
  {
   "cell_type": "code",
   "execution_count": 5,
   "metadata": {},
   "outputs": [
    {
     "data": {
      "text/plain": [
       "0              212\n",
       "35             324\n",
       "41             333\n",
       "72             410\n",
       "319            779\n",
       "            ...   \n",
       "1482927    3917824\n",
       "1483015    3917969\n",
       "1483185    3918259\n",
       "1483343    3918699\n",
       "1483378    3918720\n",
       "Name: surveyId, Length: 13501, dtype: int64"
      ]
     },
     "execution_count": 5,
     "metadata": {},
     "output_type": "execute_result"
    }
   ],
   "source": [
    "df[df.country == 'France'].surveyId.drop_duplicates()"
   ]
  },
  {
   "cell_type": "code",
   "execution_count": 2,
   "metadata": {},
   "outputs": [],
   "source": [
    "y_true = np.load('models/0527_glc24_env_1/val_y_true.npy')"
   ]
  },
  {
   "cell_type": "code",
   "execution_count": 3,
   "metadata": {},
   "outputs": [],
   "source": [
    "y_pred = np.load('models/0527_glc24_env_1/last_val_y_pred.npy')"
   ]
  },
  {
   "cell_type": "code",
   "execution_count": 4,
   "metadata": {},
   "outputs": [
    {
     "data": {
      "text/plain": [
       "(88987, 9709)"
      ]
     },
     "execution_count": 4,
     "metadata": {},
     "output_type": "execute_result"
    }
   ],
   "source": [
    "y_true.shape"
   ]
  },
  {
   "cell_type": "code",
   "execution_count": 5,
   "metadata": {},
   "outputs": [
    {
     "data": {
      "text/plain": [
       "(88987, 9709)"
      ]
     },
     "execution_count": 5,
     "metadata": {},
     "output_type": "execute_result"
    }
   ],
   "source": [
    "y_pred.shape"
   ]
  },
  {
   "cell_type": "code",
   "execution_count": 8,
   "metadata": {},
   "outputs": [
    {
     "data": {
      "text/plain": [
       "(9709,)"
      ]
     },
     "execution_count": 8,
     "metadata": {},
     "output_type": "execute_result"
    }
   ],
   "source": [
    "y_true.sum(axis=0).shape"
   ]
  },
  {
   "cell_type": "code",
   "execution_count": 9,
   "metadata": {},
   "outputs": [
    {
     "data": {
      "text/plain": [
       "(88987, 4367)"
      ]
     },
     "execution_count": 9,
     "metadata": {},
     "output_type": "execute_result"
    }
   ],
   "source": [
    "y_true2 = y_true[:,y_true.sum(axis=0) != 0]\n",
    "y_true2.shape"
   ]
  },
  {
   "cell_type": "code",
   "execution_count": 10,
   "metadata": {},
   "outputs": [
    {
     "data": {
      "text/plain": [
       "(88987, 4367)"
      ]
     },
     "execution_count": 10,
     "metadata": {},
     "output_type": "execute_result"
    }
   ],
   "source": [
    "y_pred2 = y_pred[:,y_true.sum(axis=0) !=0]\n",
    "y_pred2.shape"
   ]
  },
  {
   "cell_type": "code",
   "execution_count": 11,
   "metadata": {},
   "outputs": [
    {
     "ename": "KeyboardInterrupt",
     "evalue": "",
     "output_type": "error",
     "traceback": [
      "\u001b[0;31m---------------------------------------------------------------------------\u001b[0m",
      "\u001b[0;31mKeyboardInterrupt\u001b[0m                         Traceback (most recent call last)",
      "Cell \u001b[0;32mIn[11], line 1\u001b[0m\n\u001b[0;32m----> 1\u001b[0m \u001b[43mroc_auc_score\u001b[49m\u001b[43m(\u001b[49m\u001b[43my_true2\u001b[49m\u001b[43m,\u001b[49m\u001b[43m \u001b[49m\u001b[43my_pred2\u001b[49m\u001b[43m)\u001b[49m\n",
      "File \u001b[0;32m~/miniconda3/envs/glc23/lib/python3.9/site-packages/sklearn/metrics/_ranking.py:580\u001b[0m, in \u001b[0;36mroc_auc_score\u001b[0;34m(y_true, y_score, average, sample_weight, max_fpr, multi_class, labels)\u001b[0m\n\u001b[1;32m    572\u001b[0m     \u001b[38;5;28;01mreturn\u001b[39;00m _average_binary_score(\n\u001b[1;32m    573\u001b[0m         partial(_binary_roc_auc_score, max_fpr\u001b[38;5;241m=\u001b[39mmax_fpr),\n\u001b[1;32m    574\u001b[0m         y_true,\n\u001b[0;32m   (...)\u001b[0m\n\u001b[1;32m    577\u001b[0m         sample_weight\u001b[38;5;241m=\u001b[39msample_weight,\n\u001b[1;32m    578\u001b[0m     )\n\u001b[1;32m    579\u001b[0m \u001b[38;5;28;01melse\u001b[39;00m:  \u001b[38;5;66;03m# multilabel-indicator\u001b[39;00m\n\u001b[0;32m--> 580\u001b[0m     \u001b[38;5;28;01mreturn\u001b[39;00m \u001b[43m_average_binary_score\u001b[49m\u001b[43m(\u001b[49m\n\u001b[1;32m    581\u001b[0m \u001b[43m        \u001b[49m\u001b[43mpartial\u001b[49m\u001b[43m(\u001b[49m\u001b[43m_binary_roc_auc_score\u001b[49m\u001b[43m,\u001b[49m\u001b[43m \u001b[49m\u001b[43mmax_fpr\u001b[49m\u001b[38;5;241;43m=\u001b[39;49m\u001b[43mmax_fpr\u001b[49m\u001b[43m)\u001b[49m\u001b[43m,\u001b[49m\n\u001b[1;32m    582\u001b[0m \u001b[43m        \u001b[49m\u001b[43my_true\u001b[49m\u001b[43m,\u001b[49m\n\u001b[1;32m    583\u001b[0m \u001b[43m        \u001b[49m\u001b[43my_score\u001b[49m\u001b[43m,\u001b[49m\n\u001b[1;32m    584\u001b[0m \u001b[43m        \u001b[49m\u001b[43maverage\u001b[49m\u001b[43m,\u001b[49m\n\u001b[1;32m    585\u001b[0m \u001b[43m        \u001b[49m\u001b[43msample_weight\u001b[49m\u001b[38;5;241;43m=\u001b[39;49m\u001b[43msample_weight\u001b[49m\u001b[43m,\u001b[49m\n\u001b[1;32m    586\u001b[0m \u001b[43m    \u001b[49m\u001b[43m)\u001b[49m\n",
      "File \u001b[0;32m~/miniconda3/envs/glc23/lib/python3.9/site-packages/sklearn/metrics/_base.py:116\u001b[0m, in \u001b[0;36m_average_binary_score\u001b[0;34m(binary_metric, y_true, y_score, average, sample_weight)\u001b[0m\n\u001b[1;32m    114\u001b[0m score \u001b[38;5;241m=\u001b[39m np\u001b[38;5;241m.\u001b[39mzeros((n_classes,))\n\u001b[1;32m    115\u001b[0m \u001b[38;5;28;01mfor\u001b[39;00m c \u001b[38;5;129;01min\u001b[39;00m \u001b[38;5;28mrange\u001b[39m(n_classes):\n\u001b[0;32m--> 116\u001b[0m     y_true_c \u001b[38;5;241m=\u001b[39m \u001b[43my_true\u001b[49m\u001b[38;5;241;43m.\u001b[39;49m\u001b[43mtake\u001b[49m\u001b[43m(\u001b[49m\u001b[43m[\u001b[49m\u001b[43mc\u001b[49m\u001b[43m]\u001b[49m\u001b[43m,\u001b[49m\u001b[43m \u001b[49m\u001b[43maxis\u001b[49m\u001b[38;5;241;43m=\u001b[39;49m\u001b[43mnot_average_axis\u001b[49m\u001b[43m)\u001b[49m\u001b[38;5;241m.\u001b[39mravel()\n\u001b[1;32m    117\u001b[0m     y_score_c \u001b[38;5;241m=\u001b[39m y_score\u001b[38;5;241m.\u001b[39mtake([c], axis\u001b[38;5;241m=\u001b[39mnot_average_axis)\u001b[38;5;241m.\u001b[39mravel()\n\u001b[1;32m    118\u001b[0m     score[c] \u001b[38;5;241m=\u001b[39m binary_metric(y_true_c, y_score_c, sample_weight\u001b[38;5;241m=\u001b[39mscore_weight)\n",
      "\u001b[0;31mKeyboardInterrupt\u001b[0m: "
     ]
    }
   ],
   "source": [
    "roc_auc_score(y_true2, y_pred2)"
   ]
  },
  {
   "cell_type": "code",
   "execution_count": null,
   "metadata": {},
   "outputs": [],
   "source": [
    "[' '.join([str(x) for x in targets[np.where(y_pred[i, :] > best_threshold)]]) for i in range(y_pred.shape[0])]"
   ]
  },
  {
   "cell_type": "code",
   "execution_count": null,
   "metadata": {},
   "outputs": [],
   "source": []
  },
  {
   "cell_type": "code",
   "execution_count": null,
   "metadata": {},
   "outputs": [],
   "source": [
    "[i for i in range(y_pred.shape[0])]"
   ]
  },
  {
   "cell_type": "code",
   "execution_count": 2,
   "metadata": {},
   "outputs": [],
   "source": [
    "import geopandas as gpd\n",
    "import matplotlib.pyplot as plt"
   ]
  },
  {
   "cell_type": "code",
   "execution_count": 37,
   "metadata": {},
   "outputs": [
    {
     "data": {
      "text/plain": [
       "(4908319, 15)"
      ]
     },
     "execution_count": 37,
     "metadata": {},
     "output_type": "execute_result"
    }
   ],
   "source": [
    "po =  pd.read_csv('data/full_data/Presence_only_occurrences/Presences_only_train.csv', sep=\";\", header='infer', low_memory=False)\n",
    "po.shape"
   ]
  },
  {
   "cell_type": "code",
   "execution_count": 5,
   "metadata": {},
   "outputs": [
    {
     "data": {
      "text/plain": [
       "(5079797, 12)"
      ]
     },
     "execution_count": 5,
     "metadata": {},
     "output_type": "execute_result"
    }
   ],
   "source": [
    "po24 = pd.read_csv('data/glc24_data/PresenceOnlyOccurrences/GLC24-PO-metadata-train.csv')\n",
    "po24.shape"
   ]
  },
  {
   "cell_type": "code",
   "execution_count": 6,
   "metadata": {},
   "outputs": [],
   "source": [
    "po_geo = gpd.GeoDataFrame(po, geometry=gpd.points_from_xy(po.lon, po.lat), crs=\"EPSG:4326\")\n",
    "po24_geo = gpd.GeoDataFrame(po24, geometry=gpd.points_from_xy(po24.lon, po24.lat), crs=\"EPSG:4326\")"
   ]
  },
  {
   "cell_type": "code",
   "execution_count": 15,
   "metadata": {},
   "outputs": [
    {
     "name": "stdout",
     "output_type": "stream",
     "text": [
      "(85325, 15) (7438, 5)\n"
     ]
    }
   ],
   "source": [
    "pa = pd.read_csv(pa_path, sep=\";\", header='infer', low_memory=False)\n",
    "items = pd.DataFrame(pa.groupby(['lat','lon','patchID','dayOfYear'])['speciesId'].agg(list)).reset_index()\n",
    "print(pa.shape, items.shape)"
   ]
  },
  {
   "cell_type": "code",
   "execution_count": 18,
   "metadata": {},
   "outputs": [
    {
     "name": "stdout",
     "output_type": "stream",
     "text": [
      "(1483637, 9) (88987, 5)\n"
     ]
    }
   ],
   "source": [
    "pa24 = pd.read_csv('data/glc24_data/PresenceAbsenceSurveys/GLC24-PA-metadata-train.csv')\n",
    "items24 = pd.DataFrame(pa24.groupby(['lat','lon','year','surveyId'])['speciesId'].agg(list)).reset_index()\n",
    "print(pa24.shape, items24.shape)"
   ]
  },
  {
   "cell_type": "code",
   "execution_count": 42,
   "metadata": {},
   "outputs": [
    {
     "data": {
      "text/plain": [
       "5016"
      ]
     },
     "execution_count": 42,
     "metadata": {},
     "output_type": "execute_result"
    }
   ],
   "source": [
    "len(pa24.speciesId.unique())"
   ]
  },
  {
   "cell_type": "code",
   "execution_count": 43,
   "metadata": {},
   "outputs": [
    {
     "data": {
      "text/plain": [
       "(4663657, 13)"
      ]
     },
     "execution_count": 43,
     "metadata": {},
     "output_type": "execute_result"
    }
   ],
   "source": [
    "po24[po24['speciesId'].isin(pa24.speciesId.unique())].shape"
   ]
  },
  {
   "cell_type": "code",
   "execution_count": 22,
   "metadata": {},
   "outputs": [],
   "source": [
    "pa_geo = gpd.GeoDataFrame(items, geometry=gpd.points_from_xy(items.lon, items.lat), crs=\"EPSG:4326\")\n",
    "pa24_geo = gpd.GeoDataFrame(items24, geometry=gpd.points_from_xy(items24.lon, items24.lat), crs=\"EPSG:4326\")"
   ]
  },
  {
   "cell_type": "code",
   "execution_count": 29,
   "metadata": {},
   "outputs": [
    {
     "data": {
      "text/plain": [
       "<AxesSubplot: >"
      ]
     },
     "execution_count": 29,
     "metadata": {},
     "output_type": "execute_result"
    },
    {
     "data": {
      "image/png": "[encoded data removed]",
      "text/plain": [
       "<Figure size 640x480 with 1 Axes>"
      ]
     },
     "metadata": {},
     "output_type": "display_data"
    }
   ],
   "source": [
    "fig, (ax1) = plt.subplots(1)\n",
    "po_geo.plot(color='blue', marker='o', markersize=0.1, ax=ax1)\n",
    "pa_geo.plot(color='red', marker='o', markersize=0.1, alpha=1, ax=ax1)\n",
    "\n",
    "# po_geo[0:100000].plot(color='red', marker='o', markersize=0.1, alpha=0.1, ax=ax)"
   ]
  },
  {
   "cell_type": "code",
   "execution_count": 113,
   "metadata": {},
   "outputs": [
    {
     "data": {
      "text/html": [
       "<div>\n",
       "<style scoped>\n",
       "    .dataframe tbody tr th:only-of-type {\n",
       "        vertical-align: middle;\n",
       "    }\n",
       "\n",
       "    .dataframe tbody tr th {\n",
       "        vertical-align: top;\n",
       "    }\n",
       "\n",
       "    .dataframe thead th {\n",
       "        text-align: right;\n",
       "    }\n",
       "</style>\n",
       "<table border=\"1\" class=\"dataframe\">\n",
       "  <thead>\n",
       "    <tr style=\"text-align: right;\">\n",
       "      <th></th>\n",
       "      <th>Unnamed: 0</th>\n",
       "      <th>glcID</th>\n",
       "      <th>gbifID</th>\n",
       "      <th>observer</th>\n",
       "      <th>datasetName</th>\n",
       "      <th>date</th>\n",
       "      <th>dayOfYear</th>\n",
       "      <th>year</th>\n",
       "      <th>lon</th>\n",
       "      <th>lat</th>\n",
       "      <th>x_EPSG3035</th>\n",
       "      <th>y_EPSG3035</th>\n",
       "      <th>geoUncertaintyInM</th>\n",
       "      <th>speciesId</th>\n",
       "      <th>patchID</th>\n",
       "      <th>timeSerieID</th>\n",
       "      <th>geometry</th>\n",
       "    </tr>\n",
       "  </thead>\n",
       "  <tbody>\n",
       "    <tr>\n",
       "      <th>0</th>\n",
       "      <td>2649153</td>\n",
       "      <td>1399463</td>\n",
       "      <td>3.949786e+09</td>\n",
       "      <td>NaN</td>\n",
       "      <td>Pl@ntNet observations</td>\n",
       "      <td>2021-07-27</td>\n",
       "      <td>208</td>\n",
       "      <td>2021</td>\n",
       "      <td>8.871302</td>\n",
       "      <td>47.49095</td>\n",
       "      <td>4235890.0</td>\n",
       "      <td>2709242.0</td>\n",
       "      <td>65.00</td>\n",
       "      <td>8136</td>\n",
       "      <td>5435098</td>\n",
       "      <td>2410703</td>\n",
       "      <td>POINT (4235890.000 2709242.000)</td>\n",
       "    </tr>\n",
       "    <tr>\n",
       "      <th>1</th>\n",
       "      <td>4002343</td>\n",
       "      <td>1470399</td>\n",
       "      <td>2.977415e+09</td>\n",
       "      <td>NaN</td>\n",
       "      <td>Pl@ntNet automatic</td>\n",
       "      <td>2020-05-06</td>\n",
       "      <td>127</td>\n",
       "      <td>2020</td>\n",
       "      <td>12.068050</td>\n",
       "      <td>42.08209</td>\n",
       "      <td>4492705.0</td>\n",
       "      <td>2111036.0</td>\n",
       "      <td>15.17</td>\n",
       "      <td>3097</td>\n",
       "      <td>6265398</td>\n",
       "      <td>3243038</td>\n",
       "      <td>POINT (4492705.000 2111036.000)</td>\n",
       "    </tr>\n",
       "    <tr>\n",
       "      <th>2</th>\n",
       "      <td>2029213</td>\n",
       "      <td>1529540</td>\n",
       "      <td>2.977662e+09</td>\n",
       "      <td>NaN</td>\n",
       "      <td>Pl@ntNet automatic</td>\n",
       "      <td>2020-07-01</td>\n",
       "      <td>183</td>\n",
       "      <td>2020</td>\n",
       "      <td>6.720335</td>\n",
       "      <td>46.11742</td>\n",
       "      <td>4067272.0</td>\n",
       "      <td>2561639.0</td>\n",
       "      <td>5.00</td>\n",
       "      <td>7262</td>\n",
       "      <td>4950564</td>\n",
       "      <td>1926756</td>\n",
       "      <td>POINT (4067272.000 2561639.000)</td>\n",
       "    </tr>\n",
       "    <tr>\n",
       "      <th>3</th>\n",
       "      <td>1853144</td>\n",
       "      <td>401365</td>\n",
       "      <td>2.815231e+09</td>\n",
       "      <td>Ove Sander Førland;Leiv Krumsvik</td>\n",
       "      <td>NOR Species Observation</td>\n",
       "      <td>2020-06-24</td>\n",
       "      <td>176</td>\n",
       "      <td>2020</td>\n",
       "      <td>6.081810</td>\n",
       "      <td>58.98705</td>\n",
       "      <td>4095400.0</td>\n",
       "      <td>3993561.0</td>\n",
       "      <td>5.00</td>\n",
       "      <td>9687</td>\n",
       "      <td>4789398</td>\n",
       "      <td>1765663</td>\n",
       "      <td>POINT (4095400.000 3993561.000)</td>\n",
       "    </tr>\n",
       "    <tr>\n",
       "      <th>4</th>\n",
       "      <td>4762061</td>\n",
       "      <td>4510550</td>\n",
       "      <td>3.957207e+09</td>\n",
       "      <td>NaN</td>\n",
       "      <td>Pl@ntNet automatic</td>\n",
       "      <td>2020-05-24</td>\n",
       "      <td>145</td>\n",
       "      <td>2020</td>\n",
       "      <td>19.806660</td>\n",
       "      <td>50.06323</td>\n",
       "      <td>5020841.0</td>\n",
       "      <td>3041419.0</td>\n",
       "      <td>9.20</td>\n",
       "      <td>1995</td>\n",
       "      <td>6872516</td>\n",
       "      <td>3852177</td>\n",
       "      <td>POINT (5020841.000 3041419.000)</td>\n",
       "    </tr>\n",
       "    <tr>\n",
       "      <th>...</th>\n",
       "      <td>...</td>\n",
       "      <td>...</td>\n",
       "      <td>...</td>\n",
       "      <td>...</td>\n",
       "      <td>...</td>\n",
       "      <td>...</td>\n",
       "      <td>...</td>\n",
       "      <td>...</td>\n",
       "      <td>...</td>\n",
       "      <td>...</td>\n",
       "      <td>...</td>\n",
       "      <td>...</td>\n",
       "      <td>...</td>\n",
       "      <td>...</td>\n",
       "      <td>...</td>\n",
       "      <td>...</td>\n",
       "      <td>...</td>\n",
       "    </tr>\n",
       "    <tr>\n",
       "      <th>3558521</th>\n",
       "      <td>1250943</td>\n",
       "      <td>1157288</td>\n",
       "      <td>3.320838e+09</td>\n",
       "      <td>David Delon</td>\n",
       "      <td>iNaturalist RG</td>\n",
       "      <td>2021-05-12</td>\n",
       "      <td>132</td>\n",
       "      <td>2021</td>\n",
       "      <td>3.730108</td>\n",
       "      <td>43.78989</td>\n",
       "      <td>3815796.0</td>\n",
       "      <td>2318978.0</td>\n",
       "      <td>3.00</td>\n",
       "      <td>8893</td>\n",
       "      <td>4216446</td>\n",
       "      <td>1196033</td>\n",
       "      <td>POINT (3815796.000 2318978.000)</td>\n",
       "    </tr>\n",
       "    <tr>\n",
       "      <th>3558522</th>\n",
       "      <td>2733577</td>\n",
       "      <td>715294</td>\n",
       "      <td>2.895347e+09</td>\n",
       "      <td>Miljøstyrelsen</td>\n",
       "      <td>DEN Environmental Portal</td>\n",
       "      <td>2018-08-23</td>\n",
       "      <td>235</td>\n",
       "      <td>2018</td>\n",
       "      <td>9.066010</td>\n",
       "      <td>56.38362</td>\n",
       "      <td>4263259.0</td>\n",
       "      <td>3698170.0</td>\n",
       "      <td>3.00</td>\n",
       "      <td>9407</td>\n",
       "      <td>5485782</td>\n",
       "      <td>2461471</td>\n",
       "      <td>POINT (4263259.000 3698170.000)</td>\n",
       "    </tr>\n",
       "    <tr>\n",
       "      <th>3558523</th>\n",
       "      <td>4753256</td>\n",
       "      <td>2799812</td>\n",
       "      <td>3.958016e+09</td>\n",
       "      <td>NaN</td>\n",
       "      <td>Pl@ntNet automatic</td>\n",
       "      <td>2020-07-30</td>\n",
       "      <td>212</td>\n",
       "      <td>2020</td>\n",
       "      <td>19.273600</td>\n",
       "      <td>50.22742</td>\n",
       "      <td>4980762.0</td>\n",
       "      <td>3054607.0</td>\n",
       "      <td>4.29</td>\n",
       "      <td>4466</td>\n",
       "      <td>6864916</td>\n",
       "      <td>3844571</td>\n",
       "      <td>POINT (4980762.000 3054607.000)</td>\n",
       "    </tr>\n",
       "    <tr>\n",
       "      <th>3558524</th>\n",
       "      <td>833493</td>\n",
       "      <td>3232158</td>\n",
       "      <td>2.644453e+09</td>\n",
       "      <td>NaN</td>\n",
       "      <td>Pl@ntNet automatic</td>\n",
       "      <td>2019-03-08</td>\n",
       "      <td>67</td>\n",
       "      <td>2019</td>\n",
       "      <td>1.090096</td>\n",
       "      <td>43.60787</td>\n",
       "      <td>3601788.0</td>\n",
       "      <td>2320443.0</td>\n",
       "      <td>14.61</td>\n",
       "      <td>6764</td>\n",
       "      <td>3806993</td>\n",
       "      <td>788803</td>\n",
       "      <td>POINT (3601788.000 2320443.000)</td>\n",
       "    </tr>\n",
       "    <tr>\n",
       "      <th>3558525</th>\n",
       "      <td>2020300</td>\n",
       "      <td>2752618</td>\n",
       "      <td>2.248007e+09</td>\n",
       "      <td>Svein Grimsby;Sebastian Grimsby</td>\n",
       "      <td>NOR Species Observation</td>\n",
       "      <td>2019-04-29</td>\n",
       "      <td>119</td>\n",
       "      <td>2019</td>\n",
       "      <td>6.693203</td>\n",
       "      <td>58.29763</td>\n",
       "      <td>4126850.0</td>\n",
       "      <td>3915194.0</td>\n",
       "      <td>50.00</td>\n",
       "      <td>8732</td>\n",
       "      <td>4942787</td>\n",
       "      <td>1919003</td>\n",
       "      <td>POINT (4126850.000 3915194.000)</td>\n",
       "    </tr>\n",
       "  </tbody>\n",
       "</table>\n",
       "<p>3558526 rows × 17 columns</p>\n",
       "</div>"
      ],
      "text/plain": [
       "         Unnamed: 0    glcID        gbifID                          observer  \\\n",
       "0           2649153  1399463  3.949786e+09                               NaN   \n",
       "1           4002343  1470399  2.977415e+09                               NaN   \n",
       "2           2029213  1529540  2.977662e+09                               NaN   \n",
       "3           1853144   401365  2.815231e+09  Ove Sander Førland;Leiv Krumsvik   \n",
       "4           4762061  4510550  3.957207e+09                               NaN   \n",
       "...             ...      ...           ...                               ...   \n",
       "3558521     1250943  1157288  3.320838e+09                       David Delon   \n",
       "3558522     2733577   715294  2.895347e+09                    Miljøstyrelsen   \n",
       "3558523     4753256  2799812  3.958016e+09                               NaN   \n",
       "3558524      833493  3232158  2.644453e+09                               NaN   \n",
       "3558525     2020300  2752618  2.248007e+09   Svein Grimsby;Sebastian Grimsby   \n",
       "\n",
       "                      datasetName        date  dayOfYear  year        lon  \\\n",
       "0           Pl@ntNet observations  2021-07-27        208  2021   8.871302   \n",
       "1              Pl@ntNet automatic  2020-05-06        127  2020  12.068050   \n",
       "2              Pl@ntNet automatic  2020-07-01        183  2020   6.720335   \n",
       "3         NOR Species Observation  2020-06-24        176  2020   6.081810   \n",
       "4              Pl@ntNet automatic  2020-05-24        145  2020  19.806660   \n",
       "...                           ...         ...        ...   ...        ...   \n",
       "3558521            iNaturalist RG  2021-05-12        132  2021   3.730108   \n",
       "3558522  DEN Environmental Portal  2018-08-23        235  2018   9.066010   \n",
       "3558523        Pl@ntNet automatic  2020-07-30        212  2020  19.273600   \n",
       "3558524        Pl@ntNet automatic  2019-03-08         67  2019   1.090096   \n",
       "3558525   NOR Species Observation  2019-04-29        119  2019   6.693203   \n",
       "\n",
       "              lat  x_EPSG3035  y_EPSG3035  geoUncertaintyInM  speciesId  \\\n",
       "0        47.49095   4235890.0   2709242.0              65.00       8136   \n",
       "1        42.08209   4492705.0   2111036.0              15.17       3097   \n",
       "2        46.11742   4067272.0   2561639.0               5.00       7262   \n",
       "3        58.98705   4095400.0   3993561.0               5.00       9687   \n",
       "4        50.06323   5020841.0   3041419.0               9.20       1995   \n",
       "...           ...         ...         ...                ...        ...   \n",
       "3558521  43.78989   3815796.0   2318978.0               3.00       8893   \n",
       "3558522  56.38362   4263259.0   3698170.0               3.00       9407   \n",
       "3558523  50.22742   4980762.0   3054607.0               4.29       4466   \n",
       "3558524  43.60787   3601788.0   2320443.0              14.61       6764   \n",
       "3558525  58.29763   4126850.0   3915194.0              50.00       8732   \n",
       "\n",
       "         patchID  timeSerieID                         geometry  \n",
       "0        5435098      2410703  POINT (4235890.000 2709242.000)  \n",
       "1        6265398      3243038  POINT (4492705.000 2111036.000)  \n",
       "2        4950564      1926756  POINT (4067272.000 2561639.000)  \n",
       "3        4789398      1765663  POINT (4095400.000 3993561.000)  \n",
       "4        6872516      3852177  POINT (5020841.000 3041419.000)  \n",
       "...          ...          ...                              ...  \n",
       "3558521  4216446      1196033  POINT (3815796.000 2318978.000)  \n",
       "3558522  5485782      2461471  POINT (4263259.000 3698170.000)  \n",
       "3558523  6864916      3844571  POINT (4980762.000 3054607.000)  \n",
       "3558524  3806993       788803  POINT (3601788.000 2320443.000)  \n",
       "3558525  4942787      1919003  POINT (4126850.000 3915194.000)  \n",
       "\n",
       "[3558526 rows x 17 columns]"
      ]
     },
     "execution_count": 113,
     "metadata": {},
     "output_type": "execute_result"
    }
   ],
   "source": [
    "po =  pd.read_csv(po_path, sep=\";\", header='infer', low_memory=False)\n",
    "po = gpd.GeoDataFrame(po, geometry=gpd.points_from_xy(po.x_EPSG3035, po.y_EPSG3035, crs=\"EPSG:3035\"))\n",
    "po"
   ]
  },
  {
   "cell_type": "code",
   "execution_count": 114,
   "metadata": {},
   "outputs": [
    {
     "data": {
      "text/html": [
       "<div>\n",
       "<style scoped>\n",
       "    .dataframe tbody tr th:only-of-type {\n",
       "        vertical-align: middle;\n",
       "    }\n",
       "\n",
       "    .dataframe tbody tr th {\n",
       "        vertical-align: top;\n",
       "    }\n",
       "\n",
       "    .dataframe thead th {\n",
       "        text-align: right;\n",
       "    }\n",
       "</style>\n",
       "<table border=\"1\" class=\"dataframe\">\n",
       "  <thead>\n",
       "    <tr style=\"text-align: right;\">\n",
       "      <th></th>\n",
       "      <th>glcID</th>\n",
       "      <th>gbifID</th>\n",
       "      <th>observer</th>\n",
       "      <th>datasetName</th>\n",
       "      <th>date</th>\n",
       "      <th>dayOfYear</th>\n",
       "      <th>year</th>\n",
       "      <th>lon</th>\n",
       "      <th>lat</th>\n",
       "      <th>x_EPSG3035</th>\n",
       "      <th>y_EPSG3035</th>\n",
       "      <th>geoUncertaintyInM</th>\n",
       "      <th>speciesId</th>\n",
       "      <th>patchID</th>\n",
       "      <th>timeSerieID</th>\n",
       "      <th>geometry</th>\n",
       "    </tr>\n",
       "  </thead>\n",
       "  <tbody>\n",
       "    <tr>\n",
       "      <th>0</th>\n",
       "      <td>5140269</td>\n",
       "      <td>3.473385e+09</td>\n",
       "      <td>(IGN)</td>\n",
       "      <td>Inventaire forestier IGN</td>\n",
       "      <td>2018-01-31</td>\n",
       "      <td>31</td>\n",
       "      <td>2018</td>\n",
       "      <td>7.300790</td>\n",
       "      <td>48.29273</td>\n",
       "      <td>4.120673e+06</td>\n",
       "      <td>2.801353e+06</td>\n",
       "      <td>1.0</td>\n",
       "      <td>6574</td>\n",
       "      <td>3018575</td>\n",
       "      <td>3980325</td>\n",
       "      <td>POINT (4120673.000 2801353.000)</td>\n",
       "    </tr>\n",
       "    <tr>\n",
       "      <th>1</th>\n",
       "      <td>5279421</td>\n",
       "      <td>3.474159e+09</td>\n",
       "      <td>(IGN)</td>\n",
       "      <td>Inventaire forestier IGN</td>\n",
       "      <td>2017-07-19</td>\n",
       "      <td>200</td>\n",
       "      <td>2017</td>\n",
       "      <td>1.483390</td>\n",
       "      <td>42.92599</td>\n",
       "      <td>3.625340e+06</td>\n",
       "      <td>2.241565e+06</td>\n",
       "      <td>1.0</td>\n",
       "      <td>6574</td>\n",
       "      <td>3011783</td>\n",
       "      <td>3980331</td>\n",
       "      <td>POINT (3625340.000 2241565.000)</td>\n",
       "    </tr>\n",
       "    <tr>\n",
       "      <th>2</th>\n",
       "      <td>5058088</td>\n",
       "      <td>3.475680e+09</td>\n",
       "      <td>(IGN)</td>\n",
       "      <td>Inventaire forestier IGN</td>\n",
       "      <td>2017-09-26</td>\n",
       "      <td>269</td>\n",
       "      <td>2017</td>\n",
       "      <td>6.739570</td>\n",
       "      <td>47.39633</td>\n",
       "      <td>4.074778e+06</td>\n",
       "      <td>2.703502e+06</td>\n",
       "      <td>1.0</td>\n",
       "      <td>6574</td>\n",
       "      <td>3018192</td>\n",
       "      <td>3980335</td>\n",
       "      <td>POINT (4074778.286 2703501.663)</td>\n",
       "    </tr>\n",
       "    <tr>\n",
       "      <th>3</th>\n",
       "      <td>5146840</td>\n",
       "      <td>3.476162e+09</td>\n",
       "      <td>(IGN)</td>\n",
       "      <td>Inventaire forestier IGN</td>\n",
       "      <td>2017-09-20</td>\n",
       "      <td>263</td>\n",
       "      <td>2017</td>\n",
       "      <td>4.587140</td>\n",
       "      <td>45.40615</td>\n",
       "      <td>3.897015e+06</td>\n",
       "      <td>2.492494e+06</td>\n",
       "      <td>1.0</td>\n",
       "      <td>6574</td>\n",
       "      <td>3015541</td>\n",
       "      <td>3980336</td>\n",
       "      <td>POINT (3897015.000 2492494.000)</td>\n",
       "    </tr>\n",
       "    <tr>\n",
       "      <th>4</th>\n",
       "      <td>5255062</td>\n",
       "      <td>3.475124e+09</td>\n",
       "      <td>(IGN)</td>\n",
       "      <td>Inventaire forestier IGN</td>\n",
       "      <td>2019-09-18</td>\n",
       "      <td>261</td>\n",
       "      <td>2019</td>\n",
       "      <td>6.955830</td>\n",
       "      <td>47.74829</td>\n",
       "      <td>4.092660e+06</td>\n",
       "      <td>2.741886e+06</td>\n",
       "      <td>1.0</td>\n",
       "      <td>6574</td>\n",
       "      <td>3018391</td>\n",
       "      <td>3980351</td>\n",
       "      <td>POINT (4092660.000 2741886.000)</td>\n",
       "    </tr>\n",
       "    <tr>\n",
       "      <th>...</th>\n",
       "      <td>...</td>\n",
       "      <td>...</td>\n",
       "      <td>...</td>\n",
       "      <td>...</td>\n",
       "      <td>...</td>\n",
       "      <td>...</td>\n",
       "      <td>...</td>\n",
       "      <td>...</td>\n",
       "      <td>...</td>\n",
       "      <td>...</td>\n",
       "      <td>...</td>\n",
       "      <td>...</td>\n",
       "      <td>...</td>\n",
       "      <td>...</td>\n",
       "      <td>...</td>\n",
       "      <td>...</td>\n",
       "    </tr>\n",
       "    <tr>\n",
       "      <th>85320</th>\n",
       "      <td>5320539</td>\n",
       "      <td>NaN</td>\n",
       "      <td>NaN</td>\n",
       "      <td>CBNMed</td>\n",
       "      <td>1621461600</td>\n",
       "      <td>140</td>\n",
       "      <td>2021</td>\n",
       "      <td>5.094570</td>\n",
       "      <td>44.18660</td>\n",
       "      <td>3.928254e+06</td>\n",
       "      <td>2.354689e+06</td>\n",
       "      <td>10.0</td>\n",
       "      <td>9456</td>\n",
       "      <td>76900</td>\n",
       "      <td>3993145</td>\n",
       "      <td>POINT (3928254.000 2354689.000)</td>\n",
       "    </tr>\n",
       "    <tr>\n",
       "      <th>85321</th>\n",
       "      <td>5392608</td>\n",
       "      <td>NaN</td>\n",
       "      <td>NaN</td>\n",
       "      <td>CBNMed</td>\n",
       "      <td>1497909600</td>\n",
       "      <td>171</td>\n",
       "      <td>2017</td>\n",
       "      <td>5.781197</td>\n",
       "      <td>43.74345</td>\n",
       "      <td>3.980545e+06</td>\n",
       "      <td>2.302273e+06</td>\n",
       "      <td>10.0</td>\n",
       "      <td>9456</td>\n",
       "      <td>94452</td>\n",
       "      <td>3986894</td>\n",
       "      <td>POINT (3980545.000 2302273.000)</td>\n",
       "    </tr>\n",
       "    <tr>\n",
       "      <th>85322</th>\n",
       "      <td>5353058</td>\n",
       "      <td>NaN</td>\n",
       "      <td>NaN</td>\n",
       "      <td>CBNMed</td>\n",
       "      <td>1621461600</td>\n",
       "      <td>140</td>\n",
       "      <td>2021</td>\n",
       "      <td>5.094620</td>\n",
       "      <td>44.18680</td>\n",
       "      <td>3.928259e+06</td>\n",
       "      <td>2.354711e+06</td>\n",
       "      <td>10.0</td>\n",
       "      <td>9456</td>\n",
       "      <td>76905</td>\n",
       "      <td>3993923</td>\n",
       "      <td>POINT (3928259.000 2354711.000)</td>\n",
       "    </tr>\n",
       "    <tr>\n",
       "      <th>85323</th>\n",
       "      <td>5102872</td>\n",
       "      <td>2.907311e+09</td>\n",
       "      <td>Shoesmith, J. Judith</td>\n",
       "      <td>Nat. plant monitoring UK</td>\n",
       "      <td>2017-06-07</td>\n",
       "      <td>158</td>\n",
       "      <td>2017</td>\n",
       "      <td>0.785642</td>\n",
       "      <td>51.70740</td>\n",
       "      <td>3.686016e+06</td>\n",
       "      <td>3.217623e+06</td>\n",
       "      <td>7.1</td>\n",
       "      <td>6081</td>\n",
       "      <td>3010687</td>\n",
       "      <td>3990777</td>\n",
       "      <td>POINT (3686016.000 3217623.000)</td>\n",
       "    </tr>\n",
       "    <tr>\n",
       "      <th>85324</th>\n",
       "      <td>5116179</td>\n",
       "      <td>2.907245e+09</td>\n",
       "      <td>Shoesmith, J. Judith</td>\n",
       "      <td>Nat. plant monitoring UK</td>\n",
       "      <td>2017-09-06</td>\n",
       "      <td>249</td>\n",
       "      <td>2017</td>\n",
       "      <td>0.785642</td>\n",
       "      <td>51.70740</td>\n",
       "      <td>3.686016e+06</td>\n",
       "      <td>3.217623e+06</td>\n",
       "      <td>7.1</td>\n",
       "      <td>6081</td>\n",
       "      <td>3010687</td>\n",
       "      <td>3990793</td>\n",
       "      <td>POINT (3686016.000 3217623.000)</td>\n",
       "    </tr>\n",
       "  </tbody>\n",
       "</table>\n",
       "<p>85325 rows × 16 columns</p>\n",
       "</div>"
      ],
      "text/plain": [
       "         glcID        gbifID              observer               datasetName  \\\n",
       "0      5140269  3.473385e+09                 (IGN)  Inventaire forestier IGN   \n",
       "1      5279421  3.474159e+09                 (IGN)  Inventaire forestier IGN   \n",
       "2      5058088  3.475680e+09                 (IGN)  Inventaire forestier IGN   \n",
       "3      5146840  3.476162e+09                 (IGN)  Inventaire forestier IGN   \n",
       "4      5255062  3.475124e+09                 (IGN)  Inventaire forestier IGN   \n",
       "...        ...           ...                   ...                       ...   \n",
       "85320  5320539           NaN                   NaN                    CBNMed   \n",
       "85321  5392608           NaN                   NaN                    CBNMed   \n",
       "85322  5353058           NaN                   NaN                    CBNMed   \n",
       "85323  5102872  2.907311e+09  Shoesmith, J. Judith  Nat. plant monitoring UK   \n",
       "85324  5116179  2.907245e+09  Shoesmith, J. Judith  Nat. plant monitoring UK   \n",
       "\n",
       "             date  dayOfYear  year       lon       lat    x_EPSG3035  \\\n",
       "0      2018-01-31         31  2018  7.300790  48.29273  4.120673e+06   \n",
       "1      2017-07-19        200  2017  1.483390  42.92599  3.625340e+06   \n",
       "2      2017-09-26        269  2017  6.739570  47.39633  4.074778e+06   \n",
       "3      2017-09-20        263  2017  4.587140  45.40615  3.897015e+06   \n",
       "4      2019-09-18        261  2019  6.955830  47.74829  4.092660e+06   \n",
       "...           ...        ...   ...       ...       ...           ...   \n",
       "85320  1621461600        140  2021  5.094570  44.18660  3.928254e+06   \n",
       "85321  1497909600        171  2017  5.781197  43.74345  3.980545e+06   \n",
       "85322  1621461600        140  2021  5.094620  44.18680  3.928259e+06   \n",
       "85323  2017-06-07        158  2017  0.785642  51.70740  3.686016e+06   \n",
       "85324  2017-09-06        249  2017  0.785642  51.70740  3.686016e+06   \n",
       "\n",
       "         y_EPSG3035  geoUncertaintyInM  speciesId  patchID  timeSerieID  \\\n",
       "0      2.801353e+06                1.0       6574  3018575      3980325   \n",
       "1      2.241565e+06                1.0       6574  3011783      3980331   \n",
       "2      2.703502e+06                1.0       6574  3018192      3980335   \n",
       "3      2.492494e+06                1.0       6574  3015541      3980336   \n",
       "4      2.741886e+06                1.0       6574  3018391      3980351   \n",
       "...             ...                ...        ...      ...          ...   \n",
       "85320  2.354689e+06               10.0       9456    76900      3993145   \n",
       "85321  2.302273e+06               10.0       9456    94452      3986894   \n",
       "85322  2.354711e+06               10.0       9456    76905      3993923   \n",
       "85323  3.217623e+06                7.1       6081  3010687      3990777   \n",
       "85324  3.217623e+06                7.1       6081  3010687      3990793   \n",
       "\n",
       "                              geometry  \n",
       "0      POINT (4120673.000 2801353.000)  \n",
       "1      POINT (3625340.000 2241565.000)  \n",
       "2      POINT (4074778.286 2703501.663)  \n",
       "3      POINT (3897015.000 2492494.000)  \n",
       "4      POINT (4092660.000 2741886.000)  \n",
       "...                                ...  \n",
       "85320  POINT (3928254.000 2354689.000)  \n",
       "85321  POINT (3980545.000 2302273.000)  \n",
       "85322  POINT (3928259.000 2354711.000)  \n",
       "85323  POINT (3686016.000 3217623.000)  \n",
       "85324  POINT (3686016.000 3217623.000)  \n",
       "\n",
       "[85325 rows x 16 columns]"
      ]
     },
     "execution_count": 114,
     "metadata": {},
     "output_type": "execute_result"
    }
   ],
   "source": [
    "pa = pd.read_csv(pa_path, sep=\";\", header='infer', low_memory=False)\n",
    "pa = gpd.GeoDataFrame(pa, geometry=gpd.points_from_xy(pa.x_EPSG3035, pa.y_EPSG3035, crs=\"EPSG:3035\"))\n",
    "pa"
   ]
  },
  {
   "cell_type": "code",
   "execution_count": 115,
   "metadata": {},
   "outputs": [
    {
     "data": {
      "text/plain": [
       "<AxesSubplot: >"
      ]
     },
     "execution_count": 115,
     "metadata": {},
     "output_type": "execute_result"
    },
    {
     "data": {
      "image/png": "[encoded data removed]",
      "text/plain": [
       "<Figure size 640x480 with 1 Axes>"
      ]
     },
     "metadata": {},
     "output_type": "display_data"
    }
   ],
   "source": [
    "fig, ax = plt.subplots(1,1)\n",
    "po.plot(color='blue', markersize=1, ax=ax)\n",
    "pa.plot(color='red', markersize=1, ax=ax)"
   ]
  },
  {
   "cell_type": "code",
   "execution_count": 124,
   "metadata": {},
   "outputs": [
    {
     "data": {
      "text/plain": [
       "<AxesSubplot: >"
      ]
     },
     "execution_count": 124,
     "metadata": {},
     "output_type": "execute_result"
    },
    {
     "data": {
      "image/png": "[encoded data removed]",
      "text/plain": [
       "<Figure size 640x480 with 1 Axes>"
      ]
     },
     "metadata": {},
     "output_type": "display_data"
    }
   ],
   "source": [
    "fig, ax = plt.subplots(1,1)\n",
    "pa.plot(color='blue', markersize=1, ax=ax)\n",
    "tmp.plot(color='red', markersize=1, ax=ax)\n",
    "tmp[tmp['dist_to_pa'] >= 50].plot(color='green', markersize=1, ax=ax)"
   ]
  },
  {
   "cell_type": "code",
   "execution_count": 1,
   "metadata": {},
   "outputs": [],
   "source": [
    "from train_model import *"
   ]
  },
  {
   "cell_type": "code",
   "execution_count": 12,
   "metadata": {},
   "outputs": [],
   "source": [
    "run_name = '0527_glc24_env_1'\n",
    "path_to_config = f\"{modeldir}{run_name}/config.json\"\n",
    "with open(path_to_config, \"r\") as f:\n",
    "    config = json.load(f)\n",
    "config = {k: v if v != \"\" else None for k,v in config.items()}\n",
    "\n",
    "log_wandb = config['log_wandb']\n",
    "wandb_project = config['wandb_project']\n",
    "wandb_id = config['wandb_id']\n",
    "env_model = config['env_model']\n",
    "sat_model = config['sat_model']\n",
    "dataset = config['dataset']\n",
    "random_bg = config['random_bg']\n",
    "n_max_low_occ = config['n_max_low_occ']\n",
    "embed_shape = config['embed_shape']\n",
    "loss = config['loss']\n",
    "lambda2 = config['lambda2']\n",
    "n_epochs = config['n_epochs']\n",
    "batch_size = config['batch_size']\n",
    "learning_rate = config['learning_rate']\n",
    "weight_decay = config['weight_decay']\n",
    "num_workers_train = config['num_workers_train']\n",
    "num_workers_val = config['num_workers_val']\n",
    "seed = config['seed']"
   ]
  },
  {
   "cell_type": "code",
   "execution_count": 13,
   "metadata": {},
   "outputs": [
    {
     "name": "stdout",
     "output_type": "stream",
     "text": [
      "DEVICE: cuda\n"
     ]
    }
   ],
   "source": [
    "seed_everything(seed)\n",
    "\n",
    "# get device (gpu (cuda) or cpu)\n",
    "dev = torch.device(\"cuda\" if torch.cuda.is_available() else \"cpu\")\n",
    "print(f\"DEVICE: {dev}\")"
   ]
  },
  {
   "cell_type": "code",
   "execution_count": 14,
   "metadata": {},
   "outputs": [],
   "source": [
    "model_setup = {}\n",
    "if env_model is not None: \n",
    "    env_model['covariates'] = [get_path_to(cov, dataset, datadir) for cov in env_model['covariates']]\n",
    "    model_setup['env'] = env_model\n",
    "if sat_model is not None: \n",
    "    sat_model['covariates'] = [get_path_to(cov, dataset, datadir) for cov in sat_model['covariates']]\n",
    "    model_setup['sat'] = sat_model\n",
    "\n",
    "assert len(model_setup) <= 2\n",
    "multimodal = (len(model_setup) == 2)\n",
    "if multimodal: assert random_bg is False\n",
    "    \n",
    "if list(model_setup.values())[0]['model_name'] == 'MultiResolutionAutoencoder': \n",
    "    assert multimodal == False\n",
    "    autoencoder = True\n",
    "else: \n",
    "    autoencoder = False\n",
    "\n",
    "if dataset == 'glc23':\n",
    "    sep = ';'\n",
    "    item_columns=['lat','lon','patchID','dayOfYear']\n",
    "    item_columns_val=item_columns\n",
    "    sat_id_col = 'patchID'\n",
    "    select_sat_train=['rgb','nir']\n",
    "elif dataset == 'glc24':\n",
    "    sep = ','\n",
    "    item_columns=['lat','lon','surveyId','dayOfYear']\n",
    "    item_columns_val=['lat','lon','surveyId']\n",
    "    sat_id_col = 'surveyId'\n",
    "    select_sat_train=['po_train_patches_rgb','po_train_patches_nir']\n",
    "    select_sat_val=['pa_train_patches_rgb','pa_train_patches_nir']"
   ]
  },
  {
   "cell_type": "code",
   "execution_count": 15,
   "metadata": {},
   "outputs": [
    {
     "name": "stdout",
     "output_type": "stream",
     "text": [
      "\n",
      "Making patch providers with size=10x10, flatten=False for covariates:\n",
      "\t - data/GLC24/EnvironmentalRasters/Climate/BioClimatic_Average_1981-2010/\n",
      "\t - data/GLC24/EnvironmentalRasters/Soilgrids/\n",
      "\t - data/GLC24/EnvironmentalRasters/LandCover/LandCover_MODIS_Terra-Aqua_500m.tif\n",
      "\n",
      "Making patch providers with size=10x10, flatten=False for covariates:\n",
      "\t - data/GLC24/EnvironmentalRasters/Climate/BioClimatic_Average_1981-2010/\n",
      "\t - data/GLC24/EnvironmentalRasters/Soilgrids/\n",
      "\t - data/GLC24/EnvironmentalRasters/LandCover/LandCover_MODIS_Terra-Aqua_500m.tif\n"
     ]
    }
   ],
   "source": [
    "train_providers = []\n",
    "for model_name, model_dict in model_setup.items():\n",
    "    flatten = True if model_dict['model_name'] == 'MLP' else False \n",
    "    if model_name == 'env':\n",
    "        train_providers.append(make_providers(model_dict['covariates'], model_dict['patch_size'], flatten))\n",
    "    elif model_name == 'sat':\n",
    "        train_providers.append(make_providers(model_dict['covariates'], model_dict['patch_size'], flatten, sat_id_col, select_sat_train))\n",
    "\n",
    "if dataset == 'glc23':\n",
    "    val_providers = train_providers\n",
    "elif dataset == 'glc24':\n",
    "    val_providers = []\n",
    "    for model_name, model_dict in model_setup.items():\n",
    "        flatten = True if model_dict['model_name'] == 'MLP' else False \n",
    "        if model_name == 'env':\n",
    "            val_providers.append(make_providers(model_dict['covariates'], model_dict['patch_size'], flatten))\n",
    "        elif model_name == 'sat':\n",
    "            val_providers.append(make_providers(model_dict['covariates'], model_dict['patch_size'], flatten, sat_id_col, select_sat_val))"
   ]
  },
  {
   "cell_type": "code",
   "execution_count": 16,
   "metadata": {},
   "outputs": [],
   "source": [
    "train_occ_path = get_path_to(\"po\", dataset, datadir)\n",
    "if random_bg:\n",
    "    random_bg_path = get_path_to(\"random_bg\", dataset, datadir)\n",
    "else:\n",
    "    random_bg_path = None\n",
    "val_occ_path = get_path_to(\"pa\", dataset, datadir)"
   ]
  },
  {
   "cell_type": "code",
   "execution_count": 17,
   "metadata": {},
   "outputs": [
    {
     "name": "stdout",
     "output_type": "stream",
     "text": [
      "nb items = 3894962\n"
     ]
    }
   ],
   "source": [
    "train_data = PatchesDatasetCooccurrences(\n",
    "    occurrences=train_occ_path, \n",
    "    providers=train_providers, \n",
    "    item_columns=item_columns,\n",
    "    pseudoabsences=random_bg_path, \n",
    "    n_low_occ=n_max_low_occ,\n",
    "    sep=sep\n",
    ")"
   ]
  },
  {
   "cell_type": "code",
   "execution_count": 18,
   "metadata": {},
   "outputs": [
    {
     "name": "stdout",
     "output_type": "stream",
     "text": [
      "nb items = 88987\n"
     ]
    }
   ],
   "source": [
    "val_data = PatchesDatasetCooccurrences(\n",
    "    occurrences=val_occ_path, \n",
    "    providers=val_providers, \n",
    "    item_columns=item_columns_val,\n",
    "    species=train_data.species_pred, \n",
    "    n_low_occ=n_max_low_occ,\n",
    "    sep=sep\n",
    ")"
   ]
  },
  {
   "cell_type": "code",
   "execution_count": 19,
   "metadata": {},
   "outputs": [
    {
     "data": {
      "text/plain": [
       "(88987, 9709)"
      ]
     },
     "execution_count": 19,
     "metadata": {},
     "output_type": "execute_result"
    }
   ],
   "source": [
    "y_true.shape"
   ]
  },
  {
   "cell_type": "code",
   "execution_count": 20,
   "metadata": {},
   "outputs": [
    {
     "data": {
      "text/plain": [
       "(88987, 9709)"
      ]
     },
     "execution_count": 20,
     "metadata": {},
     "output_type": "execute_result"
    }
   ],
   "source": [
    "y_pred.shape"
   ]
  },
  {
   "cell_type": "code",
   "execution_count": 22,
   "metadata": {},
   "outputs": [
    {
     "data": {
      "text/plain": [
       "(88987, 4367)"
      ]
     },
     "execution_count": 22,
     "metadata": {},
     "output_type": "execute_result"
    }
   ],
   "source": [
    "y_true[:,val_data.species_pred_in_data].shape"
   ]
  },
  {
   "cell_type": "code",
   "execution_count": 26,
   "metadata": {},
   "outputs": [],
   "source": [
    "sps = [s for s in val_data.species_pred if s in val_data.species_data]"
   ]
  },
  {
   "cell_type": "code",
   "execution_count": 27,
   "metadata": {},
   "outputs": [
    {
     "data": {
      "text/plain": [
       "array([2.0000e+00, 4.0000e+00, 9.0000e+00, ..., 1.1248e+04, 1.1253e+04,\n",
       "       1.1254e+04])"
      ]
     },
     "execution_count": 27,
     "metadata": {},
     "output_type": "execute_result"
    }
   ],
   "source": [
    "val_data.species_pred[val_data.species_pred_in_data]"
   ]
  },
  {
   "cell_type": "code",
   "execution_count": 28,
   "metadata": {},
   "outputs": [
    {
     "data": {
      "text/plain": [
       "Float64Index([    1.0,     4.0,     5.0,     6.0,     8.0,    22.0,    23.0,\n",
       "                 25.0,    29.0,    31.0,\n",
       "              ...\n",
       "              11235.0, 11238.0, 11244.0, 11245.0, 11246.0, 11248.0, 11250.0,\n",
       "              11252.0, 11253.0, 11254.0],\n",
       "             dtype='float64', length=6048)"
      ]
     },
     "execution_count": 28,
     "metadata": {},
     "output_type": "execute_result"
    }
   ],
   "source": [
    "train_data.low_occ_species"
   ]
  },
  {
   "cell_type": "code",
   "execution_count": 30,
   "metadata": {},
   "outputs": [
    {
     "data": {
      "text/plain": [
       "1580"
      ]
     },
     "execution_count": 30,
     "metadata": {},
     "output_type": "execute_result"
    }
   ],
   "source": [
    "len([s for s in val_data.species_pred[val_data.species_pred_in_data] if s in train_data.low_occ_species])"
   ]
  },
  {
   "cell_type": "code",
   "execution_count": 37,
   "metadata": {},
   "outputs": [
    {
     "data": {
      "text/plain": [
       "Float64Index([    1.0,     4.0,     5.0,     6.0,     8.0,    22.0,    23.0,\n",
       "                 25.0,    29.0,    31.0,\n",
       "              ...\n",
       "              11235.0, 11238.0, 11244.0, 11245.0, 11246.0, 11248.0, 11250.0,\n",
       "              11252.0, 11253.0, 11254.0],\n",
       "             dtype='float64', length=6048)"
      ]
     },
     "execution_count": 37,
     "metadata": {},
     "output_type": "execute_result"
    }
   ],
   "source": [
    "train_data.low_occ_species"
   ]
  },
  {
   "cell_type": "code",
   "execution_count": 40,
   "metadata": {},
   "outputs": [],
   "source": [
    "species_pred_in_low_occ = [s in train_data.low_occ_species for s in train_data.species_pred]"
   ]
  },
  {
   "cell_type": "code",
   "execution_count": 50,
   "metadata": {},
   "outputs": [
    {
     "data": {
      "text/plain": [
       "array([False, False, False, ..., False,  True,  True])"
      ]
     },
     "execution_count": 50,
     "metadata": {},
     "output_type": "execute_result"
    }
   ],
   "source": [
    "np.logical_and(species_pred_in_low_occ, val_data.species_pred_in_data)"
   ]
  },
  {
   "cell_type": "code",
   "execution_count": 45,
   "metadata": {},
   "outputs": [
    {
     "data": {
      "text/plain": [
       "[False, False, True, True, False, False, False, True, True, True]"
      ]
     },
     "execution_count": 45,
     "metadata": {},
     "output_type": "execute_result"
    }
   ],
   "source": [
    "(species_pred_in_low_occ and val_data.species_pred_in_data)[0:10]"
   ]
  },
  {
   "cell_type": "code",
   "execution_count": 46,
   "metadata": {},
   "outputs": [
    {
     "data": {
      "text/plain": [
       "[False, True, False, True, True, True, True, False, False, False]"
      ]
     },
     "execution_count": 46,
     "metadata": {},
     "output_type": "execute_result"
    }
   ],
   "source": [
    "species_pred_in_low_occ[0:10]"
   ]
  },
  {
   "cell_type": "code",
   "execution_count": 47,
   "metadata": {},
   "outputs": [
    {
     "data": {
      "text/plain": [
       "[False, False, True, True, False, False, False, True, True, True]"
      ]
     },
     "execution_count": 47,
     "metadata": {},
     "output_type": "execute_result"
    }
   ],
   "source": [
    "val_data.species_pred_in_data[0:10]"
   ]
  },
  {
   "cell_type": "code",
   "execution_count": 36,
   "metadata": {},
   "outputs": [
    {
     "data": {
      "text/plain": [
       "1580"
      ]
     },
     "execution_count": 36,
     "metadata": {},
     "output_type": "execute_result"
    }
   ],
   "source": [
    "np.sum([(s in train_data.low_occ_species) and (s in val_data.species_data) for s in val_data.species_pred])"
   ]
  },
  {
   "cell_type": "code",
   "execution_count": 32,
   "metadata": {},
   "outputs": [
    {
     "data": {
      "text/plain": [
       "array([   3,   20,   28, ..., 9704, 9707, 9708])"
      ]
     },
     "execution_count": 32,
     "metadata": {},
     "output_type": "execute_result"
    }
   ],
   "source": [
    "np.where(np.isin(val_data.species_pred, [s for s in val_data.species_pred[val_data.species_pred_in_data] if s in train_data.low_occ_species]))[0]"
   ]
  },
  {
   "cell_type": "code",
   "execution_count": null,
   "metadata": {},
   "outputs": [],
   "source": []
  },
  {
   "cell_type": "code",
   "execution_count": 23,
   "metadata": {},
   "outputs": [
    {
     "data": {
      "text/plain": [
       "Float64Index([    1.0,     4.0,     5.0,     6.0,     8.0,    22.0,    23.0,\n",
       "                 25.0,    29.0,    31.0,\n",
       "              ...\n",
       "              11235.0, 11238.0, 11244.0, 11245.0, 11246.0, 11248.0, 11250.0,\n",
       "              11252.0, 11253.0, 11254.0],\n",
       "             dtype='float64', length=6048)"
      ]
     },
     "execution_count": 23,
     "metadata": {},
     "output_type": "execute_result"
    }
   ],
   "source": [
    "train_data.low_occ_species"
   ]
  },
  {
   "cell_type": "code",
   "execution_count": 24,
   "metadata": {},
   "outputs": [
    {
     "data": {
      "text/plain": [
       "1580"
      ]
     },
     "execution_count": 24,
     "metadata": {},
     "output_type": "execute_result"
    }
   ],
   "source": [
    "len([s for s in val_data.species_pred if s in val_data.species_data and s in train_data.low_occ_species])"
   ]
  },
  {
   "cell_type": "code",
   "execution_count": 14,
   "metadata": {},
   "outputs": [],
   "source": [
    "for i, key in enumerate(model_setup.keys()):\n",
    "    model_setup[key]['input_shape'] = train_data[0][0][i].shape\n",
    "    if multimodal:\n",
    "        assert embed_shape is not None\n",
    "        model_setup[key]['output_shape'] = embed_shape\n",
    "    else:\n",
    "        model_setup[key]['output_shape'] = train_data.n_species_pred"
   ]
  },
  {
   "cell_type": "code",
   "execution_count": 15,
   "metadata": {},
   "outputs": [],
   "source": [
    "\n",
    "model_list = [make_model(model_dict) for model_dict in model_setup.values()]\n",
    "if multimodal:\n",
    "    model = MultimodalModel(\n",
    "        model_list[0], model_list[1], train_data.n_species_pred, embed_shape, embed_shape\n",
    "    )\n",
    "else:\n",
    "    model = model_list[0]\n",
    "optimizer = torch.optim.SGD(model.parameters(), lr=learning_rate, weight_decay=weight_decay)\n",
    "    "
   ]
  },
  {
   "cell_type": "code",
   "execution_count": 12,
   "metadata": {},
   "outputs": [
    {
     "name": "stdout",
     "output_type": "stream",
     "text": [
      "9709\n"
     ]
    }
   ],
   "source": [
    "species_pred = species\n",
    "n_species_pred = len(species_pred)\n",
    "print(n_species_pred)"
   ]
  },
  {
   "cell_type": "code",
   "execution_count": 16,
   "metadata": {},
   "outputs": [],
   "source": [
    "y_pred = np.random.rand(100, 9709)"
   ]
  },
  {
   "cell_type": "code",
   "execution_count": 18,
   "metadata": {},
   "outputs": [
    {
     "data": {
      "text/plain": [
       "4367"
      ]
     },
     "execution_count": 18,
     "metadata": {},
     "output_type": "execute_result"
    }
   ],
   "source": [
    "np.sum([s in species_data for s in species_pred])"
   ]
  },
  {
   "cell_type": "code",
   "execution_count": null,
   "metadata": {},
   "outputs": [],
   "source": [
    "y_pred"
   ]
  },
  {
   "cell_type": "code",
   "execution_count": 13,
   "metadata": {},
   "outputs": [
    {
     "name": "stdout",
     "output_type": "stream",
     "text": [
      "88987\n"
     ]
    }
   ],
   "source": [
    "items = pd.DataFrame(df.groupby(item_columns)[label_name].agg(list)).reset_index()\n",
    "n_items = items.shape[0]\n",
    "print(n_items)"
   ]
  },
  {
   "cell_type": "code",
   "execution_count": 15,
   "metadata": {},
   "outputs": [
    {
     "data": {
      "text/plain": [
       "2.0         31\n",
       "3.0          1\n",
       "4.0         37\n",
       "7.0         28\n",
       "9.0        240\n",
       "          ... \n",
       "11245.0      3\n",
       "11246.0      1\n",
       "11248.0     15\n",
       "11253.0     10\n",
       "11254.0      9\n",
       "Length: 5016, dtype: int64"
      ]
     },
     "execution_count": 15,
     "metadata": {},
     "output_type": "execute_result"
    }
   ],
   "source": [
    "species_counts = pd.Series(\n",
    "    [sps for sps_list in items[label_name] for sps in sps_list]\n",
    ").value_counts().sort_index()\n",
    "species_counts"
   ]
  },
  {
   "cell_type": "code",
   "execution_count": 9,
   "metadata": {},
   "outputs": [
    {
     "name": "stdout",
     "output_type": "stream",
     "text": [
      "input shape: [(41, 10, 10), (4, 128, 128)]\n"
     ]
    }
   ],
   "source": [
    "for i, key in enumerate(model_setup.keys()):\n",
    "    model_setup[key]['input_shape'] = train_data[0][0][i].shape\n",
    "    if multimodal:\n",
    "        assert embed_shape is not None\n",
    "        model_setup[key]['output_shape'] = embed_shape\n",
    "    else:\n",
    "        model_setup[key]['output_shape'] = train_data.n_species\n",
    "print(f\"input shape: {[params['input_shape'] for params in model_setup.values()]}\")"
   ]
  },
  {
   "cell_type": "code",
   "execution_count": 10,
   "metadata": {},
   "outputs": [
    {
     "name": "stdout",
     "output_type": "stream",
     "text": [
      "nb items = 22404\n",
      "nb species = 2174\n"
     ]
    }
   ],
   "source": [
    "test_path = 'data/full_data/For_submission/test_blind.csv'\n",
    "test_data = PatchesDatasetCooccurrences(\n",
    "    occurrences=test_path, \n",
    "    providers=val_providers, \n",
    "    item_columns=item_columns_val,\n",
    "    species=train_data.species, \n",
    "    n_low_occ=n_max_low_occ,\n",
    "    sep=sep,\n",
    "    test=True\n",
    ")"
   ]
  },
  {
   "cell_type": "code",
   "execution_count": 15,
   "metadata": {},
   "outputs": [],
   "source": [
    "model_list = [make_model(model_dict) for model_dict in model_setup.values()]\n",
    "if multimodal:\n",
    "    model = MultimodalModel(model_list[0], model_list[1], train_data.n_species, embed_shape, embed_shape)\n",
    "else:\n",
    "    model = model_list[0]"
   ]
  },
  {
   "cell_type": "code",
   "execution_count": 16,
   "metadata": {},
   "outputs": [],
   "source": [
    "model = model.to(dev)"
   ]
  },
  {
   "cell_type": "code",
   "execution_count": 12,
   "metadata": {},
   "outputs": [],
   "source": [
    "test_loader = torch.utils.data.DataLoader(test_data, shuffle=False, batch_size=batch_size)"
   ]
  },
  {
   "cell_type": "code",
   "execution_count": 17,
   "metadata": {},
   "outputs": [
    {
     "name": "stderr",
     "output_type": "stream",
     "text": [
      "  0%|          | 0/88 [01:18<?, ?it/s]\n"
     ]
    },
    {
     "ename": "OutOfMemoryError",
     "evalue": "CUDA out of memory. Tried to allocate 2.00 GiB (GPU 0; 23.69 GiB total capacity; 21.84 GiB already allocated; 755.94 MiB free; 22.55 GiB reserved in total by PyTorch) If reserved memory is >> allocated memory try setting max_split_size_mb to avoid fragmentation.  See documentation for Memory Management and PYTORCH_CUDA_ALLOC_CONF",
     "output_type": "error",
     "traceback": [
      "\u001b[0;31m---------------------------------------------------------------------------\u001b[0m",
      "\u001b[0;31mOutOfMemoryError\u001b[0m                          Traceback (most recent call last)",
      "Cell \u001b[0;32mIn[17], line 7\u001b[0m\n\u001b[1;32m      5\u001b[0m         inputsA \u001b[38;5;241m=\u001b[39m inputs[\u001b[38;5;241m0\u001b[39m]\u001b[38;5;241m.\u001b[39mto(torch\u001b[38;5;241m.\u001b[39mfloat32)\u001b[38;5;241m.\u001b[39mto(dev)\n\u001b[1;32m      6\u001b[0m         inputsB \u001b[38;5;241m=\u001b[39m inputs[\u001b[38;5;241m1\u001b[39m]\u001b[38;5;241m.\u001b[39mto(torch\u001b[38;5;241m.\u001b[39mfloat32)\u001b[38;5;241m.\u001b[39mto(dev)\n\u001b[0;32m----> 7\u001b[0m         y_pred \u001b[38;5;241m=\u001b[39m torch\u001b[38;5;241m.\u001b[39msigmoid(\u001b[43mmodel\u001b[49m\u001b[43m(\u001b[49m\u001b[43minputsA\u001b[49m\u001b[43m,\u001b[49m\u001b[43m \u001b[49m\u001b[43minputsB\u001b[49m\u001b[43m)\u001b[49m)\n\u001b[1;32m      8\u001b[0m \u001b[38;5;28;01melse\u001b[39;00m:\n\u001b[1;32m      9\u001b[0m         inputs \u001b[38;5;241m=\u001b[39m inputs[\u001b[38;5;241m0\u001b[39m]\u001b[38;5;241m.\u001b[39mto(torch\u001b[38;5;241m.\u001b[39mfloat32)\u001b[38;5;241m.\u001b[39mto(dev)\n",
      "File \u001b[0;32m~/miniconda3/envs/glc23/lib/python3.9/site-packages/torch/nn/modules/module.py:1501\u001b[0m, in \u001b[0;36mModule._call_impl\u001b[0;34m(self, *args, **kwargs)\u001b[0m\n\u001b[1;32m   1496\u001b[0m \u001b[38;5;66;03m# If we don't have any hooks, we want to skip the rest of the logic in\u001b[39;00m\n\u001b[1;32m   1497\u001b[0m \u001b[38;5;66;03m# this function, and just call forward.\u001b[39;00m\n\u001b[1;32m   1498\u001b[0m \u001b[38;5;28;01mif\u001b[39;00m \u001b[38;5;129;01mnot\u001b[39;00m (\u001b[38;5;28mself\u001b[39m\u001b[38;5;241m.\u001b[39m_backward_hooks \u001b[38;5;129;01mor\u001b[39;00m \u001b[38;5;28mself\u001b[39m\u001b[38;5;241m.\u001b[39m_backward_pre_hooks \u001b[38;5;129;01mor\u001b[39;00m \u001b[38;5;28mself\u001b[39m\u001b[38;5;241m.\u001b[39m_forward_hooks \u001b[38;5;129;01mor\u001b[39;00m \u001b[38;5;28mself\u001b[39m\u001b[38;5;241m.\u001b[39m_forward_pre_hooks\n\u001b[1;32m   1499\u001b[0m         \u001b[38;5;129;01mor\u001b[39;00m _global_backward_pre_hooks \u001b[38;5;129;01mor\u001b[39;00m _global_backward_hooks\n\u001b[1;32m   1500\u001b[0m         \u001b[38;5;129;01mor\u001b[39;00m _global_forward_hooks \u001b[38;5;129;01mor\u001b[39;00m _global_forward_pre_hooks):\n\u001b[0;32m-> 1501\u001b[0m     \u001b[38;5;28;01mreturn\u001b[39;00m \u001b[43mforward_call\u001b[49m\u001b[43m(\u001b[49m\u001b[38;5;241;43m*\u001b[39;49m\u001b[43margs\u001b[49m\u001b[43m,\u001b[49m\u001b[43m \u001b[49m\u001b[38;5;241;43m*\u001b[39;49m\u001b[38;5;241;43m*\u001b[39;49m\u001b[43mkwargs\u001b[49m\u001b[43m)\u001b[49m\n\u001b[1;32m   1502\u001b[0m \u001b[38;5;66;03m# Do not call functions when jit is used\u001b[39;00m\n\u001b[1;32m   1503\u001b[0m full_backward_hooks, non_full_backward_hooks \u001b[38;5;241m=\u001b[39m [], []\n",
      "File \u001b[0;32m~/Documents/GeoLifeCLEF/models.py:116\u001b[0m, in \u001b[0;36mMultimodalModel.forward\u001b[0;34m(self, x1, x2)\u001b[0m\n\u001b[1;32m    114\u001b[0m \u001b[38;5;28;01mdef\u001b[39;00m \u001b[38;5;21mforward\u001b[39m(\u001b[38;5;28mself\u001b[39m, x1, x2):\n\u001b[1;32m    115\u001b[0m     x1 \u001b[38;5;241m=\u001b[39m \u001b[38;5;28mself\u001b[39m\u001b[38;5;241m.\u001b[39mmodelA(x1)\n\u001b[0;32m--> 116\u001b[0m     x2 \u001b[38;5;241m=\u001b[39m \u001b[38;5;28;43mself\u001b[39;49m\u001b[38;5;241;43m.\u001b[39;49m\u001b[43mmodelB\u001b[49m\u001b[43m(\u001b[49m\u001b[43mx2\u001b[49m\u001b[43m)\u001b[49m\n\u001b[1;32m    117\u001b[0m     x \u001b[38;5;241m=\u001b[39m torch\u001b[38;5;241m.\u001b[39mcat((x1, x2), dim\u001b[38;5;241m=\u001b[39m\u001b[38;5;241m1\u001b[39m)\n\u001b[1;32m    118\u001b[0m     x \u001b[38;5;241m=\u001b[39m \u001b[38;5;28mself\u001b[39m\u001b[38;5;241m.\u001b[39mfc(x)\n",
      "File \u001b[0;32m~/miniconda3/envs/glc23/lib/python3.9/site-packages/torch/nn/modules/module.py:1501\u001b[0m, in \u001b[0;36mModule._call_impl\u001b[0;34m(self, *args, **kwargs)\u001b[0m\n\u001b[1;32m   1496\u001b[0m \u001b[38;5;66;03m# If we don't have any hooks, we want to skip the rest of the logic in\u001b[39;00m\n\u001b[1;32m   1497\u001b[0m \u001b[38;5;66;03m# this function, and just call forward.\u001b[39;00m\n\u001b[1;32m   1498\u001b[0m \u001b[38;5;28;01mif\u001b[39;00m \u001b[38;5;129;01mnot\u001b[39;00m (\u001b[38;5;28mself\u001b[39m\u001b[38;5;241m.\u001b[39m_backward_hooks \u001b[38;5;129;01mor\u001b[39;00m \u001b[38;5;28mself\u001b[39m\u001b[38;5;241m.\u001b[39m_backward_pre_hooks \u001b[38;5;129;01mor\u001b[39;00m \u001b[38;5;28mself\u001b[39m\u001b[38;5;241m.\u001b[39m_forward_hooks \u001b[38;5;129;01mor\u001b[39;00m \u001b[38;5;28mself\u001b[39m\u001b[38;5;241m.\u001b[39m_forward_pre_hooks\n\u001b[1;32m   1499\u001b[0m         \u001b[38;5;129;01mor\u001b[39;00m _global_backward_pre_hooks \u001b[38;5;129;01mor\u001b[39;00m _global_backward_hooks\n\u001b[1;32m   1500\u001b[0m         \u001b[38;5;129;01mor\u001b[39;00m _global_forward_hooks \u001b[38;5;129;01mor\u001b[39;00m _global_forward_pre_hooks):\n\u001b[0;32m-> 1501\u001b[0m     \u001b[38;5;28;01mreturn\u001b[39;00m \u001b[43mforward_call\u001b[49m\u001b[43m(\u001b[49m\u001b[38;5;241;43m*\u001b[39;49m\u001b[43margs\u001b[49m\u001b[43m,\u001b[49m\u001b[43m \u001b[49m\u001b[38;5;241;43m*\u001b[39;49m\u001b[38;5;241;43m*\u001b[39;49m\u001b[43mkwargs\u001b[49m\u001b[43m)\u001b[49m\n\u001b[1;32m   1502\u001b[0m \u001b[38;5;66;03m# Do not call functions when jit is used\u001b[39;00m\n\u001b[1;32m   1503\u001b[0m full_backward_hooks, non_full_backward_hooks \u001b[38;5;241m=\u001b[39m [], []\n",
      "File \u001b[0;32m~/Documents/GeoLifeCLEF/models.py:260\u001b[0m, in \u001b[0;36mMultiResolutionModel.forward\u001b[0;34m(self, x)\u001b[0m\n\u001b[1;32m    258\u001b[0m \u001b[38;5;28;01mdef\u001b[39;00m \u001b[38;5;21mforward\u001b[39m(\u001b[38;5;28mself\u001b[39m, x):\n\u001b[1;32m    259\u001b[0m     x \u001b[38;5;241m=\u001b[39m \u001b[38;5;28mself\u001b[39m\u001b[38;5;241m.\u001b[39mbackbone(x)\n\u001b[0;32m--> 260\u001b[0m     xlist \u001b[38;5;241m=\u001b[39m [aspp(x) \u001b[38;5;28;01mfor\u001b[39;00m aspp \u001b[38;5;129;01min\u001b[39;00m \u001b[38;5;28mself\u001b[39m\u001b[38;5;241m.\u001b[39maspp_branches]\n\u001b[1;32m    261\u001b[0m     x \u001b[38;5;241m=\u001b[39m torch\u001b[38;5;241m.\u001b[39mcat(xlist, dim\u001b[38;5;241m=\u001b[39m\u001b[38;5;241m1\u001b[39m)\n\u001b[1;32m    262\u001b[0m     \u001b[38;5;66;03m# x = torch.stack(xlist, dim=2)\u001b[39;00m\n",
      "File \u001b[0;32m~/Documents/GeoLifeCLEF/models.py:260\u001b[0m, in \u001b[0;36m<listcomp>\u001b[0;34m(.0)\u001b[0m\n\u001b[1;32m    258\u001b[0m \u001b[38;5;28;01mdef\u001b[39;00m \u001b[38;5;21mforward\u001b[39m(\u001b[38;5;28mself\u001b[39m, x):\n\u001b[1;32m    259\u001b[0m     x \u001b[38;5;241m=\u001b[39m \u001b[38;5;28mself\u001b[39m\u001b[38;5;241m.\u001b[39mbackbone(x)\n\u001b[0;32m--> 260\u001b[0m     xlist \u001b[38;5;241m=\u001b[39m [\u001b[43maspp\u001b[49m\u001b[43m(\u001b[49m\u001b[43mx\u001b[49m\u001b[43m)\u001b[49m \u001b[38;5;28;01mfor\u001b[39;00m aspp \u001b[38;5;129;01min\u001b[39;00m \u001b[38;5;28mself\u001b[39m\u001b[38;5;241m.\u001b[39maspp_branches]\n\u001b[1;32m    261\u001b[0m     x \u001b[38;5;241m=\u001b[39m torch\u001b[38;5;241m.\u001b[39mcat(xlist, dim\u001b[38;5;241m=\u001b[39m\u001b[38;5;241m1\u001b[39m)\n\u001b[1;32m    262\u001b[0m     \u001b[38;5;66;03m# x = torch.stack(xlist, dim=2)\u001b[39;00m\n",
      "File \u001b[0;32m~/miniconda3/envs/glc23/lib/python3.9/site-packages/torch/nn/modules/module.py:1501\u001b[0m, in \u001b[0;36mModule._call_impl\u001b[0;34m(self, *args, **kwargs)\u001b[0m\n\u001b[1;32m   1496\u001b[0m \u001b[38;5;66;03m# If we don't have any hooks, we want to skip the rest of the logic in\u001b[39;00m\n\u001b[1;32m   1497\u001b[0m \u001b[38;5;66;03m# this function, and just call forward.\u001b[39;00m\n\u001b[1;32m   1498\u001b[0m \u001b[38;5;28;01mif\u001b[39;00m \u001b[38;5;129;01mnot\u001b[39;00m (\u001b[38;5;28mself\u001b[39m\u001b[38;5;241m.\u001b[39m_backward_hooks \u001b[38;5;129;01mor\u001b[39;00m \u001b[38;5;28mself\u001b[39m\u001b[38;5;241m.\u001b[39m_backward_pre_hooks \u001b[38;5;129;01mor\u001b[39;00m \u001b[38;5;28mself\u001b[39m\u001b[38;5;241m.\u001b[39m_forward_hooks \u001b[38;5;129;01mor\u001b[39;00m \u001b[38;5;28mself\u001b[39m\u001b[38;5;241m.\u001b[39m_forward_pre_hooks\n\u001b[1;32m   1499\u001b[0m         \u001b[38;5;129;01mor\u001b[39;00m _global_backward_pre_hooks \u001b[38;5;129;01mor\u001b[39;00m _global_backward_hooks\n\u001b[1;32m   1500\u001b[0m         \u001b[38;5;129;01mor\u001b[39;00m _global_forward_hooks \u001b[38;5;129;01mor\u001b[39;00m _global_forward_pre_hooks):\n\u001b[0;32m-> 1501\u001b[0m     \u001b[38;5;28;01mreturn\u001b[39;00m \u001b[43mforward_call\u001b[49m\u001b[43m(\u001b[49m\u001b[38;5;241;43m*\u001b[39;49m\u001b[43margs\u001b[49m\u001b[43m,\u001b[49m\u001b[43m \u001b[49m\u001b[38;5;241;43m*\u001b[39;49m\u001b[38;5;241;43m*\u001b[39;49m\u001b[43mkwargs\u001b[49m\u001b[43m)\u001b[49m\n\u001b[1;32m   1502\u001b[0m \u001b[38;5;66;03m# Do not call functions when jit is used\u001b[39;00m\n\u001b[1;32m   1503\u001b[0m full_backward_hooks, non_full_backward_hooks \u001b[38;5;241m=\u001b[39m [], []\n",
      "File \u001b[0;32m~/Documents/GeoLifeCLEF/models.py:149\u001b[0m, in \u001b[0;36mASPP_branch.forward\u001b[0;34m(self, x)\u001b[0m\n\u001b[1;32m    148\u001b[0m \u001b[38;5;28;01mdef\u001b[39;00m \u001b[38;5;21mforward\u001b[39m(\u001b[38;5;28mself\u001b[39m, x):\n\u001b[0;32m--> 149\u001b[0m     x \u001b[38;5;241m=\u001b[39m \u001b[38;5;28;43mself\u001b[39;49m\u001b[38;5;241;43m.\u001b[39;49m\u001b[43mconv_layers\u001b[49m\u001b[43m(\u001b[49m\u001b[43mx\u001b[49m\u001b[43m)\u001b[49m\n\u001b[1;32m    150\u001b[0m     x \u001b[38;5;241m=\u001b[39m \u001b[38;5;28mself\u001b[39m\u001b[38;5;241m.\u001b[39mcrop(x)\u001b[38;5;241m.\u001b[39msqueeze()\n\u001b[1;32m    151\u001b[0m     x \u001b[38;5;241m=\u001b[39m \u001b[38;5;28mself\u001b[39m\u001b[38;5;241m.\u001b[39mlinear_layers(x)\n",
      "File \u001b[0;32m~/miniconda3/envs/glc23/lib/python3.9/site-packages/torch/nn/modules/module.py:1501\u001b[0m, in \u001b[0;36mModule._call_impl\u001b[0;34m(self, *args, **kwargs)\u001b[0m\n\u001b[1;32m   1496\u001b[0m \u001b[38;5;66;03m# If we don't have any hooks, we want to skip the rest of the logic in\u001b[39;00m\n\u001b[1;32m   1497\u001b[0m \u001b[38;5;66;03m# this function, and just call forward.\u001b[39;00m\n\u001b[1;32m   1498\u001b[0m \u001b[38;5;28;01mif\u001b[39;00m \u001b[38;5;129;01mnot\u001b[39;00m (\u001b[38;5;28mself\u001b[39m\u001b[38;5;241m.\u001b[39m_backward_hooks \u001b[38;5;129;01mor\u001b[39;00m \u001b[38;5;28mself\u001b[39m\u001b[38;5;241m.\u001b[39m_backward_pre_hooks \u001b[38;5;129;01mor\u001b[39;00m \u001b[38;5;28mself\u001b[39m\u001b[38;5;241m.\u001b[39m_forward_hooks \u001b[38;5;129;01mor\u001b[39;00m \u001b[38;5;28mself\u001b[39m\u001b[38;5;241m.\u001b[39m_forward_pre_hooks\n\u001b[1;32m   1499\u001b[0m         \u001b[38;5;129;01mor\u001b[39;00m _global_backward_pre_hooks \u001b[38;5;129;01mor\u001b[39;00m _global_backward_hooks\n\u001b[1;32m   1500\u001b[0m         \u001b[38;5;129;01mor\u001b[39;00m _global_forward_hooks \u001b[38;5;129;01mor\u001b[39;00m _global_forward_pre_hooks):\n\u001b[0;32m-> 1501\u001b[0m     \u001b[38;5;28;01mreturn\u001b[39;00m \u001b[43mforward_call\u001b[49m\u001b[43m(\u001b[49m\u001b[38;5;241;43m*\u001b[39;49m\u001b[43margs\u001b[49m\u001b[43m,\u001b[49m\u001b[43m \u001b[49m\u001b[38;5;241;43m*\u001b[39;49m\u001b[38;5;241;43m*\u001b[39;49m\u001b[43mkwargs\u001b[49m\u001b[43m)\u001b[49m\n\u001b[1;32m   1502\u001b[0m \u001b[38;5;66;03m# Do not call functions when jit is used\u001b[39;00m\n\u001b[1;32m   1503\u001b[0m full_backward_hooks, non_full_backward_hooks \u001b[38;5;241m=\u001b[39m [], []\n",
      "File \u001b[0;32m~/miniconda3/envs/glc23/lib/python3.9/site-packages/torch/nn/modules/container.py:217\u001b[0m, in \u001b[0;36mSequential.forward\u001b[0;34m(self, input)\u001b[0m\n\u001b[1;32m    215\u001b[0m \u001b[38;5;28;01mdef\u001b[39;00m \u001b[38;5;21mforward\u001b[39m(\u001b[38;5;28mself\u001b[39m, \u001b[38;5;28minput\u001b[39m):\n\u001b[1;32m    216\u001b[0m     \u001b[38;5;28;01mfor\u001b[39;00m module \u001b[38;5;129;01min\u001b[39;00m \u001b[38;5;28mself\u001b[39m:\n\u001b[0;32m--> 217\u001b[0m         \u001b[38;5;28minput\u001b[39m \u001b[38;5;241m=\u001b[39m \u001b[43mmodule\u001b[49m\u001b[43m(\u001b[49m\u001b[38;5;28;43minput\u001b[39;49m\u001b[43m)\u001b[49m\n\u001b[1;32m    218\u001b[0m     \u001b[38;5;28;01mreturn\u001b[39;00m \u001b[38;5;28minput\u001b[39m\n",
      "File \u001b[0;32m~/miniconda3/envs/glc23/lib/python3.9/site-packages/torch/nn/modules/module.py:1501\u001b[0m, in \u001b[0;36mModule._call_impl\u001b[0;34m(self, *args, **kwargs)\u001b[0m\n\u001b[1;32m   1496\u001b[0m \u001b[38;5;66;03m# If we don't have any hooks, we want to skip the rest of the logic in\u001b[39;00m\n\u001b[1;32m   1497\u001b[0m \u001b[38;5;66;03m# this function, and just call forward.\u001b[39;00m\n\u001b[1;32m   1498\u001b[0m \u001b[38;5;28;01mif\u001b[39;00m \u001b[38;5;129;01mnot\u001b[39;00m (\u001b[38;5;28mself\u001b[39m\u001b[38;5;241m.\u001b[39m_backward_hooks \u001b[38;5;129;01mor\u001b[39;00m \u001b[38;5;28mself\u001b[39m\u001b[38;5;241m.\u001b[39m_backward_pre_hooks \u001b[38;5;129;01mor\u001b[39;00m \u001b[38;5;28mself\u001b[39m\u001b[38;5;241m.\u001b[39m_forward_hooks \u001b[38;5;129;01mor\u001b[39;00m \u001b[38;5;28mself\u001b[39m\u001b[38;5;241m.\u001b[39m_forward_pre_hooks\n\u001b[1;32m   1499\u001b[0m         \u001b[38;5;129;01mor\u001b[39;00m _global_backward_pre_hooks \u001b[38;5;129;01mor\u001b[39;00m _global_backward_hooks\n\u001b[1;32m   1500\u001b[0m         \u001b[38;5;129;01mor\u001b[39;00m _global_forward_hooks \u001b[38;5;129;01mor\u001b[39;00m _global_forward_pre_hooks):\n\u001b[0;32m-> 1501\u001b[0m     \u001b[38;5;28;01mreturn\u001b[39;00m \u001b[43mforward_call\u001b[49m\u001b[43m(\u001b[49m\u001b[38;5;241;43m*\u001b[39;49m\u001b[43margs\u001b[49m\u001b[43m,\u001b[49m\u001b[43m \u001b[49m\u001b[38;5;241;43m*\u001b[39;49m\u001b[38;5;241;43m*\u001b[39;49m\u001b[43mkwargs\u001b[49m\u001b[43m)\u001b[49m\n\u001b[1;32m   1502\u001b[0m \u001b[38;5;66;03m# Do not call functions when jit is used\u001b[39;00m\n\u001b[1;32m   1503\u001b[0m full_backward_hooks, non_full_backward_hooks \u001b[38;5;241m=\u001b[39m [], []\n",
      "File \u001b[0;32m~/miniconda3/envs/glc23/lib/python3.9/site-packages/torch/nn/modules/pooling.py:166\u001b[0m, in \u001b[0;36mMaxPool2d.forward\u001b[0;34m(self, input)\u001b[0m\n\u001b[1;32m    165\u001b[0m \u001b[38;5;28;01mdef\u001b[39;00m \u001b[38;5;21mforward\u001b[39m(\u001b[38;5;28mself\u001b[39m, \u001b[38;5;28minput\u001b[39m: Tensor):\n\u001b[0;32m--> 166\u001b[0m     \u001b[38;5;28;01mreturn\u001b[39;00m \u001b[43mF\u001b[49m\u001b[38;5;241;43m.\u001b[39;49m\u001b[43mmax_pool2d\u001b[49m\u001b[43m(\u001b[49m\u001b[38;5;28;43minput\u001b[39;49m\u001b[43m,\u001b[49m\u001b[43m \u001b[49m\u001b[38;5;28;43mself\u001b[39;49m\u001b[38;5;241;43m.\u001b[39;49m\u001b[43mkernel_size\u001b[49m\u001b[43m,\u001b[49m\u001b[43m \u001b[49m\u001b[38;5;28;43mself\u001b[39;49m\u001b[38;5;241;43m.\u001b[39;49m\u001b[43mstride\u001b[49m\u001b[43m,\u001b[49m\n\u001b[1;32m    167\u001b[0m \u001b[43m                        \u001b[49m\u001b[38;5;28;43mself\u001b[39;49m\u001b[38;5;241;43m.\u001b[39;49m\u001b[43mpadding\u001b[49m\u001b[43m,\u001b[49m\u001b[43m \u001b[49m\u001b[38;5;28;43mself\u001b[39;49m\u001b[38;5;241;43m.\u001b[39;49m\u001b[43mdilation\u001b[49m\u001b[43m,\u001b[49m\u001b[43m \u001b[49m\u001b[43mceil_mode\u001b[49m\u001b[38;5;241;43m=\u001b[39;49m\u001b[38;5;28;43mself\u001b[39;49m\u001b[38;5;241;43m.\u001b[39;49m\u001b[43mceil_mode\u001b[49m\u001b[43m,\u001b[49m\n\u001b[1;32m    168\u001b[0m \u001b[43m                        \u001b[49m\u001b[43mreturn_indices\u001b[49m\u001b[38;5;241;43m=\u001b[39;49m\u001b[38;5;28;43mself\u001b[39;49m\u001b[38;5;241;43m.\u001b[39;49m\u001b[43mreturn_indices\u001b[49m\u001b[43m)\u001b[49m\n",
      "File \u001b[0;32m~/miniconda3/envs/glc23/lib/python3.9/site-packages/torch/_jit_internal.py:484\u001b[0m, in \u001b[0;36mboolean_dispatch.<locals>.fn\u001b[0;34m(*args, **kwargs)\u001b[0m\n\u001b[1;32m    482\u001b[0m     \u001b[38;5;28;01mreturn\u001b[39;00m if_true(\u001b[38;5;241m*\u001b[39margs, \u001b[38;5;241m*\u001b[39m\u001b[38;5;241m*\u001b[39mkwargs)\n\u001b[1;32m    483\u001b[0m \u001b[38;5;28;01melse\u001b[39;00m:\n\u001b[0;32m--> 484\u001b[0m     \u001b[38;5;28;01mreturn\u001b[39;00m \u001b[43mif_false\u001b[49m\u001b[43m(\u001b[49m\u001b[38;5;241;43m*\u001b[39;49m\u001b[43margs\u001b[49m\u001b[43m,\u001b[49m\u001b[43m \u001b[49m\u001b[38;5;241;43m*\u001b[39;49m\u001b[38;5;241;43m*\u001b[39;49m\u001b[43mkwargs\u001b[49m\u001b[43m)\u001b[49m\n",
      "File \u001b[0;32m~/miniconda3/envs/glc23/lib/python3.9/site-packages/torch/nn/functional.py:782\u001b[0m, in \u001b[0;36m_max_pool2d\u001b[0;34m(input, kernel_size, stride, padding, dilation, ceil_mode, return_indices)\u001b[0m\n\u001b[1;32m    780\u001b[0m \u001b[38;5;28;01mif\u001b[39;00m stride \u001b[38;5;129;01mis\u001b[39;00m \u001b[38;5;28;01mNone\u001b[39;00m:\n\u001b[1;32m    781\u001b[0m     stride \u001b[38;5;241m=\u001b[39m torch\u001b[38;5;241m.\u001b[39mjit\u001b[38;5;241m.\u001b[39mannotate(List[\u001b[38;5;28mint\u001b[39m], [])\n\u001b[0;32m--> 782\u001b[0m \u001b[38;5;28;01mreturn\u001b[39;00m \u001b[43mtorch\u001b[49m\u001b[38;5;241;43m.\u001b[39;49m\u001b[43mmax_pool2d\u001b[49m\u001b[43m(\u001b[49m\u001b[38;5;28;43minput\u001b[39;49m\u001b[43m,\u001b[49m\u001b[43m \u001b[49m\u001b[43mkernel_size\u001b[49m\u001b[43m,\u001b[49m\u001b[43m \u001b[49m\u001b[43mstride\u001b[49m\u001b[43m,\u001b[49m\u001b[43m \u001b[49m\u001b[43mpadding\u001b[49m\u001b[43m,\u001b[49m\u001b[43m \u001b[49m\u001b[43mdilation\u001b[49m\u001b[43m,\u001b[49m\u001b[43m \u001b[49m\u001b[43mceil_mode\u001b[49m\u001b[43m)\u001b[49m\n",
      "\u001b[0;31mOutOfMemoryError\u001b[0m: CUDA out of memory. Tried to allocate 2.00 GiB (GPU 0; 23.69 GiB total capacity; 21.84 GiB already allocated; 755.94 MiB free; 22.55 GiB reserved in total by PyTorch) If reserved memory is >> allocated memory try setting max_split_size_mb to avoid fragmentation.  See documentation for Memory Management and PYTORCH_CUDA_ALLOC_CONF"
     ]
    }
   ],
   "source": [
    "test_loader = torch.utils.data.DataLoader(test_data, shuffle=False, batch_size=batch_size)\n",
    "y_pred_list = []\n",
    "for inputs, _, _ in tqdm(test_loader):\n",
    "        if multimodal:\n",
    "                inputsA = inputs[0].to(torch.float32).to(dev)\n",
    "                inputsB = inputs[1].to(torch.float32).to(dev)\n",
    "                y_pred = torch.sigmoid(model(inputsA, inputsB))\n",
    "        else:\n",
    "                inputs = inputs[0].to(torch.float32).to(dev)\n",
    "                y_pred = torch.sigmoid(model(inputs))\n",
    "\n",
    "        y_pred_list.append(y_pred.cpu().detach().numpy())"
   ]
  },
  {
   "cell_type": "code",
   "execution_count": null,
   "metadata": {},
   "outputs": [],
   "source": [
    "y_pred =  np.load(f\"models/{run_name}/y_pred_best_val_auc.npy\")\n",
    "y_true = np.load(f\"models/{run_name}/y_true.npy\")"
   ]
  },
  {
   "cell_type": "code",
   "execution_count": 12,
   "metadata": {},
   "outputs": [],
   "source": [
    "from sklearn.metrics import f1_score"
   ]
  },
  {
   "cell_type": "code",
   "execution_count": 16,
   "metadata": {},
   "outputs": [
    {
     "name": "stderr",
     "output_type": "stream",
     "text": [
      "100%|██████████| 10/10 [00:13<00:00,  1.39s/it]"
     ]
    },
    {
     "name": "stdout",
     "output_type": "stream",
     "text": [
      "Thresholds: [0.  0.1 0.2 0.3 0.4 0.5 0.6 0.7 0.8 0.9]\n",
      "F1-scores: [0.010335472522484386, 0.02433335559524384, 0.0291483174051465, 0.03305116032692301, 0.036607367649039664, 0.03990732596180051, 0.043020304829076185, 0.04528831431474473, 0.04576182935429596, 0.04005904737428888]\n",
      "Best threshold=0.8 --> validation F1-score=0.04576182935429596\n"
     ]
    },
    {
     "name": "stderr",
     "output_type": "stream",
     "text": [
      "\n"
     ]
    }
   ],
   "source": [
    "f1_scores = []\n",
    "thresholds = np.arange(0, 1, 0.1)\n",
    "for thresh in tqdm(thresholds):\n",
    "    y_bin = np.where(y_pred > thresh, 1, 0)\n",
    "    f1_scores.append(f1_score(y_true.T, y_bin.T, average='macro', zero_division=0))\n",
    "\n",
    "best_threshold = thresholds[np.argmax(f1_scores)]\n",
    "best_f1 = np.max(f1_scores)      \n",
    "print(f\"Thresholds: {thresholds}\\nF1-scores: {f1_scores}\")\n",
    "print(f\"Best threshold={best_threshold} --> validation F1-score={best_f1}\")"
   ]
  },
  {
   "cell_type": "code",
   "execution_count": null,
   "metadata": {},
   "outputs": [],
   "source": []
  },
  {
   "cell_type": "code",
   "execution_count": 21,
   "metadata": {},
   "outputs": [],
   "source": [
    "labels = np.random.rand(100,10)\n",
    "labels = np.where(labels > 0.5, 1, 0)\n",
    "y_pred = np.random.rand(100,10)"
   ]
  },
  {
   "cell_type": "code",
   "execution_count": 22,
   "metadata": {},
   "outputs": [
    {
     "data": {
      "text/plain": [
       "0.4736077674196421"
      ]
     },
     "execution_count": 22,
     "metadata": {},
     "output_type": "execute_result"
    }
   ],
   "source": [
    "roc_auc_score(labels, y_pred)"
   ]
  },
  {
   "cell_type": "code",
   "execution_count": 126,
   "metadata": {},
   "outputs": [
    {
     "data": {
      "text/html": [
       "<div>\n",
       "<style scoped>\n",
       "    .dataframe tbody tr th:only-of-type {\n",
       "        vertical-align: middle;\n",
       "    }\n",
       "\n",
       "    .dataframe tbody tr th {\n",
       "        vertical-align: top;\n",
       "    }\n",
       "\n",
       "    .dataframe thead th {\n",
       "        text-align: right;\n",
       "    }\n",
       "</style>\n",
       "<table border=\"1\" class=\"dataframe\">\n",
       "  <thead>\n",
       "    <tr style=\"text-align: right;\">\n",
       "      <th></th>\n",
       "      <th>Unnamed: 0</th>\n",
       "      <th>glcID</th>\n",
       "      <th>gbifID</th>\n",
       "      <th>observer</th>\n",
       "      <th>datasetName</th>\n",
       "      <th>date</th>\n",
       "      <th>dayOfYear</th>\n",
       "      <th>year</th>\n",
       "      <th>lon</th>\n",
       "      <th>lat</th>\n",
       "      <th>x_EPSG3035</th>\n",
       "      <th>y_EPSG3035</th>\n",
       "      <th>geoUncertaintyInM</th>\n",
       "      <th>speciesId</th>\n",
       "      <th>patchID</th>\n",
       "      <th>timeSerieID</th>\n",
       "      <th>dist_to_pa</th>\n",
       "    </tr>\n",
       "  </thead>\n",
       "  <tbody>\n",
       "    <tr>\n",
       "      <th>0</th>\n",
       "      <td>2649153</td>\n",
       "      <td>1399463</td>\n",
       "      <td>3.949786e+09</td>\n",
       "      <td>NaN</td>\n",
       "      <td>Pl@ntNet observations</td>\n",
       "      <td>2021-07-27</td>\n",
       "      <td>208</td>\n",
       "      <td>2021</td>\n",
       "      <td>8.871302</td>\n",
       "      <td>47.49095</td>\n",
       "      <td>4235890.0</td>\n",
       "      <td>2709242.0</td>\n",
       "      <td>65.00</td>\n",
       "      <td>8136</td>\n",
       "      <td>5435098</td>\n",
       "      <td>2410703</td>\n",
       "      <td>127.756908</td>\n",
       "    </tr>\n",
       "    <tr>\n",
       "      <th>1</th>\n",
       "      <td>4002343</td>\n",
       "      <td>1470399</td>\n",
       "      <td>2.977415e+09</td>\n",
       "      <td>NaN</td>\n",
       "      <td>Pl@ntNet automatic</td>\n",
       "      <td>2020-05-06</td>\n",
       "      <td>127</td>\n",
       "      <td>2020</td>\n",
       "      <td>12.068050</td>\n",
       "      <td>42.08209</td>\n",
       "      <td>4492705.0</td>\n",
       "      <td>2111036.0</td>\n",
       "      <td>15.17</td>\n",
       "      <td>3097</td>\n",
       "      <td>6265398</td>\n",
       "      <td>3243038</td>\n",
       "      <td>222.786005</td>\n",
       "    </tr>\n",
       "    <tr>\n",
       "      <th>2</th>\n",
       "      <td>2029213</td>\n",
       "      <td>1529540</td>\n",
       "      <td>2.977662e+09</td>\n",
       "      <td>NaN</td>\n",
       "      <td>Pl@ntNet automatic</td>\n",
       "      <td>2020-07-01</td>\n",
       "      <td>183</td>\n",
       "      <td>2020</td>\n",
       "      <td>6.720335</td>\n",
       "      <td>46.11742</td>\n",
       "      <td>4067272.0</td>\n",
       "      <td>2561639.0</td>\n",
       "      <td>5.00</td>\n",
       "      <td>7262</td>\n",
       "      <td>4950564</td>\n",
       "      <td>1926756</td>\n",
       "      <td>21.594582</td>\n",
       "    </tr>\n",
       "    <tr>\n",
       "      <th>3</th>\n",
       "      <td>1853144</td>\n",
       "      <td>401365</td>\n",
       "      <td>2.815231e+09</td>\n",
       "      <td>Ove Sander Førland;Leiv Krumsvik</td>\n",
       "      <td>NOR Species Observation</td>\n",
       "      <td>2020-06-24</td>\n",
       "      <td>176</td>\n",
       "      <td>2020</td>\n",
       "      <td>6.081810</td>\n",
       "      <td>58.98705</td>\n",
       "      <td>4095400.0</td>\n",
       "      <td>3993561.0</td>\n",
       "      <td>5.00</td>\n",
       "      <td>9687</td>\n",
       "      <td>4789398</td>\n",
       "      <td>1765663</td>\n",
       "      <td>547.491370</td>\n",
       "    </tr>\n",
       "    <tr>\n",
       "      <th>4</th>\n",
       "      <td>4762061</td>\n",
       "      <td>4510550</td>\n",
       "      <td>3.957207e+09</td>\n",
       "      <td>NaN</td>\n",
       "      <td>Pl@ntNet automatic</td>\n",
       "      <td>2020-05-24</td>\n",
       "      <td>145</td>\n",
       "      <td>2020</td>\n",
       "      <td>19.806660</td>\n",
       "      <td>50.06323</td>\n",
       "      <td>5020841.0</td>\n",
       "      <td>3041419.0</td>\n",
       "      <td>9.20</td>\n",
       "      <td>1995</td>\n",
       "      <td>6872516</td>\n",
       "      <td>3852177</td>\n",
       "      <td>899.498842</td>\n",
       "    </tr>\n",
       "    <tr>\n",
       "      <th>...</th>\n",
       "      <td>...</td>\n",
       "      <td>...</td>\n",
       "      <td>...</td>\n",
       "      <td>...</td>\n",
       "      <td>...</td>\n",
       "      <td>...</td>\n",
       "      <td>...</td>\n",
       "      <td>...</td>\n",
       "      <td>...</td>\n",
       "      <td>...</td>\n",
       "      <td>...</td>\n",
       "      <td>...</td>\n",
       "      <td>...</td>\n",
       "      <td>...</td>\n",
       "      <td>...</td>\n",
       "      <td>...</td>\n",
       "      <td>...</td>\n",
       "    </tr>\n",
       "    <tr>\n",
       "      <th>95</th>\n",
       "      <td>800219</td>\n",
       "      <td>3839415</td>\n",
       "      <td>3.352642e+09</td>\n",
       "      <td>Carruthers-Jones, I. Iain</td>\n",
       "      <td>iRecord verified</td>\n",
       "      <td>2021-05-11</td>\n",
       "      <td>131</td>\n",
       "      <td>2021</td>\n",
       "      <td>0.717243</td>\n",
       "      <td>52.24265</td>\n",
       "      <td>3688912.0</td>\n",
       "      <td>3277368.0</td>\n",
       "      <td>7.10</td>\n",
       "      <td>7017</td>\n",
       "      <td>3775658</td>\n",
       "      <td>757547</td>\n",
       "      <td>33.073848</td>\n",
       "    </tr>\n",
       "    <tr>\n",
       "      <th>96</th>\n",
       "      <td>376343</td>\n",
       "      <td>4154473</td>\n",
       "      <td>3.098644e+09</td>\n",
       "      <td>Woods, A. Aaron;Gaze, M. Mark</td>\n",
       "      <td>iRecord verified</td>\n",
       "      <td>2019-05-07</td>\n",
       "      <td>127</td>\n",
       "      <td>2019</td>\n",
       "      <td>-2.442449</td>\n",
       "      <td>52.18926</td>\n",
       "      <td>3474866.0</td>\n",
       "      <td>3303604.0</td>\n",
       "      <td>70.70</td>\n",
       "      <td>9121</td>\n",
       "      <td>3373953</td>\n",
       "      <td>356351</td>\n",
       "      <td>21.782909</td>\n",
       "    </tr>\n",
       "    <tr>\n",
       "      <th>97</th>\n",
       "      <td>1647544</td>\n",
       "      <td>4760564</td>\n",
       "      <td>3.955929e+09</td>\n",
       "      <td>NaN</td>\n",
       "      <td>Pl@ntNet automatic</td>\n",
       "      <td>2018-08-16</td>\n",
       "      <td>228</td>\n",
       "      <td>2018</td>\n",
       "      <td>5.357560</td>\n",
       "      <td>43.27925</td>\n",
       "      <td>3943412.0</td>\n",
       "      <td>2252925.0</td>\n",
       "      <td>10.00</td>\n",
       "      <td>2404</td>\n",
       "      <td>4598899</td>\n",
       "      <td>1576907</td>\n",
       "      <td>2.473058</td>\n",
       "    </tr>\n",
       "    <tr>\n",
       "      <th>98</th>\n",
       "      <td>439910</td>\n",
       "      <td>3673656</td>\n",
       "      <td>3.730053e+09</td>\n",
       "      <td>NaN</td>\n",
       "      <td>Observation.org</td>\n",
       "      <td>2021-06-28</td>\n",
       "      <td>179</td>\n",
       "      <td>2021</td>\n",
       "      <td>-1.887009</td>\n",
       "      <td>42.93610</td>\n",
       "      <td>3352440.0</td>\n",
       "      <td>2280028.0</td>\n",
       "      <td>25.00</td>\n",
       "      <td>5763</td>\n",
       "      <td>3434181</td>\n",
       "      <td>416601</td>\n",
       "      <td>43.022300</td>\n",
       "    </tr>\n",
       "    <tr>\n",
       "      <th>99</th>\n",
       "      <td>1816273</td>\n",
       "      <td>1467009</td>\n",
       "      <td>3.953914e+09</td>\n",
       "      <td>NaN</td>\n",
       "      <td>Pl@ntNet automatic</td>\n",
       "      <td>2021-06-17</td>\n",
       "      <td>168</td>\n",
       "      <td>2021</td>\n",
       "      <td>5.953077</td>\n",
       "      <td>46.28503</td>\n",
       "      <td>4008947.0</td>\n",
       "      <td>2583149.0</td>\n",
       "      <td>13.50</td>\n",
       "      <td>9920</td>\n",
       "      <td>4753914</td>\n",
       "      <td>1730788</td>\n",
       "      <td>36.165348</td>\n",
       "    </tr>\n",
       "  </tbody>\n",
       "</table>\n",
       "<p>100 rows × 17 columns</p>\n",
       "</div>"
      ],
      "text/plain": [
       "    Unnamed: 0    glcID        gbifID                          observer  \\\n",
       "0      2649153  1399463  3.949786e+09                               NaN   \n",
       "1      4002343  1470399  2.977415e+09                               NaN   \n",
       "2      2029213  1529540  2.977662e+09                               NaN   \n",
       "3      1853144   401365  2.815231e+09  Ove Sander Førland;Leiv Krumsvik   \n",
       "4      4762061  4510550  3.957207e+09                               NaN   \n",
       "..         ...      ...           ...                               ...   \n",
       "95      800219  3839415  3.352642e+09         Carruthers-Jones, I. Iain   \n",
       "96      376343  4154473  3.098644e+09     Woods, A. Aaron;Gaze, M. Mark   \n",
       "97     1647544  4760564  3.955929e+09                               NaN   \n",
       "98      439910  3673656  3.730053e+09                               NaN   \n",
       "99     1816273  1467009  3.953914e+09                               NaN   \n",
       "\n",
       "                datasetName        date  dayOfYear  year        lon       lat  \\\n",
       "0     Pl@ntNet observations  2021-07-27        208  2021   8.871302  47.49095   \n",
       "1        Pl@ntNet automatic  2020-05-06        127  2020  12.068050  42.08209   \n",
       "2        Pl@ntNet automatic  2020-07-01        183  2020   6.720335  46.11742   \n",
       "3   NOR Species Observation  2020-06-24        176  2020   6.081810  58.98705   \n",
       "4        Pl@ntNet automatic  2020-05-24        145  2020  19.806660  50.06323   \n",
       "..                      ...         ...        ...   ...        ...       ...   \n",
       "95         iRecord verified  2021-05-11        131  2021   0.717243  52.24265   \n",
       "96         iRecord verified  2019-05-07        127  2019  -2.442449  52.18926   \n",
       "97       Pl@ntNet automatic  2018-08-16        228  2018   5.357560  43.27925   \n",
       "98          Observation.org  2021-06-28        179  2021  -1.887009  42.93610   \n",
       "99       Pl@ntNet automatic  2021-06-17        168  2021   5.953077  46.28503   \n",
       "\n",
       "    x_EPSG3035  y_EPSG3035  geoUncertaintyInM  speciesId  patchID  \\\n",
       "0    4235890.0   2709242.0              65.00       8136  5435098   \n",
       "1    4492705.0   2111036.0              15.17       3097  6265398   \n",
       "2    4067272.0   2561639.0               5.00       7262  4950564   \n",
       "3    4095400.0   3993561.0               5.00       9687  4789398   \n",
       "4    5020841.0   3041419.0               9.20       1995  6872516   \n",
       "..         ...         ...                ...        ...      ...   \n",
       "95   3688912.0   3277368.0               7.10       7017  3775658   \n",
       "96   3474866.0   3303604.0              70.70       9121  3373953   \n",
       "97   3943412.0   2252925.0              10.00       2404  4598899   \n",
       "98   3352440.0   2280028.0              25.00       5763  3434181   \n",
       "99   4008947.0   2583149.0              13.50       9920  4753914   \n",
       "\n",
       "    timeSerieID  dist_to_pa  \n",
       "0       2410703  127.756908  \n",
       "1       3243038  222.786005  \n",
       "2       1926756   21.594582  \n",
       "3       1765663  547.491370  \n",
       "4       3852177  899.498842  \n",
       "..          ...         ...  \n",
       "95       757547   33.073848  \n",
       "96       356351   21.782909  \n",
       "97      1576907    2.473058  \n",
       "98       416601   43.022300  \n",
       "99      1730788   36.165348  \n",
       "\n",
       "[100 rows x 17 columns]"
      ]
     },
     "execution_count": 126,
     "metadata": {},
     "output_type": "execute_result"
    }
   ],
   "source": [
    "tmp.drop(columns=['geometry'])"
   ]
  },
  {
   "cell_type": "code",
   "execution_count": null,
   "metadata": {},
   "outputs": [],
   "source": []
  },
  {
   "cell_type": "code",
   "execution_count": 96,
   "metadata": {},
   "outputs": [
    {
     "data": {
      "text/html": [
       "<div>\n",
       "<style scoped>\n",
       "    .dataframe tbody tr th:only-of-type {\n",
       "        vertical-align: middle;\n",
       "    }\n",
       "\n",
       "    .dataframe tbody tr th {\n",
       "        vertical-align: top;\n",
       "    }\n",
       "\n",
       "    .dataframe thead th {\n",
       "        text-align: right;\n",
       "    }\n",
       "</style>\n",
       "<table border=\"1\" class=\"dataframe\">\n",
       "  <thead>\n",
       "    <tr style=\"text-align: right;\">\n",
       "      <th></th>\n",
       "      <th>Unnamed: 0</th>\n",
       "      <th>glcID</th>\n",
       "      <th>gbifID</th>\n",
       "      <th>observer</th>\n",
       "      <th>datasetName</th>\n",
       "      <th>date</th>\n",
       "      <th>dayOfYear</th>\n",
       "      <th>year</th>\n",
       "      <th>lon</th>\n",
       "      <th>lat</th>\n",
       "      <th>x_EPSG3035</th>\n",
       "      <th>y_EPSG3035</th>\n",
       "      <th>geoUncertaintyInM</th>\n",
       "      <th>speciesId</th>\n",
       "      <th>patchID</th>\n",
       "      <th>timeSerieID</th>\n",
       "      <th>geometry</th>\n",
       "    </tr>\n",
       "  </thead>\n",
       "  <tbody>\n",
       "    <tr>\n",
       "      <th>0</th>\n",
       "      <td>2649153</td>\n",
       "      <td>1399463</td>\n",
       "      <td>3.949786e+09</td>\n",
       "      <td>NaN</td>\n",
       "      <td>Pl@ntNet observations</td>\n",
       "      <td>2021-07-27</td>\n",
       "      <td>208</td>\n",
       "      <td>2021</td>\n",
       "      <td>8.871302</td>\n",
       "      <td>47.49095</td>\n",
       "      <td>4235890.0</td>\n",
       "      <td>2709242.0</td>\n",
       "      <td>65.00</td>\n",
       "      <td>8136</td>\n",
       "      <td>5435098</td>\n",
       "      <td>2410703</td>\n",
       "      <td>POINT (8.87130 47.49095)</td>\n",
       "    </tr>\n",
       "    <tr>\n",
       "      <th>1</th>\n",
       "      <td>4002343</td>\n",
       "      <td>1470399</td>\n",
       "      <td>2.977415e+09</td>\n",
       "      <td>NaN</td>\n",
       "      <td>Pl@ntNet automatic</td>\n",
       "      <td>2020-05-06</td>\n",
       "      <td>127</td>\n",
       "      <td>2020</td>\n",
       "      <td>12.068050</td>\n",
       "      <td>42.08209</td>\n",
       "      <td>4492705.0</td>\n",
       "      <td>2111036.0</td>\n",
       "      <td>15.17</td>\n",
       "      <td>3097</td>\n",
       "      <td>6265398</td>\n",
       "      <td>3243038</td>\n",
       "      <td>POINT (12.06805 42.08209)</td>\n",
       "    </tr>\n",
       "    <tr>\n",
       "      <th>2</th>\n",
       "      <td>2029213</td>\n",
       "      <td>1529540</td>\n",
       "      <td>2.977662e+09</td>\n",
       "      <td>NaN</td>\n",
       "      <td>Pl@ntNet automatic</td>\n",
       "      <td>2020-07-01</td>\n",
       "      <td>183</td>\n",
       "      <td>2020</td>\n",
       "      <td>6.720335</td>\n",
       "      <td>46.11742</td>\n",
       "      <td>4067272.0</td>\n",
       "      <td>2561639.0</td>\n",
       "      <td>5.00</td>\n",
       "      <td>7262</td>\n",
       "      <td>4950564</td>\n",
       "      <td>1926756</td>\n",
       "      <td>POINT (6.72034 46.11742)</td>\n",
       "    </tr>\n",
       "    <tr>\n",
       "      <th>3</th>\n",
       "      <td>1853144</td>\n",
       "      <td>401365</td>\n",
       "      <td>2.815231e+09</td>\n",
       "      <td>Ove Sander Førland;Leiv Krumsvik</td>\n",
       "      <td>NOR Species Observation</td>\n",
       "      <td>2020-06-24</td>\n",
       "      <td>176</td>\n",
       "      <td>2020</td>\n",
       "      <td>6.081810</td>\n",
       "      <td>58.98705</td>\n",
       "      <td>4095400.0</td>\n",
       "      <td>3993561.0</td>\n",
       "      <td>5.00</td>\n",
       "      <td>9687</td>\n",
       "      <td>4789398</td>\n",
       "      <td>1765663</td>\n",
       "      <td>POINT (6.08181 58.98705)</td>\n",
       "    </tr>\n",
       "    <tr>\n",
       "      <th>4</th>\n",
       "      <td>4762061</td>\n",
       "      <td>4510550</td>\n",
       "      <td>3.957207e+09</td>\n",
       "      <td>NaN</td>\n",
       "      <td>Pl@ntNet automatic</td>\n",
       "      <td>2020-05-24</td>\n",
       "      <td>145</td>\n",
       "      <td>2020</td>\n",
       "      <td>19.806660</td>\n",
       "      <td>50.06323</td>\n",
       "      <td>5020841.0</td>\n",
       "      <td>3041419.0</td>\n",
       "      <td>9.20</td>\n",
       "      <td>1995</td>\n",
       "      <td>6872516</td>\n",
       "      <td>3852177</td>\n",
       "      <td>POINT (19.80666 50.06323)</td>\n",
       "    </tr>\n",
       "    <tr>\n",
       "      <th>...</th>\n",
       "      <td>...</td>\n",
       "      <td>...</td>\n",
       "      <td>...</td>\n",
       "      <td>...</td>\n",
       "      <td>...</td>\n",
       "      <td>...</td>\n",
       "      <td>...</td>\n",
       "      <td>...</td>\n",
       "      <td>...</td>\n",
       "      <td>...</td>\n",
       "      <td>...</td>\n",
       "      <td>...</td>\n",
       "      <td>...</td>\n",
       "      <td>...</td>\n",
       "      <td>...</td>\n",
       "      <td>...</td>\n",
       "      <td>...</td>\n",
       "    </tr>\n",
       "    <tr>\n",
       "      <th>3558521</th>\n",
       "      <td>1250943</td>\n",
       "      <td>1157288</td>\n",
       "      <td>3.320838e+09</td>\n",
       "      <td>David Delon</td>\n",
       "      <td>iNaturalist RG</td>\n",
       "      <td>2021-05-12</td>\n",
       "      <td>132</td>\n",
       "      <td>2021</td>\n",
       "      <td>3.730108</td>\n",
       "      <td>43.78989</td>\n",
       "      <td>3815796.0</td>\n",
       "      <td>2318978.0</td>\n",
       "      <td>3.00</td>\n",
       "      <td>8893</td>\n",
       "      <td>4216446</td>\n",
       "      <td>1196033</td>\n",
       "      <td>POINT (3.73011 43.78989)</td>\n",
       "    </tr>\n",
       "    <tr>\n",
       "      <th>3558522</th>\n",
       "      <td>2733577</td>\n",
       "      <td>715294</td>\n",
       "      <td>2.895347e+09</td>\n",
       "      <td>Miljøstyrelsen</td>\n",
       "      <td>DEN Environmental Portal</td>\n",
       "      <td>2018-08-23</td>\n",
       "      <td>235</td>\n",
       "      <td>2018</td>\n",
       "      <td>9.066010</td>\n",
       "      <td>56.38362</td>\n",
       "      <td>4263259.0</td>\n",
       "      <td>3698170.0</td>\n",
       "      <td>3.00</td>\n",
       "      <td>9407</td>\n",
       "      <td>5485782</td>\n",
       "      <td>2461471</td>\n",
       "      <td>POINT (9.06601 56.38362)</td>\n",
       "    </tr>\n",
       "    <tr>\n",
       "      <th>3558523</th>\n",
       "      <td>4753256</td>\n",
       "      <td>2799812</td>\n",
       "      <td>3.958016e+09</td>\n",
       "      <td>NaN</td>\n",
       "      <td>Pl@ntNet automatic</td>\n",
       "      <td>2020-07-30</td>\n",
       "      <td>212</td>\n",
       "      <td>2020</td>\n",
       "      <td>19.273600</td>\n",
       "      <td>50.22742</td>\n",
       "      <td>4980762.0</td>\n",
       "      <td>3054607.0</td>\n",
       "      <td>4.29</td>\n",
       "      <td>4466</td>\n",
       "      <td>6864916</td>\n",
       "      <td>3844571</td>\n",
       "      <td>POINT (19.27360 50.22742)</td>\n",
       "    </tr>\n",
       "    <tr>\n",
       "      <th>3558524</th>\n",
       "      <td>833493</td>\n",
       "      <td>3232158</td>\n",
       "      <td>2.644453e+09</td>\n",
       "      <td>NaN</td>\n",
       "      <td>Pl@ntNet automatic</td>\n",
       "      <td>2019-03-08</td>\n",
       "      <td>67</td>\n",
       "      <td>2019</td>\n",
       "      <td>1.090096</td>\n",
       "      <td>43.60787</td>\n",
       "      <td>3601788.0</td>\n",
       "      <td>2320443.0</td>\n",
       "      <td>14.61</td>\n",
       "      <td>6764</td>\n",
       "      <td>3806993</td>\n",
       "      <td>788803</td>\n",
       "      <td>POINT (1.09010 43.60787)</td>\n",
       "    </tr>\n",
       "    <tr>\n",
       "      <th>3558525</th>\n",
       "      <td>2020300</td>\n",
       "      <td>2752618</td>\n",
       "      <td>2.248007e+09</td>\n",
       "      <td>Svein Grimsby;Sebastian Grimsby</td>\n",
       "      <td>NOR Species Observation</td>\n",
       "      <td>2019-04-29</td>\n",
       "      <td>119</td>\n",
       "      <td>2019</td>\n",
       "      <td>6.693203</td>\n",
       "      <td>58.29763</td>\n",
       "      <td>4126850.0</td>\n",
       "      <td>3915194.0</td>\n",
       "      <td>50.00</td>\n",
       "      <td>8732</td>\n",
       "      <td>4942787</td>\n",
       "      <td>1919003</td>\n",
       "      <td>POINT (6.69320 58.29763)</td>\n",
       "    </tr>\n",
       "  </tbody>\n",
       "</table>\n",
       "<p>3558526 rows × 17 columns</p>\n",
       "</div>"
      ],
      "text/plain": [
       "         Unnamed: 0    glcID        gbifID                          observer  \\\n",
       "0           2649153  1399463  3.949786e+09                               NaN   \n",
       "1           4002343  1470399  2.977415e+09                               NaN   \n",
       "2           2029213  1529540  2.977662e+09                               NaN   \n",
       "3           1853144   401365  2.815231e+09  Ove Sander Førland;Leiv Krumsvik   \n",
       "4           4762061  4510550  3.957207e+09                               NaN   \n",
       "...             ...      ...           ...                               ...   \n",
       "3558521     1250943  1157288  3.320838e+09                       David Delon   \n",
       "3558522     2733577   715294  2.895347e+09                    Miljøstyrelsen   \n",
       "3558523     4753256  2799812  3.958016e+09                               NaN   \n",
       "3558524      833493  3232158  2.644453e+09                               NaN   \n",
       "3558525     2020300  2752618  2.248007e+09   Svein Grimsby;Sebastian Grimsby   \n",
       "\n",
       "                      datasetName        date  dayOfYear  year        lon  \\\n",
       "0           Pl@ntNet observations  2021-07-27        208  2021   8.871302   \n",
       "1              Pl@ntNet automatic  2020-05-06        127  2020  12.068050   \n",
       "2              Pl@ntNet automatic  2020-07-01        183  2020   6.720335   \n",
       "3         NOR Species Observation  2020-06-24        176  2020   6.081810   \n",
       "4              Pl@ntNet automatic  2020-05-24        145  2020  19.806660   \n",
       "...                           ...         ...        ...   ...        ...   \n",
       "3558521            iNaturalist RG  2021-05-12        132  2021   3.730108   \n",
       "3558522  DEN Environmental Portal  2018-08-23        235  2018   9.066010   \n",
       "3558523        Pl@ntNet automatic  2020-07-30        212  2020  19.273600   \n",
       "3558524        Pl@ntNet automatic  2019-03-08         67  2019   1.090096   \n",
       "3558525   NOR Species Observation  2019-04-29        119  2019   6.693203   \n",
       "\n",
       "              lat  x_EPSG3035  y_EPSG3035  geoUncertaintyInM  speciesId  \\\n",
       "0        47.49095   4235890.0   2709242.0              65.00       8136   \n",
       "1        42.08209   4492705.0   2111036.0              15.17       3097   \n",
       "2        46.11742   4067272.0   2561639.0               5.00       7262   \n",
       "3        58.98705   4095400.0   3993561.0               5.00       9687   \n",
       "4        50.06323   5020841.0   3041419.0               9.20       1995   \n",
       "...           ...         ...         ...                ...        ...   \n",
       "3558521  43.78989   3815796.0   2318978.0               3.00       8893   \n",
       "3558522  56.38362   4263259.0   3698170.0               3.00       9407   \n",
       "3558523  50.22742   4980762.0   3054607.0               4.29       4466   \n",
       "3558524  43.60787   3601788.0   2320443.0              14.61       6764   \n",
       "3558525  58.29763   4126850.0   3915194.0              50.00       8732   \n",
       "\n",
       "         patchID  timeSerieID                   geometry  \n",
       "0        5435098      2410703   POINT (8.87130 47.49095)  \n",
       "1        6265398      3243038  POINT (12.06805 42.08209)  \n",
       "2        4950564      1926756   POINT (6.72034 46.11742)  \n",
       "3        4789398      1765663   POINT (6.08181 58.98705)  \n",
       "4        6872516      3852177  POINT (19.80666 50.06323)  \n",
       "...          ...          ...                        ...  \n",
       "3558521  4216446      1196033   POINT (3.73011 43.78989)  \n",
       "3558522  5485782      2461471   POINT (9.06601 56.38362)  \n",
       "3558523  6864916      3844571  POINT (19.27360 50.22742)  \n",
       "3558524  3806993       788803   POINT (1.09010 43.60787)  \n",
       "3558525  4942787      1919003   POINT (6.69320 58.29763)  \n",
       "\n",
       "[3558526 rows x 17 columns]"
      ]
     },
     "execution_count": 96,
     "metadata": {},
     "output_type": "execute_result"
    }
   ],
   "source": [
    "po"
   ]
  },
  {
   "cell_type": "code",
   "execution_count": 5,
   "metadata": {},
   "outputs": [],
   "source": [
    "from train_model import *"
   ]
  },
  {
   "cell_type": "code",
   "execution_count": 6,
   "metadata": {},
   "outputs": [],
   "source": [
    "path_to_config = 'models/0523_test_glc23/config.json'\n",
    "with open(path_to_config, \"r\") as f:\n",
    "    config = json.load(f)\n",
    "config = {k: v if v != \"\" else None for k,v in config.items()}"
   ]
  },
  {
   "cell_type": "code",
   "execution_count": 7,
   "metadata": {},
   "outputs": [],
   "source": [
    "log_wandb = config['log_wandb']\n",
    "wandb_project = config['wandb_project']\n",
    "wandb_id = config['wandb_id']\n",
    "env_model = config['env_model']\n",
    "sat_model = config['sat_model']\n",
    "dataset = config['dataset']\n",
    "random_bg = config['random_bg']\n",
    "n_max_low_occ = config['n_max_low_occ']\n",
    "embed_shape = config['embed_shape']\n",
    "loss = config['loss']\n",
    "lambda2 = config['lambda2']\n",
    "n_epochs = config['n_epochs']\n",
    "batch_size = config['batch_size']\n",
    "learning_rate = config['learning_rate']\n",
    "weight_decay = config['weight_decay']\n",
    "num_workers_train = config['num_workers_train']\n",
    "num_workers_val = config['num_workers_val']\n",
    "seed = config['seed']"
   ]
  },
  {
   "cell_type": "code",
   "execution_count": 8,
   "metadata": {},
   "outputs": [
    {
     "name": "stdout",
     "output_type": "stream",
     "text": [
      "\n",
      "Making patch providers with size=10x10, flatten=False for covariates:\n",
      "\t - data/glc24_data/EnvironmentalRasters/Climate/BioClimatic_Average_1981-2010/\n",
      "\n",
      "Making patch providers with size=10x10, flatten=False for covariates:\n",
      "\t - data/glc24_data/EnvironmentalRasters/Climate/BioClimatic_Average_1981-2010/\n",
      "\n",
      "Making dataset for training occurrences\n",
      "nb items = 3894962\n",
      "nb species = 9709\n",
      "nb of species with less than 50 occurrences = 6048\n",
      "input shape: [(19, 10, 10)]\n",
      "\n",
      "Making dataset for validation occurrences\n",
      "nb items = 88987\n",
      "nb species = 9709\n",
      "nb of species with less than 50 occurrences = 2820\n",
      "\n",
      "Making model\n"
     ]
    }
   ],
   "source": [
    "train_data, val_data, model, optimizer, multimodal, autoencoder = setup_model(\n",
    "    env_model=env_model,\n",
    "    sat_model=sat_model,\n",
    "    dataset=dataset,\n",
    "    random_bg=random_bg,\n",
    "    n_max_low_occ=n_max_low_occ,\n",
    "    embed_shape=embed_shape, \n",
    "    learning_rate=learning_rate, \n",
    "    weight_decay=weight_decay,\n",
    "    seed=seed) "
   ]
  },
  {
   "cell_type": "code",
   "execution_count": 5,
   "metadata": {},
   "outputs": [],
   "source": [
    "dev = torch.device(\"cuda\" if torch.cuda.is_available() else \"cpu\")\n",
    "model = model.to(dev)\n",
    "train_loader = torch.utils.data.DataLoader(train_data, shuffle=True, batch_size=10)"
   ]
  },
  {
   "cell_type": "code",
   "execution_count": 6,
   "metadata": {},
   "outputs": [
    {
     "name": "stderr",
     "output_type": "stream",
     "text": [
      "  0%|          | 0/389497 [00:00<?, ?it/s]\n"
     ]
    }
   ],
   "source": [
    "for po_inputs, bg_inputs, labels in tqdm(train_loader):\n",
    "    labels = labels.to(torch.float32).to(dev) \n",
    "\n",
    "    # forward pass\n",
    "    inputsA = po_inputs[0].to(torch.float32).to(dev)\n",
    "    inputsB = po_inputs[1].to(torch.float32).to(dev)\n",
    "    break"
   ]
  },
  {
   "cell_type": "code",
   "execution_count": 7,
   "metadata": {},
   "outputs": [],
   "source": [
    "y_pred = torch.sigmoid(model(inputsA, inputsB))"
   ]
  },
  {
   "cell_type": "code",
   "execution_count": 8,
   "metadata": {},
   "outputs": [
    {
     "data": {
      "text/plain": [
       "torch.Size([10, 9709])"
      ]
     },
     "execution_count": 8,
     "metadata": {},
     "output_type": "execute_result"
    }
   ],
   "source": [
    "y_pred.shape"
   ]
  },
  {
   "cell_type": "code",
   "execution_count": 13,
   "metadata": {},
   "outputs": [],
   "source": [
    "model_setup = {}\n",
    "if env_model is not None: \n",
    "    env_model['covariates'] = [get_path_to(cov, dataset, datadir) for cov in env_model['covariates']]\n",
    "    model_setup['env'] = env_model\n",
    "if sat_model is not None: \n",
    "    sat_model['covariates'] = [get_path_to(cov, dataset, datadir) for cov in sat_model['covariates']]\n",
    "    model_setup['sat'] = sat_model"
   ]
  },
  {
   "cell_type": "code",
   "execution_count": 14,
   "metadata": {},
   "outputs": [],
   "source": [
    "seed_everything(seed)\n",
    "multimodal = (len(model_setup) == 2)\n",
    "autoencoder = False\n",
    "sep = ','\n",
    "item_columns=['lat','lon','surveyId','dayOfYear']\n",
    "item_columns_val=['lat','lon','surveyId']\n",
    "sat_id_col = 'surveyId'\n",
    "select_sat_train=['po_train_patches_rgb','po_train_patches_nir']\n",
    "select_sat_val=['pa_train_patches_rgb','pa_train_patches_nir']"
   ]
  },
  {
   "cell_type": "code",
   "execution_count": 15,
   "metadata": {},
   "outputs": [
    {
     "name": "stdout",
     "output_type": "stream",
     "text": [
      "\n",
      "Making patch providers with size=10x10, flatten=False for covariates:\n",
      "\t - data/glc24_data/EnvironmentalRasters/Climate/BioClimatic_Average_1981-2010/\n"
     ]
    }
   ],
   "source": [
    "train_providers = []\n",
    "for model_name, model_dict in model_setup.items():\n",
    "    flatten = True if model_dict['model_name'] == 'MLP' else False \n",
    "    if model_name == 'env':\n",
    "        train_providers.append(make_providers(model_dict['covariates'], model_dict['patch_size'], flatten))\n",
    "    elif model_name == 'sat':\n",
    "        train_providers.append(make_providers(model_dict['covariates'], model_dict['patch_size'], flatten, sat_id_col, select_sat_train))"
   ]
  },
  {
   "cell_type": "code",
   "execution_count": 14,
   "metadata": {},
   "outputs": [],
   "source": [
    "val_providers = []\n",
    "for model_name, model_dict in model_setup.items():\n",
    "    if model_name == 'env':\n",
    "        val_providers.append(make_providers(model_dict['covariates'], model_dict['patch_size'], flatten))\n",
    "    elif model_name == 'sat':\n",
    "        val_providers.append(make_providers(model_dict['covariates'], model_dict['patch_size'], flatten, sat_id_col, select_sat_val))"
   ]
  },
  {
   "cell_type": "code",
   "execution_count": 14,
   "metadata": {},
   "outputs": [],
   "source": [
    "train_occ_path = get_path_to(\"po\", dataset, datadir)\n",
    "if random_bg:\n",
    "    random_bg_path = get_path_to(\"random_bg\", dataset, datadir)\n",
    "else:\n",
    "    random_bg_path = None\n",
    "val_occ_path = get_path_to(\"pa\", dataset, datadir)"
   ]
  },
  {
   "cell_type": "code",
   "execution_count": 15,
   "metadata": {},
   "outputs": [
    {
     "name": "stdout",
     "output_type": "stream",
     "text": [
      "nb items = 3894962\n",
      "nb species = 9709\n",
      "nb of species with less than 50 occurrences = 6048\n"
     ]
    }
   ],
   "source": [
    "train_data = PatchesDatasetCooccurrences(\n",
    "    occurrences=train_occ_path, \n",
    "    providers=train_providers, \n",
    "    item_columns=item_columns,\n",
    "    pseudoabsences=random_bg_path, \n",
    "    n_low_occ=n_max_low_occ,\n",
    "    sep=sep\n",
    ")"
   ]
  },
  {
   "cell_type": "code",
   "execution_count": 16,
   "metadata": {},
   "outputs": [
    {
     "data": {
      "text/plain": [
       "(4, 128, 128)"
      ]
     },
     "execution_count": 16,
     "metadata": {},
     "output_type": "execute_result"
    }
   ],
   "source": [
    "train_data[0][0][1].shape"
   ]
  },
  {
   "cell_type": "code",
   "execution_count": 17,
   "metadata": {},
   "outputs": [
    {
     "name": "stdout",
     "output_type": "stream",
     "text": [
      "input shape: [(41, 10, 10), (4, 128, 128)]\n"
     ]
    }
   ],
   "source": [
    "for i, key in enumerate(model_setup.keys()):\n",
    "    model_setup[key]['input_shape'] = train_data[0][0][i].shape\n",
    "    if multimodal:\n",
    "        assert embed_shape is not None\n",
    "        model_setup[key]['output_shape'] = embed_shape\n",
    "    else:\n",
    "        model_setup[key]['output_shape'] = train_data.n_species\n",
    "print(f\"input shape: {[params['input_shape'] for params in model_setup.values()]}\")"
   ]
  },
  {
   "cell_type": "code",
   "execution_count": 18,
   "metadata": {},
   "outputs": [],
   "source": [
    "model_list = [make_model(model_dict) for model_dict in model_setup.values()]\n",
    "model = MultimodalModel(model_list[0], model_list[1], train_data.n_species, embed_shape, embed_shape)"
   ]
  },
  {
   "cell_type": "code",
   "execution_count": 20,
   "metadata": {},
   "outputs": [],
   "source": [
    "dev = torch.device(\"cuda\" if torch.cuda.is_available() else \"cpu\")\n",
    "model = model.to(dev)"
   ]
  },
  {
   "cell_type": "code",
   "execution_count": 22,
   "metadata": {},
   "outputs": [],
   "source": [
    "train_loader = torch.utils.data.DataLoader(train_data, shuffle=True, batch_size=10)"
   ]
  },
  {
   "cell_type": "code",
   "execution_count": 23,
   "metadata": {},
   "outputs": [
    {
     "name": "stderr",
     "output_type": "stream",
     "text": [
      "  0%|          | 0/389497 [00:01<?, ?it/s]\n"
     ]
    }
   ],
   "source": [
    "for po_inputs, bg_inputs, labels in tqdm(train_loader):\n",
    "    labels = labels.to(torch.float32).to(dev) \n",
    "    inputsA = po_inputs[0].to(torch.float32).to(dev)\n",
    "    inputsB = po_inputs[1].to(torch.float32).to(dev)\n",
    "    break"
   ]
  },
  {
   "cell_type": "code",
   "execution_count": 24,
   "metadata": {},
   "outputs": [],
   "source": [
    "y_pred = torch.sigmoid(model(inputsA, inputsB))"
   ]
  },
  {
   "cell_type": "code",
   "execution_count": 25,
   "metadata": {},
   "outputs": [
    {
     "data": {
      "text/plain": [
       "tensor([[0.4958, 0.4937, 0.5061,  ..., 0.5049, 0.5010, 0.4927],\n",
       "        [0.4932, 0.4994, 0.5178,  ..., 0.5060, 0.5114, 0.5046],\n",
       "        [0.5156, 0.4964, 0.5023,  ..., 0.5047, 0.4994, 0.5046],\n",
       "        ...,\n",
       "        [0.5056, 0.4928, 0.5064,  ..., 0.5134, 0.4963, 0.5101],\n",
       "        [0.5043, 0.4939, 0.5119,  ..., 0.5066, 0.5023, 0.5044],\n",
       "        [0.5091, 0.4842, 0.5096,  ..., 0.4996, 0.5042, 0.5102]],\n",
       "       device='cuda:0', grad_fn=<SigmoidBackward0>)"
      ]
     },
     "execution_count": 25,
     "metadata": {},
     "output_type": "execute_result"
    }
   ],
   "source": [
    "y_pred"
   ]
  },
  {
   "cell_type": "code",
   "execution_count": 33,
   "metadata": {},
   "outputs": [
    {
     "name": "stdout",
     "output_type": "stream",
     "text": [
      "634179 79 41\n"
     ]
    }
   ],
   "source": [
    "p = train_data.providers[1][0]#[item]\n",
    "patch_id = str(int(item[p.id_col]))\n",
    "sub_folder_1 = patch_id[-2:]\n",
    "sub_folder_2 = patch_id[-4:-2]\n",
    "print(patch_id, sub_folder_1, sub_folder_2)"
   ]
  },
  {
   "cell_type": "code",
   "execution_count": 70,
   "metadata": {},
   "outputs": [
    {
     "name": "stdout",
     "output_type": "stream",
     "text": [
      "po_train_patches_rgb po_train_patches_nir\n",
      "['red', 'green', 'blue', 'nir']\n",
      "{'red': 'po_train_patches_rgb', 'green': 'po_train_patches_rgb', 'blue': 'po_train_patches_rgb', 'nir': 'po_train_patches_nir'}\n"
     ]
    }
   ],
   "source": [
    "select = select_sat_train\n",
    "rgb_folder = [x for x in select if 'rgb' in x][0] if len([x for x in select if 'rgb' in x]) > 0 else None\n",
    "nir_folder = [x for x in select if 'nir' in x][0] if len([x for x in select if 'nir' in x]) > 0 else None\n",
    "print(rgb_folder, nir_folder)\n",
    "channels = []\n",
    "if rgb_folder is not None:\n",
    "    channels += ['red','green','blue']\n",
    "if nir_folder is not None:\n",
    "    channels += ['nir']\n",
    "# channels += [x for x in select if not ('rgb' in x or 'nir' in x)]\n",
    "channel_folder = {'red': rgb_folder, 'green': rgb_folder, 'blue': rgb_folder, 'nir': nir_folder}\n",
    "print(channels)\n",
    "print(channel_folder)"
   ]
  },
  {
   "cell_type": "code",
   "execution_count": 73,
   "metadata": {},
   "outputs": [
    {
     "name": "stdout",
     "output_type": "stream",
     "text": [
      "data/glc24_data/SatellitePatches/po_train_patches_rgb/79/41/634179.jpeg\n",
      "data/glc24_data/SatellitePatches/po_train_patches_nir/79/41/634179.jpeg\n"
     ]
    }
   ],
   "source": [
    "for folder in set([channel_folder[x] for x in channels]):\n",
    "    path = os.path.join(p.root_path, folder, sub_folder_1, sub_folder_2, patch_id+p.ext)\n",
    "    print(path)       "
   ]
  },
  {
   "cell_type": "code",
   "execution_count": 52,
   "metadata": {},
   "outputs": [
    {
     "data": {
      "text/plain": [
       "['red', 'green', 'blue', 'nir']"
      ]
     },
     "execution_count": 52,
     "metadata": {},
     "output_type": "execute_result"
    }
   ],
   "source": [
    "channels"
   ]
  },
  {
   "cell_type": "code",
   "execution_count": 53,
   "metadata": {},
   "outputs": [
    {
     "data": {
      "text/plain": [
       "{'red': 'rgb', 'green': 'rgb', 'blue': 'rgb', 'nir': 'nir'}"
      ]
     },
     "execution_count": 53,
     "metadata": {},
     "output_type": "execute_result"
    }
   ],
   "source": [
    "channel_folder"
   ]
  },
  {
   "cell_type": "code",
   "execution_count": 45,
   "metadata": {},
   "outputs": [],
   "source": [
    "select_sat_train += ['a','b']"
   ]
  },
  {
   "cell_type": "code",
   "execution_count": 49,
   "metadata": {},
   "outputs": [
    {
     "data": {
      "text/plain": [
       "[['a', 'b'], 'a', 'b']"
      ]
     },
     "execution_count": 49,
     "metadata": {},
     "output_type": "execute_result"
    }
   ],
   "source": [
    "[x for x in select_sat_train if not ('rgb' in x or 'nir' in x)]"
   ]
  },
  {
   "cell_type": "code",
   "execution_count": 36,
   "metadata": {},
   "outputs": [
    {
     "data": {
      "text/plain": [
       "{'red': 'rgb', 'green': 'rgb', 'blue': 'rgb', 'nir': 'nir'}"
      ]
     },
     "execution_count": 36,
     "metadata": {},
     "output_type": "execute_result"
    }
   ],
   "source": [
    "p.channel_folder"
   ]
  },
  {
   "cell_type": "code",
   "execution_count": 34,
   "metadata": {},
   "outputs": [
    {
     "ename": "KeyError",
     "evalue": "'po_train_patches_rgb'",
     "output_type": "error",
     "traceback": [
      "\u001b[0;31m---------------------------------------------------------------------------\u001b[0m",
      "\u001b[0;31mKeyError\u001b[0m                                  Traceback (most recent call last)",
      "Cell \u001b[0;32mIn[34], line 2\u001b[0m\n\u001b[1;32m      1\u001b[0m tensor_list \u001b[38;5;241m=\u001b[39m []\n\u001b[0;32m----> 2\u001b[0m \u001b[38;5;28;01mfor\u001b[39;00m folder \u001b[38;5;129;01min\u001b[39;00m \u001b[38;5;28mset\u001b[39m([p\u001b[38;5;241m.\u001b[39mchannel_folder[x] \u001b[38;5;28;01mfor\u001b[39;00m x \u001b[38;5;129;01min\u001b[39;00m p\u001b[38;5;241m.\u001b[39mchannels]):\n\u001b[1;32m      3\u001b[0m     \u001b[38;5;28mprint\u001b[39m(folder)\n",
      "Cell \u001b[0;32mIn[34], line 2\u001b[0m, in \u001b[0;36m<listcomp>\u001b[0;34m(.0)\u001b[0m\n\u001b[1;32m      1\u001b[0m tensor_list \u001b[38;5;241m=\u001b[39m []\n\u001b[0;32m----> 2\u001b[0m \u001b[38;5;28;01mfor\u001b[39;00m folder \u001b[38;5;129;01min\u001b[39;00m \u001b[38;5;28mset\u001b[39m([\u001b[43mp\u001b[49m\u001b[38;5;241;43m.\u001b[39;49m\u001b[43mchannel_folder\u001b[49m\u001b[43m[\u001b[49m\u001b[43mx\u001b[49m\u001b[43m]\u001b[49m \u001b[38;5;28;01mfor\u001b[39;00m x \u001b[38;5;129;01min\u001b[39;00m p\u001b[38;5;241m.\u001b[39mchannels]):\n\u001b[1;32m      3\u001b[0m     \u001b[38;5;28mprint\u001b[39m(folder)\n",
      "\u001b[0;31mKeyError\u001b[0m: 'po_train_patches_rgb'"
     ]
    }
   ],
   "source": [
    "tensor_list = []\n",
    "for folder in set([p.channel_folder[x] for x in p.channels]):\n",
    "    print(folder)\n",
    "    # path = os.path.join(self.root_path, folder, sub_folder_1, sub_folder_2, patch_id+self.ext)\n",
    "    # img = np.asarray(Image.open(path))\n",
    "    # if self.normalize:\n",
    "    #     img = (img - self.stats[folder]['mean']) / self.stats[folder]['std']\n",
    "    # if folder == 'rgb':\n",
    "    #     img = img.transpose((2,0,1))\n",
    "    # else:\n",
    "    #     img = np.expand_dims(img, axis=0)\n",
    "    # tensor_list.append(img)"
   ]
  },
  {
   "cell_type": "code",
   "execution_count": 32,
   "metadata": {},
   "outputs": [
    {
     "ename": "KeyError",
     "evalue": "'po_train_patches_rgb'",
     "output_type": "error",
     "traceback": [
      "\u001b[0;31m---------------------------------------------------------------------------\u001b[0m",
      "\u001b[0;31mTypeError\u001b[0m                                 Traceback (most recent call last)",
      "File \u001b[0;32m~/Documents/GeoLifeCLEF/data/PatchesProviders.py:48\u001b[0m, in \u001b[0;36mMetaPatchProvider.__getitem__\u001b[0;34m(self, item)\u001b[0m\n\u001b[1;32m     47\u001b[0m \u001b[38;5;28;01mtry\u001b[39;00m:\n\u001b[0;32m---> 48\u001b[0m     patch \u001b[38;5;241m=\u001b[39m \u001b[38;5;28;43mself\u001b[39;49m\u001b[38;5;241;43m.\u001b[39;49m\u001b[43mproviders\u001b[49m\u001b[43m[\u001b[49m\u001b[43mitem\u001b[49m\u001b[43m]\u001b[49m\n\u001b[1;32m     49\u001b[0m \u001b[38;5;28;01mexcept\u001b[39;00m:\n",
      "\u001b[0;31mTypeError\u001b[0m: list indices must be integers or slices, not dict",
      "\nDuring handling of the above exception, another exception occurred:\n",
      "\u001b[0;31mKeyError\u001b[0m                                  Traceback (most recent call last)",
      "Cell \u001b[0;32mIn[32], line 1\u001b[0m\n\u001b[0;32m----> 1\u001b[0m \u001b[43mtrain_data\u001b[49m\u001b[38;5;241;43m.\u001b[39;49m\u001b[43mproviders\u001b[49m\u001b[43m[\u001b[49m\u001b[38;5;241;43m1\u001b[39;49m\u001b[43m]\u001b[49m\u001b[43m[\u001b[49m\u001b[43mitem\u001b[49m\u001b[43m]\u001b[49m\n",
      "File \u001b[0;32m~/Documents/GeoLifeCLEF/data/PatchesProviders.py:50\u001b[0m, in \u001b[0;36mMetaPatchProvider.__getitem__\u001b[0;34m(self, item)\u001b[0m\n\u001b[1;32m     48\u001b[0m     patch \u001b[38;5;241m=\u001b[39m \u001b[38;5;28mself\u001b[39m\u001b[38;5;241m.\u001b[39mproviders[item]\n\u001b[1;32m     49\u001b[0m \u001b[38;5;28;01mexcept\u001b[39;00m:\n\u001b[0;32m---> 50\u001b[0m     patch \u001b[38;5;241m=\u001b[39m np\u001b[38;5;241m.\u001b[39mconcatenate([provider[item] \u001b[38;5;28;01mfor\u001b[39;00m provider \u001b[38;5;129;01min\u001b[39;00m \u001b[38;5;28mself\u001b[39m\u001b[38;5;241m.\u001b[39mproviders])\n\u001b[1;32m     51\u001b[0m \u001b[38;5;28;01mreturn\u001b[39;00m patch\n",
      "File \u001b[0;32m~/Documents/GeoLifeCLEF/data/PatchesProviders.py:50\u001b[0m, in \u001b[0;36m<listcomp>\u001b[0;34m(.0)\u001b[0m\n\u001b[1;32m     48\u001b[0m     patch \u001b[38;5;241m=\u001b[39m \u001b[38;5;28mself\u001b[39m\u001b[38;5;241m.\u001b[39mproviders[item]\n\u001b[1;32m     49\u001b[0m \u001b[38;5;28;01mexcept\u001b[39;00m:\n\u001b[0;32m---> 50\u001b[0m     patch \u001b[38;5;241m=\u001b[39m np\u001b[38;5;241m.\u001b[39mconcatenate([\u001b[43mprovider\u001b[49m\u001b[43m[\u001b[49m\u001b[43mitem\u001b[49m\u001b[43m]\u001b[49m \u001b[38;5;28;01mfor\u001b[39;00m provider \u001b[38;5;129;01min\u001b[39;00m \u001b[38;5;28mself\u001b[39m\u001b[38;5;241m.\u001b[39mproviders])\n\u001b[1;32m     51\u001b[0m \u001b[38;5;28;01mreturn\u001b[39;00m patch\n",
      "File \u001b[0;32m~/Documents/GeoLifeCLEF/data/PatchesProviders.py:216\u001b[0m, in \u001b[0;36mJpegPatchProvider.__getitem__\u001b[0;34m(self, item)\u001b[0m\n\u001b[1;32m    213\u001b[0m sub_folder_2 \u001b[38;5;241m=\u001b[39m patch_id[\u001b[38;5;241m-\u001b[39m\u001b[38;5;241m4\u001b[39m:\u001b[38;5;241m-\u001b[39m\u001b[38;5;241m2\u001b[39m]\n\u001b[1;32m    215\u001b[0m tensor_list \u001b[38;5;241m=\u001b[39m []\n\u001b[0;32m--> 216\u001b[0m \u001b[38;5;28;01mfor\u001b[39;00m folder \u001b[38;5;129;01min\u001b[39;00m \u001b[38;5;28mset\u001b[39m([\u001b[38;5;28mself\u001b[39m\u001b[38;5;241m.\u001b[39mchannel_folder[x] \u001b[38;5;28;01mfor\u001b[39;00m x \u001b[38;5;129;01min\u001b[39;00m \u001b[38;5;28mself\u001b[39m\u001b[38;5;241m.\u001b[39mchannels]):\n\u001b[1;32m    217\u001b[0m     path \u001b[38;5;241m=\u001b[39m os\u001b[38;5;241m.\u001b[39mpath\u001b[38;5;241m.\u001b[39mjoin(\u001b[38;5;28mself\u001b[39m\u001b[38;5;241m.\u001b[39mroot_path, folder, sub_folder_1, sub_folder_2, patch_id\u001b[38;5;241m+\u001b[39m\u001b[38;5;28mself\u001b[39m\u001b[38;5;241m.\u001b[39mext)\n\u001b[1;32m    218\u001b[0m     img \u001b[38;5;241m=\u001b[39m np\u001b[38;5;241m.\u001b[39masarray(Image\u001b[38;5;241m.\u001b[39mopen(path))\n",
      "File \u001b[0;32m~/Documents/GeoLifeCLEF/data/PatchesProviders.py:216\u001b[0m, in \u001b[0;36m<listcomp>\u001b[0;34m(.0)\u001b[0m\n\u001b[1;32m    213\u001b[0m sub_folder_2 \u001b[38;5;241m=\u001b[39m patch_id[\u001b[38;5;241m-\u001b[39m\u001b[38;5;241m4\u001b[39m:\u001b[38;5;241m-\u001b[39m\u001b[38;5;241m2\u001b[39m]\n\u001b[1;32m    215\u001b[0m tensor_list \u001b[38;5;241m=\u001b[39m []\n\u001b[0;32m--> 216\u001b[0m \u001b[38;5;28;01mfor\u001b[39;00m folder \u001b[38;5;129;01min\u001b[39;00m \u001b[38;5;28mset\u001b[39m([\u001b[38;5;28;43mself\u001b[39;49m\u001b[38;5;241;43m.\u001b[39;49m\u001b[43mchannel_folder\u001b[49m\u001b[43m[\u001b[49m\u001b[43mx\u001b[49m\u001b[43m]\u001b[49m \u001b[38;5;28;01mfor\u001b[39;00m x \u001b[38;5;129;01min\u001b[39;00m \u001b[38;5;28mself\u001b[39m\u001b[38;5;241m.\u001b[39mchannels]):\n\u001b[1;32m    217\u001b[0m     path \u001b[38;5;241m=\u001b[39m os\u001b[38;5;241m.\u001b[39mpath\u001b[38;5;241m.\u001b[39mjoin(\u001b[38;5;28mself\u001b[39m\u001b[38;5;241m.\u001b[39mroot_path, folder, sub_folder_1, sub_folder_2, patch_id\u001b[38;5;241m+\u001b[39m\u001b[38;5;28mself\u001b[39m\u001b[38;5;241m.\u001b[39mext)\n\u001b[1;32m    218\u001b[0m     img \u001b[38;5;241m=\u001b[39m np\u001b[38;5;241m.\u001b[39masarray(Image\u001b[38;5;241m.\u001b[39mopen(path))\n",
      "\u001b[0;31mKeyError\u001b[0m: 'po_train_patches_rgb'"
     ]
    }
   ],
   "source": [
    "train_data.providers[1][item]"
   ]
  },
  {
   "cell_type": "code",
   "execution_count": 16,
   "metadata": {},
   "outputs": [],
   "source": [
    "index = 0\n",
    "item = train_data.items.iloc[index][train_data.item_columns].to_dict()\n",
    "item_species = train_data.items.iloc[index][train_data.label_name]\n",
    "labels = 1 * np.isin(train_data.species, item_species)\n",
    "# patches = [p[item] for p in train_data.providers]"
   ]
  },
  {
   "cell_type": "code",
   "execution_count": 18,
   "metadata": {},
   "outputs": [
    {
     "data": {
      "text/plain": [
       "2"
      ]
     },
     "execution_count": 18,
     "metadata": {},
     "output_type": "execute_result"
    }
   ],
   "source": [
    "len(train_data.providers)"
   ]
  },
  {
   "cell_type": "code",
   "execution_count": 25,
   "metadata": {},
   "outputs": [
    {
     "data": {
      "text/plain": [
       "[Rasters in folder:]"
      ]
     },
     "execution_count": 25,
     "metadata": {},
     "output_type": "execute_result"
    }
   ],
   "source": [
    "p = train_data.providers[1]\n",
    "p.providers"
   ]
  },
  {
   "cell_type": "code",
   "execution_count": null,
   "metadata": {},
   "outputs": [],
   "source": [
    "for i, key in enumerate(model_setup.keys()):\n",
    "    model_setup[key]['input_shape'] = train_data[0][0][i].shape\n",
    "    if multimodal:\n",
    "        assert embed_shape is not None\n",
    "        model_setup[key]['output_shape'] = embed_shape\n",
    "    else:\n",
    "        model_setup[key]['output_shape'] = train_data.n_species\n",
    "print(f\"input shape: {[params['input_shape'] for params in model_setup.values()]}\")\n"
   ]
  },
  {
   "cell_type": "code",
   "execution_count": 24,
   "metadata": {},
   "outputs": [],
   "source": [
    "val_data = PatchesDatasetCooccurrences(\n",
    "    occurrences=val_occ_path, \n",
    "    providers=val_providers, \n",
    "    item_columns=item_columns_val,\n",
    "    species=train_data.species, \n",
    "    n_low_occ=n_max_low_occ\n",
    ")\n"
   ]
  },
  {
   "cell_type": "code",
   "execution_count": 58,
   "metadata": {},
   "outputs": [
    {
     "data": {
      "text/plain": [
       "{'model_name': 'MultiResolutionModel',\n",
       " 'covariates': ['data/glc24_data/SatellitePatches/'],\n",
       " 'patch_size': 128,\n",
       " 'backbone': 'ResNet',\n",
       " 'backbone_params': {'pretrained': False},\n",
       " 'aspp_params': {'out_channels': 256,\n",
       "  'out_size': 2174,\n",
       "  'kernel_sizes': [[3, 3, 3, 3], [3, 3, 3, 3], [1]],\n",
       "  'dilations': [[1, 1, 1, 1], [1, 1, 1, 1], [1]],\n",
       "  'pooling_sizes': [[2, 2, 2, 2], [2, 2, 1], [1]],\n",
       "  'n_linear_layers': 1}}"
      ]
     },
     "execution_count": 58,
     "metadata": {},
     "output_type": "execute_result"
    }
   ],
   "source": [
    "model_dict = model_setup['sat']\n",
    "flatten = False\n",
    "# provider = make_providers(model_dict['covariates'], model_dict['patch_size'], flatten)\n",
    "model_dict"
   ]
  },
  {
   "cell_type": "code",
   "execution_count": 59,
   "metadata": {},
   "outputs": [
    {
     "data": {
      "text/plain": [
       "'data/glc24_data/SatellitePatches/'"
      ]
     },
     "execution_count": 59,
     "metadata": {},
     "output_type": "execute_result"
    }
   ],
   "source": [
    "cov = model_dict['covariates'][0]\n",
    "cov"
   ]
  },
  {
   "cell_type": "code",
   "execution_count": 64,
   "metadata": {},
   "outputs": [
    {
     "data": {
      "text/plain": [
       "{'env': {'model_name': 'MultiResolutionModel',\n",
       "  'covariates': ['data/glc24_data/EnvironmentalRasters/Climate/BioClimatic_Average_1981-2010/',\n",
       "   'data/glc24_data/EnvironmentalRasters/Soilgrids/',\n",
       "   'data/glc24_data/EnvironmentalRasters/LandCover/LandCover_MODIS_Terra-Aqua_500m.tif'],\n",
       "  'patch_size': 10,\n",
       "  'backbone': 'CNN',\n",
       "  'backbone_params': {'n_filters': [256, 256, 256, 256],\n",
       "   'kernel_sizes': [1, 1, 1, 1],\n",
       "   'paddings': [0, 0, 0, 0],\n",
       "   'pooling_sizes': [1, 1, 1, 1]},\n",
       "  'aspp_params': {'out_channels': 512,\n",
       "   'out_size': 2174,\n",
       "   'kernel_sizes': [[5, 5], [5], [1]],\n",
       "   'dilations': [[1, 1], [1], [1]],\n",
       "   'pooling_sizes': [[1, 2], [1], [1]],\n",
       "   'n_linear_layers': 1}},\n",
       " 'sat': {'model_name': 'MultiResolutionModel',\n",
       "  'covariates': ['data/glc24_data/SatellitePatches/'],\n",
       "  'patch_size': 128,\n",
       "  'backbone': 'ResNet',\n",
       "  'backbone_params': {'pretrained': False},\n",
       "  'aspp_params': {'out_channels': 256,\n",
       "   'out_size': 2174,\n",
       "   'kernel_sizes': [[3, 3, 3, 3], [3, 3, 3, 3], [1]],\n",
       "   'dilations': [[1, 1, 1, 1], [1, 1, 1, 1], [1]],\n",
       "   'pooling_sizes': [[2, 2, 2, 2], [2, 2, 1], [1]],\n",
       "   'n_linear_layers': 1}}}"
      ]
     },
     "execution_count": 64,
     "metadata": {},
     "output_type": "execute_result"
    }
   ],
   "source": [
    "model_setup"
   ]
  },
  {
   "cell_type": "code",
   "execution_count": 63,
   "metadata": {},
   "outputs": [
    {
     "ename": "FileNotFoundError",
     "evalue": "[Errno 2] No such file or directory: 'data/glc24_data/SatellitePatches/po_train_patches_rgb_means.csv'",
     "output_type": "error",
     "traceback": [
      "\u001b[0;31m---------------------------------------------------------------------------\u001b[0m",
      "\u001b[0;31mFileNotFoundError\u001b[0m                         Traceback (most recent call last)",
      "Cell \u001b[0;32mIn[63], line 1\u001b[0m\n\u001b[0;32m----> 1\u001b[0m \u001b[43mJpegPatchProvider\u001b[49m\u001b[43m(\u001b[49m\u001b[43mcov\u001b[49m\u001b[43m,\u001b[49m\u001b[43m \u001b[49m\u001b[43mselect\u001b[49m\u001b[38;5;241;43m=\u001b[39;49m\u001b[43m[\u001b[49m\u001b[38;5;124;43m'\u001b[39;49m\u001b[38;5;124;43mpo_train_patches_rgb\u001b[39;49m\u001b[38;5;124;43m'\u001b[39;49m\u001b[43m,\u001b[49m\u001b[38;5;124;43m'\u001b[39;49m\u001b[38;5;124;43mpo_train_patches_nir\u001b[39;49m\u001b[38;5;124;43m'\u001b[39;49m\u001b[43m]\u001b[49m\u001b[43m,\u001b[49m\u001b[43m \u001b[49m\u001b[43msize\u001b[49m\u001b[38;5;241;43m=\u001b[39;49m\u001b[38;5;241;43m128\u001b[39;49m\u001b[43m)\u001b[49m\n",
      "File \u001b[0;32m~/Documents/GeoLifeCLEF/data/PatchesProviders.py:198\u001b[0m, in \u001b[0;36mJpegPatchProvider.__init__\u001b[0;34m(self, root_path, select, size, normalize)\u001b[0m\n\u001b[1;32m    195\u001b[0m \u001b[38;5;66;03m# 'swir1':'swir1','swir2':'swir2'\u001b[39;00m\n\u001b[1;32m    197\u001b[0m \u001b[38;5;28;01mif\u001b[39;00m \u001b[38;5;28mself\u001b[39m\u001b[38;5;241m.\u001b[39mnormalize:\n\u001b[0;32m--> 198\u001b[0m     \u001b[38;5;28mself\u001b[39m\u001b[38;5;241m.\u001b[39mstats \u001b[38;5;241m=\u001b[39m {k: {\n\u001b[1;32m    199\u001b[0m         \u001b[38;5;124m'\u001b[39m\u001b[38;5;124mmean\u001b[39m\u001b[38;5;124m'\u001b[39m: pd\u001b[38;5;241m.\u001b[39mread_csv(root_path\u001b[38;5;241m+\u001b[39mk\u001b[38;5;241m+\u001b[39m\u001b[38;5;124m'\u001b[39m\u001b[38;5;124m_means.csv\u001b[39m\u001b[38;5;124m'\u001b[39m)[\u001b[38;5;124m'\u001b[39m\u001b[38;5;124mmean\u001b[39m\u001b[38;5;124m'\u001b[39m]\u001b[38;5;241m.\u001b[39mvalues,\n\u001b[1;32m    200\u001b[0m         \u001b[38;5;124m'\u001b[39m\u001b[38;5;124mstd\u001b[39m\u001b[38;5;124m'\u001b[39m:pd\u001b[38;5;241m.\u001b[39mread_csv(root_path\u001b[38;5;241m+\u001b[39mk\u001b[38;5;241m+\u001b[39m\u001b[38;5;124m'\u001b[39m\u001b[38;5;124m_std.csv\u001b[39m\u001b[38;5;124m'\u001b[39m)[\u001b[38;5;124m'\u001b[39m\u001b[38;5;124mstd_dev\u001b[39m\u001b[38;5;124m'\u001b[39m]\u001b[38;5;241m.\u001b[39mvalues\n\u001b[1;32m    201\u001b[0m     } \u001b[38;5;28;01mfor\u001b[39;00m k \u001b[38;5;129;01min\u001b[39;00m select}\n\u001b[1;32m    203\u001b[0m \u001b[38;5;28mself\u001b[39m\u001b[38;5;241m.\u001b[39mnb_layers \u001b[38;5;241m=\u001b[39m \u001b[38;5;28mlen\u001b[39m(\u001b[38;5;28mself\u001b[39m\u001b[38;5;241m.\u001b[39mchannels)\n\u001b[1;32m    204\u001b[0m \u001b[38;5;28mself\u001b[39m\u001b[38;5;241m.\u001b[39mbands_names \u001b[38;5;241m=\u001b[39m \u001b[38;5;28mlist\u001b[39m(\u001b[38;5;28mself\u001b[39m\u001b[38;5;241m.\u001b[39mchannels)\n",
      "File \u001b[0;32m~/Documents/GeoLifeCLEF/data/PatchesProviders.py:199\u001b[0m, in \u001b[0;36m<dictcomp>\u001b[0;34m(.0)\u001b[0m\n\u001b[1;32m    195\u001b[0m \u001b[38;5;66;03m# 'swir1':'swir1','swir2':'swir2'\u001b[39;00m\n\u001b[1;32m    197\u001b[0m \u001b[38;5;28;01mif\u001b[39;00m \u001b[38;5;28mself\u001b[39m\u001b[38;5;241m.\u001b[39mnormalize:\n\u001b[1;32m    198\u001b[0m     \u001b[38;5;28mself\u001b[39m\u001b[38;5;241m.\u001b[39mstats \u001b[38;5;241m=\u001b[39m {k: {\n\u001b[0;32m--> 199\u001b[0m         \u001b[38;5;124m'\u001b[39m\u001b[38;5;124mmean\u001b[39m\u001b[38;5;124m'\u001b[39m: \u001b[43mpd\u001b[49m\u001b[38;5;241;43m.\u001b[39;49m\u001b[43mread_csv\u001b[49m\u001b[43m(\u001b[49m\u001b[43mroot_path\u001b[49m\u001b[38;5;241;43m+\u001b[39;49m\u001b[43mk\u001b[49m\u001b[38;5;241;43m+\u001b[39;49m\u001b[38;5;124;43m'\u001b[39;49m\u001b[38;5;124;43m_means.csv\u001b[39;49m\u001b[38;5;124;43m'\u001b[39;49m\u001b[43m)\u001b[49m[\u001b[38;5;124m'\u001b[39m\u001b[38;5;124mmean\u001b[39m\u001b[38;5;124m'\u001b[39m]\u001b[38;5;241m.\u001b[39mvalues,\n\u001b[1;32m    200\u001b[0m         \u001b[38;5;124m'\u001b[39m\u001b[38;5;124mstd\u001b[39m\u001b[38;5;124m'\u001b[39m:pd\u001b[38;5;241m.\u001b[39mread_csv(root_path\u001b[38;5;241m+\u001b[39mk\u001b[38;5;241m+\u001b[39m\u001b[38;5;124m'\u001b[39m\u001b[38;5;124m_std.csv\u001b[39m\u001b[38;5;124m'\u001b[39m)[\u001b[38;5;124m'\u001b[39m\u001b[38;5;124mstd_dev\u001b[39m\u001b[38;5;124m'\u001b[39m]\u001b[38;5;241m.\u001b[39mvalues\n\u001b[1;32m    201\u001b[0m     } \u001b[38;5;28;01mfor\u001b[39;00m k \u001b[38;5;129;01min\u001b[39;00m select}\n\u001b[1;32m    203\u001b[0m \u001b[38;5;28mself\u001b[39m\u001b[38;5;241m.\u001b[39mnb_layers \u001b[38;5;241m=\u001b[39m \u001b[38;5;28mlen\u001b[39m(\u001b[38;5;28mself\u001b[39m\u001b[38;5;241m.\u001b[39mchannels)\n\u001b[1;32m    204\u001b[0m \u001b[38;5;28mself\u001b[39m\u001b[38;5;241m.\u001b[39mbands_names \u001b[38;5;241m=\u001b[39m \u001b[38;5;28mlist\u001b[39m(\u001b[38;5;28mself\u001b[39m\u001b[38;5;241m.\u001b[39mchannels)\n",
      "File \u001b[0;32m~/miniconda3/envs/glc23/lib/python3.9/site-packages/pandas/util/_decorators.py:211\u001b[0m, in \u001b[0;36mdeprecate_kwarg.<locals>._deprecate_kwarg.<locals>.wrapper\u001b[0;34m(*args, **kwargs)\u001b[0m\n\u001b[1;32m    209\u001b[0m     \u001b[38;5;28;01melse\u001b[39;00m:\n\u001b[1;32m    210\u001b[0m         kwargs[new_arg_name] \u001b[38;5;241m=\u001b[39m new_arg_value\n\u001b[0;32m--> 211\u001b[0m \u001b[38;5;28;01mreturn\u001b[39;00m \u001b[43mfunc\u001b[49m\u001b[43m(\u001b[49m\u001b[38;5;241;43m*\u001b[39;49m\u001b[43margs\u001b[49m\u001b[43m,\u001b[49m\u001b[43m \u001b[49m\u001b[38;5;241;43m*\u001b[39;49m\u001b[38;5;241;43m*\u001b[39;49m\u001b[43mkwargs\u001b[49m\u001b[43m)\u001b[49m\n",
      "File \u001b[0;32m~/miniconda3/envs/glc23/lib/python3.9/site-packages/pandas/util/_decorators.py:331\u001b[0m, in \u001b[0;36mdeprecate_nonkeyword_arguments.<locals>.decorate.<locals>.wrapper\u001b[0;34m(*args, **kwargs)\u001b[0m\n\u001b[1;32m    325\u001b[0m \u001b[38;5;28;01mif\u001b[39;00m \u001b[38;5;28mlen\u001b[39m(args) \u001b[38;5;241m>\u001b[39m num_allow_args:\n\u001b[1;32m    326\u001b[0m     warnings\u001b[38;5;241m.\u001b[39mwarn(\n\u001b[1;32m    327\u001b[0m         msg\u001b[38;5;241m.\u001b[39mformat(arguments\u001b[38;5;241m=\u001b[39m_format_argument_list(allow_args)),\n\u001b[1;32m    328\u001b[0m         \u001b[38;5;167;01mFutureWarning\u001b[39;00m,\n\u001b[1;32m    329\u001b[0m         stacklevel\u001b[38;5;241m=\u001b[39mfind_stack_level(),\n\u001b[1;32m    330\u001b[0m     )\n\u001b[0;32m--> 331\u001b[0m \u001b[38;5;28;01mreturn\u001b[39;00m \u001b[43mfunc\u001b[49m\u001b[43m(\u001b[49m\u001b[38;5;241;43m*\u001b[39;49m\u001b[43margs\u001b[49m\u001b[43m,\u001b[49m\u001b[43m \u001b[49m\u001b[38;5;241;43m*\u001b[39;49m\u001b[38;5;241;43m*\u001b[39;49m\u001b[43mkwargs\u001b[49m\u001b[43m)\u001b[49m\n",
      "File \u001b[0;32m~/miniconda3/envs/glc23/lib/python3.9/site-packages/pandas/io/parsers/readers.py:950\u001b[0m, in \u001b[0;36mread_csv\u001b[0;34m(filepath_or_buffer, sep, delimiter, header, names, index_col, usecols, squeeze, prefix, mangle_dupe_cols, dtype, engine, converters, true_values, false_values, skipinitialspace, skiprows, skipfooter, nrows, na_values, keep_default_na, na_filter, verbose, skip_blank_lines, parse_dates, infer_datetime_format, keep_date_col, date_parser, dayfirst, cache_dates, iterator, chunksize, compression, thousands, decimal, lineterminator, quotechar, quoting, doublequote, escapechar, comment, encoding, encoding_errors, dialect, error_bad_lines, warn_bad_lines, on_bad_lines, delim_whitespace, low_memory, memory_map, float_precision, storage_options)\u001b[0m\n\u001b[1;32m    935\u001b[0m kwds_defaults \u001b[38;5;241m=\u001b[39m _refine_defaults_read(\n\u001b[1;32m    936\u001b[0m     dialect,\n\u001b[1;32m    937\u001b[0m     delimiter,\n\u001b[0;32m   (...)\u001b[0m\n\u001b[1;32m    946\u001b[0m     defaults\u001b[38;5;241m=\u001b[39m{\u001b[38;5;124m\"\u001b[39m\u001b[38;5;124mdelimiter\u001b[39m\u001b[38;5;124m\"\u001b[39m: \u001b[38;5;124m\"\u001b[39m\u001b[38;5;124m,\u001b[39m\u001b[38;5;124m\"\u001b[39m},\n\u001b[1;32m    947\u001b[0m )\n\u001b[1;32m    948\u001b[0m kwds\u001b[38;5;241m.\u001b[39mupdate(kwds_defaults)\n\u001b[0;32m--> 950\u001b[0m \u001b[38;5;28;01mreturn\u001b[39;00m \u001b[43m_read\u001b[49m\u001b[43m(\u001b[49m\u001b[43mfilepath_or_buffer\u001b[49m\u001b[43m,\u001b[49m\u001b[43m \u001b[49m\u001b[43mkwds\u001b[49m\u001b[43m)\u001b[49m\n",
      "File \u001b[0;32m~/miniconda3/envs/glc23/lib/python3.9/site-packages/pandas/io/parsers/readers.py:605\u001b[0m, in \u001b[0;36m_read\u001b[0;34m(filepath_or_buffer, kwds)\u001b[0m\n\u001b[1;32m    602\u001b[0m _validate_names(kwds\u001b[38;5;241m.\u001b[39mget(\u001b[38;5;124m\"\u001b[39m\u001b[38;5;124mnames\u001b[39m\u001b[38;5;124m\"\u001b[39m, \u001b[38;5;28;01mNone\u001b[39;00m))\n\u001b[1;32m    604\u001b[0m \u001b[38;5;66;03m# Create the parser.\u001b[39;00m\n\u001b[0;32m--> 605\u001b[0m parser \u001b[38;5;241m=\u001b[39m \u001b[43mTextFileReader\u001b[49m\u001b[43m(\u001b[49m\u001b[43mfilepath_or_buffer\u001b[49m\u001b[43m,\u001b[49m\u001b[43m \u001b[49m\u001b[38;5;241;43m*\u001b[39;49m\u001b[38;5;241;43m*\u001b[39;49m\u001b[43mkwds\u001b[49m\u001b[43m)\u001b[49m\n\u001b[1;32m    607\u001b[0m \u001b[38;5;28;01mif\u001b[39;00m chunksize \u001b[38;5;129;01mor\u001b[39;00m iterator:\n\u001b[1;32m    608\u001b[0m     \u001b[38;5;28;01mreturn\u001b[39;00m parser\n",
      "File \u001b[0;32m~/miniconda3/envs/glc23/lib/python3.9/site-packages/pandas/io/parsers/readers.py:1442\u001b[0m, in \u001b[0;36mTextFileReader.__init__\u001b[0;34m(self, f, engine, **kwds)\u001b[0m\n\u001b[1;32m   1439\u001b[0m     \u001b[38;5;28mself\u001b[39m\u001b[38;5;241m.\u001b[39moptions[\u001b[38;5;124m\"\u001b[39m\u001b[38;5;124mhas_index_names\u001b[39m\u001b[38;5;124m\"\u001b[39m] \u001b[38;5;241m=\u001b[39m kwds[\u001b[38;5;124m\"\u001b[39m\u001b[38;5;124mhas_index_names\u001b[39m\u001b[38;5;124m\"\u001b[39m]\n\u001b[1;32m   1441\u001b[0m \u001b[38;5;28mself\u001b[39m\u001b[38;5;241m.\u001b[39mhandles: IOHandles \u001b[38;5;241m|\u001b[39m \u001b[38;5;28;01mNone\u001b[39;00m \u001b[38;5;241m=\u001b[39m \u001b[38;5;28;01mNone\u001b[39;00m\n\u001b[0;32m-> 1442\u001b[0m \u001b[38;5;28mself\u001b[39m\u001b[38;5;241m.\u001b[39m_engine \u001b[38;5;241m=\u001b[39m \u001b[38;5;28;43mself\u001b[39;49m\u001b[38;5;241;43m.\u001b[39;49m\u001b[43m_make_engine\u001b[49m\u001b[43m(\u001b[49m\u001b[43mf\u001b[49m\u001b[43m,\u001b[49m\u001b[43m \u001b[49m\u001b[38;5;28;43mself\u001b[39;49m\u001b[38;5;241;43m.\u001b[39;49m\u001b[43mengine\u001b[49m\u001b[43m)\u001b[49m\n",
      "File \u001b[0;32m~/miniconda3/envs/glc23/lib/python3.9/site-packages/pandas/io/parsers/readers.py:1735\u001b[0m, in \u001b[0;36mTextFileReader._make_engine\u001b[0;34m(self, f, engine)\u001b[0m\n\u001b[1;32m   1733\u001b[0m     \u001b[38;5;28;01mif\u001b[39;00m \u001b[38;5;124m\"\u001b[39m\u001b[38;5;124mb\u001b[39m\u001b[38;5;124m\"\u001b[39m \u001b[38;5;129;01mnot\u001b[39;00m \u001b[38;5;129;01min\u001b[39;00m mode:\n\u001b[1;32m   1734\u001b[0m         mode \u001b[38;5;241m+\u001b[39m\u001b[38;5;241m=\u001b[39m \u001b[38;5;124m\"\u001b[39m\u001b[38;5;124mb\u001b[39m\u001b[38;5;124m\"\u001b[39m\n\u001b[0;32m-> 1735\u001b[0m \u001b[38;5;28mself\u001b[39m\u001b[38;5;241m.\u001b[39mhandles \u001b[38;5;241m=\u001b[39m \u001b[43mget_handle\u001b[49m\u001b[43m(\u001b[49m\n\u001b[1;32m   1736\u001b[0m \u001b[43m    \u001b[49m\u001b[43mf\u001b[49m\u001b[43m,\u001b[49m\n\u001b[1;32m   1737\u001b[0m \u001b[43m    \u001b[49m\u001b[43mmode\u001b[49m\u001b[43m,\u001b[49m\n\u001b[1;32m   1738\u001b[0m \u001b[43m    \u001b[49m\u001b[43mencoding\u001b[49m\u001b[38;5;241;43m=\u001b[39;49m\u001b[38;5;28;43mself\u001b[39;49m\u001b[38;5;241;43m.\u001b[39;49m\u001b[43moptions\u001b[49m\u001b[38;5;241;43m.\u001b[39;49m\u001b[43mget\u001b[49m\u001b[43m(\u001b[49m\u001b[38;5;124;43m\"\u001b[39;49m\u001b[38;5;124;43mencoding\u001b[39;49m\u001b[38;5;124;43m\"\u001b[39;49m\u001b[43m,\u001b[49m\u001b[43m \u001b[49m\u001b[38;5;28;43;01mNone\u001b[39;49;00m\u001b[43m)\u001b[49m\u001b[43m,\u001b[49m\n\u001b[1;32m   1739\u001b[0m \u001b[43m    \u001b[49m\u001b[43mcompression\u001b[49m\u001b[38;5;241;43m=\u001b[39;49m\u001b[38;5;28;43mself\u001b[39;49m\u001b[38;5;241;43m.\u001b[39;49m\u001b[43moptions\u001b[49m\u001b[38;5;241;43m.\u001b[39;49m\u001b[43mget\u001b[49m\u001b[43m(\u001b[49m\u001b[38;5;124;43m\"\u001b[39;49m\u001b[38;5;124;43mcompression\u001b[39;49m\u001b[38;5;124;43m\"\u001b[39;49m\u001b[43m,\u001b[49m\u001b[43m \u001b[49m\u001b[38;5;28;43;01mNone\u001b[39;49;00m\u001b[43m)\u001b[49m\u001b[43m,\u001b[49m\n\u001b[1;32m   1740\u001b[0m \u001b[43m    \u001b[49m\u001b[43mmemory_map\u001b[49m\u001b[38;5;241;43m=\u001b[39;49m\u001b[38;5;28;43mself\u001b[39;49m\u001b[38;5;241;43m.\u001b[39;49m\u001b[43moptions\u001b[49m\u001b[38;5;241;43m.\u001b[39;49m\u001b[43mget\u001b[49m\u001b[43m(\u001b[49m\u001b[38;5;124;43m\"\u001b[39;49m\u001b[38;5;124;43mmemory_map\u001b[39;49m\u001b[38;5;124;43m\"\u001b[39;49m\u001b[43m,\u001b[49m\u001b[43m \u001b[49m\u001b[38;5;28;43;01mFalse\u001b[39;49;00m\u001b[43m)\u001b[49m\u001b[43m,\u001b[49m\n\u001b[1;32m   1741\u001b[0m \u001b[43m    \u001b[49m\u001b[43mis_text\u001b[49m\u001b[38;5;241;43m=\u001b[39;49m\u001b[43mis_text\u001b[49m\u001b[43m,\u001b[49m\n\u001b[1;32m   1742\u001b[0m \u001b[43m    \u001b[49m\u001b[43merrors\u001b[49m\u001b[38;5;241;43m=\u001b[39;49m\u001b[38;5;28;43mself\u001b[39;49m\u001b[38;5;241;43m.\u001b[39;49m\u001b[43moptions\u001b[49m\u001b[38;5;241;43m.\u001b[39;49m\u001b[43mget\u001b[49m\u001b[43m(\u001b[49m\u001b[38;5;124;43m\"\u001b[39;49m\u001b[38;5;124;43mencoding_errors\u001b[39;49m\u001b[38;5;124;43m\"\u001b[39;49m\u001b[43m,\u001b[49m\u001b[43m \u001b[49m\u001b[38;5;124;43m\"\u001b[39;49m\u001b[38;5;124;43mstrict\u001b[39;49m\u001b[38;5;124;43m\"\u001b[39;49m\u001b[43m)\u001b[49m\u001b[43m,\u001b[49m\n\u001b[1;32m   1743\u001b[0m \u001b[43m    \u001b[49m\u001b[43mstorage_options\u001b[49m\u001b[38;5;241;43m=\u001b[39;49m\u001b[38;5;28;43mself\u001b[39;49m\u001b[38;5;241;43m.\u001b[39;49m\u001b[43moptions\u001b[49m\u001b[38;5;241;43m.\u001b[39;49m\u001b[43mget\u001b[49m\u001b[43m(\u001b[49m\u001b[38;5;124;43m\"\u001b[39;49m\u001b[38;5;124;43mstorage_options\u001b[39;49m\u001b[38;5;124;43m\"\u001b[39;49m\u001b[43m,\u001b[49m\u001b[43m \u001b[49m\u001b[38;5;28;43;01mNone\u001b[39;49;00m\u001b[43m)\u001b[49m\u001b[43m,\u001b[49m\n\u001b[1;32m   1744\u001b[0m \u001b[43m\u001b[49m\u001b[43m)\u001b[49m\n\u001b[1;32m   1745\u001b[0m \u001b[38;5;28;01massert\u001b[39;00m \u001b[38;5;28mself\u001b[39m\u001b[38;5;241m.\u001b[39mhandles \u001b[38;5;129;01mis\u001b[39;00m \u001b[38;5;129;01mnot\u001b[39;00m \u001b[38;5;28;01mNone\u001b[39;00m\n\u001b[1;32m   1746\u001b[0m f \u001b[38;5;241m=\u001b[39m \u001b[38;5;28mself\u001b[39m\u001b[38;5;241m.\u001b[39mhandles\u001b[38;5;241m.\u001b[39mhandle\n",
      "File \u001b[0;32m~/miniconda3/envs/glc23/lib/python3.9/site-packages/pandas/io/common.py:856\u001b[0m, in \u001b[0;36mget_handle\u001b[0;34m(path_or_buf, mode, encoding, compression, memory_map, is_text, errors, storage_options)\u001b[0m\n\u001b[1;32m    851\u001b[0m \u001b[38;5;28;01melif\u001b[39;00m \u001b[38;5;28misinstance\u001b[39m(handle, \u001b[38;5;28mstr\u001b[39m):\n\u001b[1;32m    852\u001b[0m     \u001b[38;5;66;03m# Check whether the filename is to be opened in binary mode.\u001b[39;00m\n\u001b[1;32m    853\u001b[0m     \u001b[38;5;66;03m# Binary mode does not support 'encoding' and 'newline'.\u001b[39;00m\n\u001b[1;32m    854\u001b[0m     \u001b[38;5;28;01mif\u001b[39;00m ioargs\u001b[38;5;241m.\u001b[39mencoding \u001b[38;5;129;01mand\u001b[39;00m \u001b[38;5;124m\"\u001b[39m\u001b[38;5;124mb\u001b[39m\u001b[38;5;124m\"\u001b[39m \u001b[38;5;129;01mnot\u001b[39;00m \u001b[38;5;129;01min\u001b[39;00m ioargs\u001b[38;5;241m.\u001b[39mmode:\n\u001b[1;32m    855\u001b[0m         \u001b[38;5;66;03m# Encoding\u001b[39;00m\n\u001b[0;32m--> 856\u001b[0m         handle \u001b[38;5;241m=\u001b[39m \u001b[38;5;28;43mopen\u001b[39;49m\u001b[43m(\u001b[49m\n\u001b[1;32m    857\u001b[0m \u001b[43m            \u001b[49m\u001b[43mhandle\u001b[49m\u001b[43m,\u001b[49m\n\u001b[1;32m    858\u001b[0m \u001b[43m            \u001b[49m\u001b[43mioargs\u001b[49m\u001b[38;5;241;43m.\u001b[39;49m\u001b[43mmode\u001b[49m\u001b[43m,\u001b[49m\n\u001b[1;32m    859\u001b[0m \u001b[43m            \u001b[49m\u001b[43mencoding\u001b[49m\u001b[38;5;241;43m=\u001b[39;49m\u001b[43mioargs\u001b[49m\u001b[38;5;241;43m.\u001b[39;49m\u001b[43mencoding\u001b[49m\u001b[43m,\u001b[49m\n\u001b[1;32m    860\u001b[0m \u001b[43m            \u001b[49m\u001b[43merrors\u001b[49m\u001b[38;5;241;43m=\u001b[39;49m\u001b[43merrors\u001b[49m\u001b[43m,\u001b[49m\n\u001b[1;32m    861\u001b[0m \u001b[43m            \u001b[49m\u001b[43mnewline\u001b[49m\u001b[38;5;241;43m=\u001b[39;49m\u001b[38;5;124;43m\"\u001b[39;49m\u001b[38;5;124;43m\"\u001b[39;49m\u001b[43m,\u001b[49m\n\u001b[1;32m    862\u001b[0m \u001b[43m        \u001b[49m\u001b[43m)\u001b[49m\n\u001b[1;32m    863\u001b[0m     \u001b[38;5;28;01melse\u001b[39;00m:\n\u001b[1;32m    864\u001b[0m         \u001b[38;5;66;03m# Binary mode\u001b[39;00m\n\u001b[1;32m    865\u001b[0m         handle \u001b[38;5;241m=\u001b[39m \u001b[38;5;28mopen\u001b[39m(handle, ioargs\u001b[38;5;241m.\u001b[39mmode)\n",
      "\u001b[0;31mFileNotFoundError\u001b[0m: [Errno 2] No such file or directory: 'data/glc24_data/SatellitePatches/po_train_patches_rgb_means.csv'"
     ]
    }
   ],
   "source": [
    "JpegPatchProvider(cov, select=['po_train_patches_rgb','po_train_patches_nir'], size=128)"
   ]
  },
  {
   "cell_type": "code",
   "execution_count": 61,
   "metadata": {},
   "outputs": [
    {
     "data": {
      "text/plain": [
       "['pa_test_patches_nir',\n",
       " 'pa_test_patches_rgb',\n",
       " 'pa_train_patches_nir',\n",
       " 'pa_train_patches_rgb',\n",
       " 'po_train_patches_nir',\n",
       " '__MACOSX',\n",
       " 'po_train_patches_rgb']"
      ]
     },
     "execution_count": 61,
     "metadata": {},
     "output_type": "execute_result"
    }
   ],
   "source": [
    "root_path = cov\n",
    "ext = '.jpeg'\n",
    "sub_dirs = next(os.walk(root_path))[1] \n",
    "sub_dirs"
   ]
  },
  {
   "cell_type": "code",
   "execution_count": null,
   "metadata": {},
   "outputs": [],
   "source": [
    "\n",
    "        sub_dirs = next(os.walk(root_path))[1] \n",
    "        select = [x for x in select if x in sub_dirs]\n",
    "        if 'rgb' in select:\n",
    "            self.channels = ['red','green','blue'] + [x for x in select if x != 'rgb']\n",
    "        else:\n",
    "            self.channels = select\n",
    "        self.channel_folder = {'red': 'rgb', 'green': 'rgb', 'blue': 'rgb','nir':'nir'}\n",
    "        # 'swir1':'swir1','swir2':'swir2'\n",
    "\n",
    "        if self.normalize:\n",
    "            self.stats = {k: {\n",
    "                'mean': pd.read_csv(root_path+k+'_means.csv')['mean'].values,\n",
    "                'std':pd.read_csv(root_path+k+'_std.csv')['std_dev'].values\n",
    "            } for k in select}\n",
    "\n",
    "        self.nb_layers = len(self.channels)\n",
    "        self.bands_names = list(self.channels)\n",
    "        self.size = size"
   ]
  },
  {
   "cell_type": "code",
   "execution_count": 32,
   "metadata": {},
   "outputs": [],
   "source": [
    "index = 0\n",
    "item = train_data.items.iloc[index][train_data.item_columns].to_dict()\n",
    "item_species = train_data.items.iloc[index][train_data.label_name]\n",
    "labels = 1 * np.isin(train_data.species, item_species)"
   ]
  },
  {
   "cell_type": "code",
   "execution_count": 34,
   "metadata": {},
   "outputs": [
    {
     "data": {
      "text/plain": [
       "2"
      ]
     },
     "execution_count": 34,
     "metadata": {},
     "output_type": "execute_result"
    }
   ],
   "source": [
    "len(train_data.providers)"
   ]
  },
  {
   "cell_type": "code",
   "execution_count": 50,
   "metadata": {},
   "outputs": [],
   "source": [
    "p = train_data.providers[1]"
   ]
  },
  {
   "cell_type": "code",
   "execution_count": 55,
   "metadata": {},
   "outputs": [
    {
     "data": {
      "text/plain": [
       "0"
      ]
     },
     "execution_count": 55,
     "metadata": {},
     "output_type": "execute_result"
    }
   ],
   "source": [
    "p.providers[0].nb_layers"
   ]
  },
  {
   "cell_type": "code",
   "execution_count": 49,
   "metadata": {},
   "outputs": [
    {
     "data": {
      "text/plain": [
       "(41, 10, 10)"
      ]
     },
     "execution_count": 49,
     "metadata": {},
     "output_type": "execute_result"
    }
   ],
   "source": [
    "patch = np.concatenate([provider[item] for provider in p.providers])\n",
    "patch.shape"
   ]
  },
  {
   "cell_type": "code",
   "execution_count": 48,
   "metadata": {},
   "outputs": [
    {
     "data": {
      "text/plain": [
       "array([[[-1.32917511, -1.32917511, -1.32917511, ..., -1.32917511,\n",
       "         -1.32917511, -1.32917511],\n",
       "        [-1.32917511, -1.32917511, -1.32917511, ..., -1.32917511,\n",
       "         -1.32917511, -1.32917511],\n",
       "        [-1.32917511, -1.32917511, -1.32917511, ..., -1.32917511,\n",
       "         -1.32917511, -1.32917511],\n",
       "        ...,\n",
       "        [-1.32917511, -1.32917511, -1.32917511, ..., -1.32917511,\n",
       "         -1.32917511, -1.32917511],\n",
       "        [-1.32917511, -1.32917511, -1.32917511, ..., -1.32917511,\n",
       "         -1.32917511, -1.32917511],\n",
       "        [-1.32917511, -1.32917511, -1.32917511, ..., -1.32917511,\n",
       "         -1.32917511, -1.32917511]],\n",
       "\n",
       "       [[-0.6326931 , -0.6326931 , -0.6326931 , ..., -0.6326931 ,\n",
       "         -0.6326931 , -0.6326931 ],\n",
       "        [-0.6326931 , -0.6326931 , -0.6326931 , ..., -0.6326931 ,\n",
       "         -0.6326931 , -0.6326931 ],\n",
       "        [-0.6326931 , -0.6326931 , -0.6326931 , ..., -0.6326931 ,\n",
       "         -0.6326931 , -0.6326931 ],\n",
       "        ...,\n",
       "        [-0.6326931 , -0.6326931 , -0.6326931 , ..., -0.6326931 ,\n",
       "         -0.6326931 , -0.6326931 ],\n",
       "        [-0.6326931 , -0.6326931 , -0.6326931 , ..., -0.6326931 ,\n",
       "         -0.6326931 , -0.6326931 ],\n",
       "        [-0.6326931 , -0.6326931 , -0.6326931 , ..., -0.6326931 ,\n",
       "         -0.6326931 , -0.6326931 ]],\n",
       "\n",
       "       [[-0.55466527, -0.55466527, -0.55466527, ..., -0.55466527,\n",
       "         -0.55466527, -0.55466527],\n",
       "        [-0.55466527, -0.55466527, -0.55466527, ..., -0.55466527,\n",
       "         -0.55466527, -0.55466527],\n",
       "        [-0.55466527, -0.55466527, -0.55466527, ..., -0.55466527,\n",
       "         -0.55466527, -0.55466527],\n",
       "        ...,\n",
       "        [-0.55466527, -0.55466527, -0.55466527, ..., -0.55466527,\n",
       "         -0.55466527, -0.55466527],\n",
       "        [-0.55466527, -0.55466527, -0.55466527, ..., -0.55466527,\n",
       "         -0.55466527, -0.55466527],\n",
       "        [-0.55466527, -0.55466527, -0.55466527, ..., -0.55466527,\n",
       "         -0.55466527, -0.55466527]],\n",
       "\n",
       "       ...,\n",
       "\n",
       "       [[-0.75938585, -0.75938585, -0.75938585, ..., -0.75938585,\n",
       "         -0.75938585, -0.75938585],\n",
       "        [-0.75938585, -0.75938585, -0.75938585, ..., -0.75938585,\n",
       "         -0.75938585, -0.75938585],\n",
       "        [-0.75938585, -0.75938585, -0.75938585, ..., -0.75938585,\n",
       "         -0.75938585, -0.75938585],\n",
       "        ...,\n",
       "        [-0.75938585, -0.75938585, -0.75938585, ..., -0.75938585,\n",
       "         -0.75938585, -0.75938585],\n",
       "        [-0.75938585, -0.75938585, -0.75938585, ..., -0.75938585,\n",
       "         -0.75938585, -0.75938585],\n",
       "        [-0.75938585, -0.75938585, -0.75938585, ..., -0.75938585,\n",
       "         -0.75938585, -0.75938585]],\n",
       "\n",
       "       [[-0.76649044, -0.76649044, -0.76649044, ..., -0.76649044,\n",
       "         -0.76649044, -0.76649044],\n",
       "        [-0.76649044, -0.76649044, -0.76649044, ..., -0.76649044,\n",
       "         -0.76649044, -0.76649044],\n",
       "        [-0.76649044, -0.76649044, -0.76649044, ..., -0.76649044,\n",
       "         -0.76649044, -0.76649044],\n",
       "        ...,\n",
       "        [-0.76649044, -0.76649044, -0.76649044, ..., -0.76649044,\n",
       "         -0.76649044, -0.76649044],\n",
       "        [-0.76649044, -0.76649044, -0.76649044, ..., -0.76649044,\n",
       "         -0.76649044, -0.76649044],\n",
       "        [-0.76649044, -0.76649044, -0.76649044, ..., -0.76649044,\n",
       "         -0.76649044, -0.76649044]],\n",
       "\n",
       "       [[-1.3379367 , -1.3379367 , -1.3379367 , ..., -1.3379367 ,\n",
       "         -1.3379367 , -1.3379367 ],\n",
       "        [-1.3379367 , -1.3379367 , -1.3379367 , ..., -1.3379367 ,\n",
       "         -1.3379367 , -1.3379367 ],\n",
       "        [-1.3379367 , -1.3379367 , -1.3379367 , ..., -1.3379367 ,\n",
       "         -1.3379367 , -1.3379367 ],\n",
       "        ...,\n",
       "        [-1.3379367 , -1.3379367 , -1.3379367 , ..., -1.3379367 ,\n",
       "         -1.3379367 , -1.3379367 ],\n",
       "        [-1.3379367 , -1.3379367 , -1.3379367 , ..., -1.3379367 ,\n",
       "         -1.3379367 , -1.3379367 ],\n",
       "        [-1.3379367 , -1.3379367 , -1.3379367 , ..., -1.3379367 ,\n",
       "         -1.3379367 , -1.3379367 ]]])"
      ]
     },
     "execution_count": 48,
     "metadata": {},
     "output_type": "execute_result"
    }
   ],
   "source": [
    "provider = p.providers[2]\n",
    "provider[item]"
   ]
  },
  {
   "cell_type": "code",
   "execution_count": null,
   "metadata": {},
   "outputs": [],
   "source": [
    "patches = [p[item] for p in train_data.providers]"
   ]
  },
  {
   "cell_type": "code",
   "execution_count": 22,
   "metadata": {},
   "outputs": [
    {
     "name": "stdout",
     "output_type": "stream",
     "text": [
      "0 env\n"
     ]
    },
    {
     "ename": "ValueError",
     "evalue": "need at least one array to concatenate",
     "output_type": "error",
     "traceback": [
      "\u001b[0;31m---------------------------------------------------------------------------\u001b[0m",
      "\u001b[0;31mTypeError\u001b[0m                                 Traceback (most recent call last)",
      "File \u001b[0;32m~/Documents/GeoLifeCLEF/data/PatchesProviders.py:48\u001b[0m, in \u001b[0;36mMetaPatchProvider.__getitem__\u001b[0;34m(self, item)\u001b[0m\n\u001b[1;32m     47\u001b[0m \u001b[38;5;28;01mtry\u001b[39;00m:\n\u001b[0;32m---> 48\u001b[0m     patch \u001b[38;5;241m=\u001b[39m \u001b[38;5;28;43mself\u001b[39;49m\u001b[38;5;241;43m.\u001b[39;49m\u001b[43mproviders\u001b[49m\u001b[43m[\u001b[49m\u001b[43mitem\u001b[49m\u001b[43m]\u001b[49m\n\u001b[1;32m     49\u001b[0m \u001b[38;5;28;01mexcept\u001b[39;00m:\n",
      "\u001b[0;31mTypeError\u001b[0m: list indices must be integers or slices, not dict",
      "\nDuring handling of the above exception, another exception occurred:\n",
      "\u001b[0;31mValueError\u001b[0m                                Traceback (most recent call last)",
      "Cell \u001b[0;32mIn[22], line 3\u001b[0m\n\u001b[1;32m      1\u001b[0m \u001b[38;5;28;01mfor\u001b[39;00m i, key \u001b[38;5;129;01min\u001b[39;00m \u001b[38;5;28menumerate\u001b[39m(model_setup\u001b[38;5;241m.\u001b[39mkeys()):\n\u001b[1;32m      2\u001b[0m     \u001b[38;5;28mprint\u001b[39m(i, key)\n\u001b[0;32m----> 3\u001b[0m     model_setup[key][\u001b[38;5;124m'\u001b[39m\u001b[38;5;124minput_shape\u001b[39m\u001b[38;5;124m'\u001b[39m] \u001b[38;5;241m=\u001b[39m \u001b[43mtrain_data\u001b[49m\u001b[43m[\u001b[49m\u001b[38;5;241;43m0\u001b[39;49m\u001b[43m]\u001b[49m[\u001b[38;5;241m0\u001b[39m][i]\u001b[38;5;241m.\u001b[39mshape\n",
      "File \u001b[0;32m~/Documents/GeoLifeCLEF/data/Datasets.py:101\u001b[0m, in \u001b[0;36mPatchesDatasetCooccurrences.__getitem__\u001b[0;34m(self, index)\u001b[0m\n\u001b[1;32m     99\u001b[0m item_species \u001b[38;5;241m=\u001b[39m \u001b[38;5;28mself\u001b[39m\u001b[38;5;241m.\u001b[39mitems\u001b[38;5;241m.\u001b[39miloc[index][\u001b[38;5;28mself\u001b[39m\u001b[38;5;241m.\u001b[39mlabel_name]\n\u001b[1;32m    100\u001b[0m labels \u001b[38;5;241m=\u001b[39m \u001b[38;5;241m1\u001b[39m \u001b[38;5;241m*\u001b[39m np\u001b[38;5;241m.\u001b[39misin(\u001b[38;5;28mself\u001b[39m\u001b[38;5;241m.\u001b[39mspecies, item_species)\n\u001b[0;32m--> 101\u001b[0m patches \u001b[38;5;241m=\u001b[39m [p[item] \u001b[38;5;28;01mfor\u001b[39;00m p \u001b[38;5;129;01min\u001b[39;00m \u001b[38;5;28mself\u001b[39m\u001b[38;5;241m.\u001b[39mproviders]\n\u001b[1;32m    102\u001b[0m \u001b[38;5;66;03m#self.provider[item]\u001b[39;00m\n\u001b[1;32m    104\u001b[0m \u001b[38;5;28;01mif\u001b[39;00m \u001b[38;5;28mself\u001b[39m\u001b[38;5;241m.\u001b[39mpseudoabsences \u001b[38;5;129;01mis\u001b[39;00m \u001b[38;5;28;01mNone\u001b[39;00m:\n",
      "File \u001b[0;32m~/Documents/GeoLifeCLEF/data/Datasets.py:101\u001b[0m, in \u001b[0;36m<listcomp>\u001b[0;34m(.0)\u001b[0m\n\u001b[1;32m     99\u001b[0m item_species \u001b[38;5;241m=\u001b[39m \u001b[38;5;28mself\u001b[39m\u001b[38;5;241m.\u001b[39mitems\u001b[38;5;241m.\u001b[39miloc[index][\u001b[38;5;28mself\u001b[39m\u001b[38;5;241m.\u001b[39mlabel_name]\n\u001b[1;32m    100\u001b[0m labels \u001b[38;5;241m=\u001b[39m \u001b[38;5;241m1\u001b[39m \u001b[38;5;241m*\u001b[39m np\u001b[38;5;241m.\u001b[39misin(\u001b[38;5;28mself\u001b[39m\u001b[38;5;241m.\u001b[39mspecies, item_species)\n\u001b[0;32m--> 101\u001b[0m patches \u001b[38;5;241m=\u001b[39m [\u001b[43mp\u001b[49m\u001b[43m[\u001b[49m\u001b[43mitem\u001b[49m\u001b[43m]\u001b[49m \u001b[38;5;28;01mfor\u001b[39;00m p \u001b[38;5;129;01min\u001b[39;00m \u001b[38;5;28mself\u001b[39m\u001b[38;5;241m.\u001b[39mproviders]\n\u001b[1;32m    102\u001b[0m \u001b[38;5;66;03m#self.provider[item]\u001b[39;00m\n\u001b[1;32m    104\u001b[0m \u001b[38;5;28;01mif\u001b[39;00m \u001b[38;5;28mself\u001b[39m\u001b[38;5;241m.\u001b[39mpseudoabsences \u001b[38;5;129;01mis\u001b[39;00m \u001b[38;5;28;01mNone\u001b[39;00m:\n",
      "File \u001b[0;32m~/Documents/GeoLifeCLEF/data/PatchesProviders.py:50\u001b[0m, in \u001b[0;36mMetaPatchProvider.__getitem__\u001b[0;34m(self, item)\u001b[0m\n\u001b[1;32m     48\u001b[0m     patch \u001b[38;5;241m=\u001b[39m \u001b[38;5;28mself\u001b[39m\u001b[38;5;241m.\u001b[39mproviders[item]\n\u001b[1;32m     49\u001b[0m \u001b[38;5;28;01mexcept\u001b[39;00m:\n\u001b[0;32m---> 50\u001b[0m     patch \u001b[38;5;241m=\u001b[39m np\u001b[38;5;241m.\u001b[39mconcatenate([provider[item] \u001b[38;5;28;01mfor\u001b[39;00m provider \u001b[38;5;129;01min\u001b[39;00m \u001b[38;5;28mself\u001b[39m\u001b[38;5;241m.\u001b[39mproviders])\n\u001b[1;32m     51\u001b[0m \u001b[38;5;28;01mreturn\u001b[39;00m patch\n",
      "File \u001b[0;32m~/Documents/GeoLifeCLEF/data/PatchesProviders.py:50\u001b[0m, in \u001b[0;36m<listcomp>\u001b[0;34m(.0)\u001b[0m\n\u001b[1;32m     48\u001b[0m     patch \u001b[38;5;241m=\u001b[39m \u001b[38;5;28mself\u001b[39m\u001b[38;5;241m.\u001b[39mproviders[item]\n\u001b[1;32m     49\u001b[0m \u001b[38;5;28;01mexcept\u001b[39;00m:\n\u001b[0;32m---> 50\u001b[0m     patch \u001b[38;5;241m=\u001b[39m np\u001b[38;5;241m.\u001b[39mconcatenate([\u001b[43mprovider\u001b[49m\u001b[43m[\u001b[49m\u001b[43mitem\u001b[49m\u001b[43m]\u001b[49m \u001b[38;5;28;01mfor\u001b[39;00m provider \u001b[38;5;129;01min\u001b[39;00m \u001b[38;5;28mself\u001b[39m\u001b[38;5;241m.\u001b[39mproviders])\n\u001b[1;32m     51\u001b[0m \u001b[38;5;28;01mreturn\u001b[39;00m patch\n",
      "File \u001b[0;32m~/Documents/GeoLifeCLEF/data/PatchesProviders.py:173\u001b[0m, in \u001b[0;36mMultipleRasterPatchProvider.__getitem__\u001b[0;34m(self, item)\u001b[0m\n\u001b[1;32m    172\u001b[0m \u001b[38;5;28;01mdef\u001b[39;00m \u001b[38;5;21m__getitem__\u001b[39m(\u001b[38;5;28mself\u001b[39m, item):\n\u001b[0;32m--> 173\u001b[0m     \u001b[38;5;28;01mreturn\u001b[39;00m \u001b[43mnp\u001b[49m\u001b[38;5;241;43m.\u001b[39;49m\u001b[43mconcatenate\u001b[49m\u001b[43m(\u001b[49m\u001b[43m[\u001b[49m\u001b[43mraster\u001b[49m\u001b[43m[\u001b[49m\u001b[43mitem\u001b[49m\u001b[43m]\u001b[49m\u001b[43m \u001b[49m\u001b[38;5;28;43;01mfor\u001b[39;49;00m\u001b[43m \u001b[49m\u001b[43mraster\u001b[49m\u001b[43m \u001b[49m\u001b[38;5;129;43;01min\u001b[39;49;00m\u001b[43m \u001b[49m\u001b[38;5;28;43mself\u001b[39;49m\u001b[38;5;241;43m.\u001b[39;49m\u001b[43mrasters_providers\u001b[49m\u001b[43m]\u001b[49m\u001b[43m)\u001b[49m\n",
      "File \u001b[0;32m<__array_function__ internals>:180\u001b[0m, in \u001b[0;36mconcatenate\u001b[0;34m(*args, **kwargs)\u001b[0m\n",
      "\u001b[0;31mValueError\u001b[0m: need at least one array to concatenate"
     ]
    }
   ],
   "source": [
    "for i, key in enumerate(model_setup.keys()):\n",
    "    print(i, key)\n",
    "    model_setup[key]['input_shape'] = train_data[0][0][i].shape"
   ]
  },
  {
   "cell_type": "code",
   "execution_count": 20,
   "metadata": {},
   "outputs": [
    {
     "ename": "ValueError",
     "evalue": "need at least one array to concatenate",
     "output_type": "error",
     "traceback": [
      "\u001b[0;31m---------------------------------------------------------------------------\u001b[0m",
      "\u001b[0;31mTypeError\u001b[0m                                 Traceback (most recent call last)",
      "File \u001b[0;32m~/Documents/GeoLifeCLEF/data/PatchesProviders.py:48\u001b[0m, in \u001b[0;36mMetaPatchProvider.__getitem__\u001b[0;34m(self, item)\u001b[0m\n\u001b[1;32m     47\u001b[0m \u001b[38;5;28;01mtry\u001b[39;00m:\n\u001b[0;32m---> 48\u001b[0m     patch \u001b[38;5;241m=\u001b[39m \u001b[38;5;28;43mself\u001b[39;49m\u001b[38;5;241;43m.\u001b[39;49m\u001b[43mproviders\u001b[49m\u001b[43m[\u001b[49m\u001b[43mitem\u001b[49m\u001b[43m]\u001b[49m\n\u001b[1;32m     49\u001b[0m \u001b[38;5;28;01mexcept\u001b[39;00m:\n",
      "\u001b[0;31mTypeError\u001b[0m: list indices must be integers or slices, not dict",
      "\nDuring handling of the above exception, another exception occurred:\n",
      "\u001b[0;31mValueError\u001b[0m                                Traceback (most recent call last)",
      "Cell \u001b[0;32mIn[20], line 2\u001b[0m\n\u001b[1;32m      1\u001b[0m \u001b[38;5;28;01mfor\u001b[39;00m i, key \u001b[38;5;129;01min\u001b[39;00m \u001b[38;5;28menumerate\u001b[39m(model_setup\u001b[38;5;241m.\u001b[39mkeys()):\n\u001b[0;32m----> 2\u001b[0m     model_setup[key][\u001b[38;5;124m'\u001b[39m\u001b[38;5;124minput_shape\u001b[39m\u001b[38;5;124m'\u001b[39m] \u001b[38;5;241m=\u001b[39m \u001b[43mtrain_data\u001b[49m\u001b[43m[\u001b[49m\u001b[38;5;241;43m0\u001b[39;49m\u001b[43m]\u001b[49m[\u001b[38;5;241m0\u001b[39m][i]\u001b[38;5;241m.\u001b[39mshape\n\u001b[1;32m      3\u001b[0m     \u001b[38;5;28;01mif\u001b[39;00m multimodal:\n\u001b[1;32m      4\u001b[0m         \u001b[38;5;28;01massert\u001b[39;00m embed_shape \u001b[38;5;129;01mis\u001b[39;00m \u001b[38;5;129;01mnot\u001b[39;00m \u001b[38;5;28;01mNone\u001b[39;00m\n",
      "File \u001b[0;32m~/Documents/GeoLifeCLEF/data/Datasets.py:101\u001b[0m, in \u001b[0;36mPatchesDatasetCooccurrences.__getitem__\u001b[0;34m(self, index)\u001b[0m\n\u001b[1;32m     99\u001b[0m item_species \u001b[38;5;241m=\u001b[39m \u001b[38;5;28mself\u001b[39m\u001b[38;5;241m.\u001b[39mitems\u001b[38;5;241m.\u001b[39miloc[index][\u001b[38;5;28mself\u001b[39m\u001b[38;5;241m.\u001b[39mlabel_name]\n\u001b[1;32m    100\u001b[0m labels \u001b[38;5;241m=\u001b[39m \u001b[38;5;241m1\u001b[39m \u001b[38;5;241m*\u001b[39m np\u001b[38;5;241m.\u001b[39misin(\u001b[38;5;28mself\u001b[39m\u001b[38;5;241m.\u001b[39mspecies, item_species)\n\u001b[0;32m--> 101\u001b[0m patches \u001b[38;5;241m=\u001b[39m [p[item] \u001b[38;5;28;01mfor\u001b[39;00m p \u001b[38;5;129;01min\u001b[39;00m \u001b[38;5;28mself\u001b[39m\u001b[38;5;241m.\u001b[39mproviders]\n\u001b[1;32m    102\u001b[0m \u001b[38;5;66;03m#self.provider[item]\u001b[39;00m\n\u001b[1;32m    104\u001b[0m \u001b[38;5;28;01mif\u001b[39;00m \u001b[38;5;28mself\u001b[39m\u001b[38;5;241m.\u001b[39mpseudoabsences \u001b[38;5;129;01mis\u001b[39;00m \u001b[38;5;28;01mNone\u001b[39;00m:\n",
      "File \u001b[0;32m~/Documents/GeoLifeCLEF/data/Datasets.py:101\u001b[0m, in \u001b[0;36m<listcomp>\u001b[0;34m(.0)\u001b[0m\n\u001b[1;32m     99\u001b[0m item_species \u001b[38;5;241m=\u001b[39m \u001b[38;5;28mself\u001b[39m\u001b[38;5;241m.\u001b[39mitems\u001b[38;5;241m.\u001b[39miloc[index][\u001b[38;5;28mself\u001b[39m\u001b[38;5;241m.\u001b[39mlabel_name]\n\u001b[1;32m    100\u001b[0m labels \u001b[38;5;241m=\u001b[39m \u001b[38;5;241m1\u001b[39m \u001b[38;5;241m*\u001b[39m np\u001b[38;5;241m.\u001b[39misin(\u001b[38;5;28mself\u001b[39m\u001b[38;5;241m.\u001b[39mspecies, item_species)\n\u001b[0;32m--> 101\u001b[0m patches \u001b[38;5;241m=\u001b[39m [\u001b[43mp\u001b[49m\u001b[43m[\u001b[49m\u001b[43mitem\u001b[49m\u001b[43m]\u001b[49m \u001b[38;5;28;01mfor\u001b[39;00m p \u001b[38;5;129;01min\u001b[39;00m \u001b[38;5;28mself\u001b[39m\u001b[38;5;241m.\u001b[39mproviders]\n\u001b[1;32m    102\u001b[0m \u001b[38;5;66;03m#self.provider[item]\u001b[39;00m\n\u001b[1;32m    104\u001b[0m \u001b[38;5;28;01mif\u001b[39;00m \u001b[38;5;28mself\u001b[39m\u001b[38;5;241m.\u001b[39mpseudoabsences \u001b[38;5;129;01mis\u001b[39;00m \u001b[38;5;28;01mNone\u001b[39;00m:\n",
      "File \u001b[0;32m~/Documents/GeoLifeCLEF/data/PatchesProviders.py:50\u001b[0m, in \u001b[0;36mMetaPatchProvider.__getitem__\u001b[0;34m(self, item)\u001b[0m\n\u001b[1;32m     48\u001b[0m     patch \u001b[38;5;241m=\u001b[39m \u001b[38;5;28mself\u001b[39m\u001b[38;5;241m.\u001b[39mproviders[item]\n\u001b[1;32m     49\u001b[0m \u001b[38;5;28;01mexcept\u001b[39;00m:\n\u001b[0;32m---> 50\u001b[0m     patch \u001b[38;5;241m=\u001b[39m np\u001b[38;5;241m.\u001b[39mconcatenate([provider[item] \u001b[38;5;28;01mfor\u001b[39;00m provider \u001b[38;5;129;01min\u001b[39;00m \u001b[38;5;28mself\u001b[39m\u001b[38;5;241m.\u001b[39mproviders])\n\u001b[1;32m     51\u001b[0m \u001b[38;5;28;01mreturn\u001b[39;00m patch\n",
      "File \u001b[0;32m~/Documents/GeoLifeCLEF/data/PatchesProviders.py:50\u001b[0m, in \u001b[0;36m<listcomp>\u001b[0;34m(.0)\u001b[0m\n\u001b[1;32m     48\u001b[0m     patch \u001b[38;5;241m=\u001b[39m \u001b[38;5;28mself\u001b[39m\u001b[38;5;241m.\u001b[39mproviders[item]\n\u001b[1;32m     49\u001b[0m \u001b[38;5;28;01mexcept\u001b[39;00m:\n\u001b[0;32m---> 50\u001b[0m     patch \u001b[38;5;241m=\u001b[39m np\u001b[38;5;241m.\u001b[39mconcatenate([\u001b[43mprovider\u001b[49m\u001b[43m[\u001b[49m\u001b[43mitem\u001b[49m\u001b[43m]\u001b[49m \u001b[38;5;28;01mfor\u001b[39;00m provider \u001b[38;5;129;01min\u001b[39;00m \u001b[38;5;28mself\u001b[39m\u001b[38;5;241m.\u001b[39mproviders])\n\u001b[1;32m     51\u001b[0m \u001b[38;5;28;01mreturn\u001b[39;00m patch\n",
      "File \u001b[0;32m~/Documents/GeoLifeCLEF/data/PatchesProviders.py:173\u001b[0m, in \u001b[0;36mMultipleRasterPatchProvider.__getitem__\u001b[0;34m(self, item)\u001b[0m\n\u001b[1;32m    172\u001b[0m \u001b[38;5;28;01mdef\u001b[39;00m \u001b[38;5;21m__getitem__\u001b[39m(\u001b[38;5;28mself\u001b[39m, item):\n\u001b[0;32m--> 173\u001b[0m     \u001b[38;5;28;01mreturn\u001b[39;00m \u001b[43mnp\u001b[49m\u001b[38;5;241;43m.\u001b[39;49m\u001b[43mconcatenate\u001b[49m\u001b[43m(\u001b[49m\u001b[43m[\u001b[49m\u001b[43mraster\u001b[49m\u001b[43m[\u001b[49m\u001b[43mitem\u001b[49m\u001b[43m]\u001b[49m\u001b[43m \u001b[49m\u001b[38;5;28;43;01mfor\u001b[39;49;00m\u001b[43m \u001b[49m\u001b[43mraster\u001b[49m\u001b[43m \u001b[49m\u001b[38;5;129;43;01min\u001b[39;49;00m\u001b[43m \u001b[49m\u001b[38;5;28;43mself\u001b[39;49m\u001b[38;5;241;43m.\u001b[39;49m\u001b[43mrasters_providers\u001b[49m\u001b[43m]\u001b[49m\u001b[43m)\u001b[49m\n",
      "File \u001b[0;32m<__array_function__ internals>:180\u001b[0m, in \u001b[0;36mconcatenate\u001b[0;34m(*args, **kwargs)\u001b[0m\n",
      "\u001b[0;31mValueError\u001b[0m: need at least one array to concatenate"
     ]
    }
   ],
   "source": [
    "for i, key in enumerate(model_setup.keys()):\n",
    "    model_setup[key]['input_shape'] = train_data[0][0][i].shape\n",
    "    if multimodal:\n",
    "        assert embed_shape is not None\n",
    "        model_setup[key]['output_shape'] = embed_shape\n",
    "    else:\n",
    "        model_setup[key]['output_shape'] = train_data.n_species\n",
    "print(f\"input shape: {[params['input_shape'] for params in model_setup.values()]}\")\n"
   ]
  },
  {
   "cell_type": "code",
   "execution_count": 39,
   "metadata": {},
   "outputs": [],
   "source": [
    "sep = ',' if 'glc24' in occurrences else ';'\n",
    "df = pd.read_csv(occurrences, sep=sep, header='infer', low_memory=False)"
   ]
  },
  {
   "cell_type": "code",
   "execution_count": 40,
   "metadata": {},
   "outputs": [
    {
     "data": {
      "text/plain": [
       "9709"
      ]
     },
     "execution_count": 40,
     "metadata": {},
     "output_type": "execute_result"
    }
   ],
   "source": [
    "species = np.unique(df[label_name].values)\n",
    "len(species)"
   ]
  },
  {
   "cell_type": "code",
   "execution_count": 41,
   "metadata": {},
   "outputs": [
    {
     "data": {
      "text/plain": [
       "Index(['publisher', 'year', 'month', 'day', 'lat', 'lon', 'geoUncertaintyInM',\n",
       "       'taxonRank', 'date', 'dayOfYear', 'speciesId', 'surveyId'],\n",
       "      dtype='object')"
      ]
     },
     "execution_count": 41,
     "metadata": {},
     "output_type": "execute_result"
    }
   ],
   "source": [
    "df.columns"
   ]
  },
  {
   "cell_type": "code",
   "execution_count": 43,
   "metadata": {},
   "outputs": [
    {
     "data": {
      "text/plain": [
       "(5079797, 12)"
      ]
     },
     "execution_count": 43,
     "metadata": {},
     "output_type": "execute_result"
    }
   ],
   "source": [
    "df.shape"
   ]
  },
  {
   "cell_type": "code",
   "execution_count": 34,
   "metadata": {},
   "outputs": [
    {
     "data": {
      "text/plain": [
       "(4007514, 5)"
      ]
     },
     "execution_count": 34,
     "metadata": {},
     "output_type": "execute_result"
    }
   ],
   "source": [
    "items = pd.DataFrame(df.groupby(item_columns)[label_name].agg(list)).reset_index()\n",
    "items.shape"
   ]
  },
  {
   "cell_type": "code",
   "execution_count": 45,
   "metadata": {},
   "outputs": [
    {
     "data": {
      "text/plain": [
       "{2017, 2018, 2019, 2020, 2021}"
      ]
     },
     "execution_count": 45,
     "metadata": {},
     "output_type": "execute_result"
    }
   ],
   "source": [
    "set(df.year)"
   ]
  },
  {
   "cell_type": "code",
   "execution_count": 44,
   "metadata": {},
   "outputs": [
    {
     "data": {
      "text/plain": [
       "(3893663, 4)"
      ]
     },
     "execution_count": 44,
     "metadata": {},
     "output_type": "execute_result"
    }
   ],
   "source": [
    "pd.DataFrame(df.groupby(['lat', 'lon', 'dayOfYear'])[label_name].agg(list)).reset_index().shape"
   ]
  },
  {
   "cell_type": "code",
   "execution_count": 42,
   "metadata": {},
   "outputs": [
    {
     "data": {
      "text/plain": [
       "(3894962, 5)"
      ]
     },
     "execution_count": 42,
     "metadata": {},
     "output_type": "execute_result"
    }
   ],
   "source": [
    "pd.DataFrame(df.groupby(['lat', 'lon', 'year', 'dayOfYear'])[label_name].agg(list)).reset_index().shape"
   ]
  },
  {
   "cell_type": "code",
   "execution_count": null,
   "metadata": {},
   "outputs": [],
   "source": [
    "for i, key in enumerate(model_setup.keys()):\n",
    "        model_setup[key]['input_shape'] = train_data[0][0][i].shape\n",
    "        if multimodal:\n",
    "            assert embed_shape is not None\n",
    "            model_setup[key]['output_shape'] = embed_shape\n",
    "        else:\n",
    "            model_setup[key]['output_shape'] = train_data.n_species"
   ]
  },
  {
   "cell_type": "code",
   "execution_count": 7,
   "metadata": {},
   "outputs": [
    {
     "name": "stdout",
     "output_type": "stream",
     "text": [
      "\n",
      "Making patch providers with size=10x10, flatten=False for covariates:\n",
      "\t - data/glc24_data/EnvironmentalRasters/Climate/BioClimatic_Average_1981-2010/\n",
      "\t - data/glc24_data/EnvironmentalRasters/Soilgrids/\n",
      "\t - data/glc24_data/EnvironmentalRasters/LandCover/LandCover_MODIS_Terra-Aqua_500m.tif\n",
      "\n",
      "Making patch providers with size=128x128, flatten=False for covariates:\n",
      "\t - data/glc24_data/SatellitePatches/\n",
      "\n",
      "Making dataset for training occurrences\n"
     ]
    },
    {
     "ename": "KeyError",
     "evalue": "'speciesId'",
     "output_type": "error",
     "traceback": [
      "\u001b[0;31m---------------------------------------------------------------------------\u001b[0m",
      "\u001b[0;31mKeyError\u001b[0m                                  Traceback (most recent call last)",
      "File \u001b[0;32m~/miniconda3/envs/glc23/lib/python3.9/site-packages/pandas/core/indexes/base.py:3803\u001b[0m, in \u001b[0;36mIndex.get_loc\u001b[0;34m(self, key, method, tolerance)\u001b[0m\n\u001b[1;32m   3802\u001b[0m \u001b[38;5;28;01mtry\u001b[39;00m:\n\u001b[0;32m-> 3803\u001b[0m     \u001b[38;5;28;01mreturn\u001b[39;00m \u001b[38;5;28;43mself\u001b[39;49m\u001b[38;5;241;43m.\u001b[39;49m\u001b[43m_engine\u001b[49m\u001b[38;5;241;43m.\u001b[39;49m\u001b[43mget_loc\u001b[49m\u001b[43m(\u001b[49m\u001b[43mcasted_key\u001b[49m\u001b[43m)\u001b[49m\n\u001b[1;32m   3804\u001b[0m \u001b[38;5;28;01mexcept\u001b[39;00m \u001b[38;5;167;01mKeyError\u001b[39;00m \u001b[38;5;28;01mas\u001b[39;00m err:\n",
      "File \u001b[0;32m~/miniconda3/envs/glc23/lib/python3.9/site-packages/pandas/_libs/index.pyx:138\u001b[0m, in \u001b[0;36mpandas._libs.index.IndexEngine.get_loc\u001b[0;34m()\u001b[0m\n",
      "File \u001b[0;32m~/miniconda3/envs/glc23/lib/python3.9/site-packages/pandas/_libs/index.pyx:165\u001b[0m, in \u001b[0;36mpandas._libs.index.IndexEngine.get_loc\u001b[0;34m()\u001b[0m\n",
      "File \u001b[0;32mpandas/_libs/hashtable_class_helper.pxi:5745\u001b[0m, in \u001b[0;36mpandas._libs.hashtable.PyObjectHashTable.get_item\u001b[0;34m()\u001b[0m\n",
      "File \u001b[0;32mpandas/_libs/hashtable_class_helper.pxi:5753\u001b[0m, in \u001b[0;36mpandas._libs.hashtable.PyObjectHashTable.get_item\u001b[0;34m()\u001b[0m\n",
      "\u001b[0;31mKeyError\u001b[0m: 'speciesId'",
      "\nThe above exception was the direct cause of the following exception:\n",
      "\u001b[0;31mKeyError\u001b[0m                                  Traceback (most recent call last)",
      "Cell \u001b[0;32mIn[7], line 1\u001b[0m\n\u001b[0;32m----> 1\u001b[0m train_data, val_data, model, optimizer, multimodal, autoencoder \u001b[38;5;241m=\u001b[39m \u001b[43msetup_model\u001b[49m\u001b[43m(\u001b[49m\n\u001b[1;32m      2\u001b[0m \u001b[43m    \u001b[49m\u001b[43mmodel_setup\u001b[49m\u001b[38;5;241;43m=\u001b[39;49m\u001b[43mmodel_setup\u001b[49m\u001b[43m,\u001b[49m\u001b[43m \u001b[49m\n\u001b[1;32m      3\u001b[0m \u001b[43m    \u001b[49m\u001b[43mtrain_occ_path\u001b[49m\u001b[38;5;241;43m=\u001b[39;49m\u001b[43mtrain_occ_path\u001b[49m\u001b[43m,\u001b[49m\u001b[43m \u001b[49m\n\u001b[1;32m      4\u001b[0m \u001b[43m    \u001b[49m\u001b[43mrandom_bg_path\u001b[49m\u001b[38;5;241;43m=\u001b[39;49m\u001b[43mrandom_bg_path\u001b[49m\u001b[43m,\u001b[49m\u001b[43m \u001b[49m\n\u001b[1;32m      5\u001b[0m \u001b[43m    \u001b[49m\u001b[43mval_occ_path\u001b[49m\u001b[38;5;241;43m=\u001b[39;49m\u001b[43mval_occ_path\u001b[49m\u001b[43m,\u001b[49m\u001b[43m \u001b[49m\n\u001b[1;32m      6\u001b[0m \u001b[43m    \u001b[49m\u001b[43mn_max_low_occ\u001b[49m\u001b[38;5;241;43m=\u001b[39;49m\u001b[43mn_max_low_occ\u001b[49m\u001b[43m,\u001b[49m\n\u001b[1;32m      7\u001b[0m \u001b[43m    \u001b[49m\u001b[43membed_shape\u001b[49m\u001b[38;5;241;43m=\u001b[39;49m\u001b[43membed_shape\u001b[49m\u001b[43m,\u001b[49m\u001b[43m \u001b[49m\n\u001b[1;32m      8\u001b[0m \u001b[43m    \u001b[49m\u001b[43mlearning_rate\u001b[49m\u001b[38;5;241;43m=\u001b[39;49m\u001b[43mlearning_rate\u001b[49m\u001b[43m,\u001b[49m\u001b[43m \u001b[49m\n\u001b[1;32m      9\u001b[0m \u001b[43m    \u001b[49m\u001b[43mweight_decay\u001b[49m\u001b[38;5;241;43m=\u001b[39;49m\u001b[43mweight_decay\u001b[49m\u001b[43m,\u001b[49m\n\u001b[1;32m     10\u001b[0m \u001b[43m    \u001b[49m\u001b[43mseed\u001b[49m\u001b[38;5;241;43m=\u001b[39;49m\u001b[43mseed\u001b[49m\u001b[43m)\u001b[49m\n",
      "File \u001b[0;32m~/Documents/GeoLifeCLEF/train_model.py:64\u001b[0m, in \u001b[0;36msetup_model\u001b[0;34m(model_setup, train_occ_path, random_bg_path, val_occ_path, n_max_low_occ, embed_shape, learning_rate, weight_decay, seed)\u001b[0m\n\u001b[1;32m     62\u001b[0m \u001b[38;5;66;03m# training data\u001b[39;00m\n\u001b[1;32m     63\u001b[0m \u001b[38;5;28mprint\u001b[39m(\u001b[38;5;124m\"\u001b[39m\u001b[38;5;130;01m\\n\u001b[39;00m\u001b[38;5;124mMaking dataset for training occurrences\u001b[39m\u001b[38;5;124m\"\u001b[39m)\n\u001b[0;32m---> 64\u001b[0m train_data \u001b[38;5;241m=\u001b[39m \u001b[43mPatchesDatasetCooccurrences\u001b[49m\u001b[43m(\u001b[49m\n\u001b[1;32m     65\u001b[0m \u001b[43m    \u001b[49m\u001b[43moccurrences\u001b[49m\u001b[38;5;241;43m=\u001b[39;49m\u001b[43mtrain_occ_path\u001b[49m\u001b[43m,\u001b[49m\u001b[43m \u001b[49m\n\u001b[1;32m     66\u001b[0m \u001b[43m    \u001b[49m\u001b[43mproviders\u001b[49m\u001b[38;5;241;43m=\u001b[39;49m\u001b[43mproviders\u001b[49m\u001b[43m,\u001b[49m\u001b[43m \u001b[49m\n\u001b[1;32m     67\u001b[0m \u001b[43m    \u001b[49m\u001b[43mpseudoabsences\u001b[49m\u001b[38;5;241;43m=\u001b[39;49m\u001b[43mrandom_bg_path\u001b[49m\u001b[43m,\u001b[49m\u001b[43m \u001b[49m\n\u001b[1;32m     68\u001b[0m \u001b[43m    \u001b[49m\u001b[43mn_low_occ\u001b[49m\u001b[38;5;241;43m=\u001b[39;49m\u001b[43mn_max_low_occ\u001b[49m\n\u001b[1;32m     69\u001b[0m \u001b[43m\u001b[49m\u001b[43m)\u001b[49m\n\u001b[1;32m     71\u001b[0m \u001b[38;5;28;01mfor\u001b[39;00m i, key \u001b[38;5;129;01min\u001b[39;00m \u001b[38;5;28menumerate\u001b[39m(model_setup\u001b[38;5;241m.\u001b[39mkeys()):\n\u001b[1;32m     72\u001b[0m     model_setup[key][\u001b[38;5;124m'\u001b[39m\u001b[38;5;124minput_shape\u001b[39m\u001b[38;5;124m'\u001b[39m] \u001b[38;5;241m=\u001b[39m train_data[\u001b[38;5;241m0\u001b[39m][\u001b[38;5;241m0\u001b[39m][i]\u001b[38;5;241m.\u001b[39mshape\n",
      "File \u001b[0;32m~/Documents/GeoLifeCLEF/data/Datasets.py:67\u001b[0m, in \u001b[0;36mPatchesDatasetCooccurrences.__init__\u001b[0;34m(self, occurrences, providers, species, label_name, item_columns, pseudoabsences, n_low_occ)\u001b[0m\n\u001b[1;32m     65\u001b[0m df \u001b[38;5;241m=\u001b[39m pd\u001b[38;5;241m.\u001b[39mread_csv(\u001b[38;5;28mself\u001b[39m\u001b[38;5;241m.\u001b[39moccurrences, sep\u001b[38;5;241m=\u001b[39m\u001b[38;5;124m\"\u001b[39m\u001b[38;5;124m;\u001b[39m\u001b[38;5;124m\"\u001b[39m, header\u001b[38;5;241m=\u001b[39m\u001b[38;5;124m'\u001b[39m\u001b[38;5;124minfer\u001b[39m\u001b[38;5;124m'\u001b[39m, low_memory\u001b[38;5;241m=\u001b[39m\u001b[38;5;28;01mFalse\u001b[39;00m)\n\u001b[1;32m     66\u001b[0m \u001b[38;5;28;01mif\u001b[39;00m species \u001b[38;5;129;01mis\u001b[39;00m \u001b[38;5;28;01mNone\u001b[39;00m: \n\u001b[0;32m---> 67\u001b[0m     \u001b[38;5;28mself\u001b[39m\u001b[38;5;241m.\u001b[39mspecies \u001b[38;5;241m=\u001b[39m np\u001b[38;5;241m.\u001b[39munique(\u001b[43mdf\u001b[49m\u001b[43m[\u001b[49m\u001b[43mlabel_name\u001b[49m\u001b[43m]\u001b[49m\u001b[38;5;241m.\u001b[39mvalues)\n\u001b[1;32m     68\u001b[0m \u001b[38;5;28;01melse\u001b[39;00m: \n\u001b[1;32m     69\u001b[0m     \u001b[38;5;28mself\u001b[39m\u001b[38;5;241m.\u001b[39mspecies \u001b[38;5;241m=\u001b[39m species\n",
      "File \u001b[0;32m~/miniconda3/envs/glc23/lib/python3.9/site-packages/pandas/core/frame.py:3805\u001b[0m, in \u001b[0;36mDataFrame.__getitem__\u001b[0;34m(self, key)\u001b[0m\n\u001b[1;32m   3803\u001b[0m \u001b[38;5;28;01mif\u001b[39;00m \u001b[38;5;28mself\u001b[39m\u001b[38;5;241m.\u001b[39mcolumns\u001b[38;5;241m.\u001b[39mnlevels \u001b[38;5;241m>\u001b[39m \u001b[38;5;241m1\u001b[39m:\n\u001b[1;32m   3804\u001b[0m     \u001b[38;5;28;01mreturn\u001b[39;00m \u001b[38;5;28mself\u001b[39m\u001b[38;5;241m.\u001b[39m_getitem_multilevel(key)\n\u001b[0;32m-> 3805\u001b[0m indexer \u001b[38;5;241m=\u001b[39m \u001b[38;5;28;43mself\u001b[39;49m\u001b[38;5;241;43m.\u001b[39;49m\u001b[43mcolumns\u001b[49m\u001b[38;5;241;43m.\u001b[39;49m\u001b[43mget_loc\u001b[49m\u001b[43m(\u001b[49m\u001b[43mkey\u001b[49m\u001b[43m)\u001b[49m\n\u001b[1;32m   3806\u001b[0m \u001b[38;5;28;01mif\u001b[39;00m is_integer(indexer):\n\u001b[1;32m   3807\u001b[0m     indexer \u001b[38;5;241m=\u001b[39m [indexer]\n",
      "File \u001b[0;32m~/miniconda3/envs/glc23/lib/python3.9/site-packages/pandas/core/indexes/base.py:3805\u001b[0m, in \u001b[0;36mIndex.get_loc\u001b[0;34m(self, key, method, tolerance)\u001b[0m\n\u001b[1;32m   3803\u001b[0m     \u001b[38;5;28;01mreturn\u001b[39;00m \u001b[38;5;28mself\u001b[39m\u001b[38;5;241m.\u001b[39m_engine\u001b[38;5;241m.\u001b[39mget_loc(casted_key)\n\u001b[1;32m   3804\u001b[0m \u001b[38;5;28;01mexcept\u001b[39;00m \u001b[38;5;167;01mKeyError\u001b[39;00m \u001b[38;5;28;01mas\u001b[39;00m err:\n\u001b[0;32m-> 3805\u001b[0m     \u001b[38;5;28;01mraise\u001b[39;00m \u001b[38;5;167;01mKeyError\u001b[39;00m(key) \u001b[38;5;28;01mfrom\u001b[39;00m \u001b[38;5;21;01merr\u001b[39;00m\n\u001b[1;32m   3806\u001b[0m \u001b[38;5;28;01mexcept\u001b[39;00m \u001b[38;5;167;01mTypeError\u001b[39;00m:\n\u001b[1;32m   3807\u001b[0m     \u001b[38;5;66;03m# If we have a listlike key, _check_indexing_error will raise\u001b[39;00m\n\u001b[1;32m   3808\u001b[0m     \u001b[38;5;66;03m#  InvalidIndexError. Otherwise we fall through and re-raise\u001b[39;00m\n\u001b[1;32m   3809\u001b[0m     \u001b[38;5;66;03m#  the TypeError.\u001b[39;00m\n\u001b[1;32m   3810\u001b[0m     \u001b[38;5;28mself\u001b[39m\u001b[38;5;241m.\u001b[39m_check_indexing_error(key)\n",
      "\u001b[0;31mKeyError\u001b[0m: 'speciesId'"
     ]
    }
   ],
   "source": [
    "train_data, val_data, model, optimizer, multimodal, autoencoder = setup_model(\n",
    "    model_setup=model_setup, \n",
    "    train_occ_path=train_occ_path, \n",
    "    random_bg_path=random_bg_path, \n",
    "    val_occ_path=val_occ_path, \n",
    "    n_max_low_occ=n_max_low_occ,\n",
    "    embed_shape=embed_shape, \n",
    "    learning_rate=learning_rate, \n",
    "    weight_decay=weight_decay,\n",
    "    seed=seed) "
   ]
  },
  {
   "cell_type": "code",
   "execution_count": 8,
   "metadata": {},
   "outputs": [],
   "source": [
    "dev = torch.device(\"cuda\" if torch.cuda.is_available() else \"cpu\")\n",
    "model = model.to(dev)"
   ]
  },
  {
   "cell_type": "code",
   "execution_count": 9,
   "metadata": {},
   "outputs": [],
   "source": [
    "batch_size = 10\n",
    "train_loader = torch.utils.data.DataLoader(train_data, shuffle=True, batch_size=batch_size)"
   ]
  },
  {
   "cell_type": "code",
   "execution_count": 10,
   "metadata": {},
   "outputs": [
    {
     "name": "stderr",
     "output_type": "stream",
     "text": [
      "  0%|          | 0/285682 [00:00<?, ?it/s]\n"
     ]
    }
   ],
   "source": [
    "for po_inputs, bg_inputs, labels in tqdm(train_loader):\n",
    "    labels = labels.to(torch.float32)\n",
    "    inputsA = po_inputs[0].to(torch.float32).to(dev)\n",
    "    inputsB = po_inputs[1].to(torch.float32).to(dev)\n",
    "    break"
   ]
  },
  {
   "cell_type": "code",
   "execution_count": 11,
   "metadata": {},
   "outputs": [],
   "source": [
    "y_pred = torch.sigmoid(model(inputsA, inputsB))"
   ]
  },
  {
   "cell_type": "code",
   "execution_count": 12,
   "metadata": {},
   "outputs": [
    {
     "data": {
      "text/plain": [
       "torch.Size([10, 2174])"
      ]
     },
     "execution_count": 12,
     "metadata": {},
     "output_type": "execute_result"
    }
   ],
   "source": [
    "y_pred.shape"
   ]
  },
  {
   "cell_type": "code",
   "execution_count": 44,
   "metadata": {},
   "outputs": [
    {
     "name": "stderr",
     "output_type": "stream",
     "text": [
      "  0%|          | 0/571364 [00:00<?, ?it/s]\n"
     ]
    }
   ],
   "source": [
    "train_loader = torch.utils.data.DataLoader(train_data, shuffle=True, batch_size=5)\n",
    "for po_inputs, bg_inputs, labels in tqdm(train_loader):\n",
    "    labels = labels.to(torch.float32)\n",
    "    inputs = po_inputs[0].to(torch.float32).to(dev)\n",
    "    break"
   ]
  },
  {
   "cell_type": "code",
   "execution_count": 45,
   "metadata": {},
   "outputs": [
    {
     "data": {
      "text/plain": [
       "torch.Size([5, 41, 8, 8])"
      ]
     },
     "execution_count": 45,
     "metadata": {},
     "output_type": "execute_result"
    }
   ],
   "source": [
    "x = inputs\n",
    "x.shape"
   ]
  },
  {
   "cell_type": "code",
   "execution_count": 46,
   "metadata": {},
   "outputs": [
    {
     "data": {
      "text/plain": [
       "torch.Size([5, 256, 8, 8])"
      ]
     },
     "execution_count": 46,
     "metadata": {},
     "output_type": "execute_result"
    }
   ],
   "source": [
    "x1 = model.backbone(x)\n",
    "x1.shape"
   ]
  },
  {
   "cell_type": "code",
   "execution_count": 48,
   "metadata": {},
   "outputs": [
    {
     "data": {
      "text/plain": [
       "3"
      ]
     },
     "execution_count": 48,
     "metadata": {},
     "output_type": "execute_result"
    }
   ],
   "source": [
    "len(model.aspp_block.aspp_branches)"
   ]
  },
  {
   "cell_type": "code",
   "execution_count": 55,
   "metadata": {},
   "outputs": [],
   "source": [
    "branches = [nn.Sequential(\n",
    "            nn.Conv2d(256, 512, k), \n",
    "            nn.ReLU()).to(dev) for k in [1,3,5]]"
   ]
  },
  {
   "cell_type": "code",
   "execution_count": 56,
   "metadata": {},
   "outputs": [
    {
     "name": "stdout",
     "output_type": "stream",
     "text": [
      "[torch.Size([5, 512, 8, 8]), torch.Size([5, 512, 6, 6]), torch.Size([5, 512, 4, 4])]\n",
      "[torch.Size([5, 512]), torch.Size([5, 512]), torch.Size([5, 512])]\n",
      "[torch.Size([5, 2174]), torch.Size([5, 2174]), torch.Size([5, 2174])]\n"
     ]
    }
   ],
   "source": [
    "x2 = [aspp(x1) for aspp in branches]\n",
    "# x2 = [aspp(x1) for aspp in model.aspp_block.aspp_branches]\n",
    "print([x.shape for x in x2])\n",
    "x3 = [model.aspp_block.crop(xi).squeeze() for xi in x2]\n",
    "print([x.shape for x in x3])\n",
    "x4 = [l(xi) for xi, l in zip(x3, model.aspp_block.linear_layers)]\n",
    "print([x.shape for x in x4])"
   ]
  },
  {
   "cell_type": "code",
   "execution_count": 58,
   "metadata": {},
   "outputs": [
    {
     "data": {
      "text/plain": [
       "tensor([[0.3215, 0.4591, 0.2082, 0.3225, 0.1884, 0.1318, 0.1606, 0.1403],\n",
       "        [0.3205, 0.0842, 0.0795, 0.1740, 0.1709, 0.1070, 0.1303, 0.1814],\n",
       "        [0.4666, 0.2151, 0.1068, 0.1960, 0.2419, 0.1501, 0.1992, 0.2442],\n",
       "        [0.2871, 0.0000, 0.3141, 0.3357, 0.2869, 0.1918, 0.0852, 0.1889],\n",
       "        [0.4891, 0.0000, 0.2518, 0.3177, 0.2703, 0.1910, 0.0923, 0.1459],\n",
       "        [0.2320, 0.4610, 0.0950, 0.1485, 0.2045, 0.1991, 0.2501, 0.1562],\n",
       "        [0.5393, 0.6094, 0.3304, 0.2159, 0.2019, 0.1293, 0.1773, 0.2929],\n",
       "        [0.1173, 0.1944, 0.2660, 0.2605, 0.2226, 0.2258, 0.2567, 0.3533]],\n",
       "       device='cuda:0', grad_fn=<SliceBackward0>)"
      ]
     },
     "execution_count": 58,
     "metadata": {},
     "output_type": "execute_result"
    }
   ],
   "source": [
    "x2[0][0,0,:,:]"
   ]
  },
  {
   "cell_type": "code",
   "execution_count": 63,
   "metadata": {},
   "outputs": [
    {
     "data": {
      "text/plain": [
       "tensor(0.2703, device='cuda:0', grad_fn=<SelectBackward0>)"
      ]
     },
     "execution_count": 63,
     "metadata": {},
     "output_type": "execute_result"
    }
   ],
   "source": [
    "x3[0][0,0]"
   ]
  },
  {
   "cell_type": "code",
   "execution_count": 50,
   "metadata": {},
   "outputs": [
    {
     "data": {
      "text/plain": [
       "{'model_name': 'MultiResolutionModel',\n",
       " 'covariates': ['data/full_data/EnvironmentalRasters/Climate/BioClimatic_Average_1981-2010/',\n",
       "  'data/full_data/EnvironmentalRasters/Soilgrids/',\n",
       "  'data/full_data/EnvironmentalRasters/LandCover/LandCover_MODIS_Terra-Aqua_500m.tif'],\n",
       " 'patch_size': 8,\n",
       " 'backbone_params': {'n_filters': [256, 256, 256, 256],\n",
       "  'kernel_sizes': [1, 1, 1, 1],\n",
       "  'paddings': [0, 0, 0, 0],\n",
       "  'pooling_sizes': [1, 1, 1, 1]},\n",
       " 'aspp_params': {'out_channels': 512, 'kernel_sizes': [1, 3, 5]},\n",
       " 'input_shape': (41, 8, 8),\n",
       " 'output_shape': 2174}"
      ]
     },
     "execution_count": 50,
     "metadata": {},
     "output_type": "execute_result"
    }
   ],
   "source": [
    "config['env_model']"
   ]
  },
  {
   "cell_type": "code",
   "execution_count": 33,
   "metadata": {},
   "outputs": [],
   "source": [
    "x2 = model.aspp_block(x1)"
   ]
  },
  {
   "cell_type": "code",
   "execution_count": 36,
   "metadata": {},
   "outputs": [
    {
     "data": {
      "text/plain": [
       "torch.Size([5, 2174])"
      ]
     },
     "execution_count": 36,
     "metadata": {},
     "output_type": "execute_result"
    }
   ],
   "source": [
    "x2[0].shape"
   ]
  },
  {
   "cell_type": "code",
   "execution_count": 8,
   "metadata": {},
   "outputs": [
    {
     "name": "stdout",
     "output_type": "stream",
     "text": [
      "\n",
      "Making patch providers with size=8x8, flatten=False for covariates:\n",
      "\t - data/full_data/EnvironmentalRasters/Climate/BioClimatic_Average_1981-2010/\n",
      "\t - data/full_data/EnvironmentalRasters/Soilgrids/\n",
      "\t - data/full_data/EnvironmentalRasters/LandCover/LandCover_MODIS_Terra-Aqua_500m.tif\n"
     ]
    },
    {
     "ename": "KeyboardInterrupt",
     "evalue": "",
     "output_type": "error",
     "traceback": [
      "\u001b[0;31m---------------------------------------------------------------------------\u001b[0m",
      "\u001b[0;31mKeyboardInterrupt\u001b[0m                         Traceback (most recent call last)",
      "Cell \u001b[0;32mIn[8], line 4\u001b[0m\n\u001b[1;32m      2\u001b[0m \u001b[38;5;28;01mfor\u001b[39;00m model_dict \u001b[38;5;129;01min\u001b[39;00m model_setup\u001b[38;5;241m.\u001b[39mvalues():\n\u001b[1;32m      3\u001b[0m     flatten \u001b[38;5;241m=\u001b[39m \u001b[38;5;28;01mTrue\u001b[39;00m \u001b[38;5;28;01mif\u001b[39;00m model_dict[\u001b[38;5;124m'\u001b[39m\u001b[38;5;124mmodel_name\u001b[39m\u001b[38;5;124m'\u001b[39m] \u001b[38;5;241m==\u001b[39m \u001b[38;5;124m'\u001b[39m\u001b[38;5;124mMLP\u001b[39m\u001b[38;5;124m'\u001b[39m \u001b[38;5;28;01melse\u001b[39;00m \u001b[38;5;28;01mFalse\u001b[39;00m \n\u001b[0;32m----> 4\u001b[0m     providers\u001b[38;5;241m.\u001b[39mappend(\u001b[43mmake_providers\u001b[49m\u001b[43m(\u001b[49m\n\u001b[1;32m      5\u001b[0m \u001b[43m        \u001b[49m\u001b[43mmodel_dict\u001b[49m\u001b[43m[\u001b[49m\u001b[38;5;124;43m'\u001b[39;49m\u001b[38;5;124;43mcovariates\u001b[39;49m\u001b[38;5;124;43m'\u001b[39;49m\u001b[43m]\u001b[49m\u001b[43m,\u001b[49m\u001b[43m \u001b[49m\u001b[43mmodel_dict\u001b[49m\u001b[43m[\u001b[49m\u001b[38;5;124;43m'\u001b[39;49m\u001b[38;5;124;43mpatch_size\u001b[39;49m\u001b[38;5;124;43m'\u001b[39;49m\u001b[43m]\u001b[49m\u001b[43m,\u001b[49m\u001b[43m \u001b[49m\u001b[43mflatten\u001b[49m\n\u001b[1;32m      6\u001b[0m \u001b[43m    \u001b[49m\u001b[43m)\u001b[49m)\n",
      "File \u001b[0;32m~/Documents/GeoLifeCLEF/train_model.py:42\u001b[0m, in \u001b[0;36mmake_providers\u001b[0;34m(covariate_paths_list, patch_size, flatten)\u001b[0m\n\u001b[1;32m     40\u001b[0m     providers\u001b[38;5;241m.\u001b[39mappend(JpegPatchProvider(cov, size\u001b[38;5;241m=\u001b[39mpatch_size))\n\u001b[1;32m     41\u001b[0m \u001b[38;5;28;01melif\u001b[39;00m \u001b[38;5;124m'\u001b[39m\u001b[38;5;124m.tif\u001b[39m\u001b[38;5;124m'\u001b[39m \u001b[38;5;129;01min\u001b[39;00m cov:\n\u001b[0;32m---> 42\u001b[0m     providers\u001b[38;5;241m.\u001b[39mappend(\u001b[43mRasterPatchProvider\u001b[49m\u001b[43m(\u001b[49m\u001b[43mcov\u001b[49m\u001b[43m,\u001b[49m\u001b[43m \u001b[49m\u001b[43msize\u001b[49m\u001b[38;5;241;43m=\u001b[39;49m\u001b[43mpatch_size\u001b[49m\u001b[43m,\u001b[49m\u001b[43m \u001b[49m\u001b[43mflatten\u001b[49m\u001b[38;5;241;43m=\u001b[39;49m\u001b[43mflatten\u001b[49m\u001b[43m)\u001b[49m)\n\u001b[1;32m     43\u001b[0m \u001b[38;5;28;01melse\u001b[39;00m:\n\u001b[1;32m     44\u001b[0m     providers\u001b[38;5;241m.\u001b[39mappend(MultipleRasterPatchProvider(cov, size\u001b[38;5;241m=\u001b[39mpatch_size, flatten\u001b[38;5;241m=\u001b[39mflatten))\n",
      "File \u001b[0;32m~/Documents/GeoLifeCLEF/data/PatchesProviders.py:93\u001b[0m, in \u001b[0;36mRasterPatchProvider.__init__\u001b[0;34m(self, raster_path, size, flatten, normalize, fill_zero_if_error, nan_value)\u001b[0m\n\u001b[1;32m     90\u001b[0m \u001b[38;5;66;03m# iterate through all the layers\u001b[39;00m\n\u001b[1;32m     91\u001b[0m \u001b[38;5;28;01mfor\u001b[39;00m i \u001b[38;5;129;01min\u001b[39;00m \u001b[38;5;28mrange\u001b[39m(src\u001b[38;5;241m.\u001b[39mcount):\n\u001b[1;32m     92\u001b[0m     \u001b[38;5;66;03m# replace the NoData values with np.nan\u001b[39;00m\n\u001b[0;32m---> 93\u001b[0m     \u001b[38;5;28mself\u001b[39m\u001b[38;5;241m.\u001b[39mdata \u001b[38;5;241m=\u001b[39m \u001b[38;5;28;43mself\u001b[39;49m\u001b[38;5;241;43m.\u001b[39;49m\u001b[43mdata\u001b[49m\u001b[38;5;241;43m.\u001b[39;49m\u001b[43mastype\u001b[49m\u001b[43m(\u001b[49m\u001b[38;5;28;43mfloat\u001b[39;49m\u001b[43m)\u001b[49m\n\u001b[1;32m     94\u001b[0m     \u001b[38;5;28;01mif\u001b[39;00m \u001b[38;5;124m'\u001b[39m\u001b[38;5;124mSoilgrids\u001b[39m\u001b[38;5;124m'\u001b[39m \u001b[38;5;129;01min\u001b[39;00m \u001b[38;5;28mself\u001b[39m\u001b[38;5;241m.\u001b[39mraster_path:\n\u001b[1;32m     95\u001b[0m         \u001b[38;5;28mself\u001b[39m\u001b[38;5;241m.\u001b[39mdata[i] \u001b[38;5;241m=\u001b[39m np\u001b[38;5;241m.\u001b[39mwhere(np\u001b[38;5;241m.\u001b[39misclose(\u001b[38;5;28mself\u001b[39m\u001b[38;5;241m.\u001b[39mdata[i], \u001b[38;5;28mself\u001b[39m\u001b[38;5;241m.\u001b[39mnodata_value[i]), np\u001b[38;5;241m.\u001b[39mnan, \u001b[38;5;28mself\u001b[39m\u001b[38;5;241m.\u001b[39mdata[i])\n",
      "\u001b[0;31mKeyboardInterrupt\u001b[0m: "
     ]
    }
   ],
   "source": [
    "providers = []\n",
    "for model_dict in model_setup.values():\n",
    "    flatten = True if model_dict['model_name'] == 'MLP' else False \n",
    "    providers.append(make_providers(\n",
    "        model_dict['covariates'], model_dict['patch_size'], flatten\n",
    "    ))"
   ]
  },
  {
   "cell_type": "code",
   "execution_count": null,
   "metadata": {},
   "outputs": [],
   "source": [
    "train_data = PatchesDatasetCooccurrences(\n",
    "    occurrences=train_occ_path, \n",
    "    providers=providers, \n",
    "    pseudoabsences=random_bg_path, \n",
    "    n_low_occ=n_max_low_occ\n",
    ")"
   ]
  },
  {
   "cell_type": "code",
   "execution_count": null,
   "metadata": {},
   "outputs": [],
   "source": [
    "model_setup = {}\n",
    "if dict['env_model'] is not None: model_setup['env'] = config['env_model']\n",
    "if dict['sat_model'] is not None: model_setup['sat'] = config['sat_model']\n",
    "model_setup"
   ]
  },
  {
   "cell_type": "code",
   "execution_count": null,
   "metadata": {},
   "outputs": [],
   "source": [
    "[eval(f) for f in config['env_model']['covariates']]"
   ]
  },
  {
   "cell_type": "code",
   "execution_count": null,
   "metadata": {},
   "outputs": [],
   "source": [
    "config['e_model']"
   ]
  },
  {
   "cell_type": "code",
   "execution_count": null,
   "metadata": {},
   "outputs": [],
   "source": [
    "train_occ_path=po_path_sampled_25\n",
    "random_bg_path=None\n",
    "val_occ_path=pa_path\n",
    "env_model={'model_name':'ASPP', 'covariates':[bioclim_dir, soil_dir, landcover_path], 'patch_size': 10, 'embed_shape': 64, 'kernel_sizes': [1,3,3], 'dilations': [1,1,2]}\n",
    "sat_model=None\n",
    "n_max_low_occ=50\n",
    "embed_shape=None\n",
    "loss='an_full_loss'\n",
    "lambda2=None\n",
    "n_epochs=100\n",
    "batch_size=128\n",
    "learning_rate=1e-3\n",
    "seed=42"
   ]
  },
  {
   "cell_type": "code",
   "execution_count": null,
   "metadata": {},
   "outputs": [],
   "source": [
    "model_setup = {}\n",
    "if env_model is not None: model_setup['env'] = env_model\n",
    "if sat_model is not None: model_setup['sat'] = sat_model\n",
    "print(model_setup)"
   ]
  },
  {
   "cell_type": "code",
   "execution_count": null,
   "metadata": {},
   "outputs": [],
   "source": [
    "dev = torch.device(\"cuda\" if torch.cuda.is_available() else \"cpu\")\n",
    "print(f\"DEVICE: {dev}\")"
   ]
  },
  {
   "cell_type": "code",
   "execution_count": null,
   "metadata": {},
   "outputs": [],
   "source": [
    "train_data, val_data, model, optimizer, multires = setup_model(\n",
    "    model_setup, train_occ_path, random_bg_path, val_occ_path, n_max_low_occ,\n",
    "    embed_shape, learning_rate, seed)\n",
    "model = model.to(dev)"
   ]
  },
  {
   "cell_type": "code",
   "execution_count": null,
   "metadata": {},
   "outputs": [],
   "source": [
    "batch_size=10\n",
    "train_loader = torch.utils.data.DataLoader(train_data, shuffle=True, batch_size=batch_size)\n",
    "val_loader = torch.utils.data.DataLoader(val_data, shuffle=False, batch_size=batch_size)#, num_workers=4)"
   ]
  },
  {
   "cell_type": "code",
   "execution_count": null,
   "metadata": {},
   "outputs": [],
   "source": [
    "loss_fn = eval(loss)\n",
    "species_weights = torch.tensor(train_data.species_weights).to(dev)\n",
    "val_loss_fn = torch.nn.BCELoss()"
   ]
  },
  {
   "cell_type": "code",
   "execution_count": null,
   "metadata": {},
   "outputs": [],
   "source": [
    "for po_inputs, bg_inputs, labels in tqdm(train_loader):\n",
    "   labels = labels.to(torch.float32).to(dev)\n",
    "   inputs = po_inputs[0].to(torch.float32).to(dev)\n",
    "   break"
   ]
  },
  {
   "cell_type": "code",
   "execution_count": null,
   "metadata": {},
   "outputs": [],
   "source": [
    "y_pred = torch.sigmoid(model(inputs))"
   ]
  },
  {
   "cell_type": "code",
   "execution_count": null,
   "metadata": {},
   "outputs": [],
   "source": [
    "y_pred.shape"
   ]
  },
  {
   "cell_type": "code",
   "execution_count": null,
   "metadata": {},
   "outputs": [],
   "source": [
    "\n",
    "x = inputs\n",
    "x_in = [x[:, :, imin:imax, imin:imax] for imin, imax in zip(model.imins, model.imaxs)]"
   ]
  },
  {
   "cell_type": "code",
   "execution_count": null,
   "metadata": {},
   "outputs": [],
   "source": [
    "x_in[0].shape"
   ]
  },
  {
   "cell_type": "code",
   "execution_count": null,
   "metadata": {},
   "outputs": [],
   "source": [
    "m = model.aspp_branches[0].to(dev)\n",
    "m(x_in[0])"
   ]
  },
  {
   "cell_type": "code",
   "execution_count": null,
   "metadata": {},
   "outputs": [],
   "source": [
    "\n",
    "x = [aspp(xi) for aspp, xi in zip(model.aspp_branches, x_in)]"
   ]
  },
  {
   "cell_type": "code",
   "execution_count": null,
   "metadata": {},
   "outputs": [],
   "source": [
    "print([xi.get_device() for xi in x_in])"
   ]
  },
  {
   "cell_type": "code",
   "execution_count": null,
   "metadata": {},
   "outputs": [],
   "source": [
    "print(model.subpatch_sizes)\n",
    "print(model.center_idx)\n",
    "print(model.imins)\n",
    "print(model.imaxs)"
   ]
  },
  {
   "cell_type": "code",
   "execution_count": null,
   "metadata": {},
   "outputs": [],
   "source": [
    "model.center_idx"
   ]
  },
  {
   "cell_type": "code",
   "execution_count": null,
   "metadata": {},
   "outputs": [],
   "source": []
  },
  {
   "cell_type": "code",
   "execution_count": null,
   "metadata": {},
   "outputs": [],
   "source": [
    "[i >= 0 for i in imins]"
   ]
  },
  {
   "cell_type": "code",
   "execution_count": null,
   "metadata": {},
   "outputs": [],
   "source": [
    "(np.array(imaxs) < 4).all()"
   ]
  },
  {
   "cell_type": "code",
   "execution_count": null,
   "metadata": {},
   "outputs": [],
   "source": [
    "    y_pred = torch.sigmoid(model(inputs))\n"
   ]
  },
  {
   "cell_type": "code",
   "execution_count": null,
   "metadata": {},
   "outputs": [],
   "source": [
    "from torch import nn\n",
    "\n",
    "def aspp_branch(in_channels, out_channels, kernel_size, dilation):\n",
    "    '''\n",
    "    As implemented in:\n",
    "    https://github.com/yassouali/pytorch-segmentation/blob/master/models/deeplabv3_plus.py\n",
    "    '''\n",
    "    return nn.Sequential(\n",
    "        nn.Conv2d(in_channels, out_channels, kernel_size,dilation=dilation),\n",
    "            nn.BatchNorm2d(out_channels),\n",
    "            nn.ReLU(inplace=True))"
   ]
  },
  {
   "cell_type": "code",
   "execution_count": null,
   "metadata": {},
   "outputs": [],
   "source": [
    "kernel_sizes = [1, 3, 3, 3]\n",
    "dilations = [1, 1, 2, 3]\n",
    "subpatch_sizes = [(d-1)*(k-1) + k for k, d in zip(kernel_sizes, dilations)]\n",
    "print(subpatch_sizes)\n",
    "in_patch_size = 8\n",
    "center_idx = in_patch_size // 2\n",
    "print(center_idx)"
   ]
  },
  {
   "cell_type": "code",
   "execution_count": null,
   "metadata": {},
   "outputs": [],
   "source": [
    "in_channels = 41\n",
    "out_channels = 64\n",
    "aspp_branches = [aspp_branch(in_channels, out_channels, k, d) for k, d in zip(kernel_sizes, dilations)]\n",
    "len(aspp_branches)"
   ]
  },
  {
   "cell_type": "code",
   "execution_count": null,
   "metadata": {},
   "outputs": [],
   "source": [
    "x = po_inputs[0].to(torch.float32)\n",
    "imins = [int(center_idx - (s-1)/2) for s in subpatch_sizes]\n",
    "imaxs = [int(center_idx + (s-1)/2 + 1) for s in subpatch_sizes]\n",
    "x_in = [x[:, :, imin:imax, imin:imax] for imin, imax in zip(imins, imaxs)]\n",
    "x_out = [aspp(xi) for aspp, xi in zip(aspp_branches, x_in)]"
   ]
  },
  {
   "cell_type": "code",
   "execution_count": null,
   "metadata": {},
   "outputs": [],
   "source": [
    "print([o.shape for o in x_out])"
   ]
  },
  {
   "cell_type": "code",
   "execution_count": null,
   "metadata": {},
   "outputs": [],
   "source": [
    "x = torch.cat(x_out, dim=1).squeeze()\n",
    "print(x.shape)"
   ]
  },
  {
   "cell_type": "code",
   "execution_count": null,
   "metadata": {},
   "outputs": [],
   "source": [
    "l = nn.Linear(256, 10)\n",
    "l(x).shape"
   ]
  },
  {
   "cell_type": "code",
   "execution_count": null,
   "metadata": {},
   "outputs": [],
   "source": [
    "kernel_sizes = [1, 3, 3, 3]\n",
    "dilations = [1, 1, 2, 3]\n",
    "subpatch_sizes = [(d-1)*(k-1) + k for k, d in zip(kernel_sizes, dilations)]\n",
    "print(subpatch_sizes)\n",
    "in_patch_size = 9\n",
    "center_idx = in_patch_size // 2\n",
    "print(center_idx)"
   ]
  },
  {
   "cell_type": "code",
   "execution_count": null,
   "metadata": {},
   "outputs": [],
   "source": [
    "imins = [int(center_idx - (s-1)/2) for s in subpatch_sizes]\n",
    "imaxs = [int(center_idx + (s-1)/2 + 1) for s in subpatch_sizes]\n",
    "x_in = [x[:, imin:imax, imin:imax] for imin, imax in zip(imins, imaxs)]\n",
    "print([y.shape for y in x_in])"
   ]
  },
  {
   "cell_type": "code",
   "execution_count": null,
   "metadata": {},
   "outputs": [],
   "source": [
    "in_channels = 41\n",
    "out_channels = 128\n",
    "aspp_branches = [aspp_branch(in_channels, out_channels, k, d) for k, d in zip(kernel_sizes, dilations)]"
   ]
  },
  {
   "cell_type": "code",
   "execution_count": null,
   "metadata": {},
   "outputs": [],
   "source": [
    "xi = x_in[0].to(torch.double)\n",
    "aspp = aspp_branches[0]\n",
    "print(xi.shape)\n",
    "print(aspp)"
   ]
  },
  {
   "cell_type": "code",
   "execution_count": null,
   "metadata": {},
   "outputs": [],
   "source": [
    "import pdb\n",
    "pdb.set_trace()\n",
    "aspp(xi)"
   ]
  },
  {
   "cell_type": "code",
   "execution_count": null,
   "metadata": {},
   "outputs": [],
   "source": [
    "x_out = [torch.rand((out_channels, 1, 1)) for i in range(5)]"
   ]
  },
  {
   "cell_type": "code",
   "execution_count": null,
   "metadata": {},
   "outputs": [],
   "source": [
    "torch.cat(x_out, dim=0).shape"
   ]
  },
  {
   "cell_type": "code",
   "execution_count": null,
   "metadata": {},
   "outputs": [],
   "source": [
    "item = train_data.items.iloc[0]"
   ]
  },
  {
   "cell_type": "code",
   "execution_count": null,
   "metadata": {},
   "outputs": [],
   "source": [
    "print(f\"{p.n_rows} - ({item.lat} - {p.y_min}) / {p.y_resolution})\")\n",
    "print(p.n_rows - (item.lat - p.y_min) / p.y_resolution)\n",
    "x = int(p.n_rows - (item.lat - p.y_min) / p.y_resolution)\n",
    "y = int((item.lon - p.x_min) / p.x_resolution)\n",
    "print(x, y)"
   ]
  },
  {
   "cell_type": "code",
   "execution_count": null,
   "metadata": {},
   "outputs": [],
   "source": [
    "print(f\"{x} - ({p.patch_size} // 2), {x} + ({p.patch_size} // 2)\")\n",
    "print(x - (p.patch_size // 2), x + (p.patch_size // 2))"
   ]
  },
  {
   "cell_type": "code",
   "execution_count": null,
   "metadata": {},
   "outputs": [],
   "source": [
    "print(f\"{y} - ({p.patch_size} // 2), {y} + ({p.patch_size} // 2)\")\n",
    "print(y - (p.patch_size // 2), y + (p.patch_size // 2))"
   ]
  },
  {
   "cell_type": "code",
   "execution_count": null,
   "metadata": {},
   "outputs": [],
   "source": [
    "patch_data = [p.data[i, x - (p.patch_size // 2): x + (p.patch_size // 2), y - (p.patch_size // 2): y + (p.patch_size // 2)] for i in range(p.nb_layers)]\n"
   ]
  },
  {
   "cell_type": "code",
   "execution_count": null,
   "metadata": {},
   "outputs": [],
   "source": [
    "patch_data[0].shape"
   ]
  },
  {
   "cell_type": "code",
   "execution_count": null,
   "metadata": {},
   "outputs": [],
   "source": [
    "x = np.array([1,2,3,4,5,7,5,8,4,7,3,67,3,2,8,3,5,7,2,6,5,6])\n",
    "x[3:8]"
   ]
  },
  {
   "cell_type": "code",
   "execution_count": null,
   "metadata": {},
   "outputs": [],
   "source": [
    "4511-4447"
   ]
  },
  {
   "cell_type": "code",
   "execution_count": null,
   "metadata": {},
   "outputs": [],
   "source": [
    "for i, key in enumerate(model_setup.keys()):\n",
    "    model_setup[key]['input_shape'] = train_data[0][0][i].shape\n",
    "    if multires:\n",
    "        assert embed_shape is not None\n",
    "        model_setup[key]['output_shape'] = embed_shape\n",
    "    else:\n",
    "        model_setup[key]['output_shape'] = train_data.n_species\n",
    "print([[m['input_shape'], m['output_shape']] for m in model_setup.values()])"
   ]
  },
  {
   "cell_type": "code",
   "execution_count": null,
   "metadata": {},
   "outputs": [],
   "source": [
    "val_data = PatchesDatasetCooccurrences(\n",
    "    occurrences=val_occ_path,\n",
    "    providers=providers, \n",
    "    species=train_data.species, \n",
    "    n_low_occ=n_max_low_occ\n",
    ")"
   ]
  },
  {
   "cell_type": "code",
   "execution_count": null,
   "metadata": {},
   "outputs": [],
   "source": [
    "train_loader = torch.utils.data.DataLoader(train_data, shuffle=True, batch_size=batch_size)\n",
    "val_loader = torch.utils.data.DataLoader(val_data, shuffle=False, batch_size=batch_size)#, num_workers=4)"
   ]
  },
  {
   "cell_type": "code",
   "execution_count": null,
   "metadata": {},
   "outputs": [],
   "source": [
    "model_list = [make_model(model_dict) for model_dict in model_setup.values()]\n",
    "if multires:\n",
    "    model = MultiScaleModel(\n",
    "        model_list[0], model_list[1], train_data.n_species, embed_shape, embed_shape\n",
    "    ).to(dev)\n",
    "else:\n",
    "    model = model_list[0].to(dev)\n",
    "optimizer = torch.optim.SGD(model.parameters(), lr=1e-3)\n",
    "\n",
    "# loss functions\n",
    "loss_fn = eval(loss)\n",
    "species_weights = torch.tensor(train_data.species_weights).to(dev)\n",
    "val_loss_fn = torch.nn.BCELoss()"
   ]
  },
  {
   "cell_type": "code",
   "execution_count": null,
   "metadata": {},
   "outputs": [],
   "source": [
    "arch ='resnet18'\n",
    "block = BasicBlock\n",
    "layers = [2, 2, 2, 2]\n",
    "pretrained = False# 'ResNet18_Weights.IMAGENET1K_V1' \n",
    "progress = True\n",
    "\n",
    "model = ResNet(block, layers, **kwargs)\n",
    "    # if pretrained:\n",
    "    #     state_dict = load_state_dict_from_url(model_urls[arch],\n",
    "    #                                           progress=progress)\n",
    "    #     model.load_state_dict(state_dict)"
   ]
  },
  {
   "cell_type": "code",
   "execution_count": null,
   "metadata": {},
   "outputs": [],
   "source": [
    "for po_inputs, bg_inputs, labels in tqdm(train_loader):\n",
    "    labels = labels.to(torch.float32).to(dev) \n",
    "    print(labels.shape)\n",
    "\n",
    "    if multires:\n",
    "        inputsA = po_inputs[0].to(torch.float32).to(dev)\n",
    "        inputsB = po_inputs[1].to(torch.float32).to(dev)\n",
    "        y_pred = torch.sigmoid(model(inputsA, inputsB))\n",
    "\n",
    "    else:\n",
    "        if random_bg_path is None:\n",
    "            inputs = po_inputs[0].to(torch.float32).to(dev)\n",
    "            print(po_inputs[0].shape)\n",
    "        else:\n",
    "            inputs = torch.cat((po_inputs[0], bg_inputs[0]), 0).to(torch.float32).to(dev)\n",
    "            print(po_inputs[0].shape, len(po_inputs))\n",
    "            print(len(bg_inputs), bg_inputs[0].shape)\n",
    "            print(inputs.shape)\n",
    "        y_pred = torch.sigmoid(model(inputs))\n",
    "            \n",
    "    if random_bg_path is None:\n",
    "       train_loss = loss_fn(y_pred, labels, species_weights)\n",
    "          \n",
    "    else:\n",
    "        po_pred = y_pred[0:len(po_inputs[0])]\n",
    "        bg_pred = y_pred[len(po_inputs[0]):]        \n",
    "        train_loss = loss_fn(po_pred, labels, species_weights, lambda2, bg_pred)\n",
    "\n",
    "    print(train_loss)\n",
    "    break"
   ]
  },
  {
   "cell_type": "code",
   "execution_count": null,
   "metadata": {},
   "outputs": [],
   "source": [
    "torch.sigmoid(model_list[0](inputsA)).min()"
   ]
  },
  {
   "cell_type": "code",
   "execution_count": null,
   "metadata": {},
   "outputs": [],
   "source": [
    "torch.sigmoid(model_list[1](inputsB)).min()"
   ]
  },
  {
   "cell_type": "code",
   "execution_count": null,
   "metadata": {},
   "outputs": [],
   "source": [
    "po_inputs[0].shape"
   ]
  },
  {
   "cell_type": "code",
   "execution_count": null,
   "metadata": {},
   "outputs": [],
   "source": [
    "    \n",
    "model = get_model(model, input_shape[0], n_species, model_params, patch_size).to(dev)\n"
   ]
  },
  {
   "cell_type": "code",
   "execution_count": null,
   "metadata": {},
   "outputs": [],
   "source": [
    "flatten = [True if model == 'MLP' else False for model in models]\n",
    "flatten"
   ]
  },
  {
   "cell_type": "code",
   "execution_count": null,
   "metadata": {},
   "outputs": [],
   "source": [
    "providers = []\n",
    "for group, patch_size, f in zip(covariates, patch_sizes, flatten):\n",
    "\n",
    "    group_providers = []\n",
    "    for cov in group:\n",
    "        print(f\"\\t - {cov}\")\n",
    "        if 'SatelliteImages' in cov:\n",
    "            if f and patch_size != 1: \n",
    "                exit(\"jpeg patch provider for satellite images cannot flatten image patches\")\n",
    "            group_providers.append(JpegPatchProvider(cov, size=patch_size))\n",
    "        elif '.tif' in cov:\n",
    "            group_providers.append(RasterPatchProvider(cov, size=patch_size, flatten=f))\n",
    "        else:\n",
    "            group_providers.append(MultipleRasterPatchProvider(cov, size=patch_size, flatten=f))\n",
    "\n",
    "    providers.append(group_providers)"
   ]
  },
  {
   "cell_type": "code",
   "execution_count": null,
   "metadata": {},
   "outputs": [],
   "source": [
    "train_data = MultiScalePatchesDatasetCooccurrences(occurrences=train_occ_path, providersA=providers[0], providersB=providers[1])"
   ]
  },
  {
   "cell_type": "code",
   "execution_count": null,
   "metadata": {},
   "outputs": [],
   "source": [
    "tmp = train_data[0]"
   ]
  },
  {
   "cell_type": "code",
   "execution_count": null,
   "metadata": {},
   "outputs": [],
   "source": []
  },
  {
   "cell_type": "code",
   "execution_count": null,
   "metadata": {},
   "outputs": [],
   "source": [
    "index = 0\n",
    "item = train_data.items.iloc[index][train_data.item_columns].to_dict()\n",
    "item_species = train_data.items.iloc[index][train_data.label_name]\n",
    "labels = 1 * np.isin(train_data.species, item_species)\n",
    "labels"
   ]
  },
  {
   "cell_type": "code",
   "execution_count": null,
   "metadata": {},
   "outputs": [],
   "source": []
  },
  {
   "cell_type": "code",
   "execution_count": null,
   "metadata": {},
   "outputs": [],
   "source": []
  },
  {
   "cell_type": "code",
   "execution_count": null,
   "metadata": {},
   "outputs": [],
   "source": []
  },
  {
   "cell_type": "code",
   "execution_count": null,
   "metadata": {},
   "outputs": [],
   "source": []
  },
  {
   "cell_type": "code",
   "execution_count": null,
   "metadata": {},
   "outputs": [],
   "source": [
    "next(iter(train_loader))"
   ]
  },
  {
   "cell_type": "code",
   "execution_count": null,
   "metadata": {},
   "outputs": [],
   "source": [
    "tmp = train_data[0]"
   ]
  },
  {
   "cell_type": "code",
   "execution_count": null,
   "metadata": {},
   "outputs": [],
   "source": [
    "tmp[1].shape"
   ]
  },
  {
   "cell_type": "code",
   "execution_count": null,
   "metadata": {},
   "outputs": [],
   "source": [
    "input_shapes = [input.shape for input in train_data[0][0]]\n",
    "n_species = train_data.n_species\n",
    "print(f\"input shape = {input_shapes}\")"
   ]
  },
  {
   "cell_type": "code",
   "execution_count": null,
   "metadata": {},
   "outputs": [],
   "source": [
    "n_max_low_occ = 50\n",
    "low_occ_species = train_data.species_counts[train_data.species_counts <= n_max_low_occ].index\n",
    "low_occ_species_idx = np.where(np.isin(train_data.species, low_occ_species))[0]\n",
    "print(f\"nb of species with less than {n_max_low_occ} occurrences = {len(low_occ_species_idx)}\")"
   ]
  },
  {
   "cell_type": "code",
   "execution_count": null,
   "metadata": {},
   "outputs": [],
   "source": [
    "val_data = MultiScalePatchesDatasetCooccurrences(occurrences=val_occ_path, providers=providers, species=train_data.species)"
   ]
  },
  {
   "cell_type": "code",
   "execution_count": null,
   "metadata": {},
   "outputs": [],
   "source": [
    "batch_size = 2\n",
    "train_loader = torch.utils.data.DataLoader(train_data, shuffle=True, batch_size=batch_size)\n",
    "val_loader = torch.utils.data.DataLoader(val_data, shuffle=False, batch_size=batch_size)"
   ]
  },
  {
   "cell_type": "code",
   "execution_count": null,
   "metadata": {},
   "outputs": [],
   "source": [
    "modelA = MLP(input_shapes[0][0], 512, 5, 1000)\n",
    "modelB = get_resnet(512)\n",
    "model = MultiScaleModel(modelA, modelB, 512, 512, n_species)"
   ]
  },
  {
   "cell_type": "code",
   "execution_count": null,
   "metadata": {},
   "outputs": [],
   "source": [
    "optimizer = torch.optim.SGD(model.parameters(), lr=1e-3)\n",
    "loss_fn = eval(loss)\n",
    "species_weights = torch.tensor(train_data.species_weights)\n",
    "val_loss_fn = torch.nn.BCELoss()"
   ]
  },
  {
   "cell_type": "code",
   "execution_count": null,
   "metadata": {},
   "outputs": [],
   "source": [
    "batch = next(iter(train_loader))"
   ]
  },
  {
   "cell_type": "code",
   "execution_count": null,
   "metadata": {},
   "outputs": [],
   "source": [
    "batch[0][0].shape"
   ]
  },
  {
   "cell_type": "code",
   "execution_count": null,
   "metadata": {},
   "outputs": [],
   "source": [
    "(inputsA, inputsB), labels = batch\n",
    "print(inputsA.shape, inputsB.shape, labels.shape)"
   ]
  },
  {
   "cell_type": "code",
   "execution_count": null,
   "metadata": {},
   "outputs": [],
   "source": [
    "inputsA = inputsA.to(torch.float32)\n",
    "inputsB = inputsB.to(torch.float32)\n",
    "out = model(inputsA, inputsB)"
   ]
  },
  {
   "cell_type": "code",
   "execution_count": null,
   "metadata": {},
   "outputs": [],
   "source": [
    "out = torch.sigmoid(out)"
   ]
  },
  {
   "cell_type": "code",
   "execution_count": null,
   "metadata": {},
   "outputs": [],
   "source": [
    "out.shape"
   ]
  },
  {
   "cell_type": "code",
   "execution_count": null,
   "metadata": {},
   "outputs": [],
   "source": [
    "1e-28 + 1e-05 * np.abs(p.nodata_value[0])"
   ]
  },
  {
   "cell_type": "code",
   "execution_count": null,
   "metadata": {},
   "outputs": [],
   "source": [
    "plt.imshow(np.where(np.isclose(p.data, p.nodata_value[0], atol=1e-8), np.nan, p.data)[0,3500:4000,3000:4000])"
   ]
  },
  {
   "cell_type": "code",
   "execution_count": null,
   "metadata": {},
   "outputs": [],
   "source": [
    "p_soil.rasters_providers[0].nodata_value"
   ]
  },
  {
   "cell_type": "code",
   "execution_count": null,
   "metadata": {},
   "outputs": [],
   "source": [
    "for p in p_bioclim.rasters_providers[1:]:\n",
    "    pseudoabsence_locations += np.where(p.data != 0, 1, 0)\n"
   ]
  },
  {
   "cell_type": "code",
   "execution_count": null,
   "metadata": {},
   "outputs": [],
   "source": [
    "np.sum(np.where(pseudoabsence_locations != 0, 1, 0))"
   ]
  },
  {
   "cell_type": "code",
   "execution_count": null,
   "metadata": {},
   "outputs": [],
   "source": [
    "5467*8143"
   ]
  },
  {
   "cell_type": "code",
   "execution_count": null,
   "metadata": {},
   "outputs": [],
   "source": [
    "for p in p_bioclim.rasters_providers:\n",
    "    print(f\"{p.name}: xmin={p.x_min} / ymin={p.y_min} / nrows={p.n_rows} / ncold={p.n_cols} / nlayers={p.nb_layers}\")"
   ]
  },
  {
   "cell_type": "code",
   "execution_count": null,
   "metadata": {},
   "outputs": [],
   "source": [
    "for p in p_soil.rasters_providers:\n",
    "    print(f\"{p.name}: xmin={p.x_min} / ymin={p.y_min} / nrows={p.n_rows} / ncold={p.n_cols} / nlayers={p.nb_layers}\")"
   ]
  },
  {
   "cell_type": "code",
   "execution_count": null,
   "metadata": {},
   "outputs": [],
   "source": [
    "# patch_size = 1\n",
    "# flatten = True \n",
    "# p_bioclim = MultipleRasterPatchProvider(bioclim_dir, size=patch_size, flatten=flatten) \n",
    "# p_soil = MultipleRasterPatchProvider(soil_dir, size=patch_size, flatten=flatten) \n",
    "# p_landcover = RasterPatchProvider(landcover_dir, size=patch_size, flatten=flatten)\n",
    "p_sat = JpegPatchProvider(sat_dir, size = 128)"
   ]
  },
  {
   "cell_type": "code",
   "execution_count": null,
   "metadata": {},
   "outputs": [],
   "source": [
    "train_data = PatchesDatasetCooccurrences(occurrences=po_path, providers=(p_sat))\n",
    "print(f\"\\nTRAINING DATA: n_items={len(train_data)}, n_species={len(train_data.species)}\")\n",
    "print(train_data[0][0].shape, train_data[0][1].shape)\n",
    "\n",
    "n_features = train_data[0][0].shape[0]\n",
    "n_species = len(train_data.species)\n",
    "print(f\"nb of features = {n_features}\")\n",
    "\n",
    "val_data = PatchesDatasetCooccurrences(occurrences=pa_path, providers=(p_sat), species=train_data.species)\n",
    "print(f\"\\nVALIDATION DATA: n_items={len(val_data)}, n_species={len(val_data.species)}\")\n",
    "print(val_data[0][0].shape, val_data[0][1].shape)"
   ]
  },
  {
   "cell_type": "code",
   "execution_count": null,
   "metadata": {},
   "outputs": [],
   "source": [
    "low_occ_species = train_data.species_counts[train_data.species_counts < 50].index\n",
    "low_occ_species"
   ]
  },
  {
   "cell_type": "code",
   "execution_count": null,
   "metadata": {},
   "outputs": [],
   "source": [
    "low_occ_species_idx = np.where(np.isin(train_data.species, low_occ_species))"
   ]
  },
  {
   "cell_type": "code",
   "execution_count": null,
   "metadata": {},
   "outputs": [],
   "source": [
    "low_occ_species_idx[0].shape"
   ]
  },
  {
   "cell_type": "code",
   "execution_count": null,
   "metadata": {},
   "outputs": [],
   "source": [
    "val_loader = torch.utils.data.DataLoader(val_data, shuffle=False, batch_size=1024)\n",
    "labels_list = []\n",
    "for inputs, labels in tqdm(val_loader):\n",
    "    labels_list.append(labels.numpy())\n",
    "labels = np.concatenate(labels_list)\n",
    "print(labels.shape)"
   ]
  },
  {
   "cell_type": "code",
   "execution_count": null,
   "metadata": {},
   "outputs": [],
   "source": [
    "labels[:, low_occ_species_idx].shape"
   ]
  },
  {
   "cell_type": "code",
   "execution_count": null,
   "metadata": {},
   "outputs": [],
   "source": [
    "pred = torch.rand(labels.shape).numpy()\n",
    "pred.shape"
   ]
  },
  {
   "cell_type": "code",
   "execution_count": null,
   "metadata": {},
   "outputs": [],
   "source": [
    "roc_auc_score(labels, pred)"
   ]
  },
  {
   "cell_type": "code",
   "execution_count": null,
   "metadata": {},
   "outputs": [],
   "source": [
    "roc_auc_score(labels[:, low_occ_species_idx], pred[:, low_occ_species_idx])"
   ]
  },
  {
   "cell_type": "code",
   "execution_count": null,
   "metadata": {},
   "outputs": [],
   "source": [
    ".shape"
   ]
  },
  {
   "cell_type": "code",
   "execution_count": null,
   "metadata": {},
   "outputs": [],
   "source": [
    "model = models.resnet18(weights='ResNet18_Weights.IMAGENET1K_V1')\n",
    "weights = model.conv1.weight.data.clone()\n",
    "model.conv1 = torch.nn.Conv2d(6, 64, kernel_size=(7,7), stride=(2,2),\n",
    "                              padding=(3,3), bias=False)\n",
    "# first three bands are RGB\n",
    "model.conv1.weight.data[:, :3, :, :] = weights"
   ]
  },
  {
   "cell_type": "code",
   "execution_count": null,
   "metadata": {},
   "outputs": [],
   "source": [
    "model.conv1.weight.data.size()"
   ]
  },
  {
   "cell_type": "code",
   "execution_count": null,
   "metadata": {},
   "outputs": [],
   "source": [
    "model.conv1.weight.data[:, 3:, :, :].size()"
   ]
  },
  {
   "cell_type": "code",
   "execution_count": null,
   "metadata": {},
   "outputs": [],
   "source": [
    "weights[:,0,:,:].repeat((3,1,1,1)).reshape((64,3,7,7))[0,:,:,0]"
   ]
  },
  {
   "cell_type": "code",
   "execution_count": null,
   "metadata": {},
   "outputs": [],
   "source": [
    "weights[0,0,:,0]"
   ]
  },
  {
   "cell_type": "code",
   "execution_count": null,
   "metadata": {},
   "outputs": [],
   "source": [
    "model = models.resnet18(weights='ResNet18_Weights.IMAGENET1K_V1')\n",
    "weights = model.conv1.weight.data.clone()\n",
    "model.conv1 = torch.nn.Conv2d(len(p_sat.bands_names), 64, kernel_size=(7,7), stride=(2,2),\n",
    "                              padding=(3,3), bias=False)\n",
    "# first three bands are RGB\n",
    "model.conv1.weight.data[:, :3, :, :] = weights\n",
    "# initialize weights for 4th band (NIR) to pretrained weights for R\n",
    "model.conv1.weight.data[:,-1,:,:] = weights[:,0,:,:]\n",
    "model.fc = torch.nn.Linear(512, n_species)"
   ]
  },
  {
   "cell_type": "code",
   "execution_count": null,
   "metadata": {},
   "outputs": [],
   "source": [
    "train_loader = torch.utils.data.DataLoader(train_data, shuffle=True, batch_size=100)\n",
    "optimizer = torch.optim.SGD(model.parameters(), lr=1e-3)\n",
    "loss_fn = torch.nn.BCELoss()"
   ]
  },
  {
   "cell_type": "code",
   "execution_count": null,
   "metadata": {},
   "outputs": [],
   "source": [
    "for inputs, labels in train_loader:\n",
    "    print('-----------------------')\n",
    "    inputs = inputs.to(torch.float32)\n",
    "    labels = labels.to(torch.float32)\n",
    "\n",
    "    print(inputs.size())\n",
    "    print(labels.size())\n",
    "    pred = model(inputs)\n",
    "    print(pred.size())\n",
    "    pred_sigmoid = torch.sigmoid(pred)\n",
    "    loss = loss_fn(pred_sigmoid, labels)\n",
    "    print(loss)\n",
    "    optimizer.zero_grad()\n",
    "    loss.backward()\n",
    "    optimizer.step()"
   ]
  },
  {
   "cell_type": "code",
   "execution_count": null,
   "metadata": {},
   "outputs": [],
   "source": [
    "img = (img - p_sat.stats[folder]['mean']) / p_sat.stats[folder]['std']\n",
    "img[0:4,0:4]"
   ]
  },
  {
   "cell_type": "code",
   "execution_count": null,
   "metadata": {},
   "outputs": [],
   "source": [
    "(122-77.3)/25.6\n",
    "# [[140, 134, 122],\n",
    "# [130, 124, 110],\n",
    "# [126, 118, 105],\n",
    "# [131, 123, 110]]]\n",
    "\n",
    "# {'rgb': {'mean': array([85.53290863, 89.00972544, 77.32355934]),\n",
    "#   'std': array([28.46643494, 25.3613768 , 25.57295764])},"
   ]
  },
  {
   "cell_type": "code",
   "execution_count": null,
   "metadata": {},
   "outputs": [],
   "source": [
    "\n",
    "        tensor_list = []\n",
    "        for folder in set([self.channel_folder[x] for x in self.channels]):\n",
    "            path = os.path.join(self.root_path, folder, sub_folder_1, sub_folder_2, patch_id+self.ext)\n",
    "            img = np.asarray(Image.open(path))\n",
    "            if self.normalize:\n",
    "                img = (img - self.stats[folder]['mean']) / self.stats[folder]['std']\n",
    "            if folder == 'rgb':\n",
    "                img = img.transpose((2,0,1))\n",
    "            else:\n",
    "                img = np.expand_dims(img, axis=0)\n",
    "            tensor_list.append(img)\n",
    "\n",
    "        tensor = np.concatenate(tensor_list)   "
   ]
  },
  {
   "cell_type": "code",
   "execution_count": null,
   "metadata": {},
   "outputs": [],
   "source": [
    "n_layers=5\n",
    "width=1000\n",
    "learning_rate = 1e-3\n",
    "\n",
    "checkpoint = torch.load(f\"models/0129_MLP_env_1x1_an_slds/last.pth\") \n",
    "model = MLP(n_features, n_species, n_layers, width).to(dev)\n",
    "model.load_state_dict(checkpoint['state_dict'])\n",
    "\n",
    "optimizer = torch.optim.SGD(model.parameters(), lr=learning_rate)\n",
    "optimizer.load_state_dict(checkpoint['optimizer_state_dict'])"
   ]
  },
  {
   "cell_type": "code",
   "execution_count": null,
   "metadata": {},
   "outputs": [],
   "source": [
    "batch_size = 100\n",
    "val_loader = torch.utils.data.DataLoader(val_data, shuffle=False, batch_size=batch_size)"
   ]
  },
  {
   "cell_type": "code",
   "execution_count": null,
   "metadata": {},
   "outputs": [],
   "source": [
    "model.eval()\n",
    "for inputs, labels in tqdm(val_loader):\n",
    "\n",
    "    inputs = inputs.to(torch.float32).to(dev)\n",
    "    labels = labels.to(torch.float32).to(dev) \n",
    "\n",
    "    y_pred = model(inputs)\n",
    "    y_pred_sigmoid = torch.sigmoid(y_pred)\n",
    "    break"
   ]
  },
  {
   "cell_type": "code",
   "execution_count": null,
   "metadata": {},
   "outputs": [],
   "source": [
    "from util import full_weighted_loss, log_loss, an_slds_loss"
   ]
  },
  {
   "cell_type": "code",
   "execution_count": null,
   "metadata": {},
   "outputs": [],
   "source": [
    "site_loss = ((log_loss(y_pred_sigmoid) * labels) + (log_loss(1 - y_pred_sigmoid) * (1 - labels))).sum(axis=1)\n",
    "site_loss"
   ]
  },
  {
   "cell_type": "code",
   "execution_count": null,
   "metadata": {},
   "outputs": [],
   "source": [
    "site_weight = 1 / (labels.sum(axis=1) + 1e-5)\n",
    "site_weight"
   ]
  },
  {
   "cell_type": "code",
   "execution_count": null,
   "metadata": {},
   "outputs": [],
   "source": [
    "(site_loss * site_weight)"
   ]
  },
  {
   "cell_type": "code",
   "execution_count": null,
   "metadata": {},
   "outputs": [],
   "source": [
    "labels.sum(axis=1)"
   ]
  },
  {
   "cell_type": "code",
   "execution_count": null,
   "metadata": {},
   "outputs": [],
   "source": [
    "((log_loss(y_pred_sigmoid) * labels) + (log_loss(1 - y_pred_sigmoid) * (1 - labels))).size()"
   ]
  },
  {
   "cell_type": "code",
   "execution_count": null,
   "metadata": {},
   "outputs": [],
   "source": [
    "torch.transpose((1/labels.sum(axis=1)).repeat((970,1)), 0, 1).size()"
   ]
  },
  {
   "cell_type": "code",
   "execution_count": null,
   "metadata": {},
   "outputs": [],
   "source": [
    "y_pred_sigmoid = torch.sigmoid(y_pred)"
   ]
  },
  {
   "cell_type": "code",
   "execution_count": null,
   "metadata": {},
   "outputs": [],
   "source": [
    "((log_loss(y_pred_sigmoid) * labels) + (log_loss(1 - y_pred_sigmoid) * (1 - labels)))"
   ]
  },
  {
   "cell_type": "code",
   "execution_count": null,
   "metadata": {},
   "outputs": [],
   "source": [
    "per_site_loss = ((log_loss(y_pred_sigmoid) * labels) + (log_loss(1 - y_pred_sigmoid) * (1 - labels))) * torch.transpose((1/labels.sum(axis=1)).repeat((970,1)), 0, 1)"
   ]
  },
  {
   "cell_type": "code",
   "execution_count": null,
   "metadata": {},
   "outputs": [],
   "source": [
    "((log_loss(y_pred_sigmoid) * labels) + (log_loss(1 - y_pred_sigmoid) * (1 - labels))).sum(axis=1).size()"
   ]
  },
  {
   "cell_type": "code",
   "execution_count": null,
   "metadata": {},
   "outputs": [],
   "source": [
    "(1/labels.sum(axis=1)).size()"
   ]
  },
  {
   "cell_type": "code",
   "execution_count": null,
   "metadata": {},
   "outputs": [],
   "source": [
    "site_loss = ((log_loss(y_pred_sigmoid) * labels) + (log_loss(1 - y_pred_sigmoid) * (1 - labels))).sum(axis=1)\n",
    "site_weight = (1/labels.sum(axis=1))\n",
    "print(site_loss.size(), site_weight.size())"
   ]
  },
  {
   "cell_type": "code",
   "execution_count": null,
   "metadata": {},
   "outputs": [],
   "source": [
    "(site_loss * site_weight).mean()"
   ]
  },
  {
   "cell_type": "code",
   "execution_count": null,
   "metadata": {},
   "outputs": [],
   "source": [
    "per_site_loss.sum() "
   ]
  },
  {
   "cell_type": "code",
   "execution_count": null,
   "metadata": {},
   "outputs": [],
   "source": [
    "species_weights = torch.tensor(train_data.species_weights)\n",
    "species_weights.size()"
   ]
  },
  {
   "cell_type": "code",
   "execution_count": null,
   "metadata": {},
   "outputs": [],
   "source": [
    "(log_loss(pred) * labels).shape# * species_weights.repeat((batch_size, 1))).mean()\n"
   ]
  },
  {
   "cell_type": "code",
   "execution_count": null,
   "metadata": {},
   "outputs": [],
   "source": [
    "pred * labels"
   ]
  },
  {
   "cell_type": "code",
   "execution_count": null,
   "metadata": {},
   "outputs": [],
   "source": [
    "np.ones(labels.shape[1]).shape"
   ]
  },
  {
   "cell_type": "code",
   "execution_count": null,
   "metadata": {},
   "outputs": [],
   "source": [
    "labels.shape"
   ]
  },
  {
   "cell_type": "code",
   "execution_count": null,
   "metadata": {},
   "outputs": [],
   "source": [
    "species_weights = torch.tensor(train_data.species_weights.values)"
   ]
  },
  {
   "cell_type": "code",
   "execution_count": null,
   "metadata": {},
   "outputs": [],
   "source": [
    "species_weights.repeat((100,1)).size()"
   ]
  },
  {
   "cell_type": "code",
   "execution_count": null,
   "metadata": {},
   "outputs": [],
   "source": [
    "species_weights"
   ]
  },
  {
   "cell_type": "code",
   "execution_count": null,
   "metadata": {},
   "outputs": [],
   "source": [
    "(species_weights/(species_weights-1)).repeat((batch_size,1)).size()"
   ]
  },
  {
   "cell_type": "code",
   "execution_count": null,
   "metadata": {},
   "outputs": [],
   "source": [
    "index = 0 \n",
    "item_columns=['lat','lon','patchID','dayOfYear']\n",
    "train_data.items.iloc[index][item_columns].to_dict()"
   ]
  },
  {
   "cell_type": "code",
   "execution_count": null,
   "metadata": {},
   "outputs": [],
   "source": [
    "train_data.items.iloc[index]['speciesId']"
   ]
  },
  {
   "cell_type": "code",
   "execution_count": null,
   "metadata": {},
   "outputs": [],
   "source": [
    "for inputs, labels in tqdm(train_loader):\n",
    "    print(inputs.shape, labels.shape)"
   ]
  },
  {
   "cell_type": "code",
   "execution_count": null,
   "metadata": {},
   "outputs": [],
   "source": [
    "img.shape"
   ]
  },
  {
   "cell_type": "code",
   "execution_count": null,
   "metadata": {},
   "outputs": [],
   "source": [
    "img[:,0:2,0:2]"
   ]
  },
  {
   "cell_type": "code",
   "execution_count": null,
   "metadata": {},
   "outputs": [],
   "source": [
    "((img - stats[folder]['mean']) / stats[folder]['std'])[:,0:2,0:2]"
   ]
  },
  {
   "cell_type": "code",
   "execution_count": null,
   "metadata": {},
   "outputs": [],
   "source": [
    "img_shape = np.array(Image.open(files[0], mode='r')).shape \n",
    "dims = len(img_shape)\n",
    "dims"
   ]
  },
  {
   "cell_type": "code",
   "execution_count": null,
   "metadata": {},
   "outputs": [],
   "source": [
    "img_shape"
   ]
  },
  {
   "cell_type": "code",
   "execution_count": null,
   "metadata": {},
   "outputs": [],
   "source": [
    "sums = np.array([0.0] * img_shape[2]) if dims == 3 else np.array([0.0])\n",
    "n_terms = 0\n",
    "\n",
    "for f in files:\n",
    "    img = np.array(Image.open(f, mode='r'))\n",
    "    nans = np.sum(np.isnan(img))\n",
    "    if nans != 0: \n",
    "        print(f)\n",
    "        break\n",
    "    img_sum = np.sum(img, axis=(0,1))\n",
    "    sums += img_sum\n",
    "    n_terms += img.shape[0] * img.shape[1]"
   ]
  },
  {
   "cell_type": "code",
   "execution_count": null,
   "metadata": {},
   "outputs": [],
   "source": [
    "sums"
   ]
  },
  {
   "cell_type": "code",
   "execution_count": null,
   "metadata": {},
   "outputs": [],
   "source": [
    "means = sums / n_terms\n",
    "means"
   ]
  },
  {
   "cell_type": "code",
   "execution_count": null,
   "metadata": {},
   "outputs": [],
   "source": [
    "pd.DataFrame({'mean': means}).to_csv('data/sample_data/SatelliteImages/rgb_means.csv', index=False)"
   ]
  },
  {
   "cell_type": "code",
   "execution_count": null,
   "metadata": {},
   "outputs": [],
   "source": [
    "means = pd.read_csv('data/sample_data/SatelliteImages/rgb_means.csv')\n",
    "means = np.array(means['mean'])\n",
    "means"
   ]
  },
  {
   "cell_type": "code",
   "execution_count": null,
   "metadata": {},
   "outputs": [],
   "source": [
    "sums = np.array([0.0] * img_shape[2]) if dims == 3 else np.array([0.0])\n",
    "n_terms = 0\n",
    "\n",
    "for f in files:\n",
    "    img = np.array(Image.open(f, mode='r'))\n",
    "    sum_dev_mean = np.sum(np.power(img - means, 2), axis=(0,1))\n",
    "    sums += sum_dev_mean\n",
    "    n_terms += img.shape[0] * img.shape[1]    "
   ]
  },
  {
   "cell_type": "code",
   "execution_count": null,
   "metadata": {},
   "outputs": [],
   "source": [
    "std_devs = np.power(sums / n_terms, 0.5)\n",
    "std_devs"
   ]
  },
  {
   "cell_type": "code",
   "execution_count": null,
   "metadata": {},
   "outputs": [],
   "source": [
    "pd.DataFrame({'std_dev': std_devs}).to_csv('data/sample_data/SatelliteImages/rgb_std_devs.csv', index=False)"
   ]
  },
  {
   "cell_type": "code",
   "execution_count": null,
   "metadata": {},
   "outputs": [],
   "source": [
    "datadir = 'data/full_data/'\n",
    "bioclim_dir = datadir+'EnvironmentalRasters/Climate/BioClimatic_Average_1981-2010/'\n",
    "soil_dir = datadir+'EnvironmentalRasters/Soilgrids/'\n",
    "po_path = datadir+'Presence_only_occurrences/Presences_only_train_sampled_10_percent_min_100_occurrences.csv' #Presences_only_train_sampled_25_percent_min_10_occurrences.csv'\n",
    "pa_path = datadir+'Presence_Absence_surveys/Presences_Absences_train.csv'"
   ]
  },
  {
   "cell_type": "code",
   "execution_count": null,
   "metadata": {},
   "outputs": [],
   "source": [
    "occurrences=po_path\n",
    "label_name='speciesId'\n",
    "item_columns=['lat','lon','patchID','dayOfYear']\n",
    "df = pd.read_csv(occurrences, sep=\";\", header='infer', low_memory=False)\n",
    "items = pd.DataFrame(df.groupby(item_columns)[label_name].agg(list)).reset_index()"
   ]
  },
  {
   "cell_type": "code",
   "execution_count": null,
   "metadata": {},
   "outputs": [],
   "source": [
    "root_path = sat_dir\n",
    "ext = '.jpeg'\n",
    "sub_dirs = next(os.walk(root_path))[1]\n",
    "select = [x for x in ['rgb','nir'] if x in sub_dirs]\n",
    "channels = ['red','green','blue'] + [x for x in select if x != 'rgb']\n",
    "channel_folder = {'red': 'rgb', 'green': 'rgb', 'blue': 'rgb','nir':'nir'}"
   ]
  },
  {
   "cell_type": "code",
   "execution_count": null,
   "metadata": {},
   "outputs": [],
   "source": [
    "item = items.iloc[0][item_columns].to_dict()\n",
    "patch_id = str(int(item['patchID']))\n",
    "sub_folder_1 = patch_id[-2:]\n",
    "sub_folder_2 = patch_id[-4:-2]"
   ]
  },
  {
   "cell_type": "code",
   "execution_count": null,
   "metadata": {},
   "outputs": [],
   "source": [
    "for folder in set([channel_folder[x] for x in channels]):\n",
    "    path = os.path.join(root_path, folder, sub_folder_1, sub_folder_2, patch_id+ext)\n",
    "    print(folder, path)\n",
    "    \n",
    "    img = np.asarray(Image.open(path))\n",
    "    if folder == 'rgb':\n",
    "        img = img.transpose((2,0,1))\n",
    "    else:\n",
    "        img = np.expand_dims(img, axis=0)\n",
    "    \n",
    "    stats_path = os.path.join(root_path, folder+'_stats.csv')\n",
    "    print(stats_path)\n",
    "    stats = pd.read_csv(stats_path, sep=';', index_col=0)\n",
    "    #mean, std = df.loc[0, 'mean'], df.loc[0, 'std']\n",
    "                #     img = (img-mean)/std"
   ]
  },
  {
   "cell_type": "code",
   "execution_count": null,
   "metadata": {},
   "outputs": [],
   "source": [
    "stats"
   ]
  },
  {
   "cell_type": "code",
   "execution_count": null,
   "metadata": {},
   "outputs": [],
   "source": [
    "img.shape"
   ]
  },
  {
   "cell_type": "code",
   "execution_count": null,
   "metadata": {},
   "outputs": [],
   "source": [
    "img[:,0:3,0:3]"
   ]
  },
  {
   "cell_type": "code",
   "execution_count": null,
   "metadata": {},
   "outputs": [],
   "source": [
    "for i in range(img.shape[0]):\n",
    "    img[i,:,:] = img[i,:,:] - stats.loc[i,'mean']"
   ]
  },
  {
   "cell_type": "code",
   "execution_count": null,
   "metadata": {},
   "outputs": [],
   "source": [
    "stats = pd.DataFrame({\n",
    "    'mean': np.nanmean(imgs,axis=(0,2,3)),\n",
    "    'std': np.nanstd(imgs,axis=(0,2,3))\n",
    "})\n",
    "stats\n"
   ]
  },
  {
   "cell_type": "code",
   "execution_count": null,
   "metadata": {},
   "outputs": [],
   "source": [
    "re_imgs = imgs.reshape(3,100,128,128)\n",
    "re_imgs[:, 0, 0:3, 0:3]"
   ]
  },
  {
   "cell_type": "code",
   "execution_count": null,
   "metadata": {},
   "outputs": [],
   "source": [
    "train_data = MultiScalePatchesDatasetCooccurrences(\n",
    "    occurrences=po_path, \n",
    "    providers=((p_bioclim, p_soil))\n",
    ")"
   ]
  },
  {
   "cell_type": "code",
   "execution_count": null,
   "metadata": {},
   "outputs": [],
   "source": [
    "providers = (p_bioclim, p_soil, p_sat)\n",
    "patch_sizes = [p.patch_size for p in providers]\n",
    "patch_sizes"
   ]
  },
  {
   "cell_type": "code",
   "execution_count": null,
   "metadata": {},
   "outputs": [],
   "source": [
    "train_data[0][0]"
   ]
  },
  {
   "cell_type": "code",
   "execution_count": null,
   "metadata": {},
   "outputs": [],
   "source": [
    "unique_patch_sizes = list(set(patch_sizes))\n",
    "providers_grouped = []\n",
    "for patch_size in unique_patch_sizes:\n"
   ]
  },
  {
   "cell_type": "code",
   "execution_count": null,
   "metadata": {},
   "outputs": [],
   "source": [
    "len(train_data[0][0])"
   ]
  },
  {
   "cell_type": "code",
   "execution_count": null,
   "metadata": {},
   "outputs": [],
   "source": [
    "train_data[0][0][0].shape"
   ]
  },
  {
   "cell_type": "code",
   "execution_count": null,
   "metadata": {},
   "outputs": [],
   "source": [
    "train_data[0][0][1].shape"
   ]
  },
  {
   "cell_type": "code",
   "execution_count": null,
   "metadata": {},
   "outputs": [],
   "source": [
    "train_data.n_groups"
   ]
  },
  {
   "cell_type": "code",
   "execution_count": null,
   "metadata": {},
   "outputs": [],
   "source": [
    "batch_size = 10\n",
    "train_loader = torch.utils.data.DataLoader(train_data, shuffle=True, batch_size=batch_size)"
   ]
  },
  {
   "cell_type": "code",
   "execution_count": null,
   "metadata": {},
   "outputs": [],
   "source": [
    "for inputs, labels in tqdm(train_loader):\n",
    "    inputs = inputs#.to(torch.float32)\n",
    "    labels = labels#.to(torch.float32)\n",
    "    break\n",
    "\n",
    "    env = inputs[0].to(torch.float32)\n",
    "    sat = inputs[1].to(torch.float32)\n",
    "\n",
    "    print(len(inputs))\n",
    "    print(labels.shape)\n",
    "\n",
    "    env_vars = inputs[0]\n",
    "    sat_vars = inputs[1]\n",
    "    print(env_vars.shape, sat_vars.shape)\n",
    "\n",
    "    break\n",
    "#1m32s for ((p_bioclim, p_soil), (p_sat))"
   ]
  },
  {
   "cell_type": "code",
   "execution_count": null,
   "metadata": {},
   "outputs": [],
   "source": [
    "env = inputs[0].to(torch.float32)\n",
    "sat = inputs[1].to(torch.float32)\n",
    "print(env.shape, sat.shape)"
   ]
  },
  {
   "cell_type": "code",
   "execution_count": null,
   "metadata": {},
   "outputs": [],
   "source": [
    "labels.shape"
   ]
  },
  {
   "cell_type": "code",
   "execution_count": null,
   "metadata": {},
   "outputs": [],
   "source": [
    "sat_img = train_data[0][0][1]"
   ]
  },
  {
   "cell_type": "code",
   "execution_count": null,
   "metadata": {},
   "outputs": [],
   "source": [
    "labels = train_data[0][1]"
   ]
  },
  {
   "cell_type": "code",
   "execution_count": null,
   "metadata": {},
   "outputs": [],
   "source": [
    "occurrences=po_path\n",
    "label_name='speciesId'\n",
    "item_columns=['lat','lon','patchID','dayOfYear']\n",
    "df = pd.read_csv(occurrences, sep=\";\", header='infer', low_memory=False)\n",
    "species = np.unique(df[label_name].values)\n",
    "items = pd.DataFrame(df.groupby(item_columns)[label_name].agg(list)).reset_index()\n",
    "providers = ((p_bioclim, p_soil), (p_sat))"
   ]
  },
  {
   "cell_type": "code",
   "execution_count": null,
   "metadata": {},
   "outputs": [],
   "source": [
    "patch_sizes = []\n",
    "one_provider_in_group = []\n",
    "for provider in providers:\n",
    "    try:\n",
    "        patch_sizes.append(provider.patch_size)\n",
    "        one_provider_in_group.append(True)\n",
    "    except:\n",
    "        group_patch_sizes = [p.patch_size for p in provider]\n",
    "        print('group', group_patch_sizes)\n",
    "        assert len(set(group_patch_sizes)) == 1\n",
    "        patch_sizes.append(group_patch_sizes[0])\n",
    "        one_provider_in_group.append(False)\n",
    "print(patch_sizes)\n",
    "print(one_provider_in_group)\n",
    "\n",
    "        "
   ]
  },
  {
   "cell_type": "code",
   "execution_count": null,
   "metadata": {},
   "outputs": [],
   "source": [
    "provider_list = [MetaPatchProvider(p, one_provider=one_p) for p, one_p in zip(providers, one_provider_in_group)]\n",
    "    "
   ]
  },
  {
   "cell_type": "code",
   "execution_count": null,
   "metadata": {},
   "outputs": [],
   "source": [
    "# get item\n",
    "item = items.iloc[0][item_columns].to_dict()\n",
    "item"
   ]
  },
  {
   "cell_type": "code",
   "execution_count": null,
   "metadata": {},
   "outputs": [],
   "source": [
    "patches = []\n",
    "for p in provider_list:\n",
    "    patch = p[item]\n",
    "    print(patch.shape)\n",
    "    patches.append(patch)"
   ]
  },
  {
   "cell_type": "code",
   "execution_count": null,
   "metadata": {},
   "outputs": [],
   "source": [
    "env = patches[0]\n",
    "rgb = patches[1]"
   ]
  },
  {
   "cell_type": "code",
   "execution_count": null,
   "metadata": {},
   "outputs": [],
   "source": [
    "for pro in p:\n",
    "    print(str(pro))"
   ]
  },
  {
   "cell_type": "code",
   "execution_count": null,
   "metadata": {},
   "outputs": [],
   "source": [
    "MetaPatchProvider(p_sat, one_provider=True)"
   ]
  },
  {
   "cell_type": "code",
   "execution_count": null,
   "metadata": {},
   "outputs": [],
   "source": [
    "MetaPatchProvider(providers[1], one_provider=True)"
   ]
  },
  {
   "cell_type": "code",
   "execution_count": null,
   "metadata": {},
   "outputs": [],
   "source": [
    "MetaPatchProvider(providers[0])"
   ]
  },
  {
   "cell_type": "code",
   "execution_count": null,
   "metadata": {},
   "outputs": [],
   "source": [
    "provider_patch_sizes = [p.patch_size for p in providers]\n",
    "provider_patch_sizes"
   ]
  },
  {
   "cell_type": "code",
   "execution_count": null,
   "metadata": {},
   "outputs": [],
   "source": [
    "unique_patch_sizes = list(set(provider_patch_sizes))\n",
    "num_patch_sizes = len(unique_patch_sizes)"
   ]
  },
  {
   "cell_type": "code",
   "execution_count": null,
   "metadata": {},
   "outputs": [],
   "source": [
    "for p in unique_patch_sizes:\n",
    "    idx = list(np.where(np.array(provider_patch_sizes) == p)[0])\n",
    "    print('--------------------------------------------')\n",
    "    print(p, idx)\n",
    "    one_provider = True if len(idx)==1 else False\n",
    "    meta_p = MetaPatchProvider((providers[i] for i in idx), one_provider)\n",
    "    print(meta_p)\n"
   ]
  },
  {
   "cell_type": "code",
   "execution_count": null,
   "metadata": {},
   "outputs": [],
   "source": []
  },
  {
   "cell_type": "code",
   "execution_count": null,
   "metadata": {},
   "outputs": [],
   "source": [
    "root_path = sat_dir\n",
    "sub_dirs = next(os.walk(root_path))[1]\n",
    "sub_dirs"
   ]
  },
  {
   "cell_type": "code",
   "execution_count": null,
   "metadata": {},
   "outputs": [],
   "source": [
    "# Dataset\n",
    "train_data = PatchesDataset(occurrences=po_path, providers=(p_bioclim, p_soil, p_sat))\n",
    "occurrences=po_path\n",
    "#providers=(p_bioclim, p_soil)\n",
    "label_name='speciesId'\n",
    "item_columns=['lat','lon','patchID','dayOfYear']\n",
    "df = pd.read_csv(occurrences, sep=\";\", header='infer', low_memory=False)\n",
    "species = np.unique(df[label_name].values)\n",
    "items = df[item_columns + [label_name]]"
   ]
  },
  {
   "cell_type": "code",
   "execution_count": null,
   "metadata": {},
   "outputs": [],
   "source": [
    "index = 0\n",
    "item = items.iloc[index][item_columns].to_dict()\n",
    "item"
   ]
  },
  {
   "cell_type": "code",
   "execution_count": null,
   "metadata": {},
   "outputs": [],
   "source": [
    "patch_id = str(int(item['patchID']))\n",
    "sub_folder_1 = patch_id[-2:]\n",
    "sub_folder_2 = patch_id[-4:-2]\n",
    "ext = '.jpeg'\n",
    "patch_id"
   ]
  },
  {
   "cell_type": "code",
   "execution_count": null,
   "metadata": {},
   "outputs": [],
   "source": [
    "root_path = 'data/sample_data/SatelliteImages/'\n",
    "channel_folder = {'red': 'rgb', 'green': 'rgb', 'blue': 'rgb','nir':'nir'}"
   ]
  },
  {
   "cell_type": "code",
   "execution_count": null,
   "metadata": {},
   "outputs": [],
   "source": [
    "folder = 'rgb'\n",
    "path = os.path.join(root_path, folder, sub_folder_1, sub_folder_2, patch_id+ext)\n",
    "img = np.asarray(Image.open(path)) \n",
    "img = img.transpose((2,0,1))\n",
    "img.shape"
   ]
  },
  {
   "cell_type": "code",
   "execution_count": null,
   "metadata": {},
   "outputs": [],
   "source": [
    "img[0].shape[1]"
   ]
  },
  {
   "cell_type": "code",
   "execution_count": null,
   "metadata": {},
   "outputs": [],
   "source": []
  },
  {
   "cell_type": "code",
   "execution_count": null,
   "metadata": {},
   "outputs": [],
   "source": [
    "list_tensor = {'order': [], 'tensors':[]}\n",
    "for channel, channel_filename in channels_dict.items():\n",
    "    print(channel)\n",
    "    if channel not in list_tensor['order']:\n",
    "        path = os.path.join(root_path, channel_filename, sub_folder_1, sub_folder_2, patch_id+ext)\n",
    "        print(path)\n",
    "        img = np.asarray(Image.open(path))\n",
    "        print(img.shape)\n",
    "        if channel in ['red','green','blue']:\n",
    "            img = img.transpose((2,0,1))\n",
    "            print(img.shape)"
   ]
  },
  {
   "cell_type": "code",
   "execution_count": null,
   "metadata": {},
   "outputs": [],
   "source": [
    "patch_id = str(int(item['patchID']))\n",
    "rgb_path = f\"{self.rgbnir_dir}rgb/{patch_id[-2:]}/{patch_id[-4:-2]}/{patch_id}.jpeg\"\n",
    "rgb_img = (np.asarray(Image.open(rgb_path)) / 255.0).transpose((2,0,1))\n",
    "\n",
    "nir_path = f\"{self.rgbnir_dir}nir/{patch_id[-2:]}/{patch_id[-4:-2]}/{patch_id}.jpeg\"\n",
    "nir_img = np.expand_dims(np.asarray(Image.open(nir_path)) / 255.0, axis=0)\n",
    "\n",
    "rgbnir = np.concatenate([rgb_img, nir_img])\n",
    "if self.rgbnir_patch_size != 128:\n",
    "    rgbnir = rgbnir[:, round((rgbnir[0].shape[0] - self.rgbnir_patch_size) /2):round((rgbnir[0].shape[0] + self.rgbnir_patch_size) /2),\n",
    "                                    round((rgbnir[0].shape[1] - self.rgbnir_patch_size) /2):round((rgbnir[0].shape[1] + self.rgbnir_patch_size) /2)]\n",
    "     "
   ]
  },
  {
   "cell_type": "code",
   "execution_count": null,
   "metadata": {},
   "outputs": [],
   "source": [
    "items[1]"
   ]
  },
  {
   "cell_type": "code",
   "execution_count": null,
   "metadata": {},
   "outputs": [],
   "source": [
    "#class JpegPatchProvider(PatchProvider)\n",
    "# init\n"
   ]
  },
  {
   "cell_type": "code",
   "execution_count": null,
   "metadata": {},
   "outputs": [],
   "source": [
    "print(len(train_data.species), train_data.species[0:10])"
   ]
  },
  {
   "cell_type": "code",
   "execution_count": null,
   "metadata": {},
   "outputs": [],
   "source": [
    "label_name='speciesId'\n",
    "item_columns=['lat','lon','patchID','dayOfYear']\n",
    "df = pd.read_csv(po_path, sep=\";\", header='infer', low_memory=False)\n",
    "species = train_data.species\n",
    "items = df[item_columns + [label_name]]\n",
    "items.shape"
   ]
  },
  {
   "cell_type": "code",
   "execution_count": null,
   "metadata": {},
   "outputs": [],
   "source": [
    "items2 = pd.DataFrame(df.groupby(item_columns)[label_name].agg(list)).reset_index()\n",
    "items2"
   ]
  },
  {
   "cell_type": "code",
   "execution_count": null,
   "metadata": {},
   "outputs": [],
   "source": [
    "counts = df.groupby(item_columns)[label_name].count()\n",
    "counts"
   ]
  },
  {
   "cell_type": "code",
   "execution_count": null,
   "metadata": {},
   "outputs": [],
   "source": [
    "counts[counts > 5]"
   ]
  },
  {
   "cell_type": "code",
   "execution_count": null,
   "metadata": {},
   "outputs": [],
   "source": [
    "count = 0\n",
    "for index in range(items2.shape[0]):\n",
    "    item = items2.iloc[index][item_columns].to_dict()\n",
    "    item_sps = items2.iloc[index][label_name]\n",
    "    labels = 1 * np.isin(species, item_sps)\n",
    "    if np.sum(labels) == 0:\n",
    "        print('!!!!!!!!', index)\n",
    "        count += 1\n"
   ]
  },
  {
   "cell_type": "code",
   "execution_count": null,
   "metadata": {},
   "outputs": [],
   "source": [
    "count"
   ]
  },
  {
   "cell_type": "code",
   "execution_count": null,
   "metadata": {},
   "outputs": [],
   "source": [
    "index = 0\n",
    "item = items2.iloc[index][item_columns].to_dict()\n",
    "item"
   ]
  },
  {
   "cell_type": "code",
   "execution_count": null,
   "metadata": {},
   "outputs": [],
   "source": [
    "item_sps = items2.iloc[index][label_name]\n",
    "print(len(item_sps), item_sps)"
   ]
  },
  {
   "cell_type": "code",
   "execution_count": null,
   "metadata": {},
   "outputs": [],
   "source": [
    "labels = 1 * np.isin(species, item_sps)\n",
    "labels_f = 1 * np.isin(species, item_sps_f)"
   ]
  },
  {
   "cell_type": "code",
   "execution_count": null,
   "metadata": {},
   "outputs": [],
   "source": [
    "np.all(labels == labels_f)"
   ]
  },
  {
   "cell_type": "code",
   "execution_count": null,
   "metadata": {},
   "outputs": [],
   "source": [
    "print(np.sum(labels), np.sum(labels_f))"
   ]
  },
  {
   "cell_type": "code",
   "execution_count": null,
   "metadata": {},
   "outputs": [],
   "source": [
    "items[~items['speciesId'].isin(species)]"
   ]
  },
  {
   "cell_type": "code",
   "execution_count": null,
   "metadata": {},
   "outputs": [],
   "source": [
    "index = 447\n",
    "item = items.iloc[index][item_columns].to_dict()\n",
    "item_species = items.query(\n",
    "    ' and '.join([f'{k} == {v}' for k, v in item.items()])\n",
    ")[label_name].values\n",
    "labels = 1 * np.isin(species, item_species)"
   ]
  },
  {
   "cell_type": "code",
   "execution_count": null,
   "metadata": {},
   "outputs": [],
   "source": [
    "[(s, s in species) for s in item_species]"
   ]
  },
  {
   "cell_type": "code",
   "execution_count": null,
   "metadata": {},
   "outputs": [],
   "source": [
    "print(f\"{np.sum([s in species for s in item_species])}/{len(item_species)}\")\n",
    "print(np.sum(labels))"
   ]
  },
  {
   "cell_type": "code",
   "execution_count": null,
   "metadata": {},
   "outputs": [],
   "source": [
    "# print(\"Making dataset for presence-only training data...\")\n",
    "train_data = PatchesDataset(occurrences=po_path, providers=(p_bioclim, p_soil))\n",
    "print(f\"\\nTRAINING DATA: n_items={len(train_data)}, n_species={len(train_data.species)}\")\n",
    "\n",
    "n_features = train_data[0][0].shape[0]\n",
    "n_species = len(train_data.species)\n",
    "print(f\"nb of features = {n_features}\")"
   ]
  },
  {
   "cell_type": "code",
   "execution_count": null,
   "metadata": {},
   "outputs": [],
   "source": [
    "# print(\"Making dataset for presence-absence validation data...\")\n",
    "val_data = PatchesDataset(occurrences=pa_path, providers=(p_bioclim, p_soil), species=train_data.species)\n",
    "print(f\"\\nVALIDATION DATA: n_items={len(val_data)}, n_species={len(val_data.species)}\")"
   ]
  },
  {
   "cell_type": "code",
   "execution_count": null,
   "metadata": {},
   "outputs": [],
   "source": [
    "val_data[0][0].shape"
   ]
  },
  {
   "cell_type": "code",
   "execution_count": null,
   "metadata": {},
   "outputs": [],
   "source": [
    "# data loaders\n",
    "batch_size = 1024\n",
    "# train_loader = torch.utils.data.DataLoader(train_data, shuffle=True, batch_size=batch_size, num_workers=16)\n",
    "val_loader = torch.utils.data.DataLoader(val_data, shuffle=False, batch_size=batch_size, num_workers=8)"
   ]
  },
  {
   "cell_type": "code",
   "execution_count": null,
   "metadata": {},
   "outputs": [],
   "source": [
    "run_name = '0116_MLP_env_2x2_flat_train_tinyPO'\n",
    "checkpoint = torch.load(f\"models/{run_name}/best_val_loss.pth\")\n",
    "checkpoint['epoch']"
   ]
  },
  {
   "cell_type": "code",
   "execution_count": null,
   "metadata": {},
   "outputs": [],
   "source": [
    "n_layers = 5\n",
    "width = 1000\n",
    "learning_rate = 1e-3\n",
    "\n",
    "model = MLP(n_features, n_species, n_layers, width)\n",
    "model.load_state_dict(checkpoint['state_dict'])\n",
    "optimizer = torch.optim.SGD(model.parameters(), lr=learning_rate)\n",
    "optimizer.load_state_dict(checkpoint['optimizer_state_dict'])\n",
    "loss_fn = torch.nn.BCEWithLogitsLoss()"
   ]
  },
  {
   "cell_type": "code",
   "execution_count": null,
   "metadata": {},
   "outputs": [],
   "source": [
    "model.eval()\n",
    "val_loss_list, labels_list, y_pred_list = [], [], []\n",
    "\n",
    "for inputs, labels in tqdm(val_loader):\n",
    "    inputs = inputs.to(torch.float32)\n",
    "    labels = labels.to(torch.float32)\n",
    "    labels_list.append(labels.cpu().detach().numpy())\n",
    "\n",
    "    y_pred = model(inputs)\n",
    "    y_pred_sigmoid = torch.sigmoid(y_pred)\n",
    "    y_pred_list.append(y_pred_sigmoid.cpu().detach().numpy())\n",
    "\n",
    "    val_loss = loss_fn(y_pred, labels)\n",
    "    val_loss_list.append(val_loss.cpu().detach())    \n"
   ]
  },
  {
   "cell_type": "code",
   "execution_count": null,
   "metadata": {},
   "outputs": [],
   "source": [
    "labels = np.concatenate(labels_list)\n",
    "labels.shape"
   ]
  },
  {
   "cell_type": "code",
   "execution_count": null,
   "metadata": {},
   "outputs": [],
   "source": [
    "y_pred = np.concatenate(y_pred_list)\n",
    "y_pred.shape"
   ]
  },
  {
   "cell_type": "code",
   "execution_count": null,
   "metadata": {},
   "outputs": [],
   "source": [
    "from sklearn.metrics import roc_auc_score\n",
    "roc_auc_score(labels, y_pred)\n",
    "\n",
    "# patch size = 1            AUC = 0.5725362624834227\n",
    "# patch size = 2 (flat)     AUC = 0.46973261663879734"
   ]
  }
 ],
 "metadata": {
  "kernelspec": {
   "display_name": "glc23",
   "language": "python",
   "name": "python3"
  },
  "language_info": {
   "codemirror_mode": {
    "name": "ipython",
    "version": 3
   },
   "file_extension": ".py",
   "mimetype": "text/x-python",
   "name": "python",
   "nbconvert_exporter": "python",
   "pygments_lexer": "ipython3",
   "version": "3.9.16"
  }
 },
 "nbformat": 4,
 "nbformat_minor": 2
}
