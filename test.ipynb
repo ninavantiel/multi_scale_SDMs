{
 "cells": [
  {
   "cell_type": "code",
   "execution_count": 1,
   "metadata": {},
   "outputs": [],
   "source": [
    "from data.PatchesProviders import RasterPatchProvider, MultipleRasterPatchProvider, JpegPatchProvider, MetaPatchProvider\n",
    "from data.Datasets import PatchesDatasetCooccurrences, MultiScalePatchesDatasetCooccurrences\n",
    "from models import MLP"
   ]
  },
  {
   "cell_type": "code",
   "execution_count": 2,
   "metadata": {},
   "outputs": [],
   "source": [
    "import torch\n",
    "from tqdm import tqdm\n",
    "import numpy as np\n",
    "import pandas as pd\n",
    "import wandb\n",
    "import os\n",
    "import rasterio\n",
    "from PIL import Image\n",
    "import re\n",
    "import itertools\n",
    "from torchvision import models\n",
    "from sklearn.metrics import roc_auc_score"
   ]
  },
  {
   "cell_type": "code",
   "execution_count": 34,
   "metadata": {},
   "outputs": [],
   "source": [
    "datadir = 'data/full_data/'\n",
    "bioclim_dir = datadir+'EnvironmentalRasters/Climate/BioClimatic_Average_1981-2010/'\n",
    "soil_dir = datadir+'EnvironmentalRasters/Soilgrids/'\n",
    "landcover_dir = datadir+'EnvironmentalRasters/LandCover/LandCover_MODIS_Terra-Aqua_500m.tif'\n",
    "\n",
    "po_path = datadir+'Presence_only_occurrences/Presences_only_train_sampled_100_percent_min_1_occurrences.csv'#Presences_only_train_sampled_10_percent_min_100_occurrences.csv'#Presences_only_train_sampled_100_percent_min_1_occurrences.csv'\n",
    "pa_path = datadir+'Presence_Absence_surveys/Presences_Absences_train.csv'\n",
    "pseudoabsences = datadir+'Presence_only_occurrences/Pseudoabsence_locations_bioclim_soil.csv'"
   ]
  },
  {
   "cell_type": "code",
   "execution_count": 45,
   "metadata": {},
   "outputs": [],
   "source": [
    "flatten = True\n",
    "patch_size = 1\n",
    " \n",
    "p_bioclim = MultipleRasterPatchProvider(bioclim_dir, size=patch_size, flatten=flatten)   \n",
    "p_soil = MultipleRasterPatchProvider(soil_dir, size=patch_size, flatten=flatten) "
   ]
  },
  {
   "cell_type": "code",
   "execution_count": 36,
   "metadata": {},
   "outputs": [],
   "source": [
    "bioclim = True\n",
    "soil = False\n",
    "\n",
    "providers = []\n",
    "if bioclim:\n",
    "    providers.append(p_bioclim)\n",
    "if soil:\n",
    "    providers.append(p_soil)"
   ]
  },
  {
   "cell_type": "code",
   "execution_count": 37,
   "metadata": {},
   "outputs": [],
   "source": [
    "train_data = PatchesDatasetCooccurrences(po_path, providers)#, pseudoabsences=pseudoabsences)"
   ]
  },
  {
   "cell_type": "code",
   "execution_count": 41,
   "metadata": {},
   "outputs": [
    {
     "data": {
      "text/plain": [
       "2856818"
      ]
     },
     "execution_count": 41,
     "metadata": {},
     "output_type": "execute_result"
    }
   ],
   "source": [
    "len(train_data)"
   ]
  },
  {
   "cell_type": "code",
   "execution_count": 38,
   "metadata": {},
   "outputs": [
    {
     "data": {
      "text/plain": [
       "(2174,)"
      ]
     },
     "execution_count": 38,
     "metadata": {},
     "output_type": "execute_result"
    }
   ],
   "source": [
    "train_data[0][1].shape"
   ]
  },
  {
   "cell_type": "code",
   "execution_count": 40,
   "metadata": {},
   "outputs": [],
   "source": [
    "val_data = PatchesDatasetCooccurrences(occurrences=pa_path, providers=(p_bioclim), species=train_data.species)"
   ]
  },
  {
   "cell_type": "code",
   "execution_count": 43,
   "metadata": {},
   "outputs": [
    {
     "data": {
      "text/plain": [
       "(2174,)"
      ]
     },
     "execution_count": 43,
     "metadata": {},
     "output_type": "execute_result"
    }
   ],
   "source": [
    "val_data[0][1].shape"
   ]
  },
  {
   "cell_type": "code",
   "execution_count": 44,
   "metadata": {},
   "outputs": [
    {
     "data": {
      "text/plain": [
       "(76,)"
      ]
     },
     "execution_count": 44,
     "metadata": {},
     "output_type": "execute_result"
    }
   ],
   "source": [
    "train_data[0][0].shape"
   ]
  },
  {
   "cell_type": "code",
   "execution_count": 22,
   "metadata": {},
   "outputs": [],
   "source": [
    "n_max_low_occ = 50\n",
    "n_features = train_data[0][0].shape[0]\n",
    "n_species = len(train_data.species)\n",
    "low_occ_species = train_data.species_counts[train_data.species_counts <= n_max_low_occ].index\n",
    "low_occ_species_idx = np.where(np.isin(train_data.species, low_occ_species))[0]"
   ]
  },
  {
   "cell_type": "code",
   "execution_count": 23,
   "metadata": {},
   "outputs": [],
   "source": [
    "batch_size = 10\n",
    "train_loader = torch.utils.data.DataLoader(train_data, shuffle=True, batch_size=batch_size)\n",
    "val_loader = torch.utils.data.DataLoader(val_data, shuffle=False, batch_size=batch_size)"
   ]
  },
  {
   "cell_type": "code",
   "execution_count": 24,
   "metadata": {},
   "outputs": [
    {
     "name": "stdout",
     "output_type": "stream",
     "text": [
      "DEVICE: cuda\n",
      "\n"
     ]
    }
   ],
   "source": [
    "dev = torch.device(\"cuda\" if torch.cuda.is_available() else \"cpu\")\n",
    "print(f\"DEVICE: {dev}\\n\")"
   ]
  },
  {
   "cell_type": "code",
   "execution_count": 25,
   "metadata": {},
   "outputs": [],
   "source": [
    "model = MLP(n_features, n_species, 5, 1000).to(dev)\n",
    "optimizer = torch.optim.SGD(model.parameters(), lr=1e-3)"
   ]
  },
  {
   "cell_type": "code",
   "execution_count": 26,
   "metadata": {},
   "outputs": [],
   "source": [
    "from losses import an_full_loss, full_weighted_loss\n",
    "loss_fn = an_full_loss #full_weighted_loss\n",
    "species_weights = torch.tensor(train_data.species_weights).to(dev)\n",
    "val_loss_fn = torch.nn.BCEWithLogitsLoss()"
   ]
  },
  {
   "cell_type": "code",
   "execution_count": 27,
   "metadata": {},
   "outputs": [],
   "source": [
    "for batch in train_loader:\n",
    "    inputs, labels, bg_inputs = batch\n",
    "    concat_inputs = torch.cat((inputs, bg_inputs), 0).to(torch.float32).to(dev)\n",
    "    labels = labels.to(torch.float32).to(dev) \n",
    "    break"
   ]
  },
  {
   "cell_type": "code",
   "execution_count": 28,
   "metadata": {},
   "outputs": [
    {
     "name": "stdout",
     "output_type": "stream",
     "text": [
      "bg\n",
      "tensor(0.6976, device='cuda:0', grad_fn=<MeanBackward0>)\n"
     ]
    }
   ],
   "source": [
    "output = model(concat_inputs)\n",
    "y_pred = output[0:len(inputs)]\n",
    "bg_pred = output[len(inputs):]\n",
    "y_pred_sigmoid = torch.sigmoid(y_pred)\n",
    "bg_pred_sigmoid = torch.sigmoid(bg_pred)\n",
    "loss = loss_fn(y_pred_sigmoid, labels, bg_pred_sigmoid)"
   ]
  },
  {
   "cell_type": "code",
   "execution_count": 29,
   "metadata": {},
   "outputs": [
    {
     "data": {
      "text/plain": [
       "tensor(2.1477, device='cuda:0', grad_fn=<AddBackward0>)"
      ]
     },
     "execution_count": 29,
     "metadata": {},
     "output_type": "execute_result"
    }
   ],
   "source": [
    "loss"
   ]
  },
  {
   "cell_type": "code",
   "execution_count": 35,
   "metadata": {},
   "outputs": [],
   "source": [
    "providers = (p_bioclim, p_soil)\n",
    "n=0\n",
    "pseudoabsence_locations = np.zeros(providers[0].rasters_providers[0].data.shape[1:])\n",
    "for p in providers:\n",
    "    for subp in p.rasters_providers:\n",
    "        pseudoabsence_locations += np.where(subp.data.sum(axis=0) == 0, 0, 1)\n",
    "        n += 1\n",
    "\n",
    "df = np.argwhere(pseudoabsence_locations == n)\n",
    "df = pd.DataFrame(df, columns=['x','y'])"
   ]
  },
  {
   "cell_type": "code",
   "execution_count": 36,
   "metadata": {},
   "outputs": [
    {
     "data": {
      "text/html": [
       "<div>\n",
       "<style scoped>\n",
       "    .dataframe tbody tr th:only-of-type {\n",
       "        vertical-align: middle;\n",
       "    }\n",
       "\n",
       "    .dataframe tbody tr th {\n",
       "        vertical-align: top;\n",
       "    }\n",
       "\n",
       "    .dataframe thead th {\n",
       "        text-align: right;\n",
       "    }\n",
       "</style>\n",
       "<table border=\"1\" class=\"dataframe\">\n",
       "  <thead>\n",
       "    <tr style=\"text-align: right;\">\n",
       "      <th></th>\n",
       "      <th>x</th>\n",
       "      <th>y</th>\n",
       "    </tr>\n",
       "  </thead>\n",
       "  <tbody>\n",
       "    <tr>\n",
       "      <th>0</th>\n",
       "      <td>1</td>\n",
       "      <td>419</td>\n",
       "    </tr>\n",
       "    <tr>\n",
       "      <th>1</th>\n",
       "      <td>1</td>\n",
       "      <td>420</td>\n",
       "    </tr>\n",
       "    <tr>\n",
       "      <th>2</th>\n",
       "      <td>1</td>\n",
       "      <td>421</td>\n",
       "    </tr>\n",
       "    <tr>\n",
       "      <th>3</th>\n",
       "      <td>1</td>\n",
       "      <td>435</td>\n",
       "    </tr>\n",
       "    <tr>\n",
       "      <th>4</th>\n",
       "      <td>1</td>\n",
       "      <td>436</td>\n",
       "    </tr>\n",
       "    <tr>\n",
       "      <th>...</th>\n",
       "      <td>...</td>\n",
       "      <td>...</td>\n",
       "    </tr>\n",
       "    <tr>\n",
       "      <th>17274622</th>\n",
       "      <td>5428</td>\n",
       "      <td>7939</td>\n",
       "    </tr>\n",
       "    <tr>\n",
       "      <th>17274623</th>\n",
       "      <td>5428</td>\n",
       "      <td>7940</td>\n",
       "    </tr>\n",
       "    <tr>\n",
       "      <th>17274624</th>\n",
       "      <td>5428</td>\n",
       "      <td>7941</td>\n",
       "    </tr>\n",
       "    <tr>\n",
       "      <th>17274625</th>\n",
       "      <td>5428</td>\n",
       "      <td>7942</td>\n",
       "    </tr>\n",
       "    <tr>\n",
       "      <th>17274626</th>\n",
       "      <td>5428</td>\n",
       "      <td>7943</td>\n",
       "    </tr>\n",
       "  </tbody>\n",
       "</table>\n",
       "<p>17274627 rows × 2 columns</p>\n",
       "</div>"
      ],
      "text/plain": [
       "             x     y\n",
       "0            1   419\n",
       "1            1   420\n",
       "2            1   421\n",
       "3            1   435\n",
       "4            1   436\n",
       "...        ...   ...\n",
       "17274622  5428  7939\n",
       "17274623  5428  7940\n",
       "17274624  5428  7941\n",
       "17274625  5428  7942\n",
       "17274626  5428  7943\n",
       "\n",
       "[17274627 rows x 2 columns]"
      ]
     },
     "execution_count": 36,
     "metadata": {},
     "output_type": "execute_result"
    }
   ],
   "source": [
    "df"
   ]
  },
  {
   "cell_type": "code",
   "execution_count": 38,
   "metadata": {},
   "outputs": [
    {
     "data": {
      "text/plain": [
       "<AxesSubplot: xlabel='x', ylabel='y'>"
      ]
     },
     "execution_count": 38,
     "metadata": {},
     "output_type": "execute_result"
    },
    {
     "data": {
      "image/png": "[encoded data removed]",
      "text/plain": [
       "<Figure size 640x480 with 1 Axes>"
      ]
     },
     "metadata": {},
     "output_type": "display_data"
    }
   ],
   "source": [
    "df.plot.scatter('x','y')"
   ]
  },
  {
   "cell_type": "code",
   "execution_count": 41,
   "metadata": {},
   "outputs": [
    {
     "data": {
      "text/plain": [
       "5428"
      ]
     },
     "execution_count": 41,
     "metadata": {},
     "output_type": "execute_result"
    }
   ],
   "source": [
    "df.x.max()"
   ]
  },
  {
   "cell_type": "code",
   "execution_count": 42,
   "metadata": {},
   "outputs": [
    {
     "data": {
      "text/plain": [
       "8141"
      ]
     },
     "execution_count": 42,
     "metadata": {},
     "output_type": "execute_result"
    }
   ],
   "source": [
    "df.y.max()"
   ]
  },
  {
   "cell_type": "code",
   "execution_count": 35,
   "metadata": {},
   "outputs": [
    {
     "data": {
      "text/plain": [
       "<matplotlib.image.AxesImage at 0x7fd473407e20>"
      ]
     },
     "execution_count": 35,
     "metadata": {},
     "output_type": "execute_result"
    },
    {
     "data": {
      "image/png": "[encoded data removed]",
      "text/plain": [
       "<Figure size 640x480 with 1 Axes>"
      ]
     },
     "metadata": {},
     "output_type": "display_data"
    }
   ],
   "source": [
    "plt.imshow(np.where(pseudoabsence_locations == n, pseudoabsence_locations, 0))"
   ]
  },
  {
   "cell_type": "code",
   "execution_count": 38,
   "metadata": {},
   "outputs": [
    {
     "data": {
      "text/plain": [
       "<matplotlib.image.AxesImage at 0x7fd47333a070>"
      ]
     },
     "execution_count": 38,
     "metadata": {},
     "output_type": "execute_result"
    },
    {
     "data": {
      "image/png": "[encoded data removed]",
      "text/plain": [
       "<Figure size 640x480 with 1 Axes>"
      ]
     },
     "metadata": {},
     "output_type": "display_data"
    }
   ],
   "source": [
    "plt.imshow(np.where(pseudoabsence_locations == n, pseudoabsence_locations, 0))"
   ]
  },
  {
   "cell_type": "code",
   "execution_count": 39,
   "metadata": {},
   "outputs": [
    {
     "data": {
      "text/html": [
       "<div>\n",
       "<style scoped>\n",
       "    .dataframe tbody tr th:only-of-type {\n",
       "        vertical-align: middle;\n",
       "    }\n",
       "\n",
       "    .dataframe tbody tr th {\n",
       "        vertical-align: top;\n",
       "    }\n",
       "\n",
       "    .dataframe thead th {\n",
       "        text-align: right;\n",
       "    }\n",
       "</style>\n",
       "<table border=\"1\" class=\"dataframe\">\n",
       "  <thead>\n",
       "    <tr style=\"text-align: right;\">\n",
       "      <th></th>\n",
       "      <th>x</th>\n",
       "      <th>y</th>\n",
       "    </tr>\n",
       "  </thead>\n",
       "  <tbody>\n",
       "    <tr>\n",
       "      <th>0</th>\n",
       "      <td>1</td>\n",
       "      <td>419</td>\n",
       "    </tr>\n",
       "    <tr>\n",
       "      <th>1</th>\n",
       "      <td>1</td>\n",
       "      <td>420</td>\n",
       "    </tr>\n",
       "    <tr>\n",
       "      <th>2</th>\n",
       "      <td>1</td>\n",
       "      <td>421</td>\n",
       "    </tr>\n",
       "    <tr>\n",
       "      <th>3</th>\n",
       "      <td>1</td>\n",
       "      <td>435</td>\n",
       "    </tr>\n",
       "    <tr>\n",
       "      <th>4</th>\n",
       "      <td>1</td>\n",
       "      <td>436</td>\n",
       "    </tr>\n",
       "    <tr>\n",
       "      <th>...</th>\n",
       "      <td>...</td>\n",
       "      <td>...</td>\n",
       "    </tr>\n",
       "    <tr>\n",
       "      <th>16179165</th>\n",
       "      <td>5428</td>\n",
       "      <td>6006</td>\n",
       "    </tr>\n",
       "    <tr>\n",
       "      <th>16179166</th>\n",
       "      <td>5428</td>\n",
       "      <td>6007</td>\n",
       "    </tr>\n",
       "    <tr>\n",
       "      <th>16179167</th>\n",
       "      <td>5428</td>\n",
       "      <td>6008</td>\n",
       "    </tr>\n",
       "    <tr>\n",
       "      <th>16179168</th>\n",
       "      <td>5428</td>\n",
       "      <td>6009</td>\n",
       "    </tr>\n",
       "    <tr>\n",
       "      <th>16179169</th>\n",
       "      <td>5428</td>\n",
       "      <td>6010</td>\n",
       "    </tr>\n",
       "  </tbody>\n",
       "</table>\n",
       "<p>16179170 rows × 2 columns</p>\n",
       "</div>"
      ],
      "text/plain": [
       "             x     y\n",
       "0            1   419\n",
       "1            1   420\n",
       "2            1   421\n",
       "3            1   435\n",
       "4            1   436\n",
       "...        ...   ...\n",
       "16179165  5428  6006\n",
       "16179166  5428  6007\n",
       "16179167  5428  6008\n",
       "16179168  5428  6009\n",
       "16179169  5428  6010\n",
       "\n",
       "[16179170 rows x 2 columns]"
      ]
     },
     "execution_count": 39,
     "metadata": {},
     "output_type": "execute_result"
    }
   ],
   "source": [
    "pseudoabsence_locations = np.argwhere(pseudoabsence_locations == len(p_soil)+len(p_bioclim))\n",
    "pseudoabsence_locations = pd.DataFrame(pseudoabsence_locations, columns=['x','y'])\n",
    "pseudoabsence_locations"
   ]
  },
  {
   "cell_type": "code",
   "execution_count": 41,
   "metadata": {},
   "outputs": [],
   "source": [
    "p = providers[0].rasters_providers[0]"
   ]
  },
  {
   "cell_type": "code",
   "execution_count": 10,
   "metadata": {},
   "outputs": [
    {
     "data": {
      "text/html": [
       "<div>\n",
       "<style scoped>\n",
       "    .dataframe tbody tr th:only-of-type {\n",
       "        vertical-align: middle;\n",
       "    }\n",
       "\n",
       "    .dataframe tbody tr th {\n",
       "        vertical-align: top;\n",
       "    }\n",
       "\n",
       "    .dataframe thead th {\n",
       "        text-align: right;\n",
       "    }\n",
       "</style>\n",
       "<table border=\"1\" class=\"dataframe\">\n",
       "  <thead>\n",
       "    <tr style=\"text-align: right;\">\n",
       "      <th></th>\n",
       "      <th>x</th>\n",
       "      <th>y</th>\n",
       "      <th>lat</th>\n",
       "      <th>lon</th>\n",
       "    </tr>\n",
       "  </thead>\n",
       "  <tbody>\n",
       "    <tr>\n",
       "      <th>0</th>\n",
       "      <td>1</td>\n",
       "      <td>419</td>\n",
       "      <td>72.183194</td>\n",
       "      <td>-28.775139</td>\n",
       "    </tr>\n",
       "    <tr>\n",
       "      <th>1</th>\n",
       "      <td>1</td>\n",
       "      <td>420</td>\n",
       "      <td>72.183194</td>\n",
       "      <td>-28.766806</td>\n",
       "    </tr>\n",
       "    <tr>\n",
       "      <th>2</th>\n",
       "      <td>1</td>\n",
       "      <td>421</td>\n",
       "      <td>72.183194</td>\n",
       "      <td>-28.758473</td>\n",
       "    </tr>\n",
       "    <tr>\n",
       "      <th>3</th>\n",
       "      <td>1</td>\n",
       "      <td>435</td>\n",
       "      <td>72.183194</td>\n",
       "      <td>-28.641806</td>\n",
       "    </tr>\n",
       "    <tr>\n",
       "      <th>4</th>\n",
       "      <td>1</td>\n",
       "      <td>436</td>\n",
       "      <td>72.183194</td>\n",
       "      <td>-28.633473</td>\n",
       "    </tr>\n",
       "    <tr>\n",
       "      <th>...</th>\n",
       "      <td>...</td>\n",
       "      <td>...</td>\n",
       "      <td>...</td>\n",
       "      <td>...</td>\n",
       "    </tr>\n",
       "    <tr>\n",
       "      <th>16179165</th>\n",
       "      <td>5428</td>\n",
       "      <td>6006</td>\n",
       "      <td>26.958194</td>\n",
       "      <td>17.783194</td>\n",
       "    </tr>\n",
       "    <tr>\n",
       "      <th>16179166</th>\n",
       "      <td>5428</td>\n",
       "      <td>6007</td>\n",
       "      <td>26.958194</td>\n",
       "      <td>17.791527</td>\n",
       "    </tr>\n",
       "    <tr>\n",
       "      <th>16179167</th>\n",
       "      <td>5428</td>\n",
       "      <td>6008</td>\n",
       "      <td>26.958194</td>\n",
       "      <td>17.799860</td>\n",
       "    </tr>\n",
       "    <tr>\n",
       "      <th>16179168</th>\n",
       "      <td>5428</td>\n",
       "      <td>6009</td>\n",
       "      <td>26.958194</td>\n",
       "      <td>17.808194</td>\n",
       "    </tr>\n",
       "    <tr>\n",
       "      <th>16179169</th>\n",
       "      <td>5428</td>\n",
       "      <td>6010</td>\n",
       "      <td>26.958194</td>\n",
       "      <td>17.816527</td>\n",
       "    </tr>\n",
       "  </tbody>\n",
       "</table>\n",
       "<p>16179170 rows × 4 columns</p>\n",
       "</div>"
      ],
      "text/plain": [
       "             x     y        lat        lon\n",
       "0            1   419  72.183194 -28.775139\n",
       "1            1   420  72.183194 -28.766806\n",
       "2            1   421  72.183194 -28.758473\n",
       "3            1   435  72.183194 -28.641806\n",
       "4            1   436  72.183194 -28.633473\n",
       "...        ...   ...        ...        ...\n",
       "16179165  5428  6006  26.958194  17.783194\n",
       "16179166  5428  6007  26.958194  17.791527\n",
       "16179167  5428  6008  26.958194  17.799860\n",
       "16179168  5428  6009  26.958194  17.808194\n",
       "16179169  5428  6010  26.958194  17.816527\n",
       "\n",
       "[16179170 rows x 4 columns]"
      ]
     },
     "execution_count": 10,
     "metadata": {},
     "output_type": "execute_result"
    }
   ],
   "source": [
    "p = p_bioclim.rasters_providers[0]\n",
    "pseudoabsence_locations['lat'] = p.y_min + p.y_resolution * (p.n_rows - pseudoabsence_locations['x'])\n",
    "pseudoabsence_locations['lon'] = p.x_min + p.x_resolution * pseudoabsence_locations['y']\n",
    "pseudoabsence_locations"
   ]
  },
  {
   "cell_type": "code",
   "execution_count": 12,
   "metadata": {},
   "outputs": [],
   "source": [
    "pseudoabsence_locations.to_csv('data/full_data/Presence_only_occurrences/Pseudoabsence_locations_bioclim_soil.csv', index=False)"
   ]
  },
  {
   "cell_type": "code",
   "execution_count": 87,
   "metadata": {},
   "outputs": [
    {
     "data": {
      "text/html": [
       "<div>\n",
       "<style scoped>\n",
       "    .dataframe tbody tr th:only-of-type {\n",
       "        vertical-align: middle;\n",
       "    }\n",
       "\n",
       "    .dataframe tbody tr th {\n",
       "        vertical-align: top;\n",
       "    }\n",
       "\n",
       "    .dataframe thead th {\n",
       "        text-align: right;\n",
       "    }\n",
       "</style>\n",
       "<table border=\"1\" class=\"dataframe\">\n",
       "  <thead>\n",
       "    <tr style=\"text-align: right;\">\n",
       "      <th></th>\n",
       "      <th>x</th>\n",
       "      <th>y</th>\n",
       "      <th>lat</th>\n",
       "      <th>lon</th>\n",
       "      <th>x_again</th>\n",
       "      <th>y_again</th>\n",
       "    </tr>\n",
       "  </thead>\n",
       "  <tbody>\n",
       "    <tr>\n",
       "      <th>0</th>\n",
       "      <td>1</td>\n",
       "      <td>419</td>\n",
       "      <td>72.183194</td>\n",
       "      <td>-28.775139</td>\n",
       "      <td>1</td>\n",
       "      <td>419</td>\n",
       "    </tr>\n",
       "    <tr>\n",
       "      <th>1</th>\n",
       "      <td>1</td>\n",
       "      <td>420</td>\n",
       "      <td>72.183194</td>\n",
       "      <td>-28.766806</td>\n",
       "      <td>1</td>\n",
       "      <td>419</td>\n",
       "    </tr>\n",
       "    <tr>\n",
       "      <th>2</th>\n",
       "      <td>1</td>\n",
       "      <td>421</td>\n",
       "      <td>72.183194</td>\n",
       "      <td>-28.758473</td>\n",
       "      <td>1</td>\n",
       "      <td>421</td>\n",
       "    </tr>\n",
       "    <tr>\n",
       "      <th>3</th>\n",
       "      <td>1</td>\n",
       "      <td>435</td>\n",
       "      <td>72.183194</td>\n",
       "      <td>-28.641806</td>\n",
       "      <td>1</td>\n",
       "      <td>435</td>\n",
       "    </tr>\n",
       "    <tr>\n",
       "      <th>4</th>\n",
       "      <td>1</td>\n",
       "      <td>436</td>\n",
       "      <td>72.183194</td>\n",
       "      <td>-28.633473</td>\n",
       "      <td>1</td>\n",
       "      <td>435</td>\n",
       "    </tr>\n",
       "    <tr>\n",
       "      <th>...</th>\n",
       "      <td>...</td>\n",
       "      <td>...</td>\n",
       "      <td>...</td>\n",
       "      <td>...</td>\n",
       "      <td>...</td>\n",
       "      <td>...</td>\n",
       "    </tr>\n",
       "    <tr>\n",
       "      <th>16179165</th>\n",
       "      <td>5428</td>\n",
       "      <td>6006</td>\n",
       "      <td>26.958194</td>\n",
       "      <td>17.783194</td>\n",
       "      <td>5428</td>\n",
       "      <td>6006</td>\n",
       "    </tr>\n",
       "    <tr>\n",
       "      <th>16179166</th>\n",
       "      <td>5428</td>\n",
       "      <td>6007</td>\n",
       "      <td>26.958194</td>\n",
       "      <td>17.791527</td>\n",
       "      <td>5428</td>\n",
       "      <td>6007</td>\n",
       "    </tr>\n",
       "    <tr>\n",
       "      <th>16179167</th>\n",
       "      <td>5428</td>\n",
       "      <td>6008</td>\n",
       "      <td>26.958194</td>\n",
       "      <td>17.799860</td>\n",
       "      <td>5428</td>\n",
       "      <td>6008</td>\n",
       "    </tr>\n",
       "    <tr>\n",
       "      <th>16179168</th>\n",
       "      <td>5428</td>\n",
       "      <td>6009</td>\n",
       "      <td>26.958194</td>\n",
       "      <td>17.808194</td>\n",
       "      <td>5428</td>\n",
       "      <td>6009</td>\n",
       "    </tr>\n",
       "    <tr>\n",
       "      <th>16179169</th>\n",
       "      <td>5428</td>\n",
       "      <td>6010</td>\n",
       "      <td>26.958194</td>\n",
       "      <td>17.816527</td>\n",
       "      <td>5428</td>\n",
       "      <td>6010</td>\n",
       "    </tr>\n",
       "  </tbody>\n",
       "</table>\n",
       "<p>16179170 rows × 6 columns</p>\n",
       "</div>"
      ],
      "text/plain": [
       "             x     y        lat        lon  x_again  y_again\n",
       "0            1   419  72.183194 -28.775139        1      419\n",
       "1            1   420  72.183194 -28.766806        1      419\n",
       "2            1   421  72.183194 -28.758473        1      421\n",
       "3            1   435  72.183194 -28.641806        1      435\n",
       "4            1   436  72.183194 -28.633473        1      435\n",
       "...        ...   ...        ...        ...      ...      ...\n",
       "16179165  5428  6006  26.958194  17.783194     5428     6006\n",
       "16179166  5428  6007  26.958194  17.791527     5428     6007\n",
       "16179167  5428  6008  26.958194  17.799860     5428     6008\n",
       "16179168  5428  6009  26.958194  17.808194     5428     6009\n",
       "16179169  5428  6010  26.958194  17.816527     5428     6010\n",
       "\n",
       "[16179170 rows x 6 columns]"
      ]
     },
     "execution_count": 87,
     "metadata": {},
     "output_type": "execute_result"
    }
   ],
   "source": [
    "pseudoabsence_locations['x_again'] = (p.n_rows - (pseudoabsence_locations['lat'] - p.y_min) / p.y_resolution).astype(int)\n",
    "pseudoabsence_locations['y_again'] = ((pseudoabsence_locations['lon'] - p.x_min) / p.x_resolution).astype(int)\n",
    "pseudoabsence_locations"
   ]
  },
  {
   "cell_type": "code",
   "execution_count": 88,
   "metadata": {},
   "outputs": [
    {
     "data": {
      "text/html": [
       "<div>\n",
       "<style scoped>\n",
       "    .dataframe tbody tr th:only-of-type {\n",
       "        vertical-align: middle;\n",
       "    }\n",
       "\n",
       "    .dataframe tbody tr th {\n",
       "        vertical-align: top;\n",
       "    }\n",
       "\n",
       "    .dataframe thead th {\n",
       "        text-align: right;\n",
       "    }\n",
       "</style>\n",
       "<table border=\"1\" class=\"dataframe\">\n",
       "  <thead>\n",
       "    <tr style=\"text-align: right;\">\n",
       "      <th></th>\n",
       "      <th>x</th>\n",
       "      <th>y</th>\n",
       "      <th>lat</th>\n",
       "      <th>lon</th>\n",
       "      <th>x_again</th>\n",
       "      <th>y_again</th>\n",
       "    </tr>\n",
       "  </thead>\n",
       "  <tbody>\n",
       "    <tr>\n",
       "      <th>660</th>\n",
       "      <td>3</td>\n",
       "      <td>396</td>\n",
       "      <td>72.166527</td>\n",
       "      <td>-28.966806</td>\n",
       "      <td>2</td>\n",
       "      <td>395</td>\n",
       "    </tr>\n",
       "    <tr>\n",
       "      <th>661</th>\n",
       "      <td>3</td>\n",
       "      <td>397</td>\n",
       "      <td>72.166527</td>\n",
       "      <td>-28.958473</td>\n",
       "      <td>2</td>\n",
       "      <td>397</td>\n",
       "    </tr>\n",
       "    <tr>\n",
       "      <th>662</th>\n",
       "      <td>3</td>\n",
       "      <td>425</td>\n",
       "      <td>72.166527</td>\n",
       "      <td>-28.725139</td>\n",
       "      <td>2</td>\n",
       "      <td>425</td>\n",
       "    </tr>\n",
       "    <tr>\n",
       "      <th>663</th>\n",
       "      <td>3</td>\n",
       "      <td>426</td>\n",
       "      <td>72.166527</td>\n",
       "      <td>-28.716806</td>\n",
       "      <td>2</td>\n",
       "      <td>425</td>\n",
       "    </tr>\n",
       "    <tr>\n",
       "      <th>664</th>\n",
       "      <td>3</td>\n",
       "      <td>427</td>\n",
       "      <td>72.166527</td>\n",
       "      <td>-28.708473</td>\n",
       "      <td>2</td>\n",
       "      <td>427</td>\n",
       "    </tr>\n",
       "    <tr>\n",
       "      <th>...</th>\n",
       "      <td>...</td>\n",
       "      <td>...</td>\n",
       "      <td>...</td>\n",
       "      <td>...</td>\n",
       "      <td>...</td>\n",
       "      <td>...</td>\n",
       "    </tr>\n",
       "    <tr>\n",
       "      <th>12458740</th>\n",
       "      <td>4086</td>\n",
       "      <td>8137</td>\n",
       "      <td>38.141527</td>\n",
       "      <td>35.541527</td>\n",
       "      <td>4085</td>\n",
       "      <td>8137</td>\n",
       "    </tr>\n",
       "    <tr>\n",
       "      <th>12458741</th>\n",
       "      <td>4086</td>\n",
       "      <td>8138</td>\n",
       "      <td>38.141527</td>\n",
       "      <td>35.549860</td>\n",
       "      <td>4085</td>\n",
       "      <td>8138</td>\n",
       "    </tr>\n",
       "    <tr>\n",
       "      <th>12458742</th>\n",
       "      <td>4086</td>\n",
       "      <td>8139</td>\n",
       "      <td>38.141527</td>\n",
       "      <td>35.558194</td>\n",
       "      <td>4085</td>\n",
       "      <td>8139</td>\n",
       "    </tr>\n",
       "    <tr>\n",
       "      <th>12458743</th>\n",
       "      <td>4086</td>\n",
       "      <td>8140</td>\n",
       "      <td>38.141527</td>\n",
       "      <td>35.566527</td>\n",
       "      <td>4085</td>\n",
       "      <td>8140</td>\n",
       "    </tr>\n",
       "    <tr>\n",
       "      <th>12458744</th>\n",
       "      <td>4086</td>\n",
       "      <td>8141</td>\n",
       "      <td>38.141527</td>\n",
       "      <td>35.574860</td>\n",
       "      <td>4085</td>\n",
       "      <td>8141</td>\n",
       "    </tr>\n",
       "  </tbody>\n",
       "</table>\n",
       "<p>2509404 rows × 6 columns</p>\n",
       "</div>"
      ],
      "text/plain": [
       "             x     y        lat        lon  x_again  y_again\n",
       "660          3   396  72.166527 -28.966806        2      395\n",
       "661          3   397  72.166527 -28.958473        2      397\n",
       "662          3   425  72.166527 -28.725139        2      425\n",
       "663          3   426  72.166527 -28.716806        2      425\n",
       "664          3   427  72.166527 -28.708473        2      427\n",
       "...        ...   ...        ...        ...      ...      ...\n",
       "12458740  4086  8137  38.141527  35.541527     4085     8137\n",
       "12458741  4086  8138  38.141527  35.549860     4085     8138\n",
       "12458742  4086  8139  38.141527  35.558194     4085     8139\n",
       "12458743  4086  8140  38.141527  35.566527     4085     8140\n",
       "12458744  4086  8141  38.141527  35.574860     4085     8141\n",
       "\n",
       "[2509404 rows x 6 columns]"
      ]
     },
     "execution_count": 88,
     "metadata": {},
     "output_type": "execute_result"
    }
   ],
   "source": [
    "pseudoabsence_locations[pseudoabsence_locations['x'] != pseudoabsence_locations['x_again']]"
   ]
  },
  {
   "cell_type": "code",
   "execution_count": 26,
   "metadata": {},
   "outputs": [
    {
     "data": {
      "text/plain": [
       "2.144364284633532e+29"
      ]
     },
     "execution_count": 26,
     "metadata": {},
     "output_type": "execute_result"
    }
   ],
   "source": [
    "np.abs(p.data[0,0,0] - p.nodata_value[0])"
   ]
  },
  {
   "cell_type": "code",
   "execution_count": 27,
   "metadata": {},
   "outputs": [
    {
     "data": {
      "text/plain": [
       "3.3999999500000004e+33"
      ]
     },
     "execution_count": 27,
     "metadata": {},
     "output_type": "execute_result"
    }
   ],
   "source": [
    "1e-28 + 1e-05 * np.abs(p.nodata_value[0])"
   ]
  },
  {
   "cell_type": "code",
   "execution_count": 37,
   "metadata": {},
   "outputs": [
    {
     "data": {
      "text/plain": [
       "<matplotlib.image.AxesImage at 0x7fe58e2660d0>"
      ]
     },
     "execution_count": 37,
     "metadata": {},
     "output_type": "execute_result"
    },
    {
     "data": {
      "image/png": "[encoded data removed]",
      "text/plain": [
       "<Figure size 640x480 with 1 Axes>"
      ]
     },
     "metadata": {},
     "output_type": "display_data"
    }
   ],
   "source": [
    "plt.imshow(np.where(np.isclose(p.data, p.nodata_value[0], atol=1e-8), np.nan, p.data)[0,3500:4000,3000:4000])"
   ]
  },
  {
   "cell_type": "code",
   "execution_count": 41,
   "metadata": {},
   "outputs": [
    {
     "data": {
      "text/plain": [
       "(-3.4e+38,)"
      ]
     },
     "execution_count": 41,
     "metadata": {},
     "output_type": "execute_result"
    }
   ],
   "source": [
    "p_soil.rasters_providers[0].nodata_value"
   ]
  },
  {
   "cell_type": "code",
   "execution_count": 32,
   "metadata": {},
   "outputs": [],
   "source": [
    "for p in p_bioclim.rasters_providers[1:]:\n",
    "    pseudoabsence_locations += np.where(p.data != 0, 1, 0)\n"
   ]
  },
  {
   "cell_type": "code",
   "execution_count": 37,
   "metadata": {},
   "outputs": [
    {
     "data": {
      "text/plain": [
       "44517781"
      ]
     },
     "execution_count": 37,
     "metadata": {},
     "output_type": "execute_result"
    }
   ],
   "source": [
    "np.sum(np.where(pseudoabsence_locations != 0, 1, 0))"
   ]
  },
  {
   "cell_type": "code",
   "execution_count": 21,
   "metadata": {},
   "outputs": [
    {
     "data": {
      "text/plain": [
       "44517781"
      ]
     },
     "execution_count": 21,
     "metadata": {},
     "output_type": "execute_result"
    }
   ],
   "source": [
    "5467*8143"
   ]
  },
  {
   "cell_type": "code",
   "execution_count": 14,
   "metadata": {},
   "outputs": [
    {
     "name": "stdout",
     "output_type": "stream",
     "text": [
      "bio9: xmin=-32.266806146449994 / ymin=26.63319397795 / nrows=5467 / ncold=8143 / nlayers=1\n",
      "bio8: xmin=-32.266806146449994 / ymin=26.63319397795 / nrows=5467 / ncold=8143 / nlayers=1\n",
      "bio7: xmin=-32.266806146449994 / ymin=26.63319397795 / nrows=5467 / ncold=8143 / nlayers=1\n",
      "bio6: xmin=-32.266806146449994 / ymin=26.63319397795 / nrows=5467 / ncold=8143 / nlayers=1\n",
      "bio5: xmin=-32.266806146449994 / ymin=26.63319397795 / nrows=5467 / ncold=8143 / nlayers=1\n",
      "bio4: xmin=-32.266806146449994 / ymin=26.63319397795 / nrows=5467 / ncold=8143 / nlayers=1\n",
      "bio3: xmin=-32.266806146449994 / ymin=26.63319397795 / nrows=5467 / ncold=8143 / nlayers=1\n",
      "bio2: xmin=-32.266806146449994 / ymin=26.63319397795 / nrows=5467 / ncold=8143 / nlayers=1\n",
      "bio19: xmin=-32.266806146449994 / ymin=26.63319397795 / nrows=5467 / ncold=8143 / nlayers=1\n",
      "bio18: xmin=-32.266806146449994 / ymin=26.63319397795 / nrows=5467 / ncold=8143 / nlayers=1\n",
      "bio17: xmin=-32.266806146449994 / ymin=26.63319397795 / nrows=5467 / ncold=8143 / nlayers=1\n",
      "bio16: xmin=-32.266806146449994 / ymin=26.63319397795 / nrows=5467 / ncold=8143 / nlayers=1\n",
      "bio15: xmin=-32.266806146449994 / ymin=26.63319397795 / nrows=5467 / ncold=8143 / nlayers=1\n",
      "bio14: xmin=-32.266806146449994 / ymin=26.63319397795 / nrows=5467 / ncold=8143 / nlayers=1\n",
      "bio13: xmin=-32.266806146449994 / ymin=26.63319397795 / nrows=5467 / ncold=8143 / nlayers=1\n",
      "bio12: xmin=-32.266806146449994 / ymin=26.63319397795 / nrows=5467 / ncold=8143 / nlayers=1\n",
      "bio11: xmin=-32.266806146449994 / ymin=26.63319397795 / nrows=5467 / ncold=8143 / nlayers=1\n",
      "bio10: xmin=-32.266806146449994 / ymin=26.63319397795 / nrows=5467 / ncold=8143 / nlayers=1\n",
      "bio1: xmin=-32.266806146449994 / ymin=26.63319397795 / nrows=5467 / ncold=8143 / nlayers=1\n"
     ]
    }
   ],
   "source": [
    "for p in p_bioclim.rasters_providers:\n",
    "    print(f\"{p.name}: xmin={p.x_min} / ymin={p.y_min} / nrows={p.n_rows} / ncold={p.n_cols} / nlayers={p.nb_layers}\")"
   ]
  },
  {
   "cell_type": "code",
   "execution_count": 15,
   "metadata": {},
   "outputs": [
    {
     "name": "stdout",
     "output_type": "stream",
     "text": [
      "crop_proj_soc_5-15cm_mean_1000: xmin=-32.266806146449994 / ymin=26.63319397795 / nrows=5467 / ncold=8143 / nlayers=1\n",
      "crop_proj_silt_5-15cm_mean_1000: xmin=-32.266806146449994 / ymin=26.63319397795 / nrows=5467 / ncold=8143 / nlayers=1\n",
      "crop_proj_sand_5-15cm_mean_1000: xmin=-32.266806146449994 / ymin=26.63319397795 / nrows=5467 / ncold=8143 / nlayers=1\n",
      "crop_proj_phh2o_5-15cm_mean_1000: xmin=-32.266806146449994 / ymin=26.63319397795 / nrows=5467 / ncold=8143 / nlayers=1\n",
      "crop_proj_nitrogen_5-15cm_mean_1000: xmin=-32.266806146449994 / ymin=26.63319397795 / nrows=5467 / ncold=8143 / nlayers=1\n",
      "crop_proj_clay_5-15cm_mean_1000: xmin=-32.26680614645 / ymin=26.63319397795 / nrows=5467 / ncold=8143 / nlayers=1\n",
      "crop_proj_cfvo_5-15cm_mean_1000: xmin=-32.26680614645 / ymin=26.63319397795 / nrows=5467 / ncold=8143 / nlayers=1\n",
      "crop_proj_cec_5-15cm_mean_1000: xmin=-32.266806146449994 / ymin=26.63319397795 / nrows=5467 / ncold=8143 / nlayers=1\n",
      "crop_proj_bdod_5-15cm_mean_1000: xmin=-32.26680614645 / ymin=26.63319397795 / nrows=5467 / ncold=8143 / nlayers=1\n"
     ]
    }
   ],
   "source": [
    "for p in p_soil.rasters_providers:\n",
    "    print(f\"{p.name}: xmin={p.x_min} / ymin={p.y_min} / nrows={p.n_rows} / ncold={p.n_cols} / nlayers={p.nb_layers}\")"
   ]
  },
  {
   "cell_type": "code",
   "execution_count": 37,
   "metadata": {},
   "outputs": [],
   "source": [
    "# patch_size = 1\n",
    "# flatten = True \n",
    "# p_bioclim = MultipleRasterPatchProvider(bioclim_dir, size=patch_size, flatten=flatten) \n",
    "# p_soil = MultipleRasterPatchProvider(soil_dir, size=patch_size, flatten=flatten) \n",
    "# p_landcover = RasterPatchProvider(landcover_dir, size=patch_size, flatten=flatten)\n",
    "p_sat = JpegPatchProvider(sat_dir, size = 128)"
   ]
  },
  {
   "cell_type": "code",
   "execution_count": 38,
   "metadata": {},
   "outputs": [
    {
     "name": "stdout",
     "output_type": "stream",
     "text": [
      "\n",
      "TRAINING DATA: n_items=2856818, n_species=2174\n",
      "(4, 128, 128) (2174,)\n",
      "nb of features = 4\n",
      "\n",
      "VALIDATION DATA: n_items=7438, n_species=2174\n",
      "(4, 128, 128) (2174,)\n"
     ]
    }
   ],
   "source": [
    "train_data = PatchesDatasetCooccurrences(occurrences=po_path, providers=(p_sat))\n",
    "print(f\"\\nTRAINING DATA: n_items={len(train_data)}, n_species={len(train_data.species)}\")\n",
    "print(train_data[0][0].shape, train_data[0][1].shape)\n",
    "\n",
    "n_features = train_data[0][0].shape[0]\n",
    "n_species = len(train_data.species)\n",
    "print(f\"nb of features = {n_features}\")\n",
    "\n",
    "val_data = PatchesDatasetCooccurrences(occurrences=pa_path, providers=(p_sat), species=train_data.species)\n",
    "print(f\"\\nVALIDATION DATA: n_items={len(val_data)}, n_species={len(val_data.species)}\")\n",
    "print(val_data[0][0].shape, val_data[0][1].shape)"
   ]
  },
  {
   "cell_type": "code",
   "execution_count": 40,
   "metadata": {},
   "outputs": [
    {
     "data": {
      "text/plain": [
       "Int64Index([  124,   125,   135,   150,   255,   263,   270,   291,   293,\n",
       "              314,\n",
       "            ...\n",
       "             9843,  9846,  9884,  9935,  9976, 10002, 10005, 10013, 10031,\n",
       "            10038],\n",
       "           dtype='int64', length=467)"
      ]
     },
     "execution_count": 40,
     "metadata": {},
     "output_type": "execute_result"
    }
   ],
   "source": [
    "low_occ_species = train_data.species_counts[train_data.species_counts < 50].index\n",
    "low_occ_species"
   ]
  },
  {
   "cell_type": "code",
   "execution_count": 41,
   "metadata": {},
   "outputs": [],
   "source": [
    "low_occ_species_idx = np.where(np.isin(train_data.species, low_occ_species))"
   ]
  },
  {
   "cell_type": "code",
   "execution_count": 47,
   "metadata": {},
   "outputs": [
    {
     "data": {
      "text/plain": [
       "(467,)"
      ]
     },
     "execution_count": 47,
     "metadata": {},
     "output_type": "execute_result"
    }
   ],
   "source": [
    "low_occ_species_idx[0].shape"
   ]
  },
  {
   "cell_type": "code",
   "execution_count": 48,
   "metadata": {},
   "outputs": [
    {
     "name": "stderr",
     "output_type": "stream",
     "text": [
      "100%|██████████| 8/8 [00:09<00:00,  1.18s/it]"
     ]
    },
    {
     "name": "stdout",
     "output_type": "stream",
     "text": [
      "(7438, 2174)\n"
     ]
    },
    {
     "name": "stderr",
     "output_type": "stream",
     "text": [
      "\n"
     ]
    }
   ],
   "source": [
    "val_loader = torch.utils.data.DataLoader(val_data, shuffle=False, batch_size=1024)\n",
    "labels_list = []\n",
    "for inputs, labels in tqdm(val_loader):\n",
    "    labels_list.append(labels.numpy())\n",
    "labels = np.concatenate(labels_list)\n",
    "print(labels.shape)"
   ]
  },
  {
   "cell_type": "code",
   "execution_count": 50,
   "metadata": {},
   "outputs": [
    {
     "data": {
      "text/plain": [
       "(7438, 1, 467)"
      ]
     },
     "execution_count": 50,
     "metadata": {},
     "output_type": "execute_result"
    }
   ],
   "source": [
    "labels[:, low_occ_species_idx].shape"
   ]
  },
  {
   "cell_type": "code",
   "execution_count": 61,
   "metadata": {},
   "outputs": [
    {
     "data": {
      "text/plain": [
       "(7438, 970)"
      ]
     },
     "execution_count": 61,
     "metadata": {},
     "output_type": "execute_result"
    }
   ],
   "source": [
    "pred = torch.rand(labels.shape).numpy()\n",
    "pred.shape"
   ]
  },
  {
   "cell_type": "code",
   "execution_count": 62,
   "metadata": {},
   "outputs": [
    {
     "data": {
      "text/plain": [
       "0.5000934604360244"
      ]
     },
     "execution_count": 62,
     "metadata": {},
     "output_type": "execute_result"
    }
   ],
   "source": [
    "roc_auc_score(labels, pred)"
   ]
  },
  {
   "cell_type": "code",
   "execution_count": 65,
   "metadata": {},
   "outputs": [
    {
     "data": {
      "text/plain": [
       "0.502039523418048"
      ]
     },
     "execution_count": 65,
     "metadata": {},
     "output_type": "execute_result"
    }
   ],
   "source": [
    "roc_auc_score(labels[:, low_occ_species_idx], pred[:, low_occ_species_idx])"
   ]
  },
  {
   "cell_type": "code",
   "execution_count": 64,
   "metadata": {},
   "outputs": [
    {
     "data": {
      "text/plain": [
       "(7438, 100)"
      ]
     },
     "execution_count": 64,
     "metadata": {},
     "output_type": "execute_result"
    }
   ],
   "source": [
    ".shape"
   ]
  },
  {
   "cell_type": "code",
   "execution_count": 68,
   "metadata": {},
   "outputs": [],
   "source": [
    "model = models.resnet18(weights='ResNet18_Weights.IMAGENET1K_V1')\n",
    "weights = model.conv1.weight.data.clone()\n",
    "model.conv1 = torch.nn.Conv2d(6, 64, kernel_size=(7,7), stride=(2,2),\n",
    "                              padding=(3,3), bias=False)\n",
    "# first three bands are RGB\n",
    "model.conv1.weight.data[:, :3, :, :] = weights"
   ]
  },
  {
   "cell_type": "code",
   "execution_count": 70,
   "metadata": {},
   "outputs": [
    {
     "data": {
      "text/plain": [
       "torch.Size([64, 6, 7, 7])"
      ]
     },
     "execution_count": 70,
     "metadata": {},
     "output_type": "execute_result"
    }
   ],
   "source": [
    "model.conv1.weight.data.size()"
   ]
  },
  {
   "cell_type": "code",
   "execution_count": 72,
   "metadata": {},
   "outputs": [
    {
     "data": {
      "text/plain": [
       "torch.Size([64, 3, 7, 7])"
      ]
     },
     "execution_count": 72,
     "metadata": {},
     "output_type": "execute_result"
    }
   ],
   "source": [
    "model.conv1.weight.data[:, 3:, :, :].size()"
   ]
  },
  {
   "cell_type": "code",
   "execution_count": 80,
   "metadata": {},
   "outputs": [
    {
     "data": {
      "text/plain": [
       "tensor([[-1.0419e-02,  1.1083e-02, -6.9434e-03,  3.0505e-02, -2.7535e-02,\n",
       "          3.0613e-02, -1.3736e-02],\n",
       "        [-4.4154e-03,  5.1310e-02, -7.3337e-03, -5.8778e-02, -2.6754e-02,\n",
       "          2.3524e-02,  2.8689e-02],\n",
       "        [-7.0826e-08, -6.1125e-09,  7.1953e-08,  7.7593e-08,  9.5889e-08,\n",
       "          1.2904e-07,  1.2558e-07]])"
      ]
     },
     "execution_count": 80,
     "metadata": {},
     "output_type": "execute_result"
    }
   ],
   "source": [
    "weights[:,0,:,:].repeat((3,1,1,1)).reshape((64,3,7,7))[0,:,:,0]"
   ]
  },
  {
   "cell_type": "code",
   "execution_count": 83,
   "metadata": {},
   "outputs": [
    {
     "data": {
      "text/plain": [
       "tensor([-0.0104,  0.0111, -0.0069,  0.0305, -0.0275,  0.0306, -0.0137])"
      ]
     },
     "execution_count": 83,
     "metadata": {},
     "output_type": "execute_result"
    }
   ],
   "source": [
    "weights[0,0,:,0]"
   ]
  },
  {
   "cell_type": "code",
   "execution_count": 62,
   "metadata": {},
   "outputs": [],
   "source": [
    "model = models.resnet18(weights='ResNet18_Weights.IMAGENET1K_V1')\n",
    "weights = model.conv1.weight.data.clone()\n",
    "model.conv1 = torch.nn.Conv2d(len(p_sat.bands_names), 64, kernel_size=(7,7), stride=(2,2),\n",
    "                              padding=(3,3), bias=False)\n",
    "# first three bands are RGB\n",
    "model.conv1.weight.data[:, :3, :, :] = weights\n",
    "# initialize weights for 4th band (NIR) to pretrained weights for R\n",
    "model.conv1.weight.data[:,-1,:,:] = weights[:,0,:,:]\n",
    "model.fc = torch.nn.Linear(512, n_species)"
   ]
  },
  {
   "cell_type": "code",
   "execution_count": 63,
   "metadata": {},
   "outputs": [],
   "source": [
    "train_loader = torch.utils.data.DataLoader(train_data, shuffle=True, batch_size=100)\n",
    "optimizer = torch.optim.SGD(model.parameters(), lr=1e-3)\n",
    "loss_fn = torch.nn.BCELoss()"
   ]
  },
  {
   "cell_type": "code",
   "execution_count": 67,
   "metadata": {},
   "outputs": [
    {
     "name": "stdout",
     "output_type": "stream",
     "text": [
      "-----------------------\n",
      "torch.Size([100, 4, 128, 128])\n",
      "torch.Size([100, 970])\n",
      "torch.Size([100, 970])\n",
      "tensor(0.7661, grad_fn=<BinaryCrossEntropyBackward0>)\n",
      "-----------------------\n",
      "torch.Size([100, 4, 128, 128])\n",
      "torch.Size([100, 970])\n",
      "torch.Size([100, 970])\n",
      "tensor(0.7662, grad_fn=<BinaryCrossEntropyBackward0>)\n"
     ]
    },
    {
     "ename": "KeyboardInterrupt",
     "evalue": "",
     "output_type": "error",
     "traceback": [
      "\u001b[0;31m---------------------------------------------------------------------------\u001b[0m",
      "\u001b[0;31mKeyboardInterrupt\u001b[0m                         Traceback (most recent call last)",
      "Cell \u001b[0;32mIn[67], line 14\u001b[0m\n\u001b[1;32m     12\u001b[0m \u001b[38;5;28mprint\u001b[39m(loss)\n\u001b[1;32m     13\u001b[0m optimizer\u001b[38;5;241m.\u001b[39mzero_grad()\n\u001b[0;32m---> 14\u001b[0m \u001b[43mloss\u001b[49m\u001b[38;5;241;43m.\u001b[39;49m\u001b[43mbackward\u001b[49m\u001b[43m(\u001b[49m\u001b[43m)\u001b[49m\n\u001b[1;32m     15\u001b[0m optimizer\u001b[38;5;241m.\u001b[39mstep()\n",
      "File \u001b[0;32m~/miniconda3/envs/glc23/lib/python3.9/site-packages/torch/_tensor.py:487\u001b[0m, in \u001b[0;36mTensor.backward\u001b[0;34m(self, gradient, retain_graph, create_graph, inputs)\u001b[0m\n\u001b[1;32m    477\u001b[0m \u001b[38;5;28;01mif\u001b[39;00m has_torch_function_unary(\u001b[38;5;28mself\u001b[39m):\n\u001b[1;32m    478\u001b[0m     \u001b[38;5;28;01mreturn\u001b[39;00m handle_torch_function(\n\u001b[1;32m    479\u001b[0m         Tensor\u001b[38;5;241m.\u001b[39mbackward,\n\u001b[1;32m    480\u001b[0m         (\u001b[38;5;28mself\u001b[39m,),\n\u001b[0;32m   (...)\u001b[0m\n\u001b[1;32m    485\u001b[0m         inputs\u001b[38;5;241m=\u001b[39minputs,\n\u001b[1;32m    486\u001b[0m     )\n\u001b[0;32m--> 487\u001b[0m \u001b[43mtorch\u001b[49m\u001b[38;5;241;43m.\u001b[39;49m\u001b[43mautograd\u001b[49m\u001b[38;5;241;43m.\u001b[39;49m\u001b[43mbackward\u001b[49m\u001b[43m(\u001b[49m\n\u001b[1;32m    488\u001b[0m \u001b[43m    \u001b[49m\u001b[38;5;28;43mself\u001b[39;49m\u001b[43m,\u001b[49m\u001b[43m \u001b[49m\u001b[43mgradient\u001b[49m\u001b[43m,\u001b[49m\u001b[43m \u001b[49m\u001b[43mretain_graph\u001b[49m\u001b[43m,\u001b[49m\u001b[43m \u001b[49m\u001b[43mcreate_graph\u001b[49m\u001b[43m,\u001b[49m\u001b[43m \u001b[49m\u001b[43minputs\u001b[49m\u001b[38;5;241;43m=\u001b[39;49m\u001b[43minputs\u001b[49m\n\u001b[1;32m    489\u001b[0m \u001b[43m\u001b[49m\u001b[43m)\u001b[49m\n",
      "File \u001b[0;32m~/miniconda3/envs/glc23/lib/python3.9/site-packages/torch/autograd/__init__.py:200\u001b[0m, in \u001b[0;36mbackward\u001b[0;34m(tensors, grad_tensors, retain_graph, create_graph, grad_variables, inputs)\u001b[0m\n\u001b[1;32m    195\u001b[0m     retain_graph \u001b[38;5;241m=\u001b[39m create_graph\n\u001b[1;32m    197\u001b[0m \u001b[38;5;66;03m# The reason we repeat same the comment below is that\u001b[39;00m\n\u001b[1;32m    198\u001b[0m \u001b[38;5;66;03m# some Python versions print out the first line of a multi-line function\u001b[39;00m\n\u001b[1;32m    199\u001b[0m \u001b[38;5;66;03m# calls in the traceback and some print out the last line\u001b[39;00m\n\u001b[0;32m--> 200\u001b[0m \u001b[43mVariable\u001b[49m\u001b[38;5;241;43m.\u001b[39;49m\u001b[43m_execution_engine\u001b[49m\u001b[38;5;241;43m.\u001b[39;49m\u001b[43mrun_backward\u001b[49m\u001b[43m(\u001b[49m\u001b[43m  \u001b[49m\u001b[38;5;66;43;03m# Calls into the C++ engine to run the backward pass\u001b[39;49;00m\n\u001b[1;32m    201\u001b[0m \u001b[43m    \u001b[49m\u001b[43mtensors\u001b[49m\u001b[43m,\u001b[49m\u001b[43m \u001b[49m\u001b[43mgrad_tensors_\u001b[49m\u001b[43m,\u001b[49m\u001b[43m \u001b[49m\u001b[43mretain_graph\u001b[49m\u001b[43m,\u001b[49m\u001b[43m \u001b[49m\u001b[43mcreate_graph\u001b[49m\u001b[43m,\u001b[49m\u001b[43m \u001b[49m\u001b[43minputs\u001b[49m\u001b[43m,\u001b[49m\n\u001b[1;32m    202\u001b[0m \u001b[43m    \u001b[49m\u001b[43mallow_unreachable\u001b[49m\u001b[38;5;241;43m=\u001b[39;49m\u001b[38;5;28;43;01mTrue\u001b[39;49;00m\u001b[43m,\u001b[49m\u001b[43m \u001b[49m\u001b[43maccumulate_grad\u001b[49m\u001b[38;5;241;43m=\u001b[39;49m\u001b[38;5;28;43;01mTrue\u001b[39;49;00m\u001b[43m)\u001b[49m\n",
      "\u001b[0;31mKeyboardInterrupt\u001b[0m: "
     ]
    }
   ],
   "source": [
    "for inputs, labels in train_loader:\n",
    "    print('-----------------------')\n",
    "    inputs = inputs.to(torch.float32)\n",
    "    labels = labels.to(torch.float32)\n",
    "\n",
    "    print(inputs.size())\n",
    "    print(labels.size())\n",
    "    pred = model(inputs)\n",
    "    print(pred.size())\n",
    "    pred_sigmoid = torch.sigmoid(pred)\n",
    "    loss = loss_fn(pred_sigmoid, labels)\n",
    "    print(loss)\n",
    "    optimizer.zero_grad()\n",
    "    loss.backward()\n",
    "    optimizer.step()"
   ]
  },
  {
   "cell_type": "code",
   "execution_count": 25,
   "metadata": {},
   "outputs": [
    {
     "data": {
      "text/plain": [
       "array([[[1.35131398, 1.10365753, 1.16046181],\n",
       "        [1.35131398, 1.14308757, 1.121358  ],\n",
       "        [1.38644307, 1.10365753, 1.121358  ],\n",
       "        [1.49183034, 1.14308757, 1.19956562]],\n",
       "\n",
       "       [[1.56208853, 1.37966779, 1.35598084],\n",
       "        [1.59721762, 1.41909782, 1.39508465],\n",
       "        [1.70260489, 1.45852786, 1.47329226],\n",
       "        [1.73773398, 1.41909782, 1.47329226]],\n",
       "\n",
       "       [[1.70260489, 1.53738793, 1.51239607],\n",
       "        [1.59721762, 1.41909782, 1.39508465],\n",
       "        [1.63234671, 1.37966779, 1.39508465],\n",
       "        [1.6674758 , 1.41909782, 1.35598084]],\n",
       "\n",
       "       [[1.91337944, 1.77396815, 1.74701891],\n",
       "        [1.56208853, 1.37966779, 1.27777323],\n",
       "        [1.42157216, 1.14308757, 1.08225419],\n",
       "        [1.59721762, 1.34023775, 1.27777323]]])"
      ]
     },
     "execution_count": 25,
     "metadata": {},
     "output_type": "execute_result"
    }
   ],
   "source": [
    "img = (img - p_sat.stats[folder]['mean']) / p_sat.stats[folder]['std']\n",
    "img[0:4,0:4]"
   ]
  },
  {
   "cell_type": "code",
   "execution_count": 31,
   "metadata": {},
   "outputs": [
    {
     "data": {
      "text/plain": [
       "1.74609375"
      ]
     },
     "execution_count": 31,
     "metadata": {},
     "output_type": "execute_result"
    }
   ],
   "source": [
    "(122-77.3)/25.6\n",
    "# [[140, 134, 122],\n",
    "# [130, 124, 110],\n",
    "# [126, 118, 105],\n",
    "# [131, 123, 110]]]\n",
    "\n",
    "# {'rgb': {'mean': array([85.53290863, 89.00972544, 77.32355934]),\n",
    "#   'std': array([28.46643494, 25.3613768 , 25.57295764])},"
   ]
  },
  {
   "cell_type": "code",
   "execution_count": null,
   "metadata": {},
   "outputs": [],
   "source": [
    "\n",
    "        tensor_list = []\n",
    "        for folder in set([self.channel_folder[x] for x in self.channels]):\n",
    "            path = os.path.join(self.root_path, folder, sub_folder_1, sub_folder_2, patch_id+self.ext)\n",
    "            img = np.asarray(Image.open(path))\n",
    "            if self.normalize:\n",
    "                img = (img - self.stats[folder]['mean']) / self.stats[folder]['std']\n",
    "            if folder == 'rgb':\n",
    "                img = img.transpose((2,0,1))\n",
    "            else:\n",
    "                img = np.expand_dims(img, axis=0)\n",
    "            tensor_list.append(img)\n",
    "\n",
    "        tensor = np.concatenate(tensor_list)   "
   ]
  },
  {
   "cell_type": "code",
   "execution_count": 7,
   "metadata": {},
   "outputs": [],
   "source": [
    "n_layers=5\n",
    "width=1000\n",
    "learning_rate = 1e-3\n",
    "\n",
    "checkpoint = torch.load(f\"models/0129_MLP_env_1x1_an_slds/last.pth\") \n",
    "model = MLP(n_features, n_species, n_layers, width).to(dev)\n",
    "model.load_state_dict(checkpoint['state_dict'])\n",
    "\n",
    "optimizer = torch.optim.SGD(model.parameters(), lr=learning_rate)\n",
    "optimizer.load_state_dict(checkpoint['optimizer_state_dict'])"
   ]
  },
  {
   "cell_type": "code",
   "execution_count": 8,
   "metadata": {},
   "outputs": [],
   "source": [
    "batch_size = 100\n",
    "val_loader = torch.utils.data.DataLoader(val_data, shuffle=False, batch_size=batch_size)"
   ]
  },
  {
   "cell_type": "code",
   "execution_count": 9,
   "metadata": {},
   "outputs": [
    {
     "name": "stderr",
     "output_type": "stream",
     "text": [
      "  0%|          | 0/75 [00:00<?, ?it/s]\n"
     ]
    }
   ],
   "source": [
    "model.eval()\n",
    "for inputs, labels in tqdm(val_loader):\n",
    "\n",
    "    inputs = inputs.to(torch.float32).to(dev)\n",
    "    labels = labels.to(torch.float32).to(dev) \n",
    "\n",
    "    y_pred = model(inputs)\n",
    "    y_pred_sigmoid = torch.sigmoid(y_pred)\n",
    "    break"
   ]
  },
  {
   "cell_type": "code",
   "execution_count": 10,
   "metadata": {},
   "outputs": [],
   "source": [
    "from util import full_weighted_loss, log_loss, an_slds_loss"
   ]
  },
  {
   "cell_type": "code",
   "execution_count": 28,
   "metadata": {},
   "outputs": [
    {
     "data": {
      "text/plain": [
       "tensor([106.8681,  45.5787, 144.8981,  70.2276,  69.8719, 112.8003,  62.7500,\n",
       "         82.3768,  36.6073, 184.6388,  77.1216,  72.7857, 113.3533, 117.8457,\n",
       "        202.0119,  71.3230,  79.6669,  37.1057, 141.3414,  57.0748, 132.5101,\n",
       "         85.3297,  62.0836,  49.5300,  54.6256,  34.3797,  77.3789, 173.8106,\n",
       "         64.9701, 127.9944,  57.2855,  97.8895,  51.8376,  88.0655, 109.3177,\n",
       "        132.1242, 106.3008,  69.8161,  99.7802, 100.4560, 275.9788, 346.0638,\n",
       "        126.0209, 281.7271,  97.2427, 221.4101, 211.8990, 102.8910, 163.4634,\n",
       "         41.5764, 101.1121, 165.3643, 336.8092,  71.8653,  99.8071,  66.5811,\n",
       "         56.4781, 168.0095,  39.2877,  52.1725, 219.6209, 200.0959, 171.7413,\n",
       "        265.4856, 175.7674, 158.0072, 112.1769, 169.8835, 154.3561, 139.3261,\n",
       "        162.3870,  95.9657, 185.2584, 107.3661, 168.4667, 113.6763, 178.3697,\n",
       "         72.2473, 215.3839, 102.5622, 211.9854, 240.1242,  98.8133,  38.8538,\n",
       "        155.6076, 224.3242, 230.9366, 150.0206,  70.6028, 102.1886, 107.5701,\n",
       "         98.5510,  68.9900, 137.5833, 162.9423, 234.5599,   1.0420,  20.0570,\n",
       "          8.5112,  78.2271], device='cuda:0', grad_fn=<SumBackward1>)"
      ]
     },
     "execution_count": 28,
     "metadata": {},
     "output_type": "execute_result"
    }
   ],
   "source": [
    "site_loss = ((log_loss(y_pred_sigmoid) * labels) + (log_loss(1 - y_pred_sigmoid) * (1 - labels))).sum(axis=1)\n",
    "site_loss"
   ]
  },
  {
   "cell_type": "code",
   "execution_count": 36,
   "metadata": {},
   "outputs": [
    {
     "data": {
      "text/plain": [
       "tensor([5.8823e-02, 1.1111e-01, 4.7619e-02, 8.3333e-02, 7.1429e-02, 4.7619e-02,\n",
       "        1.0000e-01, 7.6923e-02, 2.0000e-01, 3.7037e-02, 9.0909e-02, 8.3333e-02,\n",
       "        4.7619e-02, 5.2632e-02, 3.4483e-02, 1.0000e-01, 7.6923e-02, 1.6667e-01,\n",
       "        4.3478e-02, 9.0909e-02, 5.2632e-02, 7.1429e-02, 1.1111e-01, 1.2500e-01,\n",
       "        9.0909e-02, 2.0000e-01, 7.6923e-02, 3.8462e-02, 1.0000e-01, 4.5455e-02,\n",
       "        1.1111e-01, 7.1429e-02, 1.4286e-01, 7.1429e-02, 6.6667e-02, 5.2632e-02,\n",
       "        5.5556e-02, 8.3333e-02, 6.6667e-02, 5.8823e-02, 2.3810e-02, 1.8868e-02,\n",
       "        5.2632e-02, 2.4390e-02, 6.6667e-02, 2.8571e-02, 3.1250e-02, 6.2500e-02,\n",
       "        4.0000e-02, 1.6667e-01, 6.2500e-02, 4.0000e-02, 2.0000e-02, 9.0909e-02,\n",
       "        7.1429e-02, 1.0000e-01, 1.1111e-01, 3.8462e-02, 1.6667e-01, 1.2500e-01,\n",
       "        3.0303e-02, 3.3333e-02, 4.0000e-02, 2.4390e-02, 3.7037e-02, 4.3478e-02,\n",
       "        5.8823e-02, 3.8462e-02, 4.3478e-02, 4.7619e-02, 4.0000e-02, 6.6667e-02,\n",
       "        3.5714e-02, 6.6667e-02, 4.0000e-02, 5.8823e-02, 3.8462e-02, 9.0909e-02,\n",
       "        3.1250e-02, 6.2500e-02, 3.1250e-02, 2.8571e-02, 6.6667e-02, 1.6667e-01,\n",
       "        4.3478e-02, 2.9412e-02, 2.8571e-02, 4.3478e-02, 9.0909e-02, 6.6667e-02,\n",
       "        6.2500e-02, 6.6667e-02, 9.0909e-02, 4.7619e-02, 4.0000e-02, 2.7778e-02,\n",
       "        1.0000e+05, 3.3333e-01, 9.9999e-01, 8.3333e-02], device='cuda:0')"
      ]
     },
     "execution_count": 36,
     "metadata": {},
     "output_type": "execute_result"
    }
   ],
   "source": [
    "site_weight = 1 / (labels.sum(axis=1) + 1e-5)\n",
    "site_weight"
   ]
  },
  {
   "cell_type": "code",
   "execution_count": 37,
   "metadata": {},
   "outputs": [
    {
     "data": {
      "text/plain": [
       "tensor([6.2864e+00, 5.0643e+00, 6.8999e+00, 5.8523e+00, 4.9908e+00, 5.3714e+00,\n",
       "        6.2750e+00, 6.3367e+00, 7.3214e+00, 6.8385e+00, 7.0110e+00, 6.0655e+00,\n",
       "        5.3978e+00, 6.2024e+00, 6.9659e+00, 7.1323e+00, 6.1282e+00, 6.1843e+00,\n",
       "        6.1453e+00, 5.1886e+00, 6.9742e+00, 6.0950e+00, 6.8982e+00, 6.1912e+00,\n",
       "        4.9660e+00, 6.8759e+00, 5.9522e+00, 6.6850e+00, 6.4970e+00, 5.8179e+00,\n",
       "        6.3651e+00, 6.9921e+00, 7.4054e+00, 6.2904e+00, 7.2878e+00, 6.9539e+00,\n",
       "        5.9056e+00, 5.8180e+00, 6.6520e+00, 5.9092e+00, 6.5709e+00, 6.5295e+00,\n",
       "        6.6327e+00, 6.8714e+00, 6.4828e+00, 6.3260e+00, 6.6218e+00, 6.4307e+00,\n",
       "        6.5385e+00, 6.9294e+00, 6.3195e+00, 6.6146e+00, 6.7362e+00, 6.5332e+00,\n",
       "        7.1291e+00, 6.6581e+00, 6.2753e+00, 6.4619e+00, 6.5479e+00, 6.5216e+00,\n",
       "        6.6552e+00, 6.6699e+00, 6.8696e+00, 6.4753e+00, 6.5099e+00, 6.8699e+00,\n",
       "        6.5986e+00, 6.5340e+00, 6.7111e+00, 6.6346e+00, 6.4955e+00, 6.3977e+00,\n",
       "        6.6164e+00, 7.1577e+00, 6.7387e+00, 6.6868e+00, 6.8604e+00, 6.5679e+00,\n",
       "        6.7307e+00, 6.4101e+00, 6.6245e+00, 6.8607e+00, 6.5876e+00, 6.4756e+00,\n",
       "        6.7655e+00, 6.5978e+00, 6.5982e+00, 6.5226e+00, 6.4184e+00, 6.8126e+00,\n",
       "        6.7231e+00, 6.5701e+00, 6.2718e+00, 6.5516e+00, 6.5177e+00, 6.5156e+00,\n",
       "        1.0420e+05, 6.6856e+00, 8.5111e+00, 6.5189e+00], device='cuda:0',\n",
       "       grad_fn=<MulBackward0>)"
      ]
     },
     "execution_count": 37,
     "metadata": {},
     "output_type": "execute_result"
    }
   ],
   "source": [
    "(site_loss * site_weight)"
   ]
  },
  {
   "cell_type": "code",
   "execution_count": 59,
   "metadata": {},
   "outputs": [
    {
     "data": {
      "text/plain": [
       "tensor([1., 1., 1., 1., 1., 1., 1., 1., 1., 1., 1., 1., 1., 1., 1., 1., 1., 1.,\n",
       "        1., 1., 1., 1., 1., 1., 1., 1., 1., 1., 1., 1., 1., 2., 1., 1., 1., 1.,\n",
       "        1., 1., 1., 1., 1., 1., 1., 1., 1., 1., 3., 1., 1., 1., 1., 1., 1., 1.,\n",
       "        1., 1., 1., 1., 1., 1., 1., 1., 2., 2., 1., 1., 1., 3., 1., 1., 1., 1.,\n",
       "        1., 1., 1., 1., 1., 1., 1., 1., 1., 1., 1., 1., 1., 1., 1., 1., 1., 1.,\n",
       "        1., 1., 1., 1., 1., 1., 1., 1., 1., 1.], device='cuda:0')"
      ]
     },
     "execution_count": 59,
     "metadata": {},
     "output_type": "execute_result"
    }
   ],
   "source": [
    "labels.sum(axis=1)"
   ]
  },
  {
   "cell_type": "code",
   "execution_count": 63,
   "metadata": {},
   "outputs": [
    {
     "data": {
      "text/plain": [
       "torch.Size([100, 970])"
      ]
     },
     "execution_count": 63,
     "metadata": {},
     "output_type": "execute_result"
    }
   ],
   "source": [
    "((log_loss(y_pred_sigmoid) * labels) + (log_loss(1 - y_pred_sigmoid) * (1 - labels))).size()"
   ]
  },
  {
   "cell_type": "code",
   "execution_count": 75,
   "metadata": {},
   "outputs": [
    {
     "data": {
      "text/plain": [
       "torch.Size([100, 970])"
      ]
     },
     "execution_count": 75,
     "metadata": {},
     "output_type": "execute_result"
    }
   ],
   "source": [
    "torch.transpose((1/labels.sum(axis=1)).repeat((970,1)), 0, 1).size()"
   ]
  },
  {
   "cell_type": "code",
   "execution_count": 48,
   "metadata": {},
   "outputs": [],
   "source": [
    "y_pred_sigmoid = torch.sigmoid(y_pred)"
   ]
  },
  {
   "cell_type": "code",
   "execution_count": 77,
   "metadata": {},
   "outputs": [
    {
     "data": {
      "text/plain": [
       "tensor([[0.5036, 0.4159, 1.7799,  ..., 0.9572, 1.0645, 0.9608],\n",
       "        [0.1574, 0.1706, 2.9006,  ..., 0.1897, 0.3298, 0.1231],\n",
       "        [0.2147, 0.2465, 2.3799,  ..., 0.2062, 0.3572, 0.2083],\n",
       "        ...,\n",
       "        [0.3140, 0.1083, 1.4215,  ..., 0.4738, 1.5109, 1.0405],\n",
       "        [0.2706, 0.4160, 0.5155,  ..., 4.4013, 0.3735, 0.6763],\n",
       "        [0.3368, 0.2044, 1.4221,  ..., 1.1035, 1.1413, 0.5425]],\n",
       "       device='cuda:0', grad_fn=<AddBackward0>)"
      ]
     },
     "execution_count": 77,
     "metadata": {},
     "output_type": "execute_result"
    }
   ],
   "source": [
    "((log_loss(y_pred_sigmoid) * labels) + (log_loss(1 - y_pred_sigmoid) * (1 - labels)))"
   ]
  },
  {
   "cell_type": "code",
   "execution_count": 79,
   "metadata": {},
   "outputs": [],
   "source": [
    "per_site_loss = ((log_loss(y_pred_sigmoid) * labels) + (log_loss(1 - y_pred_sigmoid) * (1 - labels))) * torch.transpose((1/labels.sum(axis=1)).repeat((970,1)), 0, 1)"
   ]
  },
  {
   "cell_type": "code",
   "execution_count": 89,
   "metadata": {},
   "outputs": [
    {
     "data": {
      "text/plain": [
       "torch.Size([100])"
      ]
     },
     "execution_count": 89,
     "metadata": {},
     "output_type": "execute_result"
    }
   ],
   "source": [
    "((log_loss(y_pred_sigmoid) * labels) + (log_loss(1 - y_pred_sigmoid) * (1 - labels))).sum(axis=1).size()"
   ]
  },
  {
   "cell_type": "code",
   "execution_count": 91,
   "metadata": {},
   "outputs": [
    {
     "data": {
      "text/plain": [
       "torch.Size([100])"
      ]
     },
     "execution_count": 91,
     "metadata": {},
     "output_type": "execute_result"
    }
   ],
   "source": [
    "(1/labels.sum(axis=1)).size()"
   ]
  },
  {
   "cell_type": "code",
   "execution_count": 92,
   "metadata": {},
   "outputs": [
    {
     "name": "stdout",
     "output_type": "stream",
     "text": [
      "torch.Size([100]) torch.Size([100])\n"
     ]
    }
   ],
   "source": [
    "site_loss = ((log_loss(y_pred_sigmoid) * labels) + (log_loss(1 - y_pred_sigmoid) * (1 - labels))).sum(axis=1)\n",
    "site_weight = (1/labels.sum(axis=1))\n",
    "print(site_loss.size(), site_weight.size())"
   ]
  },
  {
   "cell_type": "code",
   "execution_count": 94,
   "metadata": {},
   "outputs": [
    {
     "data": {
      "text/plain": [
       "tensor(1037.8966, device='cuda:0', grad_fn=<MeanBackward0>)"
      ]
     },
     "execution_count": 94,
     "metadata": {},
     "output_type": "execute_result"
    }
   ],
   "source": [
    "(site_loss * site_weight).mean()"
   ]
  },
  {
   "cell_type": "code",
   "execution_count": 84,
   "metadata": {},
   "outputs": [
    {
     "data": {
      "text/plain": [
       "tensor(103789.6641, device='cuda:0', grad_fn=<SumBackward0>)"
      ]
     },
     "execution_count": 84,
     "metadata": {},
     "output_type": "execute_result"
    }
   ],
   "source": [
    "per_site_loss.sum() "
   ]
  },
  {
   "cell_type": "code",
   "execution_count": 14,
   "metadata": {},
   "outputs": [
    {
     "data": {
      "text/plain": [
       "torch.Size([970])"
      ]
     },
     "execution_count": 14,
     "metadata": {},
     "output_type": "execute_result"
    }
   ],
   "source": [
    "species_weights = torch.tensor(train_data.species_weights)\n",
    "species_weights.size()"
   ]
  },
  {
   "cell_type": "code",
   "execution_count": 35,
   "metadata": {},
   "outputs": [
    {
     "data": {
      "text/plain": [
       "torch.Size([100, 96])"
      ]
     },
     "execution_count": 35,
     "metadata": {},
     "output_type": "execute_result"
    }
   ],
   "source": [
    "(log_loss(pred) * labels).shape# * species_weights.repeat((batch_size, 1))).mean()\n"
   ]
  },
  {
   "cell_type": "code",
   "execution_count": 16,
   "metadata": {},
   "outputs": [
    {
     "ename": "RuntimeError",
     "evalue": "The size of tensor a (96) must match the size of tensor b (970) at non-singleton dimension 1",
     "output_type": "error",
     "traceback": [
      "\u001b[0;31m---------------------------------------------------------------------------\u001b[0m",
      "\u001b[0;31mRuntimeError\u001b[0m                              Traceback (most recent call last)",
      "Cell \u001b[0;32mIn[16], line 1\u001b[0m\n\u001b[0;32m----> 1\u001b[0m \u001b[43mpred\u001b[49m\u001b[43m \u001b[49m\u001b[38;5;241;43m*\u001b[39;49m\u001b[43m \u001b[49m\u001b[43mlabels\u001b[49m\n",
      "\u001b[0;31mRuntimeError\u001b[0m: The size of tensor a (96) must match the size of tensor b (970) at non-singleton dimension 1"
     ]
    }
   ],
   "source": [
    "pred * labels"
   ]
  },
  {
   "cell_type": "code",
   "execution_count": 56,
   "metadata": {},
   "outputs": [
    {
     "data": {
      "text/plain": [
       "(96,)"
      ]
     },
     "execution_count": 56,
     "metadata": {},
     "output_type": "execute_result"
    }
   ],
   "source": [
    "np.ones(labels.shape[1]).shape"
   ]
  },
  {
   "cell_type": "code",
   "execution_count": 58,
   "metadata": {},
   "outputs": [
    {
     "data": {
      "text/plain": [
       "torch.Size([100, 96])"
      ]
     },
     "execution_count": 58,
     "metadata": {},
     "output_type": "execute_result"
    }
   ],
   "source": [
    "labels.shape"
   ]
  },
  {
   "cell_type": "code",
   "execution_count": 64,
   "metadata": {},
   "outputs": [],
   "source": [
    "species_weights = torch.tensor(train_data.species_weights.values)"
   ]
  },
  {
   "cell_type": "code",
   "execution_count": 65,
   "metadata": {},
   "outputs": [
    {
     "data": {
      "text/plain": [
       "torch.Size([100, 96])"
      ]
     },
     "execution_count": 65,
     "metadata": {},
     "output_type": "execute_result"
    }
   ],
   "source": [
    "species_weights.repeat((100,1)).size()"
   ]
  },
  {
   "cell_type": "code",
   "execution_count": 67,
   "metadata": {},
   "outputs": [
    {
     "data": {
      "text/plain": [
       "tensor([100., 100., 100., 100., 100., 100., 100., 100., 100., 100., 100., 100.,\n",
       "        100., 100., 100., 100., 100., 100., 100., 100., 100., 100., 100., 100.,\n",
       "        100., 100.,  50., 100., 100., 100., 100., 100., 100., 100., 100., 100.,\n",
       "        100., 100., 100., 100., 100., 100., 100., 100., 100., 100., 100., 100.,\n",
       "        100., 100., 100., 100., 100., 100.,  50., 100., 100., 100., 100., 100.,\n",
       "        100., 100., 100., 100., 100., 100., 100., 100., 100., 100., 100., 100.,\n",
       "         50., 100., 100., 100., 100., 100., 100., 100., 100., 100., 100., 100.,\n",
       "        100., 100., 100., 100., 100., 100., 100., 100., 100., 100., 100.,  50.],\n",
       "       dtype=torch.float64)"
      ]
     },
     "execution_count": 67,
     "metadata": {},
     "output_type": "execute_result"
    }
   ],
   "source": [
    "species_weights"
   ]
  },
  {
   "cell_type": "code",
   "execution_count": 70,
   "metadata": {},
   "outputs": [
    {
     "data": {
      "text/plain": [
       "torch.Size([100, 96])"
      ]
     },
     "execution_count": 70,
     "metadata": {},
     "output_type": "execute_result"
    }
   ],
   "source": [
    "(species_weights/(species_weights-1)).repeat((batch_size,1)).size()"
   ]
  },
  {
   "cell_type": "code",
   "execution_count": 12,
   "metadata": {},
   "outputs": [
    {
     "data": {
      "text/plain": [
       "{'lat': 34.57748, 'lon': 32.98918, 'patchID': 6999895, 'dayOfYear': 72}"
      ]
     },
     "execution_count": 12,
     "metadata": {},
     "output_type": "execute_result"
    }
   ],
   "source": [
    "index = 0 \n",
    "item_columns=['lat','lon','patchID','dayOfYear']\n",
    "train_data.items.iloc[index][item_columns].to_dict()"
   ]
  },
  {
   "cell_type": "code",
   "execution_count": 14,
   "metadata": {},
   "outputs": [
    {
     "data": {
      "text/plain": [
       "[9807]"
      ]
     },
     "execution_count": 14,
     "metadata": {},
     "output_type": "execute_result"
    }
   ],
   "source": [
    "train_data.items.iloc[index]['speciesId']"
   ]
  },
  {
   "cell_type": "code",
   "execution_count": 9,
   "metadata": {},
   "outputs": [
    {
     "name": "stderr",
     "output_type": "stream",
     "text": [
      "  0%|          | 0/19449 [00:21<?, ?it/s]\n"
     ]
    },
    {
     "ename": "KeyboardInterrupt",
     "evalue": "",
     "output_type": "error",
     "traceback": [
      "\u001b[0;31m---------------------------------------------------------------------------\u001b[0m",
      "\u001b[0;31mKeyboardInterrupt\u001b[0m                         Traceback (most recent call last)",
      "Cell \u001b[0;32mIn[9], line 1\u001b[0m\n\u001b[0;32m----> 1\u001b[0m \u001b[38;5;28;01mfor\u001b[39;00m inputs, labels \u001b[38;5;129;01min\u001b[39;00m tqdm(train_loader):\n\u001b[1;32m      2\u001b[0m     \u001b[38;5;28mprint\u001b[39m(inputs\u001b[38;5;241m.\u001b[39mshape, labels\u001b[38;5;241m.\u001b[39mshape)\n",
      "File \u001b[0;32m~/miniconda3/envs/glc23/lib/python3.9/site-packages/tqdm/std.py:1178\u001b[0m, in \u001b[0;36mtqdm.__iter__\u001b[0;34m(self)\u001b[0m\n\u001b[1;32m   1175\u001b[0m time \u001b[38;5;241m=\u001b[39m \u001b[38;5;28mself\u001b[39m\u001b[38;5;241m.\u001b[39m_time\n\u001b[1;32m   1177\u001b[0m \u001b[38;5;28;01mtry\u001b[39;00m:\n\u001b[0;32m-> 1178\u001b[0m     \u001b[38;5;28;01mfor\u001b[39;00m obj \u001b[38;5;129;01min\u001b[39;00m iterable:\n\u001b[1;32m   1179\u001b[0m         \u001b[38;5;28;01myield\u001b[39;00m obj\n\u001b[1;32m   1180\u001b[0m         \u001b[38;5;66;03m# Update and possibly print the progressbar.\u001b[39;00m\n\u001b[1;32m   1181\u001b[0m         \u001b[38;5;66;03m# Note: does not call self.update(1) for speed optimisation.\u001b[39;00m\n",
      "File \u001b[0;32m~/miniconda3/envs/glc23/lib/python3.9/site-packages/torch/utils/data/dataloader.py:634\u001b[0m, in \u001b[0;36m_BaseDataLoaderIter.__next__\u001b[0;34m(self)\u001b[0m\n\u001b[1;32m    631\u001b[0m \u001b[38;5;28;01mif\u001b[39;00m \u001b[38;5;28mself\u001b[39m\u001b[38;5;241m.\u001b[39m_sampler_iter \u001b[38;5;129;01mis\u001b[39;00m \u001b[38;5;28;01mNone\u001b[39;00m:\n\u001b[1;32m    632\u001b[0m     \u001b[38;5;66;03m# TODO(https://github.com/pytorch/pytorch/issues/76750)\u001b[39;00m\n\u001b[1;32m    633\u001b[0m     \u001b[38;5;28mself\u001b[39m\u001b[38;5;241m.\u001b[39m_reset()  \u001b[38;5;66;03m# type: ignore[call-arg]\u001b[39;00m\n\u001b[0;32m--> 634\u001b[0m data \u001b[38;5;241m=\u001b[39m \u001b[38;5;28;43mself\u001b[39;49m\u001b[38;5;241;43m.\u001b[39;49m\u001b[43m_next_data\u001b[49m\u001b[43m(\u001b[49m\u001b[43m)\u001b[49m\n\u001b[1;32m    635\u001b[0m \u001b[38;5;28mself\u001b[39m\u001b[38;5;241m.\u001b[39m_num_yielded \u001b[38;5;241m+\u001b[39m\u001b[38;5;241m=\u001b[39m \u001b[38;5;241m1\u001b[39m\n\u001b[1;32m    636\u001b[0m \u001b[38;5;28;01mif\u001b[39;00m \u001b[38;5;28mself\u001b[39m\u001b[38;5;241m.\u001b[39m_dataset_kind \u001b[38;5;241m==\u001b[39m _DatasetKind\u001b[38;5;241m.\u001b[39mIterable \u001b[38;5;129;01mand\u001b[39;00m \\\n\u001b[1;32m    637\u001b[0m         \u001b[38;5;28mself\u001b[39m\u001b[38;5;241m.\u001b[39m_IterableDataset_len_called \u001b[38;5;129;01mis\u001b[39;00m \u001b[38;5;129;01mnot\u001b[39;00m \u001b[38;5;28;01mNone\u001b[39;00m \u001b[38;5;129;01mand\u001b[39;00m \\\n\u001b[1;32m    638\u001b[0m         \u001b[38;5;28mself\u001b[39m\u001b[38;5;241m.\u001b[39m_num_yielded \u001b[38;5;241m>\u001b[39m \u001b[38;5;28mself\u001b[39m\u001b[38;5;241m.\u001b[39m_IterableDataset_len_called:\n",
      "File \u001b[0;32m~/miniconda3/envs/glc23/lib/python3.9/site-packages/torch/utils/data/dataloader.py:1329\u001b[0m, in \u001b[0;36m_MultiProcessingDataLoaderIter._next_data\u001b[0;34m(self)\u001b[0m\n\u001b[1;32m   1326\u001b[0m     \u001b[38;5;28;01mreturn\u001b[39;00m \u001b[38;5;28mself\u001b[39m\u001b[38;5;241m.\u001b[39m_process_data(data)\n\u001b[1;32m   1328\u001b[0m \u001b[38;5;28;01massert\u001b[39;00m \u001b[38;5;129;01mnot\u001b[39;00m \u001b[38;5;28mself\u001b[39m\u001b[38;5;241m.\u001b[39m_shutdown \u001b[38;5;129;01mand\u001b[39;00m \u001b[38;5;28mself\u001b[39m\u001b[38;5;241m.\u001b[39m_tasks_outstanding \u001b[38;5;241m>\u001b[39m \u001b[38;5;241m0\u001b[39m\n\u001b[0;32m-> 1329\u001b[0m idx, data \u001b[38;5;241m=\u001b[39m \u001b[38;5;28;43mself\u001b[39;49m\u001b[38;5;241;43m.\u001b[39;49m\u001b[43m_get_data\u001b[49m\u001b[43m(\u001b[49m\u001b[43m)\u001b[49m\n\u001b[1;32m   1330\u001b[0m \u001b[38;5;28mself\u001b[39m\u001b[38;5;241m.\u001b[39m_tasks_outstanding \u001b[38;5;241m-\u001b[39m\u001b[38;5;241m=\u001b[39m \u001b[38;5;241m1\u001b[39m\n\u001b[1;32m   1331\u001b[0m \u001b[38;5;28;01mif\u001b[39;00m \u001b[38;5;28mself\u001b[39m\u001b[38;5;241m.\u001b[39m_dataset_kind \u001b[38;5;241m==\u001b[39m _DatasetKind\u001b[38;5;241m.\u001b[39mIterable:\n\u001b[1;32m   1332\u001b[0m     \u001b[38;5;66;03m# Check for _IterableDatasetStopIteration\u001b[39;00m\n",
      "File \u001b[0;32m~/miniconda3/envs/glc23/lib/python3.9/site-packages/torch/utils/data/dataloader.py:1295\u001b[0m, in \u001b[0;36m_MultiProcessingDataLoaderIter._get_data\u001b[0;34m(self)\u001b[0m\n\u001b[1;32m   1291\u001b[0m     \u001b[38;5;66;03m# In this case, `self._data_queue` is a `queue.Queue`,. But we don't\u001b[39;00m\n\u001b[1;32m   1292\u001b[0m     \u001b[38;5;66;03m# need to call `.task_done()` because we don't use `.join()`.\u001b[39;00m\n\u001b[1;32m   1293\u001b[0m \u001b[38;5;28;01melse\u001b[39;00m:\n\u001b[1;32m   1294\u001b[0m     \u001b[38;5;28;01mwhile\u001b[39;00m \u001b[38;5;28;01mTrue\u001b[39;00m:\n\u001b[0;32m-> 1295\u001b[0m         success, data \u001b[38;5;241m=\u001b[39m \u001b[38;5;28;43mself\u001b[39;49m\u001b[38;5;241;43m.\u001b[39;49m\u001b[43m_try_get_data\u001b[49m\u001b[43m(\u001b[49m\u001b[43m)\u001b[49m\n\u001b[1;32m   1296\u001b[0m         \u001b[38;5;28;01mif\u001b[39;00m success:\n\u001b[1;32m   1297\u001b[0m             \u001b[38;5;28;01mreturn\u001b[39;00m data\n",
      "File \u001b[0;32m~/miniconda3/envs/glc23/lib/python3.9/site-packages/torch/utils/data/dataloader.py:1133\u001b[0m, in \u001b[0;36m_MultiProcessingDataLoaderIter._try_get_data\u001b[0;34m(self, timeout)\u001b[0m\n\u001b[1;32m   1120\u001b[0m \u001b[38;5;28;01mdef\u001b[39;00m \u001b[38;5;21m_try_get_data\u001b[39m(\u001b[38;5;28mself\u001b[39m, timeout\u001b[38;5;241m=\u001b[39m_utils\u001b[38;5;241m.\u001b[39mMP_STATUS_CHECK_INTERVAL):\n\u001b[1;32m   1121\u001b[0m     \u001b[38;5;66;03m# Tries to fetch data from `self._data_queue` once for a given timeout.\u001b[39;00m\n\u001b[1;32m   1122\u001b[0m     \u001b[38;5;66;03m# This can also be used as inner loop of fetching without timeout, with\u001b[39;00m\n\u001b[0;32m   (...)\u001b[0m\n\u001b[1;32m   1130\u001b[0m     \u001b[38;5;66;03m# Returns a 2-tuple:\u001b[39;00m\n\u001b[1;32m   1131\u001b[0m     \u001b[38;5;66;03m#   (bool: whether successfully get data, any: data if successful else None)\u001b[39;00m\n\u001b[1;32m   1132\u001b[0m     \u001b[38;5;28;01mtry\u001b[39;00m:\n\u001b[0;32m-> 1133\u001b[0m         data \u001b[38;5;241m=\u001b[39m \u001b[38;5;28;43mself\u001b[39;49m\u001b[38;5;241;43m.\u001b[39;49m\u001b[43m_data_queue\u001b[49m\u001b[38;5;241;43m.\u001b[39;49m\u001b[43mget\u001b[49m\u001b[43m(\u001b[49m\u001b[43mtimeout\u001b[49m\u001b[38;5;241;43m=\u001b[39;49m\u001b[43mtimeout\u001b[49m\u001b[43m)\u001b[49m\n\u001b[1;32m   1134\u001b[0m         \u001b[38;5;28;01mreturn\u001b[39;00m (\u001b[38;5;28;01mTrue\u001b[39;00m, data)\n\u001b[1;32m   1135\u001b[0m     \u001b[38;5;28;01mexcept\u001b[39;00m \u001b[38;5;167;01mException\u001b[39;00m \u001b[38;5;28;01mas\u001b[39;00m e:\n\u001b[1;32m   1136\u001b[0m         \u001b[38;5;66;03m# At timeout and error, we manually check whether any worker has\u001b[39;00m\n\u001b[1;32m   1137\u001b[0m         \u001b[38;5;66;03m# failed. Note that this is the only mechanism for Windows to detect\u001b[39;00m\n\u001b[1;32m   1138\u001b[0m         \u001b[38;5;66;03m# worker failures.\u001b[39;00m\n",
      "File \u001b[0;32m~/miniconda3/envs/glc23/lib/python3.9/multiprocessing/queues.py:113\u001b[0m, in \u001b[0;36mQueue.get\u001b[0;34m(self, block, timeout)\u001b[0m\n\u001b[1;32m    111\u001b[0m \u001b[38;5;28;01mif\u001b[39;00m block:\n\u001b[1;32m    112\u001b[0m     timeout \u001b[38;5;241m=\u001b[39m deadline \u001b[38;5;241m-\u001b[39m time\u001b[38;5;241m.\u001b[39mmonotonic()\n\u001b[0;32m--> 113\u001b[0m     \u001b[38;5;28;01mif\u001b[39;00m \u001b[38;5;129;01mnot\u001b[39;00m \u001b[38;5;28;43mself\u001b[39;49m\u001b[38;5;241;43m.\u001b[39;49m\u001b[43m_poll\u001b[49m\u001b[43m(\u001b[49m\u001b[43mtimeout\u001b[49m\u001b[43m)\u001b[49m:\n\u001b[1;32m    114\u001b[0m         \u001b[38;5;28;01mraise\u001b[39;00m Empty\n\u001b[1;32m    115\u001b[0m \u001b[38;5;28;01melif\u001b[39;00m \u001b[38;5;129;01mnot\u001b[39;00m \u001b[38;5;28mself\u001b[39m\u001b[38;5;241m.\u001b[39m_poll():\n",
      "File \u001b[0;32m~/miniconda3/envs/glc23/lib/python3.9/multiprocessing/connection.py:257\u001b[0m, in \u001b[0;36m_ConnectionBase.poll\u001b[0;34m(self, timeout)\u001b[0m\n\u001b[1;32m    255\u001b[0m \u001b[38;5;28mself\u001b[39m\u001b[38;5;241m.\u001b[39m_check_closed()\n\u001b[1;32m    256\u001b[0m \u001b[38;5;28mself\u001b[39m\u001b[38;5;241m.\u001b[39m_check_readable()\n\u001b[0;32m--> 257\u001b[0m \u001b[38;5;28;01mreturn\u001b[39;00m \u001b[38;5;28;43mself\u001b[39;49m\u001b[38;5;241;43m.\u001b[39;49m\u001b[43m_poll\u001b[49m\u001b[43m(\u001b[49m\u001b[43mtimeout\u001b[49m\u001b[43m)\u001b[49m\n",
      "File \u001b[0;32m~/miniconda3/envs/glc23/lib/python3.9/multiprocessing/connection.py:424\u001b[0m, in \u001b[0;36mConnection._poll\u001b[0;34m(self, timeout)\u001b[0m\n\u001b[1;32m    423\u001b[0m \u001b[38;5;28;01mdef\u001b[39;00m \u001b[38;5;21m_poll\u001b[39m(\u001b[38;5;28mself\u001b[39m, timeout):\n\u001b[0;32m--> 424\u001b[0m     r \u001b[38;5;241m=\u001b[39m \u001b[43mwait\u001b[49m\u001b[43m(\u001b[49m\u001b[43m[\u001b[49m\u001b[38;5;28;43mself\u001b[39;49m\u001b[43m]\u001b[49m\u001b[43m,\u001b[49m\u001b[43m \u001b[49m\u001b[43mtimeout\u001b[49m\u001b[43m)\u001b[49m\n\u001b[1;32m    425\u001b[0m     \u001b[38;5;28;01mreturn\u001b[39;00m \u001b[38;5;28mbool\u001b[39m(r)\n",
      "File \u001b[0;32m~/miniconda3/envs/glc23/lib/python3.9/multiprocessing/connection.py:931\u001b[0m, in \u001b[0;36mwait\u001b[0;34m(object_list, timeout)\u001b[0m\n\u001b[1;32m    928\u001b[0m     deadline \u001b[38;5;241m=\u001b[39m time\u001b[38;5;241m.\u001b[39mmonotonic() \u001b[38;5;241m+\u001b[39m timeout\n\u001b[1;32m    930\u001b[0m \u001b[38;5;28;01mwhile\u001b[39;00m \u001b[38;5;28;01mTrue\u001b[39;00m:\n\u001b[0;32m--> 931\u001b[0m     ready \u001b[38;5;241m=\u001b[39m \u001b[43mselector\u001b[49m\u001b[38;5;241;43m.\u001b[39;49m\u001b[43mselect\u001b[49m\u001b[43m(\u001b[49m\u001b[43mtimeout\u001b[49m\u001b[43m)\u001b[49m\n\u001b[1;32m    932\u001b[0m     \u001b[38;5;28;01mif\u001b[39;00m ready:\n\u001b[1;32m    933\u001b[0m         \u001b[38;5;28;01mreturn\u001b[39;00m [key\u001b[38;5;241m.\u001b[39mfileobj \u001b[38;5;28;01mfor\u001b[39;00m (key, events) \u001b[38;5;129;01min\u001b[39;00m ready]\n",
      "File \u001b[0;32m~/miniconda3/envs/glc23/lib/python3.9/selectors.py:416\u001b[0m, in \u001b[0;36m_PollLikeSelector.select\u001b[0;34m(self, timeout)\u001b[0m\n\u001b[1;32m    414\u001b[0m ready \u001b[38;5;241m=\u001b[39m []\n\u001b[1;32m    415\u001b[0m \u001b[38;5;28;01mtry\u001b[39;00m:\n\u001b[0;32m--> 416\u001b[0m     fd_event_list \u001b[38;5;241m=\u001b[39m \u001b[38;5;28;43mself\u001b[39;49m\u001b[38;5;241;43m.\u001b[39;49m\u001b[43m_selector\u001b[49m\u001b[38;5;241;43m.\u001b[39;49m\u001b[43mpoll\u001b[49m\u001b[43m(\u001b[49m\u001b[43mtimeout\u001b[49m\u001b[43m)\u001b[49m\n\u001b[1;32m    417\u001b[0m \u001b[38;5;28;01mexcept\u001b[39;00m \u001b[38;5;167;01mInterruptedError\u001b[39;00m:\n\u001b[1;32m    418\u001b[0m     \u001b[38;5;28;01mreturn\u001b[39;00m ready\n",
      "\u001b[0;31mKeyboardInterrupt\u001b[0m: "
     ]
    }
   ],
   "source": [
    "for inputs, labels in tqdm(train_loader):\n",
    "    print(inputs.shape, labels.shape)"
   ]
  },
  {
   "cell_type": "code",
   "execution_count": 32,
   "metadata": {},
   "outputs": [
    {
     "data": {
      "text/plain": [
       "(3, 128, 128)"
      ]
     },
     "execution_count": 32,
     "metadata": {},
     "output_type": "execute_result"
    }
   ],
   "source": [
    "img.shape"
   ]
  },
  {
   "cell_type": "code",
   "execution_count": 33,
   "metadata": {},
   "outputs": [
    {
     "data": {
      "text/plain": [
       "array([[[89, 90],\n",
       "        [93, 92]],\n",
       "\n",
       "       [[85, 86],\n",
       "        [89, 88]],\n",
       "\n",
       "       [[73, 74],\n",
       "        [77, 76]]], dtype=uint8)"
      ]
     },
     "execution_count": 33,
     "metadata": {},
     "output_type": "execute_result"
    }
   ],
   "source": [
    "img[:,0:2,0:2]"
   ]
  },
  {
   "cell_type": "code",
   "execution_count": 34,
   "metadata": {},
   "outputs": [
    {
     "ename": "ValueError",
     "evalue": "operands could not be broadcast together with shapes (3,128,128) (3,) ",
     "output_type": "error",
     "traceback": [
      "\u001b[0;31m---------------------------------------------------------------------------\u001b[0m",
      "\u001b[0;31mValueError\u001b[0m                                Traceback (most recent call last)",
      "Cell \u001b[0;32mIn[34], line 1\u001b[0m\n\u001b[0;32m----> 1\u001b[0m ((\u001b[43mimg\u001b[49m\u001b[43m \u001b[49m\u001b[38;5;241;43m-\u001b[39;49m\u001b[43m \u001b[49m\u001b[43mstats\u001b[49m\u001b[43m[\u001b[49m\u001b[43mfolder\u001b[49m\u001b[43m]\u001b[49m\u001b[43m[\u001b[49m\u001b[38;5;124;43m'\u001b[39;49m\u001b[38;5;124;43mmean\u001b[39;49m\u001b[38;5;124;43m'\u001b[39;49m\u001b[43m]\u001b[49m) \u001b[38;5;241m/\u001b[39m stats[folder][\u001b[38;5;124m'\u001b[39m\u001b[38;5;124mstd\u001b[39m\u001b[38;5;124m'\u001b[39m])[:,\u001b[38;5;241m0\u001b[39m:\u001b[38;5;241m2\u001b[39m,\u001b[38;5;241m0\u001b[39m:\u001b[38;5;241m2\u001b[39m]\n",
      "\u001b[0;31mValueError\u001b[0m: operands could not be broadcast together with shapes (3,128,128) (3,) "
     ]
    }
   ],
   "source": [
    "((img - stats[folder]['mean']) / stats[folder]['std'])[:,0:2,0:2]"
   ]
  },
  {
   "cell_type": "code",
   "execution_count": 98,
   "metadata": {},
   "outputs": [
    {
     "data": {
      "text/plain": [
       "3"
      ]
     },
     "execution_count": 98,
     "metadata": {},
     "output_type": "execute_result"
    }
   ],
   "source": [
    "img_shape = np.array(Image.open(files[0], mode='r')).shape \n",
    "dims = len(img_shape)\n",
    "dims"
   ]
  },
  {
   "cell_type": "code",
   "execution_count": 99,
   "metadata": {},
   "outputs": [
    {
     "data": {
      "text/plain": [
       "(128, 128, 3)"
      ]
     },
     "execution_count": 99,
     "metadata": {},
     "output_type": "execute_result"
    }
   ],
   "source": [
    "img_shape"
   ]
  },
  {
   "cell_type": "code",
   "execution_count": 100,
   "metadata": {},
   "outputs": [],
   "source": [
    "sums = np.array([0.0] * img_shape[2]) if dims == 3 else np.array([0.0])\n",
    "n_terms = 0\n",
    "\n",
    "for f in files:\n",
    "    img = np.array(Image.open(f, mode='r'))\n",
    "    nans = np.sum(np.isnan(img))\n",
    "    if nans != 0: \n",
    "        print(f)\n",
    "        break\n",
    "    img_sum = np.sum(img, axis=(0,1))\n",
    "    sums += img_sum\n",
    "    n_terms += img.shape[0] * img.shape[1]"
   ]
  },
  {
   "cell_type": "code",
   "execution_count": 76,
   "metadata": {},
   "outputs": [
    {
     "data": {
      "text/plain": [
       "array([2.35789956e+08])"
      ]
     },
     "execution_count": 76,
     "metadata": {},
     "output_type": "execute_result"
    }
   ],
   "source": [
    "sums"
   ]
  },
  {
   "cell_type": "code",
   "execution_count": 101,
   "metadata": {},
   "outputs": [
    {
     "data": {
      "text/plain": [
       "array([83.14263306, 86.63155151, 75.32485657])"
      ]
     },
     "execution_count": 101,
     "metadata": {},
     "output_type": "execute_result"
    }
   ],
   "source": [
    "means = sums / n_terms\n",
    "means"
   ]
  },
  {
   "cell_type": "code",
   "execution_count": 104,
   "metadata": {},
   "outputs": [],
   "source": [
    "pd.DataFrame({'mean': means}).to_csv('data/sample_data/SatelliteImages/rgb_means.csv', index=False)"
   ]
  },
  {
   "cell_type": "code",
   "execution_count": 123,
   "metadata": {},
   "outputs": [
    {
     "data": {
      "text/plain": [
       "array([83.14263306, 86.63155151, 75.32485657])"
      ]
     },
     "execution_count": 123,
     "metadata": {},
     "output_type": "execute_result"
    }
   ],
   "source": [
    "means = pd.read_csv('data/sample_data/SatelliteImages/rgb_means.csv')\n",
    "means = np.array(means['mean'])\n",
    "means"
   ]
  },
  {
   "cell_type": "code",
   "execution_count": 119,
   "metadata": {},
   "outputs": [],
   "source": [
    "sums = np.array([0.0] * img_shape[2]) if dims == 3 else np.array([0.0])\n",
    "n_terms = 0\n",
    "\n",
    "for f in files:\n",
    "    img = np.array(Image.open(f, mode='r'))\n",
    "    sum_dev_mean = np.sum(np.power(img - means, 2), axis=(0,1))\n",
    "    sums += sum_dev_mean\n",
    "    n_terms += img.shape[0] * img.shape[1]    "
   ]
  },
  {
   "cell_type": "code",
   "execution_count": 121,
   "metadata": {},
   "outputs": [
    {
     "data": {
      "text/plain": [
       "array([28.05194011, 25.23968003, 24.4220831 ])"
      ]
     },
     "execution_count": 121,
     "metadata": {},
     "output_type": "execute_result"
    }
   ],
   "source": [
    "std_devs = np.power(sums / n_terms, 0.5)\n",
    "std_devs"
   ]
  },
  {
   "cell_type": "code",
   "execution_count": 122,
   "metadata": {},
   "outputs": [],
   "source": [
    "pd.DataFrame({'std_dev': std_devs}).to_csv('data/sample_data/SatelliteImages/rgb_std_devs.csv', index=False)"
   ]
  },
  {
   "cell_type": "code",
   "execution_count": 77,
   "metadata": {},
   "outputs": [],
   "source": [
    "datadir = 'data/full_data/'\n",
    "bioclim_dir = datadir+'EnvironmentalRasters/Climate/BioClimatic_Average_1981-2010/'\n",
    "soil_dir = datadir+'EnvironmentalRasters/Soilgrids/'\n",
    "po_path = datadir+'Presence_only_occurrences/Presences_only_train_sampled_10_percent_min_100_occurrences.csv' #Presences_only_train_sampled_25_percent_min_10_occurrences.csv'\n",
    "pa_path = datadir+'Presence_Absence_surveys/Presences_Absences_train.csv'"
   ]
  },
  {
   "cell_type": "code",
   "execution_count": 78,
   "metadata": {},
   "outputs": [],
   "source": [
    "occurrences=po_path\n",
    "label_name='speciesId'\n",
    "item_columns=['lat','lon','patchID','dayOfYear']\n",
    "df = pd.read_csv(occurrences, sep=\";\", header='infer', low_memory=False)\n",
    "items = pd.DataFrame(df.groupby(item_columns)[label_name].agg(list)).reset_index()"
   ]
  },
  {
   "cell_type": "code",
   "execution_count": 81,
   "metadata": {},
   "outputs": [],
   "source": [
    "root_path = sat_dir\n",
    "ext = '.jpeg'\n",
    "sub_dirs = next(os.walk(root_path))[1]\n",
    "select = [x for x in ['rgb','nir'] if x in sub_dirs]\n",
    "channels = ['red','green','blue'] + [x for x in select if x != 'rgb']\n",
    "channel_folder = {'red': 'rgb', 'green': 'rgb', 'blue': 'rgb','nir':'nir'}"
   ]
  },
  {
   "cell_type": "code",
   "execution_count": 83,
   "metadata": {},
   "outputs": [],
   "source": [
    "item = items.iloc[0][item_columns].to_dict()\n",
    "patch_id = str(int(item['patchID']))\n",
    "sub_folder_1 = patch_id[-2:]\n",
    "sub_folder_2 = patch_id[-4:-2]"
   ]
  },
  {
   "cell_type": "code",
   "execution_count": 119,
   "metadata": {},
   "outputs": [
    {
     "name": "stdout",
     "output_type": "stream",
     "text": [
      "nir data/sample_data/SatelliteImages/nir/71/87/6998771.jpeg\n",
      "data/sample_data/SatelliteImages/nir_stats.csv\n",
      "rgb data/sample_data/SatelliteImages/rgb/71/87/6998771.jpeg\n",
      "data/sample_data/SatelliteImages/rgb_stats.csv\n"
     ]
    }
   ],
   "source": [
    "for folder in set([channel_folder[x] for x in channels]):\n",
    "    path = os.path.join(root_path, folder, sub_folder_1, sub_folder_2, patch_id+ext)\n",
    "    print(folder, path)\n",
    "    \n",
    "    img = np.asarray(Image.open(path))\n",
    "    if folder == 'rgb':\n",
    "        img = img.transpose((2,0,1))\n",
    "    else:\n",
    "        img = np.expand_dims(img, axis=0)\n",
    "    \n",
    "    stats_path = os.path.join(root_path, folder+'_stats.csv')\n",
    "    print(stats_path)\n",
    "    stats = pd.read_csv(stats_path, sep=';', index_col=0)\n",
    "    #mean, std = df.loc[0, 'mean'], df.loc[0, 'std']\n",
    "                #     img = (img-mean)/std"
   ]
  },
  {
   "cell_type": "code",
   "execution_count": 120,
   "metadata": {},
   "outputs": [
    {
     "data": {
      "text/html": [
       "<div>\n",
       "<style scoped>\n",
       "    .dataframe tbody tr th:only-of-type {\n",
       "        vertical-align: middle;\n",
       "    }\n",
       "\n",
       "    .dataframe tbody tr th {\n",
       "        vertical-align: top;\n",
       "    }\n",
       "\n",
       "    .dataframe thead th {\n",
       "        text-align: right;\n",
       "    }\n",
       "</style>\n",
       "<table border=\"1\" class=\"dataframe\">\n",
       "  <thead>\n",
       "    <tr style=\"text-align: right;\">\n",
       "      <th></th>\n",
       "      <th>mean</th>\n",
       "      <th>std</th>\n",
       "    </tr>\n",
       "  </thead>\n",
       "  <tbody>\n",
       "    <tr>\n",
       "      <th>0</th>\n",
       "      <td>83.142633</td>\n",
       "      <td>28.051940</td>\n",
       "    </tr>\n",
       "    <tr>\n",
       "      <th>1</th>\n",
       "      <td>86.631552</td>\n",
       "      <td>25.239680</td>\n",
       "    </tr>\n",
       "    <tr>\n",
       "      <th>2</th>\n",
       "      <td>75.324857</td>\n",
       "      <td>24.422083</td>\n",
       "    </tr>\n",
       "  </tbody>\n",
       "</table>\n",
       "</div>"
      ],
      "text/plain": [
       "        mean        std\n",
       "0  83.142633  28.051940\n",
       "1  86.631552  25.239680\n",
       "2  75.324857  24.422083"
      ]
     },
     "execution_count": 120,
     "metadata": {},
     "output_type": "execute_result"
    }
   ],
   "source": [
    "stats"
   ]
  },
  {
   "cell_type": "code",
   "execution_count": 121,
   "metadata": {},
   "outputs": [
    {
     "data": {
      "text/plain": [
       "(3, 128, 128)"
      ]
     },
     "execution_count": 121,
     "metadata": {},
     "output_type": "execute_result"
    }
   ],
   "source": [
    "img.shape"
   ]
  },
  {
   "cell_type": "code",
   "execution_count": 122,
   "metadata": {},
   "outputs": [
    {
     "data": {
      "text/plain": [
       "array([[[0, 0, 0],\n",
       "        [0, 0, 0],\n",
       "        [0, 0, 0]],\n",
       "\n",
       "       [[0, 0, 0],\n",
       "        [0, 0, 0],\n",
       "        [0, 0, 0]],\n",
       "\n",
       "       [[4, 4, 4],\n",
       "        [4, 4, 4],\n",
       "        [4, 2, 2]]], dtype=uint8)"
      ]
     },
     "execution_count": 122,
     "metadata": {},
     "output_type": "execute_result"
    }
   ],
   "source": [
    "img[:,0:3,0:3]"
   ]
  },
  {
   "cell_type": "code",
   "execution_count": 123,
   "metadata": {},
   "outputs": [
    {
     "ename": "ValueError",
     "evalue": "assignment destination is read-only",
     "output_type": "error",
     "traceback": [
      "\u001b[0;31m---------------------------------------------------------------------------\u001b[0m",
      "\u001b[0;31mValueError\u001b[0m                                Traceback (most recent call last)",
      "Cell \u001b[0;32mIn[123], line 2\u001b[0m\n\u001b[1;32m      1\u001b[0m \u001b[38;5;28;01mfor\u001b[39;00m i \u001b[38;5;129;01min\u001b[39;00m \u001b[38;5;28mrange\u001b[39m(img\u001b[38;5;241m.\u001b[39mshape[\u001b[38;5;241m0\u001b[39m]):\n\u001b[0;32m----> 2\u001b[0m     img[i,:,:] \u001b[38;5;241m=\u001b[39m img[i,:,:] \u001b[38;5;241m-\u001b[39m stats\u001b[38;5;241m.\u001b[39mloc[i,\u001b[38;5;124m'\u001b[39m\u001b[38;5;124mmean\u001b[39m\u001b[38;5;124m'\u001b[39m]\n",
      "\u001b[0;31mValueError\u001b[0m: assignment destination is read-only"
     ]
    }
   ],
   "source": [
    "for i in range(img.shape[0]):\n",
    "    img[i,:,:] = img[i,:,:] - stats.loc[i,'mean']"
   ]
  },
  {
   "cell_type": "code",
   "execution_count": 76,
   "metadata": {},
   "outputs": [
    {
     "data": {
      "text/html": [
       "<div>\n",
       "<style scoped>\n",
       "    .dataframe tbody tr th:only-of-type {\n",
       "        vertical-align: middle;\n",
       "    }\n",
       "\n",
       "    .dataframe tbody tr th {\n",
       "        vertical-align: top;\n",
       "    }\n",
       "\n",
       "    .dataframe thead th {\n",
       "        text-align: right;\n",
       "    }\n",
       "</style>\n",
       "<table border=\"1\" class=\"dataframe\">\n",
       "  <thead>\n",
       "    <tr style=\"text-align: right;\">\n",
       "      <th></th>\n",
       "      <th>mean</th>\n",
       "      <th>std</th>\n",
       "    </tr>\n",
       "  </thead>\n",
       "  <tbody>\n",
       "    <tr>\n",
       "      <th>0</th>\n",
       "      <td>83.142633</td>\n",
       "      <td>28.051940</td>\n",
       "    </tr>\n",
       "    <tr>\n",
       "      <th>1</th>\n",
       "      <td>86.631552</td>\n",
       "      <td>25.239680</td>\n",
       "    </tr>\n",
       "    <tr>\n",
       "      <th>2</th>\n",
       "      <td>75.324857</td>\n",
       "      <td>24.422083</td>\n",
       "    </tr>\n",
       "  </tbody>\n",
       "</table>\n",
       "</div>"
      ],
      "text/plain": [
       "        mean        std\n",
       "0  83.142633  28.051940\n",
       "1  86.631552  25.239680\n",
       "2  75.324857  24.422083"
      ]
     },
     "execution_count": 76,
     "metadata": {},
     "output_type": "execute_result"
    }
   ],
   "source": [
    "stats = pd.DataFrame({\n",
    "    'mean': np.nanmean(imgs,axis=(0,2,3)),\n",
    "    'std': np.nanstd(imgs,axis=(0,2,3))\n",
    "})\n",
    "stats\n"
   ]
  },
  {
   "cell_type": "code",
   "execution_count": 41,
   "metadata": {},
   "outputs": [
    {
     "data": {
      "text/plain": [
       "array([[[127, 141, 154],\n",
       "        [138, 133, 138],\n",
       "        [121, 108, 117]],\n",
       "\n",
       "       [[110, 129, 134],\n",
       "        [111, 118, 120],\n",
       "        [111, 112, 107]],\n",
       "\n",
       "       [[ 84,  76,  74],\n",
       "        [ 69,  68,  69],\n",
       "        [ 59,  64,  68]]], dtype=uint8)"
      ]
     },
     "execution_count": 41,
     "metadata": {},
     "output_type": "execute_result"
    }
   ],
   "source": [
    "re_imgs = imgs.reshape(3,100,128,128)\n",
    "re_imgs[:, 0, 0:3, 0:3]"
   ]
  },
  {
   "cell_type": "code",
   "execution_count": 5,
   "metadata": {},
   "outputs": [],
   "source": [
    "train_data = MultiScalePatchesDatasetCooccurrences(\n",
    "    occurrences=po_path, \n",
    "    providers=((p_bioclim, p_soil))\n",
    ")"
   ]
  },
  {
   "cell_type": "code",
   "execution_count": 16,
   "metadata": {},
   "outputs": [
    {
     "data": {
      "text/plain": [
       "[1, 1, 64]"
      ]
     },
     "execution_count": 16,
     "metadata": {},
     "output_type": "execute_result"
    }
   ],
   "source": [
    "providers = (p_bioclim, p_soil, p_sat)\n",
    "patch_sizes = [p.patch_size for p in providers]\n",
    "patch_sizes"
   ]
  },
  {
   "cell_type": "code",
   "execution_count": 1,
   "metadata": {},
   "outputs": [
    {
     "ename": "NameError",
     "evalue": "name 'train_data' is not defined",
     "output_type": "error",
     "traceback": [
      "\u001b[0;31m---------------------------------------------------------------------------\u001b[0m",
      "\u001b[0;31mNameError\u001b[0m                                 Traceback (most recent call last)",
      "Cell \u001b[0;32mIn[1], line 1\u001b[0m\n\u001b[0;32m----> 1\u001b[0m \u001b[43mtrain_data\u001b[49m[\u001b[38;5;241m0\u001b[39m][\u001b[38;5;241m0\u001b[39m]\n",
      "\u001b[0;31mNameError\u001b[0m: name 'train_data' is not defined"
     ]
    }
   ],
   "source": [
    "train_data[0][0]"
   ]
  },
  {
   "cell_type": "code",
   "execution_count": 21,
   "metadata": {},
   "outputs": [
    {
     "data": {
      "text/plain": [
       "[[False, False, True], [True, True, False]]"
      ]
     },
     "execution_count": 21,
     "metadata": {},
     "output_type": "execute_result"
    }
   ],
   "source": [
    "unique_patch_sizes = list(set(patch_sizes))\n",
    "providers_grouped = []\n",
    "for patch_size in unique_patch_sizes:\n"
   ]
  },
  {
   "cell_type": "code",
   "execution_count": 6,
   "metadata": {},
   "outputs": [
    {
     "data": {
      "text/plain": [
       "2"
      ]
     },
     "execution_count": 6,
     "metadata": {},
     "output_type": "execute_result"
    }
   ],
   "source": [
    "len(train_data[0][0])"
   ]
  },
  {
   "cell_type": "code",
   "execution_count": 7,
   "metadata": {},
   "outputs": [
    {
     "data": {
      "text/plain": [
       "(19,)"
      ]
     },
     "execution_count": 7,
     "metadata": {},
     "output_type": "execute_result"
    }
   ],
   "source": [
    "train_data[0][0][0].shape"
   ]
  },
  {
   "cell_type": "code",
   "execution_count": 8,
   "metadata": {},
   "outputs": [
    {
     "data": {
      "text/plain": [
       "(9,)"
      ]
     },
     "execution_count": 8,
     "metadata": {},
     "output_type": "execute_result"
    }
   ],
   "source": [
    "train_data[0][0][1].shape"
   ]
  },
  {
   "cell_type": "code",
   "execution_count": 9,
   "metadata": {},
   "outputs": [
    {
     "data": {
      "text/plain": [
       "2"
      ]
     },
     "execution_count": 9,
     "metadata": {},
     "output_type": "execute_result"
    }
   ],
   "source": [
    "train_data.n_groups"
   ]
  },
  {
   "cell_type": "code",
   "execution_count": 37,
   "metadata": {},
   "outputs": [],
   "source": [
    "batch_size = 10\n",
    "train_loader = torch.utils.data.DataLoader(train_data, shuffle=True, batch_size=batch_size)"
   ]
  },
  {
   "cell_type": "code",
   "execution_count": 38,
   "metadata": {},
   "outputs": [
    {
     "name": "stderr",
     "output_type": "stream",
     "text": [
      "  0%|          | 0/31118 [01:21<?, ?it/s]\n"
     ]
    }
   ],
   "source": [
    "for inputs, labels in tqdm(train_loader):\n",
    "    inputs = inputs#.to(torch.float32)\n",
    "    labels = labels#.to(torch.float32)\n",
    "    break\n",
    "\n",
    "    env = inputs[0].to(torch.float32)\n",
    "    sat = inputs[1].to(torch.float32)\n",
    "\n",
    "    print(len(inputs))\n",
    "    print(labels.shape)\n",
    "\n",
    "    env_vars = inputs[0]\n",
    "    sat_vars = inputs[1]\n",
    "    print(env_vars.shape, sat_vars.shape)\n",
    "\n",
    "    break\n",
    "#1m32s for ((p_bioclim, p_soil), (p_sat))"
   ]
  },
  {
   "cell_type": "code",
   "execution_count": 33,
   "metadata": {},
   "outputs": [
    {
     "name": "stdout",
     "output_type": "stream",
     "text": [
      "torch.Size([10, 28]) torch.Size([10, 4, 64, 64])\n"
     ]
    }
   ],
   "source": [
    "env = inputs[0].to(torch.float32)\n",
    "sat = inputs[1].to(torch.float32)\n",
    "print(env.shape, sat.shape)"
   ]
  },
  {
   "cell_type": "code",
   "execution_count": 32,
   "metadata": {},
   "outputs": [
    {
     "data": {
      "text/plain": [
       "torch.Size([10, 970])"
      ]
     },
     "execution_count": 32,
     "metadata": {},
     "output_type": "execute_result"
    }
   ],
   "source": [
    "labels.shape"
   ]
  },
  {
   "cell_type": "code",
   "execution_count": 19,
   "metadata": {},
   "outputs": [],
   "source": [
    "sat_img = train_data[0][0][1]"
   ]
  },
  {
   "cell_type": "code",
   "execution_count": 12,
   "metadata": {},
   "outputs": [],
   "source": [
    "labels = train_data[0][1]"
   ]
  },
  {
   "cell_type": "code",
   "execution_count": 15,
   "metadata": {},
   "outputs": [
    {
     "data": {
      "text/plain": [
       "2"
      ]
     },
     "execution_count": 15,
     "metadata": {},
     "output_type": "execute_result"
    }
   ],
   "source": [
    "occurrences=po_path\n",
    "label_name='speciesId'\n",
    "item_columns=['lat','lon','patchID','dayOfYear']\n",
    "df = pd.read_csv(occurrences, sep=\";\", header='infer', low_memory=False)\n",
    "species = np.unique(df[label_name].values)\n",
    "items = pd.DataFrame(df.groupby(item_columns)[label_name].agg(list)).reset_index()\n",
    "providers = ((p_bioclim, p_soil), (p_sat))"
   ]
  },
  {
   "cell_type": "code",
   "execution_count": 28,
   "metadata": {},
   "outputs": [
    {
     "name": "stdout",
     "output_type": "stream",
     "text": [
      "group [1, 1]\n",
      "[1, 64]\n",
      "[False, True]\n"
     ]
    }
   ],
   "source": [
    "patch_sizes = []\n",
    "one_provider_in_group = []\n",
    "for provider in providers:\n",
    "    try:\n",
    "        patch_sizes.append(provider.patch_size)\n",
    "        one_provider_in_group.append(True)\n",
    "    except:\n",
    "        group_patch_sizes = [p.patch_size for p in provider]\n",
    "        print('group', group_patch_sizes)\n",
    "        assert len(set(group_patch_sizes)) == 1\n",
    "        patch_sizes.append(group_patch_sizes[0])\n",
    "        one_provider_in_group.append(False)\n",
    "print(patch_sizes)\n",
    "print(one_provider_in_group)\n",
    "\n",
    "        "
   ]
  },
  {
   "cell_type": "code",
   "execution_count": 30,
   "metadata": {},
   "outputs": [],
   "source": [
    "provider_list = [MetaPatchProvider(p, one_provider=one_p) for p, one_p in zip(providers, one_provider_in_group)]\n",
    "    "
   ]
  },
  {
   "cell_type": "code",
   "execution_count": 10,
   "metadata": {},
   "outputs": [
    {
     "data": {
      "text/plain": [
       "{'lat': 34.57748, 'lon': 32.98918, 'patchID': 6999895, 'dayOfYear': 72}"
      ]
     },
     "execution_count": 10,
     "metadata": {},
     "output_type": "execute_result"
    }
   ],
   "source": [
    "# get item\n",
    "item = items.iloc[0][item_columns].to_dict()\n",
    "item"
   ]
  },
  {
   "cell_type": "code",
   "execution_count": 11,
   "metadata": {},
   "outputs": [
    {
     "name": "stdout",
     "output_type": "stream",
     "text": [
      "(28,)\n",
      "(4, 64, 64)\n"
     ]
    }
   ],
   "source": [
    "patches = []\n",
    "for p in provider_list:\n",
    "    patch = p[item]\n",
    "    print(patch.shape)\n",
    "    patches.append(patch)"
   ]
  },
  {
   "cell_type": "code",
   "execution_count": 13,
   "metadata": {},
   "outputs": [],
   "source": [
    "env = patches[0]\n",
    "rgb = patches[1]"
   ]
  },
  {
   "cell_type": "code",
   "execution_count": 23,
   "metadata": {},
   "outputs": [
    {
     "ename": "TypeError",
     "evalue": "'int' object is not subscriptable",
     "output_type": "error",
     "traceback": [
      "\u001b[0;31m---------------------------------------------------------------------------\u001b[0m",
      "\u001b[0;31mTypeError\u001b[0m                                 Traceback (most recent call last)",
      "Cell \u001b[0;32mIn[23], line 1\u001b[0m\n\u001b[0;32m----> 1\u001b[0m \u001b[38;5;28;01mfor\u001b[39;00m pro \u001b[38;5;129;01min\u001b[39;00m p:\n\u001b[1;32m      2\u001b[0m     \u001b[38;5;28mprint\u001b[39m(\u001b[38;5;28mstr\u001b[39m(pro))\n",
      "File \u001b[0;32m~/Documents/GeoLifeCLEF/data/PatchesProviders.py:190\u001b[0m, in \u001b[0;36mJpegPatchProvider.__getitem__\u001b[0;34m(self, item)\u001b[0m\n\u001b[1;32m    189\u001b[0m \u001b[38;5;28;01mdef\u001b[39;00m \u001b[38;5;21m__getitem__\u001b[39m(\u001b[38;5;28mself\u001b[39m, item):\n\u001b[0;32m--> 190\u001b[0m     patch_id \u001b[38;5;241m=\u001b[39m \u001b[38;5;28mstr\u001b[39m(\u001b[38;5;28mint\u001b[39m(\u001b[43mitem\u001b[49m\u001b[43m[\u001b[49m\u001b[38;5;124;43m'\u001b[39;49m\u001b[38;5;124;43mpatchID\u001b[39;49m\u001b[38;5;124;43m'\u001b[39;49m\u001b[43m]\u001b[49m))\n\u001b[1;32m    192\u001b[0m     \u001b[38;5;66;03m# folders that contain patches\u001b[39;00m\n\u001b[1;32m    193\u001b[0m     sub_folder_1 \u001b[38;5;241m=\u001b[39m patch_id[\u001b[38;5;241m-\u001b[39m\u001b[38;5;241m2\u001b[39m:]\n",
      "\u001b[0;31mTypeError\u001b[0m: 'int' object is not subscriptable"
     ]
    }
   ],
   "source": [
    "for pro in p:\n",
    "    print(str(pro))"
   ]
  },
  {
   "cell_type": "code",
   "execution_count": 11,
   "metadata": {},
   "outputs": [
    {
     "ename": "TypeError",
     "evalue": "'int' object is not subscriptable",
     "output_type": "error",
     "traceback": [
      "\u001b[0;31m---------------------------------------------------------------------------\u001b[0m",
      "\u001b[0;31mTypeError\u001b[0m                                 Traceback (most recent call last)",
      "File \u001b[0;32m~/miniconda3/envs/glc23/lib/python3.9/site-packages/IPython/core/formatters.py:706\u001b[0m, in \u001b[0;36mPlainTextFormatter.__call__\u001b[0;34m(self, obj)\u001b[0m\n\u001b[1;32m    699\u001b[0m stream \u001b[38;5;241m=\u001b[39m StringIO()\n\u001b[1;32m    700\u001b[0m printer \u001b[38;5;241m=\u001b[39m pretty\u001b[38;5;241m.\u001b[39mRepresentationPrinter(stream, \u001b[38;5;28mself\u001b[39m\u001b[38;5;241m.\u001b[39mverbose,\n\u001b[1;32m    701\u001b[0m     \u001b[38;5;28mself\u001b[39m\u001b[38;5;241m.\u001b[39mmax_width, \u001b[38;5;28mself\u001b[39m\u001b[38;5;241m.\u001b[39mnewline,\n\u001b[1;32m    702\u001b[0m     max_seq_length\u001b[38;5;241m=\u001b[39m\u001b[38;5;28mself\u001b[39m\u001b[38;5;241m.\u001b[39mmax_seq_length,\n\u001b[1;32m    703\u001b[0m     singleton_pprinters\u001b[38;5;241m=\u001b[39m\u001b[38;5;28mself\u001b[39m\u001b[38;5;241m.\u001b[39msingleton_printers,\n\u001b[1;32m    704\u001b[0m     type_pprinters\u001b[38;5;241m=\u001b[39m\u001b[38;5;28mself\u001b[39m\u001b[38;5;241m.\u001b[39mtype_printers,\n\u001b[1;32m    705\u001b[0m     deferred_pprinters\u001b[38;5;241m=\u001b[39m\u001b[38;5;28mself\u001b[39m\u001b[38;5;241m.\u001b[39mdeferred_printers)\n\u001b[0;32m--> 706\u001b[0m \u001b[43mprinter\u001b[49m\u001b[38;5;241;43m.\u001b[39;49m\u001b[43mpretty\u001b[49m\u001b[43m(\u001b[49m\u001b[43mobj\u001b[49m\u001b[43m)\u001b[49m\n\u001b[1;32m    707\u001b[0m printer\u001b[38;5;241m.\u001b[39mflush()\n\u001b[1;32m    708\u001b[0m \u001b[38;5;28;01mreturn\u001b[39;00m stream\u001b[38;5;241m.\u001b[39mgetvalue()\n",
      "File \u001b[0;32m~/miniconda3/envs/glc23/lib/python3.9/site-packages/IPython/lib/pretty.py:410\u001b[0m, in \u001b[0;36mRepresentationPrinter.pretty\u001b[0;34m(self, obj)\u001b[0m\n\u001b[1;32m    407\u001b[0m                         \u001b[38;5;28;01mreturn\u001b[39;00m meth(obj, \u001b[38;5;28mself\u001b[39m, cycle)\n\u001b[1;32m    408\u001b[0m                 \u001b[38;5;28;01mif\u001b[39;00m \u001b[38;5;28mcls\u001b[39m \u001b[38;5;129;01mis\u001b[39;00m \u001b[38;5;129;01mnot\u001b[39;00m \u001b[38;5;28mobject\u001b[39m \\\n\u001b[1;32m    409\u001b[0m                         \u001b[38;5;129;01mand\u001b[39;00m callable(\u001b[38;5;28mcls\u001b[39m\u001b[38;5;241m.\u001b[39m\u001b[38;5;18m__dict__\u001b[39m\u001b[38;5;241m.\u001b[39mget(\u001b[38;5;124m'\u001b[39m\u001b[38;5;124m__repr__\u001b[39m\u001b[38;5;124m'\u001b[39m)):\n\u001b[0;32m--> 410\u001b[0m                     \u001b[38;5;28;01mreturn\u001b[39;00m \u001b[43m_repr_pprint\u001b[49m\u001b[43m(\u001b[49m\u001b[43mobj\u001b[49m\u001b[43m,\u001b[49m\u001b[43m \u001b[49m\u001b[38;5;28;43mself\u001b[39;49m\u001b[43m,\u001b[49m\u001b[43m \u001b[49m\u001b[43mcycle\u001b[49m\u001b[43m)\u001b[49m\n\u001b[1;32m    412\u001b[0m     \u001b[38;5;28;01mreturn\u001b[39;00m _default_pprint(obj, \u001b[38;5;28mself\u001b[39m, cycle)\n\u001b[1;32m    413\u001b[0m \u001b[38;5;28;01mfinally\u001b[39;00m:\n",
      "File \u001b[0;32m~/miniconda3/envs/glc23/lib/python3.9/site-packages/IPython/lib/pretty.py:778\u001b[0m, in \u001b[0;36m_repr_pprint\u001b[0;34m(obj, p, cycle)\u001b[0m\n\u001b[1;32m    776\u001b[0m \u001b[38;5;124;03m\"\"\"A pprint that just redirects to the normal repr function.\"\"\"\u001b[39;00m\n\u001b[1;32m    777\u001b[0m \u001b[38;5;66;03m# Find newlines and replace them with p.break_()\u001b[39;00m\n\u001b[0;32m--> 778\u001b[0m output \u001b[38;5;241m=\u001b[39m \u001b[38;5;28;43mrepr\u001b[39;49m\u001b[43m(\u001b[49m\u001b[43mobj\u001b[49m\u001b[43m)\u001b[49m\n\u001b[1;32m    779\u001b[0m lines \u001b[38;5;241m=\u001b[39m output\u001b[38;5;241m.\u001b[39msplitlines()\n\u001b[1;32m    780\u001b[0m \u001b[38;5;28;01mwith\u001b[39;00m p\u001b[38;5;241m.\u001b[39mgroup():\n",
      "File \u001b[0;32m~/Documents/GeoLifeCLEF/data/PatchesProviders.py:20\u001b[0m, in \u001b[0;36mPatchProvider.__repr__\u001b[0;34m(self)\u001b[0m\n\u001b[1;32m     19\u001b[0m \u001b[38;5;28;01mdef\u001b[39;00m \u001b[38;5;21m__repr__\u001b[39m(\u001b[38;5;28mself\u001b[39m):\n\u001b[0;32m---> 20\u001b[0m     \u001b[38;5;28;01mreturn\u001b[39;00m \u001b[38;5;28;43mself\u001b[39;49m\u001b[38;5;241;43m.\u001b[39;49m\u001b[38;5;21;43m__str__\u001b[39;49m\u001b[43m(\u001b[49m\u001b[43m)\u001b[49m\n",
      "File \u001b[0;32m~/Documents/GeoLifeCLEF/data/PatchesProviders.py:53\u001b[0m, in \u001b[0;36mMetaPatchProvider.__str__\u001b[0;34m(self)\u001b[0m\n\u001b[1;32m     51\u001b[0m \u001b[38;5;28;01mdef\u001b[39;00m \u001b[38;5;21m__str__\u001b[39m(\u001b[38;5;28mself\u001b[39m):\n\u001b[1;32m     52\u001b[0m     result \u001b[38;5;241m=\u001b[39m \u001b[38;5;124m'\u001b[39m\u001b[38;5;124mProviders:\u001b[39m\u001b[38;5;130;01m\\n\u001b[39;00m\u001b[38;5;124m'\u001b[39m\n\u001b[0;32m---> 53\u001b[0m     \u001b[38;5;28;01mfor\u001b[39;00m provider \u001b[38;5;129;01min\u001b[39;00m \u001b[38;5;28mself\u001b[39m\u001b[38;5;241m.\u001b[39mproviders:\n\u001b[1;32m     54\u001b[0m         result \u001b[38;5;241m+\u001b[39m\u001b[38;5;241m=\u001b[39m \u001b[38;5;28mstr\u001b[39m(provider)\n\u001b[1;32m     55\u001b[0m         result \u001b[38;5;241m+\u001b[39m\u001b[38;5;241m=\u001b[39m \u001b[38;5;124m'\u001b[39m\u001b[38;5;130;01m\\n\u001b[39;00m\u001b[38;5;124m'\u001b[39m\n",
      "File \u001b[0;32m~/Documents/GeoLifeCLEF/data/PatchesProviders.py:190\u001b[0m, in \u001b[0;36mJpegPatchProvider.__getitem__\u001b[0;34m(self, item)\u001b[0m\n\u001b[1;32m    189\u001b[0m \u001b[38;5;28;01mdef\u001b[39;00m \u001b[38;5;21m__getitem__\u001b[39m(\u001b[38;5;28mself\u001b[39m, item):\n\u001b[0;32m--> 190\u001b[0m     patch_id \u001b[38;5;241m=\u001b[39m \u001b[38;5;28mstr\u001b[39m(\u001b[38;5;28mint\u001b[39m(\u001b[43mitem\u001b[49m\u001b[43m[\u001b[49m\u001b[38;5;124;43m'\u001b[39;49m\u001b[38;5;124;43mpatchID\u001b[39;49m\u001b[38;5;124;43m'\u001b[39;49m\u001b[43m]\u001b[49m))\n\u001b[1;32m    192\u001b[0m     \u001b[38;5;66;03m# folders that contain patches\u001b[39;00m\n\u001b[1;32m    193\u001b[0m     sub_folder_1 \u001b[38;5;241m=\u001b[39m patch_id[\u001b[38;5;241m-\u001b[39m\u001b[38;5;241m2\u001b[39m:]\n",
      "\u001b[0;31mTypeError\u001b[0m: 'int' object is not subscriptable"
     ]
    }
   ],
   "source": [
    "MetaPatchProvider(p_sat, one_provider=True)"
   ]
  },
  {
   "cell_type": "code",
   "execution_count": 24,
   "metadata": {},
   "outputs": [
    {
     "ename": "TypeError",
     "evalue": "'int' object is not subscriptable",
     "output_type": "error",
     "traceback": [
      "\u001b[0;31m---------------------------------------------------------------------------\u001b[0m",
      "\u001b[0;31mTypeError\u001b[0m                                 Traceback (most recent call last)",
      "File \u001b[0;32m~/miniconda3/envs/glc23/lib/python3.9/site-packages/IPython/core/formatters.py:706\u001b[0m, in \u001b[0;36mPlainTextFormatter.__call__\u001b[0;34m(self, obj)\u001b[0m\n\u001b[1;32m    699\u001b[0m stream \u001b[38;5;241m=\u001b[39m StringIO()\n\u001b[1;32m    700\u001b[0m printer \u001b[38;5;241m=\u001b[39m pretty\u001b[38;5;241m.\u001b[39mRepresentationPrinter(stream, \u001b[38;5;28mself\u001b[39m\u001b[38;5;241m.\u001b[39mverbose,\n\u001b[1;32m    701\u001b[0m     \u001b[38;5;28mself\u001b[39m\u001b[38;5;241m.\u001b[39mmax_width, \u001b[38;5;28mself\u001b[39m\u001b[38;5;241m.\u001b[39mnewline,\n\u001b[1;32m    702\u001b[0m     max_seq_length\u001b[38;5;241m=\u001b[39m\u001b[38;5;28mself\u001b[39m\u001b[38;5;241m.\u001b[39mmax_seq_length,\n\u001b[1;32m    703\u001b[0m     singleton_pprinters\u001b[38;5;241m=\u001b[39m\u001b[38;5;28mself\u001b[39m\u001b[38;5;241m.\u001b[39msingleton_printers,\n\u001b[1;32m    704\u001b[0m     type_pprinters\u001b[38;5;241m=\u001b[39m\u001b[38;5;28mself\u001b[39m\u001b[38;5;241m.\u001b[39mtype_printers,\n\u001b[1;32m    705\u001b[0m     deferred_pprinters\u001b[38;5;241m=\u001b[39m\u001b[38;5;28mself\u001b[39m\u001b[38;5;241m.\u001b[39mdeferred_printers)\n\u001b[0;32m--> 706\u001b[0m \u001b[43mprinter\u001b[49m\u001b[38;5;241;43m.\u001b[39;49m\u001b[43mpretty\u001b[49m\u001b[43m(\u001b[49m\u001b[43mobj\u001b[49m\u001b[43m)\u001b[49m\n\u001b[1;32m    707\u001b[0m printer\u001b[38;5;241m.\u001b[39mflush()\n\u001b[1;32m    708\u001b[0m \u001b[38;5;28;01mreturn\u001b[39;00m stream\u001b[38;5;241m.\u001b[39mgetvalue()\n",
      "File \u001b[0;32m~/miniconda3/envs/glc23/lib/python3.9/site-packages/IPython/lib/pretty.py:410\u001b[0m, in \u001b[0;36mRepresentationPrinter.pretty\u001b[0;34m(self, obj)\u001b[0m\n\u001b[1;32m    407\u001b[0m                         \u001b[38;5;28;01mreturn\u001b[39;00m meth(obj, \u001b[38;5;28mself\u001b[39m, cycle)\n\u001b[1;32m    408\u001b[0m                 \u001b[38;5;28;01mif\u001b[39;00m \u001b[38;5;28mcls\u001b[39m \u001b[38;5;129;01mis\u001b[39;00m \u001b[38;5;129;01mnot\u001b[39;00m \u001b[38;5;28mobject\u001b[39m \\\n\u001b[1;32m    409\u001b[0m                         \u001b[38;5;129;01mand\u001b[39;00m callable(\u001b[38;5;28mcls\u001b[39m\u001b[38;5;241m.\u001b[39m\u001b[38;5;18m__dict__\u001b[39m\u001b[38;5;241m.\u001b[39mget(\u001b[38;5;124m'\u001b[39m\u001b[38;5;124m__repr__\u001b[39m\u001b[38;5;124m'\u001b[39m)):\n\u001b[0;32m--> 410\u001b[0m                     \u001b[38;5;28;01mreturn\u001b[39;00m \u001b[43m_repr_pprint\u001b[49m\u001b[43m(\u001b[49m\u001b[43mobj\u001b[49m\u001b[43m,\u001b[49m\u001b[43m \u001b[49m\u001b[38;5;28;43mself\u001b[39;49m\u001b[43m,\u001b[49m\u001b[43m \u001b[49m\u001b[43mcycle\u001b[49m\u001b[43m)\u001b[49m\n\u001b[1;32m    412\u001b[0m     \u001b[38;5;28;01mreturn\u001b[39;00m _default_pprint(obj, \u001b[38;5;28mself\u001b[39m, cycle)\n\u001b[1;32m    413\u001b[0m \u001b[38;5;28;01mfinally\u001b[39;00m:\n",
      "File \u001b[0;32m~/miniconda3/envs/glc23/lib/python3.9/site-packages/IPython/lib/pretty.py:778\u001b[0m, in \u001b[0;36m_repr_pprint\u001b[0;34m(obj, p, cycle)\u001b[0m\n\u001b[1;32m    776\u001b[0m \u001b[38;5;124;03m\"\"\"A pprint that just redirects to the normal repr function.\"\"\"\u001b[39;00m\n\u001b[1;32m    777\u001b[0m \u001b[38;5;66;03m# Find newlines and replace them with p.break_()\u001b[39;00m\n\u001b[0;32m--> 778\u001b[0m output \u001b[38;5;241m=\u001b[39m \u001b[38;5;28;43mrepr\u001b[39;49m\u001b[43m(\u001b[49m\u001b[43mobj\u001b[49m\u001b[43m)\u001b[49m\n\u001b[1;32m    779\u001b[0m lines \u001b[38;5;241m=\u001b[39m output\u001b[38;5;241m.\u001b[39msplitlines()\n\u001b[1;32m    780\u001b[0m \u001b[38;5;28;01mwith\u001b[39;00m p\u001b[38;5;241m.\u001b[39mgroup():\n",
      "File \u001b[0;32m~/Documents/GeoLifeCLEF/data/PatchesProviders.py:20\u001b[0m, in \u001b[0;36mPatchProvider.__repr__\u001b[0;34m(self)\u001b[0m\n\u001b[1;32m     19\u001b[0m \u001b[38;5;28;01mdef\u001b[39;00m \u001b[38;5;21m__repr__\u001b[39m(\u001b[38;5;28mself\u001b[39m):\n\u001b[0;32m---> 20\u001b[0m     \u001b[38;5;28;01mreturn\u001b[39;00m \u001b[38;5;28;43mself\u001b[39;49m\u001b[38;5;241;43m.\u001b[39;49m\u001b[38;5;21;43m__str__\u001b[39;49m\u001b[43m(\u001b[49m\u001b[43m)\u001b[49m\n",
      "File \u001b[0;32m~/Documents/GeoLifeCLEF/data/PatchesProviders.py:53\u001b[0m, in \u001b[0;36mMetaPatchProvider.__str__\u001b[0;34m(self)\u001b[0m\n\u001b[1;32m     51\u001b[0m \u001b[38;5;28;01mdef\u001b[39;00m \u001b[38;5;21m__str__\u001b[39m(\u001b[38;5;28mself\u001b[39m):\n\u001b[1;32m     52\u001b[0m     result \u001b[38;5;241m=\u001b[39m \u001b[38;5;124m'\u001b[39m\u001b[38;5;124mProviders:\u001b[39m\u001b[38;5;130;01m\\n\u001b[39;00m\u001b[38;5;124m'\u001b[39m\n\u001b[0;32m---> 53\u001b[0m     \u001b[38;5;28;01mfor\u001b[39;00m provider \u001b[38;5;129;01min\u001b[39;00m \u001b[38;5;28mself\u001b[39m\u001b[38;5;241m.\u001b[39mproviders:\n\u001b[1;32m     54\u001b[0m         result \u001b[38;5;241m+\u001b[39m\u001b[38;5;241m=\u001b[39m \u001b[38;5;28mstr\u001b[39m(provider)\n\u001b[1;32m     55\u001b[0m         result \u001b[38;5;241m+\u001b[39m\u001b[38;5;241m=\u001b[39m \u001b[38;5;124m'\u001b[39m\u001b[38;5;130;01m\\n\u001b[39;00m\u001b[38;5;124m'\u001b[39m\n",
      "File \u001b[0;32m~/Documents/GeoLifeCLEF/data/PatchesProviders.py:190\u001b[0m, in \u001b[0;36mJpegPatchProvider.__getitem__\u001b[0;34m(self, item)\u001b[0m\n\u001b[1;32m    189\u001b[0m \u001b[38;5;28;01mdef\u001b[39;00m \u001b[38;5;21m__getitem__\u001b[39m(\u001b[38;5;28mself\u001b[39m, item):\n\u001b[0;32m--> 190\u001b[0m     patch_id \u001b[38;5;241m=\u001b[39m \u001b[38;5;28mstr\u001b[39m(\u001b[38;5;28mint\u001b[39m(\u001b[43mitem\u001b[49m\u001b[43m[\u001b[49m\u001b[38;5;124;43m'\u001b[39;49m\u001b[38;5;124;43mpatchID\u001b[39;49m\u001b[38;5;124;43m'\u001b[39;49m\u001b[43m]\u001b[49m))\n\u001b[1;32m    192\u001b[0m     \u001b[38;5;66;03m# folders that contain patches\u001b[39;00m\n\u001b[1;32m    193\u001b[0m     sub_folder_1 \u001b[38;5;241m=\u001b[39m patch_id[\u001b[38;5;241m-\u001b[39m\u001b[38;5;241m2\u001b[39m:]\n",
      "\u001b[0;31mTypeError\u001b[0m: 'int' object is not subscriptable"
     ]
    }
   ],
   "source": [
    "MetaPatchProvider(providers[1], one_provider=True)"
   ]
  },
  {
   "cell_type": "code",
   "execution_count": 22,
   "metadata": {},
   "outputs": [
    {
     "data": {
      "text/plain": [
       "Providers:\n",
       "Rasters in folder:\n",
       "band_names: ['bio9']\n",
       "n_layers: 1\n",
       "x_min: -32.266806146449994\n",
       "y_min: 26.63319397795\n",
       "x_resolution: 0.0083333333\n",
       "y_resolution: 0.0083333333\n",
       "n_rows: 5467\n",
       "n_cols: 8143\n",
       "--------------------------------------------------\n",
       "band_names: ['bio8']\n",
       "n_layers: 1\n",
       "x_min: -32.266806146449994\n",
       "y_min: 26.63319397795\n",
       "x_resolution: 0.0083333333\n",
       "y_resolution: 0.0083333333\n",
       "n_rows: 5467\n",
       "n_cols: 8143\n",
       "--------------------------------------------------\n",
       "band_names: ['bio7']\n",
       "n_layers: 1\n",
       "x_min: -32.266806146449994\n",
       "y_min: 26.63319397795\n",
       "x_resolution: 0.0083333333\n",
       "y_resolution: 0.0083333333\n",
       "n_rows: 5467\n",
       "n_cols: 8143\n",
       "--------------------------------------------------\n",
       "band_names: ['bio6']\n",
       "n_layers: 1\n",
       "x_min: -32.266806146449994\n",
       "y_min: 26.63319397795\n",
       "x_resolution: 0.0083333333\n",
       "y_resolution: 0.0083333333\n",
       "n_rows: 5467\n",
       "n_cols: 8143\n",
       "--------------------------------------------------\n",
       "band_names: ['bio5']\n",
       "n_layers: 1\n",
       "x_min: -32.266806146449994\n",
       "y_min: 26.63319397795\n",
       "x_resolution: 0.0083333333\n",
       "y_resolution: 0.0083333333\n",
       "n_rows: 5467\n",
       "n_cols: 8143\n",
       "--------------------------------------------------\n",
       "band_names: ['bio4']\n",
       "n_layers: 1\n",
       "x_min: -32.266806146449994\n",
       "y_min: 26.63319397795\n",
       "x_resolution: 0.0083333333\n",
       "y_resolution: 0.0083333333\n",
       "n_rows: 5467\n",
       "n_cols: 8143\n",
       "--------------------------------------------------\n",
       "band_names: ['bio3']\n",
       "n_layers: 1\n",
       "x_min: -32.266806146449994\n",
       "y_min: 26.63319397795\n",
       "x_resolution: 0.0083333333\n",
       "y_resolution: 0.0083333333\n",
       "n_rows: 5467\n",
       "n_cols: 8143\n",
       "--------------------------------------------------\n",
       "band_names: ['bio2']\n",
       "n_layers: 1\n",
       "x_min: -32.266806146449994\n",
       "y_min: 26.63319397795\n",
       "x_resolution: 0.0083333333\n",
       "y_resolution: 0.0083333333\n",
       "n_rows: 5467\n",
       "n_cols: 8143\n",
       "--------------------------------------------------\n",
       "band_names: ['bio19']\n",
       "n_layers: 1\n",
       "x_min: -32.266806146449994\n",
       "y_min: 26.63319397795\n",
       "x_resolution: 0.0083333333\n",
       "y_resolution: 0.0083333333\n",
       "n_rows: 5467\n",
       "n_cols: 8143\n",
       "--------------------------------------------------\n",
       "band_names: ['bio18']\n",
       "n_layers: 1\n",
       "x_min: -32.266806146449994\n",
       "y_min: 26.63319397795\n",
       "x_resolution: 0.0083333333\n",
       "y_resolution: 0.0083333333\n",
       "n_rows: 5467\n",
       "n_cols: 8143\n",
       "--------------------------------------------------\n",
       "band_names: ['bio17']\n",
       "n_layers: 1\n",
       "x_min: -32.266806146449994\n",
       "y_min: 26.63319397795\n",
       "x_resolution: 0.0083333333\n",
       "y_resolution: 0.0083333333\n",
       "n_rows: 5467\n",
       "n_cols: 8143\n",
       "--------------------------------------------------\n",
       "band_names: ['bio16']\n",
       "n_layers: 1\n",
       "x_min: -32.266806146449994\n",
       "y_min: 26.63319397795\n",
       "x_resolution: 0.0083333333\n",
       "y_resolution: 0.0083333333\n",
       "n_rows: 5467\n",
       "n_cols: 8143\n",
       "--------------------------------------------------\n",
       "band_names: ['bio15']\n",
       "n_layers: 1\n",
       "x_min: -32.266806146449994\n",
       "y_min: 26.63319397795\n",
       "x_resolution: 0.0083333333\n",
       "y_resolution: 0.0083333333\n",
       "n_rows: 5467\n",
       "n_cols: 8143\n",
       "--------------------------------------------------\n",
       "band_names: ['bio14']\n",
       "n_layers: 1\n",
       "x_min: -32.266806146449994\n",
       "y_min: 26.63319397795\n",
       "x_resolution: 0.0083333333\n",
       "y_resolution: 0.0083333333\n",
       "n_rows: 5467\n",
       "n_cols: 8143\n",
       "--------------------------------------------------\n",
       "band_names: ['bio13']\n",
       "n_layers: 1\n",
       "x_min: -32.266806146449994\n",
       "y_min: 26.63319397795\n",
       "x_resolution: 0.0083333333\n",
       "y_resolution: 0.0083333333\n",
       "n_rows: 5467\n",
       "n_cols: 8143\n",
       "--------------------------------------------------\n",
       "band_names: ['bio12']\n",
       "n_layers: 1\n",
       "x_min: -32.266806146449994\n",
       "y_min: 26.63319397795\n",
       "x_resolution: 0.0083333333\n",
       "y_resolution: 0.0083333333\n",
       "n_rows: 5467\n",
       "n_cols: 8143\n",
       "--------------------------------------------------\n",
       "band_names: ['bio11']\n",
       "n_layers: 1\n",
       "x_min: -32.266806146449994\n",
       "y_min: 26.63319397795\n",
       "x_resolution: 0.0083333333\n",
       "y_resolution: 0.0083333333\n",
       "n_rows: 5467\n",
       "n_cols: 8143\n",
       "--------------------------------------------------\n",
       "band_names: ['bio10']\n",
       "n_layers: 1\n",
       "x_min: -32.266806146449994\n",
       "y_min: 26.63319397795\n",
       "x_resolution: 0.0083333333\n",
       "y_resolution: 0.0083333333\n",
       "n_rows: 5467\n",
       "n_cols: 8143\n",
       "--------------------------------------------------\n",
       "band_names: ['bio1']\n",
       "n_layers: 1\n",
       "x_min: -32.266806146449994\n",
       "y_min: 26.63319397795\n",
       "x_resolution: 0.0083333333\n",
       "y_resolution: 0.0083333333\n",
       "n_rows: 5467\n",
       "n_cols: 8143\n",
       "--------------------------------------------------\n",
       "\n",
       "Rasters in folder:\n",
       "band_names: ['crop_proj_soc_5-15cm_mean_1000']\n",
       "n_layers: 1\n",
       "x_min: -32.266806146449994\n",
       "y_min: 26.63319397795\n",
       "x_resolution: 0.0083333333\n",
       "y_resolution: 0.0083333333\n",
       "n_rows: 5467\n",
       "n_cols: 8143\n",
       "--------------------------------------------------\n",
       "band_names: ['crop_proj_silt_5-15cm_mean_1000']\n",
       "n_layers: 1\n",
       "x_min: -32.266806146449994\n",
       "y_min: 26.63319397795\n",
       "x_resolution: 0.0083333333\n",
       "y_resolution: 0.0083333333\n",
       "n_rows: 5467\n",
       "n_cols: 8143\n",
       "--------------------------------------------------\n",
       "band_names: ['crop_proj_sand_5-15cm_mean_1000']\n",
       "n_layers: 1\n",
       "x_min: -32.266806146449994\n",
       "y_min: 26.63319397795\n",
       "x_resolution: 0.0083333333\n",
       "y_resolution: 0.0083333333\n",
       "n_rows: 5467\n",
       "n_cols: 8143\n",
       "--------------------------------------------------\n",
       "band_names: ['crop_proj_phh2o_5-15cm_mean_1000']\n",
       "n_layers: 1\n",
       "x_min: -32.266806146449994\n",
       "y_min: 26.63319397795\n",
       "x_resolution: 0.0083333333\n",
       "y_resolution: 0.0083333333\n",
       "n_rows: 5467\n",
       "n_cols: 8143\n",
       "--------------------------------------------------\n",
       "band_names: ['crop_proj_nitrogen_5-15cm_mean_1000']\n",
       "n_layers: 1\n",
       "x_min: -32.266806146449994\n",
       "y_min: 26.63319397795\n",
       "x_resolution: 0.0083333333\n",
       "y_resolution: 0.0083333333\n",
       "n_rows: 5467\n",
       "n_cols: 8143\n",
       "--------------------------------------------------\n",
       "band_names: ['crop_proj_clay_5-15cm_mean_1000']\n",
       "n_layers: 1\n",
       "x_min: -32.26680614645\n",
       "y_min: 26.63319397795\n",
       "x_resolution: 0.0083333333\n",
       "y_resolution: 0.0083333333\n",
       "n_rows: 5467\n",
       "n_cols: 8143\n",
       "--------------------------------------------------\n",
       "band_names: ['crop_proj_cfvo_5-15cm_mean_1000']\n",
       "n_layers: 1\n",
       "x_min: -32.26680614645\n",
       "y_min: 26.63319397795\n",
       "x_resolution: 0.0083333333\n",
       "y_resolution: 0.0083333333\n",
       "n_rows: 5467\n",
       "n_cols: 8143\n",
       "--------------------------------------------------\n",
       "band_names: ['crop_proj_cec_5-15cm_mean_1000']\n",
       "n_layers: 1\n",
       "x_min: -32.266806146449994\n",
       "y_min: 26.63319397795\n",
       "x_resolution: 0.0083333333\n",
       "y_resolution: 0.0083333333\n",
       "n_rows: 5467\n",
       "n_cols: 8143\n",
       "--------------------------------------------------\n",
       "band_names: ['crop_proj_bdod_5-15cm_mean_1000']\n",
       "n_layers: 1\n",
       "x_min: -32.26680614645\n",
       "y_min: 26.63319397795\n",
       "x_resolution: 0.0083333333\n",
       "y_resolution: 0.0083333333\n",
       "n_rows: 5467\n",
       "n_cols: 8143\n",
       "--------------------------------------------------\n"
      ]
     },
     "execution_count": 22,
     "metadata": {},
     "output_type": "execute_result"
    }
   ],
   "source": [
    "MetaPatchProvider(providers[0])"
   ]
  },
  {
   "cell_type": "code",
   "execution_count": 7,
   "metadata": {},
   "outputs": [
    {
     "data": {
      "text/plain": [
       "[1, 1, 64]"
      ]
     },
     "execution_count": 7,
     "metadata": {},
     "output_type": "execute_result"
    }
   ],
   "source": [
    "provider_patch_sizes = [p.patch_size for p in providers]\n",
    "provider_patch_sizes"
   ]
  },
  {
   "cell_type": "code",
   "execution_count": 8,
   "metadata": {},
   "outputs": [],
   "source": [
    "unique_patch_sizes = list(set(provider_patch_sizes))\n",
    "num_patch_sizes = len(unique_patch_sizes)"
   ]
  },
  {
   "cell_type": "code",
   "execution_count": 10,
   "metadata": {},
   "outputs": [
    {
     "name": "stdout",
     "output_type": "stream",
     "text": [
      "--------------------------------------------\n",
      "64 [2]\n"
     ]
    },
    {
     "ename": "TypeError",
     "evalue": "object of type 'generator' has no len()",
     "output_type": "error",
     "traceback": [
      "\u001b[0;31m---------------------------------------------------------------------------\u001b[0m",
      "\u001b[0;31mTypeError\u001b[0m                                 Traceback (most recent call last)",
      "Cell \u001b[0;32mIn[10], line 6\u001b[0m\n\u001b[1;32m      4\u001b[0m \u001b[38;5;28mprint\u001b[39m(p, idx)\n\u001b[1;32m      5\u001b[0m one_provider \u001b[38;5;241m=\u001b[39m \u001b[38;5;28;01mTrue\u001b[39;00m \u001b[38;5;28;01mif\u001b[39;00m \u001b[38;5;28mlen\u001b[39m(idx)\u001b[38;5;241m==\u001b[39m\u001b[38;5;241m1\u001b[39m \u001b[38;5;28;01melse\u001b[39;00m \u001b[38;5;28;01mFalse\u001b[39;00m\n\u001b[0;32m----> 6\u001b[0m meta_p \u001b[38;5;241m=\u001b[39m \u001b[43mMetaPatchProvider\u001b[49m\u001b[43m(\u001b[49m\u001b[43m(\u001b[49m\u001b[43mproviders\u001b[49m\u001b[43m[\u001b[49m\u001b[43mi\u001b[49m\u001b[43m]\u001b[49m\u001b[43m \u001b[49m\u001b[38;5;28;43;01mfor\u001b[39;49;00m\u001b[43m \u001b[49m\u001b[43mi\u001b[49m\u001b[43m \u001b[49m\u001b[38;5;129;43;01min\u001b[39;49;00m\u001b[43m \u001b[49m\u001b[43midx\u001b[49m\u001b[43m)\u001b[49m\u001b[43m,\u001b[49m\u001b[43m \u001b[49m\u001b[43mone_provider\u001b[49m\u001b[43m)\u001b[49m\n\u001b[1;32m      7\u001b[0m \u001b[38;5;28mprint\u001b[39m(meta_p)\n",
      "File \u001b[0;32m~/Documents/GeoLifeCLEF/data/PatchesProviders.py:38\u001b[0m, in \u001b[0;36mMetaPatchProvider.__init__\u001b[0;34m(self, providers, one_provider)\u001b[0m\n\u001b[1;32m     35\u001b[0m \u001b[38;5;28mself\u001b[39m\u001b[38;5;241m.\u001b[39mone_provider \u001b[38;5;241m=\u001b[39m one_provider\n\u001b[1;32m     37\u001b[0m \u001b[38;5;28;01mif\u001b[39;00m one_provider:\n\u001b[0;32m---> 38\u001b[0m     \u001b[38;5;28mself\u001b[39m\u001b[38;5;241m.\u001b[39mnb_layers \u001b[38;5;241m=\u001b[39m \u001b[38;5;28;43mlen\u001b[39;49m\u001b[43m(\u001b[49m\u001b[38;5;28;43mself\u001b[39;49m\u001b[38;5;241;43m.\u001b[39;49m\u001b[43mproviders\u001b[49m\u001b[43m)\u001b[49m\n\u001b[1;32m     39\u001b[0m     \u001b[38;5;28mself\u001b[39m\u001b[38;5;241m.\u001b[39mband_names \u001b[38;5;241m=\u001b[39m \u001b[38;5;28mself\u001b[39m\u001b[38;5;241m.\u001b[39mproviders\u001b[38;5;241m.\u001b[39mbands_names\n\u001b[1;32m     40\u001b[0m \u001b[38;5;28;01melse\u001b[39;00m:\n",
      "\u001b[0;31mTypeError\u001b[0m: object of type 'generator' has no len()"
     ]
    }
   ],
   "source": [
    "for p in unique_patch_sizes:\n",
    "    idx = list(np.where(np.array(provider_patch_sizes) == p)[0])\n",
    "    print('--------------------------------------------')\n",
    "    print(p, idx)\n",
    "    one_provider = True if len(idx)==1 else False\n",
    "    meta_p = MetaPatchProvider((providers[i] for i in idx), one_provider)\n",
    "    print(meta_p)\n"
   ]
  },
  {
   "cell_type": "code",
   "execution_count": 7,
   "metadata": {},
   "outputs": [
    {
     "ename": "ValueError",
     "evalue": "all the input arrays must have same number of dimensions, but the array at index 0 has 1 dimension(s) and the array at index 2 has 3 dimension(s)",
     "output_type": "error",
     "traceback": [
      "\u001b[0;31m---------------------------------------------------------------------------\u001b[0m",
      "\u001b[0;31mValueError\u001b[0m                                Traceback (most recent call last)",
      "Cell \u001b[0;32mIn[7], line 1\u001b[0m\n\u001b[0;32m----> 1\u001b[0m \u001b[43mtrain_data\u001b[49m\u001b[43m[\u001b[49m\u001b[38;5;241;43m0\u001b[39;49m\u001b[43m]\u001b[49m\n",
      "File \u001b[0;32m~/Documents/GeoLifeCLEF/data/Datasets.py:44\u001b[0m, in \u001b[0;36mPatchesDataset.__getitem__\u001b[0;34m(self, index)\u001b[0m\n\u001b[1;32m     39\u001b[0m item_species \u001b[38;5;241m=\u001b[39m \u001b[38;5;28mself\u001b[39m\u001b[38;5;241m.\u001b[39mitems\u001b[38;5;241m.\u001b[39mquery(\n\u001b[1;32m     40\u001b[0m     \u001b[38;5;124m'\u001b[39m\u001b[38;5;124m and \u001b[39m\u001b[38;5;124m'\u001b[39m\u001b[38;5;241m.\u001b[39mjoin([\u001b[38;5;124mf\u001b[39m\u001b[38;5;124m'\u001b[39m\u001b[38;5;132;01m{\u001b[39;00mk\u001b[38;5;132;01m}\u001b[39;00m\u001b[38;5;124m == \u001b[39m\u001b[38;5;132;01m{\u001b[39;00mv\u001b[38;5;132;01m}\u001b[39;00m\u001b[38;5;124m'\u001b[39m \u001b[38;5;28;01mfor\u001b[39;00m k, v \u001b[38;5;129;01min\u001b[39;00m item\u001b[38;5;241m.\u001b[39mitems()])\n\u001b[1;32m     41\u001b[0m )[\u001b[38;5;28mself\u001b[39m\u001b[38;5;241m.\u001b[39mlabel_name]\u001b[38;5;241m.\u001b[39mvalues\n\u001b[1;32m     42\u001b[0m labels \u001b[38;5;241m=\u001b[39m \u001b[38;5;241m1\u001b[39m \u001b[38;5;241m*\u001b[39m np\u001b[38;5;241m.\u001b[39misin(\u001b[38;5;28mself\u001b[39m\u001b[38;5;241m.\u001b[39mspecies, item_species)\n\u001b[0;32m---> 44\u001b[0m patch \u001b[38;5;241m=\u001b[39m \u001b[38;5;28;43mself\u001b[39;49m\u001b[38;5;241;43m.\u001b[39;49m\u001b[43mprovider\u001b[49m\u001b[43m[\u001b[49m\u001b[43mitem\u001b[49m\u001b[43m]\u001b[49m\n\u001b[1;32m     46\u001b[0m \u001b[38;5;28;01mreturn\u001b[39;00m patch, labels\n",
      "File \u001b[0;32m~/Documents/GeoLifeCLEF/data/PatchesProviders.py:48\u001b[0m, in \u001b[0;36mMetaPatchProvider.__getitem__\u001b[0;34m(self, item)\u001b[0m\n\u001b[1;32m     46\u001b[0m     patch \u001b[38;5;241m=\u001b[39m \u001b[38;5;28mself\u001b[39m\u001b[38;5;241m.\u001b[39mproviders[item]\n\u001b[1;32m     47\u001b[0m \u001b[38;5;28;01melse\u001b[39;00m:\n\u001b[0;32m---> 48\u001b[0m     patch \u001b[38;5;241m=\u001b[39m \u001b[43mnp\u001b[49m\u001b[38;5;241;43m.\u001b[39;49m\u001b[43mconcatenate\u001b[49m\u001b[43m(\u001b[49m\u001b[43m[\u001b[49m\u001b[43mprovider\u001b[49m\u001b[43m[\u001b[49m\u001b[43mitem\u001b[49m\u001b[43m]\u001b[49m\u001b[43m \u001b[49m\u001b[38;5;28;43;01mfor\u001b[39;49;00m\u001b[43m \u001b[49m\u001b[43mprovider\u001b[49m\u001b[43m \u001b[49m\u001b[38;5;129;43;01min\u001b[39;49;00m\u001b[43m \u001b[49m\u001b[38;5;28;43mself\u001b[39;49m\u001b[38;5;241;43m.\u001b[39;49m\u001b[43mproviders\u001b[49m\u001b[43m]\u001b[49m\u001b[43m)\u001b[49m\n\u001b[1;32m     49\u001b[0m \u001b[38;5;28;01mreturn\u001b[39;00m patch\n",
      "File \u001b[0;32m<__array_function__ internals>:180\u001b[0m, in \u001b[0;36mconcatenate\u001b[0;34m(*args, **kwargs)\u001b[0m\n",
      "\u001b[0;31mValueError\u001b[0m: all the input arrays must have same number of dimensions, but the array at index 0 has 1 dimension(s) and the array at index 2 has 3 dimension(s)"
     ]
    }
   ],
   "source": []
  },
  {
   "cell_type": "code",
   "execution_count": 8,
   "metadata": {},
   "outputs": [
    {
     "data": {
      "text/plain": [
       "['nir', 'rgb']"
      ]
     },
     "execution_count": 8,
     "metadata": {},
     "output_type": "execute_result"
    }
   ],
   "source": [
    "root_path = sat_dir\n",
    "sub_dirs = next(os.walk(root_path))[1]\n",
    "sub_dirs"
   ]
  },
  {
   "cell_type": "code",
   "execution_count": 50,
   "metadata": {},
   "outputs": [],
   "source": [
    "# Dataset\n",
    "train_data = PatchesDataset(occurrences=po_path, providers=(p_bioclim, p_soil, p_sat))\n",
    "occurrences=po_path\n",
    "#providers=(p_bioclim, p_soil)\n",
    "label_name='speciesId'\n",
    "item_columns=['lat','lon','patchID','dayOfYear']\n",
    "df = pd.read_csv(occurrences, sep=\";\", header='infer', low_memory=False)\n",
    "species = np.unique(df[label_name].values)\n",
    "items = df[item_columns + [label_name]]"
   ]
  },
  {
   "cell_type": "code",
   "execution_count": 51,
   "metadata": {},
   "outputs": [
    {
     "data": {
      "text/plain": [
       "{'lat': 59.2511, 'lon': 10.95154, 'patchID': 5982155.0, 'dayOfYear': 168.0}"
      ]
     },
     "execution_count": 51,
     "metadata": {},
     "output_type": "execute_result"
    }
   ],
   "source": [
    "index = 0\n",
    "item = items.iloc[index][item_columns].to_dict()\n",
    "item"
   ]
  },
  {
   "cell_type": "code",
   "execution_count": 57,
   "metadata": {},
   "outputs": [
    {
     "data": {
      "text/plain": [
       "'5982155'"
      ]
     },
     "execution_count": 57,
     "metadata": {},
     "output_type": "execute_result"
    }
   ],
   "source": [
    "patch_id = str(int(item['patchID']))\n",
    "sub_folder_1 = patch_id[-2:]\n",
    "sub_folder_2 = patch_id[-4:-2]\n",
    "ext = '.jpeg'\n",
    "patch_id"
   ]
  },
  {
   "cell_type": "code",
   "execution_count": 58,
   "metadata": {},
   "outputs": [],
   "source": [
    "root_path = 'data/sample_data/SatelliteImages/'\n",
    "channel_folder = {'red': 'rgb', 'green': 'rgb', 'blue': 'rgb','nir':'nir'}"
   ]
  },
  {
   "cell_type": "code",
   "execution_count": 61,
   "metadata": {},
   "outputs": [
    {
     "data": {
      "text/plain": [
       "(3, 128, 128)"
      ]
     },
     "execution_count": 61,
     "metadata": {},
     "output_type": "execute_result"
    }
   ],
   "source": [
    "folder = 'rgb'\n",
    "path = os.path.join(root_path, folder, sub_folder_1, sub_folder_2, patch_id+ext)\n",
    "img = np.asarray(Image.open(path)) \n",
    "img = img.transpose((2,0,1))\n",
    "img.shape"
   ]
  },
  {
   "cell_type": "code",
   "execution_count": 71,
   "metadata": {},
   "outputs": [
    {
     "data": {
      "text/plain": [
       "128"
      ]
     },
     "execution_count": 71,
     "metadata": {},
     "output_type": "execute_result"
    }
   ],
   "source": [
    "img[0].shape[1]"
   ]
  },
  {
   "cell_type": "code",
   "execution_count": null,
   "metadata": {},
   "outputs": [],
   "source": []
  },
  {
   "cell_type": "code",
   "execution_count": 35,
   "metadata": {},
   "outputs": [
    {
     "name": "stdout",
     "output_type": "stream",
     "text": [
      "red\n",
      "data/full_data/SatelliteImages/rgb/55/21/5982155.jpeg\n",
      "(128, 128, 3)\n",
      "(3, 128, 128)\n",
      "green\n",
      "data/full_data/SatelliteImages/rgb/55/21/5982155.jpeg\n",
      "(128, 128, 3)\n",
      "(3, 128, 128)\n",
      "blue\n",
      "data/full_data/SatelliteImages/rgb/55/21/5982155.jpeg\n",
      "(128, 128, 3)\n",
      "(3, 128, 128)\n",
      "nir\n",
      "data/full_data/SatelliteImages/nir/55/21/5982155.jpeg\n",
      "(128, 128)\n"
     ]
    }
   ],
   "source": [
    "list_tensor = {'order': [], 'tensors':[]}\n",
    "for channel, channel_filename in channels_dict.items():\n",
    "    print(channel)\n",
    "    if channel not in list_tensor['order']:\n",
    "        path = os.path.join(root_path, channel_filename, sub_folder_1, sub_folder_2, patch_id+ext)\n",
    "        print(path)\n",
    "        img = np.asarray(Image.open(path))\n",
    "        print(img.shape)\n",
    "        if channel in ['red','green','blue']:\n",
    "            img = img.transpose((2,0,1))\n",
    "            print(img.shape)"
   ]
  },
  {
   "cell_type": "code",
   "execution_count": 17,
   "metadata": {},
   "outputs": [
    {
     "name": "stdout",
     "output_type": "stream",
     "text": [
      "76 02\n"
     ]
    }
   ],
   "source": [
    "patch_id = str(int(item['patchID']))\n",
    "rgb_path = f\"{self.rgbnir_dir}rgb/{patch_id[-2:]}/{patch_id[-4:-2]}/{patch_id}.jpeg\"\n",
    "rgb_img = (np.asarray(Image.open(rgb_path)) / 255.0).transpose((2,0,1))\n",
    "\n",
    "nir_path = f\"{self.rgbnir_dir}nir/{patch_id[-2:]}/{patch_id[-4:-2]}/{patch_id}.jpeg\"\n",
    "nir_img = np.expand_dims(np.asarray(Image.open(nir_path)) / 255.0, axis=0)\n",
    "\n",
    "rgbnir = np.concatenate([rgb_img, nir_img])\n",
    "if self.rgbnir_patch_size != 128:\n",
    "    rgbnir = rgbnir[:, round((rgbnir[0].shape[0] - self.rgbnir_patch_size) /2):round((rgbnir[0].shape[0] + self.rgbnir_patch_size) /2),\n",
    "                                    round((rgbnir[0].shape[1] - self.rgbnir_patch_size) /2):round((rgbnir[0].shape[1] + self.rgbnir_patch_size) /2)]\n",
    "     "
   ]
  },
  {
   "cell_type": "code",
   "execution_count": 9,
   "metadata": {},
   "outputs": [
    {
     "ename": "KeyError",
     "evalue": "1",
     "output_type": "error",
     "traceback": [
      "\u001b[0;31m---------------------------------------------------------------------------\u001b[0m",
      "\u001b[0;31mKeyError\u001b[0m                                  Traceback (most recent call last)",
      "File \u001b[0;32m~/miniconda3/envs/glc23/lib/python3.9/site-packages/pandas/core/indexes/base.py:3803\u001b[0m, in \u001b[0;36mIndex.get_loc\u001b[0;34m(self, key, method, tolerance)\u001b[0m\n\u001b[1;32m   3802\u001b[0m \u001b[38;5;28;01mtry\u001b[39;00m:\n\u001b[0;32m-> 3803\u001b[0m     \u001b[38;5;28;01mreturn\u001b[39;00m \u001b[38;5;28;43mself\u001b[39;49m\u001b[38;5;241;43m.\u001b[39;49m\u001b[43m_engine\u001b[49m\u001b[38;5;241;43m.\u001b[39;49m\u001b[43mget_loc\u001b[49m\u001b[43m(\u001b[49m\u001b[43mcasted_key\u001b[49m\u001b[43m)\u001b[49m\n\u001b[1;32m   3804\u001b[0m \u001b[38;5;28;01mexcept\u001b[39;00m \u001b[38;5;167;01mKeyError\u001b[39;00m \u001b[38;5;28;01mas\u001b[39;00m err:\n",
      "File \u001b[0;32m~/miniconda3/envs/glc23/lib/python3.9/site-packages/pandas/_libs/index.pyx:138\u001b[0m, in \u001b[0;36mpandas._libs.index.IndexEngine.get_loc\u001b[0;34m()\u001b[0m\n",
      "File \u001b[0;32m~/miniconda3/envs/glc23/lib/python3.9/site-packages/pandas/_libs/index.pyx:165\u001b[0m, in \u001b[0;36mpandas._libs.index.IndexEngine.get_loc\u001b[0;34m()\u001b[0m\n",
      "File \u001b[0;32mpandas/_libs/hashtable_class_helper.pxi:5745\u001b[0m, in \u001b[0;36mpandas._libs.hashtable.PyObjectHashTable.get_item\u001b[0;34m()\u001b[0m\n",
      "File \u001b[0;32mpandas/_libs/hashtable_class_helper.pxi:5753\u001b[0m, in \u001b[0;36mpandas._libs.hashtable.PyObjectHashTable.get_item\u001b[0;34m()\u001b[0m\n",
      "\u001b[0;31mKeyError\u001b[0m: 1",
      "\nThe above exception was the direct cause of the following exception:\n",
      "\u001b[0;31mKeyError\u001b[0m                                  Traceback (most recent call last)",
      "Cell \u001b[0;32mIn[9], line 1\u001b[0m\n\u001b[0;32m----> 1\u001b[0m \u001b[43mitems\u001b[49m\u001b[43m[\u001b[49m\u001b[38;5;241;43m1\u001b[39;49m\u001b[43m]\u001b[49m\n",
      "File \u001b[0;32m~/miniconda3/envs/glc23/lib/python3.9/site-packages/pandas/core/frame.py:3805\u001b[0m, in \u001b[0;36mDataFrame.__getitem__\u001b[0;34m(self, key)\u001b[0m\n\u001b[1;32m   3803\u001b[0m \u001b[38;5;28;01mif\u001b[39;00m \u001b[38;5;28mself\u001b[39m\u001b[38;5;241m.\u001b[39mcolumns\u001b[38;5;241m.\u001b[39mnlevels \u001b[38;5;241m>\u001b[39m \u001b[38;5;241m1\u001b[39m:\n\u001b[1;32m   3804\u001b[0m     \u001b[38;5;28;01mreturn\u001b[39;00m \u001b[38;5;28mself\u001b[39m\u001b[38;5;241m.\u001b[39m_getitem_multilevel(key)\n\u001b[0;32m-> 3805\u001b[0m indexer \u001b[38;5;241m=\u001b[39m \u001b[38;5;28;43mself\u001b[39;49m\u001b[38;5;241;43m.\u001b[39;49m\u001b[43mcolumns\u001b[49m\u001b[38;5;241;43m.\u001b[39;49m\u001b[43mget_loc\u001b[49m\u001b[43m(\u001b[49m\u001b[43mkey\u001b[49m\u001b[43m)\u001b[49m\n\u001b[1;32m   3806\u001b[0m \u001b[38;5;28;01mif\u001b[39;00m is_integer(indexer):\n\u001b[1;32m   3807\u001b[0m     indexer \u001b[38;5;241m=\u001b[39m [indexer]\n",
      "File \u001b[0;32m~/miniconda3/envs/glc23/lib/python3.9/site-packages/pandas/core/indexes/base.py:3805\u001b[0m, in \u001b[0;36mIndex.get_loc\u001b[0;34m(self, key, method, tolerance)\u001b[0m\n\u001b[1;32m   3803\u001b[0m     \u001b[38;5;28;01mreturn\u001b[39;00m \u001b[38;5;28mself\u001b[39m\u001b[38;5;241m.\u001b[39m_engine\u001b[38;5;241m.\u001b[39mget_loc(casted_key)\n\u001b[1;32m   3804\u001b[0m \u001b[38;5;28;01mexcept\u001b[39;00m \u001b[38;5;167;01mKeyError\u001b[39;00m \u001b[38;5;28;01mas\u001b[39;00m err:\n\u001b[0;32m-> 3805\u001b[0m     \u001b[38;5;28;01mraise\u001b[39;00m \u001b[38;5;167;01mKeyError\u001b[39;00m(key) \u001b[38;5;28;01mfrom\u001b[39;00m \u001b[38;5;21;01merr\u001b[39;00m\n\u001b[1;32m   3806\u001b[0m \u001b[38;5;28;01mexcept\u001b[39;00m \u001b[38;5;167;01mTypeError\u001b[39;00m:\n\u001b[1;32m   3807\u001b[0m     \u001b[38;5;66;03m# If we have a listlike key, _check_indexing_error will raise\u001b[39;00m\n\u001b[1;32m   3808\u001b[0m     \u001b[38;5;66;03m#  InvalidIndexError. Otherwise we fall through and re-raise\u001b[39;00m\n\u001b[1;32m   3809\u001b[0m     \u001b[38;5;66;03m#  the TypeError.\u001b[39;00m\n\u001b[1;32m   3810\u001b[0m     \u001b[38;5;28mself\u001b[39m\u001b[38;5;241m.\u001b[39m_check_indexing_error(key)\n",
      "\u001b[0;31mKeyError\u001b[0m: 1"
     ]
    }
   ],
   "source": [
    "items[1]"
   ]
  },
  {
   "cell_type": "code",
   "execution_count": null,
   "metadata": {},
   "outputs": [],
   "source": [
    "#class JpegPatchProvider(PatchProvider)\n",
    "# init\n"
   ]
  },
  {
   "cell_type": "code",
   "execution_count": null,
   "metadata": {},
   "outputs": [],
   "source": [
    "print(len(train_data.species), train_data.species[0:10])"
   ]
  },
  {
   "cell_type": "code",
   "execution_count": null,
   "metadata": {},
   "outputs": [],
   "source": [
    "label_name='speciesId'\n",
    "item_columns=['lat','lon','patchID','dayOfYear']\n",
    "df = pd.read_csv(po_path, sep=\";\", header='infer', low_memory=False)\n",
    "species = train_data.species\n",
    "items = df[item_columns + [label_name]]\n",
    "items.shape"
   ]
  },
  {
   "cell_type": "code",
   "execution_count": null,
   "metadata": {},
   "outputs": [],
   "source": [
    "items2 = pd.DataFrame(df.groupby(item_columns)[label_name].agg(list)).reset_index()\n",
    "items2"
   ]
  },
  {
   "cell_type": "code",
   "execution_count": null,
   "metadata": {},
   "outputs": [],
   "source": [
    "counts = df.groupby(item_columns)[label_name].count()\n",
    "counts"
   ]
  },
  {
   "cell_type": "code",
   "execution_count": null,
   "metadata": {},
   "outputs": [],
   "source": [
    "counts[counts > 5]"
   ]
  },
  {
   "cell_type": "code",
   "execution_count": null,
   "metadata": {},
   "outputs": [],
   "source": [
    "count = 0\n",
    "for index in range(items2.shape[0]):\n",
    "    item = items2.iloc[index][item_columns].to_dict()\n",
    "    item_sps = items2.iloc[index][label_name]\n",
    "    labels = 1 * np.isin(species, item_sps)\n",
    "    if np.sum(labels) == 0:\n",
    "        print('!!!!!!!!', index)\n",
    "        count += 1\n"
   ]
  },
  {
   "cell_type": "code",
   "execution_count": null,
   "metadata": {},
   "outputs": [],
   "source": [
    "count"
   ]
  },
  {
   "cell_type": "code",
   "execution_count": null,
   "metadata": {},
   "outputs": [],
   "source": [
    "index = 0\n",
    "item = items2.iloc[index][item_columns].to_dict()\n",
    "item"
   ]
  },
  {
   "cell_type": "code",
   "execution_count": null,
   "metadata": {},
   "outputs": [],
   "source": [
    "item_sps = items2.iloc[index][label_name]\n",
    "print(len(item_sps), item_sps)"
   ]
  },
  {
   "cell_type": "code",
   "execution_count": null,
   "metadata": {},
   "outputs": [],
   "source": [
    "labels = 1 * np.isin(species, item_sps)\n",
    "labels_f = 1 * np.isin(species, item_sps_f)"
   ]
  },
  {
   "cell_type": "code",
   "execution_count": null,
   "metadata": {},
   "outputs": [],
   "source": [
    "np.all(labels == labels_f)"
   ]
  },
  {
   "cell_type": "code",
   "execution_count": null,
   "metadata": {},
   "outputs": [],
   "source": [
    "print(np.sum(labels), np.sum(labels_f))"
   ]
  },
  {
   "cell_type": "code",
   "execution_count": null,
   "metadata": {},
   "outputs": [],
   "source": [
    "items[~items['speciesId'].isin(species)]"
   ]
  },
  {
   "cell_type": "code",
   "execution_count": null,
   "metadata": {},
   "outputs": [],
   "source": [
    "index = 447\n",
    "item = items.iloc[index][item_columns].to_dict()\n",
    "item_species = items.query(\n",
    "    ' and '.join([f'{k} == {v}' for k, v in item.items()])\n",
    ")[label_name].values\n",
    "labels = 1 * np.isin(species, item_species)"
   ]
  },
  {
   "cell_type": "code",
   "execution_count": null,
   "metadata": {},
   "outputs": [],
   "source": [
    "[(s, s in species) for s in item_species]"
   ]
  },
  {
   "cell_type": "code",
   "execution_count": null,
   "metadata": {},
   "outputs": [],
   "source": [
    "print(f\"{np.sum([s in species for s in item_species])}/{len(item_species)}\")\n",
    "print(np.sum(labels))"
   ]
  },
  {
   "cell_type": "code",
   "execution_count": null,
   "metadata": {},
   "outputs": [],
   "source": [
    "# print(\"Making dataset for presence-only training data...\")\n",
    "train_data = PatchesDataset(occurrences=po_path, providers=(p_bioclim, p_soil))\n",
    "print(f\"\\nTRAINING DATA: n_items={len(train_data)}, n_species={len(train_data.species)}\")\n",
    "\n",
    "n_features = train_data[0][0].shape[0]\n",
    "n_species = len(train_data.species)\n",
    "print(f\"nb of features = {n_features}\")"
   ]
  },
  {
   "cell_type": "code",
   "execution_count": null,
   "metadata": {},
   "outputs": [],
   "source": [
    "# print(\"Making dataset for presence-absence validation data...\")\n",
    "val_data = PatchesDataset(occurrences=pa_path, providers=(p_bioclim, p_soil), species=train_data.species)\n",
    "print(f\"\\nVALIDATION DATA: n_items={len(val_data)}, n_species={len(val_data.species)}\")"
   ]
  },
  {
   "cell_type": "code",
   "execution_count": null,
   "metadata": {},
   "outputs": [],
   "source": [
    "val_data[0][0].shape"
   ]
  },
  {
   "cell_type": "code",
   "execution_count": null,
   "metadata": {},
   "outputs": [],
   "source": [
    "# data loaders\n",
    "batch_size = 1024\n",
    "# train_loader = torch.utils.data.DataLoader(train_data, shuffle=True, batch_size=batch_size, num_workers=16)\n",
    "val_loader = torch.utils.data.DataLoader(val_data, shuffle=False, batch_size=batch_size, num_workers=8)"
   ]
  },
  {
   "cell_type": "code",
   "execution_count": null,
   "metadata": {},
   "outputs": [],
   "source": [
    "run_name = '0116_MLP_env_2x2_flat_train_tinyPO'\n",
    "checkpoint = torch.load(f\"models/{run_name}/best_val_loss.pth\")\n",
    "checkpoint['epoch']"
   ]
  },
  {
   "cell_type": "code",
   "execution_count": null,
   "metadata": {},
   "outputs": [],
   "source": [
    "n_layers = 5\n",
    "width = 1000\n",
    "learning_rate = 1e-3\n",
    "\n",
    "model = MLP(n_features, n_species, n_layers, width)\n",
    "model.load_state_dict(checkpoint['state_dict'])\n",
    "optimizer = torch.optim.SGD(model.parameters(), lr=learning_rate)\n",
    "optimizer.load_state_dict(checkpoint['optimizer_state_dict'])\n",
    "loss_fn = torch.nn.BCEWithLogitsLoss()"
   ]
  },
  {
   "cell_type": "code",
   "execution_count": null,
   "metadata": {},
   "outputs": [],
   "source": [
    "model.eval()\n",
    "val_loss_list, labels_list, y_pred_list = [], [], []\n",
    "\n",
    "for inputs, labels in tqdm(val_loader):\n",
    "    inputs = inputs.to(torch.float32)\n",
    "    labels = labels.to(torch.float32)\n",
    "    labels_list.append(labels.cpu().detach().numpy())\n",
    "\n",
    "    y_pred = model(inputs)\n",
    "    y_pred_sigmoid = torch.sigmoid(y_pred)\n",
    "    y_pred_list.append(y_pred_sigmoid.cpu().detach().numpy())\n",
    "\n",
    "    val_loss = loss_fn(y_pred, labels)\n",
    "    val_loss_list.append(val_loss.cpu().detach())    \n"
   ]
  },
  {
   "cell_type": "code",
   "execution_count": null,
   "metadata": {},
   "outputs": [],
   "source": [
    "labels = np.concatenate(labels_list)\n",
    "labels.shape"
   ]
  },
  {
   "cell_type": "code",
   "execution_count": null,
   "metadata": {},
   "outputs": [],
   "source": [
    "y_pred = np.concatenate(y_pred_list)\n",
    "y_pred.shape"
   ]
  },
  {
   "cell_type": "code",
   "execution_count": null,
   "metadata": {},
   "outputs": [],
   "source": [
    "from sklearn.metrics import roc_auc_score\n",
    "roc_auc_score(labels, y_pred)\n",
    "\n",
    "# patch size = 1            AUC = 0.5725362624834227\n",
    "# patch size = 2 (flat)     AUC = 0.46973261663879734"
   ]
  }
 ],
 "metadata": {
  "kernelspec": {
   "display_name": "glc23",
   "language": "python",
   "name": "python3"
  },
  "language_info": {
   "codemirror_mode": {
    "name": "ipython",
    "version": 3
   },
   "file_extension": ".py",
   "mimetype": "text/x-python",
   "name": "python",
   "nbconvert_exporter": "python",
   "pygments_lexer": "ipython3",
   "version": "3.9.16"
  }
 },
 "nbformat": 4,
 "nbformat_minor": 2
}
