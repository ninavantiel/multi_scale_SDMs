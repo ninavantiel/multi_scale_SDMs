{
 "cells": [
  {
   "cell_type": "code",
   "execution_count": 1,
   "metadata": {},
   "outputs": [],
   "source": [
    "from data.PatchesProviders import RasterPatchProvider, MultipleRasterPatchProvider, MetaPatchProvider\n",
    "from data.Datasets import PatchesDataset"
   ]
  },
  {
   "cell_type": "code",
   "execution_count": 37,
   "metadata": {},
   "outputs": [],
   "source": [
    "import pandas as pd\n",
    "import numpy as np"
   ]
  },
  {
   "cell_type": "code",
   "execution_count": 2,
   "metadata": {},
   "outputs": [],
   "source": [
    "datadir = 'data/full_data/'\n",
    "p = MultipleRasterPatchProvider(\n",
    "    datadir + 'EnvironmentalRasters/Climate/BioClimatic_Average_1981-2010/',\n",
    "    size = 4, normalize=True, select=['bio1','bio11']\n",
    ")"
   ]
  },
  {
   "cell_type": "code",
   "execution_count": 3,
   "metadata": {},
   "outputs": [],
   "source": [
    "data1 = PatchesDataset(datadir + 'Presence_only_occurrences/Presences_only_train.csv', p, one_provider=True)"
   ]
  },
  {
   "cell_type": "code",
   "execution_count": 6,
   "metadata": {},
   "outputs": [
    {
     "name": "stdout",
     "output_type": "stream",
     "text": [
      "10038 [ 1  2  3  4  5  6  7  8  9 10 11 12 13 14 15 16 17 18 19 20]\n"
     ]
    }
   ],
   "source": [
    "print(len(data1.species), data1.species[0:20])"
   ]
  },
  {
   "cell_type": "code",
   "execution_count": 7,
   "metadata": {},
   "outputs": [],
   "source": [
    "data2 = PatchesDataset(datadir + 'Presence_Absence_surveys/Presences_Absences_train.csv', p, one_provider=True)"
   ]
  },
  {
   "cell_type": "code",
   "execution_count": 9,
   "metadata": {},
   "outputs": [
    {
     "name": "stdout",
     "output_type": "stream",
     "text": [
      "2174 [  1   5  10  11  24  28  33  37  38  55  56  76  95  99 101 103 114 118\n",
      " 119 121]\n"
     ]
    }
   ],
   "source": [
    "print(len(data2.species), data2.species[0:20])"
   ]
  },
  {
   "cell_type": "code",
   "execution_count": 15,
   "metadata": {},
   "outputs": [],
   "source": [
    "data_po = PatchesDataset(datadir + 'Presence_only_occurrences/Presences_only_train.csv', p, one_provider=True, species=data2.species)"
   ]
  },
  {
   "cell_type": "code",
   "execution_count": 16,
   "metadata": {},
   "outputs": [
    {
     "name": "stdout",
     "output_type": "stream",
     "text": [
      "2174 [  1   5  10  11  24  28  33  37  38  55  56  76  95  99 101 103 114 118\n",
      " 119 121]\n"
     ]
    }
   ],
   "source": [
    "print(len(data_po.species), data_po.species[0:20])"
   ]
  },
  {
   "cell_type": "code",
   "execution_count": 44,
   "metadata": {},
   "outputs": [],
   "source": [
    "df = pd.read_csv(datadir + 'Presence_only_occurrences/Presences_only_train.csv', sep=\";\", header='infer', low_memory=False)\n",
    "species = data2.species\n",
    "df = df[df['speciesId'].isin(species)]\n",
    "items = df[['lat','lon','patchID','dayOfYear'] + ['speciesId']]"
   ]
  },
  {
   "cell_type": "code",
   "execution_count": 45,
   "metadata": {},
   "outputs": [
    {
     "data": {
      "text/plain": [
       "(3558526, 15)"
      ]
     },
     "execution_count": 45,
     "metadata": {},
     "output_type": "execute_result"
    }
   ],
   "source": [
    "df.shape"
   ]
  },
  {
   "cell_type": "code",
   "execution_count": 46,
   "metadata": {},
   "outputs": [
    {
     "data": {
      "text/html": [
       "<div>\n",
       "<style scoped>\n",
       "    .dataframe tbody tr th:only-of-type {\n",
       "        vertical-align: middle;\n",
       "    }\n",
       "\n",
       "    .dataframe tbody tr th {\n",
       "        vertical-align: top;\n",
       "    }\n",
       "\n",
       "    .dataframe thead th {\n",
       "        text-align: right;\n",
       "    }\n",
       "</style>\n",
       "<table border=\"1\" class=\"dataframe\">\n",
       "  <thead>\n",
       "    <tr style=\"text-align: right;\">\n",
       "      <th></th>\n",
       "      <th>lat</th>\n",
       "      <th>lon</th>\n",
       "      <th>patchID</th>\n",
       "      <th>dayOfYear</th>\n",
       "      <th>speciesId</th>\n",
       "    </tr>\n",
       "  </thead>\n",
       "  <tbody>\n",
       "  </tbody>\n",
       "</table>\n",
       "</div>"
      ],
      "text/plain": [
       "Empty DataFrame\n",
       "Columns: [lat, lon, patchID, dayOfYear, speciesId]\n",
       "Index: []"
      ]
     },
     "execution_count": 46,
     "metadata": {},
     "output_type": "execute_result"
    }
   ],
   "source": [
    "items[items['patchID'] == 3018874]"
   ]
  },
  {
   "cell_type": "code",
   "execution_count": 47,
   "metadata": {},
   "outputs": [
    {
     "data": {
      "text/plain": [
       "array([5020])"
      ]
     },
     "execution_count": 47,
     "metadata": {},
     "output_type": "execute_result"
    }
   ],
   "source": [
    "item = items.iloc[5][['lat','lon','patchID','dayOfYear']].to_dict()\n",
    "item_species = items.query(' and '.join([f'{k} == {v}' for k, v in item.items()]))['speciesId'].values\n",
    "item_species"
   ]
  },
  {
   "cell_type": "code",
   "execution_count": 48,
   "metadata": {},
   "outputs": [
    {
     "data": {
      "text/plain": [
       "array([0, 0, 0, ..., 0, 0, 0])"
      ]
     },
     "execution_count": 48,
     "metadata": {},
     "output_type": "execute_result"
    }
   ],
   "source": [
    "labels = 1 * np.isin(species, item_species)\n",
    "labels"
   ]
  },
  {
   "cell_type": "code",
   "execution_count": 49,
   "metadata": {},
   "outputs": [
    {
     "data": {
      "text/plain": [
       "1"
      ]
     },
     "execution_count": 49,
     "metadata": {},
     "output_type": "execute_result"
    }
   ],
   "source": [
    "np.sum(labels)"
   ]
  },
  {
   "cell_type": "code",
   "execution_count": null,
   "metadata": {},
   "outputs": [],
   "source": [
    " item = self.items.iloc[index][self.item_columns].to_dict()\n",
    "        print(item)\n",
    "\n",
    "        item_species = self.items.query(\n",
    "            ' and '.join([f'{k} == {v}' for k, v in item.items()])\n",
    "        )[self.label_name].values\n",
    "        labels = 1 * np.isin(self.species, item_species)"
   ]
  },
  {
   "cell_type": "code",
   "execution_count": 11,
   "metadata": {},
   "outputs": [
    {
     "data": {
      "text/html": [
       "<div>\n",
       "<style scoped>\n",
       "    .dataframe tbody tr th:only-of-type {\n",
       "        vertical-align: middle;\n",
       "    }\n",
       "\n",
       "    .dataframe tbody tr th {\n",
       "        vertical-align: top;\n",
       "    }\n",
       "\n",
       "    .dataframe thead th {\n",
       "        text-align: right;\n",
       "    }\n",
       "</style>\n",
       "<table border=\"1\" class=\"dataframe\">\n",
       "  <thead>\n",
       "    <tr style=\"text-align: right;\">\n",
       "      <th></th>\n",
       "      <th>glcID</th>\n",
       "      <th>gbifID</th>\n",
       "      <th>observer</th>\n",
       "      <th>datasetName</th>\n",
       "      <th>date</th>\n",
       "      <th>dayOfYear</th>\n",
       "      <th>year</th>\n",
       "      <th>lon</th>\n",
       "      <th>lat</th>\n",
       "      <th>x_EPSG3035</th>\n",
       "      <th>y_EPSG3035</th>\n",
       "      <th>geoUncertaintyInM</th>\n",
       "      <th>speciesId</th>\n",
       "      <th>patchID</th>\n",
       "      <th>timeSerieID</th>\n",
       "    </tr>\n",
       "  </thead>\n",
       "  <tbody>\n",
       "    <tr>\n",
       "      <th>0</th>\n",
       "      <td>5140269</td>\n",
       "      <td>3.473385e+09</td>\n",
       "      <td>(IGN)</td>\n",
       "      <td>Inventaire forestier IGN</td>\n",
       "      <td>2018-01-31</td>\n",
       "      <td>31</td>\n",
       "      <td>2018</td>\n",
       "      <td>7.300790</td>\n",
       "      <td>48.29273</td>\n",
       "      <td>4.120673e+06</td>\n",
       "      <td>2.801353e+06</td>\n",
       "      <td>1.0</td>\n",
       "      <td>6574</td>\n",
       "      <td>3018575</td>\n",
       "      <td>3980325</td>\n",
       "    </tr>\n",
       "    <tr>\n",
       "      <th>1</th>\n",
       "      <td>5279421</td>\n",
       "      <td>3.474159e+09</td>\n",
       "      <td>(IGN)</td>\n",
       "      <td>Inventaire forestier IGN</td>\n",
       "      <td>2017-07-19</td>\n",
       "      <td>200</td>\n",
       "      <td>2017</td>\n",
       "      <td>1.483390</td>\n",
       "      <td>42.92599</td>\n",
       "      <td>3.625340e+06</td>\n",
       "      <td>2.241565e+06</td>\n",
       "      <td>1.0</td>\n",
       "      <td>6574</td>\n",
       "      <td>3011783</td>\n",
       "      <td>3980331</td>\n",
       "    </tr>\n",
       "    <tr>\n",
       "      <th>2</th>\n",
       "      <td>5058088</td>\n",
       "      <td>3.475680e+09</td>\n",
       "      <td>(IGN)</td>\n",
       "      <td>Inventaire forestier IGN</td>\n",
       "      <td>2017-09-26</td>\n",
       "      <td>269</td>\n",
       "      <td>2017</td>\n",
       "      <td>6.739570</td>\n",
       "      <td>47.39633</td>\n",
       "      <td>4.074778e+06</td>\n",
       "      <td>2.703502e+06</td>\n",
       "      <td>1.0</td>\n",
       "      <td>6574</td>\n",
       "      <td>3018192</td>\n",
       "      <td>3980335</td>\n",
       "    </tr>\n",
       "    <tr>\n",
       "      <th>3</th>\n",
       "      <td>5146840</td>\n",
       "      <td>3.476162e+09</td>\n",
       "      <td>(IGN)</td>\n",
       "      <td>Inventaire forestier IGN</td>\n",
       "      <td>2017-09-20</td>\n",
       "      <td>263</td>\n",
       "      <td>2017</td>\n",
       "      <td>4.587140</td>\n",
       "      <td>45.40615</td>\n",
       "      <td>3.897015e+06</td>\n",
       "      <td>2.492494e+06</td>\n",
       "      <td>1.0</td>\n",
       "      <td>6574</td>\n",
       "      <td>3015541</td>\n",
       "      <td>3980336</td>\n",
       "    </tr>\n",
       "    <tr>\n",
       "      <th>4</th>\n",
       "      <td>5255062</td>\n",
       "      <td>3.475124e+09</td>\n",
       "      <td>(IGN)</td>\n",
       "      <td>Inventaire forestier IGN</td>\n",
       "      <td>2019-09-18</td>\n",
       "      <td>261</td>\n",
       "      <td>2019</td>\n",
       "      <td>6.955830</td>\n",
       "      <td>47.74829</td>\n",
       "      <td>4.092660e+06</td>\n",
       "      <td>2.741886e+06</td>\n",
       "      <td>1.0</td>\n",
       "      <td>6574</td>\n",
       "      <td>3018391</td>\n",
       "      <td>3980351</td>\n",
       "    </tr>\n",
       "    <tr>\n",
       "      <th>...</th>\n",
       "      <td>...</td>\n",
       "      <td>...</td>\n",
       "      <td>...</td>\n",
       "      <td>...</td>\n",
       "      <td>...</td>\n",
       "      <td>...</td>\n",
       "      <td>...</td>\n",
       "      <td>...</td>\n",
       "      <td>...</td>\n",
       "      <td>...</td>\n",
       "      <td>...</td>\n",
       "      <td>...</td>\n",
       "      <td>...</td>\n",
       "      <td>...</td>\n",
       "      <td>...</td>\n",
       "    </tr>\n",
       "    <tr>\n",
       "      <th>85320</th>\n",
       "      <td>5320539</td>\n",
       "      <td>NaN</td>\n",
       "      <td>NaN</td>\n",
       "      <td>CBNMed</td>\n",
       "      <td>1621461600</td>\n",
       "      <td>140</td>\n",
       "      <td>2021</td>\n",
       "      <td>5.094570</td>\n",
       "      <td>44.18660</td>\n",
       "      <td>3.928254e+06</td>\n",
       "      <td>2.354689e+06</td>\n",
       "      <td>10.0</td>\n",
       "      <td>9456</td>\n",
       "      <td>76900</td>\n",
       "      <td>3993145</td>\n",
       "    </tr>\n",
       "    <tr>\n",
       "      <th>85321</th>\n",
       "      <td>5392608</td>\n",
       "      <td>NaN</td>\n",
       "      <td>NaN</td>\n",
       "      <td>CBNMed</td>\n",
       "      <td>1497909600</td>\n",
       "      <td>171</td>\n",
       "      <td>2017</td>\n",
       "      <td>5.781197</td>\n",
       "      <td>43.74345</td>\n",
       "      <td>3.980545e+06</td>\n",
       "      <td>2.302273e+06</td>\n",
       "      <td>10.0</td>\n",
       "      <td>9456</td>\n",
       "      <td>94452</td>\n",
       "      <td>3986894</td>\n",
       "    </tr>\n",
       "    <tr>\n",
       "      <th>85322</th>\n",
       "      <td>5353058</td>\n",
       "      <td>NaN</td>\n",
       "      <td>NaN</td>\n",
       "      <td>CBNMed</td>\n",
       "      <td>1621461600</td>\n",
       "      <td>140</td>\n",
       "      <td>2021</td>\n",
       "      <td>5.094620</td>\n",
       "      <td>44.18680</td>\n",
       "      <td>3.928259e+06</td>\n",
       "      <td>2.354711e+06</td>\n",
       "      <td>10.0</td>\n",
       "      <td>9456</td>\n",
       "      <td>76905</td>\n",
       "      <td>3993923</td>\n",
       "    </tr>\n",
       "    <tr>\n",
       "      <th>85323</th>\n",
       "      <td>5102872</td>\n",
       "      <td>2.907311e+09</td>\n",
       "      <td>Shoesmith, J. Judith</td>\n",
       "      <td>Nat. plant monitoring UK</td>\n",
       "      <td>2017-06-07</td>\n",
       "      <td>158</td>\n",
       "      <td>2017</td>\n",
       "      <td>0.785642</td>\n",
       "      <td>51.70740</td>\n",
       "      <td>3.686016e+06</td>\n",
       "      <td>3.217623e+06</td>\n",
       "      <td>7.1</td>\n",
       "      <td>6081</td>\n",
       "      <td>3010687</td>\n",
       "      <td>3990777</td>\n",
       "    </tr>\n",
       "    <tr>\n",
       "      <th>85324</th>\n",
       "      <td>5116179</td>\n",
       "      <td>2.907245e+09</td>\n",
       "      <td>Shoesmith, J. Judith</td>\n",
       "      <td>Nat. plant monitoring UK</td>\n",
       "      <td>2017-09-06</td>\n",
       "      <td>249</td>\n",
       "      <td>2017</td>\n",
       "      <td>0.785642</td>\n",
       "      <td>51.70740</td>\n",
       "      <td>3.686016e+06</td>\n",
       "      <td>3.217623e+06</td>\n",
       "      <td>7.1</td>\n",
       "      <td>6081</td>\n",
       "      <td>3010687</td>\n",
       "      <td>3990793</td>\n",
       "    </tr>\n",
       "  </tbody>\n",
       "</table>\n",
       "<p>85325 rows × 15 columns</p>\n",
       "</div>"
      ],
      "text/plain": [
       "         glcID        gbifID              observer               datasetName  \\\n",
       "0      5140269  3.473385e+09                 (IGN)  Inventaire forestier IGN   \n",
       "1      5279421  3.474159e+09                 (IGN)  Inventaire forestier IGN   \n",
       "2      5058088  3.475680e+09                 (IGN)  Inventaire forestier IGN   \n",
       "3      5146840  3.476162e+09                 (IGN)  Inventaire forestier IGN   \n",
       "4      5255062  3.475124e+09                 (IGN)  Inventaire forestier IGN   \n",
       "...        ...           ...                   ...                       ...   \n",
       "85320  5320539           NaN                   NaN                    CBNMed   \n",
       "85321  5392608           NaN                   NaN                    CBNMed   \n",
       "85322  5353058           NaN                   NaN                    CBNMed   \n",
       "85323  5102872  2.907311e+09  Shoesmith, J. Judith  Nat. plant monitoring UK   \n",
       "85324  5116179  2.907245e+09  Shoesmith, J. Judith  Nat. plant monitoring UK   \n",
       "\n",
       "             date  dayOfYear  year       lon       lat    x_EPSG3035  \\\n",
       "0      2018-01-31         31  2018  7.300790  48.29273  4.120673e+06   \n",
       "1      2017-07-19        200  2017  1.483390  42.92599  3.625340e+06   \n",
       "2      2017-09-26        269  2017  6.739570  47.39633  4.074778e+06   \n",
       "3      2017-09-20        263  2017  4.587140  45.40615  3.897015e+06   \n",
       "4      2019-09-18        261  2019  6.955830  47.74829  4.092660e+06   \n",
       "...           ...        ...   ...       ...       ...           ...   \n",
       "85320  1621461600        140  2021  5.094570  44.18660  3.928254e+06   \n",
       "85321  1497909600        171  2017  5.781197  43.74345  3.980545e+06   \n",
       "85322  1621461600        140  2021  5.094620  44.18680  3.928259e+06   \n",
       "85323  2017-06-07        158  2017  0.785642  51.70740  3.686016e+06   \n",
       "85324  2017-09-06        249  2017  0.785642  51.70740  3.686016e+06   \n",
       "\n",
       "         y_EPSG3035  geoUncertaintyInM  speciesId  patchID  timeSerieID  \n",
       "0      2.801353e+06                1.0       6574  3018575      3980325  \n",
       "1      2.241565e+06                1.0       6574  3011783      3980331  \n",
       "2      2.703502e+06                1.0       6574  3018192      3980335  \n",
       "3      2.492494e+06                1.0       6574  3015541      3980336  \n",
       "4      2.741886e+06                1.0       6574  3018391      3980351  \n",
       "...             ...                ...        ...      ...          ...  \n",
       "85320  2.354689e+06               10.0       9456    76900      3993145  \n",
       "85321  2.302273e+06               10.0       9456    94452      3986894  \n",
       "85322  2.354711e+06               10.0       9456    76905      3993923  \n",
       "85323  3.217623e+06                7.1       6081  3010687      3990777  \n",
       "85324  3.217623e+06                7.1       6081  3010687      3990793  \n",
       "\n",
       "[85325 rows x 15 columns]"
      ]
     },
     "execution_count": 11,
     "metadata": {},
     "output_type": "execute_result"
    }
   ],
   "source": [
    "df = pd.read_csv(datadir + 'Presence_Absence_surveys/Presences_Absences_train.csv', sep=';')\n",
    "df"
   ]
  },
  {
   "cell_type": "code",
   "execution_count": 14,
   "metadata": {},
   "outputs": [
    {
     "data": {
      "text/plain": [
       "speciesId\n",
       "1          3\n",
       "5         14\n",
       "10         5\n",
       "11        20\n",
       "24       588\n",
       "        ... \n",
       "10028      3\n",
       "10031      1\n",
       "10035     16\n",
       "10038      1\n",
       "10039     48\n",
       "Name: glcID, Length: 2174, dtype: int64"
      ]
     },
     "execution_count": 14,
     "metadata": {},
     "output_type": "execute_result"
    }
   ],
   "source": [
    "df.groupby('speciesId').glcID.count()"
   ]
  },
  {
   "cell_type": "code",
   "execution_count": 13,
   "metadata": {},
   "outputs": [],
   "source": [
    "occurrences = datadir + 'Presence_only_occurrences/Presences_only_train.csv'\n",
    "label_name='speciesId'\n",
    "item_columns=['lat','lon','patchID','dayOfYear']\n",
    "df = pd.read_csv(occurrences, sep=\";\", header='infer', low_memory=False)"
   ]
  },
  {
   "cell_type": "code",
   "execution_count": 16,
   "metadata": {},
   "outputs": [],
   "source": [
    "items = df[item_columns + [label_name]]\n",
    "species = np.unique(df[label_name].values)\n",
    "base_providers = p"
   ]
  },
  {
   "cell_type": "code",
   "execution_count": 20,
   "metadata": {},
   "outputs": [
    {
     "data": {
      "text/plain": [
       "Rasters in folder:\n",
       "band_names: ['bio1']\n",
       "n_layers: 1\n",
       "x_min: -32.266806146449994\n",
       "y_min: 26.63319397795\n",
       "x_resolution: 0.0083333333\n",
       "y_resolution: 0.0083333333\n",
       "n_rows: 5467\n",
       "n_cols: 8143\n",
       "--------------------------------------------------\n",
       "band_names: ['bio11']\n",
       "n_layers: 1\n",
       "x_min: -32.266806146449994\n",
       "y_min: 26.63319397795\n",
       "x_resolution: 0.0083333333\n",
       "y_resolution: 0.0083333333\n",
       "n_rows: 5467\n",
       "n_cols: 8143\n",
       "--------------------------------------------------"
      ]
     },
     "execution_count": 20,
     "metadata": {},
     "output_type": "execute_result"
    }
   ],
   "source": [
    "# provider = MetaPatchProvider(base_providers)\n",
    "base_providers"
   ]
  },
  {
   "cell_type": "code",
   "execution_count": 25,
   "metadata": {},
   "outputs": [
    {
     "data": {
      "text/plain": [
       "2"
      ]
     },
     "execution_count": 25,
     "metadata": {},
     "output_type": "execute_result"
    }
   ],
   "source": [
    "len(base_providers)"
   ]
  },
  {
   "cell_type": "code",
   "execution_count": 21,
   "metadata": {},
   "outputs": [
    {
     "ename": "TypeError",
     "evalue": "'int' object is not subscriptable",
     "output_type": "error",
     "traceback": [
      "\u001b[0;31m---------------------------------------------------------------------------\u001b[0m",
      "\u001b[0;31mTypeError\u001b[0m                                 Traceback (most recent call last)",
      "Cell \u001b[0;32mIn[21], line 1\u001b[0m\n\u001b[0;32m----> 1\u001b[0m nb_layers \u001b[38;5;241m=\u001b[39m \u001b[38;5;28msum\u001b[39m([\u001b[38;5;28mlen\u001b[39m(provider) \u001b[38;5;28;01mfor\u001b[39;00m provider \u001b[38;5;129;01min\u001b[39;00m base_providers])\n",
      "Cell \u001b[0;32mIn[21], line 1\u001b[0m, in \u001b[0;36m<listcomp>\u001b[0;34m(.0)\u001b[0m\n\u001b[0;32m----> 1\u001b[0m nb_layers \u001b[38;5;241m=\u001b[39m \u001b[38;5;28msum\u001b[39m([\u001b[38;5;28mlen\u001b[39m(provider) \u001b[38;5;28;01mfor\u001b[39;00m provider \u001b[38;5;129;01min\u001b[39;00m base_providers])\n",
      "File \u001b[0;32m~/Documents/GeoLifeCLEF/data/PatchesProviders.py:147\u001b[0m, in \u001b[0;36mMultipleRasterPatchProvider.__getitem__\u001b[0;34m(self, item)\u001b[0m\n\u001b[1;32m    146\u001b[0m \u001b[38;5;28;01mdef\u001b[39;00m \u001b[38;5;21m__getitem__\u001b[39m(\u001b[38;5;28mself\u001b[39m, item):\n\u001b[0;32m--> 147\u001b[0m     \u001b[38;5;28;01mreturn\u001b[39;00m np\u001b[38;5;241m.\u001b[39mconcatenate([raster[item] \u001b[38;5;28;01mfor\u001b[39;00m raster \u001b[38;5;129;01min\u001b[39;00m \u001b[38;5;28mself\u001b[39m\u001b[38;5;241m.\u001b[39mrasters_providers])\n",
      "File \u001b[0;32m~/Documents/GeoLifeCLEF/data/PatchesProviders.py:147\u001b[0m, in \u001b[0;36m<listcomp>\u001b[0;34m(.0)\u001b[0m\n\u001b[1;32m    146\u001b[0m \u001b[38;5;28;01mdef\u001b[39;00m \u001b[38;5;21m__getitem__\u001b[39m(\u001b[38;5;28mself\u001b[39m, item):\n\u001b[0;32m--> 147\u001b[0m     \u001b[38;5;28;01mreturn\u001b[39;00m np\u001b[38;5;241m.\u001b[39mconcatenate([\u001b[43mraster\u001b[49m\u001b[43m[\u001b[49m\u001b[43mitem\u001b[49m\u001b[43m]\u001b[49m \u001b[38;5;28;01mfor\u001b[39;00m raster \u001b[38;5;129;01min\u001b[39;00m \u001b[38;5;28mself\u001b[39m\u001b[38;5;241m.\u001b[39mrasters_providers])\n",
      "File \u001b[0;32m~/Documents/GeoLifeCLEF/data/PatchesProviders.py:88\u001b[0m, in \u001b[0;36mRasterPatchProvider.__getitem__\u001b[0;34m(self, item)\u001b[0m\n\u001b[1;32m     86\u001b[0m     lon, lat \u001b[38;5;241m=\u001b[39m \u001b[38;5;28mself\u001b[39m\u001b[38;5;241m.\u001b[39mtransformer\u001b[38;5;241m.\u001b[39mtransform(item[\u001b[38;5;124m'\u001b[39m\u001b[38;5;124mlon\u001b[39m\u001b[38;5;124m'\u001b[39m], item[\u001b[38;5;124m'\u001b[39m\u001b[38;5;124mlat\u001b[39m\u001b[38;5;124m'\u001b[39m])\n\u001b[1;32m     87\u001b[0m \u001b[38;5;28;01melse\u001b[39;00m:\n\u001b[0;32m---> 88\u001b[0m     lon, lat \u001b[38;5;241m=\u001b[39m (\u001b[43mitem\u001b[49m\u001b[43m[\u001b[49m\u001b[38;5;124;43m'\u001b[39;49m\u001b[38;5;124;43mlon\u001b[39;49m\u001b[38;5;124;43m'\u001b[39;49m\u001b[43m]\u001b[49m, item[\u001b[38;5;124m'\u001b[39m\u001b[38;5;124mlat\u001b[39m\u001b[38;5;124m'\u001b[39m])\n\u001b[1;32m     90\u001b[0m \u001b[38;5;66;03m# calculate the x, y coordinate of the point of interest\u001b[39;00m\n\u001b[1;32m     91\u001b[0m x \u001b[38;5;241m=\u001b[39m \u001b[38;5;28mint\u001b[39m(\u001b[38;5;28mself\u001b[39m\u001b[38;5;241m.\u001b[39mn_rows \u001b[38;5;241m-\u001b[39m (lat \u001b[38;5;241m-\u001b[39m \u001b[38;5;28mself\u001b[39m\u001b[38;5;241m.\u001b[39my_min) \u001b[38;5;241m/\u001b[39m \u001b[38;5;28mself\u001b[39m\u001b[38;5;241m.\u001b[39my_resolution)\n",
      "\u001b[0;31mTypeError\u001b[0m: 'int' object is not subscriptable"
     ]
    }
   ],
   "source": [
    "nb_layers = sum([len(provider) for provider in base_providers])"
   ]
  },
  {
   "cell_type": "code",
   "execution_count": null,
   "metadata": {},
   "outputs": [],
   "source": [
    "data[0]"
   ]
  },
  {
   "cell_type": "code",
   "execution_count": 20,
   "metadata": {},
   "outputs": [
    {
     "name": "stdout",
     "output_type": "stream",
     "text": [
      "{'lat': 51.77186, 'lon': -10.53904, 'patchID': 3018869.0, 'dayOfYear': 272.0}\n",
      "[8075]\n",
      "1\n"
     ]
    }
   ],
   "source": [
    "index = 0\n",
    "item = data.items.iloc[index][data.item_columns].to_dict()\n",
    "print(item)\n",
    "\n",
    "item_species = data.items.query(\n",
    "    ' and '.join([f'{k} == {v}' for k, v in item.items()])\n",
    ")[data.label_name].values\n",
    "labels = 1 * np.isin(data.species, item_species)\n",
    "print(item_species)\n",
    "print(labels.sum())"
   ]
  },
  {
   "cell_type": "code",
   "execution_count": 21,
   "metadata": {},
   "outputs": [
    {
     "data": {
      "text/plain": [
       "array([2.84300000e+03, 2.83900000e+03, 8.70000000e+01, 2.80400000e+03,\n",
       "       2.89100000e+03, 2.45400000e+03, 2.00999999e+00, 1.80000000e+01,\n",
       "       5.73500000e+03, 4.40300000e+03, 3.57900000e+03, 6.82100000e+03,\n",
       "       2.60000000e+02, 1.16800000e+03, 2.34000000e+03, 2.05380000e+04,\n",
       "       2.81700000e+03, 2.87900000e+03, 2.84500000e+03])"
      ]
     },
     "execution_count": 21,
     "metadata": {},
     "output_type": "execute_result"
    }
   ],
   "source": [
    "p[item]"
   ]
  },
  {
   "cell_type": "code",
   "execution_count": 14,
   "metadata": {},
   "outputs": [
    {
     "data": {
      "text/plain": [
       "(2,)"
      ]
     },
     "execution_count": 14,
     "metadata": {},
     "output_type": "execute_result"
    }
   ],
   "source": [
    "p[item].shape"
   ]
  },
  {
   "cell_type": "code",
   "execution_count": 4,
   "metadata": {},
   "outputs": [],
   "source": [
    "import itertools\n",
    "import logging\n",
    "import math\n",
    "import os\n",
    "from abc import abstractmethod\n",
    "from random import random\n",
    "\n",
    "import matplotlib.pyplot as plt\n",
    "import numpy as np\n",
    "import pyproj\n",
    "import rasterio\n",
    "from PIL import Image\n",
    "import pandas as pd\n",
    "\n",
    "from pathlib import Path\n",
    "import numpy as np\n",
    "import pandas as pd\n",
    "import torch\n",
    "from torch.utils.data import Dataset\n",
    "from PIL import Image\n",
    "import os\n",
    "import rasterio"
   ]
  },
  {
   "cell_type": "code",
   "execution_count": 17,
   "metadata": {},
   "outputs": [],
   "source": [
    "#RasterPatchProvider\n",
    "data_path = 'data/sample_data/' # root path of the data\n",
    "raster_path = data_path+'EnvironmentalRasters/Climate/BioClimatic_Average_1981-2010/bio1.tif'\n",
    "size=128\n",
    "spatial_noise=0\n",
    "normalize=False\n",
    "fill_zero_if_error=False\n",
    "nan_value=0\n",
    "transformer = None\n",
    "name = os.path.basename(os.path.splitext(raster_path)[0])"
   ]
  },
  {
   "cell_type": "code",
   "execution_count": 18,
   "metadata": {},
   "outputs": [
    {
     "name": "stdout",
     "output_type": "stream",
     "text": [
      "META: {'driver': 'GTiff', 'dtype': 'uint16', 'nodata': None, 'width': 8143, 'height': 5467, 'count': 1, 'crs': CRS.from_epsg(4326), 'transform': Affine(0.0083333333, 0.0, -32.266806146449994,\n",
      "       0.0, -0.0083333333, 72.19152712905)}\n",
      "SHAPE: (1, 5467, 8143)\n",
      "NODATAVALUE: (None,)\n",
      "0\n",
      "NB LAYERS: 1\n",
      "-32.266806146449994 26.63319397795 0.0083333333 0.0083333333 5467 8143 EPSG:4326\n"
     ]
    }
   ],
   "source": [
    "with rasterio.open(raster_path) as src:\n",
    "    # read the metadata of the file\n",
    "    meta = src.meta\n",
    "    meta.update(count=src.count) # update the count of the meta to match the number of layers\n",
    "    print('META:', meta)\n",
    "\n",
    "    # read the data from the raster\n",
    "    data = src.read()\n",
    "    print('SHAPE:', data.shape)\n",
    "\n",
    "    # get the NoData value from the raster\n",
    "    nodata_value = src.nodatavals\n",
    "    print('NODATAVALUE:', nodata_value)\n",
    "\n",
    "    # iterate through all the layers\n",
    "    for i in range(src.count):\n",
    "        print(i)\n",
    "        # replace the NoData values with np.nan\n",
    "        data = data.astype(float)\n",
    "        data[i] = np.where(data[i] == nodata_value[i], np.nan, data[i])\n",
    "        if normalize:\n",
    "            data[i] = (data[i] - np.nanmean(data[i]))/np.nanstd(data[i])\n",
    "        data[i] = np.where(np.isnan(data[i]), nan_value, data[i])\n",
    "            \n",
    "    nb_layers = src.count\n",
    "    print('NB LAYERS:', nb_layers)\n",
    "\n",
    "    x_min = src.bounds.left\n",
    "    y_min = src.bounds.bottom\n",
    "    x_resolution = src.res[0]\n",
    "    y_resolution = src.res[1]\n",
    "    n_rows = src.height\n",
    "    n_cols = src.width\n",
    "    crs = src.crs\n",
    "    print(x_min, y_min, x_resolution, y_resolution, n_rows, n_cols, crs)\n",
    "    if nb_layers > 1:\n",
    "        bands_names = [name+'_'+str(i+1) for i in range(nb_layers)]\n",
    "    else:\n",
    "        bands_names = [name]\n",
    "        \n",
    "    epsg = crs.to_epsg()\n",
    "    if epsg != 4326:\n",
    "        # create a pyproj transformer object to convert lat, lon to EPSG:32738\n",
    "        transformer = pyproj.Transformer.from_crs(\"epsg:4326\", epsg, always_xy=True)\n"
   ]
  },
  {
   "cell_type": "code",
   "execution_count": 19,
   "metadata": {},
   "outputs": [
    {
     "data": {
      "text/html": [
       "<div>\n",
       "<style scoped>\n",
       "    .dataframe tbody tr th:only-of-type {\n",
       "        vertical-align: middle;\n",
       "    }\n",
       "\n",
       "    .dataframe tbody tr th {\n",
       "        vertical-align: top;\n",
       "    }\n",
       "\n",
       "    .dataframe thead th {\n",
       "        text-align: right;\n",
       "    }\n",
       "</style>\n",
       "<table border=\"1\" class=\"dataframe\">\n",
       "  <thead>\n",
       "    <tr style=\"text-align: right;\">\n",
       "      <th></th>\n",
       "      <th>glcID</th>\n",
       "      <th>gbifID</th>\n",
       "      <th>observer</th>\n",
       "      <th>datasetName</th>\n",
       "      <th>date</th>\n",
       "      <th>dayOfYear</th>\n",
       "      <th>year</th>\n",
       "      <th>year_ecodatacube_quarter</th>\n",
       "      <th>lon</th>\n",
       "      <th>lat</th>\n",
       "      <th>x_EPSG3035</th>\n",
       "      <th>y_EPSG3035</th>\n",
       "      <th>geoUncertaintyInM</th>\n",
       "      <th>speciesId</th>\n",
       "      <th>patchID</th>\n",
       "      <th>timeSerieID</th>\n",
       "    </tr>\n",
       "  </thead>\n",
       "  <tbody>\n",
       "    <tr>\n",
       "      <th>0</th>\n",
       "      <td>2522017</td>\n",
       "      <td>1.882957e+09</td>\n",
       "      <td>Bjørn Petter Løfall</td>\n",
       "      <td>NOR Species Observation</td>\n",
       "      <td>2018-06-17</td>\n",
       "      <td>168</td>\n",
       "      <td>2018</td>\n",
       "      <td>2.0</td>\n",
       "      <td>10.951540</td>\n",
       "      <td>59.25110</td>\n",
       "      <td>4375406.0</td>\n",
       "      <td>4017067.0</td>\n",
       "      <td>10.0</td>\n",
       "      <td>9343</td>\n",
       "      <td>5982155</td>\n",
       "      <td>2959445</td>\n",
       "    </tr>\n",
       "    <tr>\n",
       "      <th>1</th>\n",
       "      <td>915820</td>\n",
       "      <td>3.704105e+09</td>\n",
       "      <td>Szokala,Daniel</td>\n",
       "      <td>Masaryk Univ Herbarium</td>\n",
       "      <td>2020-08-23</td>\n",
       "      <td>236</td>\n",
       "      <td>2020</td>\n",
       "      <td>3.0</td>\n",
       "      <td>22.678360</td>\n",
       "      <td>43.39697</td>\n",
       "      <td>5345300.0</td>\n",
       "      <td>2341095.0</td>\n",
       "      <td>10.0</td>\n",
       "      <td>2165</td>\n",
       "      <td>6920543</td>\n",
       "      <td>3900275</td>\n",
       "    </tr>\n",
       "    <tr>\n",
       "      <th>2</th>\n",
       "      <td>2204483</td>\n",
       "      <td>2.634620e+09</td>\n",
       "      <td>Mykyta Peregrym</td>\n",
       "      <td>iNaturalist RG</td>\n",
       "      <td>2020-06-01</td>\n",
       "      <td>153</td>\n",
       "      <td>2020</td>\n",
       "      <td>2.0</td>\n",
       "      <td>20.057780</td>\n",
       "      <td>47.91972</td>\n",
       "      <td>5070487.0</td>\n",
       "      <td>2807349.0</td>\n",
       "      <td>5.0</td>\n",
       "      <td>7722</td>\n",
       "      <td>6876987</td>\n",
       "      <td>3856654</td>\n",
       "    </tr>\n",
       "    <tr>\n",
       "      <th>3</th>\n",
       "      <td>1892353</td>\n",
       "      <td>2.894783e+09</td>\n",
       "      <td>Vejle Kommune</td>\n",
       "      <td>DEN Environmental Portal</td>\n",
       "      <td>2018-05-16</td>\n",
       "      <td>136</td>\n",
       "      <td>2018</td>\n",
       "      <td>2.0</td>\n",
       "      <td>9.337563</td>\n",
       "      <td>55.75870</td>\n",
       "      <td>4279387.0</td>\n",
       "      <td>3628455.0</td>\n",
       "      <td>3.0</td>\n",
       "      <td>6461</td>\n",
       "      <td>5547194</td>\n",
       "      <td>2523020</td>\n",
       "    </tr>\n",
       "    <tr>\n",
       "      <th>4</th>\n",
       "      <td>3377718</td>\n",
       "      <td>1.884870e+09</td>\n",
       "      <td>Bernt-Gunnar Østerkløft</td>\n",
       "      <td>NOR Species Observation</td>\n",
       "      <td>2018-07-18</td>\n",
       "      <td>199</td>\n",
       "      <td>2018</td>\n",
       "      <td>3.0</td>\n",
       "      <td>14.614180</td>\n",
       "      <td>67.38264</td>\n",
       "      <td>4520783.0</td>\n",
       "      <td>4924950.0</td>\n",
       "      <td>50.0</td>\n",
       "      <td>7287</td>\n",
       "      <td>6592021</td>\n",
       "      <td>3570234</td>\n",
       "    </tr>\n",
       "  </tbody>\n",
       "</table>\n",
       "</div>"
      ],
      "text/plain": [
       "     glcID        gbifID                 observer               datasetName  \\\n",
       "0  2522017  1.882957e+09      Bjørn Petter Løfall   NOR Species Observation   \n",
       "1   915820  3.704105e+09           Szokala,Daniel    Masaryk Univ Herbarium   \n",
       "2  2204483  2.634620e+09          Mykyta Peregrym            iNaturalist RG   \n",
       "3  1892353  2.894783e+09            Vejle Kommune  DEN Environmental Portal   \n",
       "4  3377718  1.884870e+09  Bernt-Gunnar Østerkløft   NOR Species Observation   \n",
       "\n",
       "         date  dayOfYear  year  year_ecodatacube_quarter        lon       lat  \\\n",
       "0  2018-06-17        168  2018                       2.0  10.951540  59.25110   \n",
       "1  2020-08-23        236  2020                       3.0  22.678360  43.39697   \n",
       "2  2020-06-01        153  2020                       2.0  20.057780  47.91972   \n",
       "3  2018-05-16        136  2018                       2.0   9.337563  55.75870   \n",
       "4  2018-07-18        199  2018                       3.0  14.614180  67.38264   \n",
       "\n",
       "   x_EPSG3035  y_EPSG3035  geoUncertaintyInM  speciesId  patchID  timeSerieID  \n",
       "0   4375406.0   4017067.0               10.0       9343  5982155      2959445  \n",
       "1   5345300.0   2341095.0               10.0       2165  6920543      3900275  \n",
       "2   5070487.0   2807349.0                5.0       7722  6876987      3856654  \n",
       "3   4279387.0   3628455.0                3.0       6461  5547194      2523020  \n",
       "4   4520783.0   4924950.0               50.0       7287  6592021      3570234  "
      ]
     },
     "execution_count": 19,
     "metadata": {},
     "output_type": "execute_result"
    }
   ],
   "source": [
    "#PatchesDataset\n",
    "occurrences = Path(data_path+'Presence_only_occurrences/Presences_only_train_sample.csv')\n",
    "transform = None\n",
    "target_transform = None\n",
    "id_name=\"glcID\"\n",
    "label_name=\"speciesId\"\n",
    "item_columns=['lat', 'lon', 'patchID']\n",
    "df = pd.read_csv(occurrences, sep=\";\", header='infer', low_memory=False)\n",
    "df.head()"
   ]
  },
  {
   "cell_type": "code",
   "execution_count": 39,
   "metadata": {},
   "outputs": [
    {
     "data": {
      "text/html": [
       "<div>\n",
       "<style scoped>\n",
       "    .dataframe tbody tr th:only-of-type {\n",
       "        vertical-align: middle;\n",
       "    }\n",
       "\n",
       "    .dataframe tbody tr th {\n",
       "        vertical-align: top;\n",
       "    }\n",
       "\n",
       "    .dataframe thead th {\n",
       "        text-align: right;\n",
       "    }\n",
       "</style>\n",
       "<table border=\"1\" class=\"dataframe\">\n",
       "  <thead>\n",
       "    <tr style=\"text-align: right;\">\n",
       "      <th></th>\n",
       "      <th>lat</th>\n",
       "      <th>lon</th>\n",
       "      <th>patchID</th>\n",
       "    </tr>\n",
       "  </thead>\n",
       "  <tbody>\n",
       "    <tr>\n",
       "      <th>0</th>\n",
       "      <td>59.25110</td>\n",
       "      <td>10.951540</td>\n",
       "      <td>5982155</td>\n",
       "    </tr>\n",
       "    <tr>\n",
       "      <th>1</th>\n",
       "      <td>43.39697</td>\n",
       "      <td>22.678360</td>\n",
       "      <td>6920543</td>\n",
       "    </tr>\n",
       "    <tr>\n",
       "      <th>2</th>\n",
       "      <td>47.91972</td>\n",
       "      <td>20.057780</td>\n",
       "      <td>6876987</td>\n",
       "    </tr>\n",
       "    <tr>\n",
       "      <th>3</th>\n",
       "      <td>55.75870</td>\n",
       "      <td>9.337563</td>\n",
       "      <td>5547194</td>\n",
       "    </tr>\n",
       "    <tr>\n",
       "      <th>4</th>\n",
       "      <td>67.38264</td>\n",
       "      <td>14.614180</td>\n",
       "      <td>6592021</td>\n",
       "    </tr>\n",
       "    <tr>\n",
       "      <th>...</th>\n",
       "      <td>...</td>\n",
       "      <td>...</td>\n",
       "      <td>...</td>\n",
       "    </tr>\n",
       "    <tr>\n",
       "      <th>95</th>\n",
       "      <td>51.13202</td>\n",
       "      <td>17.369410</td>\n",
       "      <td>6808612</td>\n",
       "    </tr>\n",
       "    <tr>\n",
       "      <th>96</th>\n",
       "      <td>59.13283</td>\n",
       "      <td>9.546747</td>\n",
       "      <td>5598953</td>\n",
       "    </tr>\n",
       "    <tr>\n",
       "      <th>97</th>\n",
       "      <td>56.43098</td>\n",
       "      <td>16.439410</td>\n",
       "      <td>6749721</td>\n",
       "    </tr>\n",
       "    <tr>\n",
       "      <th>98</th>\n",
       "      <td>50.86739</td>\n",
       "      <td>9.702714</td>\n",
       "      <td>5641177</td>\n",
       "    </tr>\n",
       "    <tr>\n",
       "      <th>99</th>\n",
       "      <td>43.92039</td>\n",
       "      <td>10.227480</td>\n",
       "      <td>5784968</td>\n",
       "    </tr>\n",
       "  </tbody>\n",
       "</table>\n",
       "<p>100 rows × 3 columns</p>\n",
       "</div>"
      ],
      "text/plain": [
       "         lat        lon  patchID\n",
       "0   59.25110  10.951540  5982155\n",
       "1   43.39697  22.678360  6920543\n",
       "2   47.91972  20.057780  6876987\n",
       "3   55.75870   9.337563  5547194\n",
       "4   67.38264  14.614180  6592021\n",
       "..       ...        ...      ...\n",
       "95  51.13202  17.369410  6808612\n",
       "96  59.13283   9.546747  5598953\n",
       "97  56.43098  16.439410  6749721\n",
       "98  50.86739   9.702714  5641177\n",
       "99  43.92039  10.227480  5784968\n",
       "\n",
       "[100 rows x 3 columns]"
      ]
     },
     "execution_count": 39,
     "metadata": {},
     "output_type": "execute_result"
    }
   ],
   "source": [
    "items = df[item_columns].drop_duplicates().reset_index(drop=True)\n",
    "items"
   ]
  },
  {
   "cell_type": "code",
   "execution_count": null,
   "metadata": {},
   "outputs": [],
   "source": [
    "occurrences['speciesId']"
   ]
  },
  {
   "cell_type": "code",
   "execution_count": 20,
   "metadata": {},
   "outputs": [],
   "source": [
    "observation_ids = df[id_name].values\n",
    "items = df[item_columns]\n",
    "targets = df[label_name].values"
   ]
  },
  {
   "cell_type": "code",
   "execution_count": 21,
   "metadata": {},
   "outputs": [
    {
     "name": "stdout",
     "output_type": "stream",
     "text": [
      "ITEM: {'lat': 59.2511, 'lon': 10.95154, 'patchID': 5982155.0}\n",
      "TARGET: 9343\n"
     ]
    }
   ],
   "source": [
    "#dataset get_item\n",
    "index = 0\n",
    "item = items.iloc[index].to_dict()\n",
    "print('ITEM:', item)\n",
    "\n",
    "target = targets[index]\n",
    "print('TARGET:', target)"
   ]
  },
  {
   "cell_type": "code",
   "execution_count": 30,
   "metadata": {},
   "outputs": [
    {
     "name": "stdout",
     "output_type": "stream",
     "text": [
      "10.95154 59.2511\n",
      "1552 5186\n"
     ]
    }
   ],
   "source": [
    "#patch = self.provider[item]\n",
    "#provider get_item\n",
    "lon, lat = (item['lon'], item['lat'])\n",
    "print(lon, lat)\n",
    "\n",
    "x = int(n_rows - (lat - y_min) / y_resolution)\n",
    "y = int((lon - x_min) / x_resolution)\n",
    "print(x, y)"
   ]
  },
  {
   "cell_type": "code",
   "execution_count": 24,
   "metadata": {},
   "outputs": [
    {
     "data": {
      "text/plain": [
       "(1, 5467, 8143)"
      ]
     },
     "execution_count": 24,
     "metadata": {},
     "output_type": "execute_result"
    }
   ],
   "source": [
    "data.shape"
   ]
  },
  {
   "cell_type": "code",
   "execution_count": 32,
   "metadata": {},
   "outputs": [
    {
     "data": {
      "text/plain": [
       "[2803.0]"
      ]
     },
     "execution_count": 32,
     "metadata": {},
     "output_type": "execute_result"
    }
   ],
   "source": [
    "patch_size = 1\n",
    "patch_data = [data[i, x, y] for i in range(nb_layers)]\n",
    "patch_data"
   ]
  },
  {
   "cell_type": "code",
   "execution_count": 35,
   "metadata": {},
   "outputs": [
    {
     "data": {
      "text/plain": [
       "[array([[2805., 2803., 2804., 2803., 2803., 2801.],\n",
       "        [2804., 2804., 2804., 2803., 2802., 2801.],\n",
       "        [2805., 2804., 2804., 2803., 2802., 2802.],\n",
       "        [2806., 2805., 2803., 2803., 2802., 2804.],\n",
       "        [2806., 2805., 2803., 2803., 2804., 2806.],\n",
       "        [2806., 2805., 2804., 2804., 2805., 2806.]])]"
      ]
     },
     "execution_count": 35,
     "metadata": {},
     "output_type": "execute_result"
    }
   ],
   "source": [
    "patch_size = 6\n",
    "patch_data = [data[i, x - (patch_size // 2): x + (patch_size // 2), \n",
    "                   y - (patch_size // 2): y + (patch_size // 2)] \n",
    "                   for i in range(nb_layers)]\n",
    "patch_data"
   ]
  },
  {
   "cell_type": "code",
   "execution_count": 77,
   "metadata": {},
   "outputs": [],
   "source": [
    "df_full_raw = pd.read_csv('data/full_data/Presence_only_occurrences/Presences_only_train.csv', sep=';',header='infer',low_memory=True)"
   ]
  },
  {
   "cell_type": "code",
   "execution_count": 41,
   "metadata": {},
   "outputs": [
    {
     "data": {
      "text/plain": [
       "(4908319, 15)"
      ]
     },
     "execution_count": 41,
     "metadata": {},
     "output_type": "execute_result"
    }
   ],
   "source": [
    "df_full_raw.shape"
   ]
  },
  {
   "cell_type": "code",
   "execution_count": 80,
   "metadata": {},
   "outputs": [
    {
     "name": "stdout",
     "output_type": "stream",
     "text": [
      "(4905577, 15)\n",
      "(4905577, 5)\n"
     ]
    }
   ],
   "source": [
    "item_columns=['lat','lon','patchID','dayOfYear']\n",
    "label_name=\"speciesId\"\n",
    "df_full = df_full_raw.drop_duplicates(item_columns + [label_name])\n",
    "print(df_full.shape)\n",
    "items = df_full[item_columns + [label_name]]\n",
    "print(items.shape)"
   ]
  },
  {
   "cell_type": "code",
   "execution_count": 82,
   "metadata": {},
   "outputs": [
    {
     "data": {
      "text/html": [
       "<div>\n",
       "<style scoped>\n",
       "    .dataframe tbody tr th:only-of-type {\n",
       "        vertical-align: middle;\n",
       "    }\n",
       "\n",
       "    .dataframe tbody tr th {\n",
       "        vertical-align: top;\n",
       "    }\n",
       "\n",
       "    .dataframe thead th {\n",
       "        text-align: right;\n",
       "    }\n",
       "</style>\n",
       "<table border=\"1\" class=\"dataframe\">\n",
       "  <thead>\n",
       "    <tr style=\"text-align: right;\">\n",
       "      <th></th>\n",
       "      <th>lat</th>\n",
       "      <th>lon</th>\n",
       "      <th>patchID</th>\n",
       "      <th>dayOfYear</th>\n",
       "      <th>speciesId</th>\n",
       "    </tr>\n",
       "  </thead>\n",
       "  <tbody>\n",
       "    <tr>\n",
       "      <th>0</th>\n",
       "      <td>51.77186</td>\n",
       "      <td>-10.53904</td>\n",
       "      <td>3018869</td>\n",
       "      <td>272</td>\n",
       "      <td>8075</td>\n",
       "    </tr>\n",
       "    <tr>\n",
       "      <th>1</th>\n",
       "      <td>51.77226</td>\n",
       "      <td>-10.53875</td>\n",
       "      <td>3018870</td>\n",
       "      <td>234</td>\n",
       "      <td>8075</td>\n",
       "    </tr>\n",
       "    <tr>\n",
       "      <th>2</th>\n",
       "      <td>52.11013</td>\n",
       "      <td>-10.47597</td>\n",
       "      <td>3018871</td>\n",
       "      <td>191</td>\n",
       "      <td>6477</td>\n",
       "    </tr>\n",
       "    <tr>\n",
       "      <th>3</th>\n",
       "      <td>52.15074</td>\n",
       "      <td>-10.47555</td>\n",
       "      <td>3018872</td>\n",
       "      <td>183</td>\n",
       "      <td>5783</td>\n",
       "    </tr>\n",
       "    <tr>\n",
       "      <th>4</th>\n",
       "      <td>52.10978</td>\n",
       "      <td>-10.47497</td>\n",
       "      <td>3018873</td>\n",
       "      <td>158</td>\n",
       "      <td>9011</td>\n",
       "    </tr>\n",
       "  </tbody>\n",
       "</table>\n",
       "</div>"
      ],
      "text/plain": [
       "        lat       lon  patchID  dayOfYear  speciesId\n",
       "0  51.77186 -10.53904  3018869        272       8075\n",
       "1  51.77226 -10.53875  3018870        234       8075\n",
       "2  52.11013 -10.47597  3018871        191       6477\n",
       "3  52.15074 -10.47555  3018872        183       5783\n",
       "4  52.10978 -10.47497  3018873        158       9011"
      ]
     },
     "execution_count": 82,
     "metadata": {},
     "output_type": "execute_result"
    }
   ],
   "source": [
    "items.head()"
   ]
  },
  {
   "cell_type": "code",
   "execution_count": 50,
   "metadata": {},
   "outputs": [
    {
     "data": {
      "text/plain": [
       "(4007514,)"
      ]
     },
     "execution_count": 50,
     "metadata": {},
     "output_type": "execute_result"
    }
   ],
   "source": [
    "label_name=\"speciesId\"\n",
    "targets = df_full[label_name].values\n",
    "targets.shape"
   ]
  },
  {
   "cell_type": "code",
   "execution_count": 51,
   "metadata": {},
   "outputs": [
    {
     "data": {
      "text/plain": [
       "array([8075, 8075, 6477, 5783, 9011])"
      ]
     },
     "execution_count": 51,
     "metadata": {},
     "output_type": "execute_result"
    }
   ],
   "source": [
    "targets[0:5]"
   ]
  },
  {
   "cell_type": "code",
   "execution_count": 58,
   "metadata": {},
   "outputs": [
    {
     "data": {
      "text/plain": [
       "(9826,)"
      ]
     },
     "execution_count": 58,
     "metadata": {},
     "output_type": "execute_result"
    }
   ],
   "source": [
    "np.unique(targets).shape#[0:5]#.sort_values().unique()#[0:5]"
   ]
  },
  {
   "cell_type": "code",
   "execution_count": 135,
   "metadata": {},
   "outputs": [
    {
     "data": {
      "text/plain": [
       "{'lat': 52.05827, 'lon': -9.932635, 'patchID': 3019469.0, 'dayOfYear': 365.0}"
      ]
     },
     "execution_count": 135,
     "metadata": {},
     "output_type": "execute_result"
    }
   ],
   "source": [
    "index = 604\n",
    "item = items.iloc[index][item_columns].to_dict()\n",
    "item"
   ]
  },
  {
   "cell_type": "code",
   "execution_count": 139,
   "metadata": {},
   "outputs": [
    {
     "data": {
      "text/plain": [
       "array([ 277,  665, 3397, 3569, 4284, 5685, 5783, 6588, 8058, 9020, 9496,\n",
       "       9595, 9747])"
      ]
     },
     "execution_count": 139,
     "metadata": {},
     "output_type": "execute_result"
    }
   ],
   "source": [
    "query_str = ' and '.join([f'{k} == {v}' for k, v in item.items()])\n",
    "filtered_df = items.query(query_str)\n",
    "species = filtered_df['speciesId'].values\n",
    "species"
   ]
  },
  {
   "cell_type": "code",
   "execution_count": null,
   "metadata": {},
   "outputs": [],
   "source": [
    "labels = 1 * np.isin(self.species, item_species)"
   ]
  },
  {
   "cell_type": "code",
   "execution_count": 132,
   "metadata": {},
   "outputs": [
    {
     "data": {
      "text/plain": [
       "patchID  dayOfYear\n",
       "3019203  183           2\n",
       "3019217  146           2\n",
       "3019469  365          13\n",
       "3019473  295           2\n",
       "3019715  2             4\n",
       "                      ..\n",
       "6999952  61            2\n",
       "7000005  63            2\n",
       "7000044  311           2\n",
       "7000124  62            8\n",
       "7000159  64            2\n",
       "Name: lat, Length: 268284, dtype: int64"
      ]
     },
     "execution_count": 132,
     "metadata": {},
     "output_type": "execute_result"
    }
   ],
   "source": [
    "tmp = items.groupby(['patchID','dayOfYear']).lat.count()\n",
    "tmp[tmp != 1]"
   ]
  },
  {
   "cell_type": "code",
   "execution_count": 125,
   "metadata": {},
   "outputs": [
    {
     "name": "stdout",
     "output_type": "stream",
     "text": [
      "(4905577, 5)\n",
      "0          False\n",
      "1          False\n",
      "2          False\n",
      "3          False\n",
      "4          False\n",
      "           ...  \n",
      "4908314    False\n",
      "4908315    False\n",
      "4908316    False\n",
      "4908317    False\n",
      "4908318    False\n",
      "Name: lat, Length: 4905577, dtype: bool\n",
      "0          False\n",
      "1          False\n",
      "2          False\n",
      "3          False\n",
      "4          False\n",
      "           ...  \n",
      "4908314    False\n",
      "4908315    False\n",
      "4908316    False\n",
      "4908317    False\n",
      "4908318    False\n",
      "Name: lon, Length: 4905577, dtype: bool\n",
      "0          False\n",
      "1          False\n",
      "2          False\n",
      "3          False\n",
      "4          False\n",
      "           ...  \n",
      "4908314    False\n",
      "4908315    False\n",
      "4908316    False\n",
      "4908317    False\n",
      "4908318    False\n",
      "Name: patchID, Length: 4905577, dtype: bool\n",
      "0          False\n",
      "1           True\n",
      "2          False\n",
      "3          False\n",
      "4          False\n",
      "           ...  \n",
      "4908314    False\n",
      "4908315    False\n",
      "4908316    False\n",
      "4908317    False\n",
      "4908318    False\n",
      "Name: dayOfYear, Length: 4905577, dtype: bool\n"
     ]
    }
   ],
   "source": [
    "print(items.shape)\n",
    "for col in item_columns:\n",
    "    print(items[col] == item[col])\n",
    "    #print(col, filtered_items.shape)  \n"
   ]
  },
  {
   "cell_type": "code",
   "execution_count": null,
   "metadata": {},
   "outputs": [],
   "source": []
  },
  {
   "cell_type": "code",
   "execution_count": 121,
   "metadata": {},
   "outputs": [
    {
     "data": {
      "text/html": [
       "<div>\n",
       "<style scoped>\n",
       "    .dataframe tbody tr th:only-of-type {\n",
       "        vertical-align: middle;\n",
       "    }\n",
       "\n",
       "    .dataframe tbody tr th {\n",
       "        vertical-align: top;\n",
       "    }\n",
       "\n",
       "    .dataframe thead th {\n",
       "        text-align: right;\n",
       "    }\n",
       "</style>\n",
       "<table border=\"1\" class=\"dataframe\">\n",
       "  <thead>\n",
       "    <tr style=\"text-align: right;\">\n",
       "      <th></th>\n",
       "      <th>lat</th>\n",
       "      <th>lon</th>\n",
       "      <th>patchID</th>\n",
       "      <th>dayOfYear</th>\n",
       "      <th>speciesId</th>\n",
       "    </tr>\n",
       "  </thead>\n",
       "  <tbody>\n",
       "    <tr>\n",
       "      <th>13</th>\n",
       "      <td>52.13511</td>\n",
       "      <td>-10.46012</td>\n",
       "      <td>3018882</td>\n",
       "      <td>234</td>\n",
       "      <td>4287</td>\n",
       "    </tr>\n",
       "  </tbody>\n",
       "</table>\n",
       "</div>"
      ],
      "text/plain": [
       "         lat       lon  patchID  dayOfYear  speciesId\n",
       "13  52.13511 -10.46012  3018882        234       4287"
      ]
     },
     "execution_count": 121,
     "metadata": {},
     "output_type": "execute_result"
    }
   ],
   "source": [
    "items[\n",
    "    (items['patchID'] == item['patchID']) & (items['dayOfYear'] == item['dayOfYear']) & \n",
    "    (items['lat'] == item['lat']) & (items['lon'] == item['lon']) \n",
    "]#['speciesId'].values"
   ]
  },
  {
   "cell_type": "code",
   "execution_count": null,
   "metadata": {},
   "outputs": [],
   "source": []
  },
  {
   "cell_type": "code",
   "execution_count": null,
   "metadata": {},
   "outputs": [],
   "source": []
  },
  {
   "cell_type": "code",
   "execution_count": null,
   "metadata": {},
   "outputs": [],
   "source": []
  },
  {
   "cell_type": "code",
   "execution_count": 93,
   "metadata": {},
   "outputs": [
    {
     "name": "stdout",
     "output_type": "stream",
     "text": [
      "SPECIES: 8075.0\n",
      "['lat: 51.77186', 'lon: -10.53904', 'patchID: 3018869.0', 'dayOfYear: 272.0']\n"
     ]
    },
    {
     "ename": "KeyboardInterrupt",
     "evalue": "",
     "output_type": "error",
     "traceback": [
      "\u001b[0;31m---------------------------------------------------------------------------\u001b[0m",
      "\u001b[0;31mKeyboardInterrupt\u001b[0m                         Traceback (most recent call last)",
      "Cell \u001b[0;32mIn[93], line 4\u001b[0m\n\u001b[1;32m      1\u001b[0m \u001b[38;5;28;01mfor\u001b[39;00m i \u001b[38;5;129;01min\u001b[39;00m items\u001b[38;5;241m.\u001b[39miterrows():\n\u001b[1;32m      2\u001b[0m     \u001b[38;5;66;03m# print(i[0])\u001b[39;00m\n\u001b[1;32m      3\u001b[0m     \u001b[38;5;66;03m# print([i[1][k] == v for k,v in item.items()])\u001b[39;00m\n\u001b[0;32m----> 4\u001b[0m     \u001b[38;5;28;01mif\u001b[39;00m \u001b[38;5;28mall\u001b[39m([i[\u001b[38;5;241m1\u001b[39m][k] \u001b[38;5;241m==\u001b[39m v \u001b[38;5;28;01mfor\u001b[39;00m k,v \u001b[38;5;129;01min\u001b[39;00m item\u001b[38;5;241m.\u001b[39mitems()]): \n\u001b[1;32m      5\u001b[0m         \u001b[38;5;28mprint\u001b[39m(\u001b[38;5;124m'\u001b[39m\u001b[38;5;124mSPECIES:\u001b[39m\u001b[38;5;124m'\u001b[39m, i[\u001b[38;5;241m1\u001b[39m][label_name])\n\u001b[1;32m      6\u001b[0m         \u001b[38;5;28mprint\u001b[39m([\u001b[38;5;124mf\u001b[39m\u001b[38;5;124m\"\u001b[39m\u001b[38;5;132;01m{\u001b[39;00mk\u001b[38;5;132;01m}\u001b[39;00m\u001b[38;5;124m: \u001b[39m\u001b[38;5;132;01m{\u001b[39;00mi[\u001b[38;5;241m1\u001b[39m][k]\u001b[38;5;132;01m}\u001b[39;00m\u001b[38;5;124m\"\u001b[39m \u001b[38;5;28;01mfor\u001b[39;00m k, v \u001b[38;5;129;01min\u001b[39;00m item\u001b[38;5;241m.\u001b[39mitems()])\n",
      "Cell \u001b[0;32mIn[93], line 4\u001b[0m, in \u001b[0;36m<listcomp>\u001b[0;34m(.0)\u001b[0m\n\u001b[1;32m      1\u001b[0m \u001b[38;5;28;01mfor\u001b[39;00m i \u001b[38;5;129;01min\u001b[39;00m items\u001b[38;5;241m.\u001b[39miterrows():\n\u001b[1;32m      2\u001b[0m     \u001b[38;5;66;03m# print(i[0])\u001b[39;00m\n\u001b[1;32m      3\u001b[0m     \u001b[38;5;66;03m# print([i[1][k] == v for k,v in item.items()])\u001b[39;00m\n\u001b[0;32m----> 4\u001b[0m     \u001b[38;5;28;01mif\u001b[39;00m \u001b[38;5;28mall\u001b[39m([\u001b[43mi\u001b[49m\u001b[43m[\u001b[49m\u001b[38;5;241;43m1\u001b[39;49m\u001b[43m]\u001b[49m\u001b[43m[\u001b[49m\u001b[43mk\u001b[49m\u001b[43m]\u001b[49m \u001b[38;5;241m==\u001b[39m v \u001b[38;5;28;01mfor\u001b[39;00m k,v \u001b[38;5;129;01min\u001b[39;00m item\u001b[38;5;241m.\u001b[39mitems()]): \n\u001b[1;32m      5\u001b[0m         \u001b[38;5;28mprint\u001b[39m(\u001b[38;5;124m'\u001b[39m\u001b[38;5;124mSPECIES:\u001b[39m\u001b[38;5;124m'\u001b[39m, i[\u001b[38;5;241m1\u001b[39m][label_name])\n\u001b[1;32m      6\u001b[0m         \u001b[38;5;28mprint\u001b[39m([\u001b[38;5;124mf\u001b[39m\u001b[38;5;124m\"\u001b[39m\u001b[38;5;132;01m{\u001b[39;00mk\u001b[38;5;132;01m}\u001b[39;00m\u001b[38;5;124m: \u001b[39m\u001b[38;5;132;01m{\u001b[39;00mi[\u001b[38;5;241m1\u001b[39m][k]\u001b[38;5;132;01m}\u001b[39;00m\u001b[38;5;124m\"\u001b[39m \u001b[38;5;28;01mfor\u001b[39;00m k, v \u001b[38;5;129;01min\u001b[39;00m item\u001b[38;5;241m.\u001b[39mitems()])\n",
      "File \u001b[0;32m~/miniconda3/envs/glc23/lib/python3.9/site-packages/pandas/core/series.py:981\u001b[0m, in \u001b[0;36mSeries.__getitem__\u001b[0;34m(self, key)\u001b[0m\n\u001b[1;32m    978\u001b[0m     \u001b[38;5;28;01mreturn\u001b[39;00m \u001b[38;5;28mself\u001b[39m\u001b[38;5;241m.\u001b[39m_values[key]\n\u001b[1;32m    980\u001b[0m \u001b[38;5;28;01melif\u001b[39;00m key_is_scalar:\n\u001b[0;32m--> 981\u001b[0m     \u001b[38;5;28;01mreturn\u001b[39;00m \u001b[38;5;28;43mself\u001b[39;49m\u001b[38;5;241;43m.\u001b[39;49m\u001b[43m_get_value\u001b[49m\u001b[43m(\u001b[49m\u001b[43mkey\u001b[49m\u001b[43m)\u001b[49m\n\u001b[1;32m    983\u001b[0m \u001b[38;5;28;01mif\u001b[39;00m is_hashable(key):\n\u001b[1;32m    984\u001b[0m     \u001b[38;5;66;03m# Otherwise index.get_value will raise InvalidIndexError\u001b[39;00m\n\u001b[1;32m    985\u001b[0m     \u001b[38;5;28;01mtry\u001b[39;00m:\n\u001b[1;32m    986\u001b[0m         \u001b[38;5;66;03m# For labels that don't resolve as scalars like tuples and frozensets\u001b[39;00m\n",
      "File \u001b[0;32m~/miniconda3/envs/glc23/lib/python3.9/site-packages/pandas/core/series.py:1089\u001b[0m, in \u001b[0;36mSeries._get_value\u001b[0;34m(self, label, takeable)\u001b[0m\n\u001b[1;32m   1086\u001b[0m     \u001b[38;5;28;01mreturn\u001b[39;00m \u001b[38;5;28mself\u001b[39m\u001b[38;5;241m.\u001b[39m_values[label]\n\u001b[1;32m   1088\u001b[0m \u001b[38;5;66;03m# Similar to Index.get_value, but we do not fall back to positional\u001b[39;00m\n\u001b[0;32m-> 1089\u001b[0m loc \u001b[38;5;241m=\u001b[39m \u001b[38;5;28;43mself\u001b[39;49m\u001b[38;5;241;43m.\u001b[39;49m\u001b[43mindex\u001b[49m\u001b[38;5;241;43m.\u001b[39;49m\u001b[43mget_loc\u001b[49m\u001b[43m(\u001b[49m\u001b[43mlabel\u001b[49m\u001b[43m)\u001b[49m\n\u001b[1;32m   1090\u001b[0m \u001b[38;5;28;01mreturn\u001b[39;00m \u001b[38;5;28mself\u001b[39m\u001b[38;5;241m.\u001b[39mindex\u001b[38;5;241m.\u001b[39m_get_values_for_loc(\u001b[38;5;28mself\u001b[39m, loc, label)\n",
      "File \u001b[0;32m~/miniconda3/envs/glc23/lib/python3.9/site-packages/pandas/core/indexes/base.py:3803\u001b[0m, in \u001b[0;36mIndex.get_loc\u001b[0;34m(self, key, method, tolerance)\u001b[0m\n\u001b[1;32m   3801\u001b[0m casted_key \u001b[38;5;241m=\u001b[39m \u001b[38;5;28mself\u001b[39m\u001b[38;5;241m.\u001b[39m_maybe_cast_indexer(key)\n\u001b[1;32m   3802\u001b[0m \u001b[38;5;28;01mtry\u001b[39;00m:\n\u001b[0;32m-> 3803\u001b[0m     \u001b[38;5;28;01mreturn\u001b[39;00m \u001b[38;5;28;43mself\u001b[39;49m\u001b[38;5;241;43m.\u001b[39;49m\u001b[43m_engine\u001b[49m\u001b[38;5;241;43m.\u001b[39;49m\u001b[43mget_loc\u001b[49m\u001b[43m(\u001b[49m\u001b[43mcasted_key\u001b[49m\u001b[43m)\u001b[49m\n\u001b[1;32m   3804\u001b[0m \u001b[38;5;28;01mexcept\u001b[39;00m \u001b[38;5;167;01mKeyError\u001b[39;00m \u001b[38;5;28;01mas\u001b[39;00m err:\n\u001b[1;32m   3805\u001b[0m     \u001b[38;5;28;01mraise\u001b[39;00m \u001b[38;5;167;01mKeyError\u001b[39;00m(key) \u001b[38;5;28;01mfrom\u001b[39;00m \u001b[38;5;21;01merr\u001b[39;00m\n",
      "\u001b[0;31mKeyboardInterrupt\u001b[0m: "
     ]
    }
   ],
   "source": [
    "for i in items.iterrows():\n",
    "    # print(i[0])\n",
    "    # print([i[1][k] == v for k,v in item.items()])\n",
    "    if all([i[1][k] == v for k,v in item.items()]): \n",
    "        print('SPECIES:', i[1][label_name])\n",
    "        print([f\"{k}: {i[1][k]}\" for k, v in item.items()])\n",
    "    # if i[0] > 3: break"
   ]
  },
  {
   "cell_type": "code",
   "execution_count": null,
   "metadata": {},
   "outputs": [],
   "source": []
  },
  {
   "cell_type": "code",
   "execution_count": null,
   "metadata": {},
   "outputs": [],
   "source": []
  },
  {
   "cell_type": "code",
   "execution_count": null,
   "metadata": {},
   "outputs": [],
   "source": []
  },
  {
   "cell_type": "code",
   "execution_count": null,
   "metadata": {},
   "outputs": [],
   "source": []
  },
  {
   "cell_type": "code",
   "execution_count": null,
   "metadata": {},
   "outputs": [],
   "source": []
  },
  {
   "cell_type": "code",
   "execution_count": null,
   "metadata": {},
   "outputs": [],
   "source": []
  },
  {
   "cell_type": "code",
   "execution_count": null,
   "metadata": {},
   "outputs": [],
   "source": []
  },
  {
   "cell_type": "code",
   "execution_count": null,
   "metadata": {},
   "outputs": [],
   "source": []
  },
  {
   "cell_type": "code",
   "execution_count": null,
   "metadata": {},
   "outputs": [],
   "source": []
  },
  {
   "cell_type": "code",
   "execution_count": null,
   "metadata": {},
   "outputs": [],
   "source": []
  },
  {
   "cell_type": "code",
   "execution_count": null,
   "metadata": {},
   "outputs": [],
   "source": []
  },
  {
   "cell_type": "code",
   "execution_count": null,
   "metadata": {},
   "outputs": [],
   "source": []
  },
  {
   "cell_type": "code",
   "execution_count": 20,
   "metadata": {},
   "outputs": [
    {
     "data": {
      "text/plain": [
       "BoundingBox(left=-32.266806146449994, bottom=26.63319397795, right=35.591526915450004, top=72.19152712905)"
      ]
     },
     "execution_count": 20,
     "metadata": {},
     "output_type": "execute_result"
    }
   ],
   "source": [
    "#get item"
   ]
  }
 ],
 "metadata": {
  "kernelspec": {
   "display_name": "glc23",
   "language": "python",
   "name": "python3"
  },
  "language_info": {
   "codemirror_mode": {
    "name": "ipython",
    "version": 3
   },
   "file_extension": ".py",
   "mimetype": "text/x-python",
   "name": "python",
   "nbconvert_exporter": "python",
   "pygments_lexer": "ipython3",
   "version": "3.9.16"
  }
 },
 "nbformat": 4,
 "nbformat_minor": 2
}
