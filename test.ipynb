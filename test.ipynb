{
 "cells": [
  {
   "cell_type": "code",
   "execution_count": 64,
   "metadata": {},
   "outputs": [],
   "source": [
    "from train_model import *"
   ]
  },
  {
   "cell_type": "code",
   "execution_count": 83,
   "metadata": {},
   "outputs": [],
   "source": [
    "import geopandas as gpd\n",
    "import matplotlib.pyplot as plt"
   ]
  },
  {
   "cell_type": "code",
   "execution_count": 113,
   "metadata": {},
   "outputs": [
    {
     "data": {
      "text/html": [
       "<div>\n",
       "<style scoped>\n",
       "    .dataframe tbody tr th:only-of-type {\n",
       "        vertical-align: middle;\n",
       "    }\n",
       "\n",
       "    .dataframe tbody tr th {\n",
       "        vertical-align: top;\n",
       "    }\n",
       "\n",
       "    .dataframe thead th {\n",
       "        text-align: right;\n",
       "    }\n",
       "</style>\n",
       "<table border=\"1\" class=\"dataframe\">\n",
       "  <thead>\n",
       "    <tr style=\"text-align: right;\">\n",
       "      <th></th>\n",
       "      <th>Unnamed: 0</th>\n",
       "      <th>glcID</th>\n",
       "      <th>gbifID</th>\n",
       "      <th>observer</th>\n",
       "      <th>datasetName</th>\n",
       "      <th>date</th>\n",
       "      <th>dayOfYear</th>\n",
       "      <th>year</th>\n",
       "      <th>lon</th>\n",
       "      <th>lat</th>\n",
       "      <th>x_EPSG3035</th>\n",
       "      <th>y_EPSG3035</th>\n",
       "      <th>geoUncertaintyInM</th>\n",
       "      <th>speciesId</th>\n",
       "      <th>patchID</th>\n",
       "      <th>timeSerieID</th>\n",
       "      <th>geometry</th>\n",
       "    </tr>\n",
       "  </thead>\n",
       "  <tbody>\n",
       "    <tr>\n",
       "      <th>0</th>\n",
       "      <td>2649153</td>\n",
       "      <td>1399463</td>\n",
       "      <td>3.949786e+09</td>\n",
       "      <td>NaN</td>\n",
       "      <td>Pl@ntNet observations</td>\n",
       "      <td>2021-07-27</td>\n",
       "      <td>208</td>\n",
       "      <td>2021</td>\n",
       "      <td>8.871302</td>\n",
       "      <td>47.49095</td>\n",
       "      <td>4235890.0</td>\n",
       "      <td>2709242.0</td>\n",
       "      <td>65.00</td>\n",
       "      <td>8136</td>\n",
       "      <td>5435098</td>\n",
       "      <td>2410703</td>\n",
       "      <td>POINT (4235890.000 2709242.000)</td>\n",
       "    </tr>\n",
       "    <tr>\n",
       "      <th>1</th>\n",
       "      <td>4002343</td>\n",
       "      <td>1470399</td>\n",
       "      <td>2.977415e+09</td>\n",
       "      <td>NaN</td>\n",
       "      <td>Pl@ntNet automatic</td>\n",
       "      <td>2020-05-06</td>\n",
       "      <td>127</td>\n",
       "      <td>2020</td>\n",
       "      <td>12.068050</td>\n",
       "      <td>42.08209</td>\n",
       "      <td>4492705.0</td>\n",
       "      <td>2111036.0</td>\n",
       "      <td>15.17</td>\n",
       "      <td>3097</td>\n",
       "      <td>6265398</td>\n",
       "      <td>3243038</td>\n",
       "      <td>POINT (4492705.000 2111036.000)</td>\n",
       "    </tr>\n",
       "    <tr>\n",
       "      <th>2</th>\n",
       "      <td>2029213</td>\n",
       "      <td>1529540</td>\n",
       "      <td>2.977662e+09</td>\n",
       "      <td>NaN</td>\n",
       "      <td>Pl@ntNet automatic</td>\n",
       "      <td>2020-07-01</td>\n",
       "      <td>183</td>\n",
       "      <td>2020</td>\n",
       "      <td>6.720335</td>\n",
       "      <td>46.11742</td>\n",
       "      <td>4067272.0</td>\n",
       "      <td>2561639.0</td>\n",
       "      <td>5.00</td>\n",
       "      <td>7262</td>\n",
       "      <td>4950564</td>\n",
       "      <td>1926756</td>\n",
       "      <td>POINT (4067272.000 2561639.000)</td>\n",
       "    </tr>\n",
       "    <tr>\n",
       "      <th>3</th>\n",
       "      <td>1853144</td>\n",
       "      <td>401365</td>\n",
       "      <td>2.815231e+09</td>\n",
       "      <td>Ove Sander Førland;Leiv Krumsvik</td>\n",
       "      <td>NOR Species Observation</td>\n",
       "      <td>2020-06-24</td>\n",
       "      <td>176</td>\n",
       "      <td>2020</td>\n",
       "      <td>6.081810</td>\n",
       "      <td>58.98705</td>\n",
       "      <td>4095400.0</td>\n",
       "      <td>3993561.0</td>\n",
       "      <td>5.00</td>\n",
       "      <td>9687</td>\n",
       "      <td>4789398</td>\n",
       "      <td>1765663</td>\n",
       "      <td>POINT (4095400.000 3993561.000)</td>\n",
       "    </tr>\n",
       "    <tr>\n",
       "      <th>4</th>\n",
       "      <td>4762061</td>\n",
       "      <td>4510550</td>\n",
       "      <td>3.957207e+09</td>\n",
       "      <td>NaN</td>\n",
       "      <td>Pl@ntNet automatic</td>\n",
       "      <td>2020-05-24</td>\n",
       "      <td>145</td>\n",
       "      <td>2020</td>\n",
       "      <td>19.806660</td>\n",
       "      <td>50.06323</td>\n",
       "      <td>5020841.0</td>\n",
       "      <td>3041419.0</td>\n",
       "      <td>9.20</td>\n",
       "      <td>1995</td>\n",
       "      <td>6872516</td>\n",
       "      <td>3852177</td>\n",
       "      <td>POINT (5020841.000 3041419.000)</td>\n",
       "    </tr>\n",
       "    <tr>\n",
       "      <th>...</th>\n",
       "      <td>...</td>\n",
       "      <td>...</td>\n",
       "      <td>...</td>\n",
       "      <td>...</td>\n",
       "      <td>...</td>\n",
       "      <td>...</td>\n",
       "      <td>...</td>\n",
       "      <td>...</td>\n",
       "      <td>...</td>\n",
       "      <td>...</td>\n",
       "      <td>...</td>\n",
       "      <td>...</td>\n",
       "      <td>...</td>\n",
       "      <td>...</td>\n",
       "      <td>...</td>\n",
       "      <td>...</td>\n",
       "      <td>...</td>\n",
       "    </tr>\n",
       "    <tr>\n",
       "      <th>3558521</th>\n",
       "      <td>1250943</td>\n",
       "      <td>1157288</td>\n",
       "      <td>3.320838e+09</td>\n",
       "      <td>David Delon</td>\n",
       "      <td>iNaturalist RG</td>\n",
       "      <td>2021-05-12</td>\n",
       "      <td>132</td>\n",
       "      <td>2021</td>\n",
       "      <td>3.730108</td>\n",
       "      <td>43.78989</td>\n",
       "      <td>3815796.0</td>\n",
       "      <td>2318978.0</td>\n",
       "      <td>3.00</td>\n",
       "      <td>8893</td>\n",
       "      <td>4216446</td>\n",
       "      <td>1196033</td>\n",
       "      <td>POINT (3815796.000 2318978.000)</td>\n",
       "    </tr>\n",
       "    <tr>\n",
       "      <th>3558522</th>\n",
       "      <td>2733577</td>\n",
       "      <td>715294</td>\n",
       "      <td>2.895347e+09</td>\n",
       "      <td>Miljøstyrelsen</td>\n",
       "      <td>DEN Environmental Portal</td>\n",
       "      <td>2018-08-23</td>\n",
       "      <td>235</td>\n",
       "      <td>2018</td>\n",
       "      <td>9.066010</td>\n",
       "      <td>56.38362</td>\n",
       "      <td>4263259.0</td>\n",
       "      <td>3698170.0</td>\n",
       "      <td>3.00</td>\n",
       "      <td>9407</td>\n",
       "      <td>5485782</td>\n",
       "      <td>2461471</td>\n",
       "      <td>POINT (4263259.000 3698170.000)</td>\n",
       "    </tr>\n",
       "    <tr>\n",
       "      <th>3558523</th>\n",
       "      <td>4753256</td>\n",
       "      <td>2799812</td>\n",
       "      <td>3.958016e+09</td>\n",
       "      <td>NaN</td>\n",
       "      <td>Pl@ntNet automatic</td>\n",
       "      <td>2020-07-30</td>\n",
       "      <td>212</td>\n",
       "      <td>2020</td>\n",
       "      <td>19.273600</td>\n",
       "      <td>50.22742</td>\n",
       "      <td>4980762.0</td>\n",
       "      <td>3054607.0</td>\n",
       "      <td>4.29</td>\n",
       "      <td>4466</td>\n",
       "      <td>6864916</td>\n",
       "      <td>3844571</td>\n",
       "      <td>POINT (4980762.000 3054607.000)</td>\n",
       "    </tr>\n",
       "    <tr>\n",
       "      <th>3558524</th>\n",
       "      <td>833493</td>\n",
       "      <td>3232158</td>\n",
       "      <td>2.644453e+09</td>\n",
       "      <td>NaN</td>\n",
       "      <td>Pl@ntNet automatic</td>\n",
       "      <td>2019-03-08</td>\n",
       "      <td>67</td>\n",
       "      <td>2019</td>\n",
       "      <td>1.090096</td>\n",
       "      <td>43.60787</td>\n",
       "      <td>3601788.0</td>\n",
       "      <td>2320443.0</td>\n",
       "      <td>14.61</td>\n",
       "      <td>6764</td>\n",
       "      <td>3806993</td>\n",
       "      <td>788803</td>\n",
       "      <td>POINT (3601788.000 2320443.000)</td>\n",
       "    </tr>\n",
       "    <tr>\n",
       "      <th>3558525</th>\n",
       "      <td>2020300</td>\n",
       "      <td>2752618</td>\n",
       "      <td>2.248007e+09</td>\n",
       "      <td>Svein Grimsby;Sebastian Grimsby</td>\n",
       "      <td>NOR Species Observation</td>\n",
       "      <td>2019-04-29</td>\n",
       "      <td>119</td>\n",
       "      <td>2019</td>\n",
       "      <td>6.693203</td>\n",
       "      <td>58.29763</td>\n",
       "      <td>4126850.0</td>\n",
       "      <td>3915194.0</td>\n",
       "      <td>50.00</td>\n",
       "      <td>8732</td>\n",
       "      <td>4942787</td>\n",
       "      <td>1919003</td>\n",
       "      <td>POINT (4126850.000 3915194.000)</td>\n",
       "    </tr>\n",
       "  </tbody>\n",
       "</table>\n",
       "<p>3558526 rows × 17 columns</p>\n",
       "</div>"
      ],
      "text/plain": [
       "         Unnamed: 0    glcID        gbifID                          observer  \\\n",
       "0           2649153  1399463  3.949786e+09                               NaN   \n",
       "1           4002343  1470399  2.977415e+09                               NaN   \n",
       "2           2029213  1529540  2.977662e+09                               NaN   \n",
       "3           1853144   401365  2.815231e+09  Ove Sander Førland;Leiv Krumsvik   \n",
       "4           4762061  4510550  3.957207e+09                               NaN   \n",
       "...             ...      ...           ...                               ...   \n",
       "3558521     1250943  1157288  3.320838e+09                       David Delon   \n",
       "3558522     2733577   715294  2.895347e+09                    Miljøstyrelsen   \n",
       "3558523     4753256  2799812  3.958016e+09                               NaN   \n",
       "3558524      833493  3232158  2.644453e+09                               NaN   \n",
       "3558525     2020300  2752618  2.248007e+09   Svein Grimsby;Sebastian Grimsby   \n",
       "\n",
       "                      datasetName        date  dayOfYear  year        lon  \\\n",
       "0           Pl@ntNet observations  2021-07-27        208  2021   8.871302   \n",
       "1              Pl@ntNet automatic  2020-05-06        127  2020  12.068050   \n",
       "2              Pl@ntNet automatic  2020-07-01        183  2020   6.720335   \n",
       "3         NOR Species Observation  2020-06-24        176  2020   6.081810   \n",
       "4              Pl@ntNet automatic  2020-05-24        145  2020  19.806660   \n",
       "...                           ...         ...        ...   ...        ...   \n",
       "3558521            iNaturalist RG  2021-05-12        132  2021   3.730108   \n",
       "3558522  DEN Environmental Portal  2018-08-23        235  2018   9.066010   \n",
       "3558523        Pl@ntNet automatic  2020-07-30        212  2020  19.273600   \n",
       "3558524        Pl@ntNet automatic  2019-03-08         67  2019   1.090096   \n",
       "3558525   NOR Species Observation  2019-04-29        119  2019   6.693203   \n",
       "\n",
       "              lat  x_EPSG3035  y_EPSG3035  geoUncertaintyInM  speciesId  \\\n",
       "0        47.49095   4235890.0   2709242.0              65.00       8136   \n",
       "1        42.08209   4492705.0   2111036.0              15.17       3097   \n",
       "2        46.11742   4067272.0   2561639.0               5.00       7262   \n",
       "3        58.98705   4095400.0   3993561.0               5.00       9687   \n",
       "4        50.06323   5020841.0   3041419.0               9.20       1995   \n",
       "...           ...         ...         ...                ...        ...   \n",
       "3558521  43.78989   3815796.0   2318978.0               3.00       8893   \n",
       "3558522  56.38362   4263259.0   3698170.0               3.00       9407   \n",
       "3558523  50.22742   4980762.0   3054607.0               4.29       4466   \n",
       "3558524  43.60787   3601788.0   2320443.0              14.61       6764   \n",
       "3558525  58.29763   4126850.0   3915194.0              50.00       8732   \n",
       "\n",
       "         patchID  timeSerieID                         geometry  \n",
       "0        5435098      2410703  POINT (4235890.000 2709242.000)  \n",
       "1        6265398      3243038  POINT (4492705.000 2111036.000)  \n",
       "2        4950564      1926756  POINT (4067272.000 2561639.000)  \n",
       "3        4789398      1765663  POINT (4095400.000 3993561.000)  \n",
       "4        6872516      3852177  POINT (5020841.000 3041419.000)  \n",
       "...          ...          ...                              ...  \n",
       "3558521  4216446      1196033  POINT (3815796.000 2318978.000)  \n",
       "3558522  5485782      2461471  POINT (4263259.000 3698170.000)  \n",
       "3558523  6864916      3844571  POINT (4980762.000 3054607.000)  \n",
       "3558524  3806993       788803  POINT (3601788.000 2320443.000)  \n",
       "3558525  4942787      1919003  POINT (4126850.000 3915194.000)  \n",
       "\n",
       "[3558526 rows x 17 columns]"
      ]
     },
     "execution_count": 113,
     "metadata": {},
     "output_type": "execute_result"
    }
   ],
   "source": [
    "po =  pd.read_csv(po_path, sep=\";\", header='infer', low_memory=False)\n",
    "po = gpd.GeoDataFrame(po, geometry=gpd.points_from_xy(po.x_EPSG3035, po.y_EPSG3035, crs=\"EPSG:3035\"))\n",
    "po"
   ]
  },
  {
   "cell_type": "code",
   "execution_count": 114,
   "metadata": {},
   "outputs": [
    {
     "data": {
      "text/html": [
       "<div>\n",
       "<style scoped>\n",
       "    .dataframe tbody tr th:only-of-type {\n",
       "        vertical-align: middle;\n",
       "    }\n",
       "\n",
       "    .dataframe tbody tr th {\n",
       "        vertical-align: top;\n",
       "    }\n",
       "\n",
       "    .dataframe thead th {\n",
       "        text-align: right;\n",
       "    }\n",
       "</style>\n",
       "<table border=\"1\" class=\"dataframe\">\n",
       "  <thead>\n",
       "    <tr style=\"text-align: right;\">\n",
       "      <th></th>\n",
       "      <th>glcID</th>\n",
       "      <th>gbifID</th>\n",
       "      <th>observer</th>\n",
       "      <th>datasetName</th>\n",
       "      <th>date</th>\n",
       "      <th>dayOfYear</th>\n",
       "      <th>year</th>\n",
       "      <th>lon</th>\n",
       "      <th>lat</th>\n",
       "      <th>x_EPSG3035</th>\n",
       "      <th>y_EPSG3035</th>\n",
       "      <th>geoUncertaintyInM</th>\n",
       "      <th>speciesId</th>\n",
       "      <th>patchID</th>\n",
       "      <th>timeSerieID</th>\n",
       "      <th>geometry</th>\n",
       "    </tr>\n",
       "  </thead>\n",
       "  <tbody>\n",
       "    <tr>\n",
       "      <th>0</th>\n",
       "      <td>5140269</td>\n",
       "      <td>3.473385e+09</td>\n",
       "      <td>(IGN)</td>\n",
       "      <td>Inventaire forestier IGN</td>\n",
       "      <td>2018-01-31</td>\n",
       "      <td>31</td>\n",
       "      <td>2018</td>\n",
       "      <td>7.300790</td>\n",
       "      <td>48.29273</td>\n",
       "      <td>4.120673e+06</td>\n",
       "      <td>2.801353e+06</td>\n",
       "      <td>1.0</td>\n",
       "      <td>6574</td>\n",
       "      <td>3018575</td>\n",
       "      <td>3980325</td>\n",
       "      <td>POINT (4120673.000 2801353.000)</td>\n",
       "    </tr>\n",
       "    <tr>\n",
       "      <th>1</th>\n",
       "      <td>5279421</td>\n",
       "      <td>3.474159e+09</td>\n",
       "      <td>(IGN)</td>\n",
       "      <td>Inventaire forestier IGN</td>\n",
       "      <td>2017-07-19</td>\n",
       "      <td>200</td>\n",
       "      <td>2017</td>\n",
       "      <td>1.483390</td>\n",
       "      <td>42.92599</td>\n",
       "      <td>3.625340e+06</td>\n",
       "      <td>2.241565e+06</td>\n",
       "      <td>1.0</td>\n",
       "      <td>6574</td>\n",
       "      <td>3011783</td>\n",
       "      <td>3980331</td>\n",
       "      <td>POINT (3625340.000 2241565.000)</td>\n",
       "    </tr>\n",
       "    <tr>\n",
       "      <th>2</th>\n",
       "      <td>5058088</td>\n",
       "      <td>3.475680e+09</td>\n",
       "      <td>(IGN)</td>\n",
       "      <td>Inventaire forestier IGN</td>\n",
       "      <td>2017-09-26</td>\n",
       "      <td>269</td>\n",
       "      <td>2017</td>\n",
       "      <td>6.739570</td>\n",
       "      <td>47.39633</td>\n",
       "      <td>4.074778e+06</td>\n",
       "      <td>2.703502e+06</td>\n",
       "      <td>1.0</td>\n",
       "      <td>6574</td>\n",
       "      <td>3018192</td>\n",
       "      <td>3980335</td>\n",
       "      <td>POINT (4074778.286 2703501.663)</td>\n",
       "    </tr>\n",
       "    <tr>\n",
       "      <th>3</th>\n",
       "      <td>5146840</td>\n",
       "      <td>3.476162e+09</td>\n",
       "      <td>(IGN)</td>\n",
       "      <td>Inventaire forestier IGN</td>\n",
       "      <td>2017-09-20</td>\n",
       "      <td>263</td>\n",
       "      <td>2017</td>\n",
       "      <td>4.587140</td>\n",
       "      <td>45.40615</td>\n",
       "      <td>3.897015e+06</td>\n",
       "      <td>2.492494e+06</td>\n",
       "      <td>1.0</td>\n",
       "      <td>6574</td>\n",
       "      <td>3015541</td>\n",
       "      <td>3980336</td>\n",
       "      <td>POINT (3897015.000 2492494.000)</td>\n",
       "    </tr>\n",
       "    <tr>\n",
       "      <th>4</th>\n",
       "      <td>5255062</td>\n",
       "      <td>3.475124e+09</td>\n",
       "      <td>(IGN)</td>\n",
       "      <td>Inventaire forestier IGN</td>\n",
       "      <td>2019-09-18</td>\n",
       "      <td>261</td>\n",
       "      <td>2019</td>\n",
       "      <td>6.955830</td>\n",
       "      <td>47.74829</td>\n",
       "      <td>4.092660e+06</td>\n",
       "      <td>2.741886e+06</td>\n",
       "      <td>1.0</td>\n",
       "      <td>6574</td>\n",
       "      <td>3018391</td>\n",
       "      <td>3980351</td>\n",
       "      <td>POINT (4092660.000 2741886.000)</td>\n",
       "    </tr>\n",
       "    <tr>\n",
       "      <th>...</th>\n",
       "      <td>...</td>\n",
       "      <td>...</td>\n",
       "      <td>...</td>\n",
       "      <td>...</td>\n",
       "      <td>...</td>\n",
       "      <td>...</td>\n",
       "      <td>...</td>\n",
       "      <td>...</td>\n",
       "      <td>...</td>\n",
       "      <td>...</td>\n",
       "      <td>...</td>\n",
       "      <td>...</td>\n",
       "      <td>...</td>\n",
       "      <td>...</td>\n",
       "      <td>...</td>\n",
       "      <td>...</td>\n",
       "    </tr>\n",
       "    <tr>\n",
       "      <th>85320</th>\n",
       "      <td>5320539</td>\n",
       "      <td>NaN</td>\n",
       "      <td>NaN</td>\n",
       "      <td>CBNMed</td>\n",
       "      <td>1621461600</td>\n",
       "      <td>140</td>\n",
       "      <td>2021</td>\n",
       "      <td>5.094570</td>\n",
       "      <td>44.18660</td>\n",
       "      <td>3.928254e+06</td>\n",
       "      <td>2.354689e+06</td>\n",
       "      <td>10.0</td>\n",
       "      <td>9456</td>\n",
       "      <td>76900</td>\n",
       "      <td>3993145</td>\n",
       "      <td>POINT (3928254.000 2354689.000)</td>\n",
       "    </tr>\n",
       "    <tr>\n",
       "      <th>85321</th>\n",
       "      <td>5392608</td>\n",
       "      <td>NaN</td>\n",
       "      <td>NaN</td>\n",
       "      <td>CBNMed</td>\n",
       "      <td>1497909600</td>\n",
       "      <td>171</td>\n",
       "      <td>2017</td>\n",
       "      <td>5.781197</td>\n",
       "      <td>43.74345</td>\n",
       "      <td>3.980545e+06</td>\n",
       "      <td>2.302273e+06</td>\n",
       "      <td>10.0</td>\n",
       "      <td>9456</td>\n",
       "      <td>94452</td>\n",
       "      <td>3986894</td>\n",
       "      <td>POINT (3980545.000 2302273.000)</td>\n",
       "    </tr>\n",
       "    <tr>\n",
       "      <th>85322</th>\n",
       "      <td>5353058</td>\n",
       "      <td>NaN</td>\n",
       "      <td>NaN</td>\n",
       "      <td>CBNMed</td>\n",
       "      <td>1621461600</td>\n",
       "      <td>140</td>\n",
       "      <td>2021</td>\n",
       "      <td>5.094620</td>\n",
       "      <td>44.18680</td>\n",
       "      <td>3.928259e+06</td>\n",
       "      <td>2.354711e+06</td>\n",
       "      <td>10.0</td>\n",
       "      <td>9456</td>\n",
       "      <td>76905</td>\n",
       "      <td>3993923</td>\n",
       "      <td>POINT (3928259.000 2354711.000)</td>\n",
       "    </tr>\n",
       "    <tr>\n",
       "      <th>85323</th>\n",
       "      <td>5102872</td>\n",
       "      <td>2.907311e+09</td>\n",
       "      <td>Shoesmith, J. Judith</td>\n",
       "      <td>Nat. plant monitoring UK</td>\n",
       "      <td>2017-06-07</td>\n",
       "      <td>158</td>\n",
       "      <td>2017</td>\n",
       "      <td>0.785642</td>\n",
       "      <td>51.70740</td>\n",
       "      <td>3.686016e+06</td>\n",
       "      <td>3.217623e+06</td>\n",
       "      <td>7.1</td>\n",
       "      <td>6081</td>\n",
       "      <td>3010687</td>\n",
       "      <td>3990777</td>\n",
       "      <td>POINT (3686016.000 3217623.000)</td>\n",
       "    </tr>\n",
       "    <tr>\n",
       "      <th>85324</th>\n",
       "      <td>5116179</td>\n",
       "      <td>2.907245e+09</td>\n",
       "      <td>Shoesmith, J. Judith</td>\n",
       "      <td>Nat. plant monitoring UK</td>\n",
       "      <td>2017-09-06</td>\n",
       "      <td>249</td>\n",
       "      <td>2017</td>\n",
       "      <td>0.785642</td>\n",
       "      <td>51.70740</td>\n",
       "      <td>3.686016e+06</td>\n",
       "      <td>3.217623e+06</td>\n",
       "      <td>7.1</td>\n",
       "      <td>6081</td>\n",
       "      <td>3010687</td>\n",
       "      <td>3990793</td>\n",
       "      <td>POINT (3686016.000 3217623.000)</td>\n",
       "    </tr>\n",
       "  </tbody>\n",
       "</table>\n",
       "<p>85325 rows × 16 columns</p>\n",
       "</div>"
      ],
      "text/plain": [
       "         glcID        gbifID              observer               datasetName  \\\n",
       "0      5140269  3.473385e+09                 (IGN)  Inventaire forestier IGN   \n",
       "1      5279421  3.474159e+09                 (IGN)  Inventaire forestier IGN   \n",
       "2      5058088  3.475680e+09                 (IGN)  Inventaire forestier IGN   \n",
       "3      5146840  3.476162e+09                 (IGN)  Inventaire forestier IGN   \n",
       "4      5255062  3.475124e+09                 (IGN)  Inventaire forestier IGN   \n",
       "...        ...           ...                   ...                       ...   \n",
       "85320  5320539           NaN                   NaN                    CBNMed   \n",
       "85321  5392608           NaN                   NaN                    CBNMed   \n",
       "85322  5353058           NaN                   NaN                    CBNMed   \n",
       "85323  5102872  2.907311e+09  Shoesmith, J. Judith  Nat. plant monitoring UK   \n",
       "85324  5116179  2.907245e+09  Shoesmith, J. Judith  Nat. plant monitoring UK   \n",
       "\n",
       "             date  dayOfYear  year       lon       lat    x_EPSG3035  \\\n",
       "0      2018-01-31         31  2018  7.300790  48.29273  4.120673e+06   \n",
       "1      2017-07-19        200  2017  1.483390  42.92599  3.625340e+06   \n",
       "2      2017-09-26        269  2017  6.739570  47.39633  4.074778e+06   \n",
       "3      2017-09-20        263  2017  4.587140  45.40615  3.897015e+06   \n",
       "4      2019-09-18        261  2019  6.955830  47.74829  4.092660e+06   \n",
       "...           ...        ...   ...       ...       ...           ...   \n",
       "85320  1621461600        140  2021  5.094570  44.18660  3.928254e+06   \n",
       "85321  1497909600        171  2017  5.781197  43.74345  3.980545e+06   \n",
       "85322  1621461600        140  2021  5.094620  44.18680  3.928259e+06   \n",
       "85323  2017-06-07        158  2017  0.785642  51.70740  3.686016e+06   \n",
       "85324  2017-09-06        249  2017  0.785642  51.70740  3.686016e+06   \n",
       "\n",
       "         y_EPSG3035  geoUncertaintyInM  speciesId  patchID  timeSerieID  \\\n",
       "0      2.801353e+06                1.0       6574  3018575      3980325   \n",
       "1      2.241565e+06                1.0       6574  3011783      3980331   \n",
       "2      2.703502e+06                1.0       6574  3018192      3980335   \n",
       "3      2.492494e+06                1.0       6574  3015541      3980336   \n",
       "4      2.741886e+06                1.0       6574  3018391      3980351   \n",
       "...             ...                ...        ...      ...          ...   \n",
       "85320  2.354689e+06               10.0       9456    76900      3993145   \n",
       "85321  2.302273e+06               10.0       9456    94452      3986894   \n",
       "85322  2.354711e+06               10.0       9456    76905      3993923   \n",
       "85323  3.217623e+06                7.1       6081  3010687      3990777   \n",
       "85324  3.217623e+06                7.1       6081  3010687      3990793   \n",
       "\n",
       "                              geometry  \n",
       "0      POINT (4120673.000 2801353.000)  \n",
       "1      POINT (3625340.000 2241565.000)  \n",
       "2      POINT (4074778.286 2703501.663)  \n",
       "3      POINT (3897015.000 2492494.000)  \n",
       "4      POINT (4092660.000 2741886.000)  \n",
       "...                                ...  \n",
       "85320  POINT (3928254.000 2354689.000)  \n",
       "85321  POINT (3980545.000 2302273.000)  \n",
       "85322  POINT (3928259.000 2354711.000)  \n",
       "85323  POINT (3686016.000 3217623.000)  \n",
       "85324  POINT (3686016.000 3217623.000)  \n",
       "\n",
       "[85325 rows x 16 columns]"
      ]
     },
     "execution_count": 114,
     "metadata": {},
     "output_type": "execute_result"
    }
   ],
   "source": [
    "pa = pd.read_csv(pa_path, sep=\";\", header='infer', low_memory=False)\n",
    "pa = gpd.GeoDataFrame(pa, geometry=gpd.points_from_xy(pa.x_EPSG3035, pa.y_EPSG3035, crs=\"EPSG:3035\"))\n",
    "pa"
   ]
  },
  {
   "cell_type": "code",
   "execution_count": 115,
   "metadata": {},
   "outputs": [
    {
     "data": {
      "text/plain": [
       "<AxesSubplot: >"
      ]
     },
     "execution_count": 115,
     "metadata": {},
     "output_type": "execute_result"
    },
    {
     "data": {
      "image/png": "[encoded data removed]",
      "text/plain": [
       "<Figure size 640x480 with 1 Axes>"
      ]
     },
     "metadata": {},
     "output_type": "display_data"
    }
   ],
   "source": [
    "fig, ax = plt.subplots(1,1)\n",
    "po.plot(color='blue', markersize=1, ax=ax)\n",
    "pa.plot(color='red', markersize=1, ax=ax)"
   ]
  },
  {
   "cell_type": "code",
   "execution_count": 124,
   "metadata": {},
   "outputs": [
    {
     "data": {
      "text/plain": [
       "<AxesSubplot: >"
      ]
     },
     "execution_count": 124,
     "metadata": {},
     "output_type": "execute_result"
    },
    {
     "data": {
      "image/png": "[encoded data removed]",
      "text/plain": [
       "<Figure size 640x480 with 1 Axes>"
      ]
     },
     "metadata": {},
     "output_type": "display_data"
    }
   ],
   "source": [
    "fig, ax = plt.subplots(1,1)\n",
    "pa.plot(color='blue', markersize=1, ax=ax)\n",
    "tmp.plot(color='red', markersize=1, ax=ax)\n",
    "tmp[tmp['dist_to_pa'] >= 50].plot(color='green', markersize=1, ax=ax)"
   ]
  },
  {
   "cell_type": "code",
   "execution_count": 121,
   "metadata": {},
   "outputs": [
    {
     "name": "stderr",
     "output_type": "stream",
     "text": [
      "/home/nina/miniconda3/envs/glc23/lib/python3.9/site-packages/geopandas/geodataframe.py:1443: SettingWithCopyWarning: \n",
      "A value is trying to be set on a copy of a slice from a DataFrame.\n",
      "Try using .loc[row_indexer,col_indexer] = value instead\n",
      "\n",
      "See the caveats in the documentation: https://pandas.pydata.org/pandas-docs/stable/user_guide/indexing.html#returning-a-view-versus-a-copy\n",
      "  super().__setitem__(key, value)\n"
     ]
    }
   ],
   "source": [
    "tmp = po[0:100]\n",
    "tmp['dist_to_pa'] = tmp.apply(lambda p: pa.distance(p.geometry).min() / 1e3, axis=1)"
   ]
  },
  {
   "cell_type": "code",
   "execution_count": 123,
   "metadata": {},
   "outputs": [
    {
     "data": {
      "text/html": [
       "<div>\n",
       "<style scoped>\n",
       "    .dataframe tbody tr th:only-of-type {\n",
       "        vertical-align: middle;\n",
       "    }\n",
       "\n",
       "    .dataframe tbody tr th {\n",
       "        vertical-align: top;\n",
       "    }\n",
       "\n",
       "    .dataframe thead th {\n",
       "        text-align: right;\n",
       "    }\n",
       "</style>\n",
       "<table border=\"1\" class=\"dataframe\">\n",
       "  <thead>\n",
       "    <tr style=\"text-align: right;\">\n",
       "      <th></th>\n",
       "      <th>Unnamed: 0</th>\n",
       "      <th>glcID</th>\n",
       "      <th>gbifID</th>\n",
       "      <th>observer</th>\n",
       "      <th>datasetName</th>\n",
       "      <th>date</th>\n",
       "      <th>dayOfYear</th>\n",
       "      <th>year</th>\n",
       "      <th>lon</th>\n",
       "      <th>lat</th>\n",
       "      <th>x_EPSG3035</th>\n",
       "      <th>y_EPSG3035</th>\n",
       "      <th>geoUncertaintyInM</th>\n",
       "      <th>speciesId</th>\n",
       "      <th>patchID</th>\n",
       "      <th>timeSerieID</th>\n",
       "      <th>geometry</th>\n",
       "      <th>dist_to_pa</th>\n",
       "    </tr>\n",
       "  </thead>\n",
       "  <tbody>\n",
       "    <tr>\n",
       "      <th>0</th>\n",
       "      <td>2649153</td>\n",
       "      <td>1399463</td>\n",
       "      <td>3.949786e+09</td>\n",
       "      <td>NaN</td>\n",
       "      <td>Pl@ntNet observations</td>\n",
       "      <td>2021-07-27</td>\n",
       "      <td>208</td>\n",
       "      <td>2021</td>\n",
       "      <td>8.871302</td>\n",
       "      <td>47.49095</td>\n",
       "      <td>4235890.0</td>\n",
       "      <td>2709242.0</td>\n",
       "      <td>65.00</td>\n",
       "      <td>8136</td>\n",
       "      <td>5435098</td>\n",
       "      <td>2410703</td>\n",
       "      <td>POINT (4235890.000 2709242.000)</td>\n",
       "      <td>127.756908</td>\n",
       "    </tr>\n",
       "    <tr>\n",
       "      <th>1</th>\n",
       "      <td>4002343</td>\n",
       "      <td>1470399</td>\n",
       "      <td>2.977415e+09</td>\n",
       "      <td>NaN</td>\n",
       "      <td>Pl@ntNet automatic</td>\n",
       "      <td>2020-05-06</td>\n",
       "      <td>127</td>\n",
       "      <td>2020</td>\n",
       "      <td>12.068050</td>\n",
       "      <td>42.08209</td>\n",
       "      <td>4492705.0</td>\n",
       "      <td>2111036.0</td>\n",
       "      <td>15.17</td>\n",
       "      <td>3097</td>\n",
       "      <td>6265398</td>\n",
       "      <td>3243038</td>\n",
       "      <td>POINT (4492705.000 2111036.000)</td>\n",
       "      <td>222.786005</td>\n",
       "    </tr>\n",
       "    <tr>\n",
       "      <th>3</th>\n",
       "      <td>1853144</td>\n",
       "      <td>401365</td>\n",
       "      <td>2.815231e+09</td>\n",
       "      <td>Ove Sander Førland;Leiv Krumsvik</td>\n",
       "      <td>NOR Species Observation</td>\n",
       "      <td>2020-06-24</td>\n",
       "      <td>176</td>\n",
       "      <td>2020</td>\n",
       "      <td>6.081810</td>\n",
       "      <td>58.98705</td>\n",
       "      <td>4095400.0</td>\n",
       "      <td>3993561.0</td>\n",
       "      <td>5.00</td>\n",
       "      <td>9687</td>\n",
       "      <td>4789398</td>\n",
       "      <td>1765663</td>\n",
       "      <td>POINT (4095400.000 3993561.000)</td>\n",
       "      <td>547.491370</td>\n",
       "    </tr>\n",
       "    <tr>\n",
       "      <th>4</th>\n",
       "      <td>4762061</td>\n",
       "      <td>4510550</td>\n",
       "      <td>3.957207e+09</td>\n",
       "      <td>NaN</td>\n",
       "      <td>Pl@ntNet automatic</td>\n",
       "      <td>2020-05-24</td>\n",
       "      <td>145</td>\n",
       "      <td>2020</td>\n",
       "      <td>19.806660</td>\n",
       "      <td>50.06323</td>\n",
       "      <td>5020841.0</td>\n",
       "      <td>3041419.0</td>\n",
       "      <td>9.20</td>\n",
       "      <td>1995</td>\n",
       "      <td>6872516</td>\n",
       "      <td>3852177</td>\n",
       "      <td>POINT (5020841.000 3041419.000)</td>\n",
       "      <td>899.498842</td>\n",
       "    </tr>\n",
       "    <tr>\n",
       "      <th>7</th>\n",
       "      <td>543007</td>\n",
       "      <td>3676981</td>\n",
       "      <td>3.302346e+09</td>\n",
       "      <td>edfoster</td>\n",
       "      <td>iNaturalist RG</td>\n",
       "      <td>2021-06-07</td>\n",
       "      <td>158</td>\n",
       "      <td>2021</td>\n",
       "      <td>-1.278613</td>\n",
       "      <td>53.04708</td>\n",
       "      <td>3568084.0</td>\n",
       "      <td>3385159.0</td>\n",
       "      <td>4.00</td>\n",
       "      <td>7256</td>\n",
       "      <td>3530724</td>\n",
       "      <td>513006</td>\n",
       "      <td>POINT (3568084.000 3385159.000)</td>\n",
       "      <td>84.192512</td>\n",
       "    </tr>\n",
       "    <tr>\n",
       "      <th>...</th>\n",
       "      <td>...</td>\n",
       "      <td>...</td>\n",
       "      <td>...</td>\n",
       "      <td>...</td>\n",
       "      <td>...</td>\n",
       "      <td>...</td>\n",
       "      <td>...</td>\n",
       "      <td>...</td>\n",
       "      <td>...</td>\n",
       "      <td>...</td>\n",
       "      <td>...</td>\n",
       "      <td>...</td>\n",
       "      <td>...</td>\n",
       "      <td>...</td>\n",
       "      <td>...</td>\n",
       "      <td>...</td>\n",
       "      <td>...</td>\n",
       "      <td>...</td>\n",
       "    </tr>\n",
       "    <tr>\n",
       "      <th>88</th>\n",
       "      <td>3285812</td>\n",
       "      <td>4406818</td>\n",
       "      <td>2.896302e+09</td>\n",
       "      <td>Miljøstyrelsen</td>\n",
       "      <td>DEN Environmental Portal</td>\n",
       "      <td>2018-08-07</td>\n",
       "      <td>219</td>\n",
       "      <td>2018</td>\n",
       "      <td>10.186130</td>\n",
       "      <td>56.85071</td>\n",
       "      <td>4332368.0</td>\n",
       "      <td>3749774.0</td>\n",
       "      <td>77.73</td>\n",
       "      <td>2248</td>\n",
       "      <td>5773135</td>\n",
       "      <td>2749407</td>\n",
       "      <td>POINT (4332368.000 3749774.000)</td>\n",
       "      <td>712.650010</td>\n",
       "    </tr>\n",
       "    <tr>\n",
       "      <th>90</th>\n",
       "      <td>3567763</td>\n",
       "      <td>4932186</td>\n",
       "      <td>2.248008e+09</td>\n",
       "      <td>Bård Haugsrud</td>\n",
       "      <td>NOR Species Observation</td>\n",
       "      <td>2019-05-01</td>\n",
       "      <td>121</td>\n",
       "      <td>2019</td>\n",
       "      <td>10.858600</td>\n",
       "      <td>59.43568</td>\n",
       "      <td>4369832.0</td>\n",
       "      <td>4037515.0</td>\n",
       "      <td>10.00</td>\n",
       "      <td>8548</td>\n",
       "      <td>5949208</td>\n",
       "      <td>2926458</td>\n",
       "      <td>POINT (4369832.000 4037515.000)</td>\n",
       "      <td>824.680285</td>\n",
       "    </tr>\n",
       "    <tr>\n",
       "      <th>91</th>\n",
       "      <td>1766613</td>\n",
       "      <td>4777792</td>\n",
       "      <td>3.338431e+09</td>\n",
       "      <td>Jan Alsvik</td>\n",
       "      <td>NOR Species Observation</td>\n",
       "      <td>2021-08-19</td>\n",
       "      <td>231</td>\n",
       "      <td>2021</td>\n",
       "      <td>5.766564</td>\n",
       "      <td>58.95837</td>\n",
       "      <td>4077075.0</td>\n",
       "      <td>3991416.0</td>\n",
       "      <td>10.00</td>\n",
       "      <td>5678</td>\n",
       "      <td>4706830</td>\n",
       "      <td>1683716</td>\n",
       "      <td>POINT (4077075.000 3991416.000)</td>\n",
       "      <td>529.207196</td>\n",
       "    </tr>\n",
       "    <tr>\n",
       "      <th>93</th>\n",
       "      <td>2074173</td>\n",
       "      <td>1056864</td>\n",
       "      <td>3.459924e+09</td>\n",
       "      <td>Sara Margrete Gilberg Nyjordet</td>\n",
       "      <td>NOR Species Observation</td>\n",
       "      <td>2021-06-08</td>\n",
       "      <td>159</td>\n",
       "      <td>2021</td>\n",
       "      <td>6.880323</td>\n",
       "      <td>60.91958</td>\n",
       "      <td>4151297.0</td>\n",
       "      <td>4205845.0</td>\n",
       "      <td>25.00</td>\n",
       "      <td>6591</td>\n",
       "      <td>4992139</td>\n",
       "      <td>1968176</td>\n",
       "      <td>POINT (4151297.000 4205845.000)</td>\n",
       "      <td>667.457544</td>\n",
       "    </tr>\n",
       "    <tr>\n",
       "      <th>94</th>\n",
       "      <td>2619320</td>\n",
       "      <td>1701143</td>\n",
       "      <td>3.949606e+09</td>\n",
       "      <td>NaN</td>\n",
       "      <td>Pl@ntNet observations</td>\n",
       "      <td>2021-07-22</td>\n",
       "      <td>203</td>\n",
       "      <td>2021</td>\n",
       "      <td>8.795719</td>\n",
       "      <td>45.63249</td>\n",
       "      <td>4226968.0</td>\n",
       "      <td>2502976.0</td>\n",
       "      <td>56.71</td>\n",
       "      <td>2862</td>\n",
       "      <td>5416300</td>\n",
       "      <td>2391844</td>\n",
       "      <td>POINT (4226968.000 2502976.000)</td>\n",
       "      <td>179.493566</td>\n",
       "    </tr>\n",
       "  </tbody>\n",
       "</table>\n",
       "<p>73 rows × 18 columns</p>\n",
       "</div>"
      ],
      "text/plain": [
       "    Unnamed: 0    glcID        gbifID                          observer  \\\n",
       "0      2649153  1399463  3.949786e+09                               NaN   \n",
       "1      4002343  1470399  2.977415e+09                               NaN   \n",
       "3      1853144   401365  2.815231e+09  Ove Sander Førland;Leiv Krumsvik   \n",
       "4      4762061  4510550  3.957207e+09                               NaN   \n",
       "7       543007  3676981  3.302346e+09                          edfoster   \n",
       "..         ...      ...           ...                               ...   \n",
       "88     3285812  4406818  2.896302e+09                    Miljøstyrelsen   \n",
       "90     3567763  4932186  2.248008e+09                     Bård Haugsrud   \n",
       "91     1766613  4777792  3.338431e+09                        Jan Alsvik   \n",
       "93     2074173  1056864  3.459924e+09    Sara Margrete Gilberg Nyjordet   \n",
       "94     2619320  1701143  3.949606e+09                               NaN   \n",
       "\n",
       "                 datasetName        date  dayOfYear  year        lon  \\\n",
       "0      Pl@ntNet observations  2021-07-27        208  2021   8.871302   \n",
       "1         Pl@ntNet automatic  2020-05-06        127  2020  12.068050   \n",
       "3    NOR Species Observation  2020-06-24        176  2020   6.081810   \n",
       "4         Pl@ntNet automatic  2020-05-24        145  2020  19.806660   \n",
       "7             iNaturalist RG  2021-06-07        158  2021  -1.278613   \n",
       "..                       ...         ...        ...   ...        ...   \n",
       "88  DEN Environmental Portal  2018-08-07        219  2018  10.186130   \n",
       "90   NOR Species Observation  2019-05-01        121  2019  10.858600   \n",
       "91   NOR Species Observation  2021-08-19        231  2021   5.766564   \n",
       "93   NOR Species Observation  2021-06-08        159  2021   6.880323   \n",
       "94     Pl@ntNet observations  2021-07-22        203  2021   8.795719   \n",
       "\n",
       "         lat  x_EPSG3035  y_EPSG3035  geoUncertaintyInM  speciesId  patchID  \\\n",
       "0   47.49095   4235890.0   2709242.0              65.00       8136  5435098   \n",
       "1   42.08209   4492705.0   2111036.0              15.17       3097  6265398   \n",
       "3   58.98705   4095400.0   3993561.0               5.00       9687  4789398   \n",
       "4   50.06323   5020841.0   3041419.0               9.20       1995  6872516   \n",
       "7   53.04708   3568084.0   3385159.0               4.00       7256  3530724   \n",
       "..       ...         ...         ...                ...        ...      ...   \n",
       "88  56.85071   4332368.0   3749774.0              77.73       2248  5773135   \n",
       "90  59.43568   4369832.0   4037515.0              10.00       8548  5949208   \n",
       "91  58.95837   4077075.0   3991416.0              10.00       5678  4706830   \n",
       "93  60.91958   4151297.0   4205845.0              25.00       6591  4992139   \n",
       "94  45.63249   4226968.0   2502976.0              56.71       2862  5416300   \n",
       "\n",
       "    timeSerieID                         geometry  dist_to_pa  \n",
       "0       2410703  POINT (4235890.000 2709242.000)  127.756908  \n",
       "1       3243038  POINT (4492705.000 2111036.000)  222.786005  \n",
       "3       1765663  POINT (4095400.000 3993561.000)  547.491370  \n",
       "4       3852177  POINT (5020841.000 3041419.000)  899.498842  \n",
       "7        513006  POINT (3568084.000 3385159.000)   84.192512  \n",
       "..          ...                              ...         ...  \n",
       "88      2749407  POINT (4332368.000 3749774.000)  712.650010  \n",
       "90      2926458  POINT (4369832.000 4037515.000)  824.680285  \n",
       "91      1683716  POINT (4077075.000 3991416.000)  529.207196  \n",
       "93      1968176  POINT (4151297.000 4205845.000)  667.457544  \n",
       "94      2391844  POINT (4226968.000 2502976.000)  179.493566  \n",
       "\n",
       "[73 rows x 18 columns]"
      ]
     },
     "execution_count": 123,
     "metadata": {},
     "output_type": "execute_result"
    }
   ],
   "source": [
    "tmp[tmp['dist_to_pa'] >= 50]"
   ]
  },
  {
   "cell_type": "code",
   "execution_count": 126,
   "metadata": {},
   "outputs": [
    {
     "data": {
      "text/html": [
       "<div>\n",
       "<style scoped>\n",
       "    .dataframe tbody tr th:only-of-type {\n",
       "        vertical-align: middle;\n",
       "    }\n",
       "\n",
       "    .dataframe tbody tr th {\n",
       "        vertical-align: top;\n",
       "    }\n",
       "\n",
       "    .dataframe thead th {\n",
       "        text-align: right;\n",
       "    }\n",
       "</style>\n",
       "<table border=\"1\" class=\"dataframe\">\n",
       "  <thead>\n",
       "    <tr style=\"text-align: right;\">\n",
       "      <th></th>\n",
       "      <th>Unnamed: 0</th>\n",
       "      <th>glcID</th>\n",
       "      <th>gbifID</th>\n",
       "      <th>observer</th>\n",
       "      <th>datasetName</th>\n",
       "      <th>date</th>\n",
       "      <th>dayOfYear</th>\n",
       "      <th>year</th>\n",
       "      <th>lon</th>\n",
       "      <th>lat</th>\n",
       "      <th>x_EPSG3035</th>\n",
       "      <th>y_EPSG3035</th>\n",
       "      <th>geoUncertaintyInM</th>\n",
       "      <th>speciesId</th>\n",
       "      <th>patchID</th>\n",
       "      <th>timeSerieID</th>\n",
       "      <th>dist_to_pa</th>\n",
       "    </tr>\n",
       "  </thead>\n",
       "  <tbody>\n",
       "    <tr>\n",
       "      <th>0</th>\n",
       "      <td>2649153</td>\n",
       "      <td>1399463</td>\n",
       "      <td>3.949786e+09</td>\n",
       "      <td>NaN</td>\n",
       "      <td>Pl@ntNet observations</td>\n",
       "      <td>2021-07-27</td>\n",
       "      <td>208</td>\n",
       "      <td>2021</td>\n",
       "      <td>8.871302</td>\n",
       "      <td>47.49095</td>\n",
       "      <td>4235890.0</td>\n",
       "      <td>2709242.0</td>\n",
       "      <td>65.00</td>\n",
       "      <td>8136</td>\n",
       "      <td>5435098</td>\n",
       "      <td>2410703</td>\n",
       "      <td>127.756908</td>\n",
       "    </tr>\n",
       "    <tr>\n",
       "      <th>1</th>\n",
       "      <td>4002343</td>\n",
       "      <td>1470399</td>\n",
       "      <td>2.977415e+09</td>\n",
       "      <td>NaN</td>\n",
       "      <td>Pl@ntNet automatic</td>\n",
       "      <td>2020-05-06</td>\n",
       "      <td>127</td>\n",
       "      <td>2020</td>\n",
       "      <td>12.068050</td>\n",
       "      <td>42.08209</td>\n",
       "      <td>4492705.0</td>\n",
       "      <td>2111036.0</td>\n",
       "      <td>15.17</td>\n",
       "      <td>3097</td>\n",
       "      <td>6265398</td>\n",
       "      <td>3243038</td>\n",
       "      <td>222.786005</td>\n",
       "    </tr>\n",
       "    <tr>\n",
       "      <th>2</th>\n",
       "      <td>2029213</td>\n",
       "      <td>1529540</td>\n",
       "      <td>2.977662e+09</td>\n",
       "      <td>NaN</td>\n",
       "      <td>Pl@ntNet automatic</td>\n",
       "      <td>2020-07-01</td>\n",
       "      <td>183</td>\n",
       "      <td>2020</td>\n",
       "      <td>6.720335</td>\n",
       "      <td>46.11742</td>\n",
       "      <td>4067272.0</td>\n",
       "      <td>2561639.0</td>\n",
       "      <td>5.00</td>\n",
       "      <td>7262</td>\n",
       "      <td>4950564</td>\n",
       "      <td>1926756</td>\n",
       "      <td>21.594582</td>\n",
       "    </tr>\n",
       "    <tr>\n",
       "      <th>3</th>\n",
       "      <td>1853144</td>\n",
       "      <td>401365</td>\n",
       "      <td>2.815231e+09</td>\n",
       "      <td>Ove Sander Førland;Leiv Krumsvik</td>\n",
       "      <td>NOR Species Observation</td>\n",
       "      <td>2020-06-24</td>\n",
       "      <td>176</td>\n",
       "      <td>2020</td>\n",
       "      <td>6.081810</td>\n",
       "      <td>58.98705</td>\n",
       "      <td>4095400.0</td>\n",
       "      <td>3993561.0</td>\n",
       "      <td>5.00</td>\n",
       "      <td>9687</td>\n",
       "      <td>4789398</td>\n",
       "      <td>1765663</td>\n",
       "      <td>547.491370</td>\n",
       "    </tr>\n",
       "    <tr>\n",
       "      <th>4</th>\n",
       "      <td>4762061</td>\n",
       "      <td>4510550</td>\n",
       "      <td>3.957207e+09</td>\n",
       "      <td>NaN</td>\n",
       "      <td>Pl@ntNet automatic</td>\n",
       "      <td>2020-05-24</td>\n",
       "      <td>145</td>\n",
       "      <td>2020</td>\n",
       "      <td>19.806660</td>\n",
       "      <td>50.06323</td>\n",
       "      <td>5020841.0</td>\n",
       "      <td>3041419.0</td>\n",
       "      <td>9.20</td>\n",
       "      <td>1995</td>\n",
       "      <td>6872516</td>\n",
       "      <td>3852177</td>\n",
       "      <td>899.498842</td>\n",
       "    </tr>\n",
       "    <tr>\n",
       "      <th>...</th>\n",
       "      <td>...</td>\n",
       "      <td>...</td>\n",
       "      <td>...</td>\n",
       "      <td>...</td>\n",
       "      <td>...</td>\n",
       "      <td>...</td>\n",
       "      <td>...</td>\n",
       "      <td>...</td>\n",
       "      <td>...</td>\n",
       "      <td>...</td>\n",
       "      <td>...</td>\n",
       "      <td>...</td>\n",
       "      <td>...</td>\n",
       "      <td>...</td>\n",
       "      <td>...</td>\n",
       "      <td>...</td>\n",
       "      <td>...</td>\n",
       "    </tr>\n",
       "    <tr>\n",
       "      <th>95</th>\n",
       "      <td>800219</td>\n",
       "      <td>3839415</td>\n",
       "      <td>3.352642e+09</td>\n",
       "      <td>Carruthers-Jones, I. Iain</td>\n",
       "      <td>iRecord verified</td>\n",
       "      <td>2021-05-11</td>\n",
       "      <td>131</td>\n",
       "      <td>2021</td>\n",
       "      <td>0.717243</td>\n",
       "      <td>52.24265</td>\n",
       "      <td>3688912.0</td>\n",
       "      <td>3277368.0</td>\n",
       "      <td>7.10</td>\n",
       "      <td>7017</td>\n",
       "      <td>3775658</td>\n",
       "      <td>757547</td>\n",
       "      <td>33.073848</td>\n",
       "    </tr>\n",
       "    <tr>\n",
       "      <th>96</th>\n",
       "      <td>376343</td>\n",
       "      <td>4154473</td>\n",
       "      <td>3.098644e+09</td>\n",
       "      <td>Woods, A. Aaron;Gaze, M. Mark</td>\n",
       "      <td>iRecord verified</td>\n",
       "      <td>2019-05-07</td>\n",
       "      <td>127</td>\n",
       "      <td>2019</td>\n",
       "      <td>-2.442449</td>\n",
       "      <td>52.18926</td>\n",
       "      <td>3474866.0</td>\n",
       "      <td>3303604.0</td>\n",
       "      <td>70.70</td>\n",
       "      <td>9121</td>\n",
       "      <td>3373953</td>\n",
       "      <td>356351</td>\n",
       "      <td>21.782909</td>\n",
       "    </tr>\n",
       "    <tr>\n",
       "      <th>97</th>\n",
       "      <td>1647544</td>\n",
       "      <td>4760564</td>\n",
       "      <td>3.955929e+09</td>\n",
       "      <td>NaN</td>\n",
       "      <td>Pl@ntNet automatic</td>\n",
       "      <td>2018-08-16</td>\n",
       "      <td>228</td>\n",
       "      <td>2018</td>\n",
       "      <td>5.357560</td>\n",
       "      <td>43.27925</td>\n",
       "      <td>3943412.0</td>\n",
       "      <td>2252925.0</td>\n",
       "      <td>10.00</td>\n",
       "      <td>2404</td>\n",
       "      <td>4598899</td>\n",
       "      <td>1576907</td>\n",
       "      <td>2.473058</td>\n",
       "    </tr>\n",
       "    <tr>\n",
       "      <th>98</th>\n",
       "      <td>439910</td>\n",
       "      <td>3673656</td>\n",
       "      <td>3.730053e+09</td>\n",
       "      <td>NaN</td>\n",
       "      <td>Observation.org</td>\n",
       "      <td>2021-06-28</td>\n",
       "      <td>179</td>\n",
       "      <td>2021</td>\n",
       "      <td>-1.887009</td>\n",
       "      <td>42.93610</td>\n",
       "      <td>3352440.0</td>\n",
       "      <td>2280028.0</td>\n",
       "      <td>25.00</td>\n",
       "      <td>5763</td>\n",
       "      <td>3434181</td>\n",
       "      <td>416601</td>\n",
       "      <td>43.022300</td>\n",
       "    </tr>\n",
       "    <tr>\n",
       "      <th>99</th>\n",
       "      <td>1816273</td>\n",
       "      <td>1467009</td>\n",
       "      <td>3.953914e+09</td>\n",
       "      <td>NaN</td>\n",
       "      <td>Pl@ntNet automatic</td>\n",
       "      <td>2021-06-17</td>\n",
       "      <td>168</td>\n",
       "      <td>2021</td>\n",
       "      <td>5.953077</td>\n",
       "      <td>46.28503</td>\n",
       "      <td>4008947.0</td>\n",
       "      <td>2583149.0</td>\n",
       "      <td>13.50</td>\n",
       "      <td>9920</td>\n",
       "      <td>4753914</td>\n",
       "      <td>1730788</td>\n",
       "      <td>36.165348</td>\n",
       "    </tr>\n",
       "  </tbody>\n",
       "</table>\n",
       "<p>100 rows × 17 columns</p>\n",
       "</div>"
      ],
      "text/plain": [
       "    Unnamed: 0    glcID        gbifID                          observer  \\\n",
       "0      2649153  1399463  3.949786e+09                               NaN   \n",
       "1      4002343  1470399  2.977415e+09                               NaN   \n",
       "2      2029213  1529540  2.977662e+09                               NaN   \n",
       "3      1853144   401365  2.815231e+09  Ove Sander Førland;Leiv Krumsvik   \n",
       "4      4762061  4510550  3.957207e+09                               NaN   \n",
       "..         ...      ...           ...                               ...   \n",
       "95      800219  3839415  3.352642e+09         Carruthers-Jones, I. Iain   \n",
       "96      376343  4154473  3.098644e+09     Woods, A. Aaron;Gaze, M. Mark   \n",
       "97     1647544  4760564  3.955929e+09                               NaN   \n",
       "98      439910  3673656  3.730053e+09                               NaN   \n",
       "99     1816273  1467009  3.953914e+09                               NaN   \n",
       "\n",
       "                datasetName        date  dayOfYear  year        lon       lat  \\\n",
       "0     Pl@ntNet observations  2021-07-27        208  2021   8.871302  47.49095   \n",
       "1        Pl@ntNet automatic  2020-05-06        127  2020  12.068050  42.08209   \n",
       "2        Pl@ntNet automatic  2020-07-01        183  2020   6.720335  46.11742   \n",
       "3   NOR Species Observation  2020-06-24        176  2020   6.081810  58.98705   \n",
       "4        Pl@ntNet automatic  2020-05-24        145  2020  19.806660  50.06323   \n",
       "..                      ...         ...        ...   ...        ...       ...   \n",
       "95         iRecord verified  2021-05-11        131  2021   0.717243  52.24265   \n",
       "96         iRecord verified  2019-05-07        127  2019  -2.442449  52.18926   \n",
       "97       Pl@ntNet automatic  2018-08-16        228  2018   5.357560  43.27925   \n",
       "98          Observation.org  2021-06-28        179  2021  -1.887009  42.93610   \n",
       "99       Pl@ntNet automatic  2021-06-17        168  2021   5.953077  46.28503   \n",
       "\n",
       "    x_EPSG3035  y_EPSG3035  geoUncertaintyInM  speciesId  patchID  \\\n",
       "0    4235890.0   2709242.0              65.00       8136  5435098   \n",
       "1    4492705.0   2111036.0              15.17       3097  6265398   \n",
       "2    4067272.0   2561639.0               5.00       7262  4950564   \n",
       "3    4095400.0   3993561.0               5.00       9687  4789398   \n",
       "4    5020841.0   3041419.0               9.20       1995  6872516   \n",
       "..         ...         ...                ...        ...      ...   \n",
       "95   3688912.0   3277368.0               7.10       7017  3775658   \n",
       "96   3474866.0   3303604.0              70.70       9121  3373953   \n",
       "97   3943412.0   2252925.0              10.00       2404  4598899   \n",
       "98   3352440.0   2280028.0              25.00       5763  3434181   \n",
       "99   4008947.0   2583149.0              13.50       9920  4753914   \n",
       "\n",
       "    timeSerieID  dist_to_pa  \n",
       "0       2410703  127.756908  \n",
       "1       3243038  222.786005  \n",
       "2       1926756   21.594582  \n",
       "3       1765663  547.491370  \n",
       "4       3852177  899.498842  \n",
       "..          ...         ...  \n",
       "95       757547   33.073848  \n",
       "96       356351   21.782909  \n",
       "97      1576907    2.473058  \n",
       "98       416601   43.022300  \n",
       "99      1730788   36.165348  \n",
       "\n",
       "[100 rows x 17 columns]"
      ]
     },
     "execution_count": 126,
     "metadata": {},
     "output_type": "execute_result"
    }
   ],
   "source": [
    "tmp.drop(columns=['geometry'])"
   ]
  },
  {
   "cell_type": "code",
   "execution_count": null,
   "metadata": {},
   "outputs": [],
   "source": []
  },
  {
   "cell_type": "code",
   "execution_count": 96,
   "metadata": {},
   "outputs": [
    {
     "data": {
      "text/html": [
       "<div>\n",
       "<style scoped>\n",
       "    .dataframe tbody tr th:only-of-type {\n",
       "        vertical-align: middle;\n",
       "    }\n",
       "\n",
       "    .dataframe tbody tr th {\n",
       "        vertical-align: top;\n",
       "    }\n",
       "\n",
       "    .dataframe thead th {\n",
       "        text-align: right;\n",
       "    }\n",
       "</style>\n",
       "<table border=\"1\" class=\"dataframe\">\n",
       "  <thead>\n",
       "    <tr style=\"text-align: right;\">\n",
       "      <th></th>\n",
       "      <th>Unnamed: 0</th>\n",
       "      <th>glcID</th>\n",
       "      <th>gbifID</th>\n",
       "      <th>observer</th>\n",
       "      <th>datasetName</th>\n",
       "      <th>date</th>\n",
       "      <th>dayOfYear</th>\n",
       "      <th>year</th>\n",
       "      <th>lon</th>\n",
       "      <th>lat</th>\n",
       "      <th>x_EPSG3035</th>\n",
       "      <th>y_EPSG3035</th>\n",
       "      <th>geoUncertaintyInM</th>\n",
       "      <th>speciesId</th>\n",
       "      <th>patchID</th>\n",
       "      <th>timeSerieID</th>\n",
       "      <th>geometry</th>\n",
       "    </tr>\n",
       "  </thead>\n",
       "  <tbody>\n",
       "    <tr>\n",
       "      <th>0</th>\n",
       "      <td>2649153</td>\n",
       "      <td>1399463</td>\n",
       "      <td>3.949786e+09</td>\n",
       "      <td>NaN</td>\n",
       "      <td>Pl@ntNet observations</td>\n",
       "      <td>2021-07-27</td>\n",
       "      <td>208</td>\n",
       "      <td>2021</td>\n",
       "      <td>8.871302</td>\n",
       "      <td>47.49095</td>\n",
       "      <td>4235890.0</td>\n",
       "      <td>2709242.0</td>\n",
       "      <td>65.00</td>\n",
       "      <td>8136</td>\n",
       "      <td>5435098</td>\n",
       "      <td>2410703</td>\n",
       "      <td>POINT (8.87130 47.49095)</td>\n",
       "    </tr>\n",
       "    <tr>\n",
       "      <th>1</th>\n",
       "      <td>4002343</td>\n",
       "      <td>1470399</td>\n",
       "      <td>2.977415e+09</td>\n",
       "      <td>NaN</td>\n",
       "      <td>Pl@ntNet automatic</td>\n",
       "      <td>2020-05-06</td>\n",
       "      <td>127</td>\n",
       "      <td>2020</td>\n",
       "      <td>12.068050</td>\n",
       "      <td>42.08209</td>\n",
       "      <td>4492705.0</td>\n",
       "      <td>2111036.0</td>\n",
       "      <td>15.17</td>\n",
       "      <td>3097</td>\n",
       "      <td>6265398</td>\n",
       "      <td>3243038</td>\n",
       "      <td>POINT (12.06805 42.08209)</td>\n",
       "    </tr>\n",
       "    <tr>\n",
       "      <th>2</th>\n",
       "      <td>2029213</td>\n",
       "      <td>1529540</td>\n",
       "      <td>2.977662e+09</td>\n",
       "      <td>NaN</td>\n",
       "      <td>Pl@ntNet automatic</td>\n",
       "      <td>2020-07-01</td>\n",
       "      <td>183</td>\n",
       "      <td>2020</td>\n",
       "      <td>6.720335</td>\n",
       "      <td>46.11742</td>\n",
       "      <td>4067272.0</td>\n",
       "      <td>2561639.0</td>\n",
       "      <td>5.00</td>\n",
       "      <td>7262</td>\n",
       "      <td>4950564</td>\n",
       "      <td>1926756</td>\n",
       "      <td>POINT (6.72034 46.11742)</td>\n",
       "    </tr>\n",
       "    <tr>\n",
       "      <th>3</th>\n",
       "      <td>1853144</td>\n",
       "      <td>401365</td>\n",
       "      <td>2.815231e+09</td>\n",
       "      <td>Ove Sander Førland;Leiv Krumsvik</td>\n",
       "      <td>NOR Species Observation</td>\n",
       "      <td>2020-06-24</td>\n",
       "      <td>176</td>\n",
       "      <td>2020</td>\n",
       "      <td>6.081810</td>\n",
       "      <td>58.98705</td>\n",
       "      <td>4095400.0</td>\n",
       "      <td>3993561.0</td>\n",
       "      <td>5.00</td>\n",
       "      <td>9687</td>\n",
       "      <td>4789398</td>\n",
       "      <td>1765663</td>\n",
       "      <td>POINT (6.08181 58.98705)</td>\n",
       "    </tr>\n",
       "    <tr>\n",
       "      <th>4</th>\n",
       "      <td>4762061</td>\n",
       "      <td>4510550</td>\n",
       "      <td>3.957207e+09</td>\n",
       "      <td>NaN</td>\n",
       "      <td>Pl@ntNet automatic</td>\n",
       "      <td>2020-05-24</td>\n",
       "      <td>145</td>\n",
       "      <td>2020</td>\n",
       "      <td>19.806660</td>\n",
       "      <td>50.06323</td>\n",
       "      <td>5020841.0</td>\n",
       "      <td>3041419.0</td>\n",
       "      <td>9.20</td>\n",
       "      <td>1995</td>\n",
       "      <td>6872516</td>\n",
       "      <td>3852177</td>\n",
       "      <td>POINT (19.80666 50.06323)</td>\n",
       "    </tr>\n",
       "    <tr>\n",
       "      <th>...</th>\n",
       "      <td>...</td>\n",
       "      <td>...</td>\n",
       "      <td>...</td>\n",
       "      <td>...</td>\n",
       "      <td>...</td>\n",
       "      <td>...</td>\n",
       "      <td>...</td>\n",
       "      <td>...</td>\n",
       "      <td>...</td>\n",
       "      <td>...</td>\n",
       "      <td>...</td>\n",
       "      <td>...</td>\n",
       "      <td>...</td>\n",
       "      <td>...</td>\n",
       "      <td>...</td>\n",
       "      <td>...</td>\n",
       "      <td>...</td>\n",
       "    </tr>\n",
       "    <tr>\n",
       "      <th>3558521</th>\n",
       "      <td>1250943</td>\n",
       "      <td>1157288</td>\n",
       "      <td>3.320838e+09</td>\n",
       "      <td>David Delon</td>\n",
       "      <td>iNaturalist RG</td>\n",
       "      <td>2021-05-12</td>\n",
       "      <td>132</td>\n",
       "      <td>2021</td>\n",
       "      <td>3.730108</td>\n",
       "      <td>43.78989</td>\n",
       "      <td>3815796.0</td>\n",
       "      <td>2318978.0</td>\n",
       "      <td>3.00</td>\n",
       "      <td>8893</td>\n",
       "      <td>4216446</td>\n",
       "      <td>1196033</td>\n",
       "      <td>POINT (3.73011 43.78989)</td>\n",
       "    </tr>\n",
       "    <tr>\n",
       "      <th>3558522</th>\n",
       "      <td>2733577</td>\n",
       "      <td>715294</td>\n",
       "      <td>2.895347e+09</td>\n",
       "      <td>Miljøstyrelsen</td>\n",
       "      <td>DEN Environmental Portal</td>\n",
       "      <td>2018-08-23</td>\n",
       "      <td>235</td>\n",
       "      <td>2018</td>\n",
       "      <td>9.066010</td>\n",
       "      <td>56.38362</td>\n",
       "      <td>4263259.0</td>\n",
       "      <td>3698170.0</td>\n",
       "      <td>3.00</td>\n",
       "      <td>9407</td>\n",
       "      <td>5485782</td>\n",
       "      <td>2461471</td>\n",
       "      <td>POINT (9.06601 56.38362)</td>\n",
       "    </tr>\n",
       "    <tr>\n",
       "      <th>3558523</th>\n",
       "      <td>4753256</td>\n",
       "      <td>2799812</td>\n",
       "      <td>3.958016e+09</td>\n",
       "      <td>NaN</td>\n",
       "      <td>Pl@ntNet automatic</td>\n",
       "      <td>2020-07-30</td>\n",
       "      <td>212</td>\n",
       "      <td>2020</td>\n",
       "      <td>19.273600</td>\n",
       "      <td>50.22742</td>\n",
       "      <td>4980762.0</td>\n",
       "      <td>3054607.0</td>\n",
       "      <td>4.29</td>\n",
       "      <td>4466</td>\n",
       "      <td>6864916</td>\n",
       "      <td>3844571</td>\n",
       "      <td>POINT (19.27360 50.22742)</td>\n",
       "    </tr>\n",
       "    <tr>\n",
       "      <th>3558524</th>\n",
       "      <td>833493</td>\n",
       "      <td>3232158</td>\n",
       "      <td>2.644453e+09</td>\n",
       "      <td>NaN</td>\n",
       "      <td>Pl@ntNet automatic</td>\n",
       "      <td>2019-03-08</td>\n",
       "      <td>67</td>\n",
       "      <td>2019</td>\n",
       "      <td>1.090096</td>\n",
       "      <td>43.60787</td>\n",
       "      <td>3601788.0</td>\n",
       "      <td>2320443.0</td>\n",
       "      <td>14.61</td>\n",
       "      <td>6764</td>\n",
       "      <td>3806993</td>\n",
       "      <td>788803</td>\n",
       "      <td>POINT (1.09010 43.60787)</td>\n",
       "    </tr>\n",
       "    <tr>\n",
       "      <th>3558525</th>\n",
       "      <td>2020300</td>\n",
       "      <td>2752618</td>\n",
       "      <td>2.248007e+09</td>\n",
       "      <td>Svein Grimsby;Sebastian Grimsby</td>\n",
       "      <td>NOR Species Observation</td>\n",
       "      <td>2019-04-29</td>\n",
       "      <td>119</td>\n",
       "      <td>2019</td>\n",
       "      <td>6.693203</td>\n",
       "      <td>58.29763</td>\n",
       "      <td>4126850.0</td>\n",
       "      <td>3915194.0</td>\n",
       "      <td>50.00</td>\n",
       "      <td>8732</td>\n",
       "      <td>4942787</td>\n",
       "      <td>1919003</td>\n",
       "      <td>POINT (6.69320 58.29763)</td>\n",
       "    </tr>\n",
       "  </tbody>\n",
       "</table>\n",
       "<p>3558526 rows × 17 columns</p>\n",
       "</div>"
      ],
      "text/plain": [
       "         Unnamed: 0    glcID        gbifID                          observer  \\\n",
       "0           2649153  1399463  3.949786e+09                               NaN   \n",
       "1           4002343  1470399  2.977415e+09                               NaN   \n",
       "2           2029213  1529540  2.977662e+09                               NaN   \n",
       "3           1853144   401365  2.815231e+09  Ove Sander Førland;Leiv Krumsvik   \n",
       "4           4762061  4510550  3.957207e+09                               NaN   \n",
       "...             ...      ...           ...                               ...   \n",
       "3558521     1250943  1157288  3.320838e+09                       David Delon   \n",
       "3558522     2733577   715294  2.895347e+09                    Miljøstyrelsen   \n",
       "3558523     4753256  2799812  3.958016e+09                               NaN   \n",
       "3558524      833493  3232158  2.644453e+09                               NaN   \n",
       "3558525     2020300  2752618  2.248007e+09   Svein Grimsby;Sebastian Grimsby   \n",
       "\n",
       "                      datasetName        date  dayOfYear  year        lon  \\\n",
       "0           Pl@ntNet observations  2021-07-27        208  2021   8.871302   \n",
       "1              Pl@ntNet automatic  2020-05-06        127  2020  12.068050   \n",
       "2              Pl@ntNet automatic  2020-07-01        183  2020   6.720335   \n",
       "3         NOR Species Observation  2020-06-24        176  2020   6.081810   \n",
       "4              Pl@ntNet automatic  2020-05-24        145  2020  19.806660   \n",
       "...                           ...         ...        ...   ...        ...   \n",
       "3558521            iNaturalist RG  2021-05-12        132  2021   3.730108   \n",
       "3558522  DEN Environmental Portal  2018-08-23        235  2018   9.066010   \n",
       "3558523        Pl@ntNet automatic  2020-07-30        212  2020  19.273600   \n",
       "3558524        Pl@ntNet automatic  2019-03-08         67  2019   1.090096   \n",
       "3558525   NOR Species Observation  2019-04-29        119  2019   6.693203   \n",
       "\n",
       "              lat  x_EPSG3035  y_EPSG3035  geoUncertaintyInM  speciesId  \\\n",
       "0        47.49095   4235890.0   2709242.0              65.00       8136   \n",
       "1        42.08209   4492705.0   2111036.0              15.17       3097   \n",
       "2        46.11742   4067272.0   2561639.0               5.00       7262   \n",
       "3        58.98705   4095400.0   3993561.0               5.00       9687   \n",
       "4        50.06323   5020841.0   3041419.0               9.20       1995   \n",
       "...           ...         ...         ...                ...        ...   \n",
       "3558521  43.78989   3815796.0   2318978.0               3.00       8893   \n",
       "3558522  56.38362   4263259.0   3698170.0               3.00       9407   \n",
       "3558523  50.22742   4980762.0   3054607.0               4.29       4466   \n",
       "3558524  43.60787   3601788.0   2320443.0              14.61       6764   \n",
       "3558525  58.29763   4126850.0   3915194.0              50.00       8732   \n",
       "\n",
       "         patchID  timeSerieID                   geometry  \n",
       "0        5435098      2410703   POINT (8.87130 47.49095)  \n",
       "1        6265398      3243038  POINT (12.06805 42.08209)  \n",
       "2        4950564      1926756   POINT (6.72034 46.11742)  \n",
       "3        4789398      1765663   POINT (6.08181 58.98705)  \n",
       "4        6872516      3852177  POINT (19.80666 50.06323)  \n",
       "...          ...          ...                        ...  \n",
       "3558521  4216446      1196033   POINT (3.73011 43.78989)  \n",
       "3558522  5485782      2461471   POINT (9.06601 56.38362)  \n",
       "3558523  6864916      3844571  POINT (19.27360 50.22742)  \n",
       "3558524  3806993       788803   POINT (1.09010 43.60787)  \n",
       "3558525  4942787      1919003   POINT (6.69320 58.29763)  \n",
       "\n",
       "[3558526 rows x 17 columns]"
      ]
     },
     "execution_count": 96,
     "metadata": {},
     "output_type": "execute_result"
    }
   ],
   "source": [
    "po"
   ]
  },
  {
   "cell_type": "code",
   "execution_count": 41,
   "metadata": {},
   "outputs": [
    {
     "name": "stdout",
     "output_type": "stream",
     "text": [
      "DEVICE: cuda\n"
     ]
    }
   ],
   "source": [
    "path_to_config = 'models/0319_env8_aspp_bs1024_weight_decay/config.json'\n",
    "with open(path_to_config, \"r\") as f:\n",
    "    config = json.load(f)\n",
    "config = {k: v if v != \"\" else None for k,v in config.items()}\n",
    "model_setup = {}\n",
    "if config['env_model'] is not None: \n",
    "    config['env_model']['covariates'] = [eval(f) for f in config['env_model']['covariates']]\n",
    "    model_setup['env'] = config['env_model']\n",
    "if config['sat_model'] is not None: \n",
    "    config['sat_model']['covariates'] = [eval(f) for f in config['sat_model']['covariates']]\n",
    "    model_setup['sat'] = config['sat_model']\n",
    "train_occ_path = eval(config['train_occ_path'])\n",
    "random_bg_path = eval(config['random_bg_path']) if config['random_bg_path'] is not None else None\n",
    "val_occ_path = eval(config['val_occ_path'])\n",
    "n_max_low_occ = config['n_max_low_occ']\n",
    "learning_rate = config['learning_rate']\n",
    "weight_decay = config['weight_decay']\n",
    "seed = config['seed']\n",
    "embed_shape = config['embed_shape']\n",
    "loss = config['loss']\n",
    "lambda2 = config['lambda2']\n",
    "batch_size = config['batch_size']\n",
    "dev = torch.device(\"cuda\" if torch.cuda.is_available() else \"cpu\")\n",
    "print(f\"DEVICE: {dev}\")"
   ]
  },
  {
   "cell_type": "code",
   "execution_count": 42,
   "metadata": {},
   "outputs": [
    {
     "name": "stdout",
     "output_type": "stream",
     "text": [
      "\n",
      "Making patch providers with size=8x8, flatten=False for covariates:\n",
      "\t - data/full_data/EnvironmentalRasters/Climate/BioClimatic_Average_1981-2010/\n",
      "\t - data/full_data/EnvironmentalRasters/Soilgrids/\n",
      "\t - data/full_data/EnvironmentalRasters/LandCover/LandCover_MODIS_Terra-Aqua_500m.tif\n",
      "\n",
      "Making dataset for training occurrences\n",
      "nb items = 2856818\n",
      "nb species = 2174\n",
      "nb of species with less than 50 occurrences = 468\n",
      "input shape: [(41, 8, 8)]\n",
      "\n",
      "Making dataset for validation occurrences\n",
      "nb items = 7438\n",
      "nb species = 2174\n",
      "nb of species with less than 50 occurrences = 1822\n"
     ]
    }
   ],
   "source": [
    "train_data, val_data, model, optimizer, multimodal = setup_model(\n",
    "    model_setup=model_setup, \n",
    "    train_occ_path=train_occ_path, \n",
    "    random_bg_path=random_bg_path, \n",
    "    val_occ_path=val_occ_path, \n",
    "    n_max_low_occ=n_max_low_occ,\n",
    "    embed_shape=embed_shape, \n",
    "    learning_rate=learning_rate, \n",
    "    weight_decay=weight_decay,\n",
    "    seed=seed,\n",
    "    device=dev) "
   ]
  },
  {
   "cell_type": "code",
   "execution_count": 43,
   "metadata": {},
   "outputs": [
    {
     "data": {
      "text/plain": [
       "MultiResolutionModel(\n",
       "  (backbone): CNN(\n",
       "    (layers): Sequential(\n",
       "      (0): Conv2d(41, 256, kernel_size=(1, 1), stride=(1, 1))\n",
       "      (1): BatchNorm2d(256, eps=1e-05, momentum=0.1, affine=True, track_running_stats=True)\n",
       "      (2): ReLU()\n",
       "      (3): MaxPool2d(kernel_size=1, stride=1, padding=0, dilation=1, ceil_mode=False)\n",
       "      (4): Conv2d(256, 256, kernel_size=(1, 1), stride=(1, 1))\n",
       "      (5): BatchNorm2d(256, eps=1e-05, momentum=0.1, affine=True, track_running_stats=True)\n",
       "      (6): ReLU()\n",
       "      (7): MaxPool2d(kernel_size=1, stride=1, padding=0, dilation=1, ceil_mode=False)\n",
       "      (8): Conv2d(256, 256, kernel_size=(1, 1), stride=(1, 1))\n",
       "      (9): BatchNorm2d(256, eps=1e-05, momentum=0.1, affine=True, track_running_stats=True)\n",
       "      (10): ReLU()\n",
       "      (11): MaxPool2d(kernel_size=1, stride=1, padding=0, dilation=1, ceil_mode=False)\n",
       "      (12): Conv2d(256, 256, kernel_size=(1, 1), stride=(1, 1))\n",
       "      (13): BatchNorm2d(256, eps=1e-05, momentum=0.1, affine=True, track_running_stats=True)\n",
       "      (14): ReLU()\n",
       "      (15): MaxPool2d(kernel_size=1, stride=1, padding=0, dilation=1, ceil_mode=False)\n",
       "    )\n",
       "  )\n",
       "  (aspp_block): ASPP_seg(\n",
       "    (crop): CenterCrop(size=(1, 1))\n",
       "  )\n",
       "  (linear): Linear(in_features=6522, out_features=2174, bias=True)\n",
       ")"
      ]
     },
     "execution_count": 43,
     "metadata": {},
     "output_type": "execute_result"
    }
   ],
   "source": [
    "model = model.to(dev)\n",
    "model"
   ]
  },
  {
   "cell_type": "code",
   "execution_count": 44,
   "metadata": {},
   "outputs": [
    {
     "name": "stderr",
     "output_type": "stream",
     "text": [
      "  0%|          | 0/571364 [00:00<?, ?it/s]\n"
     ]
    }
   ],
   "source": [
    "train_loader = torch.utils.data.DataLoader(train_data, shuffle=True, batch_size=5)\n",
    "for po_inputs, bg_inputs, labels in tqdm(train_loader):\n",
    "    labels = labels.to(torch.float32)\n",
    "    inputs = po_inputs[0].to(torch.float32).to(dev)\n",
    "    break"
   ]
  },
  {
   "cell_type": "code",
   "execution_count": 45,
   "metadata": {},
   "outputs": [
    {
     "data": {
      "text/plain": [
       "torch.Size([5, 41, 8, 8])"
      ]
     },
     "execution_count": 45,
     "metadata": {},
     "output_type": "execute_result"
    }
   ],
   "source": [
    "x = inputs\n",
    "x.shape"
   ]
  },
  {
   "cell_type": "code",
   "execution_count": 46,
   "metadata": {},
   "outputs": [
    {
     "data": {
      "text/plain": [
       "torch.Size([5, 256, 8, 8])"
      ]
     },
     "execution_count": 46,
     "metadata": {},
     "output_type": "execute_result"
    }
   ],
   "source": [
    "x1 = model.backbone(x)\n",
    "x1.shape"
   ]
  },
  {
   "cell_type": "code",
   "execution_count": 48,
   "metadata": {},
   "outputs": [
    {
     "data": {
      "text/plain": [
       "3"
      ]
     },
     "execution_count": 48,
     "metadata": {},
     "output_type": "execute_result"
    }
   ],
   "source": [
    "len(model.aspp_block.aspp_branches)"
   ]
  },
  {
   "cell_type": "code",
   "execution_count": 55,
   "metadata": {},
   "outputs": [],
   "source": [
    "branches = [nn.Sequential(\n",
    "            nn.Conv2d(256, 512, k), \n",
    "            nn.ReLU()).to(dev) for k in [1,3,5]]"
   ]
  },
  {
   "cell_type": "code",
   "execution_count": 56,
   "metadata": {},
   "outputs": [
    {
     "name": "stdout",
     "output_type": "stream",
     "text": [
      "[torch.Size([5, 512, 8, 8]), torch.Size([5, 512, 6, 6]), torch.Size([5, 512, 4, 4])]\n",
      "[torch.Size([5, 512]), torch.Size([5, 512]), torch.Size([5, 512])]\n",
      "[torch.Size([5, 2174]), torch.Size([5, 2174]), torch.Size([5, 2174])]\n"
     ]
    }
   ],
   "source": [
    "x2 = [aspp(x1) for aspp in branches]\n",
    "# x2 = [aspp(x1) for aspp in model.aspp_block.aspp_branches]\n",
    "print([x.shape for x in x2])\n",
    "x3 = [model.aspp_block.crop(xi).squeeze() for xi in x2]\n",
    "print([x.shape for x in x3])\n",
    "x4 = [l(xi) for xi, l in zip(x3, model.aspp_block.linear_layers)]\n",
    "print([x.shape for x in x4])"
   ]
  },
  {
   "cell_type": "code",
   "execution_count": 58,
   "metadata": {},
   "outputs": [
    {
     "data": {
      "text/plain": [
       "tensor([[0.3215, 0.4591, 0.2082, 0.3225, 0.1884, 0.1318, 0.1606, 0.1403],\n",
       "        [0.3205, 0.0842, 0.0795, 0.1740, 0.1709, 0.1070, 0.1303, 0.1814],\n",
       "        [0.4666, 0.2151, 0.1068, 0.1960, 0.2419, 0.1501, 0.1992, 0.2442],\n",
       "        [0.2871, 0.0000, 0.3141, 0.3357, 0.2869, 0.1918, 0.0852, 0.1889],\n",
       "        [0.4891, 0.0000, 0.2518, 0.3177, 0.2703, 0.1910, 0.0923, 0.1459],\n",
       "        [0.2320, 0.4610, 0.0950, 0.1485, 0.2045, 0.1991, 0.2501, 0.1562],\n",
       "        [0.5393, 0.6094, 0.3304, 0.2159, 0.2019, 0.1293, 0.1773, 0.2929],\n",
       "        [0.1173, 0.1944, 0.2660, 0.2605, 0.2226, 0.2258, 0.2567, 0.3533]],\n",
       "       device='cuda:0', grad_fn=<SliceBackward0>)"
      ]
     },
     "execution_count": 58,
     "metadata": {},
     "output_type": "execute_result"
    }
   ],
   "source": [
    "x2[0][0,0,:,:]"
   ]
  },
  {
   "cell_type": "code",
   "execution_count": 63,
   "metadata": {},
   "outputs": [
    {
     "data": {
      "text/plain": [
       "tensor(0.2703, device='cuda:0', grad_fn=<SelectBackward0>)"
      ]
     },
     "execution_count": 63,
     "metadata": {},
     "output_type": "execute_result"
    }
   ],
   "source": [
    "x3[0][0,0]"
   ]
  },
  {
   "cell_type": "code",
   "execution_count": 50,
   "metadata": {},
   "outputs": [
    {
     "data": {
      "text/plain": [
       "{'model_name': 'MultiResolutionModel',\n",
       " 'covariates': ['data/full_data/EnvironmentalRasters/Climate/BioClimatic_Average_1981-2010/',\n",
       "  'data/full_data/EnvironmentalRasters/Soilgrids/',\n",
       "  'data/full_data/EnvironmentalRasters/LandCover/LandCover_MODIS_Terra-Aqua_500m.tif'],\n",
       " 'patch_size': 8,\n",
       " 'backbone_params': {'n_filters': [256, 256, 256, 256],\n",
       "  'kernel_sizes': [1, 1, 1, 1],\n",
       "  'paddings': [0, 0, 0, 0],\n",
       "  'pooling_sizes': [1, 1, 1, 1]},\n",
       " 'aspp_params': {'out_channels': 512, 'kernel_sizes': [1, 3, 5]},\n",
       " 'input_shape': (41, 8, 8),\n",
       " 'output_shape': 2174}"
      ]
     },
     "execution_count": 50,
     "metadata": {},
     "output_type": "execute_result"
    }
   ],
   "source": [
    "config['env_model']"
   ]
  },
  {
   "cell_type": "code",
   "execution_count": 33,
   "metadata": {},
   "outputs": [],
   "source": [
    "x2 = model.aspp_block(x1)"
   ]
  },
  {
   "cell_type": "code",
   "execution_count": 36,
   "metadata": {},
   "outputs": [
    {
     "data": {
      "text/plain": [
       "torch.Size([5, 2174])"
      ]
     },
     "execution_count": 36,
     "metadata": {},
     "output_type": "execute_result"
    }
   ],
   "source": [
    "x2[0].shape"
   ]
  },
  {
   "cell_type": "code",
   "execution_count": 8,
   "metadata": {},
   "outputs": [
    {
     "name": "stdout",
     "output_type": "stream",
     "text": [
      "\n",
      "Making patch providers with size=8x8, flatten=False for covariates:\n",
      "\t - data/full_data/EnvironmentalRasters/Climate/BioClimatic_Average_1981-2010/\n",
      "\t - data/full_data/EnvironmentalRasters/Soilgrids/\n",
      "\t - data/full_data/EnvironmentalRasters/LandCover/LandCover_MODIS_Terra-Aqua_500m.tif\n"
     ]
    },
    {
     "ename": "KeyboardInterrupt",
     "evalue": "",
     "output_type": "error",
     "traceback": [
      "\u001b[0;31m---------------------------------------------------------------------------\u001b[0m",
      "\u001b[0;31mKeyboardInterrupt\u001b[0m                         Traceback (most recent call last)",
      "Cell \u001b[0;32mIn[8], line 4\u001b[0m\n\u001b[1;32m      2\u001b[0m \u001b[38;5;28;01mfor\u001b[39;00m model_dict \u001b[38;5;129;01min\u001b[39;00m model_setup\u001b[38;5;241m.\u001b[39mvalues():\n\u001b[1;32m      3\u001b[0m     flatten \u001b[38;5;241m=\u001b[39m \u001b[38;5;28;01mTrue\u001b[39;00m \u001b[38;5;28;01mif\u001b[39;00m model_dict[\u001b[38;5;124m'\u001b[39m\u001b[38;5;124mmodel_name\u001b[39m\u001b[38;5;124m'\u001b[39m] \u001b[38;5;241m==\u001b[39m \u001b[38;5;124m'\u001b[39m\u001b[38;5;124mMLP\u001b[39m\u001b[38;5;124m'\u001b[39m \u001b[38;5;28;01melse\u001b[39;00m \u001b[38;5;28;01mFalse\u001b[39;00m \n\u001b[0;32m----> 4\u001b[0m     providers\u001b[38;5;241m.\u001b[39mappend(\u001b[43mmake_providers\u001b[49m\u001b[43m(\u001b[49m\n\u001b[1;32m      5\u001b[0m \u001b[43m        \u001b[49m\u001b[43mmodel_dict\u001b[49m\u001b[43m[\u001b[49m\u001b[38;5;124;43m'\u001b[39;49m\u001b[38;5;124;43mcovariates\u001b[39;49m\u001b[38;5;124;43m'\u001b[39;49m\u001b[43m]\u001b[49m\u001b[43m,\u001b[49m\u001b[43m \u001b[49m\u001b[43mmodel_dict\u001b[49m\u001b[43m[\u001b[49m\u001b[38;5;124;43m'\u001b[39;49m\u001b[38;5;124;43mpatch_size\u001b[39;49m\u001b[38;5;124;43m'\u001b[39;49m\u001b[43m]\u001b[49m\u001b[43m,\u001b[49m\u001b[43m \u001b[49m\u001b[43mflatten\u001b[49m\n\u001b[1;32m      6\u001b[0m \u001b[43m    \u001b[49m\u001b[43m)\u001b[49m)\n",
      "File \u001b[0;32m~/Documents/GeoLifeCLEF/train_model.py:42\u001b[0m, in \u001b[0;36mmake_providers\u001b[0;34m(covariate_paths_list, patch_size, flatten)\u001b[0m\n\u001b[1;32m     40\u001b[0m     providers\u001b[38;5;241m.\u001b[39mappend(JpegPatchProvider(cov, size\u001b[38;5;241m=\u001b[39mpatch_size))\n\u001b[1;32m     41\u001b[0m \u001b[38;5;28;01melif\u001b[39;00m \u001b[38;5;124m'\u001b[39m\u001b[38;5;124m.tif\u001b[39m\u001b[38;5;124m'\u001b[39m \u001b[38;5;129;01min\u001b[39;00m cov:\n\u001b[0;32m---> 42\u001b[0m     providers\u001b[38;5;241m.\u001b[39mappend(\u001b[43mRasterPatchProvider\u001b[49m\u001b[43m(\u001b[49m\u001b[43mcov\u001b[49m\u001b[43m,\u001b[49m\u001b[43m \u001b[49m\u001b[43msize\u001b[49m\u001b[38;5;241;43m=\u001b[39;49m\u001b[43mpatch_size\u001b[49m\u001b[43m,\u001b[49m\u001b[43m \u001b[49m\u001b[43mflatten\u001b[49m\u001b[38;5;241;43m=\u001b[39;49m\u001b[43mflatten\u001b[49m\u001b[43m)\u001b[49m)\n\u001b[1;32m     43\u001b[0m \u001b[38;5;28;01melse\u001b[39;00m:\n\u001b[1;32m     44\u001b[0m     providers\u001b[38;5;241m.\u001b[39mappend(MultipleRasterPatchProvider(cov, size\u001b[38;5;241m=\u001b[39mpatch_size, flatten\u001b[38;5;241m=\u001b[39mflatten))\n",
      "File \u001b[0;32m~/Documents/GeoLifeCLEF/data/PatchesProviders.py:93\u001b[0m, in \u001b[0;36mRasterPatchProvider.__init__\u001b[0;34m(self, raster_path, size, flatten, normalize, fill_zero_if_error, nan_value)\u001b[0m\n\u001b[1;32m     90\u001b[0m \u001b[38;5;66;03m# iterate through all the layers\u001b[39;00m\n\u001b[1;32m     91\u001b[0m \u001b[38;5;28;01mfor\u001b[39;00m i \u001b[38;5;129;01min\u001b[39;00m \u001b[38;5;28mrange\u001b[39m(src\u001b[38;5;241m.\u001b[39mcount):\n\u001b[1;32m     92\u001b[0m     \u001b[38;5;66;03m# replace the NoData values with np.nan\u001b[39;00m\n\u001b[0;32m---> 93\u001b[0m     \u001b[38;5;28mself\u001b[39m\u001b[38;5;241m.\u001b[39mdata \u001b[38;5;241m=\u001b[39m \u001b[38;5;28;43mself\u001b[39;49m\u001b[38;5;241;43m.\u001b[39;49m\u001b[43mdata\u001b[49m\u001b[38;5;241;43m.\u001b[39;49m\u001b[43mastype\u001b[49m\u001b[43m(\u001b[49m\u001b[38;5;28;43mfloat\u001b[39;49m\u001b[43m)\u001b[49m\n\u001b[1;32m     94\u001b[0m     \u001b[38;5;28;01mif\u001b[39;00m \u001b[38;5;124m'\u001b[39m\u001b[38;5;124mSoilgrids\u001b[39m\u001b[38;5;124m'\u001b[39m \u001b[38;5;129;01min\u001b[39;00m \u001b[38;5;28mself\u001b[39m\u001b[38;5;241m.\u001b[39mraster_path:\n\u001b[1;32m     95\u001b[0m         \u001b[38;5;28mself\u001b[39m\u001b[38;5;241m.\u001b[39mdata[i] \u001b[38;5;241m=\u001b[39m np\u001b[38;5;241m.\u001b[39mwhere(np\u001b[38;5;241m.\u001b[39misclose(\u001b[38;5;28mself\u001b[39m\u001b[38;5;241m.\u001b[39mdata[i], \u001b[38;5;28mself\u001b[39m\u001b[38;5;241m.\u001b[39mnodata_value[i]), np\u001b[38;5;241m.\u001b[39mnan, \u001b[38;5;28mself\u001b[39m\u001b[38;5;241m.\u001b[39mdata[i])\n",
      "\u001b[0;31mKeyboardInterrupt\u001b[0m: "
     ]
    }
   ],
   "source": [
    "providers = []\n",
    "for model_dict in model_setup.values():\n",
    "    flatten = True if model_dict['model_name'] == 'MLP' else False \n",
    "    providers.append(make_providers(\n",
    "        model_dict['covariates'], model_dict['patch_size'], flatten\n",
    "    ))"
   ]
  },
  {
   "cell_type": "code",
   "execution_count": null,
   "metadata": {},
   "outputs": [],
   "source": [
    "train_data = PatchesDatasetCooccurrences(\n",
    "    occurrences=train_occ_path, \n",
    "    providers=providers, \n",
    "    pseudoabsences=random_bg_path, \n",
    "    n_low_occ=n_max_low_occ\n",
    ")"
   ]
  },
  {
   "cell_type": "code",
   "execution_count": null,
   "metadata": {},
   "outputs": [],
   "source": [
    "model_setup = {}\n",
    "if dict['env_model'] is not None: model_setup['env'] = config['env_model']\n",
    "if dict['sat_model'] is not None: model_setup['sat'] = config['sat_model']\n",
    "model_setup"
   ]
  },
  {
   "cell_type": "code",
   "execution_count": null,
   "metadata": {},
   "outputs": [],
   "source": [
    "[eval(f) for f in config['env_model']['covariates']]"
   ]
  },
  {
   "cell_type": "code",
   "execution_count": null,
   "metadata": {},
   "outputs": [],
   "source": [
    "config['e_model']"
   ]
  },
  {
   "cell_type": "code",
   "execution_count": null,
   "metadata": {},
   "outputs": [],
   "source": [
    "train_occ_path=po_path_sampled_25\n",
    "random_bg_path=None\n",
    "val_occ_path=pa_path\n",
    "env_model={'model_name':'ASPP', 'covariates':[bioclim_dir, soil_dir, landcover_path], 'patch_size': 10, 'embed_shape': 64, 'kernel_sizes': [1,3,3], 'dilations': [1,1,2]}\n",
    "sat_model=None\n",
    "n_max_low_occ=50\n",
    "embed_shape=None\n",
    "loss='an_full_loss'\n",
    "lambda2=None\n",
    "n_epochs=100\n",
    "batch_size=128\n",
    "learning_rate=1e-3\n",
    "seed=42"
   ]
  },
  {
   "cell_type": "code",
   "execution_count": null,
   "metadata": {},
   "outputs": [],
   "source": [
    "model_setup = {}\n",
    "if env_model is not None: model_setup['env'] = env_model\n",
    "if sat_model is not None: model_setup['sat'] = sat_model\n",
    "print(model_setup)"
   ]
  },
  {
   "cell_type": "code",
   "execution_count": null,
   "metadata": {},
   "outputs": [],
   "source": [
    "dev = torch.device(\"cuda\" if torch.cuda.is_available() else \"cpu\")\n",
    "print(f\"DEVICE: {dev}\")"
   ]
  },
  {
   "cell_type": "code",
   "execution_count": null,
   "metadata": {},
   "outputs": [],
   "source": [
    "train_data, val_data, model, optimizer, multires = setup_model(\n",
    "    model_setup, train_occ_path, random_bg_path, val_occ_path, n_max_low_occ,\n",
    "    embed_shape, learning_rate, seed)\n",
    "model = model.to(dev)"
   ]
  },
  {
   "cell_type": "code",
   "execution_count": null,
   "metadata": {},
   "outputs": [],
   "source": [
    "batch_size=10\n",
    "train_loader = torch.utils.data.DataLoader(train_data, shuffle=True, batch_size=batch_size)\n",
    "val_loader = torch.utils.data.DataLoader(val_data, shuffle=False, batch_size=batch_size)#, num_workers=4)"
   ]
  },
  {
   "cell_type": "code",
   "execution_count": null,
   "metadata": {},
   "outputs": [],
   "source": [
    "loss_fn = eval(loss)\n",
    "species_weights = torch.tensor(train_data.species_weights).to(dev)\n",
    "val_loss_fn = torch.nn.BCELoss()"
   ]
  },
  {
   "cell_type": "code",
   "execution_count": null,
   "metadata": {},
   "outputs": [],
   "source": [
    "for po_inputs, bg_inputs, labels in tqdm(train_loader):\n",
    "   labels = labels.to(torch.float32).to(dev)\n",
    "   inputs = po_inputs[0].to(torch.float32).to(dev)\n",
    "   break"
   ]
  },
  {
   "cell_type": "code",
   "execution_count": null,
   "metadata": {},
   "outputs": [],
   "source": [
    "y_pred = torch.sigmoid(model(inputs))"
   ]
  },
  {
   "cell_type": "code",
   "execution_count": null,
   "metadata": {},
   "outputs": [],
   "source": [
    "y_pred.shape"
   ]
  },
  {
   "cell_type": "code",
   "execution_count": null,
   "metadata": {},
   "outputs": [],
   "source": [
    "\n",
    "x = inputs\n",
    "x_in = [x[:, :, imin:imax, imin:imax] for imin, imax in zip(model.imins, model.imaxs)]"
   ]
  },
  {
   "cell_type": "code",
   "execution_count": null,
   "metadata": {},
   "outputs": [],
   "source": [
    "x_in[0].shape"
   ]
  },
  {
   "cell_type": "code",
   "execution_count": null,
   "metadata": {},
   "outputs": [],
   "source": [
    "m = model.aspp_branches[0].to(dev)\n",
    "m(x_in[0])"
   ]
  },
  {
   "cell_type": "code",
   "execution_count": null,
   "metadata": {},
   "outputs": [],
   "source": [
    "\n",
    "x = [aspp(xi) for aspp, xi in zip(model.aspp_branches, x_in)]"
   ]
  },
  {
   "cell_type": "code",
   "execution_count": null,
   "metadata": {},
   "outputs": [],
   "source": [
    "print([xi.get_device() for xi in x_in])"
   ]
  },
  {
   "cell_type": "code",
   "execution_count": null,
   "metadata": {},
   "outputs": [],
   "source": [
    "print(model.subpatch_sizes)\n",
    "print(model.center_idx)\n",
    "print(model.imins)\n",
    "print(model.imaxs)"
   ]
  },
  {
   "cell_type": "code",
   "execution_count": null,
   "metadata": {},
   "outputs": [],
   "source": [
    "model.center_idx"
   ]
  },
  {
   "cell_type": "code",
   "execution_count": null,
   "metadata": {},
   "outputs": [],
   "source": []
  },
  {
   "cell_type": "code",
   "execution_count": null,
   "metadata": {},
   "outputs": [],
   "source": [
    "[i >= 0 for i in imins]"
   ]
  },
  {
   "cell_type": "code",
   "execution_count": null,
   "metadata": {},
   "outputs": [],
   "source": [
    "(np.array(imaxs) < 4).all()"
   ]
  },
  {
   "cell_type": "code",
   "execution_count": null,
   "metadata": {},
   "outputs": [],
   "source": [
    "    y_pred = torch.sigmoid(model(inputs))\n"
   ]
  },
  {
   "cell_type": "code",
   "execution_count": null,
   "metadata": {},
   "outputs": [],
   "source": [
    "from torch import nn\n",
    "\n",
    "def aspp_branch(in_channels, out_channels, kernel_size, dilation):\n",
    "    '''\n",
    "    As implemented in:\n",
    "    https://github.com/yassouali/pytorch-segmentation/blob/master/models/deeplabv3_plus.py\n",
    "    '''\n",
    "    return nn.Sequential(\n",
    "        nn.Conv2d(in_channels, out_channels, kernel_size,dilation=dilation),\n",
    "            nn.BatchNorm2d(out_channels),\n",
    "            nn.ReLU(inplace=True))"
   ]
  },
  {
   "cell_type": "code",
   "execution_count": null,
   "metadata": {},
   "outputs": [],
   "source": [
    "kernel_sizes = [1, 3, 3, 3]\n",
    "dilations = [1, 1, 2, 3]\n",
    "subpatch_sizes = [(d-1)*(k-1) + k for k, d in zip(kernel_sizes, dilations)]\n",
    "print(subpatch_sizes)\n",
    "in_patch_size = 8\n",
    "center_idx = in_patch_size // 2\n",
    "print(center_idx)"
   ]
  },
  {
   "cell_type": "code",
   "execution_count": null,
   "metadata": {},
   "outputs": [],
   "source": [
    "in_channels = 41\n",
    "out_channels = 64\n",
    "aspp_branches = [aspp_branch(in_channels, out_channels, k, d) for k, d in zip(kernel_sizes, dilations)]\n",
    "len(aspp_branches)"
   ]
  },
  {
   "cell_type": "code",
   "execution_count": null,
   "metadata": {},
   "outputs": [],
   "source": [
    "x = po_inputs[0].to(torch.float32)\n",
    "imins = [int(center_idx - (s-1)/2) for s in subpatch_sizes]\n",
    "imaxs = [int(center_idx + (s-1)/2 + 1) for s in subpatch_sizes]\n",
    "x_in = [x[:, :, imin:imax, imin:imax] for imin, imax in zip(imins, imaxs)]\n",
    "x_out = [aspp(xi) for aspp, xi in zip(aspp_branches, x_in)]"
   ]
  },
  {
   "cell_type": "code",
   "execution_count": null,
   "metadata": {},
   "outputs": [],
   "source": [
    "print([o.shape for o in x_out])"
   ]
  },
  {
   "cell_type": "code",
   "execution_count": null,
   "metadata": {},
   "outputs": [],
   "source": [
    "x = torch.cat(x_out, dim=1).squeeze()\n",
    "print(x.shape)"
   ]
  },
  {
   "cell_type": "code",
   "execution_count": null,
   "metadata": {},
   "outputs": [],
   "source": [
    "l = nn.Linear(256, 10)\n",
    "l(x).shape"
   ]
  },
  {
   "cell_type": "code",
   "execution_count": null,
   "metadata": {},
   "outputs": [],
   "source": [
    "kernel_sizes = [1, 3, 3, 3]\n",
    "dilations = [1, 1, 2, 3]\n",
    "subpatch_sizes = [(d-1)*(k-1) + k for k, d in zip(kernel_sizes, dilations)]\n",
    "print(subpatch_sizes)\n",
    "in_patch_size = 9\n",
    "center_idx = in_patch_size // 2\n",
    "print(center_idx)"
   ]
  },
  {
   "cell_type": "code",
   "execution_count": null,
   "metadata": {},
   "outputs": [],
   "source": [
    "imins = [int(center_idx - (s-1)/2) for s in subpatch_sizes]\n",
    "imaxs = [int(center_idx + (s-1)/2 + 1) for s in subpatch_sizes]\n",
    "x_in = [x[:, imin:imax, imin:imax] for imin, imax in zip(imins, imaxs)]\n",
    "print([y.shape for y in x_in])"
   ]
  },
  {
   "cell_type": "code",
   "execution_count": null,
   "metadata": {},
   "outputs": [],
   "source": [
    "in_channels = 41\n",
    "out_channels = 128\n",
    "aspp_branches = [aspp_branch(in_channels, out_channels, k, d) for k, d in zip(kernel_sizes, dilations)]"
   ]
  },
  {
   "cell_type": "code",
   "execution_count": null,
   "metadata": {},
   "outputs": [],
   "source": [
    "xi = x_in[0].to(torch.double)\n",
    "aspp = aspp_branches[0]\n",
    "print(xi.shape)\n",
    "print(aspp)"
   ]
  },
  {
   "cell_type": "code",
   "execution_count": null,
   "metadata": {},
   "outputs": [],
   "source": [
    "import pdb\n",
    "pdb.set_trace()\n",
    "aspp(xi)"
   ]
  },
  {
   "cell_type": "code",
   "execution_count": null,
   "metadata": {},
   "outputs": [],
   "source": [
    "x_out = [torch.rand((out_channels, 1, 1)) for i in range(5)]"
   ]
  },
  {
   "cell_type": "code",
   "execution_count": null,
   "metadata": {},
   "outputs": [],
   "source": [
    "torch.cat(x_out, dim=0).shape"
   ]
  },
  {
   "cell_type": "code",
   "execution_count": null,
   "metadata": {},
   "outputs": [],
   "source": [
    "item = train_data.items.iloc[0]"
   ]
  },
  {
   "cell_type": "code",
   "execution_count": null,
   "metadata": {},
   "outputs": [],
   "source": [
    "print(f\"{p.n_rows} - ({item.lat} - {p.y_min}) / {p.y_resolution})\")\n",
    "print(p.n_rows - (item.lat - p.y_min) / p.y_resolution)\n",
    "x = int(p.n_rows - (item.lat - p.y_min) / p.y_resolution)\n",
    "y = int((item.lon - p.x_min) / p.x_resolution)\n",
    "print(x, y)"
   ]
  },
  {
   "cell_type": "code",
   "execution_count": null,
   "metadata": {},
   "outputs": [],
   "source": [
    "print(f\"{x} - ({p.patch_size} // 2), {x} + ({p.patch_size} // 2)\")\n",
    "print(x - (p.patch_size // 2), x + (p.patch_size // 2))"
   ]
  },
  {
   "cell_type": "code",
   "execution_count": null,
   "metadata": {},
   "outputs": [],
   "source": [
    "print(f\"{y} - ({p.patch_size} // 2), {y} + ({p.patch_size} // 2)\")\n",
    "print(y - (p.patch_size // 2), y + (p.patch_size // 2))"
   ]
  },
  {
   "cell_type": "code",
   "execution_count": null,
   "metadata": {},
   "outputs": [],
   "source": [
    "patch_data = [p.data[i, x - (p.patch_size // 2): x + (p.patch_size // 2), y - (p.patch_size // 2): y + (p.patch_size // 2)] for i in range(p.nb_layers)]\n"
   ]
  },
  {
   "cell_type": "code",
   "execution_count": null,
   "metadata": {},
   "outputs": [],
   "source": [
    "patch_data[0].shape"
   ]
  },
  {
   "cell_type": "code",
   "execution_count": null,
   "metadata": {},
   "outputs": [],
   "source": [
    "x = np.array([1,2,3,4,5,7,5,8,4,7,3,67,3,2,8,3,5,7,2,6,5,6])\n",
    "x[3:8]"
   ]
  },
  {
   "cell_type": "code",
   "execution_count": null,
   "metadata": {},
   "outputs": [],
   "source": [
    "4511-4447"
   ]
  },
  {
   "cell_type": "code",
   "execution_count": null,
   "metadata": {},
   "outputs": [],
   "source": [
    "for i, key in enumerate(model_setup.keys()):\n",
    "    model_setup[key]['input_shape'] = train_data[0][0][i].shape\n",
    "    if multires:\n",
    "        assert embed_shape is not None\n",
    "        model_setup[key]['output_shape'] = embed_shape\n",
    "    else:\n",
    "        model_setup[key]['output_shape'] = train_data.n_species\n",
    "print([[m['input_shape'], m['output_shape']] for m in model_setup.values()])"
   ]
  },
  {
   "cell_type": "code",
   "execution_count": null,
   "metadata": {},
   "outputs": [],
   "source": [
    "val_data = PatchesDatasetCooccurrences(\n",
    "    occurrences=val_occ_path,\n",
    "    providers=providers, \n",
    "    species=train_data.species, \n",
    "    n_low_occ=n_max_low_occ\n",
    ")"
   ]
  },
  {
   "cell_type": "code",
   "execution_count": null,
   "metadata": {},
   "outputs": [],
   "source": [
    "train_loader = torch.utils.data.DataLoader(train_data, shuffle=True, batch_size=batch_size)\n",
    "val_loader = torch.utils.data.DataLoader(val_data, shuffle=False, batch_size=batch_size)#, num_workers=4)"
   ]
  },
  {
   "cell_type": "code",
   "execution_count": null,
   "metadata": {},
   "outputs": [],
   "source": [
    "model_list = [make_model(model_dict) for model_dict in model_setup.values()]\n",
    "if multires:\n",
    "    model = MultiScaleModel(\n",
    "        model_list[0], model_list[1], train_data.n_species, embed_shape, embed_shape\n",
    "    ).to(dev)\n",
    "else:\n",
    "    model = model_list[0].to(dev)\n",
    "optimizer = torch.optim.SGD(model.parameters(), lr=1e-3)\n",
    "\n",
    "# loss functions\n",
    "loss_fn = eval(loss)\n",
    "species_weights = torch.tensor(train_data.species_weights).to(dev)\n",
    "val_loss_fn = torch.nn.BCELoss()"
   ]
  },
  {
   "cell_type": "code",
   "execution_count": null,
   "metadata": {},
   "outputs": [],
   "source": [
    "arch ='resnet18'\n",
    "block = BasicBlock\n",
    "layers = [2, 2, 2, 2]\n",
    "pretrained = False# 'ResNet18_Weights.IMAGENET1K_V1' \n",
    "progress = True\n",
    "\n",
    "model = ResNet(block, layers, **kwargs)\n",
    "    # if pretrained:\n",
    "    #     state_dict = load_state_dict_from_url(model_urls[arch],\n",
    "    #                                           progress=progress)\n",
    "    #     model.load_state_dict(state_dict)"
   ]
  },
  {
   "cell_type": "code",
   "execution_count": null,
   "metadata": {},
   "outputs": [],
   "source": [
    "for po_inputs, bg_inputs, labels in tqdm(train_loader):\n",
    "    labels = labels.to(torch.float32).to(dev) \n",
    "    print(labels.shape)\n",
    "\n",
    "    if multires:\n",
    "        inputsA = po_inputs[0].to(torch.float32).to(dev)\n",
    "        inputsB = po_inputs[1].to(torch.float32).to(dev)\n",
    "        y_pred = torch.sigmoid(model(inputsA, inputsB))\n",
    "\n",
    "    else:\n",
    "        if random_bg_path is None:\n",
    "            inputs = po_inputs[0].to(torch.float32).to(dev)\n",
    "            print(po_inputs[0].shape)\n",
    "        else:\n",
    "            inputs = torch.cat((po_inputs[0], bg_inputs[0]), 0).to(torch.float32).to(dev)\n",
    "            print(po_inputs[0].shape, len(po_inputs))\n",
    "            print(len(bg_inputs), bg_inputs[0].shape)\n",
    "            print(inputs.shape)\n",
    "        y_pred = torch.sigmoid(model(inputs))\n",
    "            \n",
    "    if random_bg_path is None:\n",
    "       train_loss = loss_fn(y_pred, labels, species_weights)\n",
    "          \n",
    "    else:\n",
    "        po_pred = y_pred[0:len(po_inputs[0])]\n",
    "        bg_pred = y_pred[len(po_inputs[0]):]        \n",
    "        train_loss = loss_fn(po_pred, labels, species_weights, lambda2, bg_pred)\n",
    "\n",
    "    print(train_loss)\n",
    "    break"
   ]
  },
  {
   "cell_type": "code",
   "execution_count": null,
   "metadata": {},
   "outputs": [],
   "source": [
    "torch.sigmoid(model_list[0](inputsA)).min()"
   ]
  },
  {
   "cell_type": "code",
   "execution_count": null,
   "metadata": {},
   "outputs": [],
   "source": [
    "torch.sigmoid(model_list[1](inputsB)).min()"
   ]
  },
  {
   "cell_type": "code",
   "execution_count": null,
   "metadata": {},
   "outputs": [],
   "source": [
    "po_inputs[0].shape"
   ]
  },
  {
   "cell_type": "code",
   "execution_count": null,
   "metadata": {},
   "outputs": [],
   "source": [
    "    \n",
    "model = get_model(model, input_shape[0], n_species, model_params, patch_size).to(dev)\n"
   ]
  },
  {
   "cell_type": "code",
   "execution_count": null,
   "metadata": {},
   "outputs": [],
   "source": [
    "flatten = [True if model == 'MLP' else False for model in models]\n",
    "flatten"
   ]
  },
  {
   "cell_type": "code",
   "execution_count": null,
   "metadata": {},
   "outputs": [],
   "source": [
    "providers = []\n",
    "for group, patch_size, f in zip(covariates, patch_sizes, flatten):\n",
    "\n",
    "    group_providers = []\n",
    "    for cov in group:\n",
    "        print(f\"\\t - {cov}\")\n",
    "        if 'SatelliteImages' in cov:\n",
    "            if f and patch_size != 1: \n",
    "                exit(\"jpeg patch provider for satellite images cannot flatten image patches\")\n",
    "            group_providers.append(JpegPatchProvider(cov, size=patch_size))\n",
    "        elif '.tif' in cov:\n",
    "            group_providers.append(RasterPatchProvider(cov, size=patch_size, flatten=f))\n",
    "        else:\n",
    "            group_providers.append(MultipleRasterPatchProvider(cov, size=patch_size, flatten=f))\n",
    "\n",
    "    providers.append(group_providers)"
   ]
  },
  {
   "cell_type": "code",
   "execution_count": null,
   "metadata": {},
   "outputs": [],
   "source": [
    "train_data = MultiScalePatchesDatasetCooccurrences(occurrences=train_occ_path, providersA=providers[0], providersB=providers[1])"
   ]
  },
  {
   "cell_type": "code",
   "execution_count": null,
   "metadata": {},
   "outputs": [],
   "source": [
    "tmp = train_data[0]"
   ]
  },
  {
   "cell_type": "code",
   "execution_count": null,
   "metadata": {},
   "outputs": [],
   "source": []
  },
  {
   "cell_type": "code",
   "execution_count": null,
   "metadata": {},
   "outputs": [],
   "source": [
    "index = 0\n",
    "item = train_data.items.iloc[index][train_data.item_columns].to_dict()\n",
    "item_species = train_data.items.iloc[index][train_data.label_name]\n",
    "labels = 1 * np.isin(train_data.species, item_species)\n",
    "labels"
   ]
  },
  {
   "cell_type": "code",
   "execution_count": null,
   "metadata": {},
   "outputs": [],
   "source": []
  },
  {
   "cell_type": "code",
   "execution_count": null,
   "metadata": {},
   "outputs": [],
   "source": []
  },
  {
   "cell_type": "code",
   "execution_count": null,
   "metadata": {},
   "outputs": [],
   "source": []
  },
  {
   "cell_type": "code",
   "execution_count": null,
   "metadata": {},
   "outputs": [],
   "source": []
  },
  {
   "cell_type": "code",
   "execution_count": null,
   "metadata": {},
   "outputs": [],
   "source": [
    "next(iter(train_loader))"
   ]
  },
  {
   "cell_type": "code",
   "execution_count": null,
   "metadata": {},
   "outputs": [],
   "source": [
    "tmp = train_data[0]"
   ]
  },
  {
   "cell_type": "code",
   "execution_count": null,
   "metadata": {},
   "outputs": [],
   "source": [
    "tmp[1].shape"
   ]
  },
  {
   "cell_type": "code",
   "execution_count": null,
   "metadata": {},
   "outputs": [],
   "source": [
    "input_shapes = [input.shape for input in train_data[0][0]]\n",
    "n_species = train_data.n_species\n",
    "print(f\"input shape = {input_shapes}\")"
   ]
  },
  {
   "cell_type": "code",
   "execution_count": null,
   "metadata": {},
   "outputs": [],
   "source": [
    "n_max_low_occ = 50\n",
    "low_occ_species = train_data.species_counts[train_data.species_counts <= n_max_low_occ].index\n",
    "low_occ_species_idx = np.where(np.isin(train_data.species, low_occ_species))[0]\n",
    "print(f\"nb of species with less than {n_max_low_occ} occurrences = {len(low_occ_species_idx)}\")"
   ]
  },
  {
   "cell_type": "code",
   "execution_count": null,
   "metadata": {},
   "outputs": [],
   "source": [
    "val_data = MultiScalePatchesDatasetCooccurrences(occurrences=val_occ_path, providers=providers, species=train_data.species)"
   ]
  },
  {
   "cell_type": "code",
   "execution_count": null,
   "metadata": {},
   "outputs": [],
   "source": [
    "batch_size = 2\n",
    "train_loader = torch.utils.data.DataLoader(train_data, shuffle=True, batch_size=batch_size)\n",
    "val_loader = torch.utils.data.DataLoader(val_data, shuffle=False, batch_size=batch_size)"
   ]
  },
  {
   "cell_type": "code",
   "execution_count": null,
   "metadata": {},
   "outputs": [],
   "source": [
    "modelA = MLP(input_shapes[0][0], 512, 5, 1000)\n",
    "modelB = get_resnet(512)\n",
    "model = MultiScaleModel(modelA, modelB, 512, 512, n_species)"
   ]
  },
  {
   "cell_type": "code",
   "execution_count": null,
   "metadata": {},
   "outputs": [],
   "source": [
    "optimizer = torch.optim.SGD(model.parameters(), lr=1e-3)\n",
    "loss_fn = eval(loss)\n",
    "species_weights = torch.tensor(train_data.species_weights)\n",
    "val_loss_fn = torch.nn.BCELoss()"
   ]
  },
  {
   "cell_type": "code",
   "execution_count": null,
   "metadata": {},
   "outputs": [],
   "source": [
    "batch = next(iter(train_loader))"
   ]
  },
  {
   "cell_type": "code",
   "execution_count": null,
   "metadata": {},
   "outputs": [],
   "source": [
    "batch[0][0].shape"
   ]
  },
  {
   "cell_type": "code",
   "execution_count": null,
   "metadata": {},
   "outputs": [],
   "source": [
    "(inputsA, inputsB), labels = batch\n",
    "print(inputsA.shape, inputsB.shape, labels.shape)"
   ]
  },
  {
   "cell_type": "code",
   "execution_count": null,
   "metadata": {},
   "outputs": [],
   "source": [
    "inputsA = inputsA.to(torch.float32)\n",
    "inputsB = inputsB.to(torch.float32)\n",
    "out = model(inputsA, inputsB)"
   ]
  },
  {
   "cell_type": "code",
   "execution_count": null,
   "metadata": {},
   "outputs": [],
   "source": [
    "out = torch.sigmoid(out)"
   ]
  },
  {
   "cell_type": "code",
   "execution_count": null,
   "metadata": {},
   "outputs": [],
   "source": [
    "out.shape"
   ]
  },
  {
   "cell_type": "code",
   "execution_count": null,
   "metadata": {},
   "outputs": [],
   "source": [
    "1e-28 + 1e-05 * np.abs(p.nodata_value[0])"
   ]
  },
  {
   "cell_type": "code",
   "execution_count": null,
   "metadata": {},
   "outputs": [],
   "source": [
    "plt.imshow(np.where(np.isclose(p.data, p.nodata_value[0], atol=1e-8), np.nan, p.data)[0,3500:4000,3000:4000])"
   ]
  },
  {
   "cell_type": "code",
   "execution_count": null,
   "metadata": {},
   "outputs": [],
   "source": [
    "p_soil.rasters_providers[0].nodata_value"
   ]
  },
  {
   "cell_type": "code",
   "execution_count": null,
   "metadata": {},
   "outputs": [],
   "source": [
    "for p in p_bioclim.rasters_providers[1:]:\n",
    "    pseudoabsence_locations += np.where(p.data != 0, 1, 0)\n"
   ]
  },
  {
   "cell_type": "code",
   "execution_count": null,
   "metadata": {},
   "outputs": [],
   "source": [
    "np.sum(np.where(pseudoabsence_locations != 0, 1, 0))"
   ]
  },
  {
   "cell_type": "code",
   "execution_count": null,
   "metadata": {},
   "outputs": [],
   "source": [
    "5467*8143"
   ]
  },
  {
   "cell_type": "code",
   "execution_count": null,
   "metadata": {},
   "outputs": [],
   "source": [
    "for p in p_bioclim.rasters_providers:\n",
    "    print(f\"{p.name}: xmin={p.x_min} / ymin={p.y_min} / nrows={p.n_rows} / ncold={p.n_cols} / nlayers={p.nb_layers}\")"
   ]
  },
  {
   "cell_type": "code",
   "execution_count": null,
   "metadata": {},
   "outputs": [],
   "source": [
    "for p in p_soil.rasters_providers:\n",
    "    print(f\"{p.name}: xmin={p.x_min} / ymin={p.y_min} / nrows={p.n_rows} / ncold={p.n_cols} / nlayers={p.nb_layers}\")"
   ]
  },
  {
   "cell_type": "code",
   "execution_count": null,
   "metadata": {},
   "outputs": [],
   "source": [
    "# patch_size = 1\n",
    "# flatten = True \n",
    "# p_bioclim = MultipleRasterPatchProvider(bioclim_dir, size=patch_size, flatten=flatten) \n",
    "# p_soil = MultipleRasterPatchProvider(soil_dir, size=patch_size, flatten=flatten) \n",
    "# p_landcover = RasterPatchProvider(landcover_dir, size=patch_size, flatten=flatten)\n",
    "p_sat = JpegPatchProvider(sat_dir, size = 128)"
   ]
  },
  {
   "cell_type": "code",
   "execution_count": null,
   "metadata": {},
   "outputs": [],
   "source": [
    "train_data = PatchesDatasetCooccurrences(occurrences=po_path, providers=(p_sat))\n",
    "print(f\"\\nTRAINING DATA: n_items={len(train_data)}, n_species={len(train_data.species)}\")\n",
    "print(train_data[0][0].shape, train_data[0][1].shape)\n",
    "\n",
    "n_features = train_data[0][0].shape[0]\n",
    "n_species = len(train_data.species)\n",
    "print(f\"nb of features = {n_features}\")\n",
    "\n",
    "val_data = PatchesDatasetCooccurrences(occurrences=pa_path, providers=(p_sat), species=train_data.species)\n",
    "print(f\"\\nVALIDATION DATA: n_items={len(val_data)}, n_species={len(val_data.species)}\")\n",
    "print(val_data[0][0].shape, val_data[0][1].shape)"
   ]
  },
  {
   "cell_type": "code",
   "execution_count": null,
   "metadata": {},
   "outputs": [],
   "source": [
    "low_occ_species = train_data.species_counts[train_data.species_counts < 50].index\n",
    "low_occ_species"
   ]
  },
  {
   "cell_type": "code",
   "execution_count": null,
   "metadata": {},
   "outputs": [],
   "source": [
    "low_occ_species_idx = np.where(np.isin(train_data.species, low_occ_species))"
   ]
  },
  {
   "cell_type": "code",
   "execution_count": null,
   "metadata": {},
   "outputs": [],
   "source": [
    "low_occ_species_idx[0].shape"
   ]
  },
  {
   "cell_type": "code",
   "execution_count": null,
   "metadata": {},
   "outputs": [],
   "source": [
    "val_loader = torch.utils.data.DataLoader(val_data, shuffle=False, batch_size=1024)\n",
    "labels_list = []\n",
    "for inputs, labels in tqdm(val_loader):\n",
    "    labels_list.append(labels.numpy())\n",
    "labels = np.concatenate(labels_list)\n",
    "print(labels.shape)"
   ]
  },
  {
   "cell_type": "code",
   "execution_count": null,
   "metadata": {},
   "outputs": [],
   "source": [
    "labels[:, low_occ_species_idx].shape"
   ]
  },
  {
   "cell_type": "code",
   "execution_count": null,
   "metadata": {},
   "outputs": [],
   "source": [
    "pred = torch.rand(labels.shape).numpy()\n",
    "pred.shape"
   ]
  },
  {
   "cell_type": "code",
   "execution_count": null,
   "metadata": {},
   "outputs": [],
   "source": [
    "roc_auc_score(labels, pred)"
   ]
  },
  {
   "cell_type": "code",
   "execution_count": null,
   "metadata": {},
   "outputs": [],
   "source": [
    "roc_auc_score(labels[:, low_occ_species_idx], pred[:, low_occ_species_idx])"
   ]
  },
  {
   "cell_type": "code",
   "execution_count": null,
   "metadata": {},
   "outputs": [],
   "source": [
    ".shape"
   ]
  },
  {
   "cell_type": "code",
   "execution_count": null,
   "metadata": {},
   "outputs": [],
   "source": [
    "model = models.resnet18(weights='ResNet18_Weights.IMAGENET1K_V1')\n",
    "weights = model.conv1.weight.data.clone()\n",
    "model.conv1 = torch.nn.Conv2d(6, 64, kernel_size=(7,7), stride=(2,2),\n",
    "                              padding=(3,3), bias=False)\n",
    "# first three bands are RGB\n",
    "model.conv1.weight.data[:, :3, :, :] = weights"
   ]
  },
  {
   "cell_type": "code",
   "execution_count": null,
   "metadata": {},
   "outputs": [],
   "source": [
    "model.conv1.weight.data.size()"
   ]
  },
  {
   "cell_type": "code",
   "execution_count": null,
   "metadata": {},
   "outputs": [],
   "source": [
    "model.conv1.weight.data[:, 3:, :, :].size()"
   ]
  },
  {
   "cell_type": "code",
   "execution_count": null,
   "metadata": {},
   "outputs": [],
   "source": [
    "weights[:,0,:,:].repeat((3,1,1,1)).reshape((64,3,7,7))[0,:,:,0]"
   ]
  },
  {
   "cell_type": "code",
   "execution_count": null,
   "metadata": {},
   "outputs": [],
   "source": [
    "weights[0,0,:,0]"
   ]
  },
  {
   "cell_type": "code",
   "execution_count": null,
   "metadata": {},
   "outputs": [],
   "source": [
    "model = models.resnet18(weights='ResNet18_Weights.IMAGENET1K_V1')\n",
    "weights = model.conv1.weight.data.clone()\n",
    "model.conv1 = torch.nn.Conv2d(len(p_sat.bands_names), 64, kernel_size=(7,7), stride=(2,2),\n",
    "                              padding=(3,3), bias=False)\n",
    "# first three bands are RGB\n",
    "model.conv1.weight.data[:, :3, :, :] = weights\n",
    "# initialize weights for 4th band (NIR) to pretrained weights for R\n",
    "model.conv1.weight.data[:,-1,:,:] = weights[:,0,:,:]\n",
    "model.fc = torch.nn.Linear(512, n_species)"
   ]
  },
  {
   "cell_type": "code",
   "execution_count": null,
   "metadata": {},
   "outputs": [],
   "source": [
    "train_loader = torch.utils.data.DataLoader(train_data, shuffle=True, batch_size=100)\n",
    "optimizer = torch.optim.SGD(model.parameters(), lr=1e-3)\n",
    "loss_fn = torch.nn.BCELoss()"
   ]
  },
  {
   "cell_type": "code",
   "execution_count": null,
   "metadata": {},
   "outputs": [],
   "source": [
    "for inputs, labels in train_loader:\n",
    "    print('-----------------------')\n",
    "    inputs = inputs.to(torch.float32)\n",
    "    labels = labels.to(torch.float32)\n",
    "\n",
    "    print(inputs.size())\n",
    "    print(labels.size())\n",
    "    pred = model(inputs)\n",
    "    print(pred.size())\n",
    "    pred_sigmoid = torch.sigmoid(pred)\n",
    "    loss = loss_fn(pred_sigmoid, labels)\n",
    "    print(loss)\n",
    "    optimizer.zero_grad()\n",
    "    loss.backward()\n",
    "    optimizer.step()"
   ]
  },
  {
   "cell_type": "code",
   "execution_count": null,
   "metadata": {},
   "outputs": [],
   "source": [
    "img = (img - p_sat.stats[folder]['mean']) / p_sat.stats[folder]['std']\n",
    "img[0:4,0:4]"
   ]
  },
  {
   "cell_type": "code",
   "execution_count": null,
   "metadata": {},
   "outputs": [],
   "source": [
    "(122-77.3)/25.6\n",
    "# [[140, 134, 122],\n",
    "# [130, 124, 110],\n",
    "# [126, 118, 105],\n",
    "# [131, 123, 110]]]\n",
    "\n",
    "# {'rgb': {'mean': array([85.53290863, 89.00972544, 77.32355934]),\n",
    "#   'std': array([28.46643494, 25.3613768 , 25.57295764])},"
   ]
  },
  {
   "cell_type": "code",
   "execution_count": null,
   "metadata": {},
   "outputs": [],
   "source": [
    "\n",
    "        tensor_list = []\n",
    "        for folder in set([self.channel_folder[x] for x in self.channels]):\n",
    "            path = os.path.join(self.root_path, folder, sub_folder_1, sub_folder_2, patch_id+self.ext)\n",
    "            img = np.asarray(Image.open(path))\n",
    "            if self.normalize:\n",
    "                img = (img - self.stats[folder]['mean']) / self.stats[folder]['std']\n",
    "            if folder == 'rgb':\n",
    "                img = img.transpose((2,0,1))\n",
    "            else:\n",
    "                img = np.expand_dims(img, axis=0)\n",
    "            tensor_list.append(img)\n",
    "\n",
    "        tensor = np.concatenate(tensor_list)   "
   ]
  },
  {
   "cell_type": "code",
   "execution_count": null,
   "metadata": {},
   "outputs": [],
   "source": [
    "n_layers=5\n",
    "width=1000\n",
    "learning_rate = 1e-3\n",
    "\n",
    "checkpoint = torch.load(f\"models/0129_MLP_env_1x1_an_slds/last.pth\") \n",
    "model = MLP(n_features, n_species, n_layers, width).to(dev)\n",
    "model.load_state_dict(checkpoint['state_dict'])\n",
    "\n",
    "optimizer = torch.optim.SGD(model.parameters(), lr=learning_rate)\n",
    "optimizer.load_state_dict(checkpoint['optimizer_state_dict'])"
   ]
  },
  {
   "cell_type": "code",
   "execution_count": null,
   "metadata": {},
   "outputs": [],
   "source": [
    "batch_size = 100\n",
    "val_loader = torch.utils.data.DataLoader(val_data, shuffle=False, batch_size=batch_size)"
   ]
  },
  {
   "cell_type": "code",
   "execution_count": null,
   "metadata": {},
   "outputs": [],
   "source": [
    "model.eval()\n",
    "for inputs, labels in tqdm(val_loader):\n",
    "\n",
    "    inputs = inputs.to(torch.float32).to(dev)\n",
    "    labels = labels.to(torch.float32).to(dev) \n",
    "\n",
    "    y_pred = model(inputs)\n",
    "    y_pred_sigmoid = torch.sigmoid(y_pred)\n",
    "    break"
   ]
  },
  {
   "cell_type": "code",
   "execution_count": null,
   "metadata": {},
   "outputs": [],
   "source": [
    "from util import full_weighted_loss, log_loss, an_slds_loss"
   ]
  },
  {
   "cell_type": "code",
   "execution_count": null,
   "metadata": {},
   "outputs": [],
   "source": [
    "site_loss = ((log_loss(y_pred_sigmoid) * labels) + (log_loss(1 - y_pred_sigmoid) * (1 - labels))).sum(axis=1)\n",
    "site_loss"
   ]
  },
  {
   "cell_type": "code",
   "execution_count": null,
   "metadata": {},
   "outputs": [],
   "source": [
    "site_weight = 1 / (labels.sum(axis=1) + 1e-5)\n",
    "site_weight"
   ]
  },
  {
   "cell_type": "code",
   "execution_count": null,
   "metadata": {},
   "outputs": [],
   "source": [
    "(site_loss * site_weight)"
   ]
  },
  {
   "cell_type": "code",
   "execution_count": null,
   "metadata": {},
   "outputs": [],
   "source": [
    "labels.sum(axis=1)"
   ]
  },
  {
   "cell_type": "code",
   "execution_count": null,
   "metadata": {},
   "outputs": [],
   "source": [
    "((log_loss(y_pred_sigmoid) * labels) + (log_loss(1 - y_pred_sigmoid) * (1 - labels))).size()"
   ]
  },
  {
   "cell_type": "code",
   "execution_count": null,
   "metadata": {},
   "outputs": [],
   "source": [
    "torch.transpose((1/labels.sum(axis=1)).repeat((970,1)), 0, 1).size()"
   ]
  },
  {
   "cell_type": "code",
   "execution_count": null,
   "metadata": {},
   "outputs": [],
   "source": [
    "y_pred_sigmoid = torch.sigmoid(y_pred)"
   ]
  },
  {
   "cell_type": "code",
   "execution_count": null,
   "metadata": {},
   "outputs": [],
   "source": [
    "((log_loss(y_pred_sigmoid) * labels) + (log_loss(1 - y_pred_sigmoid) * (1 - labels)))"
   ]
  },
  {
   "cell_type": "code",
   "execution_count": null,
   "metadata": {},
   "outputs": [],
   "source": [
    "per_site_loss = ((log_loss(y_pred_sigmoid) * labels) + (log_loss(1 - y_pred_sigmoid) * (1 - labels))) * torch.transpose((1/labels.sum(axis=1)).repeat((970,1)), 0, 1)"
   ]
  },
  {
   "cell_type": "code",
   "execution_count": null,
   "metadata": {},
   "outputs": [],
   "source": [
    "((log_loss(y_pred_sigmoid) * labels) + (log_loss(1 - y_pred_sigmoid) * (1 - labels))).sum(axis=1).size()"
   ]
  },
  {
   "cell_type": "code",
   "execution_count": null,
   "metadata": {},
   "outputs": [],
   "source": [
    "(1/labels.sum(axis=1)).size()"
   ]
  },
  {
   "cell_type": "code",
   "execution_count": null,
   "metadata": {},
   "outputs": [],
   "source": [
    "site_loss = ((log_loss(y_pred_sigmoid) * labels) + (log_loss(1 - y_pred_sigmoid) * (1 - labels))).sum(axis=1)\n",
    "site_weight = (1/labels.sum(axis=1))\n",
    "print(site_loss.size(), site_weight.size())"
   ]
  },
  {
   "cell_type": "code",
   "execution_count": null,
   "metadata": {},
   "outputs": [],
   "source": [
    "(site_loss * site_weight).mean()"
   ]
  },
  {
   "cell_type": "code",
   "execution_count": null,
   "metadata": {},
   "outputs": [],
   "source": [
    "per_site_loss.sum() "
   ]
  },
  {
   "cell_type": "code",
   "execution_count": null,
   "metadata": {},
   "outputs": [],
   "source": [
    "species_weights = torch.tensor(train_data.species_weights)\n",
    "species_weights.size()"
   ]
  },
  {
   "cell_type": "code",
   "execution_count": null,
   "metadata": {},
   "outputs": [],
   "source": [
    "(log_loss(pred) * labels).shape# * species_weights.repeat((batch_size, 1))).mean()\n"
   ]
  },
  {
   "cell_type": "code",
   "execution_count": null,
   "metadata": {},
   "outputs": [],
   "source": [
    "pred * labels"
   ]
  },
  {
   "cell_type": "code",
   "execution_count": null,
   "metadata": {},
   "outputs": [],
   "source": [
    "np.ones(labels.shape[1]).shape"
   ]
  },
  {
   "cell_type": "code",
   "execution_count": null,
   "metadata": {},
   "outputs": [],
   "source": [
    "labels.shape"
   ]
  },
  {
   "cell_type": "code",
   "execution_count": null,
   "metadata": {},
   "outputs": [],
   "source": [
    "species_weights = torch.tensor(train_data.species_weights.values)"
   ]
  },
  {
   "cell_type": "code",
   "execution_count": null,
   "metadata": {},
   "outputs": [],
   "source": [
    "species_weights.repeat((100,1)).size()"
   ]
  },
  {
   "cell_type": "code",
   "execution_count": null,
   "metadata": {},
   "outputs": [],
   "source": [
    "species_weights"
   ]
  },
  {
   "cell_type": "code",
   "execution_count": null,
   "metadata": {},
   "outputs": [],
   "source": [
    "(species_weights/(species_weights-1)).repeat((batch_size,1)).size()"
   ]
  },
  {
   "cell_type": "code",
   "execution_count": null,
   "metadata": {},
   "outputs": [],
   "source": [
    "index = 0 \n",
    "item_columns=['lat','lon','patchID','dayOfYear']\n",
    "train_data.items.iloc[index][item_columns].to_dict()"
   ]
  },
  {
   "cell_type": "code",
   "execution_count": null,
   "metadata": {},
   "outputs": [],
   "source": [
    "train_data.items.iloc[index]['speciesId']"
   ]
  },
  {
   "cell_type": "code",
   "execution_count": null,
   "metadata": {},
   "outputs": [],
   "source": [
    "for inputs, labels in tqdm(train_loader):\n",
    "    print(inputs.shape, labels.shape)"
   ]
  },
  {
   "cell_type": "code",
   "execution_count": null,
   "metadata": {},
   "outputs": [],
   "source": [
    "img.shape"
   ]
  },
  {
   "cell_type": "code",
   "execution_count": null,
   "metadata": {},
   "outputs": [],
   "source": [
    "img[:,0:2,0:2]"
   ]
  },
  {
   "cell_type": "code",
   "execution_count": null,
   "metadata": {},
   "outputs": [],
   "source": [
    "((img - stats[folder]['mean']) / stats[folder]['std'])[:,0:2,0:2]"
   ]
  },
  {
   "cell_type": "code",
   "execution_count": null,
   "metadata": {},
   "outputs": [],
   "source": [
    "img_shape = np.array(Image.open(files[0], mode='r')).shape \n",
    "dims = len(img_shape)\n",
    "dims"
   ]
  },
  {
   "cell_type": "code",
   "execution_count": null,
   "metadata": {},
   "outputs": [],
   "source": [
    "img_shape"
   ]
  },
  {
   "cell_type": "code",
   "execution_count": null,
   "metadata": {},
   "outputs": [],
   "source": [
    "sums = np.array([0.0] * img_shape[2]) if dims == 3 else np.array([0.0])\n",
    "n_terms = 0\n",
    "\n",
    "for f in files:\n",
    "    img = np.array(Image.open(f, mode='r'))\n",
    "    nans = np.sum(np.isnan(img))\n",
    "    if nans != 0: \n",
    "        print(f)\n",
    "        break\n",
    "    img_sum = np.sum(img, axis=(0,1))\n",
    "    sums += img_sum\n",
    "    n_terms += img.shape[0] * img.shape[1]"
   ]
  },
  {
   "cell_type": "code",
   "execution_count": null,
   "metadata": {},
   "outputs": [],
   "source": [
    "sums"
   ]
  },
  {
   "cell_type": "code",
   "execution_count": null,
   "metadata": {},
   "outputs": [],
   "source": [
    "means = sums / n_terms\n",
    "means"
   ]
  },
  {
   "cell_type": "code",
   "execution_count": null,
   "metadata": {},
   "outputs": [],
   "source": [
    "pd.DataFrame({'mean': means}).to_csv('data/sample_data/SatelliteImages/rgb_means.csv', index=False)"
   ]
  },
  {
   "cell_type": "code",
   "execution_count": null,
   "metadata": {},
   "outputs": [],
   "source": [
    "means = pd.read_csv('data/sample_data/SatelliteImages/rgb_means.csv')\n",
    "means = np.array(means['mean'])\n",
    "means"
   ]
  },
  {
   "cell_type": "code",
   "execution_count": null,
   "metadata": {},
   "outputs": [],
   "source": [
    "sums = np.array([0.0] * img_shape[2]) if dims == 3 else np.array([0.0])\n",
    "n_terms = 0\n",
    "\n",
    "for f in files:\n",
    "    img = np.array(Image.open(f, mode='r'))\n",
    "    sum_dev_mean = np.sum(np.power(img - means, 2), axis=(0,1))\n",
    "    sums += sum_dev_mean\n",
    "    n_terms += img.shape[0] * img.shape[1]    "
   ]
  },
  {
   "cell_type": "code",
   "execution_count": null,
   "metadata": {},
   "outputs": [],
   "source": [
    "std_devs = np.power(sums / n_terms, 0.5)\n",
    "std_devs"
   ]
  },
  {
   "cell_type": "code",
   "execution_count": null,
   "metadata": {},
   "outputs": [],
   "source": [
    "pd.DataFrame({'std_dev': std_devs}).to_csv('data/sample_data/SatelliteImages/rgb_std_devs.csv', index=False)"
   ]
  },
  {
   "cell_type": "code",
   "execution_count": null,
   "metadata": {},
   "outputs": [],
   "source": [
    "datadir = 'data/full_data/'\n",
    "bioclim_dir = datadir+'EnvironmentalRasters/Climate/BioClimatic_Average_1981-2010/'\n",
    "soil_dir = datadir+'EnvironmentalRasters/Soilgrids/'\n",
    "po_path = datadir+'Presence_only_occurrences/Presences_only_train_sampled_10_percent_min_100_occurrences.csv' #Presences_only_train_sampled_25_percent_min_10_occurrences.csv'\n",
    "pa_path = datadir+'Presence_Absence_surveys/Presences_Absences_train.csv'"
   ]
  },
  {
   "cell_type": "code",
   "execution_count": null,
   "metadata": {},
   "outputs": [],
   "source": [
    "occurrences=po_path\n",
    "label_name='speciesId'\n",
    "item_columns=['lat','lon','patchID','dayOfYear']\n",
    "df = pd.read_csv(occurrences, sep=\";\", header='infer', low_memory=False)\n",
    "items = pd.DataFrame(df.groupby(item_columns)[label_name].agg(list)).reset_index()"
   ]
  },
  {
   "cell_type": "code",
   "execution_count": null,
   "metadata": {},
   "outputs": [],
   "source": [
    "root_path = sat_dir\n",
    "ext = '.jpeg'\n",
    "sub_dirs = next(os.walk(root_path))[1]\n",
    "select = [x for x in ['rgb','nir'] if x in sub_dirs]\n",
    "channels = ['red','green','blue'] + [x for x in select if x != 'rgb']\n",
    "channel_folder = {'red': 'rgb', 'green': 'rgb', 'blue': 'rgb','nir':'nir'}"
   ]
  },
  {
   "cell_type": "code",
   "execution_count": null,
   "metadata": {},
   "outputs": [],
   "source": [
    "item = items.iloc[0][item_columns].to_dict()\n",
    "patch_id = str(int(item['patchID']))\n",
    "sub_folder_1 = patch_id[-2:]\n",
    "sub_folder_2 = patch_id[-4:-2]"
   ]
  },
  {
   "cell_type": "code",
   "execution_count": null,
   "metadata": {},
   "outputs": [],
   "source": [
    "for folder in set([channel_folder[x] for x in channels]):\n",
    "    path = os.path.join(root_path, folder, sub_folder_1, sub_folder_2, patch_id+ext)\n",
    "    print(folder, path)\n",
    "    \n",
    "    img = np.asarray(Image.open(path))\n",
    "    if folder == 'rgb':\n",
    "        img = img.transpose((2,0,1))\n",
    "    else:\n",
    "        img = np.expand_dims(img, axis=0)\n",
    "    \n",
    "    stats_path = os.path.join(root_path, folder+'_stats.csv')\n",
    "    print(stats_path)\n",
    "    stats = pd.read_csv(stats_path, sep=';', index_col=0)\n",
    "    #mean, std = df.loc[0, 'mean'], df.loc[0, 'std']\n",
    "                #     img = (img-mean)/std"
   ]
  },
  {
   "cell_type": "code",
   "execution_count": null,
   "metadata": {},
   "outputs": [],
   "source": [
    "stats"
   ]
  },
  {
   "cell_type": "code",
   "execution_count": null,
   "metadata": {},
   "outputs": [],
   "source": [
    "img.shape"
   ]
  },
  {
   "cell_type": "code",
   "execution_count": null,
   "metadata": {},
   "outputs": [],
   "source": [
    "img[:,0:3,0:3]"
   ]
  },
  {
   "cell_type": "code",
   "execution_count": null,
   "metadata": {},
   "outputs": [],
   "source": [
    "for i in range(img.shape[0]):\n",
    "    img[i,:,:] = img[i,:,:] - stats.loc[i,'mean']"
   ]
  },
  {
   "cell_type": "code",
   "execution_count": null,
   "metadata": {},
   "outputs": [],
   "source": [
    "stats = pd.DataFrame({\n",
    "    'mean': np.nanmean(imgs,axis=(0,2,3)),\n",
    "    'std': np.nanstd(imgs,axis=(0,2,3))\n",
    "})\n",
    "stats\n"
   ]
  },
  {
   "cell_type": "code",
   "execution_count": null,
   "metadata": {},
   "outputs": [],
   "source": [
    "re_imgs = imgs.reshape(3,100,128,128)\n",
    "re_imgs[:, 0, 0:3, 0:3]"
   ]
  },
  {
   "cell_type": "code",
   "execution_count": null,
   "metadata": {},
   "outputs": [],
   "source": [
    "train_data = MultiScalePatchesDatasetCooccurrences(\n",
    "    occurrences=po_path, \n",
    "    providers=((p_bioclim, p_soil))\n",
    ")"
   ]
  },
  {
   "cell_type": "code",
   "execution_count": null,
   "metadata": {},
   "outputs": [],
   "source": [
    "providers = (p_bioclim, p_soil, p_sat)\n",
    "patch_sizes = [p.patch_size for p in providers]\n",
    "patch_sizes"
   ]
  },
  {
   "cell_type": "code",
   "execution_count": null,
   "metadata": {},
   "outputs": [],
   "source": [
    "train_data[0][0]"
   ]
  },
  {
   "cell_type": "code",
   "execution_count": null,
   "metadata": {},
   "outputs": [],
   "source": [
    "unique_patch_sizes = list(set(patch_sizes))\n",
    "providers_grouped = []\n",
    "for patch_size in unique_patch_sizes:\n"
   ]
  },
  {
   "cell_type": "code",
   "execution_count": null,
   "metadata": {},
   "outputs": [],
   "source": [
    "len(train_data[0][0])"
   ]
  },
  {
   "cell_type": "code",
   "execution_count": null,
   "metadata": {},
   "outputs": [],
   "source": [
    "train_data[0][0][0].shape"
   ]
  },
  {
   "cell_type": "code",
   "execution_count": null,
   "metadata": {},
   "outputs": [],
   "source": [
    "train_data[0][0][1].shape"
   ]
  },
  {
   "cell_type": "code",
   "execution_count": null,
   "metadata": {},
   "outputs": [],
   "source": [
    "train_data.n_groups"
   ]
  },
  {
   "cell_type": "code",
   "execution_count": null,
   "metadata": {},
   "outputs": [],
   "source": [
    "batch_size = 10\n",
    "train_loader = torch.utils.data.DataLoader(train_data, shuffle=True, batch_size=batch_size)"
   ]
  },
  {
   "cell_type": "code",
   "execution_count": null,
   "metadata": {},
   "outputs": [],
   "source": [
    "for inputs, labels in tqdm(train_loader):\n",
    "    inputs = inputs#.to(torch.float32)\n",
    "    labels = labels#.to(torch.float32)\n",
    "    break\n",
    "\n",
    "    env = inputs[0].to(torch.float32)\n",
    "    sat = inputs[1].to(torch.float32)\n",
    "\n",
    "    print(len(inputs))\n",
    "    print(labels.shape)\n",
    "\n",
    "    env_vars = inputs[0]\n",
    "    sat_vars = inputs[1]\n",
    "    print(env_vars.shape, sat_vars.shape)\n",
    "\n",
    "    break\n",
    "#1m32s for ((p_bioclim, p_soil), (p_sat))"
   ]
  },
  {
   "cell_type": "code",
   "execution_count": null,
   "metadata": {},
   "outputs": [],
   "source": [
    "env = inputs[0].to(torch.float32)\n",
    "sat = inputs[1].to(torch.float32)\n",
    "print(env.shape, sat.shape)"
   ]
  },
  {
   "cell_type": "code",
   "execution_count": null,
   "metadata": {},
   "outputs": [],
   "source": [
    "labels.shape"
   ]
  },
  {
   "cell_type": "code",
   "execution_count": null,
   "metadata": {},
   "outputs": [],
   "source": [
    "sat_img = train_data[0][0][1]"
   ]
  },
  {
   "cell_type": "code",
   "execution_count": null,
   "metadata": {},
   "outputs": [],
   "source": [
    "labels = train_data[0][1]"
   ]
  },
  {
   "cell_type": "code",
   "execution_count": null,
   "metadata": {},
   "outputs": [],
   "source": [
    "occurrences=po_path\n",
    "label_name='speciesId'\n",
    "item_columns=['lat','lon','patchID','dayOfYear']\n",
    "df = pd.read_csv(occurrences, sep=\";\", header='infer', low_memory=False)\n",
    "species = np.unique(df[label_name].values)\n",
    "items = pd.DataFrame(df.groupby(item_columns)[label_name].agg(list)).reset_index()\n",
    "providers = ((p_bioclim, p_soil), (p_sat))"
   ]
  },
  {
   "cell_type": "code",
   "execution_count": null,
   "metadata": {},
   "outputs": [],
   "source": [
    "patch_sizes = []\n",
    "one_provider_in_group = []\n",
    "for provider in providers:\n",
    "    try:\n",
    "        patch_sizes.append(provider.patch_size)\n",
    "        one_provider_in_group.append(True)\n",
    "    except:\n",
    "        group_patch_sizes = [p.patch_size for p in provider]\n",
    "        print('group', group_patch_sizes)\n",
    "        assert len(set(group_patch_sizes)) == 1\n",
    "        patch_sizes.append(group_patch_sizes[0])\n",
    "        one_provider_in_group.append(False)\n",
    "print(patch_sizes)\n",
    "print(one_provider_in_group)\n",
    "\n",
    "        "
   ]
  },
  {
   "cell_type": "code",
   "execution_count": null,
   "metadata": {},
   "outputs": [],
   "source": [
    "provider_list = [MetaPatchProvider(p, one_provider=one_p) for p, one_p in zip(providers, one_provider_in_group)]\n",
    "    "
   ]
  },
  {
   "cell_type": "code",
   "execution_count": null,
   "metadata": {},
   "outputs": [],
   "source": [
    "# get item\n",
    "item = items.iloc[0][item_columns].to_dict()\n",
    "item"
   ]
  },
  {
   "cell_type": "code",
   "execution_count": null,
   "metadata": {},
   "outputs": [],
   "source": [
    "patches = []\n",
    "for p in provider_list:\n",
    "    patch = p[item]\n",
    "    print(patch.shape)\n",
    "    patches.append(patch)"
   ]
  },
  {
   "cell_type": "code",
   "execution_count": null,
   "metadata": {},
   "outputs": [],
   "source": [
    "env = patches[0]\n",
    "rgb = patches[1]"
   ]
  },
  {
   "cell_type": "code",
   "execution_count": null,
   "metadata": {},
   "outputs": [],
   "source": [
    "for pro in p:\n",
    "    print(str(pro))"
   ]
  },
  {
   "cell_type": "code",
   "execution_count": null,
   "metadata": {},
   "outputs": [],
   "source": [
    "MetaPatchProvider(p_sat, one_provider=True)"
   ]
  },
  {
   "cell_type": "code",
   "execution_count": null,
   "metadata": {},
   "outputs": [],
   "source": [
    "MetaPatchProvider(providers[1], one_provider=True)"
   ]
  },
  {
   "cell_type": "code",
   "execution_count": null,
   "metadata": {},
   "outputs": [],
   "source": [
    "MetaPatchProvider(providers[0])"
   ]
  },
  {
   "cell_type": "code",
   "execution_count": null,
   "metadata": {},
   "outputs": [],
   "source": [
    "provider_patch_sizes = [p.patch_size for p in providers]\n",
    "provider_patch_sizes"
   ]
  },
  {
   "cell_type": "code",
   "execution_count": null,
   "metadata": {},
   "outputs": [],
   "source": [
    "unique_patch_sizes = list(set(provider_patch_sizes))\n",
    "num_patch_sizes = len(unique_patch_sizes)"
   ]
  },
  {
   "cell_type": "code",
   "execution_count": null,
   "metadata": {},
   "outputs": [],
   "source": [
    "for p in unique_patch_sizes:\n",
    "    idx = list(np.where(np.array(provider_patch_sizes) == p)[0])\n",
    "    print('--------------------------------------------')\n",
    "    print(p, idx)\n",
    "    one_provider = True if len(idx)==1 else False\n",
    "    meta_p = MetaPatchProvider((providers[i] for i in idx), one_provider)\n",
    "    print(meta_p)\n"
   ]
  },
  {
   "cell_type": "code",
   "execution_count": null,
   "metadata": {},
   "outputs": [],
   "source": []
  },
  {
   "cell_type": "code",
   "execution_count": null,
   "metadata": {},
   "outputs": [],
   "source": [
    "root_path = sat_dir\n",
    "sub_dirs = next(os.walk(root_path))[1]\n",
    "sub_dirs"
   ]
  },
  {
   "cell_type": "code",
   "execution_count": null,
   "metadata": {},
   "outputs": [],
   "source": [
    "# Dataset\n",
    "train_data = PatchesDataset(occurrences=po_path, providers=(p_bioclim, p_soil, p_sat))\n",
    "occurrences=po_path\n",
    "#providers=(p_bioclim, p_soil)\n",
    "label_name='speciesId'\n",
    "item_columns=['lat','lon','patchID','dayOfYear']\n",
    "df = pd.read_csv(occurrences, sep=\";\", header='infer', low_memory=False)\n",
    "species = np.unique(df[label_name].values)\n",
    "items = df[item_columns + [label_name]]"
   ]
  },
  {
   "cell_type": "code",
   "execution_count": null,
   "metadata": {},
   "outputs": [],
   "source": [
    "index = 0\n",
    "item = items.iloc[index][item_columns].to_dict()\n",
    "item"
   ]
  },
  {
   "cell_type": "code",
   "execution_count": null,
   "metadata": {},
   "outputs": [],
   "source": [
    "patch_id = str(int(item['patchID']))\n",
    "sub_folder_1 = patch_id[-2:]\n",
    "sub_folder_2 = patch_id[-4:-2]\n",
    "ext = '.jpeg'\n",
    "patch_id"
   ]
  },
  {
   "cell_type": "code",
   "execution_count": null,
   "metadata": {},
   "outputs": [],
   "source": [
    "root_path = 'data/sample_data/SatelliteImages/'\n",
    "channel_folder = {'red': 'rgb', 'green': 'rgb', 'blue': 'rgb','nir':'nir'}"
   ]
  },
  {
   "cell_type": "code",
   "execution_count": null,
   "metadata": {},
   "outputs": [],
   "source": [
    "folder = 'rgb'\n",
    "path = os.path.join(root_path, folder, sub_folder_1, sub_folder_2, patch_id+ext)\n",
    "img = np.asarray(Image.open(path)) \n",
    "img = img.transpose((2,0,1))\n",
    "img.shape"
   ]
  },
  {
   "cell_type": "code",
   "execution_count": null,
   "metadata": {},
   "outputs": [],
   "source": [
    "img[0].shape[1]"
   ]
  },
  {
   "cell_type": "code",
   "execution_count": null,
   "metadata": {},
   "outputs": [],
   "source": []
  },
  {
   "cell_type": "code",
   "execution_count": null,
   "metadata": {},
   "outputs": [],
   "source": [
    "list_tensor = {'order': [], 'tensors':[]}\n",
    "for channel, channel_filename in channels_dict.items():\n",
    "    print(channel)\n",
    "    if channel not in list_tensor['order']:\n",
    "        path = os.path.join(root_path, channel_filename, sub_folder_1, sub_folder_2, patch_id+ext)\n",
    "        print(path)\n",
    "        img = np.asarray(Image.open(path))\n",
    "        print(img.shape)\n",
    "        if channel in ['red','green','blue']:\n",
    "            img = img.transpose((2,0,1))\n",
    "            print(img.shape)"
   ]
  },
  {
   "cell_type": "code",
   "execution_count": null,
   "metadata": {},
   "outputs": [],
   "source": [
    "patch_id = str(int(item['patchID']))\n",
    "rgb_path = f\"{self.rgbnir_dir}rgb/{patch_id[-2:]}/{patch_id[-4:-2]}/{patch_id}.jpeg\"\n",
    "rgb_img = (np.asarray(Image.open(rgb_path)) / 255.0).transpose((2,0,1))\n",
    "\n",
    "nir_path = f\"{self.rgbnir_dir}nir/{patch_id[-2:]}/{patch_id[-4:-2]}/{patch_id}.jpeg\"\n",
    "nir_img = np.expand_dims(np.asarray(Image.open(nir_path)) / 255.0, axis=0)\n",
    "\n",
    "rgbnir = np.concatenate([rgb_img, nir_img])\n",
    "if self.rgbnir_patch_size != 128:\n",
    "    rgbnir = rgbnir[:, round((rgbnir[0].shape[0] - self.rgbnir_patch_size) /2):round((rgbnir[0].shape[0] + self.rgbnir_patch_size) /2),\n",
    "                                    round((rgbnir[0].shape[1] - self.rgbnir_patch_size) /2):round((rgbnir[0].shape[1] + self.rgbnir_patch_size) /2)]\n",
    "     "
   ]
  },
  {
   "cell_type": "code",
   "execution_count": null,
   "metadata": {},
   "outputs": [],
   "source": [
    "items[1]"
   ]
  },
  {
   "cell_type": "code",
   "execution_count": null,
   "metadata": {},
   "outputs": [],
   "source": [
    "#class JpegPatchProvider(PatchProvider)\n",
    "# init\n"
   ]
  },
  {
   "cell_type": "code",
   "execution_count": null,
   "metadata": {},
   "outputs": [],
   "source": [
    "print(len(train_data.species), train_data.species[0:10])"
   ]
  },
  {
   "cell_type": "code",
   "execution_count": null,
   "metadata": {},
   "outputs": [],
   "source": [
    "label_name='speciesId'\n",
    "item_columns=['lat','lon','patchID','dayOfYear']\n",
    "df = pd.read_csv(po_path, sep=\";\", header='infer', low_memory=False)\n",
    "species = train_data.species\n",
    "items = df[item_columns + [label_name]]\n",
    "items.shape"
   ]
  },
  {
   "cell_type": "code",
   "execution_count": null,
   "metadata": {},
   "outputs": [],
   "source": [
    "items2 = pd.DataFrame(df.groupby(item_columns)[label_name].agg(list)).reset_index()\n",
    "items2"
   ]
  },
  {
   "cell_type": "code",
   "execution_count": null,
   "metadata": {},
   "outputs": [],
   "source": [
    "counts = df.groupby(item_columns)[label_name].count()\n",
    "counts"
   ]
  },
  {
   "cell_type": "code",
   "execution_count": null,
   "metadata": {},
   "outputs": [],
   "source": [
    "counts[counts > 5]"
   ]
  },
  {
   "cell_type": "code",
   "execution_count": null,
   "metadata": {},
   "outputs": [],
   "source": [
    "count = 0\n",
    "for index in range(items2.shape[0]):\n",
    "    item = items2.iloc[index][item_columns].to_dict()\n",
    "    item_sps = items2.iloc[index][label_name]\n",
    "    labels = 1 * np.isin(species, item_sps)\n",
    "    if np.sum(labels) == 0:\n",
    "        print('!!!!!!!!', index)\n",
    "        count += 1\n"
   ]
  },
  {
   "cell_type": "code",
   "execution_count": null,
   "metadata": {},
   "outputs": [],
   "source": [
    "count"
   ]
  },
  {
   "cell_type": "code",
   "execution_count": null,
   "metadata": {},
   "outputs": [],
   "source": [
    "index = 0\n",
    "item = items2.iloc[index][item_columns].to_dict()\n",
    "item"
   ]
  },
  {
   "cell_type": "code",
   "execution_count": null,
   "metadata": {},
   "outputs": [],
   "source": [
    "item_sps = items2.iloc[index][label_name]\n",
    "print(len(item_sps), item_sps)"
   ]
  },
  {
   "cell_type": "code",
   "execution_count": null,
   "metadata": {},
   "outputs": [],
   "source": [
    "labels = 1 * np.isin(species, item_sps)\n",
    "labels_f = 1 * np.isin(species, item_sps_f)"
   ]
  },
  {
   "cell_type": "code",
   "execution_count": null,
   "metadata": {},
   "outputs": [],
   "source": [
    "np.all(labels == labels_f)"
   ]
  },
  {
   "cell_type": "code",
   "execution_count": null,
   "metadata": {},
   "outputs": [],
   "source": [
    "print(np.sum(labels), np.sum(labels_f))"
   ]
  },
  {
   "cell_type": "code",
   "execution_count": null,
   "metadata": {},
   "outputs": [],
   "source": [
    "items[~items['speciesId'].isin(species)]"
   ]
  },
  {
   "cell_type": "code",
   "execution_count": null,
   "metadata": {},
   "outputs": [],
   "source": [
    "index = 447\n",
    "item = items.iloc[index][item_columns].to_dict()\n",
    "item_species = items.query(\n",
    "    ' and '.join([f'{k} == {v}' for k, v in item.items()])\n",
    ")[label_name].values\n",
    "labels = 1 * np.isin(species, item_species)"
   ]
  },
  {
   "cell_type": "code",
   "execution_count": null,
   "metadata": {},
   "outputs": [],
   "source": [
    "[(s, s in species) for s in item_species]"
   ]
  },
  {
   "cell_type": "code",
   "execution_count": null,
   "metadata": {},
   "outputs": [],
   "source": [
    "print(f\"{np.sum([s in species for s in item_species])}/{len(item_species)}\")\n",
    "print(np.sum(labels))"
   ]
  },
  {
   "cell_type": "code",
   "execution_count": null,
   "metadata": {},
   "outputs": [],
   "source": [
    "# print(\"Making dataset for presence-only training data...\")\n",
    "train_data = PatchesDataset(occurrences=po_path, providers=(p_bioclim, p_soil))\n",
    "print(f\"\\nTRAINING DATA: n_items={len(train_data)}, n_species={len(train_data.species)}\")\n",
    "\n",
    "n_features = train_data[0][0].shape[0]\n",
    "n_species = len(train_data.species)\n",
    "print(f\"nb of features = {n_features}\")"
   ]
  },
  {
   "cell_type": "code",
   "execution_count": null,
   "metadata": {},
   "outputs": [],
   "source": [
    "# print(\"Making dataset for presence-absence validation data...\")\n",
    "val_data = PatchesDataset(occurrences=pa_path, providers=(p_bioclim, p_soil), species=train_data.species)\n",
    "print(f\"\\nVALIDATION DATA: n_items={len(val_data)}, n_species={len(val_data.species)}\")"
   ]
  },
  {
   "cell_type": "code",
   "execution_count": null,
   "metadata": {},
   "outputs": [],
   "source": [
    "val_data[0][0].shape"
   ]
  },
  {
   "cell_type": "code",
   "execution_count": null,
   "metadata": {},
   "outputs": [],
   "source": [
    "# data loaders\n",
    "batch_size = 1024\n",
    "# train_loader = torch.utils.data.DataLoader(train_data, shuffle=True, batch_size=batch_size, num_workers=16)\n",
    "val_loader = torch.utils.data.DataLoader(val_data, shuffle=False, batch_size=batch_size, num_workers=8)"
   ]
  },
  {
   "cell_type": "code",
   "execution_count": null,
   "metadata": {},
   "outputs": [],
   "source": [
    "run_name = '0116_MLP_env_2x2_flat_train_tinyPO'\n",
    "checkpoint = torch.load(f\"models/{run_name}/best_val_loss.pth\")\n",
    "checkpoint['epoch']"
   ]
  },
  {
   "cell_type": "code",
   "execution_count": null,
   "metadata": {},
   "outputs": [],
   "source": [
    "n_layers = 5\n",
    "width = 1000\n",
    "learning_rate = 1e-3\n",
    "\n",
    "model = MLP(n_features, n_species, n_layers, width)\n",
    "model.load_state_dict(checkpoint['state_dict'])\n",
    "optimizer = torch.optim.SGD(model.parameters(), lr=learning_rate)\n",
    "optimizer.load_state_dict(checkpoint['optimizer_state_dict'])\n",
    "loss_fn = torch.nn.BCEWithLogitsLoss()"
   ]
  },
  {
   "cell_type": "code",
   "execution_count": null,
   "metadata": {},
   "outputs": [],
   "source": [
    "model.eval()\n",
    "val_loss_list, labels_list, y_pred_list = [], [], []\n",
    "\n",
    "for inputs, labels in tqdm(val_loader):\n",
    "    inputs = inputs.to(torch.float32)\n",
    "    labels = labels.to(torch.float32)\n",
    "    labels_list.append(labels.cpu().detach().numpy())\n",
    "\n",
    "    y_pred = model(inputs)\n",
    "    y_pred_sigmoid = torch.sigmoid(y_pred)\n",
    "    y_pred_list.append(y_pred_sigmoid.cpu().detach().numpy())\n",
    "\n",
    "    val_loss = loss_fn(y_pred, labels)\n",
    "    val_loss_list.append(val_loss.cpu().detach())    \n"
   ]
  },
  {
   "cell_type": "code",
   "execution_count": null,
   "metadata": {},
   "outputs": [],
   "source": [
    "labels = np.concatenate(labels_list)\n",
    "labels.shape"
   ]
  },
  {
   "cell_type": "code",
   "execution_count": null,
   "metadata": {},
   "outputs": [],
   "source": [
    "y_pred = np.concatenate(y_pred_list)\n",
    "y_pred.shape"
   ]
  },
  {
   "cell_type": "code",
   "execution_count": null,
   "metadata": {},
   "outputs": [],
   "source": [
    "from sklearn.metrics import roc_auc_score\n",
    "roc_auc_score(labels, y_pred)\n",
    "\n",
    "# patch size = 1            AUC = 0.5725362624834227\n",
    "# patch size = 2 (flat)     AUC = 0.46973261663879734"
   ]
  }
 ],
 "metadata": {
  "kernelspec": {
   "display_name": "glc23",
   "language": "python",
   "name": "python3"
  },
  "language_info": {
   "codemirror_mode": {
    "name": "ipython",
    "version": 3
   },
   "file_extension": ".py",
   "mimetype": "text/x-python",
   "name": "python",
   "nbconvert_exporter": "python",
   "pygments_lexer": "ipython3",
   "version": "3.9.16"
  }
 },
 "nbformat": 4,
 "nbformat_minor": 2
}
