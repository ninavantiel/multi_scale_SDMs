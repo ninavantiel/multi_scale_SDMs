{
 "cells": [
  {
   "cell_type": "code",
   "execution_count": 12,
   "metadata": {},
   "outputs": [],
   "source": [
    "import itertools\n",
    "import logging\n",
    "import math\n",
    "import os\n",
    "from abc import abstractmethod\n",
    "from random import random\n",
    "\n",
    "import matplotlib.pyplot as plt\n",
    "import numpy as np\n",
    "import pyproj\n",
    "import rasterio\n",
    "from PIL import Image\n",
    "import pandas as pd"
   ]
  },
  {
   "cell_type": "code",
   "execution_count": 13,
   "metadata": {},
   "outputs": [],
   "source": [
    "#RasterPatchProvider\n",
    "data_path = 'data/sample_data/' # root path of the data\n",
    "raster_path = data_path+'EnvironmentalRasters/Climate/BioClimatic_Average_1981-2010/bio1.tif'\n",
    "size=128\n",
    "spatial_noise=0\n",
    "normalize=True\n",
    "fill_zero_if_error=False\n",
    "nan_value=0\n",
    "transformer = None\n",
    "name = os.path.basename(os.path.splitext(raster_path)[0])"
   ]
  },
  {
   "cell_type": "code",
   "execution_count": 19,
   "metadata": {},
   "outputs": [
    {
     "name": "stdout",
     "output_type": "stream",
     "text": [
      "META: {'driver': 'GTiff', 'dtype': 'uint16', 'nodata': None, 'width': 8143, 'height': 5467, 'count': 1, 'crs': CRS.from_epsg(4326), 'transform': Affine(0.0083333333, 0.0, -32.266806146449994,\n",
      "       0.0, -0.0083333333, 72.19152712905)}\n",
      "SHAPE: (1, 5467, 8143)\n",
      "NODATAVALUE: (None,)\n",
      "0\n",
      "NB LAYERS: 1\n",
      "-32.266806146449994 26.63319397795 0.0083333333 0.0083333333 5467 8143 EPSG:4326\n"
     ]
    }
   ],
   "source": [
    "with rasterio.open(raster_path) as src:\n",
    "    # read the metadata of the file\n",
    "    meta = src.meta\n",
    "    meta.update(count=src.count) # update the count of the meta to match the number of layers\n",
    "    print('META:', meta)\n",
    "\n",
    "    # read the data from the raster\n",
    "    data = src.read()\n",
    "    print('SHAPE:', data.shape)\n",
    "\n",
    "    # get the NoData value from the raster\n",
    "    nodata_value = src.nodatavals\n",
    "    print('NODATAVALUE:', nodata_value)\n",
    "\n",
    "    # iterate through all the layers\n",
    "    for i in range(src.count):\n",
    "        print(i)\n",
    "        # replace the NoData values with np.nan\n",
    "        data = data.astype(float)\n",
    "        data[i] = np.where(data[i] == nodata_value[i], np.nan, data[i])\n",
    "        if normalize:\n",
    "            data[i] = (data[i] - np.nanmean(data[i]))/np.nanstd(data[i])\n",
    "        data[i] = np.where(np.isnan(data[i]), nan_value, data[i])\n",
    "            \n",
    "    nb_layers = src.count\n",
    "    print('NB LAYERS:', nb_layers)\n",
    "\n",
    "    x_min = src.bounds.left\n",
    "    y_min = src.bounds.bottom\n",
    "    x_resolution = src.res[0]\n",
    "    y_resolution = src.res[1]\n",
    "    n_rows = src.height\n",
    "    n_cols = src.width\n",
    "    crs = src.crs\n",
    "    print(x_min, y_min, x_resolution, y_resolution, n_rows, n_cols, crs)\n",
    "    if nb_layers > 1:\n",
    "        bands_names = [name+'_'+str(i+1) for i in range(nb_layers)]\n",
    "    else:\n",
    "        bands_names = [name]\n",
    "        \n",
    "    epsg = crs.to_epsg()\n",
    "    if epsg != 4326:\n",
    "        # create a pyproj transformer object to convert lat, lon to EPSG:32738\n",
    "        transformer = pyproj.Transformer.from_crs(\"epsg:4326\", epsg, always_xy=True)\n"
   ]
  },
  {
   "cell_type": "code",
   "execution_count": 20,
   "metadata": {},
   "outputs": [
    {
     "data": {
      "text/plain": [
       "BoundingBox(left=-32.266806146449994, bottom=26.63319397795, right=35.591526915450004, top=72.19152712905)"
      ]
     },
     "execution_count": 20,
     "metadata": {},
     "output_type": "execute_result"
    }
   ],
   "source": [
    "#get item"
   ]
  }
 ],
 "metadata": {
  "kernelspec": {
   "display_name": "glc23",
   "language": "python",
   "name": "python3"
  },
  "language_info": {
   "codemirror_mode": {
    "name": "ipython",
    "version": 3
   },
   "file_extension": ".py",
   "mimetype": "text/x-python",
   "name": "python",
   "nbconvert_exporter": "python",
   "pygments_lexer": "ipython3",
   "version": "3.9.16"
  }
 },
 "nbformat": 4,
 "nbformat_minor": 2
}
